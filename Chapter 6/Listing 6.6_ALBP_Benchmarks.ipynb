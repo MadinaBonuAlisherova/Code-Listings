{
 "cells": [
  {
   "cell_type": "markdown",
   "id": "a416bdd5-cf90-4169-8094-844101b6e7d4",
   "metadata": {},
   "source": [
    "# Solving SALBP using Tabu Search"
   ]
  },
  {
   "cell_type": "code",
   "execution_count": 1,
   "id": "76b2d075-dde4-46b6-845e-1dcb70ab827f",
   "metadata": {},
   "outputs": [],
   "source": [
    "from optalgotools.algorithms import TabuSearch\n",
    "from optalgotools.problems import ALBP"
   ]
  },
  {
   "cell_type": "markdown",
   "id": "2a023cdf-e6c9-498c-8bbb-65b7e003785b",
   "metadata": {},
   "source": [
    "## SALBP bencemark datasets\n",
    "### Data is available in Appendix B of the book's GitHub repo and can be read directly using URL begins with raw."
   ]
  },
  {
   "cell_type": "code",
   "execution_count": 2,
   "id": "af098108-7351-404b-8e47-224f2d755c53",
   "metadata": {},
   "outputs": [],
   "source": [
    "data_url=\"https://raw.githubusercontent.com/Optimization-Algorithms-Book/Code-Listings/main/Appendix%20B/data/ALBP/SALBP-data-sets/precedence%20graphs/\""
   ]
  },
  {
   "cell_type": "markdown",
   "id": "35552ddf-5a56-4b22-9663-caa317ad0024",
   "metadata": {},
   "source": [
    "## MANSOOR.IN2 Problem\n",
    "## The best number of workstations for a given cycle time = 48 is 4 "
   ]
  },
  {
   "cell_type": "code",
   "execution_count": 3,
   "id": "90c022d8-2c1f-4947-aa89-8e6922893065",
   "metadata": {},
   "outputs": [
    {
     "name": "stdout",
     "output_type": "stream",
     "text": [
      "Task Duration\n"
     ]
    },
    {
     "data": {
      "text/html": [
       "<div>\n",
       "<style scoped>\n",
       "    .dataframe tbody tr th:only-of-type {\n",
       "        vertical-align: middle;\n",
       "    }\n",
       "\n",
       "    .dataframe tbody tr th {\n",
       "        vertical-align: top;\n",
       "    }\n",
       "\n",
       "    .dataframe thead th {\n",
       "        text-align: right;\n",
       "    }\n",
       "</style>\n",
       "<table border=\"1\" class=\"dataframe\">\n",
       "  <thead>\n",
       "    <tr style=\"text-align: right;\">\n",
       "      <th></th>\n",
       "      <th>Task</th>\n",
       "      <th>Duration</th>\n",
       "    </tr>\n",
       "  </thead>\n",
       "  <tbody>\n",
       "    <tr>\n",
       "      <th>0</th>\n",
       "      <td>T1</td>\n",
       "      <td>4</td>\n",
       "    </tr>\n",
       "    <tr>\n",
       "      <th>1</th>\n",
       "      <td>T2</td>\n",
       "      <td>38</td>\n",
       "    </tr>\n",
       "    <tr>\n",
       "      <th>2</th>\n",
       "      <td>T3</td>\n",
       "      <td>45</td>\n",
       "    </tr>\n",
       "    <tr>\n",
       "      <th>3</th>\n",
       "      <td>T4</td>\n",
       "      <td>12</td>\n",
       "    </tr>\n",
       "    <tr>\n",
       "      <th>4</th>\n",
       "      <td>T5</td>\n",
       "      <td>10</td>\n",
       "    </tr>\n",
       "    <tr>\n",
       "      <th>5</th>\n",
       "      <td>T6</td>\n",
       "      <td>8</td>\n",
       "    </tr>\n",
       "    <tr>\n",
       "      <th>6</th>\n",
       "      <td>T7</td>\n",
       "      <td>12</td>\n",
       "    </tr>\n",
       "    <tr>\n",
       "      <th>7</th>\n",
       "      <td>T8</td>\n",
       "      <td>10</td>\n",
       "    </tr>\n",
       "    <tr>\n",
       "      <th>8</th>\n",
       "      <td>T9</td>\n",
       "      <td>2</td>\n",
       "    </tr>\n",
       "    <tr>\n",
       "      <th>9</th>\n",
       "      <td>T10</td>\n",
       "      <td>10</td>\n",
       "    </tr>\n",
       "    <tr>\n",
       "      <th>10</th>\n",
       "      <td>T11</td>\n",
       "      <td>34</td>\n",
       "    </tr>\n",
       "  </tbody>\n",
       "</table>\n",
       "</div>"
      ],
      "text/plain": [
       "   Task Duration\n",
       "0    T1        4\n",
       "1    T2       38\n",
       "2    T3       45\n",
       "3    T4       12\n",
       "4    T5       10\n",
       "5    T6        8\n",
       "6    T7       12\n",
       "7    T8       10\n",
       "8    T9        2\n",
       "9   T10       10\n",
       "10  T11       34"
      ]
     },
     "execution_count": 3,
     "metadata": {},
     "output_type": "execute_result"
    }
   ],
   "source": [
    "# Create an ALBP instance\n",
    "albp_instance= ALBP(data_url, \"MANSOOR.IN2\", 48.0)\n",
    "print(\"Task Duration\")\n",
    "albp_instance.Get_Tasks(data_url, \"MANSOOR.IN2\")"
   ]
  },
  {
   "cell_type": "code",
   "execution_count": 4,
   "id": "caf0bdcb-2eda-4f81-a2cb-963a600ca1a6",
   "metadata": {},
   "outputs": [
    {
     "name": "stdout",
     "output_type": "stream",
     "text": [
      "Task Precedence\n"
     ]
    },
    {
     "data": {
      "text/html": [
       "<div>\n",
       "<style scoped>\n",
       "    .dataframe tbody tr th:only-of-type {\n",
       "        vertical-align: middle;\n",
       "    }\n",
       "\n",
       "    .dataframe tbody tr th {\n",
       "        vertical-align: top;\n",
       "    }\n",
       "\n",
       "    .dataframe thead th {\n",
       "        text-align: right;\n",
       "    }\n",
       "</style>\n",
       "<table border=\"1\" class=\"dataframe\">\n",
       "  <thead>\n",
       "    <tr style=\"text-align: right;\">\n",
       "      <th></th>\n",
       "      <th>TASK</th>\n",
       "      <th>IMMEDIATE_PRECEDESSOR</th>\n",
       "    </tr>\n",
       "  </thead>\n",
       "  <tbody>\n",
       "    <tr>\n",
       "      <th>0</th>\n",
       "      <td>T1</td>\n",
       "      <td>T4</td>\n",
       "    </tr>\n",
       "    <tr>\n",
       "      <th>1</th>\n",
       "      <td>T2</td>\n",
       "      <td>T4</td>\n",
       "    </tr>\n",
       "    <tr>\n",
       "      <th>2</th>\n",
       "      <td>T2</td>\n",
       "      <td>T5</td>\n",
       "    </tr>\n",
       "    <tr>\n",
       "      <th>3</th>\n",
       "      <td>T3</td>\n",
       "      <td>T11</td>\n",
       "    </tr>\n",
       "    <tr>\n",
       "      <th>4</th>\n",
       "      <td>T4</td>\n",
       "      <td>T6</td>\n",
       "    </tr>\n",
       "    <tr>\n",
       "      <th>5</th>\n",
       "      <td>T5</td>\n",
       "      <td>T7</td>\n",
       "    </tr>\n",
       "    <tr>\n",
       "      <th>6</th>\n",
       "      <td>T6</td>\n",
       "      <td>T8</td>\n",
       "    </tr>\n",
       "    <tr>\n",
       "      <th>7</th>\n",
       "      <td>T7</td>\n",
       "      <td>T9</td>\n",
       "    </tr>\n",
       "    <tr>\n",
       "      <th>8</th>\n",
       "      <td>T8</td>\n",
       "      <td>T10</td>\n",
       "    </tr>\n",
       "    <tr>\n",
       "      <th>9</th>\n",
       "      <td>T9</td>\n",
       "      <td>T10</td>\n",
       "    </tr>\n",
       "    <tr>\n",
       "      <th>10</th>\n",
       "      <td>T10</td>\n",
       "      <td>T11</td>\n",
       "    </tr>\n",
       "  </tbody>\n",
       "</table>\n",
       "</div>"
      ],
      "text/plain": [
       "   TASK IMMEDIATE_PRECEDESSOR\n",
       "0    T1                    T4\n",
       "1    T2                    T4\n",
       "2    T2                    T5\n",
       "3    T3                   T11\n",
       "4    T4                    T6\n",
       "5    T5                    T7\n",
       "6    T6                    T8\n",
       "7    T7                    T9\n",
       "8    T8                   T10\n",
       "9    T9                   T10\n",
       "10  T10                   T11"
      ]
     },
     "execution_count": 4,
     "metadata": {},
     "output_type": "execute_result"
    }
   ],
   "source": [
    "print(\"Task Precedence\")\n",
    "albp_instance.Get_Prec(data_url, \"MANSOOR.IN2\") "
   ]
  },
  {
   "cell_type": "code",
   "execution_count": 5,
   "id": "7f849c20-ac0f-4355-b018-9a3c3e288a0d",
   "metadata": {},
   "outputs": [
    {
     "name": "stdout",
     "output_type": "stream",
     "text": [
      "######## The Smoothing Index value for ['T1', 'T2', 'T4', 'T5', 'T6', 'T7', 'T9', 'T8', 'T10', 'T3', 'T11'] solution sequence is: 12.296340919151518 ########\n",
      "######## The number of workstations for ['T1', 'T2', 'T4', 'T5', 'T6', 'T7', 'T9', 'T8', 'T10', 'T3', 'T11'] solution sequence is: 5 ########\n",
      "######## The workloads of workstation for ['T1', 'T2', 'T4', 'T5', 'T6', 'T7', 'T9', 'T8', 'T10', 'T3', 'T11'] solution sequence are: [42. 44. 20. 45. 34.] ########\n",
      "5\n"
     ]
    }
   ],
   "source": [
    "# Create an instance of TS solver\n",
    "ts = TabuSearch(max_iter=20, tabu_tenure=4, neighbor_size=5, use_aspiration=True, aspiration_limit=None, use_longterm=False)\n",
    "ts.init_ts(albp_instance) \n",
    "ts.run(albp_instance, repetition=5)\n",
    "\n",
    "# Calculating the smoothing index of the solution \n",
    "# Smoothing_index(solution, WS, tasks, , show = False)\n",
    "SI = albp_instance.Smoothing_index(list(ts.s_best), ts.val_best, albp_instance.tasks, True)\n",
    "\n",
    "# Print results\n",
    "print(SI)"
   ]
  },
  {
   "cell_type": "markdown",
   "id": "5eccf5e4-d927-4ba1-9224-398ff45a8f61",
   "metadata": {},
   "source": [
    "## MITCHELL.IN2 Problem\n",
    "## The best number of workstations for a given cycle time = 26 is 5 "
   ]
  },
  {
   "cell_type": "code",
   "execution_count": 6,
   "id": "5092561a",
   "metadata": {},
   "outputs": [
    {
     "name": "stdout",
     "output_type": "stream",
     "text": [
      "######## The Smoothing Index value for ['T1', 'T3', 'T4', 'T5', 'T7', 'T2', 'T6', 'T8', 'T9', 'T10', 'T13', 'T21', 'T11', 'T14', 'T12', 'T15', 'T18', 'T16', 'T17', 'T19', 'T20'] solution sequence is: 4.979959839195493 ########\n",
      "######## The number of workstations for ['T1', 'T3', 'T4', 'T5', 'T7', 'T2', 'T6', 'T8', 'T9', 'T10', 'T13', 'T21', 'T11', 'T14', 'T12', 'T15', 'T18', 'T16', 'T17', 'T19', 'T20'] solution sequence is: 5 ########\n",
      "######## The workloads of workstation for ['T1', 'T3', 'T4', 'T5', 'T7', 'T2', 'T6', 'T8', 'T9', 'T10', 'T13', 'T21', 'T11', 'T14', 'T12', 'T15', 'T18', 'T16', 'T17', 'T19', 'T20'] solution sequence are: [18. 24. 25. 20. 18.] ########\n",
      "5\n"
     ]
    }
   ],
   "source": [
    "# albp_instance= ALBP(\"./ALBP/SALBP-data-sets/precedence graphs\", \"MITCHELL.IN2\", 26.0)\n",
    "albp_instance= ALBP(data_url, \"MITCHELL.IN2\", 26.0)\n",
    "\n",
    "ts = TabuSearch(max_iter=20, tabu_tenure=4, neighbor_size=5, use_aspiration=True, aspiration_limit=None, use_longterm=False)\n",
    "ts.init_ts(albp_instance) \n",
    "ts.run(albp_instance, repetition=5)\n",
    "\n",
    "# Calculating the smoothing index of the solution \n",
    "# Smoothing_index(solution, WS, tasks, , show = False)\n",
    "SI = albp_instance.Smoothing_index(list(ts.s_best), ts.val_best, albp_instance.tasks, True)\n",
    "\n",
    "# Print results\n",
    "print(SI)"
   ]
  },
  {
   "cell_type": "markdown",
   "id": "996f973f-c447-4edc-ac66-45843782d7da",
   "metadata": {},
   "source": [
    "## SAWYER30.IN2 Problem\n",
    "## The best number of workstations for a given cycle time = 26 is 10"
   ]
  },
  {
   "cell_type": "code",
   "execution_count": 7,
   "id": "d3d24f44",
   "metadata": {},
   "outputs": [
    {
     "name": "stdout",
     "output_type": "stream",
     "text": [
      "######## The Smoothing Index value for ['T3', 'T2', 'T17', 'T16', 'T12', 'T1', 'T13', 'T14', 'T10', 'T20', 'T15', 'T4', 'T21', 'T5', 'T22', 'T6', 'T18', 'T19', 'T7', 'T23', 'T8', 'T24', 'T25', 'T9', 'T26', 'T27', 'T11', 'T28', 'T29', 'T30'] solution sequence is: 11.846237095944574 ########\n",
      "######## The number of workstations for ['T3', 'T2', 'T17', 'T16', 'T12', 'T1', 'T13', 'T14', 'T10', 'T20', 'T15', 'T4', 'T21', 'T5', 'T22', 'T6', 'T18', 'T19', 'T7', 'T23', 'T8', 'T24', 'T25', 'T9', 'T26', 'T27', 'T11', 'T28', 'T29', 'T30'] solution sequence is: 12 ########\n",
      "######## The workloads of workstation for ['T3', 'T2', 'T17', 'T16', 'T12', 'T1', 'T13', 'T14', 'T10', 'T20', 'T15', 'T4', 'T21', 'T5', 'T22', 'T6', 'T18', 'T19', 'T7', 'T23', 'T8', 'T24', 'T25', 'T9', 'T26', 'T27', 'T11', 'T28', 'T29', 'T30'] solution sequence are: [28. 33. 21. 35. 23. 30. 32. 33. 27. 25. 35.  2.] ########\n",
      "12\n"
     ]
    }
   ],
   "source": [
    "# albp_instance= ALBP(\"./ALBP/SALBP-data-sets/precedence graphs\", \"SAWYER30.IN2\", 36.0)\n",
    "albp_instance= ALBP(data_url, \"SAWYER30.IN2\", 36.0)\n",
    "ts = TabuSearch(max_iter=20, tabu_tenure=4, neighbor_size=5, use_aspiration=True, aspiration_limit=None, use_longterm=False)\n",
    "ts.init_ts(albp_instance) \n",
    "ts.run(albp_instance, repetition=5)\n",
    "\n",
    "# Calculating the smoothing index of the solution \n",
    "# Smoothing_index(solution, WS, tasks, , show = False)\n",
    "SI = albp_instance.Smoothing_index(list(ts.s_best), ts.val_best, albp_instance.tasks, True)\n",
    "\n",
    "# Print results\n",
    "print(SI)"
   ]
  },
  {
   "cell_type": "markdown",
   "id": "ff1a1527-d522-4b71-89c2-d443b8d817f2",
   "metadata": {},
   "source": [
    "## HAHN.IN2 Problem\n",
    "## The best number of workstations for a given cycle time = 2338 is 7"
   ]
  },
  {
   "cell_type": "code",
   "execution_count": 8,
   "id": "378cf4d3",
   "metadata": {},
   "outputs": [
    {
     "name": "stdout",
     "output_type": "stream",
     "text": [
      "######## The Smoothing Index value for ['T1', 'T7', 'T6', 'T4', 'T5', 'T8', 'T9', 'T10', 'T11', 'T12', 'T15', 'T13', 'T17', 'T18', 'T14', 'T19', 'T22', 'T25', 'T26', 'T27', 'T28', 'T20', 'T21', 'T24', 'T33', 'T3', 'T29', 'T34', 'T16', 'T31', 'T52', 'T30', 'T32', 'T2', 'T23', 'T35', 'T36', 'T37', 'T39', 'T38', 'T40', 'T41', 'T42', 'T46', 'T44', 'T49', 'T47', 'T43', 'T50', 'T48', 'T45', 'T51', 'T53'] solution sequence is: 455.78488033595096 ########\n",
      "######## The number of workstations for ['T1', 'T7', 'T6', 'T4', 'T5', 'T8', 'T9', 'T10', 'T11', 'T12', 'T15', 'T13', 'T17', 'T18', 'T14', 'T19', 'T22', 'T25', 'T26', 'T27', 'T28', 'T20', 'T21', 'T24', 'T33', 'T3', 'T29', 'T34', 'T16', 'T31', 'T52', 'T30', 'T32', 'T2', 'T23', 'T35', 'T36', 'T37', 'T39', 'T38', 'T40', 'T41', 'T42', 'T46', 'T44', 'T49', 'T47', 'T43', 'T50', 'T48', 'T45', 'T51', 'T53'] solution sequence is: 7 ########\n",
      "######## The workloads of workstation for ['T1', 'T7', 'T6', 'T4', 'T5', 'T8', 'T9', 'T10', 'T11', 'T12', 'T15', 'T13', 'T17', 'T18', 'T14', 'T19', 'T22', 'T25', 'T26', 'T27', 'T28', 'T20', 'T21', 'T24', 'T33', 'T3', 'T29', 'T34', 'T16', 'T31', 'T52', 'T30', 'T32', 'T2', 'T23', 'T35', 'T36', 'T37', 'T39', 'T38', 'T40', 'T41', 'T42', 'T46', 'T44', 'T49', 'T47', 'T43', 'T50', 'T48', 'T45', 'T51', 'T53'] solution sequence are: [1411. 1689. 2052. 2309. 2327. 1968. 2270.] ########\n",
      "7\n"
     ]
    }
   ],
   "source": [
    "# albp_instance= ALBP(\"./ALBP/SALBP-data-sets/precedence graphs\", \"HAHN.IN2\", 2338.0)\n",
    "albp_instance= ALBP(data_url, \"HAHN.IN2\", 2338.0)\n",
    "ts = TabuSearch(max_iter=20, tabu_tenure=4, neighbor_size=5, use_aspiration=True, aspiration_limit=None, use_longterm=False)\n",
    "ts.init_ts(albp_instance) \n",
    "ts.run(albp_instance, repetition=5)\n",
    "\n",
    "# Calculating the smoothing index of the solution \n",
    "# Smoothing_index(solution, WS, tasks, , show = False)\n",
    "SI = albp_instance.Smoothing_index(list(ts.s_best), ts.val_best, albp_instance.tasks, True)\n",
    "\n",
    "# Print results\n",
    "print(SI)"
   ]
  },
  {
   "cell_type": "markdown",
   "id": "f0569e95-e732-4fa9-9f8c-cf54091be468",
   "metadata": {},
   "source": [
    "## GUNTHER.IN2 Problem\n",
    "## The best number of workstations for a given cycle time = 44 is 12"
   ]
  },
  {
   "cell_type": "code",
   "execution_count": 9,
   "id": "9d4a2007",
   "metadata": {
    "tags": []
   },
   "outputs": [
    {
     "name": "stdout",
     "output_type": "stream",
     "text": [
      "######## The Smoothing Index value for ['T5', 'T1', 'T12', 'T6', 'T7', 'T8', 'T10', 'T18', 'T17', 'T9', 'T14', 'T19', 'T15', 'T16', 'T2', 'T20', 'T21', 'T25', 'T3', 'T26', 'T22', 'T4', 'T30', 'T11', 'T23', 'T24', 'T31', 'T13', 'T27', 'T32', 'T33', 'T34', 'T28', 'T35', 'T29'] solution sequence is: 10.2469507659596 ########\n",
      "######## The number of workstations for ['T5', 'T1', 'T12', 'T6', 'T7', 'T8', 'T10', 'T18', 'T17', 'T9', 'T14', 'T19', 'T15', 'T16', 'T2', 'T20', 'T21', 'T25', 'T3', 'T26', 'T22', 'T4', 'T30', 'T11', 'T23', 'T24', 'T31', 'T13', 'T27', 'T32', 'T33', 'T34', 'T28', 'T35', 'T29'] solution sequence is: 13 ########\n",
      "######## The workloads of workstation for ['T5', 'T1', 'T12', 'T6', 'T7', 'T8', 'T10', 'T18', 'T17', 'T9', 'T14', 'T19', 'T15', 'T16', 'T2', 'T20', 'T21', 'T25', 'T3', 'T26', 'T22', 'T4', 'T30', 'T11', 'T23', 'T24', 'T31', 'T13', 'T27', 'T32', 'T33', 'T34', 'T28', 'T35', 'T29'] solution sequence are: [35. 44. 41. 43. 19. 32. 40. 42. 44. 28. 29. 42. 44.] ########\n",
      "13\n"
     ]
    }
   ],
   "source": [
    "# albp_instance= ALBP(\"./ALBP/SALBP-data-sets/precedence graphs\", \"GUNTHER.IN2\", 44.0)\n",
    "albp_instance= ALBP(data_url, \"GUNTHER.IN2\", 44.0)\n",
    "ts = TabuSearch(max_iter=20, tabu_tenure=4, neighbor_size=5, use_aspiration=True, aspiration_limit=None, use_longterm=False)\n",
    "ts.init_ts(albp_instance) \n",
    "ts.run(albp_instance, repetition=5)\n",
    "\n",
    "# Calculating the smoothing index of the solution \n",
    "# Smoothing_index(solution, WS, tasks, , show = False)\n",
    "SI = albp_instance.Smoothing_index(list(ts.s_best), ts.val_best, albp_instance.tasks, True)\n",
    "\n",
    "# Print results\n",
    "print(SI)"
   ]
  },
  {
   "cell_type": "markdown",
   "id": "ced8bad7-46ef-454b-8b02-7779b6bd7577",
   "metadata": {},
   "source": [
    "## BUXEY.IN2 Problem\n",
    "## The best number of workstations for a given cycle time = 47 is 7"
   ]
  },
  {
   "cell_type": "code",
   "execution_count": 10,
   "id": "eede7077",
   "metadata": {
    "scrolled": true
   },
   "outputs": [
    {
     "name": "stdout",
     "output_type": "stream",
     "text": [
      "######## The Smoothing Index value for ['T2', 'T1', 'T9', 'T3', 'T7', 'T10', 'T4', 'T25', 'T6', 'T5', 'T8', 'T13', 'T12', 'T14', 'T11', 'T16', 'T17', 'T15', 'T19', 'T18', 'T20', 'T21', 'T22', 'T23', 'T26', 'T27', 'T28', 'T24', 'T29'] solution sequence is: 9.273618495495704 ########\n",
      "######## The number of workstations for ['T2', 'T1', 'T9', 'T3', 'T7', 'T10', 'T4', 'T25', 'T6', 'T5', 'T8', 'T13', 'T12', 'T14', 'T11', 'T16', 'T17', 'T15', 'T19', 'T18', 'T20', 'T21', 'T22', 'T23', 'T26', 'T27', 'T28', 'T24', 'T29'] solution sequence is: 8 ########\n",
      "######## The workloads of workstation for ['T2', 'T1', 'T9', 'T3', 'T7', 'T10', 'T4', 'T25', 'T6', 'T5', 'T8', 'T13', 'T12', 'T14', 'T11', 'T16', 'T17', 'T15', 'T19', 'T18', 'T20', 'T21', 'T22', 'T23', 'T26', 'T27', 'T28', 'T24', 'T29'] solution sequence are: [43. 43. 47. 46. 41. 26. 44. 34.] ########\n",
      "8\n"
     ]
    }
   ],
   "source": [
    "# albp_instance= ALBP(\"./ALBP/SALBP-data-sets/precedence graphs\", \"BUXEY.IN2\", 47.0)\n",
    "albp_instance= ALBP(data_url, \"BUXEY.IN2\", 47.0)\n",
    "ts = TabuSearch(max_iter=20, tabu_tenure=4, neighbor_size=5, use_aspiration=True, aspiration_limit=None, use_longterm=False)\n",
    "ts.init_ts(albp_instance) \n",
    "ts.run(albp_instance, repetition=5)\n",
    "\n",
    "# Calculating the smoothing index of the solution \n",
    "# Smoothing_index(solution, WS, tasks, , show = False)\n",
    "SI = albp_instance.Smoothing_index(list(ts.s_best), ts.val_best, albp_instance.tasks, True)\n",
    "\n",
    "# Print results\n",
    "print(SI)"
   ]
  },
  {
   "cell_type": "markdown",
   "id": "fbfc20b6-d9d7-4e6e-b758-39541bd343e8",
   "metadata": {},
   "source": [
    "## LUTZ2.IN2 Problem\n",
    "## The best number of workstations for a given cycle time = 11 is 49"
   ]
  },
  {
   "cell_type": "code",
   "execution_count": 11,
   "id": "fda64e5a",
   "metadata": {},
   "outputs": [
    {
     "name": "stdout",
     "output_type": "stream",
     "text": [
      "######## The Smoothing Index value for ['T1', 'T2', 'T3', 'T4', 'T5', 'T6', 'T7', 'T9', 'T11', 'T12', 'T10', 'T13', 'T14', 'T15', 'T17', 'T8', 'T18', 'T30', 'T20', 'T19', 'T21', 'T22', 'T23', 'T24', 'T16', 'T54', 'T25', 'T32', 'T55', 'T56', 'T27', 'T57', 'T63', 'T28', 'T60', 'T35', 'T36', 'T29', 'T26', 'T37', 'T65', 'T38', 'T59', 'T39', 'T58', 'T61', 'T43', 'T45', 'T46', 'T64', 'T66', 'T31', 'T62', 'T67', 'T47', 'T49', 'T40', 'T42', 'T50', 'T33', 'T51', 'T34', 'T41', 'T44', 'T52', 'T53', 'T71', 'T73', 'T69', 'T70', 'T68', 'T74', 'T72', 'T48', 'T75', 'T77', 'T76', 'T80', 'T78', 'T79', 'T81', 'T82', 'T84', 'T83', 'T85', 'T86', 'T87', 'T88', 'T89'] solution sequence is: 3.4689909635346043 ########\n",
      "######## The number of workstations for ['T1', 'T2', 'T3', 'T4', 'T5', 'T6', 'T7', 'T9', 'T11', 'T12', 'T10', 'T13', 'T14', 'T15', 'T17', 'T8', 'T18', 'T30', 'T20', 'T19', 'T21', 'T22', 'T23', 'T24', 'T16', 'T54', 'T25', 'T32', 'T55', 'T56', 'T27', 'T57', 'T63', 'T28', 'T60', 'T35', 'T36', 'T29', 'T26', 'T37', 'T65', 'T38', 'T59', 'T39', 'T58', 'T61', 'T43', 'T45', 'T46', 'T64', 'T66', 'T31', 'T62', 'T67', 'T47', 'T49', 'T40', 'T42', 'T50', 'T33', 'T51', 'T34', 'T41', 'T44', 'T52', 'T53', 'T71', 'T73', 'T69', 'T70', 'T68', 'T74', 'T72', 'T48', 'T75', 'T77', 'T76', 'T80', 'T78', 'T79', 'T81', 'T82', 'T84', 'T83', 'T85', 'T86', 'T87', 'T88', 'T89'] solution sequence is: 59 ########\n",
      "######## The workloads of workstation for ['T1', 'T2', 'T3', 'T4', 'T5', 'T6', 'T7', 'T9', 'T11', 'T12', 'T10', 'T13', 'T14', 'T15', 'T17', 'T8', 'T18', 'T30', 'T20', 'T19', 'T21', 'T22', 'T23', 'T24', 'T16', 'T54', 'T25', 'T32', 'T55', 'T56', 'T27', 'T57', 'T63', 'T28', 'T60', 'T35', 'T36', 'T29', 'T26', 'T37', 'T65', 'T38', 'T59', 'T39', 'T58', 'T61', 'T43', 'T45', 'T46', 'T64', 'T66', 'T31', 'T62', 'T67', 'T47', 'T49', 'T40', 'T42', 'T50', 'T33', 'T51', 'T34', 'T41', 'T44', 'T52', 'T53', 'T71', 'T73', 'T69', 'T70', 'T68', 'T74', 'T72', 'T48', 'T75', 'T77', 'T76', 'T80', 'T78', 'T79', 'T81', 'T82', 'T84', 'T83', 'T85', 'T86', 'T87', 'T88', 'T89'] solution sequence are: [10. 11.  7. 10.  2. 10.  7.  5.  7.  8.  8. 10. 10. 10.  9. 10.  7. 11.\n",
      "  7. 10.  8. 10. 11.  9.  6.  7.  5.  8.  9.  9.  9.  8. 10.  9.  7.  7.\n",
      "  9. 10.  2. 10.  9. 10.  3.  9. 10.  8.  6.  8.  5.  7.  6. 10.  8. 10.\n",
      "  9. 11.  7.  8.  9.] ########\n",
      "59\n"
     ]
    }
   ],
   "source": [
    "# albp_instance= ALBP(\"./ALBP/SALBP-data-sets/precedence graphs\", \"LUTZ2.IN2\", 11.0)\n",
    "albp_instance= ALBP(data_url, \"LUTZ2.IN2\", 11.0)\n",
    "ts = TabuSearch(max_iter=20, tabu_tenure=4, neighbor_size=5, use_aspiration=True, aspiration_limit=None, use_longterm=False)\n",
    "ts.init_ts(albp_instance) \n",
    "ts.run(albp_instance, repetition=5)\n",
    "\n",
    "# Calculating the smoothing index of the solution \n",
    "# Smoothing_index(solution, WS, tasks, , show = False)\n",
    "SI = albp_instance.Smoothing_index(list(ts.s_best), ts.val_best, albp_instance.tasks, True)\n",
    "\n",
    "# Print results\n",
    "print(SI)"
   ]
  },
  {
   "cell_type": "markdown",
   "id": "9df760c0-06ee-4fba-9a0c-5b138f3405c2",
   "metadata": {},
   "source": [
    "## BARTHOL2.IN2 Problem\n",
    "## The best number of workstations for a given cycle time = 104 is 41"
   ]
  },
  {
   "cell_type": "code",
   "execution_count": 12,
   "id": "32497946",
   "metadata": {},
   "outputs": [
    {
     "name": "stdout",
     "output_type": "stream",
     "text": [
      "######## The Smoothing Index value for ['T1', 'T91', 'T70', 'T2', 'T3', 'T74', 'T138', 'T4', 'T6', 'T50', 'T42', 'T32', 'T56', 'T64', 'T10', 'T16', 'T59', 'T11', 'T71', 'T15', 'T33', 'T105', 'T17', 'T19', 'T43', 'T65', 'T18', 'T20', 'T35', 'T30', 'T21', 'T22', 'T144', 'T51', 'T73', 'T69', 'T96', 'T34', 'T23', 'T57', 'T24', 'T79', 'T75', 'T27', 'T141', 'T26', 'T139', 'T28', 'T99', 'T12', 'T85', 'T25', 'T52', 'T66', 'T29', 'T31', 'T36', 'T37', 'T58', 'T142', 'T45', 'T38', 'T80', 'T39', 'T140', 'T9', 'T40', 'T88', 'T81', 'T86', 'T7', 'T46', 'T145', 'T47', 'T54', 'T61', 'T48', 'T76', 'T62', 'T77', 'T90', 'T49', 'T41', 'T78', 'T111', 'T147', 'T87', 'T92', 'T112', 'T72', 'T113', 'T55', 'T100', 'T94', 'T134', 'T128', 'T63', 'T67', 'T60', 'T5', 'T129', 'T104', 'T116', 'T132', 'T114', 'T146', 'T82', 'T83', 'T68', 'T8', 'T130', 'T98', 'T131', 'T120', 'T123', 'T124', 'T84', 'T95', 'T133', 'T14', 'T93', 'T101', 'T103', 'T148', 'T121', 'T102', 'T106', 'T137', 'T115', 'T97', 'T122', 'T135', 'T136', 'T89', 'T107', 'T117', 'T118', 'T108', 'T109', 'T110', 'T44', 'T125', 'T143', 'T127', 'T53', 'T13', 'T126', 'T119'] solution sequence is: 27.21354300852653 ########\n",
      "######## The number of workstations for ['T1', 'T91', 'T70', 'T2', 'T3', 'T74', 'T138', 'T4', 'T6', 'T50', 'T42', 'T32', 'T56', 'T64', 'T10', 'T16', 'T59', 'T11', 'T71', 'T15', 'T33', 'T105', 'T17', 'T19', 'T43', 'T65', 'T18', 'T20', 'T35', 'T30', 'T21', 'T22', 'T144', 'T51', 'T73', 'T69', 'T96', 'T34', 'T23', 'T57', 'T24', 'T79', 'T75', 'T27', 'T141', 'T26', 'T139', 'T28', 'T99', 'T12', 'T85', 'T25', 'T52', 'T66', 'T29', 'T31', 'T36', 'T37', 'T58', 'T142', 'T45', 'T38', 'T80', 'T39', 'T140', 'T9', 'T40', 'T88', 'T81', 'T86', 'T7', 'T46', 'T145', 'T47', 'T54', 'T61', 'T48', 'T76', 'T62', 'T77', 'T90', 'T49', 'T41', 'T78', 'T111', 'T147', 'T87', 'T92', 'T112', 'T72', 'T113', 'T55', 'T100', 'T94', 'T134', 'T128', 'T63', 'T67', 'T60', 'T5', 'T129', 'T104', 'T116', 'T132', 'T114', 'T146', 'T82', 'T83', 'T68', 'T8', 'T130', 'T98', 'T131', 'T120', 'T123', 'T124', 'T84', 'T95', 'T133', 'T14', 'T93', 'T101', 'T103', 'T148', 'T121', 'T102', 'T106', 'T137', 'T115', 'T97', 'T122', 'T135', 'T136', 'T89', 'T107', 'T117', 'T118', 'T108', 'T109', 'T110', 'T44', 'T125', 'T143', 'T127', 'T53', 'T13', 'T126', 'T119'] solution sequence is: 52 ########\n",
      "######## The workloads of workstation for ['T1', 'T91', 'T70', 'T2', 'T3', 'T74', 'T138', 'T4', 'T6', 'T50', 'T42', 'T32', 'T56', 'T64', 'T10', 'T16', 'T59', 'T11', 'T71', 'T15', 'T33', 'T105', 'T17', 'T19', 'T43', 'T65', 'T18', 'T20', 'T35', 'T30', 'T21', 'T22', 'T144', 'T51', 'T73', 'T69', 'T96', 'T34', 'T23', 'T57', 'T24', 'T79', 'T75', 'T27', 'T141', 'T26', 'T139', 'T28', 'T99', 'T12', 'T85', 'T25', 'T52', 'T66', 'T29', 'T31', 'T36', 'T37', 'T58', 'T142', 'T45', 'T38', 'T80', 'T39', 'T140', 'T9', 'T40', 'T88', 'T81', 'T86', 'T7', 'T46', 'T145', 'T47', 'T54', 'T61', 'T48', 'T76', 'T62', 'T77', 'T90', 'T49', 'T41', 'T78', 'T111', 'T147', 'T87', 'T92', 'T112', 'T72', 'T113', 'T55', 'T100', 'T94', 'T134', 'T128', 'T63', 'T67', 'T60', 'T5', 'T129', 'T104', 'T116', 'T132', 'T114', 'T146', 'T82', 'T83', 'T68', 'T8', 'T130', 'T98', 'T131', 'T120', 'T123', 'T124', 'T84', 'T95', 'T133', 'T14', 'T93', 'T101', 'T103', 'T148', 'T121', 'T102', 'T106', 'T137', 'T115', 'T97', 'T122', 'T135', 'T136', 'T89', 'T107', 'T117', 'T118', 'T108', 'T109', 'T110', 'T44', 'T125', 'T143', 'T127', 'T53', 'T13', 'T126', 'T119'] solution sequence are: [ 79. 102.  95.  62. 102.  67.  90.  72.  86. 104.  99.  80.  93.  76.\n",
      "  59. 103. 101.  59.  48.  80.  94.  95.  70.  83.  95.  94.  78.  78.\n",
      "  82.  98.  92.  97.  76.  55.  95.  78. 102.  98.  69.  78.  86.  81.\n",
      "  46.  85.  58.  83.  74.  85.  64.  73.  80.  55.] ########\n",
      "52\n"
     ]
    }
   ],
   "source": [
    "# albp_instance= ALBP(\"./ALBP/SALBP-data-sets/precedence graphs\", \"BARTHOL2.IN2\", 104.0)\n",
    "albp_instance= ALBP(data_url, \"BARTHOL2.IN2\", 104.0)\n",
    "ts = TabuSearch(max_iter=20, tabu_tenure=4, neighbor_size=5, use_aspiration=True, aspiration_limit=None, use_longterm=False)\n",
    "ts.init_ts(albp_instance) \n",
    "ts.run(albp_instance, repetition=5)\n",
    "\n",
    "# Calculating the smoothing index of the solution \n",
    "# Smoothing_index(solution, WS, tasks, , show = False)\n",
    "SI = albp_instance.Smoothing_index(list(ts.s_best), ts.val_best, albp_instance.tasks, True)\n",
    "\n",
    "# Print results\n",
    "print(SI)"
   ]
  },
  {
   "cell_type": "markdown",
   "id": "aa757a80-dc94-4b72-990b-1b6d7ce4ced3",
   "metadata": {},
   "source": [
    "## JACKSON.IN2 Problem\n",
    "## The best number of workstations for a given cycle time = 9 is 6"
   ]
  },
  {
   "cell_type": "code",
   "execution_count": 13,
   "id": "12881366",
   "metadata": {},
   "outputs": [
    {
     "name": "stdout",
     "output_type": "stream",
     "text": [
      "######## The Smoothing Index value for ['T1', 'T3', 'T4', 'T5', 'T7', 'T9', 'T2', 'T6', 'T8', 'T10', 'T11'] solution sequence is: 2.9519969028245465 ########\n",
      "######## The number of workstations for ['T1', 'T3', 'T4', 'T5', 'T7', 'T9', 'T2', 'T6', 'T8', 'T10', 'T11'] solution sequence is: 7 ########\n",
      "######## The workloads of workstation for ['T1', 'T3', 'T4', 'T5', 'T7', 'T9', 'T2', 'T6', 'T8', 'T10', 'T11'] solution sequence are: [6. 5. 8. 8. 4. 6. 9.] ########\n",
      "7\n"
     ]
    }
   ],
   "source": [
    "# albp_instance= ALBP(\"./ALBP/SALBP-data-sets/precedence graphs\", \"JACKSON.IN2\", 9)\n",
    "albp_instance= ALBP(data_url, \"JACKSON.IN2\", 9)\n",
    "ts = TabuSearch(max_iter=20, tabu_tenure=4, neighbor_size=5, use_aspiration=True, aspiration_limit=None, use_longterm=False)\n",
    "ts.init_ts(albp_instance) \n",
    "ts.run(albp_instance, repetition=5)\n",
    "\n",
    "# Calculating the smoothing index of the solution \n",
    "# Smoothing_index(solution, WS, tasks, , show = False)\n",
    "SI = albp_instance.Smoothing_index(list(ts.s_best), ts.val_best, albp_instance.tasks, True)\n",
    "\n",
    "# Print results\n",
    "print(SI)"
   ]
  },
  {
   "cell_type": "markdown",
   "id": "5b5f5295-0aa1-462b-8768-cf7a26753ee1",
   "metadata": {},
   "source": [
    "## TONGE70.IN2 Problem\n",
    "## The best number of workstations for a given cycle time = 293 is 13"
   ]
  },
  {
   "cell_type": "code",
   "execution_count": 14,
   "id": "b206a355",
   "metadata": {},
   "outputs": [
    {
     "name": "stdout",
     "output_type": "stream",
     "text": [
      "######## The Smoothing Index value for ['T1', 'T70', 'T15', 'T24', 'T5', 'T16', 'T30', 'T2', 'T3', 'T17', 'T19', 'T9', 'T69', 'T18', 'T20', 'T4', 'T21', 'T7', 'T57', 'T6', 'T10', 'T22', 'T13', 'T14', 'T23', 'T33', 'T25', 'T58', 'T31', 'T11', 'T29', 'T68', 'T8', 'T34', 'T41', 'T27', 'T32', 'T59', 'T28', 'T26', 'T35', 'T36', 'T12', 'T37', 'T44', 'T48', 'T61', 'T45', 'T38', 'T49', 'T62', 'T39', 'T60', 'T63', 'T51', 'T52', 'T64', 'T65', 'T46', 'T40', 'T53', 'T47', 'T67', 'T56', 'T54', 'T66', 'T55', 'T42', 'T43', 'T50'] solution sequence is: 71.15676857675392 ########\n",
      "######## The number of workstations for ['T1', 'T70', 'T15', 'T24', 'T5', 'T16', 'T30', 'T2', 'T3', 'T17', 'T19', 'T9', 'T69', 'T18', 'T20', 'T4', 'T21', 'T7', 'T57', 'T6', 'T10', 'T22', 'T13', 'T14', 'T23', 'T33', 'T25', 'T58', 'T31', 'T11', 'T29', 'T68', 'T8', 'T34', 'T41', 'T27', 'T32', 'T59', 'T28', 'T26', 'T35', 'T36', 'T12', 'T37', 'T44', 'T48', 'T61', 'T45', 'T38', 'T49', 'T62', 'T39', 'T60', 'T63', 'T51', 'T52', 'T64', 'T65', 'T46', 'T40', 'T53', 'T47', 'T67', 'T56', 'T54', 'T66', 'T55', 'T42', 'T43', 'T50'] solution sequence is: 14 ########\n",
      "######## The workloads of workstation for ['T1', 'T70', 'T15', 'T24', 'T5', 'T16', 'T30', 'T2', 'T3', 'T17', 'T19', 'T9', 'T69', 'T18', 'T20', 'T4', 'T21', 'T7', 'T57', 'T6', 'T10', 'T22', 'T13', 'T14', 'T23', 'T33', 'T25', 'T58', 'T31', 'T11', 'T29', 'T68', 'T8', 'T34', 'T41', 'T27', 'T32', 'T59', 'T28', 'T26', 'T35', 'T36', 'T12', 'T37', 'T44', 'T48', 'T61', 'T45', 'T38', 'T49', 'T62', 'T39', 'T60', 'T63', 'T51', 'T52', 'T64', 'T65', 'T46', 'T40', 'T53', 'T47', 'T67', 'T56', 'T54', 'T66', 'T55', 'T42', 'T43', 'T50'] solution sequence are: [257. 280. 249. 291. 269. 175. 275. 288. 262. 277. 283. 262. 278.  64.] ########\n",
      "14\n"
     ]
    }
   ],
   "source": [
    "# albp_instance= ALBP(\"./ALBP/SALBP-data-sets/precedence graphs\", \"TONGE70.IN2\", 293)\n",
    "albp_instance= ALBP(data_url, \"TONGE70.IN2\", 293)\n",
    "ts = TabuSearch(max_iter=20, tabu_tenure=4, neighbor_size=5, use_aspiration=True, aspiration_limit=None, use_longterm=False)\n",
    "ts.init_ts(albp_instance) \n",
    "ts.run(albp_instance, repetition=5)\n",
    "\n",
    "# Calculating the smoothing index of the solution \n",
    "# Smoothing_index(solution, WS, tasks, , show = False)\n",
    "SI = albp_instance.Smoothing_index(list(ts.s_best), ts.val_best, albp_instance.tasks, True)\n",
    "\n",
    "# Print results\n",
    "print(SI)"
   ]
  }
 ],
 "metadata": {
  "kernelspec": {
   "display_name": "Python 3 (ipykernel)",
   "language": "python",
   "name": "python3"
  },
  "language_info": {
   "codemirror_mode": {
    "name": "ipython",
    "version": 3
   },
   "file_extension": ".py",
   "mimetype": "text/x-python",
   "name": "python",
   "nbconvert_exporter": "python",
   "pygments_lexer": "ipython3",
   "version": "3.10.6"
  }
 },
 "nbformat": 4,
 "nbformat_minor": 5
}
