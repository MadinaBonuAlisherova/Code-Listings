{
 "cells": [
  {
   "attachments": {},
   "cell_type": "markdown",
   "metadata": {},
   "source": [
    "# Composite Laminate Design using Tabu Search (TS)"
   ]
  },
  {
   "cell_type": "code",
   "execution_count": 34,
   "metadata": {},
   "outputs": [],
   "source": [
    "from optimization_algorithms_tools.algorithms import TabuSearch\n",
    "from optimization_algorithms_tools.problems import SHEETS"
   ]
  },
  {
   "cell_type": "code",
   "execution_count": 35,
   "metadata": {},
   "outputs": [],
   "source": [
    "# create an instance of the SHEETS class using greedy method\n",
    "phone_case = SHEETS(init_method='greedy')"
   ]
  },
  {
   "cell_type": "code",
   "execution_count": 36,
   "metadata": {},
   "outputs": [],
   "source": [
    "# create an TS object to help solving the design problem\n",
    "ts = TabuSearch(max_iter=10000, tabu_tenure=10, neighbor_size=7, use_aspiration=True, aspiration_limit=3, use_longterm=False, debug=1)"
   ]
  },
  {
   "cell_type": "code",
   "execution_count": 37,
   "metadata": {},
   "outputs": [
    {
     "name": "stdout",
     "output_type": "stream",
     "text": [
      "Tabu search is initialized:\n",
      "current value = 10\n"
     ]
    },
    {
     "data": {
      "text/plain": [
       "10"
      ]
     },
     "execution_count": 37,
     "metadata": {},
     "output_type": "execute_result"
    }
   ],
   "source": [
    "# Get an initial random solution and check its length \n",
    "ts.init_ts(phone_case)\n",
    "ts.val_cur"
   ]
  },
  {
   "cell_type": "code",
   "execution_count": 38,
   "metadata": {},
   "outputs": [
    {
     "name": "stdout",
     "output_type": "stream",
     "text": [
      "Tabu search is initialized:\n",
      "current value = 10\n"
     ]
    },
    {
     "ename": "TypeError",
     "evalue": "unhashable type: 'list'",
     "output_type": "error",
     "traceback": [
      "\u001b[1;31m---------------------------------------------------------------------------\u001b[0m",
      "\u001b[1;31mTypeError\u001b[0m                                 Traceback (most recent call last)",
      "Cell \u001b[1;32mIn [38], line 2\u001b[0m\n\u001b[0;32m      1\u001b[0m \u001b[39m# Run TS and eval the best solution\u001b[39;00m\n\u001b[1;32m----> 2\u001b[0m ts\u001b[39m.\u001b[39;49mrun(phone_case, repetition\u001b[39m=\u001b[39;49m\u001b[39m10\u001b[39;49m)\n\u001b[0;32m      3\u001b[0m ts\u001b[39m.\u001b[39mval_allbest\n",
      "File \u001b[1;32mc:\\Users\\Alaa\\.conda\\envs\\ox\\lib\\site-packages\\optimization_algorithms_tools\\algorithms\\_ts.py:140\u001b[0m, in \u001b[0;36mTabuSearch.run\u001b[1;34m(self, problem_obj, stoping_val, init, repetition)\u001b[0m\n\u001b[0;32m    138\u001b[0m \u001b[39mfor\u001b[39;00m __ \u001b[39min\u001b[39;00m \u001b[39mrange\u001b[39m(repetition):\n\u001b[0;32m    139\u001b[0m     \u001b[39mfor\u001b[39;00m \u001b[39mself\u001b[39m\u001b[39m.\u001b[39miter \u001b[39min\u001b[39;00m \u001b[39mrange\u001b[39m(\u001b[39m1\u001b[39m, \u001b[39mself\u001b[39m\u001b[39m.\u001b[39mmax_iter\u001b[39m+\u001b[39m\u001b[39m1\u001b[39m):\n\u001b[1;32m--> 140\u001b[0m         \u001b[39mself\u001b[39;49m\u001b[39m.\u001b[39;49mts_step()        \n\u001b[0;32m    141\u001b[0m         \u001b[39mif\u001b[39;00m \u001b[39mself\u001b[39m\u001b[39m.\u001b[39mdebug\u001b[39m>\u001b[39m\u001b[39m1\u001b[39m:\n\u001b[0;32m    142\u001b[0m             \u001b[39mprint\u001b[39m(\u001b[39mf\u001b[39m\u001b[39m\"\u001b[39m\u001b[39mcurr iter: \u001b[39m\u001b[39m{\u001b[39;00m\u001b[39mself\u001b[39m\u001b[39m.\u001b[39miter\u001b[39m}\u001b[39;00m\u001b[39m, curr value: \u001b[39m\u001b[39m{\u001b[39;00m\u001b[39mself\u001b[39m\u001b[39m.\u001b[39mval_cur\u001b[39m}\u001b[39;00m\u001b[39m, curr best value: \u001b[39m\u001b[39m{\u001b[39;00m\u001b[39mself\u001b[39m\u001b[39m.\u001b[39mval_best\u001b[39m}\u001b[39;00m\u001b[39m, curr best: sol: \u001b[39m\u001b[39m{\u001b[39;00m\u001b[39mself\u001b[39m\u001b[39m.\u001b[39ms_best\u001b[39m}\u001b[39;00m\u001b[39m, found at iter: \u001b[39m\u001b[39m{\u001b[39;00m\u001b[39mself\u001b[39m\u001b[39m.\u001b[39miter_best\u001b[39m}\u001b[39;00m\u001b[39m\"\u001b[39m)\n",
      "File \u001b[1;32mc:\\Users\\Alaa\\.conda\\envs\\ox\\lib\\site-packages\\optimization_algorithms_tools\\algorithms\\_ts.py:81\u001b[0m, in \u001b[0;36mTabuSearch.ts_step\u001b[1;34m(self)\u001b[0m\n\u001b[0;32m     79\u001b[0m i \u001b[39m=\u001b[39m \u001b[39m0\u001b[39m\n\u001b[0;32m     80\u001b[0m \u001b[39mwhile\u001b[39;00m s_cand \u001b[39mis\u001b[39;00m \u001b[39mNone\u001b[39;00m:\n\u001b[1;32m---> 81\u001b[0m     s_cand, val_cand \u001b[39m=\u001b[39m \u001b[39mself\u001b[39;49m\u001b[39m.\u001b[39;49mget_best_neighbour(\u001b[39mself\u001b[39;49m\u001b[39m.\u001b[39;49ms_cur)\n\u001b[0;32m     82\u001b[0m     i \u001b[39m+\u001b[39m\u001b[39m=\u001b[39m \u001b[39m1\u001b[39m\n\u001b[0;32m     83\u001b[0m     \u001b[39mif\u001b[39;00m i\u001b[39m>\u001b[39m\u001b[39m1000\u001b[39m:\n",
      "File \u001b[1;32mc:\\Users\\Alaa\\.conda\\envs\\ox\\lib\\site-packages\\optimization_algorithms_tools\\algorithms\\_ts.py:113\u001b[0m, in \u001b[0;36mTabuSearch.get_best_neighbour\u001b[1;34m(self, s_cur)\u001b[0m\n\u001b[0;32m    111\u001b[0m s_cands \u001b[39m=\u001b[39m \u001b[39mset\u001b[39m()\n\u001b[0;32m    112\u001b[0m \u001b[39mwhile\u001b[39;00m \u001b[39mlen\u001b[39m(s_cands) \u001b[39m<\u001b[39m \u001b[39mself\u001b[39m\u001b[39m.\u001b[39mneighbor_size:\n\u001b[1;32m--> 113\u001b[0m     s_cands\u001b[39m.\u001b[39;49madd(deepcopy(Hashing(\u001b[39mself\u001b[39;49m\u001b[39m.\u001b[39;49mproblem_obj\u001b[39m.\u001b[39;49mget_neighbour_solution(s_cur\u001b[39m.\u001b[39;49mv))))\n\u001b[0;32m    115\u001b[0m s_cands \u001b[39m=\u001b[39m [k \u001b[39mfor\u001b[39;00m k \u001b[39min\u001b[39;00m s_cands \u001b[39mif\u001b[39;00m \u001b[39mnot\u001b[39;00m k \u001b[39min\u001b[39;00m \u001b[39mself\u001b[39m\u001b[39m.\u001b[39mtabu_list \u001b[39mor\u001b[39;00m \n\u001b[0;32m    116\u001b[0m                                             (\u001b[39mself\u001b[39m\u001b[39m.\u001b[39muse_aspiration \u001b[39mand\u001b[39;00m \n\u001b[0;32m    117\u001b[0m                                              \u001b[39mself\u001b[39m\u001b[39m.\u001b[39mproblem_obj\u001b[39m.\u001b[39meval_solution(k\u001b[39m.\u001b[39mv)\u001b[39m<\u001b[39m\u001b[39mself\u001b[39m\u001b[39m.\u001b[39mval_cur \u001b[39mand\u001b[39;00m \n\u001b[0;32m    118\u001b[0m                                              \u001b[39mself\u001b[39m\u001b[39m.\u001b[39maspiration_limit\u001b[39m>\u001b[39m\u001b[39mself\u001b[39m\u001b[39m.\u001b[39mtabu_list[k])]\n\u001b[0;32m    120\u001b[0m \u001b[39mif\u001b[39;00m \u001b[39mlen\u001b[39m(s_cands) \u001b[39m==\u001b[39m \u001b[39m0\u001b[39m:\n",
      "File \u001b[1;32mc:\\Users\\Alaa\\.conda\\envs\\ox\\lib\\site-packages\\optimization_algorithms_tools\\algorithms\\_ts.py:24\u001b[0m, in \u001b[0;36mHashing.__hash__\u001b[1;34m(self)\u001b[0m\n\u001b[0;32m     22\u001b[0m \u001b[39mdef\u001b[39;00m \u001b[39m__hash__\u001b[39m(\u001b[39mself\u001b[39m) \u001b[39m-\u001b[39m\u001b[39m>\u001b[39m \u001b[39mint\u001b[39m:\n\u001b[0;32m     23\u001b[0m     \u001b[39mif\u001b[39;00m \u001b[39misinstance\u001b[39m(\u001b[39mself\u001b[39m\u001b[39m.\u001b[39mv, collections\u001b[39m.\u001b[39mabc\u001b[39m.\u001b[39mHashable):\n\u001b[1;32m---> 24\u001b[0m         \u001b[39mreturn\u001b[39;00m \u001b[39mhash\u001b[39;49m(\u001b[39mself\u001b[39;49m\u001b[39m.\u001b[39;49mv)\n\u001b[0;32m     25\u001b[0m     \u001b[39mif\u001b[39;00m \u001b[39mtype\u001b[39m(\u001b[39mself\u001b[39m\u001b[39m.\u001b[39mv)\u001b[39m.\u001b[39m\u001b[39m__module__\u001b[39m \u001b[39m==\u001b[39m np\u001b[39m.\u001b[39m\u001b[39m__name__\u001b[39m:\n\u001b[0;32m     26\u001b[0m         \u001b[39mreturn\u001b[39;00m \u001b[39mhash\u001b[39m(\u001b[39mtuple\u001b[39m(\u001b[39mself\u001b[39m\u001b[39m.\u001b[39mv\u001b[39m.\u001b[39mflat))\n",
      "\u001b[1;31mTypeError\u001b[0m: unhashable type: 'list'"
     ]
    }
   ],
   "source": [
    "# Run TS and eval the best solution\n",
    "ts.run(phone_case, repetition=10)\n",
    "ts.val_allbest"
   ]
  },
  {
   "cell_type": "code",
   "execution_count": null,
   "metadata": {},
   "outputs": [
    {
     "name": "stdout",
     "output_type": "stream",
     "text": [
      "[6, 0, 3, 1, 4, 2, 5]\n",
      "10\n"
     ]
    }
   ],
   "source": [
    "# Print best order of sheets\n",
    "print(ts.s_best)\n",
    "\n",
    "# print best value\n",
    "print(ts.val_best)"
   ]
  },
  {
   "cell_type": "code",
   "execution_count": null,
   "metadata": {},
   "outputs": [],
   "source": []
  }
 ],
 "metadata": {
  "kernelspec": {
   "display_name": "ox",
   "language": "python",
   "name": "python3"
  },
  "language_info": {
   "codemirror_mode": {
    "name": "ipython",
    "version": 3
   },
   "file_extension": ".py",
   "mimetype": "text/x-python",
   "name": "python",
   "nbconvert_exporter": "python",
   "pygments_lexer": "ipython3",
   "version": "3.10.6"
  },
  "vscode": {
   "interpreter": {
    "hash": "899ff88a75886fc7a7b40f2d92fee8f59f6284588a3bf99939bb8f65c5caf859"
   }
  }
 },
 "nbformat": 4,
 "nbformat_minor": 4
}
