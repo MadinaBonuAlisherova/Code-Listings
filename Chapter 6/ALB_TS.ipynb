{
 "cells": [
  {
   "cell_type": "code",
   "execution_count": 1,
   "id": "8380f185",
   "metadata": {},
   "outputs": [],
   "source": [
    "import pandas as pd \n",
    "import numpy as np \n",
    "import random as rd \n",
    "import math \n",
    "import matplotlib.pyplot as plt"
   ]
  },
  {
   "cell_type": "markdown",
   "id": "447fe8c5",
   "metadata": {},
   "source": [
    "### Initial solution generation function. This function first generates a list of tasks with their indices in increasing order"
   ]
  },
  {
   "cell_type": "code",
   "execution_count": 2,
   "id": "046685dc",
   "metadata": {},
   "outputs": [],
   "source": [
    "def Initial_Solution(s, show = False):\n",
    "    sol = np.arange(s)\n",
    "    Sol_list = list(sol)\n",
    "    for i in range(len(sol)):\n",
    "        Sol_list[i] = 'T' + str(Sol_list[i]+1)\n",
    "    for i in range(len(sol)): \n",
    "        x = rd.randint(0, s-1)\n",
    "        y = rd.randint(0, s-1)\n",
    "        t1 = Sol_list[x]\n",
    "        t2 = Sol_list[y]\n",
    "        Sol_list[x] = t2\n",
    "        Sol_list[y] = t1\n",
    "    return Sol_list"
   ]
  },
  {
   "cell_type": "markdown",
   "id": "702e7020",
   "metadata": {},
   "source": [
    "### A matrix generator function for precedence relations of tasks "
   ]
  },
  {
   "cell_type": "code",
   "execution_count": 3,
   "id": "2de0c8d9",
   "metadata": {},
   "outputs": [],
   "source": [
    "def Precedence_Matrix(tasks, Prec):\n",
    "    Prec_Matrix = np.zeros((len(tasks),len(tasks)), int)\n",
    "    for i in tasks.index:\n",
    "        for j in tasks.index: \n",
    "            for k in Prec.index: \n",
    "                if tasks.iloc[i]['Task'] == Prec.iloc[k]['TASK']:\n",
    "                    if tasks.iloc[j]['Task'] == Prec.iloc[k][Prec.columns[1]]:\n",
    "                        Prec_Matrix[j,i] = 1\n",
    "    return Prec_Matrix"
   ]
  },
  {
   "cell_type": "markdown",
   "id": "2f8387c1",
   "metadata": {},
   "source": [
    "### After a solution is generated. This solution must be reordered according to the precedence relations. Otherwise the solution will be infeasible "
   ]
  },
  {
   "cell_type": "code",
   "execution_count": 4,
   "id": "cf68eb83",
   "metadata": {},
   "outputs": [],
   "source": [
    "def Make_Solution_Feasible(solution, Prec):\n",
    "    lsol = solution\n",
    "    for i in range(len(lsol)):\n",
    "        for j in range(i, len(lsol)):\n",
    "            if(i<j):\n",
    "                for k in Prec.index: \n",
    "                    if solution[j] == Prec.iloc[k][Prec.columns[0]] and solution[i] == Prec.iloc[k][Prec.columns[1]]: \n",
    "                        temp1 = lsol[i] \n",
    "                        temp2 = lsol[j] \n",
    "                        lsol[i] = temp2 \n",
    "                        lsol[j] = temp1\n",
    "                        solution = lsol \n",
    "    lsol.reverse()\n",
    "    return lsol"
   ]
  },
  {
   "cell_type": "markdown",
   "id": "edfa3e8e",
   "metadata": {},
   "source": [
    "### For a given problem, this function calculates the number of possible workstations for tasks  having task durations that are greater than the half of the cycle time "
   ]
  },
  {
   "cell_type": "code",
   "execution_count": 5,
   "id": "dbecf201",
   "metadata": {},
   "outputs": [],
   "source": [
    "def Total_Number_Possible_Work_Station(data, c):\n",
    "    x =0\n",
    "    for i in data.index: \n",
    "        if data.iloc[i]['Duration'] > c/2:\n",
    "            x = x +1 \n",
    "    return x "
   ]
  },
  {
   "cell_type": "markdown",
   "id": "2f613933",
   "metadata": {},
   "source": [
    "### This function helps smooting index calculation function to find the index of a given task for tasks data frame"
   ]
  },
  {
   "cell_type": "code",
   "execution_count": 6,
   "id": "7f9e06ee",
   "metadata": {},
   "outputs": [],
   "source": [
    "def get_index(s):\n",
    "    k = s[1:]\n",
    "    k = int(k)-1\n",
    "    return k"
   ]
  },
  {
   "cell_type": "markdown",
   "id": "f8d1b9a0",
   "metadata": {},
   "source": [
    "### This function calculates the smooting index of a given solution "
   ]
  },
  {
   "cell_type": "code",
   "execution_count": 7,
   "id": "3b5ca09a",
   "metadata": {},
   "outputs": [],
   "source": [
    " def Smoothing_index(solution, WS, tasks, show = False):   \n",
    "    WS_time = np.zeros(WS, float)\n",
    "    k =0\n",
    "    j =0 \n",
    "    solution2 = solution[:]\n",
    "    i = 0\n",
    "    l = 0\n",
    "    while i < len(solution2):\n",
    "        y = float(tasks.loc[get_index(solution2[i])][tasks.columns[1]]) \n",
    "        if WS_time[j] +  y <= Cycle_time:\n",
    "            WS_time[j] = WS_time[j] + y\n",
    "            i = i +1 \n",
    "            l = l +1 \n",
    "        else: \n",
    "            j = j+1 \n",
    "    WS_Max = WS_time.max()\n",
    "    ns = np.zeros(WS, float)\n",
    "    ns = ((WS_Max- WS_time)**2)/(WS)\n",
    "    SI = ns.sum()\n",
    "    SI = math.sqrt(SI)\n",
    "    WS_time = WS_time[WS_time != 0]\n",
    "    if show == True: \n",
    "        print(\"#\"*8, \"The Smoothing Index value for {} solution sequence is: {}\".format(solution ,SI),\"#\"*8)\n",
    "        print(\"#\"*8, \"The number of workstations for {} solution sequence is: {}\".format(solution ,WS_time.size),\"#\"*8)\n",
    "        print(\"#\"*8, \"The workloads of workstation for {} solution sequence are: {}\".format(solution ,WS_time),\"#\"*8)\n",
    "    return SI"
   ]
  },
  {
   "cell_type": "markdown",
   "id": "a2a5bd99",
   "metadata": {},
   "source": [
    "### This function is to create the tabu structures of all possible and feasible moves. It keeps how many iterations remaining left to free moves and the last recorded values of  moves "
   ]
  },
  {
   "cell_type": "code",
   "execution_count": 8,
   "id": "42795670",
   "metadata": {},
   "outputs": [],
   "source": [
    "def Create_Tabu_Strcuture(tasks, Prec_Matrix):\n",
    "    Tabu_Structure = pd.DataFrame(columns=['Task_1', 'Task_2', 'Feasible', 'Tabued','Value']); \n",
    "    for i in range(len(tasks)):\n",
    "        for j in range(len(tasks)):\n",
    "            if i<j: \n",
    "                if(Prec_Matrix[i,j]==0 and Prec_Matrix[j,i]==0): \n",
    "                    Tabu_Structure.loc[len(Tabu_Structure.index)] = [\"T\" + str(i+1), \"T\" + str(j+1), \"T\", 0, 1000] \n",
    "                else: \n",
    "                    Tabu_Structure.loc[len(Tabu_Structure.index)] = [\"T\" + str(i+1), \"T\" + str(j+1), \"F\", 0, 1000] \n",
    "    return Tabu_Structure"
   ]
  },
  {
   "cell_type": "markdown",
   "id": "2ec540ee",
   "metadata": {},
   "source": [
    "### This function is to swap randomly selected two tasks' poositions in a given solution  "
   ]
  },
  {
   "cell_type": "code",
   "execution_count": 9,
   "id": "ed47f3ee",
   "metadata": {},
   "outputs": [],
   "source": [
    "def N_Swap(solution, i1, i2):\n",
    "    sol = solution[:]; \n",
    "    temp1 = sol[i1]\n",
    "    temp2 = sol[i2]\n",
    "    sol[i1] = temp2\n",
    "    sol[i2] = temp1\n",
    "    sol = Make_Solution_Feasible(sol, Prec)\n",
    "    return sol"
   ]
  },
  {
   "cell_type": "markdown",
   "id": "9321dcee",
   "metadata": {},
   "source": [
    "### The graphical illustration of a solution. It retuns a plot that shows workstations' workloads and cylce time"
   ]
  },
  {
   "cell_type": "code",
   "execution_count": 10,
   "id": "41547852",
   "metadata": {},
   "outputs": [],
   "source": [
    "def Make_Solution_to_plot(solution, WS, tasks, Cycle_time):\n",
    "    data = {}   \n",
    "    WS_time = np.zeros(WS, float)\n",
    "    k =0\n",
    "    j =0 \n",
    "    i = 0\n",
    "    l = 0\n",
    "    m = \"W\"+str(j+1)\n",
    "    while i < len(solution):\n",
    "        y = float(tasks.loc[get_index(solution[i])][tasks.columns[1]]) \n",
    "        if WS_time[j] +  y <= Cycle_time:\n",
    "            WS_time[j] = WS_time[j] + y\n",
    "            i = i +1 \n",
    "            l = l +1 \n",
    "            data[m] = WS_time[j]\n",
    "        else: \n",
    "            j = j+1 \n",
    "            m = \"W\"+str(j+1)\n",
    "            data[m] = 0           \n",
    "    WS_Names = list(data.keys())\n",
    "    WS_Workloads = list(data.values())\n",
    "    fig = plt.figure()\n",
    "    plt.axhline(y = Cycle_time, color = 'r', linestyle = '-')\n",
    "    plt.bar(WS_Names, WS_Workloads, color ='blue', width = 0.4)\n",
    "    plt.xlabel(\"Workstations \")\n",
    "    plt.ylabel(\"Time\")\n",
    "    plt.title(\"The total workloads of workstations\")\n",
    "    return plt"
   ]
  },
  {
   "cell_type": "markdown",
   "id": "7264fe51",
   "metadata": {},
   "source": [
    "### Getting data (task names and durations)  from a txt file to put them a dataframe "
   ]
  },
  {
   "cell_type": "code",
   "execution_count": 11,
   "id": "7f6707ae",
   "metadata": {},
   "outputs": [
    {
     "data": {
      "text/html": [
       "<div>\n",
       "<style scoped>\n",
       "    .dataframe tbody tr th:only-of-type {\n",
       "        vertical-align: middle;\n",
       "    }\n",
       "\n",
       "    .dataframe tbody tr th {\n",
       "        vertical-align: top;\n",
       "    }\n",
       "\n",
       "    .dataframe thead th {\n",
       "        text-align: right;\n",
       "    }\n",
       "</style>\n",
       "<table border=\"1\" class=\"dataframe\">\n",
       "  <thead>\n",
       "    <tr style=\"text-align: right;\">\n",
       "      <th></th>\n",
       "      <th>Task</th>\n",
       "      <th>Duration</th>\n",
       "    </tr>\n",
       "  </thead>\n",
       "  <tbody>\n",
       "    <tr>\n",
       "      <th>0</th>\n",
       "      <td>T1</td>\n",
       "      <td>2</td>\n",
       "    </tr>\n",
       "    <tr>\n",
       "      <th>1</th>\n",
       "      <td>T2</td>\n",
       "      <td>3</td>\n",
       "    </tr>\n",
       "    <tr>\n",
       "      <th>2</th>\n",
       "      <td>T3</td>\n",
       "      <td>3</td>\n",
       "    </tr>\n",
       "    <tr>\n",
       "      <th>3</th>\n",
       "      <td>T4</td>\n",
       "      <td>1</td>\n",
       "    </tr>\n",
       "    <tr>\n",
       "      <th>4</th>\n",
       "      <td>T5</td>\n",
       "      <td>3</td>\n",
       "    </tr>\n",
       "  </tbody>\n",
       "</table>\n",
       "</div>"
      ],
      "text/plain": [
       "  Task  Duration\n",
       "0   T1         2\n",
       "1   T2         3\n",
       "2   T3         3\n",
       "3   T4         1\n",
       "4   T5         3"
      ]
     },
     "execution_count": 11,
     "metadata": {},
     "output_type": "execute_result"
    }
   ],
   "source": [
    "tasks = pd.DataFrame(columns=['Task', 'Duration']); \n",
    "\n",
    "# Data is available in Appendix B of the book's GitHub repo and can be read directly using URL begins with raw.\n",
    "tasks= pd.read_csv(\"https://raw.githubusercontent.com/Optimization-Algorithms-Book/Code-Listings/main/Appendix%20B/data/ALBP/ALB_TS_DATA.txt\", sep =\",\")\n",
    "tasks.head()"
   ]
  },
  {
   "cell_type": "markdown",
   "id": "aad8b250",
   "metadata": {},
   "source": [
    "### these codes are to get data (tasks' immediate precedessors) from a txt file to put them a dataframe "
   ]
  },
  {
   "cell_type": "code",
   "execution_count": 12,
   "id": "85adca8c",
   "metadata": {},
   "outputs": [
    {
     "data": {
      "text/html": [
       "<div>\n",
       "<style scoped>\n",
       "    .dataframe tbody tr th:only-of-type {\n",
       "        vertical-align: middle;\n",
       "    }\n",
       "\n",
       "    .dataframe tbody tr th {\n",
       "        vertical-align: top;\n",
       "    }\n",
       "\n",
       "    .dataframe thead th {\n",
       "        text-align: right;\n",
       "    }\n",
       "</style>\n",
       "<table border=\"1\" class=\"dataframe\">\n",
       "  <thead>\n",
       "    <tr style=\"text-align: right;\">\n",
       "      <th></th>\n",
       "      <th>TASK</th>\n",
       "      <th>IMMEDIATE_PRECEDESSOR</th>\n",
       "    </tr>\n",
       "  </thead>\n",
       "  <tbody>\n",
       "    <tr>\n",
       "      <th>0</th>\n",
       "      <td>T3</td>\n",
       "      <td>T1</td>\n",
       "    </tr>\n",
       "    <tr>\n",
       "      <th>1</th>\n",
       "      <td>T4</td>\n",
       "      <td>T2</td>\n",
       "    </tr>\n",
       "    <tr>\n",
       "      <th>2</th>\n",
       "      <td>T5</td>\n",
       "      <td>T3</td>\n",
       "    </tr>\n",
       "    <tr>\n",
       "      <th>3</th>\n",
       "      <td>T5</td>\n",
       "      <td>T4</td>\n",
       "    </tr>\n",
       "    <tr>\n",
       "      <th>4</th>\n",
       "      <td>T6</td>\n",
       "      <td>T4</td>\n",
       "    </tr>\n",
       "  </tbody>\n",
       "</table>\n",
       "</div>"
      ],
      "text/plain": [
       "  TASK IMMEDIATE_PRECEDESSOR\n",
       "0   T3                    T1\n",
       "1   T4                    T2\n",
       "2   T5                    T3\n",
       "3   T5                    T4\n",
       "4   T6                    T4"
      ]
     },
     "execution_count": 12,
     "metadata": {},
     "output_type": "execute_result"
    }
   ],
   "source": [
    "Prec= pd.read_csv(\"https://raw.githubusercontent.com/Optimization-Algorithms-Book/Code-Listings/main/Appendix%20B/data/ALBP/ALB_TS_PRECEDENCE.txt\", sep =\",\")\n",
    "Prec.columns=['TASK', 'IMMEDIATE_PRECEDESSOR']\n",
    "Prec.head()"
   ]
  },
  {
   "cell_type": "markdown",
   "id": "97507f02",
   "metadata": {},
   "source": [
    "### Create a precedence matrix of tasks "
   ]
  },
  {
   "cell_type": "code",
   "execution_count": 13,
   "id": "f38a3c27",
   "metadata": {},
   "outputs": [
    {
     "data": {
      "text/plain": [
       "array([[0, 0, 1, 0, 0, 0],\n",
       "       [0, 0, 0, 1, 0, 0],\n",
       "       [0, 0, 0, 0, 1, 0],\n",
       "       [0, 0, 0, 0, 1, 1],\n",
       "       [0, 0, 0, 0, 0, 0],\n",
       "       [0, 0, 0, 0, 0, 0]])"
      ]
     },
     "execution_count": 13,
     "metadata": {},
     "output_type": "execute_result"
    }
   ],
   "source": [
    "Prec_Matrix = Precedence_Matrix(tasks, Prec)\n",
    "Prec_Matrix"
   ]
  },
  {
   "cell_type": "code",
   "execution_count": 14,
   "id": "a925eb3c",
   "metadata": {},
   "outputs": [],
   "source": [
    "# the cycle time for the assembly line balancing problem  where Cycle_time = daily demand / daily work time \n",
    "# Cycle_time = 10 for the second example\n",
    "Cycle_time = 4\n",
    "# the total sum of processing times\n",
    "total_processing_time = tasks[\"Duration\"].sum()\n",
    "#the number of tasks \n",
    "N = tasks[\"Duration\"].count()\n",
    "# the number of maximum workstation where TN_M_WS = raundup(total_processing_time/N)\n",
    "TN_M_WS = math.ceil(total_processing_time/N)\n",
    "# the number of possible workstations for tasks  having task durations that are greater than the half of the cycle time \n",
    "TN_P_WS = Total_Number_Possible_Work_Station(tasks, Cycle_time)\n",
    "# the accual number of workstations will be greater than or equal to  TN_M_WS and/or TN_P_WS\n",
    "WS = max(TN_M_WS,TN_P_WS) +1 \n",
    "# the average workstation workload \n",
    "average_WS_time = total_processing_time / WS"
   ]
  },
  {
   "cell_type": "code",
   "execution_count": 15,
   "id": "d1d04532",
   "metadata": {},
   "outputs": [
    {
     "data": {
      "text/plain": [
       "['T2', 'T4', 'T1', 'T6', 'T5', 'T3']"
      ]
     },
     "execution_count": 15,
     "metadata": {},
     "output_type": "execute_result"
    }
   ],
   "source": [
    "# generating a initial solution  \n",
    "solution = Initial_Solution(len(tasks))\n",
    "# making the generated feasible solution a feasible one considering the task precedence relations \n",
    "solution = Make_Solution_Feasible(solution, Prec)\n",
    "solution"
   ]
  },
  {
   "cell_type": "code",
   "execution_count": 16,
   "id": "25ca6f68",
   "metadata": {},
   "outputs": [
    {
     "name": "stdout",
     "output_type": "stream",
     "text": [
      "######## The Smoothing Index value for ['T2', 'T4', 'T1', 'T6', 'T5', 'T3'] solution sequence is: 1.1832159566199232 ########\n",
      "######## The number of workstations for ['T2', 'T4', 'T1', 'T6', 'T5', 'T3'] solution sequence is: 5 ########\n",
      "######## The workloads of workstation for ['T2', 'T4', 'T1', 'T6', 'T5', 'T3'] solution sequence are: [4. 2. 3. 3. 3.] ########\n",
      "1.1832159566199232\n"
     ]
    }
   ],
   "source": [
    "# calculating the smoothing index of the solution \n",
    "SI = Smoothing_index(solution, WS, tasks, True)\n",
    "print(SI)"
   ]
  },
  {
   "cell_type": "code",
   "execution_count": 17,
   "id": "4b0d27dd",
   "metadata": {},
   "outputs": [
    {
     "data": {
      "text/html": [
       "<div>\n",
       "<style scoped>\n",
       "    .dataframe tbody tr th:only-of-type {\n",
       "        vertical-align: middle;\n",
       "    }\n",
       "\n",
       "    .dataframe tbody tr th {\n",
       "        vertical-align: top;\n",
       "    }\n",
       "\n",
       "    .dataframe thead th {\n",
       "        text-align: right;\n",
       "    }\n",
       "</style>\n",
       "<table border=\"1\" class=\"dataframe\">\n",
       "  <thead>\n",
       "    <tr style=\"text-align: right;\">\n",
       "      <th></th>\n",
       "      <th>Task_1</th>\n",
       "      <th>Task_2</th>\n",
       "      <th>Feasible</th>\n",
       "      <th>Tabued</th>\n",
       "      <th>Value</th>\n",
       "    </tr>\n",
       "  </thead>\n",
       "  <tbody>\n",
       "    <tr>\n",
       "      <th>0</th>\n",
       "      <td>T1</td>\n",
       "      <td>T2</td>\n",
       "      <td>T</td>\n",
       "      <td>0</td>\n",
       "      <td>1000</td>\n",
       "    </tr>\n",
       "    <tr>\n",
       "      <th>1</th>\n",
       "      <td>T1</td>\n",
       "      <td>T3</td>\n",
       "      <td>F</td>\n",
       "      <td>0</td>\n",
       "      <td>1000</td>\n",
       "    </tr>\n",
       "    <tr>\n",
       "      <th>2</th>\n",
       "      <td>T1</td>\n",
       "      <td>T4</td>\n",
       "      <td>T</td>\n",
       "      <td>0</td>\n",
       "      <td>1000</td>\n",
       "    </tr>\n",
       "    <tr>\n",
       "      <th>3</th>\n",
       "      <td>T1</td>\n",
       "      <td>T5</td>\n",
       "      <td>T</td>\n",
       "      <td>0</td>\n",
       "      <td>1000</td>\n",
       "    </tr>\n",
       "    <tr>\n",
       "      <th>4</th>\n",
       "      <td>T1</td>\n",
       "      <td>T6</td>\n",
       "      <td>T</td>\n",
       "      <td>0</td>\n",
       "      <td>1000</td>\n",
       "    </tr>\n",
       "    <tr>\n",
       "      <th>5</th>\n",
       "      <td>T2</td>\n",
       "      <td>T3</td>\n",
       "      <td>T</td>\n",
       "      <td>0</td>\n",
       "      <td>1000</td>\n",
       "    </tr>\n",
       "    <tr>\n",
       "      <th>6</th>\n",
       "      <td>T2</td>\n",
       "      <td>T4</td>\n",
       "      <td>F</td>\n",
       "      <td>0</td>\n",
       "      <td>1000</td>\n",
       "    </tr>\n",
       "    <tr>\n",
       "      <th>7</th>\n",
       "      <td>T2</td>\n",
       "      <td>T5</td>\n",
       "      <td>T</td>\n",
       "      <td>0</td>\n",
       "      <td>1000</td>\n",
       "    </tr>\n",
       "    <tr>\n",
       "      <th>8</th>\n",
       "      <td>T2</td>\n",
       "      <td>T6</td>\n",
       "      <td>T</td>\n",
       "      <td>0</td>\n",
       "      <td>1000</td>\n",
       "    </tr>\n",
       "    <tr>\n",
       "      <th>9</th>\n",
       "      <td>T3</td>\n",
       "      <td>T4</td>\n",
       "      <td>T</td>\n",
       "      <td>0</td>\n",
       "      <td>1000</td>\n",
       "    </tr>\n",
       "    <tr>\n",
       "      <th>10</th>\n",
       "      <td>T3</td>\n",
       "      <td>T5</td>\n",
       "      <td>F</td>\n",
       "      <td>0</td>\n",
       "      <td>1000</td>\n",
       "    </tr>\n",
       "    <tr>\n",
       "      <th>11</th>\n",
       "      <td>T3</td>\n",
       "      <td>T6</td>\n",
       "      <td>T</td>\n",
       "      <td>0</td>\n",
       "      <td>1000</td>\n",
       "    </tr>\n",
       "    <tr>\n",
       "      <th>12</th>\n",
       "      <td>T4</td>\n",
       "      <td>T5</td>\n",
       "      <td>F</td>\n",
       "      <td>0</td>\n",
       "      <td>1000</td>\n",
       "    </tr>\n",
       "    <tr>\n",
       "      <th>13</th>\n",
       "      <td>T4</td>\n",
       "      <td>T6</td>\n",
       "      <td>F</td>\n",
       "      <td>0</td>\n",
       "      <td>1000</td>\n",
       "    </tr>\n",
       "    <tr>\n",
       "      <th>14</th>\n",
       "      <td>T5</td>\n",
       "      <td>T6</td>\n",
       "      <td>T</td>\n",
       "      <td>0</td>\n",
       "      <td>1000</td>\n",
       "    </tr>\n",
       "  </tbody>\n",
       "</table>\n",
       "</div>"
      ],
      "text/plain": [
       "   Task_1 Task_2 Feasible Tabued Value\n",
       "0      T1     T2        T      0  1000\n",
       "1      T1     T3        F      0  1000\n",
       "2      T1     T4        T      0  1000\n",
       "3      T1     T5        T      0  1000\n",
       "4      T1     T6        T      0  1000\n",
       "5      T2     T3        T      0  1000\n",
       "6      T2     T4        F      0  1000\n",
       "7      T2     T5        T      0  1000\n",
       "8      T2     T6        T      0  1000\n",
       "9      T3     T4        T      0  1000\n",
       "10     T3     T5        F      0  1000\n",
       "11     T3     T6        T      0  1000\n",
       "12     T4     T5        F      0  1000\n",
       "13     T4     T6        F      0  1000\n",
       "14     T5     T6        T      0  1000"
      ]
     },
     "execution_count": 17,
     "metadata": {},
     "output_type": "execute_result"
    }
   ],
   "source": [
    "# generating a tabu structure related the given problem and assigning it to a dataframe \n",
    "Tabu_Structure = Create_Tabu_Strcuture(tasks, Prec_Matrix)\n",
    "# calculating the size of the tabu structure \n",
    "K = math.comb(len(tasks),2)\n",
    "# displaying the tabu structure \n",
    "Tabu_Structure.head(K)"
   ]
  },
  {
   "cell_type": "code",
   "execution_count": 18,
   "id": "86e968c1",
   "metadata": {},
   "outputs": [],
   "source": [
    "# Termination is the limit of the how many iterations is to be done in the Tabu Search algorithm \n",
    "Termination =0\n",
    "# Tenure is the size of the Tabu list for how many iterations a solution component is kept as Tabu\n",
    "tenure = 3"
   ]
  },
  {
   "cell_type": "code",
   "execution_count": 19,
   "id": "48571b5b",
   "metadata": {},
   "outputs": [
    {
     "name": "stdout",
     "output_type": "stream",
     "text": [
      "['T2', 'T1', 'T4', 'T3', 'T6', 'T5']\n",
      "0.0\n"
     ]
    }
   ],
   "source": [
    "# Tabu search algorithm \n",
    "while Termination <100: \n",
    "    i1 = 0\n",
    "    i2 = 0\n",
    "    while i1==i2: \n",
    "        i1 = rd.randint(0, len(solution)-1)\n",
    "        i2 = rd.randint(0, len(solution)-1)\n",
    "\n",
    "    t1 = solution[i1]\n",
    "    t2 = solution[i2]\n",
    "    # solution incumbent solution  \n",
    "    # sol_n neighborhood solution of solution \n",
    "    # sol_nb the best neigborhood solution of incumbent solution\n",
    "    # sol_best the best solution in the memory \n",
    "    sol_best = solution[:]\n",
    "    SI_best = SI\n",
    "    sol_nb = solution[:]\n",
    "    SI_nb = SI\n",
    "    sol_n = solution[:]\n",
    "    SI_n = SI\n",
    "\n",
    "    for k in Tabu_Structure.index:\n",
    "        if (t1 == Tabu_Structure.iloc[k][Tabu_Structure.columns[0]] and t2 == Tabu_Structure.iloc[k][Tabu_Structure.columns[1]] and Tabu_Structure.iloc[k][Tabu_Structure.columns[2]] ==\"T\" and Tabu_Structure.iloc[k][Tabu_Structure.columns[3]] ==0) or (t2 == Tabu_Structure.iloc[k][Tabu_Structure.columns[0]] and t1 == Tabu_Structure.iloc[k][Tabu_Structure.columns[1]] and Tabu_Structure.iloc[k][Tabu_Structure.columns[2]] ==\"T\" and Tabu_Structure.iloc[k][Tabu_Structure.columns[3]] ==0):\n",
    "            sol_n = N_Swap(solution, i1, i2)\n",
    "            SI_n = Smoothing_index(sol_n, WS, tasks)\n",
    "            Tabu_Structure.iat[k, 4]=SI_n\n",
    "            Tabu_Structure.iat[k, 3]=tenure\n",
    "            if SI_nb > SI_n: \n",
    "                SI_nb = SI_n\n",
    "                sol_nb = sol_n[:]              \n",
    "            if SI_best > SI_n: \n",
    "                SI_best = SI_n\n",
    "                sol_best = sol_n[:]  \n",
    "        else: \n",
    "            #aspiration \n",
    "            if (t1 == Tabu_Structure.iloc[k][Tabu_Structure.columns[0]] and t2 == Tabu_Structure.iloc[k][Tabu_Structure.columns[1]] and Tabu_Structure.iloc[k][Tabu_Structure.columns[2]] ==\"T\" and Tabu_Structure.iloc[k][Tabu_Structure.columns[3]] >0) or (t2 == Tabu_Structure.iloc[k][Tabu_Structure.columns[0]] and t1 == Tabu_Structure.iloc[k][Tabu_Structure.columns[1]] and Tabu_Structure.iloc[k][Tabu_Structure.columns[2]] ==\"T\" and Tabu_Structure.iloc[k][Tabu_Structure.columns[3]] >0):\n",
    "                sol_n = N_Swap(solution, i1, i2)\n",
    "                SI_n = Smoothing_index(sol_n, WS, tasks)\n",
    "                Tabu_Structure.iat[k, 4]=SI_n\n",
    "                t = Tabu_Structure.iloc[k][Tabu_Structure.columns[3]] \n",
    "                Tabu_Structure.iat[k, 3]=t-1\n",
    "                if SI_best > SI_n: \n",
    "                    SI_best = SI_n\n",
    "                    sol_best = sol_n[:]    \n",
    "    solution = sol_nb[:]\n",
    "    SI = SI_nb\n",
    "    Termination = Termination + 1\n",
    "print(sol_best)   \n",
    "print(SI_best)"
   ]
  },
  {
   "cell_type": "code",
   "execution_count": 20,
   "id": "1b20884f",
   "metadata": {},
   "outputs": [
    {
     "data": {
      "text/html": [
       "<div>\n",
       "<style scoped>\n",
       "    .dataframe tbody tr th:only-of-type {\n",
       "        vertical-align: middle;\n",
       "    }\n",
       "\n",
       "    .dataframe tbody tr th {\n",
       "        vertical-align: top;\n",
       "    }\n",
       "\n",
       "    .dataframe thead th {\n",
       "        text-align: right;\n",
       "    }\n",
       "</style>\n",
       "<table border=\"1\" class=\"dataframe\">\n",
       "  <thead>\n",
       "    <tr style=\"text-align: right;\">\n",
       "      <th></th>\n",
       "      <th>Task_1</th>\n",
       "      <th>Task_2</th>\n",
       "      <th>Feasible</th>\n",
       "      <th>Tabued</th>\n",
       "      <th>Value</th>\n",
       "    </tr>\n",
       "  </thead>\n",
       "  <tbody>\n",
       "    <tr>\n",
       "      <th>0</th>\n",
       "      <td>T1</td>\n",
       "      <td>T2</td>\n",
       "      <td>T</td>\n",
       "      <td>3</td>\n",
       "      <td>1.183216</td>\n",
       "    </tr>\n",
       "    <tr>\n",
       "      <th>1</th>\n",
       "      <td>T1</td>\n",
       "      <td>T3</td>\n",
       "      <td>F</td>\n",
       "      <td>0</td>\n",
       "      <td>1000</td>\n",
       "    </tr>\n",
       "    <tr>\n",
       "      <th>2</th>\n",
       "      <td>T1</td>\n",
       "      <td>T4</td>\n",
       "      <td>T</td>\n",
       "      <td>0</td>\n",
       "      <td>1.183216</td>\n",
       "    </tr>\n",
       "    <tr>\n",
       "      <th>3</th>\n",
       "      <td>T1</td>\n",
       "      <td>T5</td>\n",
       "      <td>T</td>\n",
       "      <td>3</td>\n",
       "      <td>1.183216</td>\n",
       "    </tr>\n",
       "    <tr>\n",
       "      <th>4</th>\n",
       "      <td>T1</td>\n",
       "      <td>T6</td>\n",
       "      <td>T</td>\n",
       "      <td>2</td>\n",
       "      <td>1.183216</td>\n",
       "    </tr>\n",
       "    <tr>\n",
       "      <th>5</th>\n",
       "      <td>T2</td>\n",
       "      <td>T3</td>\n",
       "      <td>T</td>\n",
       "      <td>1</td>\n",
       "      <td>1.183216</td>\n",
       "    </tr>\n",
       "    <tr>\n",
       "      <th>6</th>\n",
       "      <td>T2</td>\n",
       "      <td>T4</td>\n",
       "      <td>F</td>\n",
       "      <td>0</td>\n",
       "      <td>1000</td>\n",
       "    </tr>\n",
       "    <tr>\n",
       "      <th>7</th>\n",
       "      <td>T2</td>\n",
       "      <td>T5</td>\n",
       "      <td>T</td>\n",
       "      <td>2</td>\n",
       "      <td>1.183216</td>\n",
       "    </tr>\n",
       "    <tr>\n",
       "      <th>8</th>\n",
       "      <td>T2</td>\n",
       "      <td>T6</td>\n",
       "      <td>T</td>\n",
       "      <td>0</td>\n",
       "      <td>1.183216</td>\n",
       "    </tr>\n",
       "    <tr>\n",
       "      <th>9</th>\n",
       "      <td>T3</td>\n",
       "      <td>T4</td>\n",
       "      <td>T</td>\n",
       "      <td>3</td>\n",
       "      <td>1.183216</td>\n",
       "    </tr>\n",
       "    <tr>\n",
       "      <th>10</th>\n",
       "      <td>T3</td>\n",
       "      <td>T5</td>\n",
       "      <td>F</td>\n",
       "      <td>0</td>\n",
       "      <td>1000</td>\n",
       "    </tr>\n",
       "    <tr>\n",
       "      <th>11</th>\n",
       "      <td>T3</td>\n",
       "      <td>T6</td>\n",
       "      <td>T</td>\n",
       "      <td>3</td>\n",
       "      <td>1.183216</td>\n",
       "    </tr>\n",
       "    <tr>\n",
       "      <th>12</th>\n",
       "      <td>T4</td>\n",
       "      <td>T5</td>\n",
       "      <td>F</td>\n",
       "      <td>0</td>\n",
       "      <td>1000</td>\n",
       "    </tr>\n",
       "    <tr>\n",
       "      <th>13</th>\n",
       "      <td>T4</td>\n",
       "      <td>T6</td>\n",
       "      <td>F</td>\n",
       "      <td>0</td>\n",
       "      <td>1000</td>\n",
       "    </tr>\n",
       "    <tr>\n",
       "      <th>14</th>\n",
       "      <td>T5</td>\n",
       "      <td>T6</td>\n",
       "      <td>T</td>\n",
       "      <td>0</td>\n",
       "      <td>1.183216</td>\n",
       "    </tr>\n",
       "  </tbody>\n",
       "</table>\n",
       "</div>"
      ],
      "text/plain": [
       "   Task_1 Task_2 Feasible Tabued     Value\n",
       "0      T1     T2        T      3  1.183216\n",
       "1      T1     T3        F      0      1000\n",
       "2      T1     T4        T      0  1.183216\n",
       "3      T1     T5        T      3  1.183216\n",
       "4      T1     T6        T      2  1.183216\n",
       "5      T2     T3        T      1  1.183216\n",
       "6      T2     T4        F      0      1000\n",
       "7      T2     T5        T      2  1.183216\n",
       "8      T2     T6        T      0  1.183216\n",
       "9      T3     T4        T      3  1.183216\n",
       "10     T3     T5        F      0      1000\n",
       "11     T3     T6        T      3  1.183216\n",
       "12     T4     T5        F      0      1000\n",
       "13     T4     T6        F      0      1000\n",
       "14     T5     T6        T      0  1.183216"
      ]
     },
     "execution_count": 20,
     "metadata": {},
     "output_type": "execute_result"
    }
   ],
   "source": [
    "Tabu_Structure.head(K)"
   ]
  },
  {
   "cell_type": "markdown",
   "id": "40c3b301",
   "metadata": {},
   "source": [
    "### Display the final solution's details "
   ]
  },
  {
   "cell_type": "code",
   "execution_count": 21,
   "id": "5b96fcc8",
   "metadata": {},
   "outputs": [
    {
     "name": "stdout",
     "output_type": "stream",
     "text": [
      "######## The Smoothing Index value for ['T2', 'T1', 'T4', 'T3', 'T6', 'T5'] solution sequence is: 0.0 ########\n",
      "######## The number of workstations for ['T2', 'T1', 'T4', 'T3', 'T6', 'T5'] solution sequence is: 5 ########\n",
      "######## The workloads of workstation for ['T2', 'T1', 'T4', 'T3', 'T6', 'T5'] solution sequence are: [3. 3. 3. 3. 3.] ########\n"
     ]
    },
    {
     "data": {
      "text/plain": [
       "0.0"
      ]
     },
     "execution_count": 21,
     "metadata": {},
     "output_type": "execute_result"
    }
   ],
   "source": [
    "Smoothing_index(solution, WS, tasks, True)"
   ]
  },
  {
   "cell_type": "markdown",
   "id": "091eeeac",
   "metadata": {},
   "source": [
    "### Plot the solution "
   ]
  },
  {
   "cell_type": "code",
   "execution_count": 22,
   "id": "c7202778",
   "metadata": {},
   "outputs": [
    {
     "data": {
      "image/png": "[encoded data removed]",
      "text/plain": [
       "<Figure size 640x480 with 1 Axes>"
      ]
     },
     "metadata": {},
     "output_type": "display_data"
    }
   ],
   "source": [
    "plt = Make_Solution_to_plot(solution, WS, tasks, Cycle_time)\n",
    "plt.show()"
   ]
  }
 ],
 "metadata": {
  "celltoolbar": "Tags",
  "kernelspec": {
   "display_name": "Python 3 (ipykernel)",
   "language": "python",
   "name": "python3"
  },
  "language_info": {
   "codemirror_mode": {
    "name": "ipython",
    "version": 3
   },
   "file_extension": ".py",
   "mimetype": "text/x-python",
   "name": "python",
   "nbconvert_exporter": "python",
   "pygments_lexer": "ipython3",
   "version": "3.10.6"
  }
 },
 "nbformat": 4,
 "nbformat_minor": 5
}
