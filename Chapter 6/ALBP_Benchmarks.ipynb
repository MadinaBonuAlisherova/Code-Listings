{
 "cells": [
  {
   "cell_type": "markdown",
   "id": "a416bdd5-cf90-4169-8094-844101b6e7d4",
   "metadata": {},
   "source": [
    "# Solving SALBP using Tabu Search"
   ]
  },
  {
   "cell_type": "code",
   "execution_count": 1,
   "id": "76b2d075-dde4-46b6-845e-1dcb70ab827f",
   "metadata": {},
   "outputs": [],
   "source": [
    "from optimization_algorithms_tools.algorithms import TabuSearch\n",
    "from optimization_algorithms_tools.problems import ALBP"
   ]
  },
  {
   "cell_type": "markdown",
   "id": "2a023cdf-e6c9-498c-8bbb-65b7e003785b",
   "metadata": {},
   "source": [
    "## SALBP bencemark datasets\n",
    "### Data is available in Appendix B of the book's GitHub repo and can be read directly using URL begins with raw."
   ]
  },
  {
   "cell_type": "code",
   "execution_count": 2,
   "id": "af098108-7351-404b-8e47-224f2d755c53",
   "metadata": {},
   "outputs": [],
   "source": [
    "data_url=\"https://raw.githubusercontent.com/Optimization-Algorithms-Book/Code-Listings/main/Appendix%20B/data/ALBP/SALBP-data-sets/precedence%20graphs/\""
   ]
  },
  {
   "cell_type": "markdown",
   "id": "35552ddf-5a56-4b22-9663-caa317ad0024",
   "metadata": {},
   "source": [
    "## MANSOOR.IN2 Problem\n",
    "## The best number of workstations for a given cycle time = 48 is 4 "
   ]
  },
  {
   "cell_type": "code",
   "execution_count": 3,
   "id": "90c022d8-2c1f-4947-aa89-8e6922893065",
   "metadata": {},
   "outputs": [
    {
     "name": "stdout",
     "output_type": "stream",
     "text": [
      "Task Duration\n"
     ]
    },
    {
     "data": {
      "text/html": [
       "<div>\n",
       "<style scoped>\n",
       "    .dataframe tbody tr th:only-of-type {\n",
       "        vertical-align: middle;\n",
       "    }\n",
       "\n",
       "    .dataframe tbody tr th {\n",
       "        vertical-align: top;\n",
       "    }\n",
       "\n",
       "    .dataframe thead th {\n",
       "        text-align: right;\n",
       "    }\n",
       "</style>\n",
       "<table border=\"1\" class=\"dataframe\">\n",
       "  <thead>\n",
       "    <tr style=\"text-align: right;\">\n",
       "      <th></th>\n",
       "      <th>Task</th>\n",
       "      <th>Duration</th>\n",
       "    </tr>\n",
       "  </thead>\n",
       "  <tbody>\n",
       "    <tr>\n",
       "      <th>0</th>\n",
       "      <td>T1</td>\n",
       "      <td>4</td>\n",
       "    </tr>\n",
       "    <tr>\n",
       "      <th>1</th>\n",
       "      <td>T2</td>\n",
       "      <td>38</td>\n",
       "    </tr>\n",
       "    <tr>\n",
       "      <th>2</th>\n",
       "      <td>T3</td>\n",
       "      <td>45</td>\n",
       "    </tr>\n",
       "    <tr>\n",
       "      <th>3</th>\n",
       "      <td>T4</td>\n",
       "      <td>12</td>\n",
       "    </tr>\n",
       "    <tr>\n",
       "      <th>4</th>\n",
       "      <td>T5</td>\n",
       "      <td>10</td>\n",
       "    </tr>\n",
       "    <tr>\n",
       "      <th>5</th>\n",
       "      <td>T6</td>\n",
       "      <td>8</td>\n",
       "    </tr>\n",
       "    <tr>\n",
       "      <th>6</th>\n",
       "      <td>T7</td>\n",
       "      <td>12</td>\n",
       "    </tr>\n",
       "    <tr>\n",
       "      <th>7</th>\n",
       "      <td>T8</td>\n",
       "      <td>10</td>\n",
       "    </tr>\n",
       "    <tr>\n",
       "      <th>8</th>\n",
       "      <td>T9</td>\n",
       "      <td>2</td>\n",
       "    </tr>\n",
       "    <tr>\n",
       "      <th>9</th>\n",
       "      <td>T10</td>\n",
       "      <td>10</td>\n",
       "    </tr>\n",
       "    <tr>\n",
       "      <th>10</th>\n",
       "      <td>T11</td>\n",
       "      <td>34</td>\n",
       "    </tr>\n",
       "  </tbody>\n",
       "</table>\n",
       "</div>"
      ],
      "text/plain": [
       "   Task Duration\n",
       "0    T1        4\n",
       "1    T2       38\n",
       "2    T3       45\n",
       "3    T4       12\n",
       "4    T5       10\n",
       "5    T6        8\n",
       "6    T7       12\n",
       "7    T8       10\n",
       "8    T9        2\n",
       "9   T10       10\n",
       "10  T11       34"
      ]
     },
     "execution_count": 3,
     "metadata": {},
     "output_type": "execute_result"
    }
   ],
   "source": [
    "# create an ALBP instance\n",
    "albp_instance= ALBP(data_url, \"MANSOOR.IN2\", 48.0)\n",
    "print(\"Task Duration\")\n",
    "albp_instance.Get_Tasks(data_url, \"MANSOOR.IN2\")"
   ]
  },
  {
   "cell_type": "code",
   "execution_count": 4,
   "id": "caf0bdcb-2eda-4f81-a2cb-963a600ca1a6",
   "metadata": {},
   "outputs": [
    {
     "name": "stdout",
     "output_type": "stream",
     "text": [
      "Task Precedence\n"
     ]
    },
    {
     "data": {
      "text/html": [
       "<div>\n",
       "<style scoped>\n",
       "    .dataframe tbody tr th:only-of-type {\n",
       "        vertical-align: middle;\n",
       "    }\n",
       "\n",
       "    .dataframe tbody tr th {\n",
       "        vertical-align: top;\n",
       "    }\n",
       "\n",
       "    .dataframe thead th {\n",
       "        text-align: right;\n",
       "    }\n",
       "</style>\n",
       "<table border=\"1\" class=\"dataframe\">\n",
       "  <thead>\n",
       "    <tr style=\"text-align: right;\">\n",
       "      <th></th>\n",
       "      <th>TASK</th>\n",
       "      <th>IMMEDIATE_PRECEDESSOR</th>\n",
       "    </tr>\n",
       "  </thead>\n",
       "  <tbody>\n",
       "    <tr>\n",
       "      <th>0</th>\n",
       "      <td>T1</td>\n",
       "      <td>T4</td>\n",
       "    </tr>\n",
       "    <tr>\n",
       "      <th>1</th>\n",
       "      <td>T2</td>\n",
       "      <td>T4</td>\n",
       "    </tr>\n",
       "    <tr>\n",
       "      <th>2</th>\n",
       "      <td>T2</td>\n",
       "      <td>T5</td>\n",
       "    </tr>\n",
       "    <tr>\n",
       "      <th>3</th>\n",
       "      <td>T3</td>\n",
       "      <td>T11</td>\n",
       "    </tr>\n",
       "    <tr>\n",
       "      <th>4</th>\n",
       "      <td>T4</td>\n",
       "      <td>T6</td>\n",
       "    </tr>\n",
       "    <tr>\n",
       "      <th>5</th>\n",
       "      <td>T5</td>\n",
       "      <td>T7</td>\n",
       "    </tr>\n",
       "    <tr>\n",
       "      <th>6</th>\n",
       "      <td>T6</td>\n",
       "      <td>T8</td>\n",
       "    </tr>\n",
       "    <tr>\n",
       "      <th>7</th>\n",
       "      <td>T7</td>\n",
       "      <td>T9</td>\n",
       "    </tr>\n",
       "    <tr>\n",
       "      <th>8</th>\n",
       "      <td>T8</td>\n",
       "      <td>T10</td>\n",
       "    </tr>\n",
       "    <tr>\n",
       "      <th>9</th>\n",
       "      <td>T9</td>\n",
       "      <td>T10</td>\n",
       "    </tr>\n",
       "    <tr>\n",
       "      <th>10</th>\n",
       "      <td>T10</td>\n",
       "      <td>T11</td>\n",
       "    </tr>\n",
       "  </tbody>\n",
       "</table>\n",
       "</div>"
      ],
      "text/plain": [
       "   TASK IMMEDIATE_PRECEDESSOR\n",
       "0    T1                    T4\n",
       "1    T2                    T4\n",
       "2    T2                    T5\n",
       "3    T3                   T11\n",
       "4    T4                    T6\n",
       "5    T5                    T7\n",
       "6    T6                    T8\n",
       "7    T7                    T9\n",
       "8    T8                   T10\n",
       "9    T9                   T10\n",
       "10  T10                   T11"
      ]
     },
     "execution_count": 4,
     "metadata": {},
     "output_type": "execute_result"
    }
   ],
   "source": [
    "print(\"Task Precedence\")\n",
    "albp_instance.Get_Prec(data_url, \"MANSOOR.IN2\") "
   ]
  },
  {
   "cell_type": "code",
   "execution_count": 5,
   "id": "7f849c20-ac0f-4355-b018-9a3c3e288a0d",
   "metadata": {},
   "outputs": [
    {
     "name": "stdout",
     "output_type": "stream",
     "text": [
      "######## The Smoothing Index value for ['T1', 'T2', 'T5', 'T4', 'T3', 'T6', 'T8', 'T7', 'T9', 'T10', 'T11'] solution sequence is: 11.55854662143991 ########\n",
      "######## The number of workstations for ['T1', 'T2', 'T5', 'T4', 'T3', 'T6', 'T8', 'T7', 'T9', 'T10', 'T11'] solution sequence is: 5 ########\n",
      "######## The workloads of workstation for ['T1', 'T2', 'T5', 'T4', 'T3', 'T6', 'T8', 'T7', 'T9', 'T10', 'T11'] solution sequence are: [42. 22. 45. 42. 34.] ########\n",
      "5\n"
     ]
    }
   ],
   "source": [
    "# create an instance of TS solver\n",
    "ts = TabuSearch(max_iter=20, tabu_tenure=4, neighbor_size=5, use_aspiration=True, aspiration_limit=None, use_longterm=False)\n",
    "ts.init_ts(albp_instance) \n",
    "ts.run(albp_instance, repetition=5)\n",
    "\n",
    "# calculating the smoothing index of the solution \n",
    "# Smoothing_index(solution, WS, tasks, , show = False)\n",
    "SI = albp_instance.Smoothing_index(list(ts.s_best), ts.val_best, albp_instance.tasks, True)\n",
    "\n",
    "# Print results\n",
    "print(SI)"
   ]
  },
  {
   "cell_type": "markdown",
   "id": "5eccf5e4-d927-4ba1-9224-398ff45a8f61",
   "metadata": {},
   "source": [
    "## MITCHELL.IN2 Problem\n",
    "## The best number of workstations for a given cycle time = 26 is 5 "
   ]
  },
  {
   "cell_type": "code",
   "execution_count": 6,
   "id": "5092561a",
   "metadata": {},
   "outputs": [
    {
     "name": "stdout",
     "output_type": "stream",
     "text": [
      "######## The Smoothing Index value for ['T1', 'T3', 'T2', 'T4', 'T5', 'T7', 'T6', 'T8', 'T9', 'T11', 'T10', 'T12', 'T21', 'T13', 'T15', 'T16', 'T18', 'T14', 'T19', 'T17', 'T20'] solution sequence is: 4.0743097574926725 ########\n",
      "######## The number of workstations for ['T1', 'T3', 'T2', 'T4', 'T5', 'T7', 'T6', 'T8', 'T9', 'T11', 'T10', 'T12', 'T21', 'T13', 'T15', 'T16', 'T18', 'T14', 'T19', 'T17', 'T20'] solution sequence is: 5 ########\n",
      "######## The workloads of workstation for ['T1', 'T3', 'T2', 'T4', 'T5', 'T7', 'T6', 'T8', 'T9', 'T11', 'T10', 'T12', 'T21', 'T13', 'T15', 'T16', 'T18', 'T14', 'T19', 'T17', 'T20'] solution sequence are: [21. 21. 24. 23. 16.] ########\n",
      "5\n"
     ]
    }
   ],
   "source": [
    "# albp_instance= ALBP(\"./ALBP/SALBP-data-sets/precedence graphs\", \"MITCHELL.IN2\", 26.0)\n",
    "albp_instance= ALBP(data_url, \"MITCHELL.IN2\", 26.0)\n",
    "\n",
    "ts = TabuSearch(max_iter=20, tabu_tenure=4, neighbor_size=5, use_aspiration=True, aspiration_limit=None, use_longterm=False)\n",
    "ts.init_ts(albp_instance) \n",
    "ts.run(albp_instance, repetition=5)\n",
    "\n",
    "# calculating the smoothing index of the solution \n",
    "# Smoothing_index(solution, WS, tasks, , show = False)\n",
    "SI = albp_instance.Smoothing_index(list(ts.s_best), ts.val_best, albp_instance.tasks, True)\n",
    "\n",
    "# Print results\n",
    "print(SI)"
   ]
  },
  {
   "cell_type": "markdown",
   "id": "996f973f-c447-4edc-ac66-45843782d7da",
   "metadata": {},
   "source": [
    "## SAWYER30.IN2 Problem\n",
    "## The best number of workstations for a given cycle time = 26 is 10"
   ]
  },
  {
   "cell_type": "code",
   "execution_count": 7,
   "id": "d3d24f44",
   "metadata": {},
   "outputs": [
    {
     "name": "stdout",
     "output_type": "stream",
     "text": [
      "######## The Smoothing Index value for ['T3', 'T2', 'T1', 'T4', 'T17', 'T5', 'T10', 'T18', 'T12', 'T13', 'T14', 'T11', 'T16', 'T20', 'T24', 'T21', 'T25', 'T6', 'T7', 'T15', 'T8', 'T22', 'T9', 'T19', 'T23', 'T26', 'T27', 'T28', 'T29', 'T30'] solution sequence is: 8.95358401237553 ########\n",
      "######## The number of workstations for ['T3', 'T2', 'T1', 'T4', 'T17', 'T5', 'T10', 'T18', 'T12', 'T13', 'T14', 'T11', 'T16', 'T20', 'T24', 'T21', 'T25', 'T6', 'T7', 'T15', 'T8', 'T22', 'T9', 'T19', 'T23', 'T26', 'T27', 'T28', 'T29', 'T30'] solution sequence is: 12 ########\n",
      "######## The workloads of workstation for ['T3', 'T2', 'T1', 'T4', 'T17', 'T5', 'T10', 'T18', 'T12', 'T13', 'T14', 'T11', 'T16', 'T20', 'T24', 'T21', 'T25', 'T6', 'T7', 'T15', 'T8', 'T22', 'T9', 'T19', 'T23', 'T26', 'T27', 'T28', 'T29', 'T30'] solution sequence are: [34. 28. 32. 24. 23. 21. 23. 33. 33. 25. 32. 16.] ########\n",
      "12\n"
     ]
    }
   ],
   "source": [
    "# albp_instance= ALBP(\"./ALBP/SALBP-data-sets/precedence graphs\", \"SAWYER30.IN2\", 36.0)\n",
    "albp_instance= ALBP(data_url, \"SAWYER30.IN2\", 36.0)\n",
    "ts = TabuSearch(max_iter=20, tabu_tenure=4, neighbor_size=5, use_aspiration=True, aspiration_limit=None, use_longterm=False)\n",
    "ts.init_ts(albp_instance) \n",
    "ts.run(albp_instance, repetition=5)\n",
    "\n",
    "# calculating the smoothing index of the solution \n",
    "# Smoothing_index(solution, WS, tasks, , show = False)\n",
    "SI = albp_instance.Smoothing_index(list(ts.s_best), ts.val_best, albp_instance.tasks, True)\n",
    "\n",
    "# Print results\n",
    "print(SI)"
   ]
  },
  {
   "cell_type": "markdown",
   "id": "ff1a1527-d522-4b71-89c2-d443b8d817f2",
   "metadata": {},
   "source": [
    "## HAHN.IN2 Problem\n",
    "## The best number of workstations for a given cycle time = 2338 is 7"
   ]
  },
  {
   "cell_type": "code",
   "execution_count": 8,
   "id": "378cf4d3",
   "metadata": {},
   "outputs": [
    {
     "name": "stdout",
     "output_type": "stream",
     "text": [
      "######## The Smoothing Index value for ['T1', 'T7', 'T8', 'T5', 'T6', 'T4', 'T9', 'T10', 'T11', 'T12', 'T13', 'T3', 'T15', 'T17', 'T14', 'T19', 'T18', 'T22', 'T16', 'T25', 'T26', 'T21', 'T20', 'T27', 'T28', 'T30', 'T29', 'T33', 'T31', 'T32', 'T34', 'T24', 'T35', 'T23', 'T2', 'T36', 'T37', 'T39', 'T38', 'T40', 'T41', 'T42', 'T44', 'T46', 'T47', 'T50', 'T49', 'T43', 'T48', 'T45', 'T52', 'T51', 'T53'] solution sequence is: 707.9562133352599 ########\n",
      "######## The number of workstations for ['T1', 'T7', 'T8', 'T5', 'T6', 'T4', 'T9', 'T10', 'T11', 'T12', 'T13', 'T3', 'T15', 'T17', 'T14', 'T19', 'T18', 'T22', 'T16', 'T25', 'T26', 'T21', 'T20', 'T27', 'T28', 'T30', 'T29', 'T33', 'T31', 'T32', 'T34', 'T24', 'T35', 'T23', 'T2', 'T36', 'T37', 'T39', 'T38', 'T40', 'T41', 'T42', 'T44', 'T46', 'T47', 'T50', 'T49', 'T43', 'T48', 'T45', 'T52', 'T51', 'T53'] solution sequence is: 8 ########\n",
      "######## The workloads of workstation for ['T1', 'T7', 'T8', 'T5', 'T6', 'T4', 'T9', 'T10', 'T11', 'T12', 'T13', 'T3', 'T15', 'T17', 'T14', 'T19', 'T18', 'T22', 'T16', 'T25', 'T26', 'T21', 'T20', 'T27', 'T28', 'T30', 'T29', 'T33', 'T31', 'T32', 'T34', 'T24', 'T35', 'T23', 'T2', 'T36', 'T37', 'T39', 'T38', 'T40', 'T41', 'T42', 'T44', 'T46', 'T47', 'T50', 'T49', 'T43', 'T48', 'T45', 'T52', 'T51', 'T53'] solution sequence are: [2277. 1077. 2235. 2258. 1392. 1866. 1836. 1085.] ########\n",
      "8\n"
     ]
    }
   ],
   "source": [
    "# albp_instance= ALBP(\"./ALBP/SALBP-data-sets/precedence graphs\", \"HAHN.IN2\", 2338.0)\n",
    "albp_instance= ALBP(data_url, \"HAHN.IN2\", 2338.0)\n",
    "ts = TabuSearch(max_iter=20, tabu_tenure=4, neighbor_size=5, use_aspiration=True, aspiration_limit=None, use_longterm=False)\n",
    "ts.init_ts(albp_instance) \n",
    "ts.run(albp_instance, repetition=5)\n",
    "\n",
    "# calculating the smoothing index of the solution \n",
    "# Smoothing_index(solution, WS, tasks, , show = False)\n",
    "SI = albp_instance.Smoothing_index(list(ts.s_best), ts.val_best, albp_instance.tasks, True)\n",
    "\n",
    "# Print results\n",
    "print(SI)"
   ]
  },
  {
   "cell_type": "markdown",
   "id": "f0569e95-e732-4fa9-9f8c-cf54091be468",
   "metadata": {},
   "source": [
    "## GUNTHER.IN2 Problem\n",
    "## The best number of workstations for a given cycle time = 44 is 12"
   ]
  },
  {
   "cell_type": "code",
   "execution_count": 9,
   "id": "9d4a2007",
   "metadata": {
    "tags": []
   },
   "outputs": [
    {
     "name": "stdout",
     "output_type": "stream",
     "text": [
      "######## The Smoothing Index value for ['T1', 'T5', 'T2', 'T6', 'T3', 'T17', 'T10', 'T8', 'T4', 'T7', 'T14', 'T12', 'T15', 'T11', 'T18', 'T16', 'T19', 'T20', 'T21', 'T30', 'T22', 'T25', 'T23', 'T24', 'T26', 'T9', 'T31', 'T27', 'T34', 'T13', 'T32', 'T33', 'T35', 'T28', 'T29'] solution sequence is: 14.059397805975427 ########\n",
      "######## The number of workstations for ['T1', 'T5', 'T2', 'T6', 'T3', 'T17', 'T10', 'T8', 'T4', 'T7', 'T14', 'T12', 'T15', 'T11', 'T18', 'T16', 'T19', 'T20', 'T21', 'T30', 'T22', 'T25', 'T23', 'T24', 'T26', 'T9', 'T31', 'T27', 'T34', 'T13', 'T32', 'T33', 'T35', 'T28', 'T29'] solution sequence is: 15 ########\n",
      "######## The workloads of workstation for ['T1', 'T5', 'T2', 'T6', 'T3', 'T17', 'T10', 'T8', 'T4', 'T7', 'T14', 'T12', 'T15', 'T11', 'T18', 'T16', 'T19', 'T20', 'T21', 'T30', 'T22', 'T25', 'T23', 'T24', 'T26', 'T9', 'T31', 'T27', 'T34', 'T13', 'T32', 'T33', 'T35', 'T28', 'T29'] solution sequence are: [38. 21. 35. 26. 30. 44. 29. 19. 40. 31. 28. 34. 24. 42. 42.] ########\n",
      "15\n"
     ]
    }
   ],
   "source": [
    "# albp_instance= ALBP(\"./ALBP/SALBP-data-sets/precedence graphs\", \"GUNTHER.IN2\", 44.0)\n",
    "albp_instance= ALBP(data_url, \"GUNTHER.IN2\", 44.0)\n",
    "ts = TabuSearch(max_iter=20, tabu_tenure=4, neighbor_size=5, use_aspiration=True, aspiration_limit=None, use_longterm=False)\n",
    "ts.init_ts(albp_instance) \n",
    "ts.run(albp_instance, repetition=5)\n",
    "\n",
    "# calculating the smoothing index of the solution \n",
    "# Smoothing_index(solution, WS, tasks, , show = False)\n",
    "SI = albp_instance.Smoothing_index(list(ts.s_best), ts.val_best, albp_instance.tasks, True)\n",
    "\n",
    "# Print results\n",
    "print(SI)"
   ]
  },
  {
   "cell_type": "markdown",
   "id": "ced8bad7-46ef-454b-8b02-7779b6bd7577",
   "metadata": {},
   "source": [
    "## BUXEY.IN2 Problem\n",
    "## The best number of workstations for a given cycle time = 47 is 7"
   ]
  },
  {
   "cell_type": "code",
   "execution_count": 10,
   "id": "eede7077",
   "metadata": {
    "scrolled": true
   },
   "outputs": [
    {
     "name": "stdout",
     "output_type": "stream",
     "text": [
      "######## The Smoothing Index value for ['T2', 'T1', 'T7', 'T6', 'T3', 'T26', 'T9', 'T10', 'T12', 'T4', 'T5', 'T15', 'T13', 'T8', 'T14', 'T27', 'T16', 'T11', 'T18', 'T19', 'T17', 'T21', 'T20', 'T25', 'T22', 'T23', 'T28', 'T24', 'T29'] solution sequence is: 13.063945294843617 ########\n",
      "######## The number of workstations for ['T2', 'T1', 'T7', 'T6', 'T3', 'T26', 'T9', 'T10', 'T12', 'T4', 'T5', 'T15', 'T13', 'T8', 'T14', 'T27', 'T16', 'T11', 'T18', 'T19', 'T17', 'T21', 'T20', 'T25', 'T22', 'T23', 'T28', 'T24', 'T29'] solution sequence is: 9 ########\n",
      "######## The workloads of workstation for ['T2', 'T1', 'T7', 'T6', 'T3', 'T26', 'T9', 'T10', 'T12', 'T4', 'T5', 'T15', 'T13', 'T8', 'T14', 'T27', 'T16', 'T11', 'T18', 'T19', 'T17', 'T21', 'T20', 'T25', 'T22', 'T23', 'T28', 'T24', 'T29'] solution sequence are: [44. 40. 35. 37. 38. 41. 23. 46. 20.] ########\n",
      "9\n"
     ]
    }
   ],
   "source": [
    "# albp_instance= ALBP(\"./ALBP/SALBP-data-sets/precedence graphs\", \"BUXEY.IN2\", 47.0)\n",
    "albp_instance= ALBP(data_url, \"BUXEY.IN2\", 47.0)\n",
    "ts = TabuSearch(max_iter=20, tabu_tenure=4, neighbor_size=5, use_aspiration=True, aspiration_limit=None, use_longterm=False)\n",
    "ts.init_ts(albp_instance) \n",
    "ts.run(albp_instance, repetition=5)\n",
    "\n",
    "# calculating the smoothing index of the solution \n",
    "# Smoothing_index(solution, WS, tasks, , show = False)\n",
    "SI = albp_instance.Smoothing_index(list(ts.s_best), ts.val_best, albp_instance.tasks, True)\n",
    "\n",
    "# Print results\n",
    "print(SI)"
   ]
  },
  {
   "cell_type": "markdown",
   "id": "fbfc20b6-d9d7-4e6e-b758-39541bd343e8",
   "metadata": {},
   "source": [
    "## LUTZ2.IN2 Problem\n",
    "## The best number of workstations for a given cycle time = 11 is 49"
   ]
  },
  {
   "cell_type": "code",
   "execution_count": 11,
   "id": "fda64e5a",
   "metadata": {},
   "outputs": [
    {
     "name": "stdout",
     "output_type": "stream",
     "text": [
      "######## The Smoothing Index value for ['T1', 'T2', 'T3', 'T4', 'T5', 'T10', 'T6', 'T8', 'T9', 'T7', 'T11', 'T12', 'T13', 'T14', 'T15', 'T17', 'T18', 'T19', 'T22', 'T23', 'T24', 'T20', 'T28', 'T30', 'T21', 'T25', 'T29', 'T16', 'T27', 'T54', 'T55', 'T56', 'T31', 'T32', 'T57', 'T33', 'T26', 'T34', 'T35', 'T37', 'T36', 'T59', 'T38', 'T39', 'T43', 'T61', 'T58', 'T66', 'T45', 'T46', 'T47', 'T49', 'T64', 'T60', 'T42', 'T62', 'T41', 'T40', 'T63', 'T65', 'T44', 'T50', 'T67', 'T51', 'T52', 'T53', 'T71', 'T68', 'T73', 'T74', 'T70', 'T75', 'T69', 'T72', 'T77', 'T78', 'T76', 'T79', 'T80', 'T81', 'T82', 'T83', 'T84', 'T48', 'T85', 'T86', 'T87', 'T89', 'T88'] solution sequence is: 3.63547337587097 ########\n",
      "######## The number of workstations for ['T1', 'T2', 'T3', 'T4', 'T5', 'T10', 'T6', 'T8', 'T9', 'T7', 'T11', 'T12', 'T13', 'T14', 'T15', 'T17', 'T18', 'T19', 'T22', 'T23', 'T24', 'T20', 'T28', 'T30', 'T21', 'T25', 'T29', 'T16', 'T27', 'T54', 'T55', 'T56', 'T31', 'T32', 'T57', 'T33', 'T26', 'T34', 'T35', 'T37', 'T36', 'T59', 'T38', 'T39', 'T43', 'T61', 'T58', 'T66', 'T45', 'T46', 'T47', 'T49', 'T64', 'T60', 'T42', 'T62', 'T41', 'T40', 'T63', 'T65', 'T44', 'T50', 'T67', 'T51', 'T52', 'T53', 'T71', 'T68', 'T73', 'T74', 'T70', 'T75', 'T69', 'T72', 'T77', 'T78', 'T76', 'T79', 'T80', 'T81', 'T82', 'T83', 'T84', 'T48', 'T85', 'T86', 'T87', 'T89', 'T88'] solution sequence is: 60 ########\n",
      "######## The workloads of workstation for ['T1', 'T2', 'T3', 'T4', 'T5', 'T10', 'T6', 'T8', 'T9', 'T7', 'T11', 'T12', 'T13', 'T14', 'T15', 'T17', 'T18', 'T19', 'T22', 'T23', 'T24', 'T20', 'T28', 'T30', 'T21', 'T25', 'T29', 'T16', 'T27', 'T54', 'T55', 'T56', 'T31', 'T32', 'T57', 'T33', 'T26', 'T34', 'T35', 'T37', 'T36', 'T59', 'T38', 'T39', 'T43', 'T61', 'T58', 'T66', 'T45', 'T46', 'T47', 'T49', 'T64', 'T60', 'T42', 'T62', 'T41', 'T40', 'T63', 'T65', 'T44', 'T50', 'T67', 'T51', 'T52', 'T53', 'T71', 'T68', 'T73', 'T74', 'T70', 'T75', 'T69', 'T72', 'T77', 'T78', 'T76', 'T79', 'T80', 'T81', 'T82', 'T83', 'T84', 'T48', 'T85', 'T86', 'T87', 'T89', 'T88'] solution sequence are: [10.  5. 10.  6.  8.  9. 10.  7.  5.  7.  8. 11.  7. 10.  8. 11.  5.  9.\n",
      "  6. 11. 11. 10.  9.  9.  7.  6.  9.  8.  9.  4.  8. 11.  6.  7.  9.  4.\n",
      " 10.  5. 10.  8.  4. 10. 10.  4. 11.  4. 10.  5. 11.  7.  8.  6.  9. 11.\n",
      "  9.  8. 11.  7.  9.  8.] ########\n",
      "60\n"
     ]
    }
   ],
   "source": [
    "# albp_instance= ALBP(\"./ALBP/SALBP-data-sets/precedence graphs\", \"LUTZ2.IN2\", 11.0)\n",
    "albp_instance= ALBP(data_url, \"LUTZ2.IN2\", 11.0)\n",
    "ts = TabuSearch(max_iter=20, tabu_tenure=4, neighbor_size=5, use_aspiration=True, aspiration_limit=None, use_longterm=False)\n",
    "ts.init_ts(albp_instance) \n",
    "ts.run(albp_instance, repetition=5)\n",
    "\n",
    "# calculating the smoothing index of the solution \n",
    "# Smoothing_index(solution, WS, tasks, , show = False)\n",
    "SI = albp_instance.Smoothing_index(list(ts.s_best), ts.val_best, albp_instance.tasks, True)\n",
    "\n",
    "# Print results\n",
    "print(SI)"
   ]
  },
  {
   "cell_type": "markdown",
   "id": "9df760c0-06ee-4fba-9a0c-5b138f3405c2",
   "metadata": {},
   "source": [
    "## BARTHOL2.IN2 Problem\n",
    "## The best number of workstations for a given cycle time = 104 is 41"
   ]
  },
  {
   "cell_type": "code",
   "execution_count": 12,
   "id": "32497946",
   "metadata": {},
   "outputs": [
    {
     "name": "stdout",
     "output_type": "stream",
     "text": [
      "######## The Smoothing Index value for ['T32', 'T42', 'T91', 'T64', 'T16', 'T59', 'T33', 'T65', 'T2', 'T3', 'T4', 'T56', 'T34', 'T94', 'T7', 'T1', 'T15', 'T17', 'T18', 'T19', 'T74', 'T20', 'T21', 'T57', 'T8', 'T105', 'T22', 'T35', 'T61', 'T24', 'T141', 'T6', 'T62', 'T23', 'T11', 'T25', 'T63', 'T28', 'T27', 'T5', 'T50', 'T144', 'T10', 'T58', 'T138', 'T145', 'T43', 'T26', 'T29', 'T31', 'T51', 'T36', 'T37', 'T66', 'T9', 'T73', 'T69', 'T75', 'T79', 'T38', 'T70', 'T139', 'T68', 'T39', 'T95', 'T67', 'T45', 'T99', 'T46', 'T40', 'T30', 'T47', 'T54', 'T76', 'T92', 'T77', 'T90', 'T48', 'T78', 'T98', 'T41', 'T80', 'T111', 'T81', 'T49', 'T112', 'T86', 'T89', 'T85', 'T113', 'T87', 'T55', 'T93', 'T116', 'T100', 'T96', 'T97', 'T101', 'T142', 'T140', 'T82', 'T103', 'T120', 'T104', 'T146', 'T148', 'T128', 'T83', 'T143', 'T71', 'T14', 'T123', 'T129', 'T12', 'T117', 'T118', 'T121', 'T44', 'T147', 'T132', 'T84', 'T124', 'T60', 'T119', 'T130', 'T114', 'T13', 'T137', 'T131', 'T52', 'T106', 'T72', 'T107', 'T133', 'T134', 'T108', 'T115', 'T122', 'T102', 'T53', 'T109', 'T127', 'T125', 'T110', 'T135', 'T88', 'T126', 'T136'] solution sequence is: 21.953568814055483 ########\n",
      "######## The number of workstations for ['T32', 'T42', 'T91', 'T64', 'T16', 'T59', 'T33', 'T65', 'T2', 'T3', 'T4', 'T56', 'T34', 'T94', 'T7', 'T1', 'T15', 'T17', 'T18', 'T19', 'T74', 'T20', 'T21', 'T57', 'T8', 'T105', 'T22', 'T35', 'T61', 'T24', 'T141', 'T6', 'T62', 'T23', 'T11', 'T25', 'T63', 'T28', 'T27', 'T5', 'T50', 'T144', 'T10', 'T58', 'T138', 'T145', 'T43', 'T26', 'T29', 'T31', 'T51', 'T36', 'T37', 'T66', 'T9', 'T73', 'T69', 'T75', 'T79', 'T38', 'T70', 'T139', 'T68', 'T39', 'T95', 'T67', 'T45', 'T99', 'T46', 'T40', 'T30', 'T47', 'T54', 'T76', 'T92', 'T77', 'T90', 'T48', 'T78', 'T98', 'T41', 'T80', 'T111', 'T81', 'T49', 'T112', 'T86', 'T89', 'T85', 'T113', 'T87', 'T55', 'T93', 'T116', 'T100', 'T96', 'T97', 'T101', 'T142', 'T140', 'T82', 'T103', 'T120', 'T104', 'T146', 'T148', 'T128', 'T83', 'T143', 'T71', 'T14', 'T123', 'T129', 'T12', 'T117', 'T118', 'T121', 'T44', 'T147', 'T132', 'T84', 'T124', 'T60', 'T119', 'T130', 'T114', 'T13', 'T137', 'T131', 'T52', 'T106', 'T72', 'T107', 'T133', 'T134', 'T108', 'T115', 'T122', 'T102', 'T53', 'T109', 'T127', 'T125', 'T110', 'T135', 'T88', 'T126', 'T136'] solution sequence is: 49 ########\n",
      "######## The workloads of workstation for ['T32', 'T42', 'T91', 'T64', 'T16', 'T59', 'T33', 'T65', 'T2', 'T3', 'T4', 'T56', 'T34', 'T94', 'T7', 'T1', 'T15', 'T17', 'T18', 'T19', 'T74', 'T20', 'T21', 'T57', 'T8', 'T105', 'T22', 'T35', 'T61', 'T24', 'T141', 'T6', 'T62', 'T23', 'T11', 'T25', 'T63', 'T28', 'T27', 'T5', 'T50', 'T144', 'T10', 'T58', 'T138', 'T145', 'T43', 'T26', 'T29', 'T31', 'T51', 'T36', 'T37', 'T66', 'T9', 'T73', 'T69', 'T75', 'T79', 'T38', 'T70', 'T139', 'T68', 'T39', 'T95', 'T67', 'T45', 'T99', 'T46', 'T40', 'T30', 'T47', 'T54', 'T76', 'T92', 'T77', 'T90', 'T48', 'T78', 'T98', 'T41', 'T80', 'T111', 'T81', 'T49', 'T112', 'T86', 'T89', 'T85', 'T113', 'T87', 'T55', 'T93', 'T116', 'T100', 'T96', 'T97', 'T101', 'T142', 'T140', 'T82', 'T103', 'T120', 'T104', 'T146', 'T148', 'T128', 'T83', 'T143', 'T71', 'T14', 'T123', 'T129', 'T12', 'T117', 'T118', 'T121', 'T44', 'T147', 'T132', 'T84', 'T124', 'T60', 'T119', 'T130', 'T114', 'T13', 'T137', 'T131', 'T52', 'T106', 'T72', 'T107', 'T133', 'T134', 'T108', 'T115', 'T122', 'T102', 'T53', 'T109', 'T127', 'T125', 'T110', 'T135', 'T88', 'T126', 'T136'] solution sequence are: [ 74.  89.  84.  69. 101.  85.  91. 103.  58.  98.  91. 103.  96.  94.\n",
      "  70. 104.  69.  81.  91.  85.  80.  99. 100. 103.  88.  96.  96.  85.\n",
      "  96.  80.  93.  76.  64.  86. 103.  88.  58.  66.  78.  79. 101.  83.\n",
      " 104.  97.  70.  95.  99.  71.  64.] ########\n",
      "49\n"
     ]
    }
   ],
   "source": [
    "# albp_instance= ALBP(\"./ALBP/SALBP-data-sets/precedence graphs\", \"BARTHOL2.IN2\", 104.0)\n",
    "albp_instance= ALBP(data_url, \"BARTHOL2.IN2\", 104.0)\n",
    "ts = TabuSearch(max_iter=20, tabu_tenure=4, neighbor_size=5, use_aspiration=True, aspiration_limit=None, use_longterm=False)\n",
    "ts.init_ts(albp_instance) \n",
    "ts.run(albp_instance, repetition=5)\n",
    "\n",
    "# calculating the smoothing index of the solution \n",
    "# Smoothing_index(solution, WS, tasks, , show = False)\n",
    "SI = albp_instance.Smoothing_index(list(ts.s_best), ts.val_best, albp_instance.tasks, True)\n",
    "\n",
    "# Print results\n",
    "print(SI)"
   ]
  },
  {
   "cell_type": "markdown",
   "id": "aa757a80-dc94-4b72-990b-1b6d7ce4ced3",
   "metadata": {},
   "source": [
    "## JACKSON.IN2 Problem\n",
    "## The best number of workstations for a given cycle time = 9 is 6"
   ]
  },
  {
   "cell_type": "code",
   "execution_count": 13,
   "id": "12881366",
   "metadata": {},
   "outputs": [
    {
     "name": "stdout",
     "output_type": "stream",
     "text": [
      "######## The Smoothing Index value for ['T1', 'T2', 'T5', 'T6', 'T8', 'T4', 'T10', 'T3', 'T7', 'T9', 'T11'] solution sequence is: 1.9148542155126762 ########\n",
      "######## The number of workstations for ['T1', 'T2', 'T5', 'T6', 'T8', 'T4', 'T10', 'T3', 'T7', 'T9', 'T11'] solution sequence is: 6 ########\n",
      "######## The workloads of workstation for ['T1', 'T2', 'T5', 'T6', 'T8', 'T4', 'T10', 'T3', 'T7', 'T9', 'T11'] solution sequence are: [9. 8. 7. 5. 8. 9.] ########\n",
      "6\n"
     ]
    }
   ],
   "source": [
    "# albp_instance= ALBP(\"./ALBP/SALBP-data-sets/precedence graphs\", \"JACKSON.IN2\", 9)\n",
    "albp_instance= ALBP(data_url, \"JACKSON.IN2\", 9)\n",
    "ts = TabuSearch(max_iter=20, tabu_tenure=4, neighbor_size=5, use_aspiration=True, aspiration_limit=None, use_longterm=False)\n",
    "ts.init_ts(albp_instance) \n",
    "ts.run(albp_instance, repetition=5)\n",
    "\n",
    "# calculating the smoothing index of the solution \n",
    "# Smoothing_index(solution, WS, tasks, , show = False)\n",
    "SI = albp_instance.Smoothing_index(list(ts.s_best), ts.val_best, albp_instance.tasks, True)\n",
    "\n",
    "# Print results\n",
    "print(SI)"
   ]
  },
  {
   "cell_type": "markdown",
   "id": "5b5f5295-0aa1-462b-8768-cf7a26753ee1",
   "metadata": {},
   "source": [
    "## TONGE70.IN2 Problem\n",
    "## The best number of workstations for a given cycle time = 293 is 13"
   ]
  },
  {
   "cell_type": "code",
   "execution_count": 14,
   "id": "b206a355",
   "metadata": {},
   "outputs": [
    {
     "name": "stdout",
     "output_type": "stream",
     "text": [
      "######## The Smoothing Index value for ['T5', 'T2', 'T1', 'T16', 'T24', 'T9', 'T15', 'T30', 'T10', 'T3', 'T7', 'T11', 'T4', 'T6', 'T8', 'T13', 'T18', 'T17', 'T19', 'T20', 'T22', 'T12', 'T14', 'T21', 'T25', 'T31', 'T32', 'T26', 'T41', 'T27', 'T57', 'T33', 'T28', 'T29', 'T34', 'T58', 'T35', 'T70', 'T59', 'T60', 'T23', 'T36', 'T37', 'T48', 'T51', 'T44', 'T62', 'T38', 'T53', 'T63', 'T45', 'T69', 'T64', 'T46', 'T39', 'T61', 'T49', 'T40', 'T67', 'T52', 'T65', 'T66', 'T56', 'T42', 'T54', 'T43', 'T68', 'T55', 'T47', 'T50'] solution sequence is: 47.859914631886134 ########\n",
      "######## The number of workstations for ['T5', 'T2', 'T1', 'T16', 'T24', 'T9', 'T15', 'T30', 'T10', 'T3', 'T7', 'T11', 'T4', 'T6', 'T8', 'T13', 'T18', 'T17', 'T19', 'T20', 'T22', 'T12', 'T14', 'T21', 'T25', 'T31', 'T32', 'T26', 'T41', 'T27', 'T57', 'T33', 'T28', 'T29', 'T34', 'T58', 'T35', 'T70', 'T59', 'T60', 'T23', 'T36', 'T37', 'T48', 'T51', 'T44', 'T62', 'T38', 'T53', 'T63', 'T45', 'T69', 'T64', 'T46', 'T39', 'T61', 'T49', 'T40', 'T67', 'T52', 'T65', 'T66', 'T56', 'T42', 'T54', 'T43', 'T68', 'T55', 'T47', 'T50'] solution sequence is: 14 ########\n",
      "######## The workloads of workstation for ['T5', 'T2', 'T1', 'T16', 'T24', 'T9', 'T15', 'T30', 'T10', 'T3', 'T7', 'T11', 'T4', 'T6', 'T8', 'T13', 'T18', 'T17', 'T19', 'T20', 'T22', 'T12', 'T14', 'T21', 'T25', 'T31', 'T32', 'T26', 'T41', 'T27', 'T57', 'T33', 'T28', 'T29', 'T34', 'T58', 'T35', 'T70', 'T59', 'T60', 'T23', 'T36', 'T37', 'T48', 'T51', 'T44', 'T62', 'T38', 'T53', 'T63', 'T45', 'T69', 'T64', 'T46', 'T39', 'T61', 'T49', 'T40', 'T67', 'T52', 'T65', 'T66', 'T56', 'T42', 'T54', 'T43', 'T68', 'T55', 'T47', 'T50'] solution sequence are: [259. 250. 225. 262. 266. 246. 291. 269. 278. 182. 237. 268. 235. 242.] ########\n",
      "14\n"
     ]
    }
   ],
   "source": [
    "# albp_instance= ALBP(\"./ALBP/SALBP-data-sets/precedence graphs\", \"TONGE70.IN2\", 293)\n",
    "albp_instance= ALBP(data_url, \"TONGE70.IN2\", 293)\n",
    "ts = TabuSearch(max_iter=20, tabu_tenure=4, neighbor_size=5, use_aspiration=True, aspiration_limit=None, use_longterm=False)\n",
    "ts.init_ts(albp_instance) \n",
    "ts.run(albp_instance, repetition=5)\n",
    "\n",
    "# calculating the smoothing index of the solution \n",
    "# Smoothing_index(solution, WS, tasks, , show = False)\n",
    "SI = albp_instance.Smoothing_index(list(ts.s_best), ts.val_best, albp_instance.tasks, True)\n",
    "\n",
    "# Print results\n",
    "print(SI)"
   ]
  }
 ],
 "metadata": {
  "kernelspec": {
   "display_name": "Python 3 (ipykernel)",
   "language": "python",
   "name": "python3"
  },
  "language_info": {
   "codemirror_mode": {
    "name": "ipython",
    "version": 3
   },
   "file_extension": ".py",
   "mimetype": "text/x-python",
   "name": "python",
   "nbconvert_exporter": "python",
   "pygments_lexer": "ipython3",
   "version": "3.10.6"
  }
 },
 "nbformat": 4,
 "nbformat_minor": 5
}
