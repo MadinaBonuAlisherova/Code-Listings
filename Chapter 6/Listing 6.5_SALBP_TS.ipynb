{
 "cells": [
  {
   "cell_type": "code",
   "execution_count": 1,
   "id": "8380f185",
   "metadata": {},
   "outputs": [],
   "source": [
    "import pandas as pd \n",
    "import numpy as np \n",
    "import random as rd \n",
    "import math \n",
    "import matplotlib.pyplot as plt"
   ]
  },
  {
   "attachments": {},
   "cell_type": "markdown",
   "id": "9e16fca2",
   "metadata": {},
   "source": [
    "# Assembly Line Balnacing Porblem defintion"
   ]
  },
  {
   "attachments": {},
   "cell_type": "markdown",
   "id": "ba42f9aa",
   "metadata": {},
   "source": [
    "### Calculate the number of possible workstations for tasks  having task durations that are greater than the half of the cycle time "
   ]
  },
  {
   "cell_type": "code",
   "execution_count": 2,
   "id": "456a45fa",
   "metadata": {},
   "outputs": [],
   "source": [
    "def Total_Number_Possible_Work_Station(data, c):\n",
    "    x =0\n",
    "    for i in data.index: \n",
    "        if data.iloc[i]['Duration'] > c/2:\n",
    "            x = x +1 \n",
    "    return x "
   ]
  },
  {
   "attachments": {},
   "cell_type": "markdown",
   "id": "1d2bc3bc",
   "metadata": {},
   "source": [
    "### A matrix generator function for precedence relations of tasks "
   ]
  },
  {
   "cell_type": "code",
   "execution_count": 3,
   "id": "012fbd9f",
   "metadata": {},
   "outputs": [],
   "source": [
    "def Precedence_Matrix(tasks, Prec):\n",
    "    Prec_Matrix = np.zeros((len(tasks),len(tasks)), int)\n",
    "    for i in tasks.index:\n",
    "        for j in tasks.index: \n",
    "            for k in Prec.index: \n",
    "                if tasks.iloc[i]['Task'] == Prec.iloc[k]['TASK']:\n",
    "                    if tasks.iloc[j]['Task'] == Prec.iloc[k][Prec.columns[1]]:\n",
    "                        Prec_Matrix[j,i] = 1\n",
    "    return Prec_Matrix"
   ]
  },
  {
   "attachments": {},
   "cell_type": "markdown",
   "id": "7c39191a",
   "metadata": {},
   "source": [
    "### Find the index of a given task for tasks data frame. This function helps smooting index calculation and plot"
   ]
  },
  {
   "cell_type": "code",
   "execution_count": 4,
   "id": "73f367c6",
   "metadata": {},
   "outputs": [],
   "source": [
    "def get_index(s):\n",
    "    k = s[1:]\n",
    "    k = int(k)-1\n",
    "    return k"
   ]
  },
  {
   "attachments": {},
   "cell_type": "markdown",
   "id": "ff19f88c",
   "metadata": {},
   "source": [
    "### Plot workstations' workloads and cylce time"
   ]
  },
  {
   "cell_type": "code",
   "execution_count": 5,
   "id": "b18e87a2",
   "metadata": {},
   "outputs": [],
   "source": [
    "def Make_Solution_to_plot(solution, WS, tasks, Cycle_time):\n",
    "    data = {}   \n",
    "    WS_time = np.zeros(WS, float)\n",
    "    k =0\n",
    "    j =0 \n",
    "    i = 0\n",
    "    l = 0\n",
    "    m = \"W\"+str(j+1)\n",
    "    while i < len(solution):\n",
    "        y = float(tasks.loc[get_index(solution[i])][tasks.columns[1]]) \n",
    "        if WS_time[j] +  y <= Cycle_time:\n",
    "            WS_time[j] = WS_time[j] + y\n",
    "            i = i +1 \n",
    "            l = l +1 \n",
    "            data[m] = WS_time[j]\n",
    "        else: \n",
    "            j = j+1 \n",
    "            m = \"W\"+str(j+1)\n",
    "            data[m] = 0           \n",
    "    WS_Names = list(data.keys())\n",
    "    WS_Workloads = list(data.values())\n",
    "    fig = plt.figure()\n",
    "    plt.axhline(y = Cycle_time, color = 'r', linestyle = '-')\n",
    "    plt.bar(WS_Names, WS_Workloads, color ='blue', width = 0.4)\n",
    "    plt.xlabel(\"Workstations \")\n",
    "    plt.ylabel(\"Time\")\n",
    "    plt.title(\"The total workloads of workstations\")\n",
    "    return plt"
   ]
  },
  {
   "attachments": {},
   "cell_type": "markdown",
   "id": "6bfdfd59",
   "metadata": {},
   "source": [
    "### Generate an initial solution generation. This function first generates a list of tasks with their indices in increasing order"
   ]
  },
  {
   "cell_type": "code",
   "execution_count": 6,
   "id": "b8a20774",
   "metadata": {},
   "outputs": [],
   "source": [
    "def Initial_Solution(s, show = False):\n",
    "    sol = np.arange(s)\n",
    "    Sol_list = list(sol)\n",
    "    for i in range(len(sol)):\n",
    "        Sol_list[i] = 'T' + str(Sol_list[i]+1)\n",
    "    for i in range(len(sol)): \n",
    "        x = rd.randint(0, s-1)\n",
    "        y = rd.randint(0, s-1)\n",
    "        t1 = Sol_list[x]\n",
    "        t2 = Sol_list[y]\n",
    "        Sol_list[x] = t2\n",
    "        Sol_list[y] = t1\n",
    "    return Sol_list"
   ]
  },
  {
   "attachments": {},
   "cell_type": "markdown",
   "id": "5aa4cad1",
   "metadata": {},
   "source": [
    "### Ensure feasbility. After a solution is generated, this solution must be reordered according to the precedence relations. Otherwise the solution will be infeasible "
   ]
  },
  {
   "cell_type": "code",
   "execution_count": 7,
   "id": "5229e548",
   "metadata": {},
   "outputs": [],
   "source": [
    "def Make_Solution_Feasible(solution, Prec):\n",
    "    lsol = solution\n",
    "    for i in range(len(lsol)):\n",
    "        for j in range(i, len(lsol)):\n",
    "            if(i<j):\n",
    "                for k in Prec.index: \n",
    "                    if solution[j] == Prec.iloc[k][Prec.columns[0]] and solution[i] == Prec.iloc[k][Prec.columns[1]]: \n",
    "                        temp1 = lsol[i] \n",
    "                        temp2 = lsol[j] \n",
    "                        lsol[i] = temp2 \n",
    "                        lsol[j] = temp1\n",
    "                        solution = lsol \n",
    "    lsol.reverse()\n",
    "    return lsol"
   ]
  },
  {
   "attachments": {},
   "cell_type": "markdown",
   "id": "fa4380bc",
   "metadata": {},
   "source": [
    "### Calculate the smooting index of a given solution"
   ]
  },
  {
   "cell_type": "code",
   "execution_count": 8,
   "id": "66566f16",
   "metadata": {},
   "outputs": [],
   "source": [
    "def Smoothing_index(solution, WS, tasks, Cycle_time, show = False):   \n",
    "    WS_time = np.zeros(WS, float)\n",
    "    k =0\n",
    "    j =0 \n",
    "    solution2 = solution[:]\n",
    "    i = 0\n",
    "    l = 0\n",
    "    while i < len(solution2):\n",
    "        y = float(tasks.loc[get_index(solution2[i])][tasks.columns[1]]) \n",
    "        if WS_time[j] +  y <= Cycle_time:\n",
    "            WS_time[j] = WS_time[j] + y\n",
    "            i = i +1 \n",
    "            l = l +1 \n",
    "        else: \n",
    "            j = j+1 \n",
    "    WS_Max = WS_time.max()\n",
    "    ns = np.zeros(WS, float)\n",
    "    ns = ((WS_Max- WS_time)**2)/(WS)\n",
    "    SI = ns.sum()\n",
    "    SI = math.sqrt(SI)\n",
    "    WS_time = WS_time[WS_time != 0]\n",
    "    if show == True: \n",
    "        print(\"#\"*8, \"The Smoothing Index value for {} solution sequence is: {}\".format(solution ,SI),\"#\"*8)\n",
    "        print(\"#\"*8, \"The number of workstations for {} solution sequence is: {}\".format(solution ,WS_time.size),\"#\"*8)\n",
    "        print(\"#\"*8, \"The workloads of workstation for {} solution sequence are: {}\".format(solution ,WS_time),\"#\"*8)\n",
    "    return SI"
   ]
  },
  {
   "attachments": {},
   "cell_type": "markdown",
   "id": "b8534c1d",
   "metadata": {},
   "source": [
    "## Tabu Search Algorithm"
   ]
  },
  {
   "attachments": {},
   "cell_type": "markdown",
   "id": "4e55c3df",
   "metadata": {},
   "source": [
    "### Create the tabu structures of all possible and feasible moves. It keeps how many iterations remaining left to free moves and the last recorded values of  moves."
   ]
  },
  {
   "cell_type": "code",
   "execution_count": 9,
   "id": "6a4ec9cb",
   "metadata": {},
   "outputs": [],
   "source": [
    "def Create_Tabu_Strcuture(tasks, Prec_Matrix):\n",
    "    Tabu_Structure = pd.DataFrame(columns=['Task_1', 'Task_2', 'Feasible', 'Tabued','Value']); \n",
    "    for i in range(len(tasks)):\n",
    "        for j in range(len(tasks)):\n",
    "            if i<j: \n",
    "                if(Prec_Matrix[i,j]==0 and Prec_Matrix[j,i]==0): \n",
    "                    Tabu_Structure.loc[len(Tabu_Structure.index)] = [\"T\" + str(i+1), \"T\" + str(j+1), \"T\", 0, 1000] \n",
    "                else: \n",
    "                    Tabu_Structure.loc[len(Tabu_Structure.index)] = [\"T\" + str(i+1), \"T\" + str(j+1), \"F\", 0, 1000] \n",
    "    return Tabu_Structure"
   ]
  },
  {
   "attachments": {},
   "cell_type": "markdown",
   "id": "2f776323",
   "metadata": {},
   "source": [
    "### Generate neighbouring solution by swaoing two randomly selected tasks' poositions in a given solution"
   ]
  },
  {
   "cell_type": "code",
   "execution_count": 10,
   "id": "e7f2aa37",
   "metadata": {},
   "outputs": [],
   "source": [
    "def N_Swap(solution, i1, i2, Prec):\n",
    "    sol = solution[:]; \n",
    "    temp1 = sol[i1]\n",
    "    temp2 = sol[i2]\n",
    "    sol[i1] = temp2\n",
    "    sol[i2] = temp1\n",
    "    sol = Make_Solution_Feasible(sol, Prec)\n",
    "    return sol"
   ]
  },
  {
   "attachments": {},
   "cell_type": "markdown",
   "id": "874828ae",
   "metadata": {},
   "source": [
    "### Tabu search algorithm "
   ]
  },
  {
   "cell_type": "code",
   "execution_count": 11,
   "id": "8e04c4c4",
   "metadata": {},
   "outputs": [],
   "source": [
    "def tabu_search(max_itr, solution, SI, tenure, WS, tasks, Prec_Matrix, Cycle_time):    \n",
    "    Termination =0\n",
    "    while Termination <max_itr: \n",
    "        i1 = 0\n",
    "        i2 = 0\n",
    "        while i1==i2: \n",
    "            i1 = rd.randint(0, len(solution)-1)\n",
    "            i2 = rd.randint(0, len(solution)-1)\n",
    "\n",
    "        t1 = solution[i1]\n",
    "        t2 = solution[i2]\n",
    "\n",
    "        sol_best = solution[:] # the best solution in the memory \n",
    "        SI_best = SI\n",
    "        sol_n = solution[:] # neigboring solution of solution \n",
    "        SI_n = SI\n",
    "        sol_nb = solution[:] # the best neigboring solution\n",
    "        SI_nb = SI\n",
    "\n",
    "        # generating a tabu structure related the given problem \n",
    "        Tabu_Structure = Create_Tabu_Strcuture(tasks, Prec_Matrix)\n",
    "\n",
    "        for k in Tabu_Structure.index:\n",
    "            if (t1 == Tabu_Structure.iloc[k][Tabu_Structure.columns[0]] and t2 == Tabu_Structure.iloc[k][Tabu_Structure.columns[1]] and Tabu_Structure.iloc[k][Tabu_Structure.columns[2]] ==\"T\" and Tabu_Structure.iloc[k][Tabu_Structure.columns[3]] ==0) or (t2 == Tabu_Structure.iloc[k][Tabu_Structure.columns[0]] and t1 == Tabu_Structure.iloc[k][Tabu_Structure.columns[1]] and Tabu_Structure.iloc[k][Tabu_Structure.columns[2]] ==\"T\" and Tabu_Structure.iloc[k][Tabu_Structure.columns[3]] ==0):\n",
    "                sol_n = N_Swap(solution, i1, i2, pd.DataFrame(Prec_Matrix))\n",
    "                SI_n = Smoothing_index(sol_n, WS, tasks, Cycle_time)\n",
    "                Tabu_Structure.iat[k, 4]=SI_n\n",
    "                Tabu_Structure.iat[k, 3]=tenure\n",
    "                if SI_nb > SI_n: \n",
    "                    SI_nb = SI_n\n",
    "                    sol_nb = sol_n[:]              \n",
    "                if SI_best > SI_n: \n",
    "                    SI_best = SI_n\n",
    "                    sol_best = sol_n[:]  \n",
    "            else: \n",
    "                #aspiration \n",
    "                if (t1 == Tabu_Structure.iloc[k][Tabu_Structure.columns[0]] and t2 == Tabu_Structure.iloc[k][Tabu_Structure.columns[1]] and Tabu_Structure.iloc[k][Tabu_Structure.columns[2]] ==\"T\" and Tabu_Structure.iloc[k][Tabu_Structure.columns[3]] >0) or (t2 == Tabu_Structure.iloc[k][Tabu_Structure.columns[0]] and t1 == Tabu_Structure.iloc[k][Tabu_Structure.columns[1]] and Tabu_Structure.iloc[k][Tabu_Structure.columns[2]] ==\"T\" and Tabu_Structure.iloc[k][Tabu_Structure.columns[3]] >0):\n",
    "                    sol_n = N_Swap(solution, i1, i2, pd.DataFrame(Prec_Matrix))\n",
    "                    SI_n = Smoothing_index(sol_n, WS, tasks, Cycle_time)\n",
    "                    Tabu_Structure.iat[k, 4]=SI_n\n",
    "                    t = Tabu_Structure.iloc[k][Tabu_Structure.columns[3]] \n",
    "                    Tabu_Structure.iat[k, 3]=t-1\n",
    "                    if SI_best > SI_n: \n",
    "                        SI_best = SI_n\n",
    "                        sol_best = sol_n[:]    \n",
    "        solution = sol_nb[:]\n",
    "        SI = SI_nb\n",
    "        Termination = Termination + 1\n",
    "    return sol_best, SI_best"
   ]
  },
  {
   "attachments": {},
   "cell_type": "markdown",
   "id": "5188b8c2",
   "metadata": {},
   "source": [
    "# Solving a specific SALBP using tabu search"
   ]
  },
  {
   "attachments": {},
   "cell_type": "markdown",
   "id": "5a1e6633",
   "metadata": {},
   "source": [
    "### Get task names and durations as a dataframe "
   ]
  },
  {
   "cell_type": "code",
   "execution_count": 12,
   "id": "7943de1d",
   "metadata": {},
   "outputs": [
    {
     "data": {
      "text/html": [
       "<div>\n",
       "<style scoped>\n",
       "    .dataframe tbody tr th:only-of-type {\n",
       "        vertical-align: middle;\n",
       "    }\n",
       "\n",
       "    .dataframe tbody tr th {\n",
       "        vertical-align: top;\n",
       "    }\n",
       "\n",
       "    .dataframe thead th {\n",
       "        text-align: right;\n",
       "    }\n",
       "</style>\n",
       "<table border=\"1\" class=\"dataframe\">\n",
       "  <thead>\n",
       "    <tr style=\"text-align: right;\">\n",
       "      <th></th>\n",
       "      <th>Task</th>\n",
       "      <th>Duration</th>\n",
       "    </tr>\n",
       "  </thead>\n",
       "  <tbody>\n",
       "    <tr>\n",
       "      <th>0</th>\n",
       "      <td>T1</td>\n",
       "      <td>2</td>\n",
       "    </tr>\n",
       "    <tr>\n",
       "      <th>1</th>\n",
       "      <td>T2</td>\n",
       "      <td>3</td>\n",
       "    </tr>\n",
       "    <tr>\n",
       "      <th>2</th>\n",
       "      <td>T3</td>\n",
       "      <td>3</td>\n",
       "    </tr>\n",
       "    <tr>\n",
       "      <th>3</th>\n",
       "      <td>T4</td>\n",
       "      <td>1</td>\n",
       "    </tr>\n",
       "    <tr>\n",
       "      <th>4</th>\n",
       "      <td>T5</td>\n",
       "      <td>3</td>\n",
       "    </tr>\n",
       "  </tbody>\n",
       "</table>\n",
       "</div>"
      ],
      "text/plain": [
       "  Task  Duration\n",
       "0   T1         2\n",
       "1   T2         3\n",
       "2   T3         3\n",
       "3   T4         1\n",
       "4   T5         3"
      ]
     },
     "execution_count": 12,
     "metadata": {},
     "output_type": "execute_result"
    }
   ],
   "source": [
    "tasks = pd.DataFrame(columns=['Task', 'Duration']); \n",
    "\n",
    "# Data is available in Appendix B of the book's GitHub repo and can be read directly using URL begins with raw.\n",
    "tasks= pd.read_csv(\"https://raw.githubusercontent.com/Optimization-Algorithms-Book/Code-Listings/main/Appendix%20B/data/ALBP/ALB_TS_DATA.txt\", sep =\",\")\n",
    "tasks.head()"
   ]
  },
  {
   "attachments": {},
   "cell_type": "markdown",
   "id": "a6c6f45b",
   "metadata": {},
   "source": [
    "### Get tasks' immediate precedessors as a dataframe "
   ]
  },
  {
   "cell_type": "code",
   "execution_count": 13,
   "id": "606a1942",
   "metadata": {},
   "outputs": [
    {
     "data": {
      "text/html": [
       "<div>\n",
       "<style scoped>\n",
       "    .dataframe tbody tr th:only-of-type {\n",
       "        vertical-align: middle;\n",
       "    }\n",
       "\n",
       "    .dataframe tbody tr th {\n",
       "        vertical-align: top;\n",
       "    }\n",
       "\n",
       "    .dataframe thead th {\n",
       "        text-align: right;\n",
       "    }\n",
       "</style>\n",
       "<table border=\"1\" class=\"dataframe\">\n",
       "  <thead>\n",
       "    <tr style=\"text-align: right;\">\n",
       "      <th></th>\n",
       "      <th>TASK</th>\n",
       "      <th>IMMEDIATE_PRECEDESSOR</th>\n",
       "    </tr>\n",
       "  </thead>\n",
       "  <tbody>\n",
       "    <tr>\n",
       "      <th>0</th>\n",
       "      <td>T3</td>\n",
       "      <td>T1</td>\n",
       "    </tr>\n",
       "    <tr>\n",
       "      <th>1</th>\n",
       "      <td>T4</td>\n",
       "      <td>T2</td>\n",
       "    </tr>\n",
       "    <tr>\n",
       "      <th>2</th>\n",
       "      <td>T5</td>\n",
       "      <td>T3</td>\n",
       "    </tr>\n",
       "    <tr>\n",
       "      <th>3</th>\n",
       "      <td>T5</td>\n",
       "      <td>T4</td>\n",
       "    </tr>\n",
       "    <tr>\n",
       "      <th>4</th>\n",
       "      <td>T6</td>\n",
       "      <td>T4</td>\n",
       "    </tr>\n",
       "  </tbody>\n",
       "</table>\n",
       "</div>"
      ],
      "text/plain": [
       "  TASK IMMEDIATE_PRECEDESSOR\n",
       "0   T3                    T1\n",
       "1   T4                    T2\n",
       "2   T5                    T3\n",
       "3   T5                    T4\n",
       "4   T6                    T4"
      ]
     },
     "execution_count": 13,
     "metadata": {},
     "output_type": "execute_result"
    }
   ],
   "source": [
    "Prec= pd.read_csv(\"https://raw.githubusercontent.com/Optimization-Algorithms-Book/Code-Listings/main/Appendix%20B/data/ALBP/ALB_TS_PRECEDENCE.txt\", sep =\",\")\n",
    "Prec.columns=['TASK', 'IMMEDIATE_PRECEDESSOR']\n",
    "Prec.head()"
   ]
  },
  {
   "attachments": {},
   "cell_type": "markdown",
   "id": "3537e1dc",
   "metadata": {},
   "source": [
    "### Create a precedence matrix of tasks "
   ]
  },
  {
   "cell_type": "code",
   "execution_count": 14,
   "id": "d52cfbf3",
   "metadata": {},
   "outputs": [
    {
     "data": {
      "text/plain": [
       "array([[0, 0, 1, 0, 0, 0],\n",
       "       [0, 0, 0, 1, 0, 0],\n",
       "       [0, 0, 0, 0, 1, 0],\n",
       "       [0, 0, 0, 0, 1, 1],\n",
       "       [0, 0, 0, 0, 0, 0],\n",
       "       [0, 0, 0, 0, 0, 0]])"
      ]
     },
     "execution_count": 14,
     "metadata": {},
     "output_type": "execute_result"
    }
   ],
   "source": [
    "Prec_Matrix = Precedence_Matrix(tasks, Prec)\n",
    "Prec_Matrix"
   ]
  },
  {
   "attachments": {},
   "cell_type": "markdown",
   "id": "c24206b7",
   "metadata": {},
   "source": [
    "### Cycle time"
   ]
  },
  {
   "cell_type": "code",
   "execution_count": 15,
   "id": "5b8302b5",
   "metadata": {},
   "outputs": [],
   "source": [
    "# The cycle time for the assembly line balancing problem  where Cycle_time = daily demand / daily work time \n",
    "Cycle_time = 4\n",
    "# The total sum of processing times\n",
    "total_processing_time = tasks[\"Duration\"].sum()\n",
    "\n",
    "# The number of tasks \n",
    "N = tasks[\"Duration\"].count()\n",
    "\n",
    "# The number of maximum workstation where TN_M_WS = raundup(total_processing_time/N)\n",
    "TN_M_WS = math.ceil(total_processing_time/N)\n",
    "\n",
    "# The number of possible workstations for tasks  having task durations that are greater than the half of the cycle time \n",
    "TN_P_WS = Total_Number_Possible_Work_Station(tasks, Cycle_time)\n",
    "\n",
    "# The accual number of workstations will be greater than or equal to  TN_M_WS and/or TN_P_WS\n",
    "WS = max(TN_M_WS,TN_P_WS) +1 \n",
    "\n",
    "# The average workstation workload \n",
    "average_WS_time = total_processing_time / WS"
   ]
  },
  {
   "attachments": {},
   "cell_type": "markdown",
   "id": "c5167f03",
   "metadata": {},
   "source": [
    "### Set tabu search parameters"
   ]
  },
  {
   "cell_type": "code",
   "execution_count": 16,
   "id": "0b9e7924",
   "metadata": {},
   "outputs": [],
   "source": [
    "# Set a tabu tenure\n",
    "tenure = 3\n",
    "# Set the number of iterations\n",
    "max_itr=100"
   ]
  },
  {
   "attachments": {},
   "cell_type": "markdown",
   "id": "45ad0092",
   "metadata": {},
   "source": [
    "### Generate an initial solution"
   ]
  },
  {
   "cell_type": "code",
   "execution_count": 17,
   "id": "190d661f",
   "metadata": {},
   "outputs": [
    {
     "name": "stdout",
     "output_type": "stream",
     "text": [
      "Initial feasible solution:  ['T2', 'T4', 'T6', 'T1', 'T5', 'T3']\n"
     ]
    }
   ],
   "source": [
    "# Get an initial solution\n",
    "solution = Initial_Solution(len(tasks))\n",
    "\n",
    "# Making the generated feasible solution a feasible one considering the task precedence relations \n",
    "soln_init = Make_Solution_Feasible(solution, Prec)\n",
    "\n",
    "print(\"Initial feasible solution: \", soln_init)"
   ]
  },
  {
   "cell_type": "code",
   "execution_count": 18,
   "id": "d350a1f4",
   "metadata": {},
   "outputs": [
    {
     "name": "stdout",
     "output_type": "stream",
     "text": [
      "######## The Smoothing Index value for ['T2', 'T4', 'T6', 'T1', 'T5', 'T3'] solution sequence is: 1.1832159566199232 ########\n",
      "######## The number of workstations for ['T2', 'T4', 'T6', 'T1', 'T5', 'T3'] solution sequence is: 5 ########\n",
      "######## The workloads of workstation for ['T2', 'T4', 'T6', 'T1', 'T5', 'T3'] solution sequence are: [4. 3. 2. 3. 3.] ########\n",
      "1.1832159566199232\n"
     ]
    }
   ],
   "source": [
    "# Calculate the smoothing index of the initial solution \n",
    "SI_init = Smoothing_index(soln_init, WS, tasks, Cycle_time, True)\n",
    "print(SI_init)"
   ]
  },
  {
   "cell_type": "code",
   "execution_count": 19,
   "id": "904758a1",
   "metadata": {},
   "outputs": [
    {
     "data": {
      "image/png": "[encoded data removed]",
      "text/plain": [
       "<Figure size 640x480 with 1 Axes>"
      ]
     },
     "metadata": {},
     "output_type": "display_data"
    }
   ],
   "source": [
    "# Plot initial solution\n",
    "plt = Make_Solution_to_plot(soln_init, WS, tasks, Cycle_time)\n",
    "plt.show()\n",
    "# plt.savefig('CH06_F18_B_SALBP.png', format='png', dpi=300)"
   ]
  },
  {
   "attachments": {},
   "cell_type": "markdown",
   "id": "54581edd",
   "metadata": {},
   "source": [
    "### Run the tabu search"
   ]
  },
  {
   "cell_type": "code",
   "execution_count": 20,
   "id": "a6c48eec",
   "metadata": {},
   "outputs": [],
   "source": [
    "sol_best, SI_best=tabu_search(max_itr, soln_init, SI_init, tenure, WS, tasks, Prec_Matrix, Cycle_time)"
   ]
  },
  {
   "attachments": {},
   "cell_type": "markdown",
   "id": "0b98de4b",
   "metadata": {},
   "source": [
    "### Calculate the smoothing index of the final solution "
   ]
  },
  {
   "cell_type": "code",
   "execution_count": 21,
   "id": "df1d8acb",
   "metadata": {},
   "outputs": [
    {
     "name": "stdout",
     "output_type": "stream",
     "text": [
      "######## The Smoothing Index value for ['T3', 'T5', 'T6', 'T1', 'T4', 'T2'] solution sequence is: 0.0 ########\n",
      "######## The number of workstations for ['T3', 'T5', 'T6', 'T1', 'T4', 'T2'] solution sequence is: 5 ########\n",
      "######## The workloads of workstation for ['T3', 'T5', 'T6', 'T1', 'T4', 'T2'] solution sequence are: [3. 3. 3. 3. 3.] ########\n"
     ]
    },
    {
     "data": {
      "text/plain": [
       "0.0"
      ]
     },
     "execution_count": 21,
     "metadata": {},
     "output_type": "execute_result"
    }
   ],
   "source": [
    "Smoothing_index(sol_best, WS, tasks, Cycle_time, True)"
   ]
  },
  {
   "attachments": {},
   "cell_type": "markdown",
   "id": "f1a4cac9",
   "metadata": {},
   "source": [
    "### Plot the final solution "
   ]
  },
  {
   "cell_type": "code",
   "execution_count": 22,
   "id": "64cfe2c7",
   "metadata": {},
   "outputs": [
    {
     "data": {
      "image/png": "[encoded data removed]",
      "text/plain": [
       "<Figure size 640x480 with 1 Axes>"
      ]
     },
     "metadata": {},
     "output_type": "display_data"
    }
   ],
   "source": [
    "plt = Make_Solution_to_plot(sol_best, WS, tasks, Cycle_time)\n",
    "plt.show()\n",
    "# plt.savefig('CH06_F18_A_SALBP.png', format='png', dpi=300)"
   ]
  }
 ],
 "metadata": {
  "celltoolbar": "Tags",
  "kernelspec": {
   "display_name": "ox",
   "language": "python",
   "name": "python3"
  },
  "language_info": {
   "codemirror_mode": {
    "name": "ipython",
    "version": 3
   },
   "file_extension": ".py",
   "mimetype": "text/x-python",
   "name": "python",
   "nbconvert_exporter": "python",
   "pygments_lexer": "ipython3",
   "version": "3.10.6"
  },
  "vscode": {
   "interpreter": {
    "hash": "899ff88a75886fc7a7b40f2d92fee8f59f6284588a3bf99939bb8f65c5caf859"
   }
  }
 },
 "nbformat": 4,
 "nbformat_minor": 5
}
