{
 "cells": [
  {
   "cell_type": "code",
   "execution_count": null,
   "metadata": {},
   "outputs": [],
   "source": [
    "import sys\n",
    "# adding search_optimization_tools to the system path\n",
    "sys.path.insert(0, '../')"
   ]
  },
  {
   "cell_type": "code",
   "execution_count": null,
   "metadata": {},
   "outputs": [],
   "source": [
    "import latexify\n",
    "import random\n",
    "import math\n",
    "import numpy as np\n",
    "from search_optimization_tools.algorithms.trajectory_based import SimulatedAnnealing\n",
    "from search_optimization_tools.problems import ProblemBase, ContinuousFunctionBase"
   ]
  },
  {
   "cell_type": "code",
   "execution_count": null,
   "id": "bb4fc0d8-dcd3-4e78-a218-3348f1b38514",
   "metadata": {},
   "outputs": [],
   "source": [
    "@latexify.with_latex\n",
    "def simple_example(x):\n",
    "    return (x-6)**2\n",
    "\n",
    "simple_example_bounds = np.asarray([[0, 31]])\n",
    "simple_example_obj = ContinuousFunctionBase(simple_example, simple_example_bounds)\n",
    "simple_example"
   ]
  },
  {
   "cell_type": "code",
   "execution_count": null,
   "id": "0b43b449-5836-44ac-9e89-60b5d346af84",
   "metadata": {},
   "outputs": [],
   "source": [
    "# Adding debug = 1 to print initial and final solution\n",
    "sa = SimulatedAnnealing(max_iter=1000, max_iter_per_temp=100, initial_temp=1000, final_temp=0.0001, cooling_schedule='geometric', cooling_alpha=0.9, debug=1)"
   ]
  },
  {
   "cell_type": "code",
   "execution_count": null,
   "metadata": {},
   "outputs": [],
   "source": [
    "sa.run(simple_example_obj)"
   ]
  },
  {
   "cell_type": "code",
   "execution_count": null,
   "id": "0b43b449-5836-44ac-9e89-60b5d346af84",
   "metadata": {},
   "outputs": [],
   "source": [
    "# Adding debug=2 (debug>1) for hand iteration tracing\n",
    "sa_hand_iter = SimulatedAnnealing(max_iter=100, max_iter_per_temp=100, initial_temp=1000, final_temp=0.0001, cooling_schedule='geometric', cooling_alpha=0.9, debug=2)"
   ]
  },
  {
   "cell_type": "code",
   "execution_count": null,
   "metadata": {},
   "outputs": [],
   "source": [
    "sa_hand_iter.run(simple_example_obj)"
   ]
  },
  {
   "cell_type": "code",
   "execution_count": null,
   "id": "37c0805a-af81-4b38-90a3-787120fcce8e",
   "metadata": {},
   "outputs": [],
   "source": [
    "simple_example_obj.plot(sa_hand_iter.s_best)"
   ]
  },
  {
   "cell_type": "code",
   "execution_count": null,
   "metadata": {},
   "outputs": [],
   "source": [
    "def Bohachevsky(x_1, x_2):\n",
    "    return x_1**2 +2*(x_2**2)-0.3*np.cos(3*np.pi*x_1)-0.4*np.cos(4*np.pi*x_2)+0.7\n",
    "\n",
    "Bohachevsky_bounds = np.asarray([[-100, 100], [-100, 100]])\n",
    "Bohachevsky_obj = ContinuousFunctionBase(Bohachevsky, Bohachevsky_bounds, 5)"
   ]
  },
  {
   "cell_type": "code",
   "execution_count": null,
   "metadata": {},
   "outputs": [],
   "source": [
    "sa.run(Bohachevsky_obj)"
   ]
  },
  {
   "cell_type": "code",
   "execution_count": null,
   "metadata": {},
   "outputs": [],
   "source": [
    "Bohachevsky_obj.plot(sa.s_best,'Bohachevsky Function')"
   ]
  },
  {
   "cell_type": "code",
   "execution_count": null,
   "metadata": {},
   "outputs": [],
   "source": [
    "@latexify.with_latex\n",
    "def bukin(x_1, x_2):\n",
    "    return 100*math.sqrt(abs(x_2-0.01*x_1**2)) + 0.01 * abs(x_1 + 10)\n",
    "\n",
    "bukin_bounds = np.asarray([[-15, -5], [-3, 3]])\n",
    "bukin_obj = ContinuousFunctionBase(bukin, bukin_bounds, 5)\n",
    "bukin"
   ]
  },
  {
   "cell_type": "code",
   "execution_count": null,
   "metadata": {},
   "outputs": [],
   "source": [
    "sa.run(bukin_obj)"
   ]
  },
  {
   "cell_type": "code",
   "execution_count": null,
   "metadata": {},
   "outputs": [],
   "source": [
    "bukin_obj.plot(sa.s_best,'Bukin Function')"
   ]
  },
  {
   "cell_type": "code",
   "execution_count": null,
   "metadata": {},
   "outputs": [],
   "source": [
    "pi = math.pi\n",
    "@latexify.with_latex\n",
    "def gramacy_and_lee(x):\n",
    "    return math.sin(10*pi*x)/(2*x) + (x-1)**4\n",
    "\n",
    "gramacy_and_lee_bounds = np.asarray([[0.5, 2.5]])\n",
    "gramacy_and_lee_obj = ContinuousFunctionBase(gramacy_and_lee, gramacy_and_lee_bounds, .1)\n",
    "gramacy_and_lee"
   ]
  },
  {
   "cell_type": "code",
   "execution_count": null,
   "metadata": {},
   "outputs": [],
   "source": [
    "sa.run(gramacy_and_lee_obj)"
   ]
  },
  {
   "cell_type": "code",
   "execution_count": null,
   "metadata": {},
   "outputs": [],
   "source": [
    "gramacy_and_lee_obj.plot(sa.s_best,'Gramacy and Lee Function')"
   ]
  },
  {
   "cell_type": "code",
   "execution_count": null,
   "metadata": {},
   "outputs": [],
   "source": [
    "def griewank(*x):\n",
    "    x = np.asarray(x)\n",
    "    return np.sum(x**2/4000) - np.prod(np.cos(x/np.sqrt(np.asarray(range(1, len(x)+1))))) + 1\n",
    "\n",
    "griewank_bounds = np.asarray([[-600, 600]])\n",
    "griewank_1d=ContinuousFunctionBase(griewank, griewank_bounds, 10)"
   ]
  },
  {
   "cell_type": "code",
   "execution_count": null,
   "metadata": {},
   "outputs": [],
   "source": [
    "sa.run(griewank_1d)"
   ]
  },
  {
   "cell_type": "code",
   "execution_count": null,
   "metadata": {},
   "outputs": [],
   "source": [
    "griewank_1d.plot(sa.s_best,'Griewank 1D Function')"
   ]
  },
  {
   "cell_type": "code",
   "execution_count": null,
   "metadata": {},
   "outputs": [],
   "source": [
    "griewank_bounds_2d = np.asarray([[-600, 600]]*2)\n",
    "griewank_2d=ContinuousFunctionBase(griewank, griewank_bounds_2d, (griewank_bounds_2d[:, 1] - griewank_bounds_2d[:, 0])/10)"
   ]
  },
  {
   "cell_type": "code",
   "execution_count": null,
   "metadata": {},
   "outputs": [],
   "source": [
    "sa.run(griewank_2d)"
   ]
  },
  {
   "cell_type": "code",
   "execution_count": null,
   "metadata": {},
   "outputs": [],
   "source": [
    "griewank_2d.plot(sa.s_best,'Griewank 2D Function')"
   ]
  },
  {
   "cell_type": "code",
   "execution_count": null,
   "metadata": {},
   "outputs": [],
   "source": [
    "griewank_bounds_3d = np.asarray([[-600, 600]]*3)\n",
    "griewank_3d=ContinuousFunctionBase(griewank, griewank_bounds_3d, (griewank_bounds_3d[:, 1] - griewank_bounds_3d[:, 0])/10)"
   ]
  },
  {
   "cell_type": "code",
   "execution_count": null,
   "metadata": {},
   "outputs": [],
   "source": [
    "# Changing the parameters for SA for more complex problem\n",
    "sa = SimulatedAnnealing(max_iter=10000, max_iter_per_temp=1000, initial_temp=10000, final_temp=0.0000001, cooling_schedule='linear_inverse', cooling_alpha=0.9, debug=1)"
   ]
  },
  {
   "cell_type": "code",
   "execution_count": null,
   "metadata": {},
   "outputs": [],
   "source": [
    "sa.run(griewank_3d)"
   ]
  }
 ],
 "metadata": {
  "kernelspec": {
   "display_name": "Python 3 (ipykernel)",
   "language": "python",
   "name": "python3"
  },
  "language_info": {
   "codemirror_mode": {
    "name": "ipython",
    "version": 3
   },
   "file_extension": ".py",
   "mimetype": "text/x-python",
   "name": "python",
   "nbconvert_exporter": "python",
   "pygments_lexer": "ipython3",
   "version": "3.10.1"
  },
  "vscode": {
   "interpreter": {
    "hash": "26de051ba29f2982a8de78e945f0abaf191376122a1563185a90213a26c5da77"
   }
  }
 },
 "nbformat": 4,
 "nbformat_minor": 4
}
