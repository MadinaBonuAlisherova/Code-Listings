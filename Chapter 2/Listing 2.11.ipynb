{
 "cells": [
  {
   "cell_type": "code",
   "execution_count": 1,
   "metadata": {},
   "outputs": [],
   "source": [
    "import osmnx\n",
    "from collections import deque\n",
    "from search_optimization_tools import Node, cost, draw_route\n",
    "osmnx.utils.config(requests_kwargs={'verify':False})\n",
    "reference = (43.661667, -79.395)\n",
    "G = osmnx.graph_from_point(reference, dist=300, clean_periphery=True, simplify=True)\n",
    "\n",
    "# First convert the source and destination nodes to Node\n",
    "origin = Node(graph=G, osmid=55808290)\n",
    "destination = Node(graph=G, osmid=389677909)"
   ]
  },
  {
   "cell_type": "code",
   "execution_count": 2,
   "metadata": {},
   "outputs": [],
   "source": [
    "def DFS(origin, destination):\n",
    "    route = []\n",
    "    frontier = deque([origin])\n",
    "    explored = set()\n",
    "    found = False\n",
    "\n",
    "    while frontier and not found:\n",
    "        node = frontier.pop()\n",
    "        explored.add(node)\n",
    "        for child in node.expand():\n",
    "            if child not in explored and child not in frontier:\n",
    "                if child == destination:\n",
    "                    route = child.path()\n",
    "                    found = True\n",
    "                frontier.append(child)\n",
    "    return route"
   ]
  },
  {
   "cell_type": "code",
   "execution_count": 3,
   "metadata": {},
   "outputs": [
    {
     "name": "stdout",
     "output_type": "stream",
     "text": [
      "Route: [55808290, 55808177, 55808169, 9270977970, 3179025274, 9270977966, 3108569783, 9270977968, 9270977981, 389678274, 1252845744, 50897919, 1721865730, 50897923, 50899731, 36607334, 389677942, 60052047, 60052037, 9295001674, 60052048, 389677926, 7310874576, 2480713262, 838289889, 838289892, 9135892713, 9135892688, 9135892694, 9135892695, 1840221676, 9295001706, 1840221686, 1840221695, 389677947, 2143489692, 2143506365, 2143491963, 2143488528, 389678141, 2143489694, 389678142, 389678151, 1258698113, 9270977975, 9270977978, 24960068, 389678107, 389678111, 55808582, 55808571, 7967019572, 1258703092, 244213560, 389678113, 389678146, 2143501174, 2143501176, 316884976, 7967019552, 80927418, 3996671922, 8277128601, 3996671928, 80927426, 2143468197, 2143468182, 55808564, 127284677, 130170945, 127284680, 2143434279, 55808451, 50885147, 389678122, 389677906, 50885141, 6028561925, 239055729, 389678039, 389678038, 7311057936, 7311057937, 6028562355, 389678124, 6028561921, 6028561924, 3707407638, 730029011, 730029007, 2557539842, 2557539841, 389678133, 9517994077, 9517994074, 389677909]\n",
      "Cost: 3347.482\n"
     ]
    },
    {
     "data": {
      "application/vnd.jupyter.widget-view+json": {
       "model_id": "4893d078c8624411aba15dac4d5f8f3b",
       "version_major": 2,
       "version_minor": 0
      },
      "text/plain": [
       "Map(center=[43.6609405, -79.3951948], controls=(ZoomControl(options=['position', 'zoom_in_text', 'zoom_in_titl…"
      ]
     },
     "metadata": {},
     "output_type": "display_data"
    }
   ],
   "source": [
    "route = DFS(origin, destination)\n",
    "print(f\"Route: {route}\")\n",
    "print(f\"Cost: {cost(G,route)}\")\n",
    "draw_route(G, route)"
   ]
  }
 ],
 "metadata": {
  "interpreter": {
   "hash": "ffbfc792e496a15b6b750fac43e7a9afdc7c26545a7abda9dc172ad3cb978227"
  },
  "kernelspec": {
   "display_name": "Python 3.8.8 64-bit",
   "language": "python",
   "name": "python3"
  },
  "language_info": {
   "codemirror_mode": {
    "name": "ipython",
    "version": 3
   },
   "file_extension": ".py",
   "mimetype": "text/x-python",
   "name": "python",
   "nbconvert_exporter": "python",
   "pygments_lexer": "ipython3",
   "version": "3.8.8"
  },
  "orig_nbformat": 4
 },
 "nbformat": 4,
 "nbformat_minor": 2
}
