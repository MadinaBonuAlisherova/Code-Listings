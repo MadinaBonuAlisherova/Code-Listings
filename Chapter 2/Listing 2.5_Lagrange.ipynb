{
 "cells": [
  {
   "cell_type": "code",
   "execution_count": 1,
   "id": "33062da1",
   "metadata": {},
   "outputs": [
    {
     "name": "stdout",
     "output_type": "stream",
     "text": [
      "Optimal number of physical ticket sales: x = 6424\n",
      "Optimal number of online ticket sales: y = 3576\n",
      "Expected profil: f(x,y) = $2087260.5333\n"
     ]
    }
   ],
   "source": [
    "import numpy as np\n",
    "import sympy as sym\n",
    "\n",
    "x,y=sym.var('x, y', positive=True) #A\n",
    "\n",
    "f=155*x+(0.001*x**sym.Rational(3,2)+70)*y-1000000 #B\n",
    "\n",
    "g=x+y-10000 #C\n",
    "\n",
    "lamda=sym.symbols('lambda') #D\n",
    "Lagr=f-lamda*g\n",
    "\n",
    "grad_Lagr=[sym.diff(Lagr,var) for var in [x,y]] #E\n",
    "eqs=grad_Lagr+[g]\n",
    "\n",
    "sol=sym.solve(eqs,[x,y,lamda], dict=True) #F\n",
    "\n",
    "\n",
    "def getValueOf(k, L):\n",
    "    for d in L:\n",
    "        if k in d:\n",
    "            return d[k]\n",
    "\n",
    "# print the value of the objective function\n",
    "profit=[f.subs(p) for p in sol]\n",
    "\n",
    "print(\"Optimal number of physical ticket sales: x = %.0f\" % getValueOf(x, sol))\n",
    "print(\"Optimal number of online ticket sales: y = %.0f\" % getValueOf(y, sol))\n",
    "print(\"Expected profil: f(x,y) = $%.4f\" % profit[0])"
   ]
  }
 ],
 "metadata": {
  "@webio": {
   "lastCommId": null,
   "lastKernelId": null
  },
  "kernelspec": {
   "display_name": "Python 3 (ipykernel)",
   "language": "python",
   "name": "python3"
  },
  "language_info": {
   "codemirror_mode": {
    "name": "ipython",
    "version": 3
   },
   "file_extension": ".py",
   "mimetype": "text/x-python",
   "name": "python",
   "nbconvert_exporter": "python",
   "pygments_lexer": "ipython3",
   "version": "3.9.7"
  }
 },
 "nbformat": 4,
 "nbformat_minor": 5
}
