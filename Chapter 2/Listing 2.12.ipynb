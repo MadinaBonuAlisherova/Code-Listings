{
 "cells": [
  {
   "cell_type": "code",
   "execution_count": 66,
   "metadata": {},
   "outputs": [],
   "source": [
    "import osmnx\n",
    "import math\n",
    "import heapq\n",
    "from search_optimization_tools import Node\n",
    "osmnx.utils.config(requests_kwargs={'verify':False})\n",
    "reference = (43.661667, -79.395)\n",
    "G = osmnx.graph_from_point(reference, dist=300, clean_periphery=True, simplify=True)"
   ]
  },
  {
   "cell_type": "code",
   "execution_count": 67,
   "metadata": {},
   "outputs": [
    {
     "data": {
      "text/plain": [
       "628"
      ]
     },
     "execution_count": 67,
     "metadata": {},
     "output_type": "execute_result"
    }
   ],
   "source": [
    "len(G.edges)+len(G.nodes)"
   ]
  },
  {
   "cell_type": "code",
   "execution_count": 68,
   "metadata": {},
   "outputs": [],
   "source": [
    "def Dijkstra(G, origin, destination):\n",
    "    # Using a set here avoids the problem with self loops\n",
    "    seen = set()\n",
    "    shortest_dist = {osmid: math.inf for osmid in G.nodes()}\n",
    "    unrelaxed_nodes = [Node(graph=G, osmid=osmid) for osmid in G.nodes()]\n",
    "    shortest_dist[origin.osmid] = 0\n",
    "    found = False\n",
    "    route = None\n",
    "    while len(unrelaxed_nodes) > 0 and not found:\n",
    "        node = min(unrelaxed_nodes, key=lambda node: shortest_dist[node.osmid])\n",
    "        # relaxing the node, so this node's value in shortest_dist is the shortest distance between the origin and destination\n",
    "        unrelaxed_nodes.remove(node)\n",
    "        seen.add(node.osmid)\n",
    "        # if the destination node has been relaxed then that is the route we want\n",
    "        if node == destination:\n",
    "            route = node.path()\n",
    "            found = True\n",
    "            continue\n",
    "        # otherwise, let's relax edges of its neighbours\n",
    "        for child in node.expand():\n",
    "            # skip self-loops\n",
    "            if child.osmid in seen:\n",
    "                continue\n",
    "            child_obj = next(\n",
    "                (node for node in unrelaxed_nodes if node.osmid == child.osmid), None\n",
    "            )\n",
    "            child_obj.distance = child.distance\n",
    "            distance = shortest_dist[node.osmid] + child.distance\n",
    "            if distance < shortest_dist[child_obj.osmid]:\n",
    "                shortest_dist[child_obj.osmid] = distance\n",
    "                child_obj.parent = node\n",
    "    return route"
   ]
  },
  {
   "cell_type": "code",
   "execution_count": 69,
   "metadata": {},
   "outputs": [],
   "source": [
    "def UCS(origin, destination):\n",
    "    entry_count = 1\n",
    "    priority_queue = [(0, 0, origin)]\n",
    "    found = False\n",
    "    visited = []\n",
    "    route = None\n",
    "    while priority_queue and not found:\n",
    "        node = heapq.heappop(priority_queue)\n",
    "        node_cost = node[0]\n",
    "        node = node[2]\n",
    "        if node in visited:\n",
    "            continue\n",
    "        visited.append(node)\n",
    "        # We found the destination\n",
    "        if node == destination:\n",
    "            route = node.path()\n",
    "            found = True\n",
    "            continue\n",
    "        for child in node.expand():\n",
    "            total_cost = child.distance + node_cost\n",
    "            matches = [item for item in priority_queue if item[2] == child]\n",
    "            if matches:\n",
    "                # Update the entry if the new priority is better\n",
    "                if total_cost < matches[0][0]:\n",
    "                    priority_queue[priority_queue.index(matches[0])] = (\n",
    "                        total_cost,\n",
    "                        entry_count,\n",
    "                        child,\n",
    "                    )\n",
    "                    entry_count += 1\n",
    "                    heapq.heapify(priority_queue)\n",
    "            else:\n",
    "                heapq.heappush(priority_queue, (total_cost, entry_count, child))\n",
    "                entry_count += 1\n",
    "    return route"
   ]
  },
  {
   "cell_type": "code",
   "execution_count": 70,
   "metadata": {},
   "outputs": [
    {
     "data": {
      "text/plain": [
       "84.609375"
      ]
     },
     "execution_count": 70,
     "metadata": {},
     "output_type": "execute_result"
    }
   ],
   "source": [
    "from time import process_time\n",
    "\n",
    "s = process_time()\n",
    "for node1 in G.nodes:\n",
    "    for node2 in G.nodes:\n",
    "        Dijkstra(G,Node(G,node1),Node(G,node2))\n",
    "e = process_time()\n",
    "\n",
    "e-s\n"
   ]
  },
  {
   "cell_type": "code",
   "execution_count": 71,
   "metadata": {},
   "outputs": [
    {
     "data": {
      "text/plain": [
       "58.234375"
      ]
     },
     "execution_count": 71,
     "metadata": {},
     "output_type": "execute_result"
    }
   ],
   "source": [
    "s = process_time()\n",
    "for node1 in G.nodes:\n",
    "    for node2 in G.nodes:\n",
    "        UCS(Node(G,node1),Node(G,node2))\n",
    "e = process_time()\n",
    "\n",
    "e-s"
   ]
  }
 ],
 "metadata": {
  "interpreter": {
   "hash": "ffbfc792e496a15b6b750fac43e7a9afdc7c26545a7abda9dc172ad3cb978227"
  },
  "kernelspec": {
   "display_name": "Python 3.8.8 64-bit",
   "language": "python",
   "name": "python3"
  },
  "language_info": {
   "codemirror_mode": {
    "name": "ipython",
    "version": 3
   },
   "file_extension": ".py",
   "mimetype": "text/x-python",
   "name": "python",
   "nbconvert_exporter": "python",
   "pygments_lexer": "ipython3",
   "version": "3.8.8"
  },
  "orig_nbformat": 4
 },
 "nbformat": 4,
 "nbformat_minor": 2
}
