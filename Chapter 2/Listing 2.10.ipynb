{
 "cells": [
  {
   "cell_type": "code",
   "execution_count": 1,
   "metadata": {},
   "outputs": [],
   "source": [
    "import osmnx\n",
    "from collections import deque\n",
    "from search_optimization_tools import Node, cost, draw_route\n",
    "import math \n",
    "import heapq\n",
    "import matplotlib.pyplot as plt\n",
    "\n",
    "osmnx.utils.config(requests_kwargs={'verify':False})\n",
    "reference = (43.661667, -79.395)\n",
    "G = osmnx.graph_from_point(reference, dist=300, clean_periphery=True, simplify=True)\n",
    "\n",
    "# First convert the source and destination nodes to Node\n",
    "origin = Node(graph=G, osmid=55808290)\n",
    "destination = Node(graph=G, osmid=389677909)"
   ]
  },
  {
   "cell_type": "code",
   "execution_count": 2,
   "metadata": {},
   "outputs": [],
   "source": [
    "def BFS(origin, destination):\n",
    "    route = []\n",
    "    frontier = deque([origin])\n",
    "    explored = set()\n",
    "    found = False\n",
    "\n",
    "    while frontier and not found:\n",
    "        node = frontier.popleft()\n",
    "        explored.add(node)\n",
    "        for child in node.expand():\n",
    "            if child not in explored and child not in frontier:\n",
    "                if child == destination:\n",
    "                    route = child.path()\n",
    "                    found = True\n",
    "                frontier.append(child)\n",
    "    return route"
   ]
  },
  {
   "cell_type": "code",
   "execution_count": 3,
   "metadata": {},
   "outputs": [],
   "source": [
    "def DFS(origin, destination):\n",
    "    route = []\n",
    "    frontier = deque([origin])\n",
    "    explored = set()\n",
    "    found = False\n",
    "\n",
    "    while frontier and not found:\n",
    "        node = frontier.pop()\n",
    "        explored.add(node)\n",
    "        for child in node.expand():\n",
    "            if child not in explored and child not in frontier:\n",
    "                if child == destination:\n",
    "                    route = child.path()\n",
    "                    found = True\n",
    "                frontier.append(child)\n",
    "    return route"
   ]
  },
  {
   "cell_type": "code",
   "execution_count": 4,
   "metadata": {},
   "outputs": [],
   "source": [
    "def Dijkstra(G, origin, destination):\n",
    "    # Using a set here avoids the problem with self loops\n",
    "    seen = set()\n",
    "    shortest_dist = {osmid: math.inf for osmid in G.nodes()}\n",
    "    unrelaxed_nodes = [Node(graph=G, osmid=osmid) for osmid in G.nodes()]\n",
    "    shortest_dist[origin.osmid] = 0\n",
    "    found = False\n",
    "    route = None\n",
    "    while len(unrelaxed_nodes) > 0 and not found:\n",
    "        node = min(unrelaxed_nodes, key=lambda node: shortest_dist[node.osmid])\n",
    "        # relaxing the node, so this node's value in shortest_dist is the shortest distance between the origin and destination\n",
    "        unrelaxed_nodes.remove(node)\n",
    "        seen.add(node.osmid)\n",
    "        # if the destination node has been relaxed then that is the route we want\n",
    "        if node == destination:\n",
    "            route = node.path()\n",
    "            found = True\n",
    "            continue\n",
    "        # otherwise, let's relax edges of its neighbours\n",
    "        for child in node.expand():\n",
    "            # skip self-loops\n",
    "            if child.osmid in seen:\n",
    "                continue\n",
    "            child_obj = next(\n",
    "                (node for node in unrelaxed_nodes if node.osmid == child.osmid), None\n",
    "            )\n",
    "            child_obj.distance = child.distance\n",
    "            distance = shortest_dist[node.osmid] + child.distance\n",
    "            if distance < shortest_dist[child_obj.osmid]:\n",
    "                shortest_dist[child_obj.osmid] = distance\n",
    "                child_obj.parent = node\n",
    "    return route"
   ]
  },
  {
   "cell_type": "code",
   "execution_count": 5,
   "metadata": {},
   "outputs": [],
   "source": [
    "def UCS(origin, destination):\n",
    "    entry_count = 1\n",
    "    priority_queue = [(0, 0, origin)]\n",
    "    found = False\n",
    "    visited = []\n",
    "    route = None\n",
    "    while priority_queue and not found:\n",
    "        node = heapq.heappop(priority_queue)\n",
    "        node_cost = node[0]\n",
    "        node = node[2]\n",
    "        if node in visited:\n",
    "            continue\n",
    "        visited.append(node)\n",
    "        # We found the destination\n",
    "        if node == destination:\n",
    "            route = node.path()\n",
    "            found = True\n",
    "            continue\n",
    "        for child in node.expand():\n",
    "            total_cost = child.distance + node_cost\n",
    "            matches = [item for item in priority_queue if item[2] == child]\n",
    "            if matches:\n",
    "                # Update the entry if the new priority is better\n",
    "                if total_cost < matches[0][0]:\n",
    "                    priority_queue[priority_queue.index(matches[0])] = (\n",
    "                        total_cost,\n",
    "                        entry_count,\n",
    "                        child,\n",
    "                    )\n",
    "                    entry_count += 1\n",
    "                    heapq.heapify(priority_queue)\n",
    "            else:\n",
    "                heapq.heappush(priority_queue, (total_cost, entry_count, child))\n",
    "                entry_count += 1\n",
    "    return route"
   ]
  },
  {
   "cell_type": "code",
   "execution_count": 6,
   "metadata": {},
   "outputs": [
    {
     "name": "stdout",
     "output_type": "stream",
     "text": [
      "BFS Cost: 955.962\n"
     ]
    },
    {
     "data": {
      "application/vnd.jupyter.widget-view+json": {
       "model_id": "12abec18badb47f083e074cb3a608246",
       "version_major": 2,
       "version_minor": 0
      },
      "text/plain": [
       "Map(center=[43.6609405, -79.3951948], controls=(ZoomControl(options=['position', 'zoom_in_text', 'zoom_in_titl…"
      ]
     },
     "metadata": {},
     "output_type": "display_data"
    }
   ],
   "source": [
    "route_bfs = BFS(origin, destination)\n",
    "print(f\"BFS Cost: {cost(G,route_bfs)}\")\n",
    "draw_route(G,route_bfs)"
   ]
  },
  {
   "cell_type": "code",
   "execution_count": 7,
   "metadata": {},
   "outputs": [
    {
     "name": "stdout",
     "output_type": "stream",
     "text": [
      "DFS Cost: 3347.482\n"
     ]
    },
    {
     "data": {
      "application/vnd.jupyter.widget-view+json": {
       "model_id": "3a580495b7e2401aac0a79706b985c10",
       "version_major": 2,
       "version_minor": 0
      },
      "text/plain": [
       "Map(center=[43.6609405, -79.3951948], controls=(ZoomControl(options=['position', 'zoom_in_text', 'zoom_in_titl…"
      ]
     },
     "metadata": {},
     "output_type": "display_data"
    }
   ],
   "source": [
    "route_dfs = DFS(origin, destination)\n",
    "print(f\"DFS Cost: {cost(G,route_dfs)}\")\n",
    "draw_route(G,route_dfs)"
   ]
  },
  {
   "cell_type": "code",
   "execution_count": 9,
   "metadata": {},
   "outputs": [
    {
     "name": "stdout",
     "output_type": "stream",
     "text": [
      "Dijkstra Cost: 806.892\n"
     ]
    },
    {
     "data": {
      "application/vnd.jupyter.widget-view+json": {
       "model_id": "c944cc20888545578da5d9ab32fb9381",
       "version_major": 2,
       "version_minor": 0
      },
      "text/plain": [
       "Map(center=[43.6609405, -79.3951948], controls=(ZoomControl(options=['position', 'zoom_in_text', 'zoom_in_titl…"
      ]
     },
     "metadata": {},
     "output_type": "display_data"
    }
   ],
   "source": [
    "route_dij = Dijkstra(G, origin, destination)\n",
    "print(f\"Dijkstra Cost: {cost(G,route_dij)}\")\n",
    "draw_route(G, route_dij)"
   ]
  },
  {
   "cell_type": "code",
   "execution_count": 10,
   "metadata": {},
   "outputs": [
    {
     "name": "stdout",
     "output_type": "stream",
     "text": [
      "UCS Cost: 806.892\n"
     ]
    },
    {
     "data": {
      "application/vnd.jupyter.widget-view+json": {
       "model_id": "2b7e12a660b345fbba7f3af096d0676d",
       "version_major": 2,
       "version_minor": 0
      },
      "text/plain": [
       "Map(center=[43.6609405, -79.3951948], controls=(ZoomControl(options=['position', 'zoom_in_text', 'zoom_in_titl…"
      ]
     },
     "metadata": {},
     "output_type": "display_data"
    }
   ],
   "source": [
    "route_ucs = UCS(origin, destination)\n",
    "print(f\"UCS Cost: {cost(G,route_ucs)}\")\n",
    "draw_route(G, route_ucs)"
   ]
  }
 ],
 "metadata": {
  "interpreter": {
   "hash": "ffbfc792e496a15b6b750fac43e7a9afdc7c26545a7abda9dc172ad3cb978227"
  },
  "kernelspec": {
   "display_name": "Python 3.8.8 64-bit",
   "language": "python",
   "name": "python3"
  },
  "language_info": {
   "codemirror_mode": {
    "name": "ipython",
    "version": 3
   },
   "file_extension": ".py",
   "mimetype": "text/x-python",
   "name": "python",
   "nbconvert_exporter": "python",
   "pygments_lexer": "ipython3",
   "version": "3.8.8"
  },
  "orig_nbformat": 4
 },
 "nbformat": 4,
 "nbformat_minor": 2
}
