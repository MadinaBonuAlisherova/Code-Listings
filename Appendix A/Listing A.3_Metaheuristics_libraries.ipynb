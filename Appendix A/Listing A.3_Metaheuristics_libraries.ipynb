{
 "cells": [
  {
   "cell_type": "markdown",
   "id": "30ca1641-9ab8-4079-8bd7-5a647e3c7ee2",
   "metadata": {},
   "source": [
    "# Metaheuristics libraries in Python\n",
    "\n",
    "* [scikit-opt](https://scikit-opt.github.io/scikit-opt/#/en/README)\n",
    "* [Distributed Evolutionary Algorithms in Python - DEAP](https://deap.readthedocs.io/en/master/)\n",
    "* [OR-Tools](https://developers.google.com/optimization)\n",
    "* [Python Genetic Algorithms & Differential Evolution (PyGAD](https://pygad.readthedocs.io/en/latest/)\n",
    "* [MEALPY](https://mealpy.readthedocs.io/en/latest/)\n",
    "* [SimAnneal](https://github.com/perrygeo/simanneal)\n",
    "* [NSGA-II: Non-dominated Sorting Genetic Algorithm in Pymoo](https://pymoo.org/algorithms/moo/nsga2.html)\n",
    "* [PySWARM](https://pyswarms.readthedocs.io/en/latest/)\n",
    "* [swarmlib](https://pypi.org/project/swarmlib/)\n",
    "* [HIVE](https://rwuilbercq.github.io/Hive/)\n",
    "* [ACO-Pants](https://pypi.org/project/ACO-Pants/)"
   ]
  },
  {
   "cell_type": "markdown",
   "id": "dd10bc73-6652-4e43-b006-a10ca38031ac",
   "metadata": {},
   "source": [
    "# Function Optimization"
   ]
  },
  {
   "cell_type": "markdown",
   "id": "526f3323-12e9-4ada-91e2-bbeba020958d",
   "metadata": {},
   "source": [
    "## scikit-opt example"
   ]
  },
  {
   "cell_type": "code",
   "execution_count": 1,
   "id": "82d9714d-a5e7-47e3-a83b-8a7c203d4b73",
   "metadata": {},
   "outputs": [],
   "source": [
    "# !pip install scikit-opt"
   ]
  },
  {
   "cell_type": "code",
   "execution_count": 2,
   "id": "89ef0712-83a9-421b-90a2-cd730ea21672",
   "metadata": {},
   "outputs": [
    {
     "name": "stdout",
     "output_type": "stream",
     "text": [
      "best_x: [  39.26990598 -103.67255778] best_y -0.9999999999975886\n"
     ]
    },
    {
     "data": {
      "image/png": "[encoded data removed]",
      "text/plain": [
       "<Figure size 640x480 with 1 Axes>"
      ]
     },
     "metadata": {},
     "output_type": "display_data"
    }
   ],
   "source": [
    "import numpy as np\n",
    "import pandas as pd\n",
    "import matplotlib.pyplot as plt\n",
    "from sko.SA import SA\n",
    "\n",
    "# define a multimodal function\n",
    "obj_func = lambda x: np.sin(x[0]) * np.cos(x[1])\n",
    "\n",
    "# solve using SA\n",
    "sa = SA(func=obj_func, x0=np.array([-3, -3]), T_max=1, T_min=1e-9, L=300, max_stay_counter=150)\n",
    "best_x, best_y = sa.run()\n",
    "print('best_x:', best_x, 'best_y', best_y)\n",
    "\n",
    "# print the result\n",
    "plt.plot(pd.DataFrame(sa.best_y_history).cummin(axis=0))\n",
    "plt.show()"
   ]
  },
  {
   "cell_type": "markdown",
   "id": "2471b8b1-ccfe-47cd-ae18-320308589a7f",
   "metadata": {},
   "source": [
    "## pyswarm example"
   ]
  },
  {
   "cell_type": "code",
   "execution_count": 3,
   "id": "d7885394-0914-4d39-8a8e-83d2b0084e07",
   "metadata": {},
   "outputs": [],
   "source": [
    "# !pip install --upgrade pyswarm"
   ]
  },
  {
   "cell_type": "code",
   "execution_count": 4,
   "id": "86da6c1f-899f-46e3-af86-b69d7ad211d0",
   "metadata": {},
   "outputs": [],
   "source": [
    "from pyswarms.single.global_best import GlobalBestPSO\n",
    "import math\n",
    "\n",
    "# Eggholder optimzation function\n",
    "def eggholder_func(x):\n",
    "    a=np.sqrt(np.fabs(x[:, 1]+x[:, 0]/2+47))\n",
    "    b=np.sqrt(np.fabs(x[:, 0]-(x[:, 1]+47)))\n",
    "    c=-(x[:, 1]+47)*np.sin(a)-x[:, 0]*np.sin(b)\n",
    "    return c\n",
    "\n",
    "options = {'c1': 0.5, 'c2': 0.3, 'w': 0.9}\n",
    "optimizer = GlobalBestPSO(n_particles=10, dimensions=2, options=options)"
   ]
  },
  {
   "cell_type": "code",
   "execution_count": 5,
   "id": "2aece813-0d34-41ac-a83f-555e7d655236",
   "metadata": {},
   "outputs": [
    {
     "name": "stderr",
     "output_type": "stream",
     "text": [
      "2023-01-16 20:06:54,736 - pyswarms.single.global_best - INFO - Optimize for 1000 iters with {'c1': 0.5, 'c2': 0.3, 'w': 0.9}\n",
      "pyswarms.single.global_best: 100%|████████████████████████████████████████████████|1000/1000, best_cost=-66.8\n",
      "2023-01-16 20:06:56,815 - pyswarms.single.global_best - INFO - Optimization finished | best cost: -66.84371732946403, best pos: [ 8.45693443 15.65091811]\n"
     ]
    },
    {
     "name": "stdout",
     "output_type": "stream",
     "text": [
      "-66.84371732946403 [ 8.45693443 15.65091811]\n"
     ]
    }
   ],
   "source": [
    "cost, pos = optimizer.optimize(eggholder_func, 1000)\n",
    "print(cost, pos)"
   ]
  },
  {
   "cell_type": "markdown",
   "id": "666f7b1a-ad6d-4c1b-bdfa-fceaeb2064e1",
   "metadata": {},
   "source": [
    "# Travelling Salesman Problem (TSP)"
   ]
  },
  {
   "cell_type": "code",
   "execution_count": 6,
   "id": "ed8af254-3846-43e7-b006-55065fb7a11e",
   "metadata": {},
   "outputs": [],
   "source": [
    "# Define the TSP problem\n",
    "city_names = [\"1\", \"2\", \"3\", \"4\", \"5\"]\n",
    "distances = np.array([[0, 4, 2, 9, 12],\n",
    "                      [4, 0, 7, 5, 5],\n",
    "                      [2, 7, 0, 4, 10],\n",
    "                      [9, 5, 4, 0, 3],\n",
    "                      [12, 5, 10, 3, 0]])"
   ]
  },
  {
   "cell_type": "markdown",
   "id": "020d8c26-056b-4ee3-af37-dd04ce34a9b7",
   "metadata": {},
   "source": [
    "## Solving TSP using scikit-opt"
   ]
  },
  {
   "cell_type": "code",
   "execution_count": 7,
   "id": "51e0fda7-ad57-4cac-bc85-f28a9705f5ca",
   "metadata": {},
   "outputs": [
    {
     "name": "stdout",
     "output_type": "stream",
     "text": [
      "best_distance [18.]\n",
      "route [2 0 3 1 4 2]\n"
     ]
    }
   ],
   "source": [
    "import numpy as np\n",
    "from scipy import spatial\n",
    "import matplotlib.pyplot as plt\n",
    "from sko.PSO import PSO_TSP\n",
    "\n",
    "num_points = len(city_names)\n",
    "points_coordinate = city_names\n",
    "distance_matrix = distances\n",
    "\n",
    "# The objective function. input routine, return total distance.\n",
    "def cal_total_distance(routine):\n",
    "    num_points, = routine.shape\n",
    "    return sum([distance_matrix[routine[i % num_points], routine[(i + 1) % num_points]] for i in range(num_points)])\n",
    "\n",
    "# solving the problem using PSO\n",
    "pso_tsp = PSO_TSP(func=cal_total_distance, n_dim=num_points, size_pop=200, max_iter=800, w=0.8, c1=0.1, c2=0.1)\n",
    "best_points, best_distance = pso_tsp.run()\n",
    "best_points_ = np.concatenate([best_points, [best_points[0]]])\n",
    "\n",
    "print('best_distance', best_distance)\n",
    "print('route', best_points_)"
   ]
  },
  {
   "cell_type": "markdown",
   "id": "1cd769c0-b8b8-488c-8999-02f9644e2438",
   "metadata": {},
   "source": [
    "## Solving TSP using deap"
   ]
  },
  {
   "cell_type": "code",
   "execution_count": 8,
   "id": "882ebceb-32e4-4cc5-894a-2e76870cf557",
   "metadata": {},
   "outputs": [],
   "source": [
    "# !pip install deap"
   ]
  },
  {
   "cell_type": "code",
   "execution_count": 9,
   "id": "5c8ff941-a0f8-4110-9a94-579388a4cde1",
   "metadata": {},
   "outputs": [
    {
     "name": "stdout",
     "output_type": "stream",
     "text": [
      "gen\tnevals\tavg  \tmin\tmax\n",
      "0  \t50    \t32.28\t18 \t43 \n",
      "1  \t21    \t27.18\t18 \t35 \n",
      "2  \t21    \t23   \t18 \t35 \n",
      "3  \t36    \t21.04\t18 \t33 \n",
      "4  \t30    \t19.16\t18 \t37 \n",
      "5  \t29    \t19.14\t18 \t32 \n",
      "6  \t33    \t19.5 \t18 \t37 \n",
      "7  \t29    \t19.32\t18 \t37 \n",
      "8  \t28    \t18.66\t18 \t33 \n",
      "9  \t35    \t19.2 \t18 \t32 \n",
      "10 \t37    \t19.62\t18 \t37 \n",
      "11 \t24    \t18.5 \t18 \t33 \n",
      "12 \t31    \t18.82\t18 \t37 \n",
      "13 \t31    \t18.74\t18 \t33 \n",
      "14 \t26    \t18.2 \t18 \t28 \n",
      "15 \t25    \t18.4 \t18 \t32 \n",
      "16 \t29    \t18.16\t18 \t26 \n",
      "17 \t24    \t18.12\t18 \t24 \n",
      "18 \t25    \t19.16\t18 \t37 \n",
      "19 \t31    \t18.24\t18 \t30 \n",
      "20 \t23    \t18.56\t18 \t32 \n",
      "21 \t23    \t18   \t18 \t18 \n",
      "22 \t33    \t19.36\t18 \t32 \n",
      "23 \t34    \t18.4 \t18 \t32 \n",
      "24 \t26    \t18.52\t18 \t28 \n",
      "25 \t17    \t18   \t18 \t18 \n",
      "26 \t40    \t18.24\t18 \t24 \n",
      "27 \t29    \t18.96\t18 \t30 \n",
      "28 \t29    \t18.44\t18 \t30 \n",
      "29 \t32    \t18   \t18 \t18 \n",
      "30 \t27    \t18.88\t18 \t32 \n",
      "31 \t36    \t18.12\t18 \t24 \n",
      "32 \t27    \t18   \t18 \t18 \n",
      "33 \t33    \t19.28\t18 \t32 \n",
      "34 \t30    \t18.68\t18 \t32 \n",
      "35 \t29    \t18.12\t18 \t24 \n",
      "36 \t23    \t18.68\t18 \t32 \n",
      "37 \t39    \t18.4 \t18 \t26 \n",
      "38 \t25    \t18.56\t18 \t32 \n",
      "39 \t29    \t18   \t18 \t18 \n",
      "40 \t32    \t18.78\t18 \t37 \n",
      "41 \t30    \t18   \t18 \t18 \n",
      "42 \t35    \t18.64\t18 \t30 \n",
      "43 \t27    \t18.42\t18 \t29 \n",
      "44 \t36    \t18.2 \t18 \t28 \n",
      "45 \t25    \t18.22\t18 \t29 \n",
      "46 \t24    \t18   \t18 \t18 \n",
      "47 \t37    \t18   \t18 \t18 \n",
      "48 \t37    \t19   \t18 \t32 \n",
      "49 \t31    \t18.4 \t18 \t32 \n",
      "50 \t34    \t18.6 \t18 \t32 \n",
      "Best solution:\n",
      "  - Fitness:  (18,)\n",
      "  - Route:  ['5', '2', '1', '3', '4']\n"
     ]
    }
   ],
   "source": [
    "from deap import base, creator, tools, algorithms\n",
    "import random\n",
    "import numpy as np\n",
    "\n",
    "# Create a fitness function that minimizes the total distance\n",
    "creator.create(\"FitnessMin\", base.Fitness, weights=(-1.0,))\n",
    "creator.create(\"Individual\", list, fitness=creator.FitnessMin)\n",
    "\n",
    "# Create the genetic operator functions\n",
    "toolbox = base.Toolbox()\n",
    "toolbox.register(\"permutation\", random.sample, range(len(city_names)), len(city_names))\n",
    "toolbox.register(\"individual\", tools.initIterate, creator.Individual, toolbox.permutation)\n",
    "toolbox.register(\"population\", tools.initRepeat, list, toolbox.individual)\n",
    "\n",
    "def eval_tsp(individual):\n",
    "    total_distance = 0\n",
    "    for i in range(len(individual)):\n",
    "        city_1 = individual[i]\n",
    "        city_2 = individual[(i + 1) % len(individual)]\n",
    "        total_distance += distances[city_1][city_2]\n",
    "    return total_distance,\n",
    "\n",
    "toolbox.register(\"evaluate\", eval_tsp)\n",
    "toolbox.register(\"mate\", tools.cxOrdered)\n",
    "toolbox.register(\"mutate\", tools.mutShuffleIndexes, indpb=0.05)\n",
    "toolbox.register(\"select\", tools.selTournament, tournsize=3)\n",
    "\n",
    "# Run the genetic algorithm\n",
    "pop = toolbox.population(n=50)\n",
    "hof = tools.HallOfFame(1)\n",
    "stats = tools.Statistics(lambda ind: ind.fitness.values)\n",
    "stats.register(\"avg\", np.mean)\n",
    "stats.register(\"min\", np.min)\n",
    "stats.register(\"max\", np.max)\n",
    "\n",
    "pop, log = algorithms.eaSimple(pop, toolbox, cxpb=0.5, mutpb=0.2, ngen=50, \n",
    "                               stats=stats, halloffame=hof, verbose=True)\n",
    "\n",
    "# Print the final solution\n",
    "best_individual = hof[0]\n",
    "print(\"Best solution:\")\n",
    "print(\"  - Fitness: \", eval_tsp(best_individual))\n",
    "print(\"  - Route: \", [city_names[i] for i in best_individual])"
   ]
  },
  {
   "cell_type": "markdown",
   "id": "49676698-684f-4cf8-9abe-5a04da780f52",
   "metadata": {},
   "source": [
    "## Solving TSP using OR-Tools"
   ]
  },
  {
   "cell_type": "code",
   "execution_count": 10,
   "id": "ec0fa612-0a43-4a8e-a723-1f514e1144df",
   "metadata": {},
   "outputs": [],
   "source": [
    "#!pip install --upgrade --user ortools"
   ]
  },
  {
   "cell_type": "code",
   "execution_count": 11,
   "id": "635db2b9-db44-4e3f-a005-0353d66338c4",
   "metadata": {},
   "outputs": [],
   "source": [
    "import numpy as np\n",
    "import matplotlib.pyplot as plt\n",
    "from ortools.constraint_solver import pywrapcp\n",
    "from ortools.constraint_solver import routing_enums_pb2"
   ]
  },
  {
   "cell_type": "code",
   "execution_count": null,
   "id": "da27bc3f-d5e0-435d-bc60-19ff82de0bcf",
   "metadata": {},
   "outputs": [],
   "source": [
    "# define problem data\n",
    "data = {}\n",
    "data['distance_matrix'] = distances\n",
    "data['num_vehicles'] = 1\n",
    "data['depot'] = 0\n",
    "\n",
    "# define the solver\n",
    "manager = pywrapcp.RoutingIndexManager(len(data['distance_matrix']), data['num_vehicles'], data['depot'])\n",
    "routing = pywrapcp.RoutingModel(manager)\n",
    "\n",
    "def distance_callback(from_index, to_index):\n",
    "    from_node = manager.IndexToNode(from_index)\n",
    "    to_node = manager.IndexToNode(to_index)\n",
    "    return data['distance_matrix'][from_node][to_node]\n",
    "\n",
    "transit_callback_index = routing.RegisterTransitCallback(distance_callback)   \n",
    "\n",
    "routing.SetArcCostEvaluatorOfAllVehicles(transit_callback_index)\n",
    "\n",
    "search_parameters = pywrapcp.DefaultRoutingSearchParameters()\n",
    "search_parameters.local_search_metaheuristic = (\n",
    "    routing_enums_pb2.LocalSearchMetaheuristic.TABU_SEARCH) # GREEDY_DESCENT, SIMULATED_ANNEALING, TABU_SEARCH, GENERIC_TABU_SEARCH\n",
    "search_parameters.time_limit.seconds = 30\n",
    "search_parameters.log_search = True\n",
    "\n",
    "# print the solution\n",
    "def print_solution(manager, routing, solution):\n",
    "    print('Objective: {} meters'.format(solution.ObjectiveValue()))\n",
    "    index = routing.Start(0)\n",
    "    plan_output = 'Route for vehicle 0:\\n'\n",
    "    route_distance = 0\n",
    "    while not routing.IsEnd(index):\n",
    "        plan_output += ' {} ->'.format(manager.IndexToNode(index))\n",
    "        previous_index = index\n",
    "        index = solution.Value(routing.NextVar(index))\n",
    "        route_distance += routing.GetArcCostForVehicle(previous_index, index, 0)\n",
    "    plan_output += ' {}\\n'.format(manager.IndexToNode(index))\n",
    "    print(plan_output)\n",
    "    plan_output += 'Route distance: {}meters\\n'.format(route_distance)\n",
    "\n",
    "solution = routing.SolveWithParameters(search_parameters)\n",
    "if solution:\n",
    "    print_solution(manager, routing, solution)"
   ]
  }
 ],
 "metadata": {
  "kernelspec": {
   "display_name": "Python 3 (ipykernel)",
   "language": "python",
   "name": "python3"
  },
  "language_info": {
   "codemirror_mode": {
    "name": "ipython",
    "version": 3
   },
   "file_extension": ".py",
   "mimetype": "text/x-python",
   "name": "python",
   "nbconvert_exporter": "python",
   "pygments_lexer": "ipython3",
   "version": "3.10.6"
  }
 },
 "nbformat": 4,
 "nbformat_minor": 5
}
