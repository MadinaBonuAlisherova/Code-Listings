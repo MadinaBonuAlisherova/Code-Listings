{
 "cells": [
  {
   "cell_type": "markdown",
   "id": "4481730d-578b-49b6-88b2-e87106241577",
   "metadata": {},
   "source": [
    "# Solving Chess Set Problem using SciPy"
   ]
  },
  {
   "cell_type": "code",
   "execution_count": 1,
   "id": "947d1881-9d80-44de-a9b2-f985b346db5e",
   "metadata": {},
   "outputs": [
    {
     "name": "stdout",
     "output_type": "stream",
     "text": [
      "LP Solution:\n",
      "Profit: = 811.43 $\n",
      "Make 11.0 small sets, and make 63.0 large sets\n"
     ]
    }
   ],
   "source": [
    "#!pip install scipy\n",
    "import numpy as np\n",
    "import scipy\n",
    "from scipy.optimize import linprog\n",
    "\n",
    "# declare coefficients of the objective function. profit maximization is converted into minimization problem as per SciPy requirement\n",
    "c = -np.array([5,12])\n",
    "\n",
    "lhs_constraints=([3,2], # machining time constraint\n",
    "                 [1,3]) # weight constraint\n",
    "\n",
    "rhs_constraints=([160, # machining time constraint\n",
    "                  200]) # weight constraint\n",
    "\n",
    "bounds = [(0, scipy.inf), (0, scipy.inf)]  # Bounds of the decision variables\n",
    "\n",
    "results = linprog(c=c, A_ub=lhs_constraints, b_ub=rhs_constraints, bounds=bounds, method='highs-ds')\n",
    "\n",
    "\n",
    "# print the results\n",
    "print('LP Solution:')\n",
    "print(f'Profit: = {-round(results.fun,2)} $')\n",
    "print(f'Make {round(results.x[0],0)} small sets, and make {round(results.x[1],0)} large sets')"
   ]
  },
  {
   "cell_type": "markdown",
   "id": "ef308675-7ee2-4902-8141-60b9358adae1",
   "metadata": {},
   "source": [
    "# Solving Chess Set Problem using PuLP"
   ]
  },
  {
   "cell_type": "code",
   "execution_count": 2,
   "id": "882c6f47-d2eb-4458-a502-eb2fd4046b00",
   "metadata": {},
   "outputs": [
    {
     "name": "stdout",
     "output_type": "stream",
     "text": [
      "LP Solution:\n",
      "Profit: = 811.0 $\n",
      "Make 11.0 small sets, and make 63.0 large sets\n"
     ]
    }
   ],
   "source": [
    "#!pip install pulp\n",
    "from pulp import LpMaximize, LpProblem, LpVariable, lpSum, LpStatus\n",
    "\n",
    "# Define the model\n",
    "model = LpProblem(name='ChessSet', sense=LpMaximize)\n",
    "\n",
    "# Define the decision variables\n",
    "# x = {i: LpVariable(name=f\"x{i}\", lowBound=0, upBound = None, cat='Integer') for i in range(1, 3)}\n",
    "x1 = LpVariable('SmallSet', lowBound = 0, upBound =  None, cat='Integer')\n",
    "x2 = LpVariable('LargeSet', lowBound = 0, upBound =  None, cat='Integer')\n",
    "\n",
    "# Add constraints\n",
    "model += (3*x1 + 2*x2 <=160, 'Machining time constraint')\n",
    "model += (  x1 + 3*x2 <= 200, 'Weight constraint')\n",
    "\n",
    "# Set the profit as the objective function\n",
    "profit= 5*x1 + 12*x2\n",
    "model.setObjective(profit)\n",
    "\n",
    "# Solve the optimization problem\n",
    "model.solve()\n",
    "\n",
    "# print the results\n",
    "print('LP Solution:')\n",
    "print(f'Profit: = {model.objective.value()} $')    \n",
    "print(f'Make {x1.value()} small sets, and make {x2.value()} large sets')"
   ]
  },
  {
   "cell_type": "markdown",
   "id": "8a2cdeb1-f430-4efc-8693-6a0d268ac184",
   "metadata": {},
   "source": [
    "# Solving Chess Set Problem using OR-Tools"
   ]
  },
  {
   "cell_type": "code",
   "execution_count": 3,
   "id": "bf051f05-3d32-425e-8653-145c67e1b4ae",
   "metadata": {},
   "outputs": [],
   "source": [
    "#python -m pip install --upgrade --user ortools\n"
   ]
  },
  {
   "cell_type": "markdown",
   "id": "e32c5c41-a250-4589-951b-7b92feb32323",
   "metadata": {},
   "source": [
    "# Solving Chess Set Problem using Gurobi"
   ]
  },
  {
   "cell_type": "code",
   "execution_count": 4,
   "id": "f79b0f97-652e-4ed4-a7e9-24d996bdc5bf",
   "metadata": {},
   "outputs": [],
   "source": [
    "#python -m pip install gurobipy"
   ]
  },
  {
   "cell_type": "markdown",
   "id": "b69af1ba-cbcd-451c-b669-ba3e66143295",
   "metadata": {},
   "source": [
    "# Solving Chess Set Problem using PYTHON-MIP"
   ]
  },
  {
   "cell_type": "code",
   "execution_count": 5,
   "id": "7cab7b3f-85b9-44ed-99af-dd97d17fb7b9",
   "metadata": {},
   "outputs": [],
   "source": [
    "#!pip install mip --user"
   ]
  },
  {
   "cell_type": "markdown",
   "id": "1fa5a775-0ad1-4e22-b4bb-12b526d04267",
   "metadata": {},
   "source": [
    "# Solving Chess Set Problem using Pyomo"
   ]
  },
  {
   "cell_type": "code",
   "execution_count": 6,
   "id": "0b52141a-12de-4174-8f03-94262007aabd",
   "metadata": {},
   "outputs": [],
   "source": [
    "#!pip install pyomo"
   ]
  },
  {
   "cell_type": "markdown",
   "id": "43838505-6ff1-4aff-b90c-c7fe41a81f3b",
   "metadata": {},
   "source": [
    "# Solving Chess Set Problem using MEALPY"
   ]
  },
  {
   "cell_type": "code",
   "execution_count": 7,
   "id": "d2e07d58-39b5-4931-85a0-1527a7f1f985",
   "metadata": {},
   "outputs": [],
   "source": [
    "# !pip install mealpy==2.5.1"
   ]
  },
  {
   "cell_type": "markdown",
   "id": "6b8cecab-5c5d-4610-bc33-5fc36f30f709",
   "metadata": {},
   "source": [
    "# Solving Chess Set Problem using GEKKO"
   ]
  },
  {
   "cell_type": "code",
   "execution_count": 8,
   "id": "55d8d2bc-a635-46d8-b6c5-a72348d95e1d",
   "metadata": {},
   "outputs": [],
   "source": [
    "# !pip install gekko"
   ]
  },
  {
   "cell_type": "markdown",
   "id": "c66245ec-0435-4132-9bbb-9abf7b9b5128",
   "metadata": {},
   "source": [
    "# Solving Chess Set Problem using pymoo"
   ]
  },
  {
   "cell_type": "code",
   "execution_count": 9,
   "id": "dc2117fb-8619-49c1-8863-8778a90feab8",
   "metadata": {},
   "outputs": [],
   "source": [
    "#!pip install -U pymoo"
   ]
  },
  {
   "cell_type": "markdown",
   "id": "f4208fd5-f7b7-43d0-a292-aa429cb08ae8",
   "metadata": {},
   "source": [
    "# Solving Chess Set Problem using CVXPY"
   ]
  },
  {
   "cell_type": "code",
   "execution_count": 10,
   "id": "1c2f2980-f3c5-4af7-9550-9a72afb1b83e",
   "metadata": {},
   "outputs": [],
   "source": [
    "# !pip install cvxpy"
   ]
  },
  {
   "cell_type": "code",
   "execution_count": null,
   "id": "710a84c4-0347-41e9-9495-fb0b547d04d1",
   "metadata": {},
   "outputs": [],
   "source": []
  },
  {
   "cell_type": "code",
   "execution_count": null,
   "id": "49a76b11-3b59-45bb-9f7e-257f792d2644",
   "metadata": {},
   "outputs": [],
   "source": []
  },
  {
   "cell_type": "code",
   "execution_count": null,
   "id": "c28531e1-b3cc-45f6-8822-04187deca7df",
   "metadata": {},
   "outputs": [],
   "source": []
  }
 ],
 "metadata": {
  "kernelspec": {
   "display_name": "Python 3 (ipykernel)",
   "language": "python",
   "name": "python3"
  },
  "language_info": {
   "codemirror_mode": {
    "name": "ipython",
    "version": 3
   },
   "file_extension": ".py",
   "mimetype": "text/x-python",
   "name": "python",
   "nbconvert_exporter": "python",
   "pygments_lexer": "ipython3",
   "version": "3.10.6"
  }
 },
 "nbformat": 4,
 "nbformat_minor": 5
}
