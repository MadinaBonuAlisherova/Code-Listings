{
 "cells": [
  {
   "cell_type": "markdown",
   "id": "ce4f3d92-30a6-4a0d-83f8-bb0c107a48ea",
   "metadata": {},
   "source": [
    "# Points of interest"
   ]
  },
  {
   "cell_type": "code",
   "execution_count": 1,
   "id": "136c1aba-8a13-4340-a45e-51936f33b761",
   "metadata": {},
   "outputs": [],
   "source": [
    "# coordinates of two points in (latitude, longitude) format\n",
    "LA = (34.052235, -118.243683) # Los Angeles, USA \n",
    "Madrid = (40.416775, -3.703790) # Madrid, Spain"
   ]
  },
  {
   "cell_type": "markdown",
   "id": "18a86386-e912-4703-849c-8e5c02b6141c",
   "metadata": {},
   "source": [
    "# Calculating haversine distance using math"
   ]
  },
  {
   "cell_type": "code",
   "execution_count": 2,
   "id": "32a9d137-da8a-40bf-9f70-0f0c7307997a",
   "metadata": {},
   "outputs": [
    {
     "name": "stdout",
     "output_type": "stream",
     "text": [
      "9362.645008370095\n"
     ]
    }
   ],
   "source": [
    "from math import radians, sin, cos, sqrt, atan2\n",
    "\n",
    "# convert coordinates to radians\n",
    "lat1, lon1 = radians(LA[0]), radians(LA[1])\n",
    "lat2, lon2 = radians(Madrid[0]), radians(Madrid[1])\n",
    "\n",
    "# calculate haversine distance\n",
    "a = sin((lat2 - lat1) / 2) ** 2 + cos(lat1) * cos(lat2) * sin((lon2 - lon1) / 2) ** 2\n",
    "c = 2 * atan2(sqrt(a), sqrt(1 - a))\n",
    "distance = 6371 * c  # 6371 is the radius of the Earth in kilometers\n",
    "\n",
    "print(distance)"
   ]
  },
  {
   "cell_type": "markdown",
   "id": "d9316e10-7bb8-4b50-badd-5b300bad6566",
   "metadata": {},
   "source": [
    "# Calculating haversine distance using haversine library"
   ]
  },
  {
   "cell_type": "code",
   "execution_count": 3,
   "id": "078d5281-d518-4936-a19e-aab09478597b",
   "metadata": {},
   "outputs": [
    {
     "name": "stdout",
     "output_type": "stream",
     "text": [
      "9362.657940606176\n"
     ]
    }
   ],
   "source": [
    "# !pip install haversine\n",
    "from haversine import haversine\n",
    "\n",
    "# calculate the distance in kilometers\n",
    "distance = haversine(LA, Madrid)\n",
    "print(distance)"
   ]
  },
  {
   "cell_type": "markdown",
   "id": "04baacf8-d85c-4901-9231-41143a94dd3e",
   "metadata": {},
   "source": [
    "# Calculating haversine distance using geopy"
   ]
  },
  {
   "cell_type": "code",
   "execution_count": 4,
   "id": "70b465d6-179a-4698-845b-663000020f64",
   "metadata": {},
   "outputs": [
    {
     "name": "stdout",
     "output_type": "stream",
     "text": [
      "9383.664590383833\n"
     ]
    }
   ],
   "source": [
    "# !pip install geopy\n",
    "from geopy.distance import geodesic\n",
    "\n",
    "print(geodesic(LA,Madrid).km)"
   ]
  },
  {
   "cell_type": "code",
   "execution_count": 5,
   "id": "510c8c67-88e7-43cc-a0a7-23a5b0f032fe",
   "metadata": {},
   "outputs": [
    {
     "name": "stdout",
     "output_type": "stream",
     "text": [
      "9383.508134513651\n"
     ]
    }
   ],
   "source": [
    "from geopy.distance import distance\n",
    "from geopy.geocoders import Nominatim\n",
    "\n",
    "geolocator = Nominatim(user_agent=\"geoapiExercises\")\n",
    "location1 = geolocator.geocode(\"LA\")\n",
    "location2 = geolocator.geocode(\"Madrid\")\n",
    "\n",
    "point1 = (location1.latitude, location1.longitude)\n",
    "point2 = (location2.latitude, location2.longitude)\n",
    "\n",
    "print(distance(point1, point2).km)"
   ]
  },
  {
   "cell_type": "markdown",
   "id": "0cc6df58-2e97-4d77-b596-3df5de8ff60c",
   "metadata": {},
   "source": [
    "# Calculating haversine distance using sklearn"
   ]
  },
  {
   "cell_type": "code",
   "execution_count": 6,
   "id": "0a6272f6-fab3-4490-a3da-8107182cc48c",
   "metadata": {},
   "outputs": [
    {
     "name": "stdout",
     "output_type": "stream",
     "text": [
      "[[   0.         9362.64500837]\n",
      " [9362.64500837    0.        ]]\n"
     ]
    }
   ],
   "source": [
    "# !pip install sklearn\n",
    "from sklearn.metrics.pairwise import haversine_distances\n",
    "from math import radians\n",
    "\n",
    "# convert coordinates to radians\n",
    "LA_in_radians = [radians(_) for _ in LA]\n",
    "Madrid_in_radians = [radians(_) for _ in Madrid]\n",
    "\n",
    "distance = haversine_distances([LA_in_radians, Madrid_in_radians])\n",
    "distance=distance* 6371000/1000  # multiply by Earth radius to get kilometers\n",
    "\n",
    "print(distance)"
   ]
  }
 ],
 "metadata": {
  "kernelspec": {
   "display_name": "Python 3 (ipykernel)",
   "language": "python",
   "name": "python3"
  },
  "language_info": {
   "codemirror_mode": {
    "name": "ipython",
    "version": 3
   },
   "file_extension": ".py",
   "mimetype": "text/x-python",
   "name": "python",
   "nbconvert_exporter": "python",
   "pygments_lexer": "ipython3",
   "version": "3.10.6"
  }
 },
 "nbformat": 4,
 "nbformat_minor": 5
}
