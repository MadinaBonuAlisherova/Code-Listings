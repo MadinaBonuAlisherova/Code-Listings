{
 "cells": [
  {
   "cell_type": "markdown",
   "id": "4481730d-578b-49b6-88b2-e87106241577",
   "metadata": {},
   "source": [
    "# Optimization using SciPy"
   ]
  },
  {
   "cell_type": "code",
   "execution_count": 1,
   "id": "8fed58bf-348b-43b2-8e12-3456ae20df1c",
   "metadata": {},
   "outputs": [
    {
     "name": "stdout",
     "output_type": "stream",
     "text": [
      "Solution:\n",
      "Daily profit: = 3250000.0 $\n",
      "Optimal numbers: # of sedans = 0.0, # of crossovers = 0.0, # of SUVs = 2500.0 and # of trucks = 0.0\n"
     ]
    }
   ],
   "source": [
    "#!pip install scipy\n",
    "import numpy as np\n",
    "import scipy\n",
    "from scipy.optimize import linprog\n",
    "\n",
    "# declare coefficients of the objective function/profit. profit maximization is converted into minimization problem as per SciPy requirement\n",
    "c = -np.array([850,950,1300,1200])\n",
    "\n",
    "lhs_constraints=([1,1,1,1], #manufacturing capacity limit\n",
    "                 [1,1,2,2], # material A constraint\n",
    "                 [1,2,2,1]) # material B constraint\n",
    "\n",
    "rhs_constraints=([2500,\n",
    "                  50000,\n",
    "                  75000])\n",
    "\n",
    "bounds = [(0, scipy.inf),  # Bounds of x1: Sedans\n",
    "          (0, scipy.inf),  # Bounds of x2: Crossovers\n",
    "          (0, scipy.inf),  # Bounds of x3: SUVs\n",
    "          (0, scipy.inf)]  # Bounds of x4: Trucks\n",
    "\n",
    "results = linprog(c=c, A_ub=lhs_constraints, b_ub=rhs_constraints, bounds=bounds, method='highs-ds')\n",
    "\n",
    "\n",
    "# print the results\n",
    "print('Solution:')\n",
    "print(f'Daily profit: = {-results.fun} $')\n",
    "print(f'Optimal numbers: # of sedans = {results.x[0]}, # of crossovers = {results.x[1]}, # of SUVs = {results.x[2]} and # of trucks = {results.x[3]}')"
   ]
  },
  {
   "cell_type": "markdown",
   "id": "ef308675-7ee2-4902-8141-60b9358adae1",
   "metadata": {},
   "source": [
    "# Optimization using PuLP"
   ]
  },
  {
   "cell_type": "code",
   "execution_count": 2,
   "id": "882c6f47-d2eb-4458-a502-eb2fd4046b00",
   "metadata": {},
   "outputs": [
    {
     "name": "stdout",
     "output_type": "stream",
     "text": [
      "Daily profit: = 3250000.0 $\n",
      "Optimal numbers: # of sedans = 0.0, # of crossovers = 0.0, # of SUVs = 2500.0 and # of trucks = 0.0\n"
     ]
    }
   ],
   "source": [
    "#!pip install pulp\n",
    "from pulp import LpMaximize, LpProblem, LpVariable, lpSum, LpStatus\n",
    "\n",
    "# Define the model\n",
    "model = LpProblem(name='Car_Manufacturing', sense=LpMaximize)\n",
    "\n",
    "# Define the decision variables\n",
    "x = {i: LpVariable(name=f\"x{i}\", lowBound=0, upBound = None, cat='Integer') for i in range(1, 5)}\n",
    "\n",
    "# Add constraints\n",
    "model += (lpSum(x.values()) <= 2500, 'capacity')\n",
    "model += (x[1] + x[2] + 2*x[3]+ 2*x[4] <= 50000, 'Material A')\n",
    "model += (x[1] + 2*x[2] + 2*x[3]+ [4] <= 75000, 'Material B')\n",
    "\n",
    "# Set the profit as the objective function\n",
    "profit=850 * x[1] + 950 * x[2] + 1300 * x[3] + 1200 * x[4]\n",
    "model.setObjective(profit)\n",
    "\n",
    "# Solve the optimization problem\n",
    "model.solve()\n",
    "\n",
    "# print the results\n",
    "print(f'Daily profit: = {model.objective.value()} $')\n",
    "print(f'Optimal numbers: # of sedans = {model.variables()[0].value()}, # of crossovers = {model.variables()[1].value()}, # of SUVs = {model.variables()[2].value()} and # of trucks = {model.variables()[3].value()}')\n",
    "\n",
    "# other option to print te results\n",
    "# print(f\"Daily profit: {model.objective.value()} $\")\n",
    "# for var in model.variables():\n",
    "#     print(f\"{var.name}= {var.value()}\")"
   ]
  },
  {
   "cell_type": "markdown",
   "id": "8a2cdeb1-f430-4efc-8693-6a0d268ac184",
   "metadata": {},
   "source": [
    "# Optimization using MIP"
   ]
  },
  {
   "cell_type": "code",
   "execution_count": 3,
   "id": "bf051f05-3d32-425e-8653-145c67e1b4ae",
   "metadata": {},
   "outputs": [],
   "source": [
    "#!pip install mip --user\n",
    "\n"
   ]
  }
 ],
 "metadata": {
  "kernelspec": {
   "display_name": "Python 3 (ipykernel)",
   "language": "python",
   "name": "python3"
  },
  "language_info": {
   "codemirror_mode": {
    "name": "ipython",
    "version": 3
   },
   "file_extension": ".py",
   "mimetype": "text/x-python",
   "name": "python",
   "nbconvert_exporter": "python",
   "pygments_lexer": "ipython3",
   "version": "3.10.6"
  }
 },
 "nbformat": 4,
 "nbformat_minor": 5
}
