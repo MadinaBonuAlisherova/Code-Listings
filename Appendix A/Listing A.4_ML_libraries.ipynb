{
 "cells": [
  {
   "cell_type": "markdown",
   "id": "fb824b15-5819-4bce-b3e6-baf5150d091b",
   "metadata": {},
   "source": [
    "# Machine Learning libraries in Python\n",
    "\n",
    "* [node2vec](https://snap.stanford.edu/node2vec/)\n",
    "* [DeepWalk](https://github.com/phanein/deepwalk)\n",
    "* [PyG](https://www.pyg.org/)\n",
    "* [Deep Graph Library (DGL)](https://www.dgl.ai/)\n",
    "* [Stanford Network Analysis Platform (SNAP)](https://github.com/snap-stanford/snap)\n",
    "* [Graph Nets](https://github.com/deepmind/graph_nets)\n",
    "* [Spektral](https://graphneural.network/)\n",
    "* [Jraph](https://github.com/deepmind/jraph)\n",
    "* [Pointer Networks PyTorch](https://github.com/jojonki/Pointer-Networks)\n",
    "* [TensorFlow-Pointer-Networks](https://github.com/ikostrikov/TensorFlow-Pointer-Networks)\n",
    "* [OpenAI Gym](https://github.com/openai/gym)\n",
    "* [TF-Agents](https://www.tensorflow.org/agents)\n",
    "* [Keras-RL](https://github.com/keras-rl/keras-rl)\n",
    "* [pyqlearning](https://github.com/accel-brain/accel-brain-code/tree/master/Reinforcement-Learning)\n",
    "* [Flow](https://flow-project.github.io/)"
   ]
  },
  {
   "cell_type": "markdown",
   "id": "9206d0fd-1a4c-415c-a17a-3d0cc63fa62d",
   "metadata": {},
   "source": [
    "# node2vec Example"
   ]
  },
  {
   "cell_type": "code",
   "execution_count": 1,
   "id": "fa4f295f-8800-4832-8c2b-523848ee6fd7",
   "metadata": {},
   "outputs": [
    {
     "data": {
      "application/vnd.jupyter.widget-view+json": {
       "model_id": "3e12ca2407af428c8f57c3a3d066c3a2",
       "version_major": 2,
       "version_minor": 0
      },
      "text/plain": [
       "Computing transition probabilities:   0%|          | 0/34 [00:00<?, ?it/s]"
      ]
     },
     "metadata": {},
     "output_type": "display_data"
    },
    {
     "name": "stdout",
     "output_type": "stream",
     "text": [
      "[ 0.08885663 -0.21082477  0.01819443  0.09254579  0.11517885 -0.18806344\n",
      "  0.06388357  0.06189846 -0.18768135 -0.02203072  0.19603784 -0.12021326\n",
      "  0.00782807  0.06783209  0.02898631  0.11732002 -0.06155453 -0.01324869\n",
      " -0.04917286  0.20244057  0.25798014  0.15991805  0.21421388  0.07936466\n",
      "  0.02326949  0.13090786 -0.15894614 -0.03434312 -0.11843297 -0.16002446\n",
      " -0.03625624 -0.20358936 -0.14018887 -0.19796848 -0.05554564  0.22307515\n",
      "  0.07106011 -0.02274154  0.37675682  0.13636242  0.03537556  0.01672462\n",
      " -0.00915413 -0.3307639  -0.14686486 -0.0270109   0.04422653 -0.11625679\n",
      "  0.06274677  0.0146249   0.10066172  0.16411728  0.10726802  0.14740069\n",
      "  0.23622368  0.15628983  0.15556154 -0.2802578   0.04081085  0.04715907\n",
      "  0.18526538 -0.13514136 -0.15933733  0.20064218]\n"
     ]
    }
   ],
   "source": [
    "# import the required libraries \n",
    "import networkx as nx\n",
    "from node2vec import Node2Vec\n",
    "\n",
    "# Create a sample graph\n",
    "G = nx.karate_club_graph()\n",
    "\n",
    "# Create an instance of the Node2Vec class\n",
    "node2vec = Node2Vec(G, dimensions=64, walk_length=30, num_walks=200, workers=4)\n",
    "\n",
    "# Learn the representations\n",
    "model = node2vec.fit(window=10, min_count=1, batch_words=4)\n",
    "\n",
    "# Get the representations of all nodes\n",
    "representations_all = model.wv.vectors\n",
    "\n",
    "# Get the representations of a specific node\n",
    "representations_specific = model.wv['1']\n",
    "\n",
    "# Print the representations of a specific node\n",
    "print(representations_specific)"
   ]
  },
  {
   "cell_type": "code",
   "execution_count": 2,
   "id": "eed1cc8b-edd2-4993-8258-fba09a090876",
   "metadata": {},
   "outputs": [
    {
     "data": {
      "image/png": "[encoded data removed]",
      "text/plain": [
       "<Figure size 640x480 with 1 Axes>"
      ]
     },
     "metadata": {},
     "output_type": "display_data"
    }
   ],
   "source": [
    "from sklearn.manifold import TSNE\n",
    "import matplotlib.pyplot as plt\n",
    "\n",
    "# Perform t-SNE dimensionality reduction\n",
    "tsne = TSNE(n_components=2, learning_rate='auto', init='random', perplexity=3)\n",
    "reduced_representations = tsne.fit_transform(representations_all)\n",
    "\n",
    "# Plot the nodes\n",
    "plt.scatter(reduced_representations[:, 0], reduced_representations[:, 1])\n",
    "plt.show()\n",
    "# plt.savefig('node2vec.png', format='png', dpi=300)"
   ]
  },
  {
   "cell_type": "code",
   "execution_count": 3,
   "id": "5ff326df-d6be-4b7d-91db-bf1db43508e1",
   "metadata": {},
   "outputs": [],
   "source": [
    "# save represenattion as csv file\n",
    "import csv\n",
    "\n",
    "# Write the representations to a CSV file\n",
    "with open('representations.csv', 'w', newline='') as csvfile:\n",
    "    writer = csv.writer(csvfile)\n",
    "    writer.writerow([\"node\", \"x\", \"y\"])\n",
    "    for i, vec in enumerate(representations_all):\n",
    "        writer.writerow([i] + vec.tolist())       "
   ]
  },
  {
   "cell_type": "code",
   "execution_count": 4,
   "id": "00c222b6-3157-4237-a7db-0cb11895c9c6",
   "metadata": {},
   "outputs": [
    {
     "name": "stderr",
     "output_type": "stream",
     "text": [
      "C:\\Users\\Alaa\\.conda\\envs\\ox\\lib\\site-packages\\sklearn\\cluster\\_kmeans.py:1334: UserWarning: KMeans is known to have a memory leak on Windows with MKL, when there are less chunks than available threads. You can avoid it by setting the environment variable OMP_NUM_THREADS=1.\n",
      "  warnings.warn(\n"
     ]
    },
    {
     "data": {
      "image/png": "[encoded data removed]",
      "text/plain": [
       "<Figure size 640x480 with 1 Axes>"
      ]
     },
     "metadata": {},
     "output_type": "display_data"
    }
   ],
   "source": [
    "# cluster the generated representation\n",
    "from sklearn.cluster import KMeans\n",
    "\n",
    "# Perform K-Means clustering\n",
    "kmeans = KMeans(n_clusters=5)\n",
    "clusters = kmeans.fit_predict(representations_all)\n",
    "\n",
    "# Plot the nodes\n",
    "colors = ['r', 'g', 'b', 'c', 'm']\n",
    "for i in range(5):\n",
    "    plt.scatter(reduced_representations[clusters == i, 0], reduced_representations[clusters == i, 1], c=colors[i])\n",
    "plt.show()"
   ]
  },
  {
   "cell_type": "markdown",
   "id": "0ef77586-3c79-4ec9-8e7f-1cd02990f096",
   "metadata": {},
   "source": [
    "# DeepWalk Example"
   ]
  },
  {
   "cell_type": "code",
   "execution_count": null,
   "id": "f0a724e2-4069-438c-b842-bd21a77e6c29",
   "metadata": {},
   "outputs": [],
   "source": []
  },
  {
   "cell_type": "markdown",
   "id": "a6dae732-6103-4d60-a79a-e97b78c7a45e",
   "metadata": {},
   "source": [
    "# PyG Example"
   ]
  },
  {
   "cell_type": "code",
   "execution_count": null,
   "id": "4c434795-e249-40c4-8420-7e4e43e663b5",
   "metadata": {},
   "outputs": [],
   "source": []
  },
  {
   "cell_type": "markdown",
   "id": "a580246b-e364-4c8c-aee4-5c59dc9d18bb",
   "metadata": {},
   "source": [
    "# Deep Graph Library (DGL) Example"
   ]
  },
  {
   "cell_type": "code",
   "execution_count": null,
   "id": "edf808a2-3b03-4f81-8fb2-da9cdf905933",
   "metadata": {},
   "outputs": [],
   "source": []
  },
  {
   "cell_type": "markdown",
   "id": "f3a39c86-f20b-4bef-b3d1-2ae9925ecc59",
   "metadata": {},
   "source": [
    "# Stanford Network Analysis Platform (SNAP)"
   ]
  },
  {
   "cell_type": "code",
   "execution_count": null,
   "id": "9b85b506-d56e-4ec1-8bb8-349878a05be3",
   "metadata": {},
   "outputs": [],
   "source": []
  },
  {
   "cell_type": "markdown",
   "id": "a7e5a951-f356-4b90-b93c-7788148b0f8c",
   "metadata": {},
   "source": [
    "# Graph Nets Example"
   ]
  },
  {
   "cell_type": "code",
   "execution_count": null,
   "id": "3fe1b366-f6b7-4710-bbaa-b563453a7827",
   "metadata": {},
   "outputs": [],
   "source": []
  },
  {
   "cell_type": "markdown",
   "id": "4c033ff4-59ff-4183-8362-005275fba47f",
   "metadata": {},
   "source": [
    "# Spektral Example"
   ]
  },
  {
   "cell_type": "code",
   "execution_count": null,
   "id": "ba30939c-e6dd-4141-b08f-078509f5b895",
   "metadata": {},
   "outputs": [],
   "source": []
  },
  {
   "cell_type": "markdown",
   "id": "3d947697-31ed-4773-94bc-11ff49a7b2c7",
   "metadata": {},
   "source": [
    "# Jraph Example"
   ]
  },
  {
   "cell_type": "code",
   "execution_count": null,
   "id": "3c66fe2c-c08e-4f1a-9301-098c17b96d14",
   "metadata": {},
   "outputs": [],
   "source": []
  },
  {
   "cell_type": "markdown",
   "id": "e1ca51e4-6c39-4d03-a056-64ac52e562eb",
   "metadata": {},
   "source": [
    "# Pointer networks using PyTorch"
   ]
  },
  {
   "cell_type": "code",
   "execution_count": null,
   "id": "abd53479-78d6-4bd2-83de-3ea62d45410d",
   "metadata": {},
   "outputs": [],
   "source": []
  },
  {
   "cell_type": "markdown",
   "id": "2026eddf-e83f-4ce9-aba1-285dfd4c4c13",
   "metadata": {},
   "source": [
    "# Pointer networks using TensorFlow"
   ]
  },
  {
   "cell_type": "code",
   "execution_count": null,
   "id": "4570e216-e2cc-4ff5-a974-1f9c59251f94",
   "metadata": {},
   "outputs": [],
   "source": []
  },
  {
   "cell_type": "markdown",
   "id": "6c48bded-1eb7-4739-8b1a-2193da6c3e75",
   "metadata": {},
   "source": [
    "# OpenAI Gym Example"
   ]
  },
  {
   "cell_type": "code",
   "execution_count": null,
   "id": "a63b1352-c719-45a5-b0b4-2be746ca2ad0",
   "metadata": {},
   "outputs": [],
   "source": []
  },
  {
   "cell_type": "markdown",
   "id": "503397f5-adde-4bb9-909d-3492ef162196",
   "metadata": {},
   "source": [
    "# TF-Agents Example"
   ]
  },
  {
   "cell_type": "code",
   "execution_count": null,
   "id": "1a55bf18-b0ba-4b8c-af88-5b0be5917270",
   "metadata": {},
   "outputs": [],
   "source": []
  },
  {
   "cell_type": "markdown",
   "id": "90d0a815-e991-427d-856e-3af7b74c68b0",
   "metadata": {},
   "source": [
    "# Keras-RL Example"
   ]
  },
  {
   "cell_type": "code",
   "execution_count": null,
   "id": "aae71787-6530-4a82-90f2-cfbd3278b077",
   "metadata": {},
   "outputs": [],
   "source": []
  },
  {
   "cell_type": "markdown",
   "id": "d1d9abd1-4b9a-47e1-8a9a-b448afc995fa",
   "metadata": {},
   "source": [
    "# pyqlearning Example"
   ]
  },
  {
   "cell_type": "code",
   "execution_count": null,
   "id": "8f84cbec-0013-4e6b-8745-d6bb6b86aae0",
   "metadata": {},
   "outputs": [],
   "source": []
  },
  {
   "cell_type": "markdown",
   "id": "e53fe85d-0bfa-4278-88b6-d57022c08a14",
   "metadata": {},
   "source": [
    "# Flow Example"
   ]
  },
  {
   "cell_type": "code",
   "execution_count": null,
   "id": "bf72ca42-46dc-4c45-a3e7-1268e60c9413",
   "metadata": {},
   "outputs": [],
   "source": []
  }
 ],
 "metadata": {
  "kernelspec": {
   "display_name": "Python 3 (ipykernel)",
   "language": "python",
   "name": "python3"
  },
  "language_info": {
   "codemirror_mode": {
    "name": "ipython",
    "version": 3
   },
   "file_extension": ".py",
   "mimetype": "text/x-python",
   "name": "python",
   "nbconvert_exporter": "python",
   "pygments_lexer": "ipython3",
   "version": "3.10.6"
  }
 },
 "nbformat": 4,
 "nbformat_minor": 5
}
