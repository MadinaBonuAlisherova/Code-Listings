{
 "cells": [
  {
   "cell_type": "markdown",
   "id": "4481730d-578b-49b6-88b2-e87106241577",
   "metadata": {
    "id": "4481730d-578b-49b6-88b2-e87106241577"
   },
   "source": [
    "# Examples of Mathematical Programming Solvers in Python\n",
    "\n",
    "* [SciPy](https://docs.scipy.org/doc/scipy/tutorial/optimize.html)\n",
    "* [PuLP](https://coin-or.github.io/pulp/)\n",
    "* [OR-Tools](https://developers.google.com/optimization)\n",
    "* [Gurobi](https://www.gurobi.com/documentation/9.5/examples/python_examples.html)\n",
    "* [PYTHON-MIP](https://www.python-mip.com/)\n",
    "* [Pyomo](http://www.pyomo.org/)\n",
    "* [GEKKO](https://gekko.readthedocs.io/en/latest/)\n",
    "* [CVXPY](https://www.cvxpy.org/)\n",
    "* [PyMathProg](https://pymprog.sourceforge.net/)\n",
    "* [cvxopt](https://cvxopt.org/)\n",
    "* [OptLang](https://optlang.readthedocs.io/en/latest/)\n",
    "* [PICOS](https://picos-api.gitlab.io/picos/)\n",
    "* [cylp](https://github.com/coin-or/cylp)"
   ]
  },
  {
   "cell_type": "markdown",
   "id": "1b0557cc-a5f5-4f18-86ad-cd20816ffaca",
   "metadata": {},
   "source": [
    "## Chess Set Problem"
   ]
  },
  {
   "cell_type": "markdown",
   "id": "2e785ccb-8406-48ef-af7d-26c50ed49591",
   "metadata": {},
   "source": [
    "find $x_1$ and $x_2$ that maximize $5\\times x_1 + 12\\times *x2$\n",
    "\n",
    "subject to\n",
    "\n",
    "Machining time constraint: $x_1 + 2\\times x_2 <= 160 $\n",
    "\n",
    "Weight constraint: $x_1 + 3\\times x_2 <= 200$\n",
    "\n",
    "Non-negativity constraints: $x_1>0$ and $x_2>=0$"
   ]
  },
  {
   "cell_type": "markdown",
   "id": "4434f58a-21e2-4ef3-a5cd-61958fde33ae",
   "metadata": {
    "tags": []
   },
   "source": [
    "## Solving Chess Set Problem using SciPy"
   ]
  },
  {
   "cell_type": "code",
   "execution_count": 1,
   "id": "947d1881-9d80-44de-a9b2-f985b346db5e",
   "metadata": {
    "colab": {
     "base_uri": "https://localhost:8080/"
    },
    "executionInfo": {
     "elapsed": 646,
     "status": "ok",
     "timestamp": 1673148300230,
     "user": {
      "displayName": "Schlutz King",
      "userId": "05536462657561386144"
     },
     "user_tz": 300
    },
    "id": "947d1881-9d80-44de-a9b2-f985b346db5e",
    "outputId": "d8cf808e-5e8d-4e2b-e571-a3e9adc00923"
   },
   "outputs": [
    {
     "name": "stdout",
     "output_type": "stream",
     "text": [
      "LP Solution:\n",
      "Profit: = 811.43 $\n",
      "Make 11.0 small sets, and make 63.0 large sets\n"
     ]
    }
   ],
   "source": [
    "#!pip install scipy\n",
    "import numpy as np\n",
    "import scipy\n",
    "from scipy.optimize import linprog\n",
    "\n",
    "# declare coefficients of the objective function. profit maximization is converted into minimization problem as per SciPy requirement\n",
    "c = -np.array([5,12])\n",
    "\n",
    "lhs_constraints=([3,2], # machining time constraint\n",
    "                 [1,3]) # weight constraint\n",
    "\n",
    "rhs_constraints=([160, # machining time constraint\n",
    "                  200]) # weight constraint\n",
    "\n",
    "bounds = [(0, scipy.inf), (0, scipy.inf)]  # Bounds of the decision variables\n",
    "\n",
    "results = linprog(c=c, A_ub=lhs_constraints, b_ub=rhs_constraints, bounds=bounds, method='highs-ds')\n",
    "\n",
    "\n",
    "# print the results\n",
    "print('LP Solution:')\n",
    "print(f'Profit: = {-round(results.fun,2)} $')\n",
    "print(f'Make {round(results.x[0],0)} small sets, and make {round(results.x[1],0)} large sets')"
   ]
  },
  {
   "cell_type": "markdown",
   "id": "ef308675-7ee2-4902-8141-60b9358adae1",
   "metadata": {
    "id": "ef308675-7ee2-4902-8141-60b9358adae1"
   },
   "source": [
    "## Solving Chess Set Problem using PuLP"
   ]
  },
  {
   "cell_type": "code",
   "execution_count": 2,
   "id": "882c6f47-d2eb-4458-a502-eb2fd4046b00",
   "metadata": {
    "colab": {
     "base_uri": "https://localhost:8080/"
    },
    "executionInfo": {
     "elapsed": 5749,
     "status": "ok",
     "timestamp": 1673148315034,
     "user": {
      "displayName": "Schlutz King",
      "userId": "05536462657561386144"
     },
     "user_tz": 300
    },
    "id": "882c6f47-d2eb-4458-a502-eb2fd4046b00",
    "outputId": "104e3a74-b1e3-4a34-857f-993431326419"
   },
   "outputs": [
    {
     "name": "stdout",
     "output_type": "stream",
     "text": [
      "LP Solution:\n",
      "Profit: = 811.0 $\n",
      "Make 11.0 small sets, and make 63.0 large sets\n"
     ]
    }
   ],
   "source": [
    "#!pip install pulp\n",
    "from pulp import LpMaximize, LpProblem, LpVariable, lpSum, LpStatus\n",
    "\n",
    "# Define the model\n",
    "model = LpProblem(name='ChessSet', sense=LpMaximize)\n",
    "\n",
    "# Define the decision variables\n",
    "# x = {i: LpVariable(name=f\"x{i}\", lowBound=0, upBound = None, cat='Integer') for i in range(1, 3)}\n",
    "x1 = LpVariable('SmallSet', lowBound = 0, upBound =  None, cat='Integer')\n",
    "x2 = LpVariable('LargeSet', lowBound = 0, upBound =  None, cat='Integer')\n",
    "\n",
    "# Add constraints\n",
    "model += (3*x1 + 2*x2 <=160, 'Machining time constraint')\n",
    "model += (  x1 + 3*x2 <= 200, 'Weight constraint')\n",
    "\n",
    "# Set the profit as the objective function\n",
    "profit= 5*x1 + 12*x2\n",
    "model.setObjective(profit)\n",
    "\n",
    "# Solve the optimization problem\n",
    "model.solve()\n",
    "\n",
    "# print the results\n",
    "print('LP Solution:')\n",
    "print(f'Profit: = {model.objective.value()} $')    \n",
    "print(f'Make {x1.value()} small sets, and make {x2.value()} large sets')"
   ]
  },
  {
   "cell_type": "markdown",
   "id": "8a2cdeb1-f430-4efc-8693-6a0d268ac184",
   "metadata": {
    "id": "8a2cdeb1-f430-4efc-8693-6a0d268ac184"
   },
   "source": [
    "## Solving Chess Set Problem using OR-Tools"
   ]
  },
  {
   "cell_type": "code",
   "execution_count": 3,
   "id": "bf051f05-3d32-425e-8653-145c67e1b4ae",
   "metadata": {
    "colab": {
     "base_uri": "https://localhost:8080/"
    },
    "executionInfo": {
     "elapsed": 121,
     "status": "ok",
     "timestamp": 1673148319349,
     "user": {
      "displayName": "Schlutz King",
      "userId": "05536462657561386144"
     },
     "user_tz": 300
    },
    "id": "bf051f05-3d32-425e-8653-145c67e1b4ae",
    "outputId": "484b084d-f26a-4019-bea6-1b9925c0708b"
   },
   "outputs": [
    {
     "name": "stdout",
     "output_type": "stream",
     "text": [
      "LP Solution:\n",
      "Profit = 811.43 $\n",
      "Make 11.0 small sets, and 63.0 large sets\n"
     ]
    }
   ],
   "source": [
    "#!pip install ortools\n",
    "from ortools.linear_solver import pywraplp\n",
    "\n",
    "solver = pywraplp.Solver.CreateSolver('GLOP')\n",
    "\n",
    "# Define the decision variables\n",
    "x1 = solver.NumVar(0, solver.infinity(), 'x1')\n",
    "x2 = solver.NumVar(0, solver.infinity(), 'x2')\n",
    "\n",
    "# Add constraints\n",
    "ct = solver.Constraint(0, 160, 'ct')\n",
    "ct.SetCoefficient(x1, 3)\n",
    "ct.SetCoefficient(x2, 2)\n",
    "ct = solver.Constraint(0, 200, 'ct')\n",
    "ct.SetCoefficient(x1, 1)\n",
    "ct.SetCoefficient(x2, 3)\n",
    "\n",
    "# Set the profit as the objective function\n",
    "objective = solver.Objective()\n",
    "objective.SetCoefficient(x1, 5)\n",
    "objective.SetCoefficient(x2, 12)\n",
    "objective.SetMaximization()\n",
    "\n",
    "# Solve the optimization problem\n",
    "solver.Solve()\n",
    "\n",
    "# print the results\n",
    "print('LP Solution:')\n",
    "print('Profit =', round(objective.Value(),2),'$')\n",
    "print('Make', '%.1f'%round(x1.solution_value()),'small sets, and', '%.1f'%round(x2.solution_value()), 'large sets')\n"
   ]
  },
  {
   "cell_type": "markdown",
   "id": "e32c5c41-a250-4589-951b-7b92feb32323",
   "metadata": {
    "id": "e32c5c41-a250-4589-951b-7b92feb32323"
   },
   "source": [
    "## Solving Chess Set Problem using Gurobi"
   ]
  },
  {
   "cell_type": "code",
   "execution_count": 4,
   "id": "f79b0f97-652e-4ed4-a7e9-24d996bdc5bf",
   "metadata": {
    "colab": {
     "base_uri": "https://localhost:8080/"
    },
    "executionInfo": {
     "elapsed": 557,
     "status": "ok",
     "timestamp": 1673148324128,
     "user": {
      "displayName": "Schlutz King",
      "userId": "05536462657561386144"
     },
     "user_tz": 300
    },
    "id": "f79b0f97-652e-4ed4-a7e9-24d996bdc5bf",
    "outputId": "f71ea300-eecc-4fb2-9f38-168bb307ad10"
   },
   "outputs": [
    {
     "name": "stdout",
     "output_type": "stream",
     "text": [
      "Restricted license - for non-production use only - expires 2024-10-28\n",
      "Gurobi Optimizer version 10.0.0 build v10.0.0rc2 (win64)\n",
      "\n",
      "CPU model: AMD FX(tm)-8120 Eight-Core Processor, instruction set [SSE2|AVX]\n",
      "Thread count: 4 physical cores, 8 logical processors, using up to 8 threads\n",
      "\n",
      "Optimize a model with 4 rows, 2 columns and 6 nonzeros\n",
      "Model fingerprint: 0x92feeb9d\n",
      "Coefficient statistics:\n",
      "  Matrix range     [1e+00, 3e+00]\n",
      "  Objective range  [5e+00, 1e+01]\n",
      "  Bounds range     [0e+00, 0e+00]\n",
      "  RHS range        [2e+02, 2e+02]\n",
      "Presolve removed 2 rows and 0 columns\n",
      "Presolve time: 0.02s\n",
      "Presolved: 2 rows, 2 columns, 4 nonzeros\n",
      "\n",
      "Iteration    Objective       Primal Inf.    Dual Inf.      Time\n",
      "       0    9.6000000e+02   5.816417e+00   0.000000e+00      0s\n",
      "       2    8.1142857e+02   0.000000e+00   0.000000e+00      0s\n",
      "\n",
      "Solved in 2 iterations and 0.04 seconds (0.00 work units)\n",
      "Optimal objective  8.114285714e+02\n",
      "LP Solution: 811.43\n",
      "Make 11.0 small sets, and 63.0 large sets\n"
     ]
    }
   ],
   "source": [
    "# !pip install gurobipy\n",
    "from gurobipy import *\n",
    "\n",
    "# Define the model\n",
    "m = Model()\n",
    "\n",
    "# Define the decision variables\n",
    "x1 = m.addVar(name='x1')\n",
    "x2 = m.addVar(name='x2')\n",
    "\n",
    "# Set the profit as the objective function\n",
    "m.setObjective(5*x1+12*x2, GRB.MAXIMIZE)\n",
    "\n",
    "# Add constraints\n",
    "m.addConstr(x1 >= 0)\n",
    "m.addConstr(x2 >= 0)\n",
    "m.addConstr(3*x1 + 2*x2 <= 160)\n",
    "m.addConstr(x1 + 3*x2 <= 200)\n",
    "\n",
    "# Solve the optimization problem\n",
    "m.optimize()\n",
    "\n",
    "# print the results\n",
    "print('LP Solution:', round(m.objVal, 2))\n",
    "result = []\n",
    "for v in m.getVars():\n",
    "    result.append('%.1f'%round(v.x))\n",
    "print('Make', result[0],'small sets, and', result[1], 'large sets')"
   ]
  },
  {
   "cell_type": "markdown",
   "id": "b69af1ba-cbcd-451c-b669-ba3e66143295",
   "metadata": {
    "id": "b69af1ba-cbcd-451c-b669-ba3e66143295"
   },
   "source": [
    "## Solving Chess Set Problem using PYTHON-MIP"
   ]
  },
  {
   "cell_type": "code",
   "execution_count": 5,
   "id": "7cab7b3f-85b9-44ed-99af-dd97d17fb7b9",
   "metadata": {
    "colab": {
     "base_uri": "https://localhost:8080/",
     "height": 444
    },
    "executionInfo": {
     "elapsed": 1427,
     "status": "error",
     "timestamp": 1673147793033,
     "user": {
      "displayName": "Schlutz King",
      "userId": "05536462657561386144"
     },
     "user_tz": 300
    },
    "id": "7cab7b3f-85b9-44ed-99af-dd97d17fb7b9",
    "outputId": "e046cbdb-4155-4f98-a228-07c862bd345c"
   },
   "outputs": [
    {
     "name": "stdout",
     "output_type": "stream",
     "text": [
      "LP Solution: 811.4285714285713 $\n",
      "Make 11.0 small sets, and 63.0 large sets\n"
     ]
    }
   ],
   "source": [
    "#!pip install mip\n",
    "\n",
    "from mip import *\n",
    "\n",
    "\n",
    "m = Model(sense=MAXIMIZE, solver_name=CBC)\n",
    "\n",
    "x1 = m.add_var(name='x1')\n",
    "x2 = m.add_var(name='x2')\n",
    "\n",
    "m += 3*x1 + 2*x2 <= 160\n",
    "m += x1 + 3*x2 <= 200\n",
    "m += x1 >= 0\n",
    "m += x2 >= 0\n",
    "\n",
    "m.objective = 5*x1+12*x2\n",
    "\n",
    "status = m.optimize()\n",
    "print('LP Solution:',m.objective_value,'$')\n",
    "result = []\n",
    "for v in m.vars:\n",
    "       result.append('%.1f'%round(v.x))\n",
    "print('Make', result[0],'small sets, and', result[1], 'large sets')\n"
   ]
  },
  {
   "cell_type": "markdown",
   "id": "1fa5a775-0ad1-4e22-b4bb-12b526d04267",
   "metadata": {
    "id": "1fa5a775-0ad1-4e22-b4bb-12b526d04267"
   },
   "source": [
    "## Solving Chess Set Problem using Pyomo"
   ]
  },
  {
   "cell_type": "code",
   "execution_count": 6,
   "id": "0b52141a-12de-4174-8f03-94262007aabd",
   "metadata": {
    "colab": {
     "base_uri": "https://localhost:8080/",
     "height": 469
    },
    "executionInfo": {
     "elapsed": 3570,
     "status": "error",
     "timestamp": 1673798666059,
     "user": {
      "displayName": "Schlutz King",
      "userId": "05536462657561386144"
     },
     "user_tz": 300
    },
    "id": "0b52141a-12de-4174-8f03-94262007aabd",
    "outputId": "7faaa4a2-3dbc-464c-8aec-f720a1304ab5"
   },
   "outputs": [
    {
     "name": "stdout",
     "output_type": "stream",
     "text": [
      "# ==========================================================\n",
      "# = Solver Results                                         =\n",
      "# ==========================================================\n",
      "# ----------------------------------------------------------\n",
      "#   Problem Information\n",
      "# ----------------------------------------------------------\n",
      "Problem: \n",
      "- Name: x3\n",
      "  Lower bound: 811.4285714285714\n",
      "  Upper bound: 811.4285714285714\n",
      "  Number of objectives: 1\n",
      "  Number of constraints: 5\n",
      "  Number of variables: 3\n",
      "  Number of binary variables: 0\n",
      "  Number of integer variables: 0\n",
      "  Number of continuous variables: 3\n",
      "  Number of nonzeros: 7\n",
      "  Sense: maximize\n",
      "# ----------------------------------------------------------\n",
      "#   Solver Information\n",
      "# ----------------------------------------------------------\n",
      "Solver: \n",
      "- Status: ok\n",
      "  Return code: 0\n",
      "  Message: Model was solved to optimality (subject to tolerances), and an optimal solution is available.\n",
      "  Termination condition: optimal\n",
      "  Termination message: Model was solved to optimality (subject to tolerances), and an optimal solution is available.\n",
      "  Wall time: 0.003000020980834961\n",
      "  Error rc: 0\n",
      "  Time: 0.235184907913208\n",
      "# ----------------------------------------------------------\n",
      "#   Solution Information\n",
      "# ----------------------------------------------------------\n",
      "Solution: \n",
      "- number of solutions: 0\n",
      "  number of solutions displayed: 0\n",
      "2 Var Declarations\n",
      "    x1 : Size=1, Index=None\n",
      "        Key  : Lower : Value              : Upper : Fixed : Stale : Domain\n",
      "        None :     0 : 11.428571428571436 :  None : False : False : NonNegativeReals\n",
      "    x2 : Size=1, Index=None\n",
      "        Key  : Lower : Value              : Upper : Fixed : Stale : Domain\n",
      "        None :     0 : 62.857142857142854 :  None : False : False : NonNegativeReals\n",
      "\n",
      "1 Objective Declarations\n",
      "    profit : Size=1, Index=None, Active=True\n",
      "        Key  : Active : Sense    : Expression\n",
      "        None :   True : maximize : 5*x1 + 12*x2\n",
      "\n",
      "4 Constraint Declarations\n",
      "    machiningTime : Size=1, Index=None, Active=True\n",
      "        Key  : Lower : Body        : Upper : Active\n",
      "        None :  -Inf : 3*x1 + 2*x2 : 160.0 :   True\n",
      "    noNeg1 : Size=1, Index=None, Active=True\n",
      "        Key  : Lower : Body : Upper : Active\n",
      "        None :   0.0 :   x1 :  +Inf :   True\n",
      "    noNeg2 : Size=1, Index=None, Active=True\n",
      "        Key  : Lower : Body : Upper : Active\n",
      "        None :   0.0 :   x2 :  +Inf :   True\n",
      "    weight : Size=1, Index=None, Active=True\n",
      "        Key  : Lower : Body      : Upper : Active\n",
      "        None :  -Inf : x1 + 3*x2 : 200.0 :   True\n",
      "\n",
      "7 Declarations: x1 x2 profit noNeg1 noNeg2 machiningTime weight\n",
      "\n",
      "Profit =  811.4285714285714\n",
      "\n",
      "Decision Variables\n",
      "x1 =  11.428571428571436\n",
      "x2 =  62.857142857142854\n"
     ]
    }
   ],
   "source": [
    "# !pip install pyomo\n",
    "from pyomo.environ import * \n",
    "\n",
    "model = ConcreteModel()\n",
    "\n",
    "model.x1 = Var(domain=NonNegativeReals, name = 'x1')\n",
    "model.x2 = Var(domain=NonNegativeReals, name = 'x2')\n",
    "\n",
    "model.profit = Objective(expr = 5*model.x1 + 12*model.x2, sense=maximize)\n",
    "\n",
    "model.noNeg1 = Constraint(expr = model.x1 >= 0)\n",
    "model.noNeg2 = Constraint(expr = model.x2 >= 0)\n",
    "model.machiningTime  = Constraint(expr = 3*model.x1 + 2*model.x2 <= 160)\n",
    "model.weight = Constraint(expr = model.x1 + 3*model.x2 <= 200)\n",
    "\n",
    "results = SolverFactory('gurobi').solve(model)\n",
    "results.write()\n",
    "if results.solver.status:\n",
    "    model.pprint()\n",
    "\n",
    "print('\\nProfit = ', model.profit())\n",
    "\n",
    "print('\\nDecision Variables')\n",
    "print('x1 = ', model.x1())\n",
    "print('x2 = ', model.x2())"
   ]
  },
  {
   "cell_type": "markdown",
   "id": "6b8cecab-5c5d-4610-bc33-5fc36f30f709",
   "metadata": {
    "id": "6b8cecab-5c5d-4610-bc33-5fc36f30f709"
   },
   "source": [
    "## Solving Chess Set Problem using GEKKO"
   ]
  },
  {
   "cell_type": "code",
   "execution_count": 7,
   "id": "55d8d2bc-a635-46d8-b6c5-a72348d95e1d",
   "metadata": {
    "colab": {
     "base_uri": "https://localhost:8080/"
    },
    "executionInfo": {
     "elapsed": 7575,
     "status": "ok",
     "timestamp": 1673798825863,
     "user": {
      "displayName": "Schlutz King",
      "userId": "05536462657561386144"
     },
     "user_tz": 300
    },
    "id": "55d8d2bc-a635-46d8-b6c5-a72348d95e1d",
    "outputId": "91ffaed0-682c-43ee-fed7-b72560ead9a5"
   },
   "outputs": [
    {
     "name": "stdout",
     "output_type": "stream",
     "text": [
      "apm 99.248.50.154_gk_model0 <br><pre> ----------------------------------------------------------------\n",
      " APMonitor, Version 1.0.1\n",
      " APMonitor Optimization Suite\n",
      " ----------------------------------------------------------------\n",
      " \n",
      " \n",
      " Warning: there is insufficient data in CSV file 99.248.50.154_gk_model0.csv\n",
      " \n",
      " --------- APM Model Size ------------\n",
      " Each time step contains\n",
      "   Objects      :            0\n",
      "   Constants    :            0\n",
      "   Variables    :            6\n",
      "   Intermediates:            0\n",
      "   Connections  :            0\n",
      "   Equations    :            5\n",
      "   Residuals    :            5\n",
      " \n",
      " Number of state variables:              6\n",
      " Number of total equations: -            4\n",
      " Number of slack variables: -            4\n",
      " ---------------------------------------\n",
      " Degrees of freedom       :             -2\n",
      " \n",
      " * Warning: DOF <= 0\n",
      " **********************************************\n",
      " Steady State Optimization with Interior Point Solver\n",
      " **********************************************\n",
      "  \n",
      "  \n",
      " Info: Exact Hessian\n",
      "\n",
      "******************************************************************************\n",
      "This program contains Ipopt, a library for large-scale nonlinear optimization.\n",
      " Ipopt is released as open source code under the Eclipse Public License (EPL).\n",
      "         For more information visit http://projects.coin-or.org/Ipopt\n",
      "******************************************************************************\n",
      "\n",
      "This is Ipopt version 3.12.10, running with linear solver ma57.\n",
      "\n",
      "Number of nonzeros in equality constraint Jacobian...:       10\n",
      "Number of nonzeros in inequality constraint Jacobian.:        0\n",
      "Number of nonzeros in Lagrangian Hessian.............:        0\n",
      "\n",
      "Total number of variables............................:        6\n",
      "                     variables with only lower bounds:        4\n",
      "                variables with lower and upper bounds:        0\n",
      "                     variables with only upper bounds:        0\n",
      "Total number of equality constraints.................:        4\n",
      "Total number of inequality constraints...............:        0\n",
      "        inequality constraints with only lower bounds:        0\n",
      "   inequality constraints with lower and upper bounds:        0\n",
      "        inequality constraints with only upper bounds:        0\n",
      "\n",
      "iter    objective    inf_pr   inf_du lg(mu)  ||d||  lg(rg) alpha_du alpha_pr  ls\n",
      "   0  0.0000000e+00 2.00e+02 1.94e+00   0.0 0.00e+00    -  0.00e+00 0.00e+00   0\n",
      "   1 -7.4006855e+02 1.78e-14 5.38e+03  -0.1 5.46e+01    -  1.84e-04 1.00e+00f  1\n",
      "   2 -8.1067872e+02 2.48e-14 4.33e+03  -0.4 9.74e+01    -  1.00e+00 1.95e-01f  1\n",
      "   3 -8.1136240e+02 1.21e-14 7.57e-07  -1.1 1.89e-01    -  1.00e+00 1.00e+00f  1\n",
      "   4 -8.1142714e+02 1.79e-14 5.09e-05  -7.1 1.24e-01    -  9.85e-01 9.89e-01f  1\n",
      "   5 -8.1142857e+02 6.46e-15 9.78e-08  -9.0 3.07e-03    -  9.98e-01 9.98e-01f  1\n",
      "   6 -8.1142857e+02 2.79e-14 1.00e-16 -11.0 5.35e-06    -  1.00e+00 1.00e+00f  1\n",
      "\n",
      "Number of Iterations....: 6\n",
      "\n",
      "                                   (scaled)                 (unscaled)\n",
      "Objective...............:  -8.1142857146997960e+02   -8.1142857146997960e+02\n",
      "Dual infeasibility......:   1.0000000168623835e-16    1.0000000168623835e-16\n",
      "Constraint violation....:   2.7872750547044603e-14    2.7872750547044603e-14\n",
      "Complementarity.........:   1.0494504252114488e-11    1.0494504252114488e-11\n",
      "Overall NLP error.......:   1.0494504252114488e-11    1.0494504252114488e-11\n",
      "\n",
      "\n",
      "Number of objective function evaluations             = 7\n",
      "Number of objective gradient evaluations             = 7\n",
      "Number of equality constraint evaluations            = 7\n",
      "Number of inequality constraint evaluations          = 0\n",
      "Number of equality constraint Jacobian evaluations   = 7\n",
      "Number of inequality constraint Jacobian evaluations = 0\n",
      "Number of Lagrangian Hessian evaluations             = 6\n",
      "Total CPU secs in IPOPT (w/o function evaluations)   =      0.005\n",
      "Total CPU secs in NLP function evaluations           =      0.000\n",
      "\n",
      "EXIT: Optimal Solution Found.\n",
      " \n",
      " The solution was found.\n",
      " \n",
      " The final value of the objective function is   -811.428571469980     \n",
      " \n",
      " ---------------------------------------------------\n",
      " Solver         :  IPOPT (v3.12)\n",
      " Solution time  :   9.399999995366670E-003 sec\n",
      " Objective      :   -811.428571469980     \n",
      " Successful solution\n",
      " ---------------------------------------------------\n",
      " \n",
      "Make [11.42857143] small sets, and [62.85714286] large sets\n",
      "<class 'gekko.gk_operators.GK_Value'>\n"
     ]
    }
   ],
   "source": [
    "# !pip install gekko\n",
    "from gekko import GEKKO\n",
    "\n",
    "m = GEKKO()\n",
    "\n",
    "x1 = m.Var()\n",
    "x2 = m.Var()\n",
    "\n",
    "m.Equation(x1 >= 0)\n",
    "m.Equation(x2 >= 0)\n",
    "m.Equation(3*x1 + 2*x2 <= 160)\n",
    "m.Equation(x1 + 3*x2 <= 200)\n",
    "\n",
    "m.Maximize(5*x1 + 12*x2)\n",
    "\n",
    "re = m.solve()\n",
    "\n",
    "print('Make', x1.value,'small sets, and', x2.value, 'large sets')\n",
    "print(type(x1.value))"
   ]
  },
  {
   "cell_type": "markdown",
   "id": "f4208fd5-f7b7-43d0-a292-aa429cb08ae8",
   "metadata": {
    "id": "f4208fd5-f7b7-43d0-a292-aa429cb08ae8"
   },
   "source": [
    "## Solving Chess Set Problem using CVXPY"
   ]
  },
  {
   "cell_type": "code",
   "execution_count": 8,
   "id": "1c2f2980-f3c5-4af7-9550-9a72afb1b83e",
   "metadata": {
    "colab": {
     "base_uri": "https://localhost:8080/"
    },
    "executionInfo": {
     "elapsed": 154,
     "status": "ok",
     "timestamp": 1673016326509,
     "user": {
      "displayName": "Schlutz King",
      "userId": "05536462657561386144"
     },
     "user_tz": 300
    },
    "id": "1c2f2980-f3c5-4af7-9550-9a72afb1b83e",
    "outputId": "d3eb39f7-1aae-49fe-bfa4-e80bb46f46d4"
   },
   "outputs": [
    {
     "name": "stdout",
     "output_type": "stream",
     "text": [
      "(CVXPY) Jan 25 06:16:54 PM: Encountered unexpected exception importing solver GLOP:\n",
      "RuntimeError('Unrecognized new version of ortools (9.5.2237). Expected < 9.5.0.Please open a feature request on cvxpy to enable support for this version.')\n",
      "(CVXPY) Jan 25 06:16:54 PM: Encountered unexpected exception importing solver PDLP:\n",
      "RuntimeError('Unrecognized new version of ortools (9.5.2237). Expected < 9.5.0.Please open a feature request on cvxpy to enable support for this version.')\n",
      "LP Solution:\n",
      "Profit = 811.43 $\n",
      "Make 11.0 small sets, and 63.0 large sets\n"
     ]
    }
   ],
   "source": [
    "# !pip install cvxpy\n",
    "import cvxpy as cp\n",
    "import numpy as np\n",
    "\n",
    "# Define the decision variables\n",
    "x1 = cp.Variable()\n",
    "x2 = cp.Variable()\n",
    "\n",
    "# Add constraints\n",
    "constraints = [3*x1 + 2*x2 <= 160, x1 + 3*x2 <= 200, x1 >= 0, x2 >= 0]\n",
    "\n",
    "# Set the profit as the objective function\n",
    "obj = cp.Maximize(5*x1 + 12*x2)\n",
    "\n",
    "# Solve the optimization problem\n",
    "prob = cp.Problem(obj, constraints)\n",
    "\n",
    "# print the results\n",
    "print('LP Solution:')\n",
    "print('Profit =', round(prob.solve(),2),'$')\n",
    "print('Make', np.round(x1.value),'small sets, and', np.round(x2.value), 'large sets')"
   ]
  },
  {
   "cell_type": "markdown",
   "id": "kThKBVkn9c_8",
   "metadata": {
    "id": "kThKBVkn9c_8"
   },
   "source": [
    "## Solving Chess Set Problem using PyMathProg"
   ]
  },
  {
   "cell_type": "code",
   "execution_count": 9,
   "id": "49a76b11-3b59-45bb-9f7e-257f792d2644",
   "metadata": {
    "colab": {
     "base_uri": "https://localhost:8080/"
    },
    "executionInfo": {
     "elapsed": 178,
     "status": "ok",
     "timestamp": 1673799138804,
     "user": {
      "displayName": "Schlutz King",
      "userId": "05536462657561386144"
     },
     "user_tz": 300
    },
    "id": "49a76b11-3b59-45bb-9f7e-257f792d2644",
    "outputId": "3d44585a-16b9-48d6-82e4-308dd079309b"
   },
   "outputs": [
    {
     "name": "stdout",
     "output_type": "stream",
     "text": [
      "LP Solution:\n",
      "Profit = 811.0 $\n",
      "\n",
      "PyMathProg 1.0 Sensitivity Report Created: 2023/01/25 Wed 18:16PM\n",
      "================================================================================\n",
      "Variable            Activity   Dual.Value     Obj.Coef   Range.From   Range.Till\n",
      "--------------------------------------------------------------------------------\n",
      "*x1                  11.4286            0            5            4           18\n",
      "*x2                  62.8571            0           12      3.33333           15\n",
      "================================================================================\n",
      "================================================================================\n",
      "Constraint       Activity Dual.Value  Lower.Bnd  Upper.Bnd RangeLower RangeUpper\n",
      "--------------------------------------------------------------------------------\n",
      " R1                   160   0.428571       -inf        160    133.333        600\n",
      " R2                   200    3.71429       -inf        200    53.3333        240\n",
      "================================================================================\n"
     ]
    }
   ],
   "source": [
    "# !pip install pymprog\n",
    "from pymprog import *\n",
    "\n",
    "begin('model')\n",
    "\n",
    "x1 = var('x1')\n",
    "x1.kind = int\n",
    "x2 = var('x2')\n",
    "x2.kind = int\n",
    "\n",
    "maximize(5*x1 + 12*x2, 'profit')\n",
    "\n",
    "x1 >= 0\n",
    "x2 >= 0\n",
    "3*x1 + 2*x2 <= 160\n",
    "x1 + 3*x2 <= 200\n",
    "\n",
    "solve()\n",
    "print('LP Solution:')\n",
    "print('Profit =', round(vobj(),2),'$')\n",
    "sensitivity()"
   ]
  },
  {
   "cell_type": "markdown",
   "id": "436da2af-7fbf-48cb-b42b-be15e6bb0015",
   "metadata": {},
   "source": [
    "## Solving Chess Set Problem using cvxopt"
   ]
  },
  {
   "cell_type": "code",
   "execution_count": 10,
   "id": "4436086e-e71e-4e5e-ad76-c3cdd8288c87",
   "metadata": {},
   "outputs": [
    {
     "name": "stdout",
     "output_type": "stream",
     "text": [
      "     pcost       dcost       gap    pres   dres   k/t\n",
      " 0: -7.4247e+02 -1.5315e+03  2e+02  1e-02  8e-01  1e+00\n",
      " 1: -8.1089e+02 -8.5162e+02  8e+00  6e-04  4e-02  5e-01\n",
      " 2: -8.1139e+02 -8.1205e+02  1e-01  1e-05  7e-04  8e-03\n",
      " 3: -8.1143e+02 -8.1143e+02  1e-03  1e-07  7e-06  8e-05\n",
      " 4: -8.1143e+02 -8.1143e+02  1e-05  1e-09  7e-08  8e-07\n",
      "Optimal solution found.\n",
      "Make [ 1.14e+01]\n",
      " small sets, and [ 6.29e+01]\n",
      " large sets\n"
     ]
    }
   ],
   "source": [
    "# !pip install cvxopt\n",
    "from cvxopt.modeling import variable, op, max, sum\n",
    "\n",
    "x1 = variable()\n",
    "x2 = variable()\n",
    "\n",
    "c1 = ( 3*x1+2*x2 <= 160 )\n",
    "c2 = ( x1+3*x2 <= 200 )\n",
    "c3 = ( x1 >= 0 )\n",
    "c4 = ( x2 >= 0 )\n",
    "\n",
    "lp1 = op(-5*x1-12*x2, [c1,c2,c3,c4])\n",
    "lp1.solve()\n",
    "print('Make', x1.value,'small sets, and', x2.value, 'large sets')"
   ]
  },
  {
   "cell_type": "markdown",
   "id": "AkvE3VciLcu5",
   "metadata": {
    "id": "AkvE3VciLcu5"
   },
   "source": [
    "## Solving Chess Set Problem using OptLang"
   ]
  },
  {
   "cell_type": "code",
   "execution_count": 11,
   "id": "710a84c4-0347-41e9-9495-fb0b547d04d1",
   "metadata": {
    "colab": {
     "base_uri": "https://localhost:8080/"
    },
    "executionInfo": {
     "elapsed": 3586,
     "status": "ok",
     "timestamp": 1673732096220,
     "user": {
      "displayName": "Schlutz King",
      "userId": "05536462657561386144"
     },
     "user_tz": 300
    },
    "id": "710a84c4-0347-41e9-9495-fb0b547d04d1",
    "outputId": "98c9394b-bd2c-40ae-cca7-fdf44dc65ba7"
   },
   "outputs": [
    {
     "name": "stdout",
     "output_type": "stream",
     "text": [
      "LP Solution: 811.43 $\n",
      "Make 11.0 small sets, and 63.0 large sets\n"
     ]
    }
   ],
   "source": [
    "# !pip install optlang\n",
    "from optlang import Model, Variable, Constraint, Objective\n",
    "\n",
    "x1 = Variable('x1', lb=0)\n",
    "x2 = Variable('x2', lb=0)\n",
    "\n",
    "c1 = Constraint(3 * x1 + 2 * x2, ub=160)\n",
    "c2 = Constraint(x1 + 3 * x2, ub=200)\n",
    "\n",
    "obj = Objective(5 * x1 + 12 * x2, direction='max')\n",
    "\n",
    "model = Model(name='Simple model')\n",
    "model.objective = obj\n",
    "model.add([c1, c2])\n",
    "status = model.optimize()\n",
    "\n",
    "print(\"LP Solution:\", round(model.objective.value,2),'$')\n",
    "result = []\n",
    "for var_name, var in model.variables.items():\n",
    "    result.append('%.1f'%round(var.primal))\n",
    "print('Make', result[0],'small sets, and', result[1], 'large sets')"
   ]
  },
  {
   "cell_type": "markdown",
   "id": "1yhqwf-CWM7_",
   "metadata": {
    "id": "1yhqwf-CWM7_"
   },
   "source": [
    "## Solving Chess Set Problem using PICOS"
   ]
  },
  {
   "cell_type": "code",
   "execution_count": 12,
   "id": "d4cbaba1-d931-4f7f-8878-f421b18c0e78",
   "metadata": {},
   "outputs": [
    {
     "name": "stdout",
     "output_type": "stream",
     "text": [
      "LP Solution:\n",
      "Profit: = 811.4285712416705 $\n",
      "Make 11.0 small sets, and make 63.0 large sets\n"
     ]
    }
   ],
   "source": [
    "# !pip install picos\n",
    "import picos as pico\n",
    "\n",
    "# Define the problem\n",
    "prob = pico.Problem(\"ChessSet\")\n",
    "\n",
    "\n",
    "# Define the variables\n",
    "x1 = pico.RealVariable(\"x1\", lower = 0)\n",
    "x2 = pico.RealVariable(\"x2\", lower = 0)\n",
    "\n",
    "# Define the constraints\n",
    "prob.add_constraint(x1 >= 0)\n",
    "prob.add_constraint(x2 >= 0)\n",
    "prob.add_constraint(3*x1 + 2*x2 <= 160)\n",
    "prob.add_constraint(x1 + 3*x2 <= 200)\n",
    "\n",
    "# Define the objective function\n",
    "prob.set_objective('max', 5*x1 + 12*x2)\n",
    "\n",
    "# Solve the LP\n",
    "prob.solve(solver='cvxopt')\n",
    "\n",
    "# print the results\n",
    "print('LP Solution:')\n",
    "print(f'Profit: = {prob.value} $')\n",
    "print(f'Make {round(x1,0)} small sets, and make {round(x2,0)} large sets')"
   ]
  },
  {
   "cell_type": "markdown",
   "id": "2fd16aad-125d-42ec-8227-77de4a79db28",
   "metadata": {},
   "source": [
    "## Solving Chess Set Problem using cylp"
   ]
  },
  {
   "cell_type": "code",
   "execution_count": 13,
   "id": "967c8ee2-1233-4dbb-8ffe-4d900bcfb89e",
   "metadata": {},
   "outputs": [
    {
     "name": "stdout",
     "output_type": "stream",
     "text": [
      "0\n",
      "solution\n",
      "LP Solution:\n",
      "Profit: = 811.0 $\n",
      "Make 11.0 small sets, and make 63.0 large sets\n"
     ]
    }
   ],
   "source": [
    "# !pip install cylp\n",
    "\n",
    "import cylp as cy \n",
    "from cylp.cy import CyClpSimplex\n",
    "\n",
    "# Define the model\n",
    "model = cy.py.modeling.CyLPModel()\n",
    "\n",
    "# Define the variables\n",
    "x1 = model.addVariable('x1', 1, isInt=True)\n",
    "x2 = model.addVariable('x2', 1, isInt=True)\n",
    "\n",
    "# Add the constraints\n",
    "model += 3*x1[0]+2*x2[0]<=160\n",
    "model += x1[0]+3*x2[0]<=200\n",
    "model += x1[0] >= 0\n",
    "model += x2[0] >= 0\n",
    "\n",
    "# Define the objective function\n",
    "model.objective = -1*(5*x1[0]+12*x2[0])\n",
    "\n",
    "# The status of the solution\n",
    "cbcModel = cy.cy.CyClpSimplex(model).getCbcModel()\n",
    "print(cbcModel.solve())\n",
    "print (cbcModel.status)\n",
    "\n",
    "# print the results\n",
    "ss=cbcModel.primalVariableSolution['x1'][0]\n",
    "ls=cbcModel.primalVariableSolution['x2'][0]\n",
    "print('LP Solution:')\n",
    "print(f'Profit: = {-cbcModel.objectiveValue} $')\n",
    "print(f'Make {round(ss,0)} small sets, and make {round(ls,0)} large sets')\n"
   ]
  }
 ],
 "metadata": {
  "colab": {
   "provenance": []
  },
  "kernelspec": {
   "display_name": "Python 3 (ipykernel)",
   "language": "python",
   "name": "python3"
  },
  "language_info": {
   "codemirror_mode": {
    "name": "ipython",
    "version": 3
   },
   "file_extension": ".py",
   "mimetype": "text/x-python",
   "name": "python",
   "nbconvert_exporter": "python",
   "pygments_lexer": "ipython3",
   "version": "3.10.6"
  }
 },
 "nbformat": 4,
 "nbformat_minor": 5
}
