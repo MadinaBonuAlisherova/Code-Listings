{
 "cells": [
  {
   "attachments": {},
   "cell_type": "markdown",
   "metadata": {},
   "source": [
    "# Curve fitting using real-value GA"
   ]
  },
  {
   "attachments": {},
   "cell_type": "markdown",
   "metadata": {},
   "source": [
    "## Generate data sample for a thrid-order polynomial"
   ]
  },
  {
   "cell_type": "code",
   "execution_count": 8,
   "metadata": {},
   "outputs": [
    {
     "name": "stdout",
     "output_type": "stream",
     "text": [
      "Generated data samples from a third-order polynomial:\n",
      " [[  0.        1.     ]\n",
      " [  1.25      5.21875]\n",
      " [  2.5      23.5    ]\n",
      " [  3.75     79.28125]\n",
      " [  5.      196.     ]]\n"
     ]
    }
   ],
   "source": [
    "import numpy as np\n",
    "\n",
    "def third_order_polynomial(x, a, b, c, d):\n",
    "    return a * x**3 + b * x**2 + c * x + d\n",
    "\n",
    "# Define coefficients for the third-order polynomial\n",
    "a, b, c, d = 2, -3, 4, 1\n",
    "\n",
    "# Generate x values\n",
    "x_values = np.linspace(0, 5, 5)\n",
    "\n",
    "# Calculate y values using the third-order polynomial function\n",
    "y_values = third_order_polynomial(x_values, a, b, c, d)\n",
    "\n",
    "# Combine x and y values into an array of data samples\n",
    "data_samples = np.column_stack((x_values, y_values))\n",
    "\n",
    "print(\"Generated data samples from a third-order polynomial:\\n\", data_samples)\n"
   ]
  },
  {
   "attachments": {},
   "cell_type": "markdown",
   "metadata": {},
   "source": [
    "### Curve fitting"
   ]
  },
  {
   "cell_type": "code",
   "execution_count": 9,
   "metadata": {},
   "outputs": [],
   "source": [
    "import numpy as np\n",
    "from pymoo.algorithms.soo.nonconvex.ga import GA\n",
    "from pymoo.operators.crossover.pntx import PointCrossover\n",
    "from pymoo.operators.mutation.pm import PolynomialMutation\n",
    "from pymoo.operators.repair.rounding import RoundingRepair\n",
    "from pymoo.operators.sampling.rnd import FloatRandomSampling\n",
    "from pymoo.core.problem import Problem\n",
    "from pymoo.optimize import minimize"
   ]
  },
  {
   "attachments": {},
   "cell_type": "markdown",
   "metadata": {},
   "source": [
    "### Input data"
   ]
  },
  {
   "cell_type": "code",
   "execution_count": 10,
   "metadata": {},
   "outputs": [],
   "source": [
    "x=x_values\n",
    "y=y_values"
   ]
  },
  {
   "attachments": {},
   "cell_type": "markdown",
   "metadata": {},
   "source": [
    "### Define the problem"
   ]
  },
  {
   "cell_type": "code",
   "execution_count": 11,
   "metadata": {},
   "outputs": [],
   "source": [
    "class CurveFittingProblem(Problem):\n",
    "\n",
    "    def __init__(self):\n",
    "        super().__init__(n_var=4,\n",
    "                         n_obj=1,\n",
    "                         n_constr=0,\n",
    "                         xl=-10.0,\n",
    "                         xu=10.0, vtype=float)    \n",
    "\n",
    "    def _evaluate(self, X, out, *args, **kwargs):\n",
    "        Y = np.zeros((X.shape[0], 1))\n",
    "        for i, coeffs in enumerate(X):\n",
    "            y_pred = np.polyval(coeffs, x)\n",
    "            mse = np.mean((y - y_pred)**2)\n",
    "            Y[i] = mse\n",
    "        out[\"F\"] = Y"
   ]
  },
  {
   "attachments": {},
   "cell_type": "markdown",
   "metadata": {},
   "source": [
    "### Define and run the solver for the problem"
   ]
  },
  {
   "cell_type": "code",
   "execution_count": 12,
   "metadata": {},
   "outputs": [
    {
     "name": "stdout",
     "output_type": "stream",
     "text": [
      "=================================================\n",
      "n_gen  |  n_eval  |     f_avg     |     f_min    \n",
      "=================================================\n",
      "     1 |       50 |  1.703105E+05 |  1.292856E+02\n",
      "     2 |      100 |  2.103690E+04 |  1.292856E+02\n",
      "     3 |      150 |  3.450996E+03 |  2.818018E+01\n",
      "     4 |      200 |  9.394156E+02 |  1.260156E+01\n",
      "     5 |      250 |  5.672089E+02 |  1.260156E+01\n",
      "     6 |      300 |  4.464128E+02 |  1.260156E+01\n",
      "     7 |      350 |  3.392862E+02 |  1.260156E+01\n",
      "     8 |      400 |  2.589571E+02 |  1.260156E+01\n",
      "     9 |      450 |  2.196908E+02 |  1.260156E+01\n",
      "    10 |      500 |  1.517321E+02 |  1.260156E+01\n",
      "    11 |      550 |  1.083781E+02 |  1.260156E+01\n",
      "    12 |      600 |  9.043525E+01 |  1.260156E+01\n",
      "    13 |      650 |  6.317252E+01 |  1.260156E+01\n",
      "    14 |      700 |  5.207010E+01 |  1.260156E+01\n",
      "    15 |      750 |  4.580119E+01 |  1.260156E+01\n",
      "    16 |      800 |  4.128697E+01 |  1.260156E+01\n",
      "    17 |      850 |  3.787242E+01 |  1.260156E+01\n",
      "    18 |      900 |  3.659616E+01 |  1.260156E+01\n",
      "    19 |      950 |  3.573302E+01 |  1.260156E+01\n",
      "    20 |     1000 |  3.407896E+01 |  1.010156E+01\n",
      "    21 |     1050 |  3.329521E+01 |  1.010156E+01\n",
      "    22 |     1100 |  3.262802E+01 |  1.010156E+01\n",
      "    23 |     1150 |  3.078001E+01 |  1.010156E+01\n",
      "    24 |     1200 |  2.887731E+01 |  6.8515625000\n",
      "    25 |     1250 |  2.676292E+01 |  6.8515625000\n",
      "    26 |     1300 |  2.605900E+01 |  6.8515625000\n",
      "    27 |     1350 |  2.401021E+01 |  6.8515625000\n",
      "    28 |     1400 |  2.343336E+01 |  6.8515625000\n",
      "    29 |     1450 |  2.315366E+01 |  6.8515625000\n",
      "    30 |     1500 |  2.267100E+01 |  6.8515625000\n",
      "    31 |     1550 |  2.267100E+01 |  6.8515625000\n",
      "    32 |     1600 |  2.212240E+01 |  6.8515625000\n",
      "    33 |     1650 |  2.184677E+01 |  6.8515625000\n",
      "    34 |     1700 |  2.176379E+01 |  6.8515625000\n",
      "    35 |     1750 |  2.097130E+01 |  6.8515625000\n",
      "    36 |     1800 |  2.097130E+01 |  6.8515625000\n",
      "    37 |     1850 |  2.097130E+01 |  6.8515625000\n",
      "    38 |     1900 |  2.079943E+01 |  6.8515625000\n",
      "    39 |     1950 |  2.079943E+01 |  6.8515625000\n",
      "    40 |     2000 |  2.074960E+01 |  6.8515625000\n",
      "    41 |     2050 |  2.074960E+01 |  6.8515625000\n",
      "    42 |     2100 |  2.045664E+01 |  6.8515625000\n",
      "    43 |     2150 |  2.045664E+01 |  6.8515625000\n",
      "    44 |     2200 |  2.045664E+01 |  6.8515625000\n",
      "    45 |     2250 |  2.038914E+01 |  6.8515625000\n",
      "    46 |     2300 |  2.038914E+01 |  6.8515625000\n",
      "    47 |     2350 |  2.038914E+01 |  6.8515625000\n",
      "    48 |     2400 |  1.985195E+01 |  6.8515625000\n",
      "    49 |     2450 |  1.959821E+01 |  6.8515625000\n",
      "    50 |     2500 |  1.929682E+01 |  6.8515625000\n",
      "    51 |     2550 |  1.929682E+01 |  6.8515625000\n",
      "    52 |     2600 |  1.929682E+01 |  6.8515625000\n",
      "    53 |     2650 |  1.929682E+01 |  6.8515625000\n",
      "    54 |     2700 |  1.929682E+01 |  6.8515625000\n",
      "    55 |     2750 |  1.893024E+01 |  6.8515625000\n",
      "    56 |     2800 |  1.861805E+01 |  6.8515625000\n",
      "    57 |     2850 |  1.837084E+01 |  6.8515625000\n",
      "    58 |     2900 |  1.817584E+01 |  6.8515625000\n",
      "    59 |     2950 |  1.807475E+01 |  6.8515625000\n",
      "    60 |     3000 |  1.752271E+01 |  6.8515625000\n",
      "    61 |     3050 |  1.752271E+01 |  6.8515625000\n",
      "    62 |     3100 |  1.694677E+01 |  6.8515625000\n",
      "    63 |     3150 |  1.694677E+01 |  6.8515625000\n",
      "    64 |     3200 |  1.694677E+01 |  6.8515625000\n",
      "    65 |     3250 |  1.694677E+01 |  6.8515625000\n",
      "    66 |     3300 |  1.694677E+01 |  6.8515625000\n",
      "    67 |     3350 |  1.694677E+01 |  6.8515625000\n",
      "    68 |     3400 |  1.687896E+01 |  6.8515625000\n",
      "    69 |     3450 |  1.687896E+01 |  6.8515625000\n",
      "    70 |     3500 |  1.687896E+01 |  6.8515625000\n",
      "    71 |     3550 |  1.687896E+01 |  6.8515625000\n",
      "    72 |     3600 |  1.687896E+01 |  6.8515625000\n",
      "    73 |     3650 |  1.687896E+01 |  6.8515625000\n",
      "    74 |     3700 |  1.687896E+01 |  6.8515625000\n",
      "    75 |     3750 |  1.687896E+01 |  6.8515625000\n",
      "    76 |     3800 |  1.687896E+01 |  6.8515625000\n",
      "    77 |     3850 |  1.687896E+01 |  6.8515625000\n",
      "    78 |     3900 |  1.687896E+01 |  6.8515625000\n",
      "    79 |     3950 |  1.687896E+01 |  6.8515625000\n",
      "    80 |     4000 |  1.687896E+01 |  6.8515625000\n",
      "    81 |     4050 |  1.687896E+01 |  6.8515625000\n",
      "    82 |     4100 |  1.687896E+01 |  6.8515625000\n",
      "    83 |     4150 |  1.687896E+01 |  6.8515625000\n",
      "    84 |     4200 |  1.687896E+01 |  6.8515625000\n",
      "    85 |     4250 |  1.687896E+01 |  6.8515625000\n",
      "    86 |     4300 |  1.687896E+01 |  6.8515625000\n",
      "    87 |     4350 |  1.687896E+01 |  6.8515625000\n",
      "    88 |     4400 |  1.687896E+01 |  6.8515625000\n",
      "    89 |     4450 |  1.687896E+01 |  6.8515625000\n",
      "    90 |     4500 |  1.687896E+01 |  6.8515625000\n",
      "    91 |     4550 |  1.687896E+01 |  6.8515625000\n",
      "    92 |     4600 |  1.687896E+01 |  6.8515625000\n",
      "    93 |     4650 |  1.687896E+01 |  6.8515625000\n",
      "    94 |     4700 |  1.675988E+01 |  6.8515625000\n",
      "    95 |     4750 |  1.675988E+01 |  6.8515625000\n",
      "    96 |     4800 |  1.675988E+01 |  6.8515625000\n",
      "    97 |     4850 |  1.660831E+01 |  6.8515625000\n",
      "    98 |     4900 |  1.660831E+01 |  6.8515625000\n",
      "    99 |     4950 |  1.660831E+01 |  6.8515625000\n",
      "   100 |     5000 |  1.660831E+01 |  6.8515625000\n"
     ]
    }
   ],
   "source": [
    "problem = CurveFittingProblem()\n",
    "\n",
    "algorithm = GA(\n",
    "    pop_size=50,\n",
    "    sampling=FloatRandomSampling(),\n",
    "    crossover=PointCrossover(prob=0.8, n_points=2),\n",
    "    mutation = PolynomialMutation(prob=0.3, repair=RoundingRepair()),\n",
    "    eliminate_duplicates=True\n",
    ")\n",
    "\n",
    "res = minimize(problem, algorithm, ('n_gen', 100), seed=1, verbose=True)"
   ]
  },
  {
   "attachments": {},
   "cell_type": "markdown",
   "metadata": {},
   "source": [
    "### Print the four coefficients"
   ]
  },
  {
   "cell_type": "code",
   "execution_count": 13,
   "metadata": {},
   "outputs": [
    {
     "name": "stdout",
     "output_type": "stream",
     "text": [
      "Coefficients of the best-fit third-order polynomial:\n",
      "a = 2\n",
      "b = -2\n",
      "c = -1\n",
      "d = 4\n"
     ]
    }
   ],
   "source": [
    "best_coeffs = res.X\n",
    "print(\"Coefficients of the best-fit third-order polynomial:\")\n",
    "print(\"a =\", best_coeffs[0])\n",
    "print(\"b =\", best_coeffs[1])\n",
    "print(\"c =\", best_coeffs[2])\n",
    "print(\"d =\", best_coeffs[3])"
   ]
  },
  {
   "attachments": {},
   "cell_type": "markdown",
   "metadata": {},
   "source": [
    "### Plot the original data and the obtained third-order polynomial"
   ]
  },
  {
   "cell_type": "code",
   "execution_count": 14,
   "metadata": {},
   "outputs": [
    {
     "data": {
      "image/png": "[encoded data removed]",
      "text/plain": [
       "<Figure size 1000x600 with 1 Axes>"
      ]
     },
     "metadata": {},
     "output_type": "display_data"
    }
   ],
   "source": [
    "import matplotlib.pyplot as plt\n",
    "\n",
    "# Plot the original data\n",
    "plt.figure(figsize=(10, 6))\n",
    "plt.scatter(x, y, label=\"Original data\", color=\"blue\")\n",
    "\n",
    "# Calculate the obtained third-order polynomial\n",
    "x_plot = np.linspace(0, 6, 100)\n",
    "y_plot = np.polyval(best_coeffs, x_plot)\n",
    "\n",
    "# Plot the obtained third-order polynomial\n",
    "plt.plot(x_plot, y_plot, label=\"Obtained third-order polynomial\", color=\"red\")\n",
    "\n",
    "# Add labels and legend\n",
    "plt.xlabel(\"x\")\n",
    "plt.ylabel(\"y\")\n",
    "plt.legend()\n",
    "\n",
    "# Show the plot\n",
    "plt.show()\n",
    "# plt.savefig('CH08_F01_CurveFitting.png', format='png', dpi=300)"
   ]
  }
 ],
 "metadata": {
  "kernelspec": {
   "display_name": "ox",
   "language": "python",
   "name": "python3"
  },
  "language_info": {
   "codemirror_mode": {
    "name": "ipython",
    "version": 3
   },
   "file_extension": ".py",
   "mimetype": "text/x-python",
   "name": "python",
   "nbconvert_exporter": "python",
   "pygments_lexer": "ipython3",
   "version": "3.10.6"
  },
  "orig_nbformat": 4
 },
 "nbformat": 4,
 "nbformat_minor": 2
}
