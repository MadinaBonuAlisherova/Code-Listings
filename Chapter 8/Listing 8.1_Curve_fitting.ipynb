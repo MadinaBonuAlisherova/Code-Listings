{
 "cells": [
  {
   "attachments": {},
   "cell_type": "markdown",
   "metadata": {},
   "source": [
    "# Curve fitting using real-valued GA"
   ]
  },
  {
   "attachments": {},
   "cell_type": "markdown",
   "metadata": {},
   "source": [
    "## Generate data sample for a thrid-order polynomial"
   ]
  },
  {
   "cell_type": "code",
   "execution_count": 1,
   "metadata": {},
   "outputs": [
    {
     "name": "stdout",
     "output_type": "stream",
     "text": [
      "Generated data samples from a third-order polynomial:\n",
      " [[  0.        1.     ]\n",
      " [  1.25      5.21875]\n",
      " [  2.5      23.5    ]\n",
      " [  3.75     79.28125]\n",
      " [  5.      196.     ]]\n"
     ]
    }
   ],
   "source": [
    "import numpy as np\n",
    "\n",
    "def third_order_polynomial(x, a, b, c, d):\n",
    "    return a * x**3 + b * x**2 + c * x + d\n",
    "\n",
    "# Define coefficients for the third-order polynomial\n",
    "a, b, c, d = 2, -3, 4, 1\n",
    "\n",
    "# Generate x values\n",
    "x_values = np.linspace(0, 5, 5)\n",
    "\n",
    "# Calculate y values using the third-order polynomial function\n",
    "y_values = third_order_polynomial(x_values, a, b, c, d)\n",
    "\n",
    "# Combine x and y values into an array of data samples\n",
    "data_samples = np.column_stack((x_values, y_values))\n",
    "\n",
    "print(\"Generated data samples from a third-order polynomial:\\n\", data_samples)\n"
   ]
  },
  {
   "attachments": {},
   "cell_type": "markdown",
   "metadata": {},
   "source": [
    "### Curve fitting"
   ]
  },
  {
   "cell_type": "code",
   "execution_count": 2,
   "metadata": {},
   "outputs": [],
   "source": [
    "import numpy as np\n",
    "from pymoo.algorithms.soo.nonconvex.ga import GA\n",
    "from pymoo.operators.crossover.sbx import SBX\n",
    "from pymoo.operators.mutation.pm import PolynomialMutation\n",
    "from pymoo.operators.repair.rounding import RoundingRepair\n",
    "from pymoo.operators.sampling.rnd import FloatRandomSampling\n",
    "from pymoo.core.problem import Problem\n",
    "from pymoo.optimize import minimize"
   ]
  },
  {
   "attachments": {},
   "cell_type": "markdown",
   "metadata": {},
   "source": [
    "### Input data"
   ]
  },
  {
   "cell_type": "code",
   "execution_count": 3,
   "metadata": {},
   "outputs": [],
   "source": [
    "x=x_values\n",
    "y=y_values"
   ]
  },
  {
   "attachments": {},
   "cell_type": "markdown",
   "metadata": {},
   "source": [
    "### Define the problem"
   ]
  },
  {
   "cell_type": "code",
   "execution_count": 4,
   "metadata": {},
   "outputs": [],
   "source": [
    "class CurveFittingProblem(Problem):\n",
    "\n",
    "    def __init__(self):\n",
    "        super().__init__(n_var=4,\n",
    "                         n_obj=1,\n",
    "                         n_constr=0,\n",
    "                         xl=-10.0,\n",
    "                         xu=10.0, vtype=float)    \n",
    "\n",
    "    def _evaluate(self, X, out, *args, **kwargs):\n",
    "        Y = np.zeros((X.shape[0], 1))\n",
    "        for i, coeffs in enumerate(X):\n",
    "            y_pred = np.polyval(coeffs, x)\n",
    "            mse = np.mean((y - y_pred)**2)\n",
    "            Y[i] = mse\n",
    "        out[\"F\"] = Y"
   ]
  },
  {
   "attachments": {},
   "cell_type": "markdown",
   "metadata": {},
   "source": [
    "### Define and run the solver for the problem"
   ]
  },
  {
   "cell_type": "code",
   "execution_count": 5,
   "metadata": {},
   "outputs": [
    {
     "name": "stdout",
     "output_type": "stream",
     "text": [
      "=================================================\n",
      "n_gen  |  n_eval  |     f_avg     |     f_min    \n",
      "=================================================\n",
      "     1 |       50 |  1.703105E+05 |  1.292856E+02\n",
      "     2 |      100 |  2.192395E+04 |  5.385156E+01\n",
      "     3 |      150 |  3.910957E+03 |  1.350000E+01\n",
      "     4 |      200 |  5.138539E+02 |  1.350000E+01\n",
      "     5 |      250 |  2.659513E+02 |  1.350000E+01\n",
      "     6 |      300 |  1.987486E+02 |  1.350000E+01\n",
      "     7 |      350 |  1.388156E+02 |  1.350000E+01\n",
      "     8 |      400 |  9.885485E+01 |  3.3750000000\n",
      "     9 |      450 |  6.377059E+01 |  3.3750000000\n",
      "    10 |      500 |  3.376860E+01 |  3.3750000000\n",
      "    11 |      550 |  2.071391E+01 |  1.0000000000\n",
      "    12 |      600 |  1.600531E+01 |  0.000000E+00\n",
      "    13 |      650 |  1.282172E+01 |  0.000000E+00\n",
      "    14 |      700 |  1.186469E+01 |  0.000000E+00\n",
      "    15 |      750 |  1.150563E+01 |  0.000000E+00\n",
      "    16 |      800 |  1.118313E+01 |  0.000000E+00\n",
      "    17 |      850 |  1.065859E+01 |  0.000000E+00\n",
      "    18 |      900 |  1.045359E+01 |  0.000000E+00\n",
      "    19 |      950 |  1.045359E+01 |  0.000000E+00\n",
      "    20 |     1000 |  1.045359E+01 |  0.000000E+00\n",
      "    21 |     1050 |  1.045359E+01 |  0.000000E+00\n",
      "    22 |     1100 |  1.045359E+01 |  0.000000E+00\n",
      "    23 |     1150 |  1.045359E+01 |  0.000000E+00\n",
      "    24 |     1200 |  1.030156E+01 |  0.000000E+00\n",
      "    25 |     1250 |  1.030156E+01 |  0.000000E+00\n",
      "    26 |     1300 |  1.030156E+01 |  0.000000E+00\n",
      "    27 |     1350 |  1.030156E+01 |  0.000000E+00\n",
      "    28 |     1400 |  1.030156E+01 |  0.000000E+00\n",
      "    29 |     1450 |  1.030156E+01 |  0.000000E+00\n",
      "    30 |     1500 |  1.030156E+01 |  0.000000E+00\n",
      "    31 |     1550 |  1.030156E+01 |  0.000000E+00\n",
      "    32 |     1600 |  1.030156E+01 |  0.000000E+00\n",
      "    33 |     1650 |  1.030156E+01 |  0.000000E+00\n",
      "    34 |     1700 |  1.030156E+01 |  0.000000E+00\n",
      "    35 |     1750 |  1.030156E+01 |  0.000000E+00\n",
      "    36 |     1800 |  1.030156E+01 |  0.000000E+00\n",
      "    37 |     1850 |  1.030156E+01 |  0.000000E+00\n",
      "    38 |     1900 |  1.015156E+01 |  0.000000E+00\n",
      "    39 |     1950 |  1.015156E+01 |  0.000000E+00\n",
      "    40 |     2000 |  1.015156E+01 |  0.000000E+00\n",
      "    41 |     2050 |  1.015156E+01 |  0.000000E+00\n",
      "    42 |     2100 |  1.012656E+01 |  0.000000E+00\n",
      "    43 |     2150 |  1.012656E+01 |  0.000000E+00\n",
      "    44 |     2200 |  1.012656E+01 |  0.000000E+00\n",
      "    45 |     2250 |  1.012656E+01 |  0.000000E+00\n",
      "    46 |     2300 |  1.012656E+01 |  0.000000E+00\n",
      "    47 |     2350 |  1.012656E+01 |  0.000000E+00\n",
      "    48 |     2400 |  1.012656E+01 |  0.000000E+00\n",
      "    49 |     2450 |  1.012656E+01 |  0.000000E+00\n",
      "    50 |     2500 |  1.012656E+01 |  0.000000E+00\n",
      "    51 |     2550 |  1.012656E+01 |  0.000000E+00\n",
      "    52 |     2600 |  1.012656E+01 |  0.000000E+00\n",
      "    53 |     2650 |  1.012656E+01 |  0.000000E+00\n",
      "    54 |     2700 |  1.012656E+01 |  0.000000E+00\n",
      "    55 |     2750 |  1.012656E+01 |  0.000000E+00\n",
      "    56 |     2800 |  1.012656E+01 |  0.000000E+00\n",
      "    57 |     2850 |  1.012656E+01 |  0.000000E+00\n",
      "    58 |     2900 |  1.012656E+01 |  0.000000E+00\n",
      "    59 |     2950 |  1.012656E+01 |  0.000000E+00\n",
      "    60 |     3000 |  1.012656E+01 |  0.000000E+00\n",
      "    61 |     3050 |  1.012656E+01 |  0.000000E+00\n",
      "    62 |     3100 |  1.012656E+01 |  0.000000E+00\n",
      "    63 |     3150 |  1.012656E+01 |  0.000000E+00\n",
      "    64 |     3200 |  1.012656E+01 |  0.000000E+00\n",
      "    65 |     3250 |  1.012656E+01 |  0.000000E+00\n",
      "    66 |     3300 |  1.012656E+01 |  0.000000E+00\n",
      "    67 |     3350 |  1.012656E+01 |  0.000000E+00\n",
      "    68 |     3400 |  1.012656E+01 |  0.000000E+00\n",
      "    69 |     3450 |  1.012656E+01 |  0.000000E+00\n",
      "    70 |     3500 |  1.012656E+01 |  0.000000E+00\n",
      "    71 |     3550 |  1.012656E+01 |  0.000000E+00\n",
      "    72 |     3600 |  1.012656E+01 |  0.000000E+00\n",
      "    73 |     3650 |  1.012656E+01 |  0.000000E+00\n",
      "    74 |     3700 |  1.012656E+01 |  0.000000E+00\n",
      "    75 |     3750 |  1.012656E+01 |  0.000000E+00\n",
      "    76 |     3800 |  1.012656E+01 |  0.000000E+00\n",
      "    77 |     3850 |  1.012656E+01 |  0.000000E+00\n",
      "    78 |     3900 |  1.012656E+01 |  0.000000E+00\n",
      "    79 |     3950 |  1.012656E+01 |  0.000000E+00\n",
      "    80 |     4000 |  1.012656E+01 |  0.000000E+00\n",
      "    81 |     4050 |  1.012656E+01 |  0.000000E+00\n",
      "    82 |     4100 |  1.012656E+01 |  0.000000E+00\n",
      "    83 |     4150 |  1.012656E+01 |  0.000000E+00\n",
      "    84 |     4200 |  1.012656E+01 |  0.000000E+00\n",
      "    85 |     4250 |  1.012656E+01 |  0.000000E+00\n",
      "    86 |     4300 |  1.012656E+01 |  0.000000E+00\n",
      "    87 |     4350 |  1.012656E+01 |  0.000000E+00\n",
      "    88 |     4400 |  1.012656E+01 |  0.000000E+00\n",
      "    89 |     4450 |  1.012656E+01 |  0.000000E+00\n",
      "    90 |     4500 |  1.012656E+01 |  0.000000E+00\n",
      "    91 |     4550 |  1.012656E+01 |  0.000000E+00\n",
      "    92 |     4600 |  1.012656E+01 |  0.000000E+00\n",
      "    93 |     4650 |  1.012656E+01 |  0.000000E+00\n",
      "    94 |     4700 |  1.012656E+01 |  0.000000E+00\n",
      "    95 |     4750 |  1.012656E+01 |  0.000000E+00\n",
      "    96 |     4800 |  1.012656E+01 |  0.000000E+00\n",
      "    97 |     4850 |  1.012656E+01 |  0.000000E+00\n",
      "    98 |     4900 |  1.012656E+01 |  0.000000E+00\n",
      "    99 |     4950 |  1.012656E+01 |  0.000000E+00\n",
      "   100 |     5000 |  1.012656E+01 |  0.000000E+00\n"
     ]
    }
   ],
   "source": [
    "problem = CurveFittingProblem()\n",
    "\n",
    "algorithm = GA(\n",
    "    pop_size=50,\n",
    "    sampling=FloatRandomSampling(),\n",
    "    crossover=SBX(prob=0.8),\n",
    "    mutation = PolynomialMutation(prob=0.3, repair=RoundingRepair()),\n",
    "    eliminate_duplicates=True\n",
    ")\n",
    "\n",
    "res = minimize(problem, algorithm, ('n_gen', 100), seed=1, verbose=True)"
   ]
  },
  {
   "attachments": {},
   "cell_type": "markdown",
   "metadata": {},
   "source": [
    "### Print the four coefficients"
   ]
  },
  {
   "cell_type": "code",
   "execution_count": 6,
   "metadata": {},
   "outputs": [
    {
     "name": "stdout",
     "output_type": "stream",
     "text": [
      "Coefficients of the best-fit third-order polynomial:\n",
      "a = 2\n",
      "b = -3\n",
      "c = 4\n",
      "d = 1\n"
     ]
    }
   ],
   "source": [
    "best_coeffs = res.X\n",
    "print(\"Coefficients of the best-fit third-order polynomial:\")\n",
    "print(\"a =\", best_coeffs[0])\n",
    "print(\"b =\", best_coeffs[1])\n",
    "print(\"c =\", best_coeffs[2])\n",
    "print(\"d =\", best_coeffs[3])"
   ]
  },
  {
   "attachments": {},
   "cell_type": "markdown",
   "metadata": {},
   "source": [
    "### Plot the original data and the obtained third-order polynomial"
   ]
  },
  {
   "cell_type": "code",
   "execution_count": 7,
   "metadata": {},
   "outputs": [
    {
     "data": {
      "image/png": "[encoded data removed]",
      "text/plain": [
       "<Figure size 1000x600 with 1 Axes>"
      ]
     },
     "metadata": {},
     "output_type": "display_data"
    }
   ],
   "source": [
    "import matplotlib.pyplot as plt\n",
    "\n",
    "# Plot the original data\n",
    "plt.figure(figsize=(10, 6))\n",
    "plt.scatter(x, y, label=\"Original data\", color=\"blue\")\n",
    "\n",
    "# Calculate the obtained third-order polynomial\n",
    "x_plot = np.linspace(0, 6, 100)\n",
    "y_plot = np.polyval(best_coeffs, x_plot)\n",
    "\n",
    "# Plot the obtained third-order polynomial\n",
    "plt.plot(x_plot, y_plot, label=\"Obtained third-order polynomial\", color=\"red\")\n",
    "\n",
    "# Add labels and legend\n",
    "plt.xlabel(\"x\")\n",
    "plt.ylabel(\"y\")\n",
    "plt.legend()\n",
    "\n",
    "# Show the plot\n",
    "plt.show()\n",
    "# plt.savefig('CH08_F01_CurveFitting.png', format='png', dpi=300)"
   ]
  }
 ],
 "metadata": {
  "kernelspec": {
   "display_name": "ox",
   "language": "python",
   "name": "python3"
  },
  "language_info": {
   "codemirror_mode": {
    "name": "ipython",
    "version": 3
   },
   "file_extension": ".py",
   "mimetype": "text/x-python",
   "name": "python",
   "nbconvert_exporter": "python",
   "pygments_lexer": "ipython3",
   "version": "3.10.6"
  },
  "orig_nbformat": 4
 },
 "nbformat": 4,
 "nbformat_minor": 2
}
