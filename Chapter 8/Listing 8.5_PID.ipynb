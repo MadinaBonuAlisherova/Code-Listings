{
 "cells": [
  {
   "attachments": {},
   "cell_type": "markdown",
   "metadata": {},
   "source": [
    "# PID Tuning using GA"
   ]
  },
  {
   "cell_type": "code",
   "execution_count": 10,
   "metadata": {},
   "outputs": [],
   "source": [
    "import numpy as np\n",
    "import control\n",
    "import matplotlib.pyplot as plt\n",
    "import math\n",
    "from pymoo.algorithms.soo.nonconvex.ga import GA\n",
    "from pymoo.operators.crossover.pntx import PointCrossover\n",
    "from pymoo.operators.mutation.pm import PolynomialMutation\n",
    "from pymoo.operators.repair.rounding import RoundingRepair\n",
    "from pymoo.operators.sampling.rnd import FloatRandomSampling\n",
    "from pymoo.core.problem import Problem\n",
    "from pymoo.optimize import minimize"
   ]
  },
  {
   "attachments": {},
   "cell_type": "markdown",
   "metadata": {},
   "source": [
    "### Define the optimization problem for PID controller\n",
    "\n",
    "$TF=\\frac{K_ds^2+K_ps+K_i}{s^3+(K_d+10)s^2+(K_p+20)s+K_i}$"
   ]
  },
  {
   "cell_type": "code",
   "execution_count": 11,
   "metadata": {},
   "outputs": [],
   "source": [
    "# Transfer function of the PID controller\n",
    "def transfer_function(Kp,Ki,Kd):\n",
    "    num = np.array([Kd,Kp,Ki])\n",
    "    den = np.array([1,(Kd+10),(Kp+20),Ki])\n",
    "    T = control.tf(num, den)\n",
    "    t, y = control.step_response(T)\n",
    "    return T, t, y"
   ]
  },
  {
   "attachments": {},
   "cell_type": "markdown",
   "metadata": {},
   "source": [
    "### Define objective function"
   ]
  },
  {
   "cell_type": "code",
   "execution_count": 12,
   "metadata": {},
   "outputs": [],
   "source": [
    "def objective_function(t, error, Kp,Ki,Kd, criterion):\n",
    "\n",
    "    if criterion == 1:\n",
    "        # ITAE (Integral Time Absolute Error)\n",
    "        ITAE = np.trapz(t, t*error)\n",
    "        objfnc= ITAE\n",
    "    elif criterion == 2:\n",
    "        # ITSE (Integral Time Square Error)\n",
    "        ITSE = np.trapz(t, t*error**2)\n",
    "        objfnc= ITSE\n",
    "    elif criterion == 3:\n",
    "        # IAE (Integral Absolute Error)\n",
    "        IAE =  np.trapz(t, error)\n",
    "        objfnc= IAE\n",
    "    elif criterion == 4:\n",
    "        # ISE (Integral Squared Error)\n",
    "        ISE = np.trapz(t, error**2)\n",
    "        objfnc= ISE\n",
    "    elif criterion == 5:\n",
    "        T, _, _ =transfer_function(Kp,Ki,Kd)\n",
    "        info = control.step_info(T)\n",
    "        beta = 1\n",
    "        Mp = info['Overshoot']\n",
    "        tr = info['RiseTime']\n",
    "        ts = info['SettlingTime']\n",
    "        ess = abs(1-info['SteadyStateValue'])\n",
    "        W = ((1-math.exp(-beta))*(Mp+ess))+((math.exp(-beta))*(ts-tr))\n",
    "        objfnc=W;      \n",
    "        \n",
    "    return objfnc"
   ]
  },
  {
   "cell_type": "code",
   "execution_count": 13,
   "metadata": {},
   "outputs": [],
   "source": [
    "class PIDProblem(Problem):\n",
    "\n",
    "    def __init__(self):\n",
    "        super().__init__(n_var=3,\n",
    "                         n_obj=1,\n",
    "                         n_constr=0,\n",
    "                         xl=0,\n",
    "                         xu=100, vtype=float)    \n",
    "\n",
    "    def _evaluate(self, X, out, *args, **kwargs):\n",
    "        f = np.zeros((X.shape[0], 1))   \n",
    "        for i, params in enumerate(X):\n",
    "            Kp, Ki, Kd = params\n",
    "            T, t, y =transfer_function(Kp,Ki,Kd)\n",
    "            error = 1 - y\n",
    "            f[i]=objective_function(t, np.abs(error), Kp,Ki,Kd, 5)\n",
    "            \n",
    "        out[\"F\"] = f"
   ]
  },
  {
   "attachments": {},
   "cell_type": "markdown",
   "metadata": {},
   "source": [
    "### Define the solver and run for the PID problem"
   ]
  },
  {
   "cell_type": "code",
   "execution_count": 14,
   "metadata": {},
   "outputs": [
    {
     "name": "stdout",
     "output_type": "stream",
     "text": [
      "=================================================\n",
      "n_gen  |  n_eval  |     f_avg     |     f_min    \n",
      "=================================================\n",
      "     1 |       50 |  5.6051809480 |  0.3169471710\n",
      "     2 |      100 |  1.0155865528 |  0.3054194542\n",
      "     3 |      150 |  0.5555432080 |  0.3054194542\n",
      "     4 |      200 |  0.3874277859 |  0.2774022724\n",
      "     5 |      250 |  0.3398688616 |  0.2774022724\n",
      "     6 |      300 |  0.3186410488 |  0.2774022724\n",
      "     7 |      350 |  0.2951772482 |  0.2243011434\n",
      "     8 |      400 |  0.2826954055 |  0.2132911618\n",
      "     9 |      450 |  0.2644919227 |  0.1056909273\n",
      "    10 |      500 |  0.2515627977 |  0.1056909273\n",
      "    11 |      550 |  0.2263186901 |  0.0979887859\n",
      "    12 |      600 |  0.2014200160 |  0.0854094978\n",
      "    13 |      650 |  0.1801004250 |  0.0843328972\n",
      "    14 |      700 |  0.1542581846 |  0.0843328972\n",
      "    15 |      750 |  0.1283395921 |  0.0697875098\n",
      "    16 |      800 |  0.1119524283 |  0.0697875098\n",
      "    17 |      850 |  0.0979695273 |  0.0602709428\n",
      "    18 |      900 |  0.0933380276 |  0.0602709428\n",
      "    19 |      950 |  0.0910727958 |  0.0602709428\n",
      "    20 |     1000 |  0.0907120547 |  0.0602709428\n",
      "    21 |     1050 |  0.0904273991 |  0.0602709428\n",
      "    22 |     1100 |  0.0891566305 |  0.0601381715\n",
      "    23 |     1150 |  0.0887258681 |  0.0601381715\n",
      "    24 |     1200 |  0.0887258681 |  0.0601381715\n",
      "    25 |     1250 |  0.0879649146 |  0.0601381715\n",
      "    26 |     1300 |  0.0879649146 |  0.0601381715\n",
      "    27 |     1350 |  0.0870127226 |  0.0601381715\n",
      "    28 |     1400 |  0.0870127226 |  0.0601381715\n",
      "    29 |     1450 |  0.0863649402 |  0.0601381715\n",
      "    30 |     1500 |  0.0856260942 |  0.0601381715\n",
      "    31 |     1550 |  0.0843984131 |  0.0601381715\n",
      "    32 |     1600 |  0.0835728811 |  0.0600039499\n",
      "    33 |     1650 |  0.0835728811 |  0.0600039499\n",
      "    34 |     1700 |  0.0829782696 |  0.0600039499\n",
      "    35 |     1750 |  0.0817114769 |  0.0600039499\n",
      "    36 |     1800 |  0.0812182609 |  0.0600039499\n",
      "    37 |     1850 |  0.0802661316 |  0.0600039499\n",
      "    38 |     1900 |  0.0786016667 |  0.0600039499\n",
      "    39 |     1950 |  0.0781424650 |  0.0600039499\n",
      "    40 |     2000 |  0.0777059837 |  0.0600039499\n",
      "    41 |     2050 |  0.0777059837 |  0.0600039499\n",
      "    42 |     2100 |  0.0777059837 |  0.0600039499\n",
      "    43 |     2150 |  0.0777059837 |  0.0600039499\n",
      "    44 |     2200 |  0.0774646998 |  0.0600039499\n",
      "    45 |     2250 |  0.0774646998 |  0.0600039499\n",
      "    46 |     2300 |  0.0774646998 |  0.0600039499\n",
      "    47 |     2350 |  0.0774646998 |  0.0600039499\n",
      "    48 |     2400 |  0.0774646998 |  0.0600039499\n",
      "    49 |     2450 |  0.0772370238 |  0.0600039499\n",
      "    50 |     2500 |  0.0771874043 |  0.0600039499\n",
      "    51 |     2550 |  0.0771874043 |  0.0600039499\n",
      "    52 |     2600 |  0.0771874043 |  0.0600039499\n",
      "    53 |     2650 |  0.0771874043 |  0.0600039499\n",
      "    54 |     2700 |  0.0771874043 |  0.0600039499\n",
      "    55 |     2750 |  0.0771874043 |  0.0600039499\n",
      "    56 |     2800 |  0.0771874043 |  0.0600039499\n",
      "    57 |     2850 |  0.0771874043 |  0.0600039499\n",
      "    58 |     2900 |  0.0771874043 |  0.0600039499\n",
      "    59 |     2950 |  0.0771874043 |  0.0600039499\n",
      "    60 |     3000 |  0.0771874043 |  0.0600039499\n"
     ]
    }
   ],
   "source": [
    "problem = PIDProblem()\n",
    "\n",
    "algorithm = GA(\n",
    "    pop_size=50,\n",
    "    sampling=FloatRandomSampling(),\n",
    "    crossover=PointCrossover(prob=0.8, n_points=2),\n",
    "    mutation = PolynomialMutation(prob=0.3, repair=RoundingRepair()),\n",
    "    eliminate_duplicates=True\n",
    ")\n",
    "\n",
    "res = minimize(problem, algorithm, ('n_gen', 60), seed=1, verbose=True)"
   ]
  },
  {
   "attachments": {},
   "cell_type": "markdown",
   "metadata": {},
   "source": [
    "### Print the results"
   ]
  },
  {
   "cell_type": "code",
   "execution_count": 15,
   "metadata": {},
   "outputs": [
    {
     "name": "stdout",
     "output_type": "stream",
     "text": [
      "Optimal PID controller parameters:\n",
      "Kp = 49\n",
      "Ki = 95\n",
      "Kd = 2\n"
     ]
    }
   ],
   "source": [
    "best_params = res.X\n",
    "print(\"Optimal PID controller parameters:\")\n",
    "print(\"Kp =\", best_params[0])\n",
    "print(\"Ki =\", best_params[1])\n",
    "print(\"Kd =\", best_params[2])"
   ]
  },
  {
   "attachments": {},
   "cell_type": "markdown",
   "metadata": {},
   "source": [
    "### Visualize the time response"
   ]
  },
  {
   "cell_type": "code",
   "execution_count": 16,
   "metadata": {},
   "outputs": [
    {
     "data": {
      "image/png": "[encoded data removed]",
      "text/plain": [
       "<Figure size 640x480 with 1 Axes>"
      ]
     },
     "metadata": {},
     "output_type": "display_data"
    }
   ],
   "source": [
    "Kp = best_params[0]\n",
    "Ki = best_params[1]\n",
    "Kd = best_params[2]\n",
    "\n",
    "T, t, y =transfer_function(Kp,Ki,Kd)\n",
    "\n",
    "plt.plot(t,y)\n",
    "plt.title(\"Step Response\")\n",
    "plt.xlabel(\"Time (s)\")\n",
    "plt.grid()\n",
    "# plt.savefig('CH08_F19.png', format='png', dpi=300)"
   ]
  },
  {
   "attachments": {},
   "cell_type": "markdown",
   "metadata": {},
   "source": [
    "### Step response characteristics (Rise time, Settling Time, Peak and others)"
   ]
  },
  {
   "cell_type": "code",
   "execution_count": 17,
   "metadata": {},
   "outputs": [
    {
     "data": {
      "text/plain": [
       "{'RiseTime': 0.3533999009039424,\n",
       " 'SettlingTime': 0.5165075474749927,\n",
       " 'SettlingMin': 0.9241426860361831,\n",
       " 'SettlingMax': 1.0,\n",
       " 'Overshoot': 0,\n",
       " 'Undershoot': 0,\n",
       " 'Peak': 0.9998667165836661,\n",
       " 'PeakTime': 3.6155528323249495,\n",
       " 'SteadyStateValue': 1.0}"
      ]
     },
     "execution_count": 17,
     "metadata": {},
     "output_type": "execute_result"
    }
   ],
   "source": [
    "control.step_info(T)"
   ]
  },
  {
   "attachments": {},
   "cell_type": "markdown",
   "metadata": {},
   "source": [
    "### Check stability  [Optional]\n",
    "\n",
    "<i>Asymptotically Stable System</i>\n",
    "* All the poles ley in the left half plane\n",
    "* All real parts of the poles are negative\n",
    "\n",
    "<i>Marginally Stable System</i>\n",
    "* Poles coincide in the imaginary axis\n",
    "\n",
    "<i>Unstable System</i>\n",
    "* At least one pole lies in the right half plane (has real part greater than zero). \n",
    "\n",
    "<i>Note</i>: Transfer function poles refer to the values of the complex variable in the Laplace domain, denoted as 's', that cause the denominator of the transfer function to become zero. While transfer function zeros refer to the values of the complex variable in the Laplace domain that cause the numerator of the transfer function to become zero. "
   ]
  },
  {
   "cell_type": "code",
   "execution_count": 18,
   "metadata": {},
   "outputs": [
    {
     "name": "stdout",
     "output_type": "stream",
     "text": [
      "### Stability Analysis ####\n",
      "p = [-5.04471659+4.9268954j -5.04471659-4.9268954j -1.91056682+0.j       ]\n",
      "Asymptotically Stable System\n"
     ]
    },
    {
     "data": {
      "text/plain": [
       "(array([-5.04471659+4.9268954j, -5.04471659-4.9268954j,\n",
       "        -1.91056682+0.j       ]),\n",
       " array([-22.37731455+0.j,  -2.12268545+0.j]))"
      ]
     },
     "execution_count": 18,
     "metadata": {},
     "output_type": "execute_result"
    },
    {
     "data": {
      "image/png": "[encoded data removed]",
      "text/plain": [
       "<Figure size 640x480 with 1 Axes>"
      ]
     },
     "metadata": {},
     "output_type": "display_data"
    }
   ],
   "source": [
    "# Poles\n",
    "p = control.pole(T)\n",
    "\n",
    "print(\"### Stability Analysis ####\")\n",
    "print ('p =', p)\n",
    "\n",
    "if np.all(np.real(p)<0): \n",
    "    print(\"Asymptotically Stable System\")\n",
    "elif np.any(np.real(p)==0):\n",
    "    print(\"Marginally Stable System\")\n",
    "else:\n",
    "    print(\"Unstable System\")\n",
    "\n",
    "# Visualize poles and zeros using pole-zero plot. Cross represents pole and circule represent zero\n",
    "control.pzmap(T)"
   ]
  }
 ],
 "metadata": {
  "kernelspec": {
   "display_name": "ox",
   "language": "python",
   "name": "python3"
  },
  "language_info": {
   "codemirror_mode": {
    "name": "ipython",
    "version": 3
   },
   "file_extension": ".py",
   "mimetype": "text/x-python",
   "name": "python",
   "nbconvert_exporter": "python",
   "pygments_lexer": "ipython3",
   "version": "3.10.6"
  },
  "orig_nbformat": 4
 },
 "nbformat": 4,
 "nbformat_minor": 2
}
