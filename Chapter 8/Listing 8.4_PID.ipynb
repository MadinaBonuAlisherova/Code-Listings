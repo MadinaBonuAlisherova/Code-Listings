{
 "cells": [
  {
   "attachments": {},
   "cell_type": "markdown",
   "metadata": {},
   "source": [
    "# PID Tuning using GA"
   ]
  },
  {
   "cell_type": "code",
   "execution_count": 37,
   "metadata": {},
   "outputs": [],
   "source": [
    "import numpy as np\n",
    "import control\n",
    "import matplotlib.pyplot as plt\n",
    "from pymoo.algorithms.soo.nonconvex.ga import GA\n",
    "from pymoo.operators.crossover.pntx import PointCrossover\n",
    "from pymoo.operators.mutation.pm import PolynomialMutation\n",
    "from pymoo.operators.repair.rounding import RoundingRepair\n",
    "from pymoo.operators.sampling.rnd import FloatRandomSampling\n",
    "from pymoo.core.problem import Problem\n",
    "from pymoo.optimize import minimize"
   ]
  },
  {
   "attachments": {},
   "cell_type": "markdown",
   "metadata": {},
   "source": [
    "### Define fitness function"
   ]
  },
  {
   "cell_type": "code",
   "execution_count": 38,
   "metadata": {},
   "outputs": [],
   "source": [
    "e=0.0000001 # to avoid division by zero\n",
    "def fitness_function(t, error, criteria):\n",
    "    # error=np.abs(1 - y)\n",
    "\n",
    "    if criteria == 1:\n",
    "        # ITAE (Integral of time multiplied absolute error)\n",
    "        ITAE = np.trapz(t, error * t)\n",
    "        fitness= 1/(ITAE+e)\n",
    "    elif criteria == 2:\n",
    "        # ITSE (Integral of time multiplied squared error)\n",
    "        ITSE = np.trapz(t, t * error**2)\n",
    "        fitness= 1/(ITSE+e)\n",
    "    elif criteria == 3:\n",
    "        # ITAE (Integral of time multiplied absolute error)\n",
    "        IAE =  np.trapz(t, error)\n",
    "        fitness= 1/(IAE+e)\n",
    "    elif criteria == 4:\n",
    "        # ITSE (Integral of time multiplied by squared error)\n",
    "        ISE = np.trapz(t, error**2)\n",
    "        fitness= 1/(ISE+e)\n",
    "        \n",
    "    return fitness"
   ]
  },
  {
   "attachments": {},
   "cell_type": "markdown",
   "metadata": {},
   "source": [
    "### Define the optimization problem for PID controller\n",
    "\n",
    "$TF=\\frac{K_ds^2+K_ps+K_i}{s^3+(K_d+10)s^2+(K_p+20)s+K_i}$"
   ]
  },
  {
   "cell_type": "code",
   "execution_count": 39,
   "metadata": {},
   "outputs": [],
   "source": [
    "class PIDProblem(Problem):\n",
    "\n",
    "    def __init__(self):\n",
    "        super().__init__(n_var=3,\n",
    "                         n_obj=1,\n",
    "                         n_constr=0,\n",
    "                         xl=0,\n",
    "                         xu=100, vtype=float)    \n",
    "\n",
    "    def _evaluate(self, X, out, *args, **kwargs):\n",
    "        metric = np.zeros((X.shape[0], 1))\n",
    "        for i, params in enumerate(X):\n",
    "            Kp, Ki, Kd = params\n",
    "            num = np.array([Kd,Kp,Ki])\n",
    "            den = np.array([1,(Kd+10),(Kp+20),Ki])\n",
    "            T = control.tf(num, den)\n",
    "            t, y = control.step_response(T)\n",
    "            error = 1 - y\n",
    "            metric[i]=fitness_function(t, np.abs(error), 1)\n",
    "        out[\"F\"] = metric"
   ]
  },
  {
   "attachments": {},
   "cell_type": "markdown",
   "metadata": {},
   "source": [
    "### Define the solver and run for the PID problem"
   ]
  },
  {
   "cell_type": "code",
   "execution_count": 40,
   "metadata": {},
   "outputs": [
    {
     "name": "stdout",
     "output_type": "stream",
     "text": [
      "=================================================\n",
      "n_gen  |  n_eval  |     f_avg     |     f_min    \n",
      "=================================================\n",
      "     1 |       50 | -2.259704E+00 | -1.208426E+01\n",
      "     2 |      100 | -5.545779E+00 | -1.824538E+01\n",
      "     3 |      150 | -8.914928E+00 | -1.824538E+01\n",
      "     4 |      200 | -1.268990E+01 | -1.952619E+01\n",
      "     5 |      250 | -1.596634E+01 | -2.329394E+01\n",
      "     6 |      300 | -1.995658E+01 | -2.642599E+01\n",
      "     7 |      350 | -2.224631E+01 | -2.850232E+01\n",
      "     8 |      400 | -2.438462E+01 | -2.850232E+01\n",
      "     9 |      450 | -2.565199E+01 | -2.850232E+01\n",
      "    10 |      500 | -2.649893E+01 | -2.850232E+01\n",
      "    11 |      550 | -2.714609E+01 | -3.058097E+01\n",
      "    12 |      600 | -2.745546E+01 | -3.058097E+01\n",
      "    13 |      650 | -2.757816E+01 | -3.058097E+01\n",
      "    14 |      700 | -2.769888E+01 | -3.058097E+01\n",
      "    15 |      750 | -2.786319E+01 | -3.058097E+01\n",
      "    16 |      800 | -2.791950E+01 | -3.058097E+01\n",
      "    17 |      850 | -2.795884E+01 | -3.058097E+01\n",
      "    18 |      900 | -2.798469E+01 | -3.058097E+01\n",
      "    19 |      950 | -2.799219E+01 | -3.058097E+01\n",
      "    20 |     1000 | -2.799219E+01 | -3.058097E+01\n",
      "    21 |     1050 | -2.799219E+01 | -3.058097E+01\n",
      "    22 |     1100 | -2.799219E+01 | -3.058097E+01\n",
      "    23 |     1150 | -2.799219E+01 | -3.058097E+01\n",
      "    24 |     1200 | -2.799735E+01 | -3.058097E+01\n",
      "    25 |     1250 | -2.799735E+01 | -3.058097E+01\n",
      "    26 |     1300 | -2.799797E+01 | -3.058097E+01\n",
      "    27 |     1350 | -2.799797E+01 | -3.058097E+01\n",
      "    28 |     1400 | -2.800868E+01 | -3.058097E+01\n",
      "    29 |     1450 | -2.800868E+01 | -3.058097E+01\n",
      "    30 |     1500 | -2.800868E+01 | -3.058097E+01\n",
      "    31 |     1550 | -2.800868E+01 | -3.058097E+01\n",
      "    32 |     1600 | -2.800868E+01 | -3.058097E+01\n",
      "    33 |     1650 | -2.807185E+01 | -3.058097E+01\n",
      "    34 |     1700 | -2.810786E+01 | -3.058097E+01\n",
      "    35 |     1750 | -2.817458E+01 | -3.058097E+01\n",
      "    36 |     1800 | -2.817458E+01 | -3.058097E+01\n",
      "    37 |     1850 | -2.817458E+01 | -3.058097E+01\n",
      "    38 |     1900 | -2.817458E+01 | -3.058097E+01\n",
      "    39 |     1950 | -2.817458E+01 | -3.058097E+01\n",
      "    40 |     2000 | -2.817458E+01 | -3.058097E+01\n",
      "    41 |     2050 | -2.817458E+01 | -3.058097E+01\n",
      "    42 |     2100 | -2.817458E+01 | -3.058097E+01\n",
      "    43 |     2150 | -2.817458E+01 | -3.058097E+01\n",
      "    44 |     2200 | -2.817458E+01 | -3.058097E+01\n",
      "    45 |     2250 | -2.817458E+01 | -3.058097E+01\n",
      "    46 |     2300 | -2.817458E+01 | -3.058097E+01\n",
      "    47 |     2350 | -2.817458E+01 | -3.058097E+01\n",
      "    48 |     2400 | -2.817458E+01 | -3.058097E+01\n",
      "    49 |     2450 | -2.817458E+01 | -3.058097E+01\n",
      "    50 |     2500 | -2.817458E+01 | -3.058097E+01\n",
      "    51 |     2550 | -2.817458E+01 | -3.058097E+01\n",
      "    52 |     2600 | -2.817458E+01 | -3.058097E+01\n",
      "    53 |     2650 | -2.817458E+01 | -3.058097E+01\n",
      "    54 |     2700 | -2.817458E+01 | -3.058097E+01\n",
      "    55 |     2750 | -2.817458E+01 | -3.058097E+01\n",
      "    56 |     2800 | -2.817458E+01 | -3.058097E+01\n",
      "    57 |     2850 | -2.817458E+01 | -3.058097E+01\n",
      "    58 |     2900 | -2.817458E+01 | -3.058097E+01\n",
      "    59 |     2950 | -2.817458E+01 | -3.058097E+01\n",
      "    60 |     3000 | -2.817458E+01 | -3.058097E+01\n",
      "    61 |     3050 | -2.817458E+01 | -3.058097E+01\n",
      "    62 |     3100 | -2.817458E+01 | -3.058097E+01\n",
      "    63 |     3150 | -2.817458E+01 | -3.058097E+01\n",
      "    64 |     3200 | -2.817458E+01 | -3.058097E+01\n",
      "    65 |     3250 | -2.817458E+01 | -3.058097E+01\n",
      "    66 |     3300 | -2.817458E+01 | -3.058097E+01\n",
      "    67 |     3350 | -2.817458E+01 | -3.058097E+01\n",
      "    68 |     3400 | -2.817458E+01 | -3.058097E+01\n",
      "    69 |     3450 | -2.817458E+01 | -3.058097E+01\n",
      "    70 |     3500 | -2.817458E+01 | -3.058097E+01\n",
      "    71 |     3550 | -2.817458E+01 | -3.058097E+01\n",
      "    72 |     3600 | -2.817458E+01 | -3.058097E+01\n",
      "    73 |     3650 | -2.817458E+01 | -3.058097E+01\n",
      "    74 |     3700 | -2.817458E+01 | -3.058097E+01\n",
      "    75 |     3750 | -2.817458E+01 | -3.058097E+01\n",
      "    76 |     3800 | -2.817458E+01 | -3.058097E+01\n",
      "    77 |     3850 | -2.817458E+01 | -3.058097E+01\n",
      "    78 |     3900 | -2.817458E+01 | -3.058097E+01\n",
      "    79 |     3950 | -2.817458E+01 | -3.058097E+01\n",
      "    80 |     4000 | -2.817458E+01 | -3.058097E+01\n",
      "    81 |     4050 | -2.817458E+01 | -3.058097E+01\n",
      "    82 |     4100 | -2.817458E+01 | -3.058097E+01\n",
      "    83 |     4150 | -2.817458E+01 | -3.058097E+01\n",
      "    84 |     4200 | -2.817458E+01 | -3.058097E+01\n",
      "    85 |     4250 | -2.817458E+01 | -3.058097E+01\n",
      "    86 |     4300 | -2.817458E+01 | -3.058097E+01\n",
      "    87 |     4350 | -2.817458E+01 | -3.058097E+01\n",
      "    88 |     4400 | -2.817458E+01 | -3.058097E+01\n",
      "    89 |     4450 | -2.817458E+01 | -3.058097E+01\n",
      "    90 |     4500 | -2.817458E+01 | -3.058097E+01\n",
      "    91 |     4550 | -2.817458E+01 | -3.058097E+01\n",
      "    92 |     4600 | -2.817458E+01 | -3.058097E+01\n",
      "    93 |     4650 | -2.817458E+01 | -3.058097E+01\n",
      "    94 |     4700 | -2.817458E+01 | -3.058097E+01\n",
      "    95 |     4750 | -2.817458E+01 | -3.058097E+01\n",
      "    96 |     4800 | -2.817458E+01 | -3.058097E+01\n",
      "    97 |     4850 | -2.817458E+01 | -3.058097E+01\n",
      "    98 |     4900 | -2.817458E+01 | -3.058097E+01\n",
      "    99 |     4950 | -2.817458E+01 | -3.058097E+01\n",
      "   100 |     5000 | -2.817458E+01 | -3.058097E+01\n"
     ]
    }
   ],
   "source": [
    "problem = PIDProblem()\n",
    "\n",
    "algorithm = GA(\n",
    "    pop_size=50,\n",
    "    sampling=FloatRandomSampling(),\n",
    "    crossover=PointCrossover(prob=0.8, n_points=2),\n",
    "    mutation = PolynomialMutation(prob=0.3, repair=RoundingRepair()),\n",
    "    eliminate_duplicates=True\n",
    ")\n",
    "\n",
    "res = minimize(problem, algorithm, ('n_gen', 100), seed=1, verbose=True)"
   ]
  },
  {
   "attachments": {},
   "cell_type": "markdown",
   "metadata": {},
   "source": [
    "### Print the results"
   ]
  },
  {
   "cell_type": "code",
   "execution_count": 41,
   "metadata": {},
   "outputs": [
    {
     "name": "stdout",
     "output_type": "stream",
     "text": [
      "Optimal PID controller parameters:\n",
      "Kp = 46\n",
      "Ki = 100\n",
      "Kd = 3\n"
     ]
    }
   ],
   "source": [
    "best_params = res.X\n",
    "print(\"Optimal PID controller parameters:\")\n",
    "print(\"Kp =\", best_params[0])\n",
    "print(\"Ki =\", best_params[1])\n",
    "print(\"Kd =\", best_params[2])"
   ]
  },
  {
   "attachments": {},
   "cell_type": "markdown",
   "metadata": {},
   "source": [
    "### Visualize the time response"
   ]
  },
  {
   "cell_type": "code",
   "execution_count": 42,
   "metadata": {},
   "outputs": [
    {
     "name": "stdout",
     "output_type": "stream",
     "text": [
      "T(s) = \n",
      "   3 s^2 + 46 s + 100\n",
      "-------------------------\n",
      "s^3 + 13 s^2 + 66 s + 100\n",
      "\n"
     ]
    },
    {
     "data": {
      "image/png": "[encoded data removed]",
      "text/plain": [
       "<Figure size 640x480 with 1 Axes>"
      ]
     },
     "metadata": {},
     "output_type": "display_data"
    }
   ],
   "source": [
    "Kp = best_params[0]\n",
    "Ki = best_params[1]\n",
    "Kd = best_params[2]\n",
    "\n",
    "# Close loo transfer function T:\n",
    "num = np.array([Kd,Kp,Ki])\n",
    "den = np.array([1,(Kd+10),(Kp+20),Ki])\n",
    "\n",
    "T = control.tf(num, den)\n",
    "print ('T(s) =', T)\n",
    "t, y = control.step_response(T)\n",
    "plt.plot(t,y)\n",
    "plt.title(\"Step Response\")\n",
    "plt.xlabel(\"Time (s)\")\n",
    "plt.grid()"
   ]
  },
  {
   "attachments": {},
   "cell_type": "markdown",
   "metadata": {},
   "source": [
    "### Check stability  [Optional]\n",
    "\n",
    "<i>Asymptotically Stable System</i>\n",
    "* All the poles ley in the left half plane\n",
    "* All real parts of the pooles are negative\n",
    "\n",
    "<i>Marginally Stable System</i>\n",
    "* Poles coincide in the imaginary axis\n",
    "\n",
    "<i>Unstable System</i>\n",
    "* At least one pole lies in the right half plane (has real part greater than zero). \n"
   ]
  },
  {
   "cell_type": "code",
   "execution_count": 43,
   "metadata": {},
   "outputs": [
    {
     "name": "stdout",
     "output_type": "stream",
     "text": [
      "p = [-5.2340361+3.47857199j -5.2340361-3.47857199j -2.5319278+0.j        ]\n"
     ]
    },
    {
     "data": {
      "text/plain": [
       "(array([-5.2340361+3.47857199j, -5.2340361-3.47857199j,\n",
       "        -2.5319278+0.j        ]),\n",
       " array([-12.71091532+0.j,  -2.62241802+0.j]))"
      ]
     },
     "execution_count": 43,
     "metadata": {},
     "output_type": "execute_result"
    },
    {
     "data": {
      "image/png": "[encoded data removed]",
      "text/plain": [
       "<Figure size 640x480 with 1 Axes>"
      ]
     },
     "metadata": {},
     "output_type": "display_data"
    }
   ],
   "source": [
    "# Poles\n",
    "p = control.pole(T)\n",
    "print ('p =', p)\n",
    "\n",
    "control.pzmap(T)"
   ]
  }
 ],
 "metadata": {
  "kernelspec": {
   "display_name": "ox",
   "language": "python",
   "name": "python3"
  },
  "language_info": {
   "codemirror_mode": {
    "name": "ipython",
    "version": 3
   },
   "file_extension": ".py",
   "mimetype": "text/x-python",
   "name": "python",
   "nbconvert_exporter": "python",
   "pygments_lexer": "ipython3",
   "version": "3.10.6"
  },
  "orig_nbformat": 4
 },
 "nbformat": 4,
 "nbformat_minor": 2
}
