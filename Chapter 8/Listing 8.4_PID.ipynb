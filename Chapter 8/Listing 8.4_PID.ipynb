{
 "cells": [
  {
   "attachments": {},
   "cell_type": "markdown",
   "metadata": {},
   "source": [
    "# PID Tuning using GA"
   ]
  },
  {
   "cell_type": "code",
   "execution_count": 46,
   "metadata": {},
   "outputs": [],
   "source": [
    "import numpy as np\n",
    "import control\n",
    "import matplotlib.pyplot as plt\n",
    "from pymoo.algorithms.soo.nonconvex.ga import GA\n",
    "from pymoo.operators.crossover.pntx import PointCrossover\n",
    "from pymoo.operators.mutation.pm import PolynomialMutation\n",
    "from pymoo.operators.repair.rounding import RoundingRepair\n",
    "from pymoo.operators.sampling.rnd import FloatRandomSampling\n",
    "from pymoo.core.problem import Problem\n",
    "from pymoo.optimize import minimize"
   ]
  },
  {
   "attachments": {},
   "cell_type": "markdown",
   "metadata": {},
   "source": [
    "### Define objective function"
   ]
  },
  {
   "cell_type": "code",
   "execution_count": 47,
   "metadata": {},
   "outputs": [],
   "source": [
    "def objective_function(t, error, criterion):\n",
    "\n",
    "    if criterion == 1:\n",
    "        # ITAE (Integral Time Absolute Error)\n",
    "        ITAE = np.trapz(t, t*error)\n",
    "        objfnc= ITAE\n",
    "    elif criterion == 2:\n",
    "        # ITSE (Integral Time Square Error)\n",
    "        ITSE = np.trapz(t, t*error**2)\n",
    "        objfnc= ITSE\n",
    "    elif criterion == 3:\n",
    "        # IAE (Integral Absolute Error)\n",
    "        IAE =  np.trapz(t, error)\n",
    "        objfnc= IAE\n",
    "    elif criterion == 4:\n",
    "        # ISE (Integral Squared Error)\n",
    "        ISE = np.trapz(t, error**2)\n",
    "        objfnc= ISE\n",
    "        \n",
    "    return objfnc"
   ]
  },
  {
   "attachments": {},
   "cell_type": "markdown",
   "metadata": {},
   "source": [
    "### Define the optimization problem for PID controller\n",
    "\n",
    "$TF=\\frac{K_ds^2+K_ps+K_i}{s^3+(K_d+10)s^2+(K_p+20)s+K_i}$"
   ]
  },
  {
   "cell_type": "code",
   "execution_count": 48,
   "metadata": {},
   "outputs": [],
   "source": [
    "# Transfer function of the PID controller\n",
    "def transfer_function(Kp,Ki,Kd):\n",
    "    num = np.array([Kd,Kp,Ki])\n",
    "    den = np.array([1,(Kd+30),(Kp+10),Ki])\n",
    "    T = control.tf(num, den)\n",
    "    t, y = control.step_response(T)\n",
    "    return T, t, y"
   ]
  },
  {
   "cell_type": "code",
   "execution_count": 49,
   "metadata": {},
   "outputs": [],
   "source": [
    "class PIDProblem(Problem):\n",
    "\n",
    "    def __init__(self):\n",
    "        super().__init__(n_var=3,\n",
    "                         n_obj=1,\n",
    "                         n_constr=0,\n",
    "                         xl=0,\n",
    "                         xu=100, vtype=float)    \n",
    "\n",
    "    def _evaluate(self, X, out, *args, **kwargs):\n",
    "        f = np.zeros((X.shape[0], 1))\n",
    "        for i, params in enumerate(X):\n",
    "            Kp, Ki, Kd = params\n",
    "            _, t, y =transfer_function(Kp,Ki,Kd)\n",
    "            error = 1 - y\n",
    "            f[i]=objective_function(t, np.abs(error), 1)\n",
    "        out[\"F\"] = f"
   ]
  },
  {
   "attachments": {},
   "cell_type": "markdown",
   "metadata": {},
   "source": [
    "### Define the solver and run for the PID problem"
   ]
  },
  {
   "cell_type": "code",
   "execution_count": 50,
   "metadata": {},
   "outputs": [
    {
     "name": "stdout",
     "output_type": "stream",
     "text": [
      "=================================================\n",
      "n_gen  |  n_eval  |     f_avg     |     f_min    \n",
      "=================================================\n",
      "     1 |       50 | -1.498016E+01 | -2.550193E+02\n",
      "     2 |      100 | -3.217359E+01 | -2.550193E+02\n",
      "     3 |      150 | -5.457635E+01 | -2.550193E+02\n",
      "     4 |      200 | -8.868815E+01 | -2.550193E+02\n",
      "     5 |      250 | -2.080708E+02 | -7.082970E+02\n",
      "     6 |      300 | -3.312601E+02 | -7.555149E+02\n",
      "     7 |      350 | -4.964648E+02 | -8.593941E+02\n",
      "     8 |      400 | -6.963980E+02 | -8.593941E+02\n",
      "     9 |      450 | -7.302059E+02 | -8.593941E+02\n",
      "    10 |      500 | -7.693020E+02 | -8.877248E+02\n",
      "    11 |      550 | -8.070761E+02 | -8.877248E+02\n",
      "    12 |      600 | -8.312516E+02 | -9.727170E+02\n",
      "    13 |      650 | -8.590158E+02 | -9.727171E+02\n",
      "    14 |      700 | -8.858355E+02 | -9.821608E+02\n",
      "    15 |      750 | -9.105777E+02 | -9.821608E+02\n",
      "    16 |      800 | -9.347536E+02 | -1.001048E+03\n",
      "    17 |      850 | -9.598736E+02 | -1.010492E+03\n",
      "    18 |      900 | -9.808383E+02 | -1.010492E+03\n",
      "    19 |      950 | -9.917930E+02 | -1.010492E+03\n",
      "    20 |     1000 | -1.000292E+03 | -1.010492E+03\n",
      "    21 |     1050 | -1.002559E+03 | -1.010492E+03\n",
      "    22 |     1100 | -1.003881E+03 | -1.010492E+03\n",
      "    23 |     1150 | -1.005392E+03 | -1.010492E+03\n",
      "    24 |     1200 | -1.005958E+03 | -1.010492E+03\n",
      "    25 |     1250 | -1.006336E+03 | -1.010492E+03\n",
      "    26 |     1300 | -1.006714E+03 | -1.010492E+03\n",
      "    27 |     1350 | -1.007280E+03 | -1.010492E+03\n",
      "    28 |     1400 | -1.007469E+03 | -1.010492E+03\n",
      "    29 |     1450 | -1.007847E+03 | -1.010492E+03\n",
      "    30 |     1500 | -1.008036E+03 | -1.010492E+03\n",
      "    31 |     1550 | -1.008036E+03 | -1.010492E+03\n",
      "    32 |     1600 | -1.008413E+03 | -1.010492E+03\n",
      "    33 |     1650 | -1.008413E+03 | -1.010492E+03\n",
      "    34 |     1700 | -1.008413E+03 | -1.010492E+03\n",
      "    35 |     1750 | -1.008602E+03 | -1.010492E+03\n",
      "    36 |     1800 | -1.008602E+03 | -1.010492E+03\n",
      "    37 |     1850 | -1.008791E+03 | -1.010492E+03\n",
      "    38 |     1900 | -1.008980E+03 | -1.010492E+03\n",
      "    39 |     1950 | -1.009169E+03 | -1.010492E+03\n",
      "    40 |     2000 | -1.009357E+03 | -1.010492E+03\n",
      "    41 |     2050 | -1.009924E+03 | -1.010492E+03\n",
      "    42 |     2100 | -1.010113E+03 | -1.010492E+03\n",
      "    43 |     2150 | -1.010302E+03 | -1.010492E+03\n",
      "    44 |     2200 | -1.010490E+03 | -1.010492E+03\n",
      "    45 |     2250 | -1.010490E+03 | -1.010492E+03\n",
      "    46 |     2300 | -1.010490E+03 | -1.010492E+03\n",
      "    47 |     2350 | -1.010490E+03 | -1.010492E+03\n",
      "    48 |     2400 | -1.010490E+03 | -1.010492E+03\n",
      "    49 |     2450 | -1.010490E+03 | -1.010492E+03\n",
      "    50 |     2500 | -1.010490E+03 | -1.010492E+03\n",
      "    51 |     2550 | -1.010490E+03 | -1.010492E+03\n",
      "    52 |     2600 | -1.010490E+03 | -1.010492E+03\n",
      "    53 |     2650 | -1.010490E+03 | -1.010492E+03\n",
      "    54 |     2700 | -1.010490E+03 | -1.010492E+03\n",
      "    55 |     2750 | -1.010490E+03 | -1.010492E+03\n",
      "    56 |     2800 | -1.010490E+03 | -1.010492E+03\n",
      "    57 |     2850 | -1.010490E+03 | -1.010492E+03\n",
      "    58 |     2900 | -1.010490E+03 | -1.010492E+03\n",
      "    59 |     2950 | -1.010490E+03 | -1.010492E+03\n",
      "    60 |     3000 | -1.010490E+03 | -1.010492E+03\n",
      "    61 |     3050 | -1.010490E+03 | -1.010492E+03\n",
      "    62 |     3100 | -1.010490E+03 | -1.010492E+03\n",
      "    63 |     3150 | -1.010490E+03 | -1.010492E+03\n",
      "    64 |     3200 | -1.010490E+03 | -1.010492E+03\n",
      "    65 |     3250 | -1.010490E+03 | -1.010492E+03\n",
      "    66 |     3300 | -1.010490E+03 | -1.010492E+03\n",
      "    67 |     3350 | -1.010490E+03 | -1.010492E+03\n",
      "    68 |     3400 | -1.010490E+03 | -1.010492E+03\n",
      "    69 |     3450 | -1.010490E+03 | -1.010492E+03\n",
      "    70 |     3500 | -1.010490E+03 | -1.010492E+03\n"
     ]
    }
   ],
   "source": [
    "problem = PIDProblem()\n",
    "\n",
    "algorithm = GA(\n",
    "    pop_size=50,\n",
    "    sampling=FloatRandomSampling(),\n",
    "    crossover=PointCrossover(prob=0.8, n_points=2),\n",
    "    mutation = PolynomialMutation(prob=0.3, repair=RoundingRepair()),\n",
    "    eliminate_duplicates=True\n",
    ")\n",
    "\n",
    "res = minimize(problem, algorithm, ('n_gen', 70), seed=1, verbose=True)"
   ]
  },
  {
   "attachments": {},
   "cell_type": "markdown",
   "metadata": {},
   "source": [
    "### Print the results"
   ]
  },
  {
   "cell_type": "code",
   "execution_count": 51,
   "metadata": {},
   "outputs": [
    {
     "name": "stdout",
     "output_type": "stream",
     "text": [
      "Optimal PID controller parameters:\n",
      "Kp = 100\n",
      "Ki = 1\n",
      "Kd = 100\n"
     ]
    }
   ],
   "source": [
    "best_params = res.X\n",
    "print(\"Optimal PID controller parameters:\")\n",
    "print(\"Kp =\", best_params[0])\n",
    "print(\"Ki =\", best_params[1])\n",
    "print(\"Kd =\", best_params[2])"
   ]
  },
  {
   "attachments": {},
   "cell_type": "markdown",
   "metadata": {},
   "source": [
    "### Visualize the time response"
   ]
  },
  {
   "cell_type": "code",
   "execution_count": 56,
   "metadata": {},
   "outputs": [
    {
     "data": {
      "image/png": "[encoded data removed]",
      "text/plain": [
       "<Figure size 640x480 with 1 Axes>"
      ]
     },
     "metadata": {},
     "output_type": "display_data"
    }
   ],
   "source": [
    "Kp = best_params[0]\n",
    "Ki = best_params[1]\n",
    "Kd = best_params[2]\n",
    "\n",
    "T, t, y =transfer_function(Kp,Ki,Kd)\n",
    "\n",
    "plt.plot(t,y)\n",
    "plt.title(\"Step Response\")\n",
    "plt.xlabel(\"Time (s)\")\n",
    "plt.grid()\n",
    "# plt.savefig('CH08_F19.png', format='png', dpi=300)"
   ]
  },
  {
   "attachments": {},
   "cell_type": "markdown",
   "metadata": {},
   "source": [
    "### Step response characteristics (Rise time, Settling Time, Peak and others)"
   ]
  },
  {
   "cell_type": "code",
   "execution_count": 53,
   "metadata": {},
   "outputs": [
    {
     "data": {
      "text/plain": [
       "{'RiseTime': 2.8566525226803194,\n",
       " 'SettlingTime': 164.18234498773205,\n",
       " 'SettlingMin': 0.9012817516137268,\n",
       " 'SettlingMax': 1.0,\n",
       " 'Overshoot': 0,\n",
       " 'Undershoot': 0,\n",
       " 'Peak': 0.9999096338388097,\n",
       " 'PeakTime': 751.6003137304692,\n",
       " 'SteadyStateValue': 1.0}"
      ]
     },
     "execution_count": 53,
     "metadata": {},
     "output_type": "execute_result"
    }
   ],
   "source": [
    "control.step_info(T)"
   ]
  },
  {
   "attachments": {},
   "cell_type": "markdown",
   "metadata": {},
   "source": [
    "### Check stability  [Optional]\n",
    "\n",
    "<i>Asymptotically Stable System</i>\n",
    "* All the poles ley in the left half plane\n",
    "* All real parts of the pooles are negative\n",
    "\n",
    "<i>Marginally Stable System</i>\n",
    "* Poles coincide in the imaginary axis\n",
    "\n",
    "<i>Unstable System</i>\n",
    "* At least one pole lies in the right half plane (has real part greater than zero). \n"
   ]
  },
  {
   "cell_type": "code",
   "execution_count": 54,
   "metadata": {},
   "outputs": [
    {
     "name": "stdout",
     "output_type": "stream",
     "text": [
      "p = [-1.29148326e+02+0.j -8.42483158e-01+0.j -9.19072964e-03+0.j]\n"
     ]
    },
    {
     "data": {
      "text/plain": [
       "(array([-1.29148326e+02+0.j, -8.42483158e-01+0.j, -9.19072964e-03+0.j]),\n",
       " array([-0.98989795+0.j, -0.01010205+0.j]))"
      ]
     },
     "execution_count": 54,
     "metadata": {},
     "output_type": "execute_result"
    },
    {
     "data": {
      "image/png": "[encoded data removed]",
      "text/plain": [
       "<Figure size 640x480 with 1 Axes>"
      ]
     },
     "metadata": {},
     "output_type": "display_data"
    }
   ],
   "source": [
    "# Poles\n",
    "p = control.pole(T)\n",
    "print ('p =', p)\n",
    "\n",
    "control.pzmap(T)"
   ]
  }
 ],
 "metadata": {
  "kernelspec": {
   "display_name": "ox",
   "language": "python",
   "name": "python3"
  },
  "language_info": {
   "codemirror_mode": {
    "name": "ipython",
    "version": 3
   },
   "file_extension": ".py",
   "mimetype": "text/x-python",
   "name": "python",
   "nbconvert_exporter": "python",
   "pygments_lexer": "ipython3",
   "version": "3.10.6"
  },
  "orig_nbformat": 4
 },
 "nbformat": 4,
 "nbformat_minor": 2
}
