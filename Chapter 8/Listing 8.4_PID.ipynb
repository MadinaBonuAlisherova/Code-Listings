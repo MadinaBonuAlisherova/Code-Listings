{
 "cells": [
  {
   "attachments": {},
   "cell_type": "markdown",
   "metadata": {},
   "source": [
    "# PID Tuning using GA"
   ]
  },
  {
   "cell_type": "code",
   "execution_count": 30,
   "metadata": {},
   "outputs": [],
   "source": [
    "import numpy as np\n",
    "import control\n",
    "import matplotlib.pyplot as plt\n",
    "from pymoo.algorithms.soo.nonconvex.ga import GA\n",
    "from pymoo.operators.crossover.pntx import PointCrossover\n",
    "from pymoo.operators.mutation.pm import PolynomialMutation\n",
    "from pymoo.operators.repair.rounding import RoundingRepair\n",
    "from pymoo.operators.sampling.rnd import FloatRandomSampling\n",
    "from pymoo.core.problem import Problem\n",
    "from pymoo.optimize import minimize"
   ]
  },
  {
   "attachments": {},
   "cell_type": "markdown",
   "metadata": {},
   "source": [
    "### Define fitness function"
   ]
  },
  {
   "cell_type": "code",
   "execution_count": 31,
   "metadata": {},
   "outputs": [],
   "source": [
    "e=0.0000001 # to avoid division by zero\n",
    "def fitness_function(t, error, criteria):\n",
    "    # error=np.abs(1 - y)\n",
    "\n",
    "    if criteria == 1:\n",
    "        # ITAE (Integral of time multiplied absolute error)\n",
    "        ITAE = np.trapz(t, error * t)\n",
    "        fitness= 1/(ITAE+e)\n",
    "    elif criteria == 2:\n",
    "        # ITSE (Integral of time multiplied squared error)\n",
    "        ITSE = np.trapz(t, t * error**2)\n",
    "        fitness= 1/(ITSE+e)\n",
    "    elif criteria == 3:\n",
    "        # ITAE (Integral of time multiplied absolute error)\n",
    "        IAE =  np.trapz(t, error)\n",
    "        fitness= 1/(IAE+e)\n",
    "    elif criteria == 4:\n",
    "        # ITSE (Integral of time multiplied by squared error)\n",
    "        ISE = np.trapz(t, error**2)\n",
    "        fitness= 1/(ISE+e)\n",
    "        \n",
    "    return fitness"
   ]
  },
  {
   "attachments": {},
   "cell_type": "markdown",
   "metadata": {},
   "source": [
    "### Define the optimization problem for PID controller\n",
    "\n",
    "$TF=\\frac{K_ds^2+K_ps+K_i}{(K_d+1)s^2+(K_p+3)s+K_i}$"
   ]
  },
  {
   "cell_type": "code",
   "execution_count": 32,
   "metadata": {},
   "outputs": [],
   "source": [
    "class PIDProblem(Problem):\n",
    "\n",
    "    def __init__(self):\n",
    "        super().__init__(n_var=3,\n",
    "                         n_obj=1,\n",
    "                         n_constr=0,\n",
    "                         xl=0,\n",
    "                         xu=100, vtype=float)    \n",
    "\n",
    "    def _evaluate(self, X, out, *args, **kwargs):\n",
    "        metric = np.zeros((X.shape[0], 1))\n",
    "        for i, params in enumerate(X):\n",
    "            Kp, Ki, Kd = params\n",
    "            num = np.array([Kd,Kp,Ki])\n",
    "            den = np.array([(Kd+1),(Kp+3),Ki])\n",
    "            T = control.tf(num, den)\n",
    "            t, y = control.step_response(T)\n",
    "            error = 1 - y\n",
    "            metric[i]=fitness_function(t, np.abs(error), 4)\n",
    "        out[\"F\"] = metric"
   ]
  },
  {
   "attachments": {},
   "cell_type": "markdown",
   "metadata": {},
   "source": [
    "### Define the solver and run for the PID problem"
   ]
  },
  {
   "cell_type": "code",
   "execution_count": 33,
   "metadata": {},
   "outputs": [
    {
     "name": "stdout",
     "output_type": "stream",
     "text": [
      "=================================================\n",
      "n_gen  |  n_eval  |     f_avg     |     f_min    \n",
      "=================================================\n",
      "     1 |       50 | -4.314506E+02 | -1.499978E+03\n",
      "     2 |      100 | -8.713456E+02 | -1.515917E+03\n",
      "     3 |      150 | -1.225327E+03 | -1.768909E+03\n",
      "     4 |      200 | -1.521632E+03 | -1.902433E+03\n",
      "     5 |      250 | -1.743853E+03 | -2.005465E+03\n",
      "     6 |      300 | -1.855548E+03 | -2.025294E+03\n",
      "     7 |      350 | -1.918689E+03 | -2.025294E+03\n",
      "     8 |      400 | -1.952241E+03 | -2.045120E+03\n",
      "     9 |      450 | -1.980336E+03 | -2.045120E+03\n",
      "    10 |      500 | -2.002418E+03 | -2.054406E+03\n",
      "    11 |      550 | -2.015033E+03 | -2.054406E+03\n",
      "    12 |      600 | -2.022132E+03 | -2.054406E+03\n",
      "    13 |      650 | -2.028409E+03 | -2.065075E+03\n",
      "    14 |      700 | -2.034863E+03 | -2.065075E+03\n",
      "    15 |      750 | -2.035195E+03 | -2.065075E+03\n",
      "    16 |      800 | -2.035613E+03 | -2.065075E+03\n",
      "    17 |      850 | -2.036437E+03 | -2.065075E+03\n",
      "    18 |      900 | -2.036437E+03 | -2.065075E+03\n",
      "    19 |      950 | -2.036437E+03 | -2.065075E+03\n",
      "    20 |     1000 | -2.036437E+03 | -2.065075E+03\n",
      "    21 |     1050 | -2.036437E+03 | -2.065075E+03\n",
      "    22 |     1100 | -2.036437E+03 | -2.065075E+03\n",
      "    23 |     1150 | -2.036437E+03 | -2.065075E+03\n",
      "    24 |     1200 | -2.036708E+03 | -2.065075E+03\n",
      "    25 |     1250 | -2.036708E+03 | -2.065075E+03\n",
      "    26 |     1300 | -2.036708E+03 | -2.065075E+03\n",
      "    27 |     1350 | -2.036708E+03 | -2.065075E+03\n",
      "    28 |     1400 | -2.036708E+03 | -2.065075E+03\n",
      "    29 |     1450 | -2.036708E+03 | -2.065075E+03\n",
      "    30 |     1500 | -2.036708E+03 | -2.065075E+03\n",
      "    31 |     1550 | -2.036708E+03 | -2.065075E+03\n",
      "    32 |     1600 | -2.036708E+03 | -2.065075E+03\n",
      "    33 |     1650 | -2.036708E+03 | -2.065075E+03\n",
      "    34 |     1700 | -2.036708E+03 | -2.065075E+03\n",
      "    35 |     1750 | -2.036708E+03 | -2.065075E+03\n",
      "    36 |     1800 | -2.036708E+03 | -2.065075E+03\n",
      "    37 |     1850 | -2.036708E+03 | -2.065075E+03\n",
      "    38 |     1900 | -2.036708E+03 | -2.065075E+03\n",
      "    39 |     1950 | -2.036708E+03 | -2.065075E+03\n",
      "    40 |     2000 | -2.036708E+03 | -2.065075E+03\n",
      "    41 |     2050 | -2.036708E+03 | -2.065075E+03\n",
      "    42 |     2100 | -2.036708E+03 | -2.065075E+03\n",
      "    43 |     2150 | -2.036708E+03 | -2.065075E+03\n",
      "    44 |     2200 | -2.036708E+03 | -2.065075E+03\n",
      "    45 |     2250 | -2.036708E+03 | -2.065075E+03\n",
      "    46 |     2300 | -2.036708E+03 | -2.065075E+03\n",
      "    47 |     2350 | -2.036708E+03 | -2.065075E+03\n",
      "    48 |     2400 | -2.036708E+03 | -2.065075E+03\n",
      "    49 |     2450 | -2.036708E+03 | -2.065075E+03\n",
      "    50 |     2500 | -2.036708E+03 | -2.065075E+03\n",
      "    51 |     2550 | -2.036708E+03 | -2.065075E+03\n",
      "    52 |     2600 | -2.036708E+03 | -2.065075E+03\n",
      "    53 |     2650 | -2.036708E+03 | -2.065075E+03\n",
      "    54 |     2700 | -2.036708E+03 | -2.065075E+03\n",
      "    55 |     2750 | -2.036708E+03 | -2.065075E+03\n",
      "    56 |     2800 | -2.036708E+03 | -2.065075E+03\n",
      "    57 |     2850 | -2.036708E+03 | -2.065075E+03\n",
      "    58 |     2900 | -2.036708E+03 | -2.065075E+03\n",
      "    59 |     2950 | -2.036708E+03 | -2.065075E+03\n",
      "    60 |     3000 | -2.036708E+03 | -2.065075E+03\n",
      "    61 |     3050 | -2.036708E+03 | -2.065075E+03\n",
      "    62 |     3100 | -2.036708E+03 | -2.065075E+03\n",
      "    63 |     3150 | -2.036708E+03 | -2.065075E+03\n",
      "    64 |     3200 | -2.036708E+03 | -2.065075E+03\n",
      "    65 |     3250 | -2.036708E+03 | -2.065075E+03\n",
      "    66 |     3300 | -2.036708E+03 | -2.065075E+03\n",
      "    67 |     3350 | -2.036708E+03 | -2.065075E+03\n",
      "    68 |     3400 | -2.036708E+03 | -2.065075E+03\n",
      "    69 |     3450 | -2.036708E+03 | -2.065075E+03\n",
      "    70 |     3500 | -2.036708E+03 | -2.065075E+03\n",
      "    71 |     3550 | -2.036708E+03 | -2.065075E+03\n",
      "    72 |     3600 | -2.036708E+03 | -2.065075E+03\n",
      "    73 |     3650 | -2.036708E+03 | -2.065075E+03\n",
      "    74 |     3700 | -2.036708E+03 | -2.065075E+03\n",
      "    75 |     3750 | -2.036708E+03 | -2.065075E+03\n",
      "    76 |     3800 | -2.036708E+03 | -2.065075E+03\n",
      "    77 |     3850 | -2.036708E+03 | -2.065075E+03\n",
      "    78 |     3900 | -2.036708E+03 | -2.065075E+03\n",
      "    79 |     3950 | -2.036708E+03 | -2.065075E+03\n",
      "    80 |     4000 | -2.036708E+03 | -2.065075E+03\n",
      "    81 |     4050 | -2.036708E+03 | -2.065075E+03\n",
      "    82 |     4100 | -2.036708E+03 | -2.065075E+03\n",
      "    83 |     4150 | -2.036708E+03 | -2.065075E+03\n",
      "    84 |     4200 | -2.036708E+03 | -2.065075E+03\n",
      "    85 |     4250 | -2.036708E+03 | -2.065075E+03\n",
      "    86 |     4300 | -2.036708E+03 | -2.065075E+03\n",
      "    87 |     4350 | -2.036708E+03 | -2.065075E+03\n",
      "    88 |     4400 | -2.036708E+03 | -2.065075E+03\n",
      "    89 |     4450 | -2.036708E+03 | -2.065075E+03\n",
      "    90 |     4500 | -2.036708E+03 | -2.065075E+03\n",
      "    91 |     4550 | -2.036708E+03 | -2.065075E+03\n",
      "    92 |     4600 | -2.036708E+03 | -2.065075E+03\n",
      "    93 |     4650 | -2.036708E+03 | -2.065075E+03\n",
      "    94 |     4700 | -2.036708E+03 | -2.065075E+03\n",
      "    95 |     4750 | -2.036708E+03 | -2.065075E+03\n",
      "    96 |     4800 | -2.036708E+03 | -2.065075E+03\n",
      "    97 |     4850 | -2.036708E+03 | -2.065075E+03\n",
      "    98 |     4900 | -2.036708E+03 | -2.065075E+03\n",
      "    99 |     4950 | -2.036708E+03 | -2.065075E+03\n",
      "   100 |     5000 | -2.036708E+03 | -2.065075E+03\n"
     ]
    }
   ],
   "source": [
    "problem = PIDProblem()\n",
    "\n",
    "algorithm = GA(\n",
    "    pop_size=50,\n",
    "    sampling=FloatRandomSampling(),\n",
    "    crossover=PointCrossover(prob=0.8, n_points=2),\n",
    "    mutation = PolynomialMutation(prob=0.3, repair=RoundingRepair()),\n",
    "    eliminate_duplicates=True\n",
    ")\n",
    "\n",
    "res = minimize(problem, algorithm, ('n_gen', 100), seed=1, verbose=True)"
   ]
  },
  {
   "attachments": {},
   "cell_type": "markdown",
   "metadata": {},
   "source": [
    "### Print the results"
   ]
  },
  {
   "cell_type": "code",
   "execution_count": 34,
   "metadata": {},
   "outputs": [
    {
     "name": "stdout",
     "output_type": "stream",
     "text": [
      "Optimal PID controller parameters:\n",
      "Kp = 100\n",
      "Ki = 100\n",
      "Kd = 100\n"
     ]
    }
   ],
   "source": [
    "best_params = res.X\n",
    "print(\"Optimal PID controller parameters:\")\n",
    "print(\"Kp =\", best_params[0])\n",
    "print(\"Ki =\", best_params[1])\n",
    "print(\"Kd =\", best_params[2])"
   ]
  },
  {
   "attachments": {},
   "cell_type": "markdown",
   "metadata": {},
   "source": [
    "### Visualize the time response"
   ]
  },
  {
   "cell_type": "code",
   "execution_count": 35,
   "metadata": {},
   "outputs": [
    {
     "name": "stdout",
     "output_type": "stream",
     "text": [
      "T(s) = \n",
      "100 s^2 + 100 s + 100\n",
      "---------------------\n",
      "101 s^2 + 103 s + 100\n",
      "\n"
     ]
    },
    {
     "data": {
      "image/png": "[encoded data removed]",
      "text/plain": [
       "<Figure size 640x480 with 1 Axes>"
      ]
     },
     "metadata": {},
     "output_type": "display_data"
    }
   ],
   "source": [
    "Kp = best_params[0]\n",
    "Ki = best_params[1]\n",
    "Kd = best_params[2]\n",
    "\n",
    "# Close loo transfer function T:\n",
    "num = np.array([Kd,Kp,Ki])\n",
    "den = np.array([(Kd+1),(Kp+3),Ki])\n",
    "\n",
    "T = control.tf(num, den)\n",
    "print ('T(s) =', T)\n",
    "t, y = control.step_response(T)\n",
    "plt.plot(t,y)\n",
    "plt.title(\"Step Response\")\n",
    "plt.grid()"
   ]
  },
  {
   "attachments": {},
   "cell_type": "markdown",
   "metadata": {},
   "source": [
    "### Check stability  [Optional]\n",
    "\n",
    "<i>Asymptotically Stable System</i>\n",
    "* All the poles ley in the left half plane\n",
    "* All real parts of the pooles are negative\n",
    "\n",
    "<i>Marginally Stable System</i>\n",
    "* Poles coincide in the imaginary axis\n",
    "\n",
    "<i>Unstable System</i>\n",
    "* At least one pole lies in the right half plane (has real part greater than zero). \n"
   ]
  },
  {
   "cell_type": "code",
   "execution_count": 36,
   "metadata": {},
   "outputs": [
    {
     "name": "stdout",
     "output_type": "stream",
     "text": [
      "p = [-0.50990099+0.85445889j -0.50990099-0.85445889j]\n"
     ]
    },
    {
     "data": {
      "text/plain": [
       "(array([-0.50990099+0.85445889j, -0.50990099-0.85445889j]),\n",
       " array([-0.5+0.8660254j, -0.5-0.8660254j]))"
      ]
     },
     "execution_count": 36,
     "metadata": {},
     "output_type": "execute_result"
    },
    {
     "data": {
      "image/png": "[encoded data removed]",
      "text/plain": [
       "<Figure size 640x480 with 1 Axes>"
      ]
     },
     "metadata": {},
     "output_type": "display_data"
    }
   ],
   "source": [
    "# Poles\n",
    "p = control.pole(T)\n",
    "print ('p =', p)\n",
    "\n",
    "control.pzmap(T)"
   ]
  }
 ],
 "metadata": {
  "kernelspec": {
   "display_name": "ox",
   "language": "python",
   "name": "python3"
  },
  "language_info": {
   "codemirror_mode": {
    "name": "ipython",
    "version": 3
   },
   "file_extension": ".py",
   "mimetype": "text/x-python",
   "name": "python",
   "nbconvert_exporter": "python",
   "pygments_lexer": "ipython3",
   "version": "3.10.6"
  },
  "orig_nbformat": 4
 },
 "nbformat": 4,
 "nbformat_minor": 2
}
