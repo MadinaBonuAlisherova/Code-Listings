{
 "cells": [
  {
   "attachments": {},
   "cell_type": "markdown",
   "metadata": {},
   "source": [
    "# PID Tuning using GA"
   ]
  },
  {
   "cell_type": "code",
   "execution_count": 1,
   "metadata": {},
   "outputs": [],
   "source": [
    "import numpy as np\n",
    "import control\n",
    "import matplotlib.pyplot as plt\n",
    "from pymoo.algorithms.soo.nonconvex.ga import GA\n",
    "from pymoo.operators.crossover.pntx import PointCrossover\n",
    "from pymoo.operators.mutation.pm import PolynomialMutation\n",
    "from pymoo.operators.repair.rounding import RoundingRepair\n",
    "from pymoo.operators.sampling.rnd import FloatRandomSampling\n",
    "from pymoo.core.problem import Problem\n",
    "from pymoo.optimize import minimize"
   ]
  },
  {
   "attachments": {},
   "cell_type": "markdown",
   "metadata": {},
   "source": [
    "### Define fitness function"
   ]
  },
  {
   "cell_type": "code",
   "execution_count": 2,
   "metadata": {},
   "outputs": [],
   "source": [
    "e=0.0000001 # to avoid division by zero\n",
    "def fitness_function(t, error, criteria):\n",
    "    # error=np.abs(1 - y)\n",
    "\n",
    "    if criteria == 1:\n",
    "        # ITAE (Integral of time multiplied absolute error)\n",
    "        ITAE = np.trapz(t, error * t)\n",
    "        fitness= 1/(ITAE+e)\n",
    "    elif criteria == 2:\n",
    "        # ITSE (Integral of time multiplied squared error)\n",
    "        ITSE = np.trapz(t, t * error**2)\n",
    "        fitness= 1/(ITSE+e)\n",
    "    elif criteria == 3:\n",
    "        # ITAE (Integral of time multiplied absolute error)\n",
    "        IAE =  np.trapz(t, error)\n",
    "        fitness= 1/(IAE+e)\n",
    "    elif criteria == 4:\n",
    "        # ITSE (Integral of time multiplied by squared error)\n",
    "        ISE = np.trapz(t, error**2)\n",
    "        fitness= 1/(ISE+e)\n",
    "        \n",
    "    return fitness"
   ]
  },
  {
   "attachments": {},
   "cell_type": "markdown",
   "metadata": {},
   "source": [
    "### Define the optimization problem for PID controller\n",
    "\n",
    "$TF=\\frac{K_dK_is^2+K_pK_is+1}{K_is^3+(K_dK_i+3K_i)s^2+K_pK_is+1}$"
   ]
  },
  {
   "cell_type": "code",
   "execution_count": 8,
   "metadata": {},
   "outputs": [],
   "source": [
    "class PIDProblem(Problem):\n",
    "\n",
    "    def __init__(self):\n",
    "        super().__init__(n_var=3,\n",
    "                         n_obj=1,\n",
    "                         n_constr=0,\n",
    "                         xl=0,\n",
    "                         xu=100, vtype=float)    \n",
    "\n",
    "    def _evaluate(self, X, out, *args, **kwargs):\n",
    "        metric = np.zeros((X.shape[0], 1))\n",
    "        for i, params in enumerate(X):\n",
    "            Kp, Ki, Kd = params\n",
    "            num = np.array([Kd*Ki,Kp*Ki,1])\n",
    "            den = np.array([Ki,(Kd*Ki+3*Ki),Kp*Ki,1])\n",
    "            T = control.tf(num, den)\n",
    "            t, y = control.step_response(T)\n",
    "            error = 1 - y\n",
    "            metric[i]=fitness_function(t, np.abs(error), 4)\n",
    "        out[\"F\"] = metric"
   ]
  },
  {
   "attachments": {},
   "cell_type": "markdown",
   "metadata": {},
   "source": [
    "### Define the solver and run for the PID problem"
   ]
  },
  {
   "cell_type": "code",
   "execution_count": 9,
   "metadata": {},
   "outputs": [
    {
     "name": "stdout",
     "output_type": "stream",
     "text": [
      "=================================================\n",
      "n_gen  |  n_eval  |     f_avg     |     f_min    \n",
      "=================================================\n",
      "     1 |       50 | -8.147934E+01 | -1.893074E+02\n",
      "     2 |      100 | -1.510209E+02 | -1.893886E+02\n",
      "     3 |      150 | -1.792771E+02 | -1.893886E+02\n",
      "     4 |      200 | -1.877551E+02 | -1.961570E+02\n",
      "     5 |      250 | -1.907810E+02 | -1.961570E+02\n",
      "     6 |      300 | -1.929868E+02 | -1.961570E+02\n",
      "     7 |      350 | -1.949332E+02 | -1.962861E+02\n",
      "     8 |      400 | -1.959540E+02 | -1.962861E+02\n",
      "     9 |      450 | -1.961852E+02 | -1.962861E+02\n",
      "    10 |      500 | -1.962415E+02 | -1.963005E+02\n",
      "    11 |      550 | -1.962838E+02 | -1.963150E+02\n",
      "    12 |      600 | -1.962977E+02 | -1.963151E+02\n",
      "    13 |      650 | -1.963081E+02 | -1.963151E+02\n",
      "    14 |      700 | -1.963110E+02 | -1.963151E+02\n",
      "    15 |      750 | -1.963136E+02 | -1.963151E+02\n",
      "    16 |      800 | -1.963150E+02 | -1.963151E+02\n",
      "    17 |      850 | -1.963150E+02 | -1.963151E+02\n",
      "    18 |      900 | -1.963150E+02 | -1.963151E+02\n",
      "    19 |      950 | -1.963150E+02 | -1.963151E+02\n",
      "    20 |     1000 | -1.963150E+02 | -1.963151E+02\n",
      "    21 |     1050 | -1.963150E+02 | -1.963151E+02\n",
      "    22 |     1100 | -1.963150E+02 | -1.963151E+02\n",
      "    23 |     1150 | -1.963150E+02 | -1.963151E+02\n",
      "    24 |     1200 | -1.963150E+02 | -1.963151E+02\n",
      "    25 |     1250 | -1.963150E+02 | -1.963151E+02\n",
      "    26 |     1300 | -1.963150E+02 | -1.963151E+02\n",
      "    27 |     1350 | -1.963150E+02 | -1.963151E+02\n",
      "    28 |     1400 | -1.963150E+02 | -1.963151E+02\n",
      "    29 |     1450 | -1.963150E+02 | -1.963151E+02\n",
      "    30 |     1500 | -1.963150E+02 | -1.963151E+02\n",
      "    31 |     1550 | -1.963150E+02 | -1.963151E+02\n",
      "    32 |     1600 | -1.963150E+02 | -1.963151E+02\n",
      "    33 |     1650 | -1.963150E+02 | -1.963151E+02\n",
      "    34 |     1700 | -1.963150E+02 | -1.963151E+02\n",
      "    35 |     1750 | -1.963150E+02 | -1.963151E+02\n",
      "    36 |     1800 | -1.963150E+02 | -1.963151E+02\n",
      "    37 |     1850 | -1.963150E+02 | -1.963151E+02\n",
      "    38 |     1900 | -1.963150E+02 | -1.963151E+02\n",
      "    39 |     1950 | -1.963150E+02 | -1.963151E+02\n",
      "    40 |     2000 | -1.963150E+02 | -1.963151E+02\n",
      "    41 |     2050 | -1.963150E+02 | -1.963151E+02\n",
      "    42 |     2100 | -1.963150E+02 | -1.963151E+02\n",
      "    43 |     2150 | -1.963150E+02 | -1.963151E+02\n",
      "    44 |     2200 | -1.963150E+02 | -1.963151E+02\n",
      "    45 |     2250 | -1.963150E+02 | -1.963151E+02\n",
      "    46 |     2300 | -1.963150E+02 | -1.963151E+02\n",
      "    47 |     2350 | -1.963150E+02 | -1.963151E+02\n",
      "    48 |     2400 | -1.963150E+02 | -1.963151E+02\n",
      "    49 |     2450 | -1.963150E+02 | -1.963151E+02\n",
      "    50 |     2500 | -1.963150E+02 | -1.963151E+02\n"
     ]
    }
   ],
   "source": [
    "problem = PIDProblem()\n",
    "\n",
    "algorithm = GA(\n",
    "    pop_size=50,\n",
    "    sampling=FloatRandomSampling(),\n",
    "    crossover=PointCrossover(prob=0.8, n_points=2),\n",
    "    mutation = PolynomialMutation(prob=0.3, repair=RoundingRepair()),\n",
    "    eliminate_duplicates=True\n",
    ")\n",
    "\n",
    "res = minimize(problem, algorithm, ('n_gen', 50), seed=1, verbose=True)"
   ]
  },
  {
   "attachments": {},
   "cell_type": "markdown",
   "metadata": {},
   "source": [
    "### Print the results"
   ]
  },
  {
   "cell_type": "code",
   "execution_count": 5,
   "metadata": {},
   "outputs": [
    {
     "name": "stdout",
     "output_type": "stream",
     "text": [
      "Optimal PID controller parameters:\n",
      "Kp = 3\n",
      "Ki = 100\n",
      "Kd = 100\n"
     ]
    }
   ],
   "source": [
    "best_params = res.X\n",
    "print(\"Optimal PID controller parameters:\")\n",
    "print(\"Kp =\", best_params[0])\n",
    "print(\"Ki =\", best_params[1])\n",
    "print(\"Kd =\", best_params[2])\n"
   ]
  },
  {
   "attachments": {},
   "cell_type": "markdown",
   "metadata": {},
   "source": [
    "### Visualize the time response"
   ]
  },
  {
   "cell_type": "code",
   "execution_count": 6,
   "metadata": {},
   "outputs": [
    {
     "name": "stdout",
     "output_type": "stream",
     "text": [
      "T(s) = \n",
      "      1e+04 s^2 + 300 s + 1\n",
      "----------------------------------\n",
      "100 s^3 + 1.03e+04 s^2 + 300 s + 1\n",
      "\n"
     ]
    },
    {
     "data": {
      "image/png": "[encoded data removed]",
      "text/plain": [
       "<Figure size 640x480 with 1 Axes>"
      ]
     },
     "metadata": {},
     "output_type": "display_data"
    }
   ],
   "source": [
    "Kp = best_params[0]\n",
    "Ki = best_params[1]\n",
    "Kd = best_params[2]\n",
    "\n",
    "# Close loo transfer function T:\n",
    "num = np.array([Kd*Ki,Kp*Ki,1])\n",
    "den = np.array([Ki,(Kd*Ki+3*Ki),Kp*Ki,1])\n",
    "T = control.tf(num, den)\n",
    "print ('T(s) =', T)\n",
    "t, y = control.step_response(T)\n",
    "plt.plot(t,y)\n",
    "plt.title(\"Step Response\")\n",
    "plt.grid()"
   ]
  },
  {
   "attachments": {},
   "cell_type": "markdown",
   "metadata": {},
   "source": [
    "### Check stability  [Optional]\n",
    "\n",
    "<i>Asymptotically Stable System</i>\n",
    "* All the poles ley in the left half plane\n",
    "* All real parts of the pooles are negative\n",
    "\n",
    "<i>Marginally Stable System</i>\n",
    "* Poles coincide in the imaginary axis\n",
    "\n",
    "<i>Unstable System</i>\n",
    "* At least one pole lies in the right half plane (has real part greater than zero). \n"
   ]
  },
  {
   "cell_type": "code",
   "execution_count": 7,
   "metadata": {},
   "outputs": [
    {
     "name": "stdout",
     "output_type": "stream",
     "text": [
      "p = [-1.02970866e+02+0.j -2.52940814e-02+0.j -3.83942970e-03+0.j]\n"
     ]
    },
    {
     "data": {
      "text/plain": [
       "(array([-1.02970866e+02+0.j, -2.52940814e-02+0.j, -3.83942970e-03+0.j]),\n",
       " array([-0.02618034+0.j, -0.00381966+0.j]))"
      ]
     },
     "execution_count": 7,
     "metadata": {},
     "output_type": "execute_result"
    },
    {
     "data": {
      "image/png": "[encoded data removed]",
      "text/plain": [
       "<Figure size 640x480 with 1 Axes>"
      ]
     },
     "metadata": {},
     "output_type": "display_data"
    }
   ],
   "source": [
    "# Poles\n",
    "p = control.pole(T)\n",
    "print ('p =', p)\n",
    "\n",
    "control.pzmap(T)"
   ]
  }
 ],
 "metadata": {
  "kernelspec": {
   "display_name": "ox",
   "language": "python",
   "name": "python3"
  },
  "language_info": {
   "codemirror_mode": {
    "name": "ipython",
    "version": 3
   },
   "file_extension": ".py",
   "mimetype": "text/x-python",
   "name": "python",
   "nbconvert_exporter": "python",
   "pygments_lexer": "ipython3",
   "version": "3.10.6"
  },
  "orig_nbformat": 4
 },
 "nbformat": 4,
 "nbformat_minor": 2
}
