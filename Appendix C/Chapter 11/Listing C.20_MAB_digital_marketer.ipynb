{
 "cells": [
  {
   "attachments": {},
   "cell_type": "markdown",
   "metadata": {},
   "source": [
    "# Online Advertising as Multi-armed Bandit (MAB)\n",
    "\n",
    "Imagine you are a digital marketer running an online advertising campaign. You have several ad variations that you can display to users, each with its own click-through rate (CTR) or conversion rate. Your goal is to maximize user engagement or conversions by selecting the most effective ad variation.\n",
    "\n",
    " Let's assume you have three ad variations, represented by arms A1, A2 and A3. Each ad variation has an associated probability distribution of click-through rates or conversion rates, denoted as Q1, Q2 and Q3. These probability distributions represent the likelihood of a user clicking on or converting from each ad variation. At each time step 't', you need to choose an ad variation 'A' to display to users. When ad variation 'A' is displayed, users interact with it, and you observe the outcome, which can be a click or a conversion. The outcome is drawn from the probability distribution Q(A), representing the likelihood of a click or conversion for ad variation 'A'. \n",
    " \n",
    " Assume that the three probability distributions Q1, Q2 and Q3 are normal distributions with means of {7, 10, 6} and standard deviations of {0.45, 0.65,0.35} respectively. Your objective is to maximize the cumulative number of clicks over a series of ad displays (let’s say 10,000 ad displays). \n",
    " \n",
    "This code implements ε-greedy strategy to determine which ad variation to display at each time step based on the estimated click-through rates.\n"
   ]
  },
  {
   "attachments": {},
   "cell_type": "markdown",
   "metadata": {},
   "source": [
    "### Set up the MAB"
   ]
  },
  {
   "cell_type": "code",
   "execution_count": 7,
   "metadata": {},
   "outputs": [],
   "source": [
    "import numpy as np\n",
    "\n",
    "# Initialization\n",
    "num_arms = 3\n",
    "num_trials = 10000\n",
    "\n",
    "# Probability distribution of each arm\n",
    "mu = [7, 10, 6]\n",
    "sigma = [0.45, 0.65, 0.35]\n",
    "\n",
    "# Counters for each arm\n",
    "counts = np.zeros(num_arms)\n",
    "rewards = np.zeros(num_arms)\n",
    "\n",
    "# Select initial arm\n",
    "a = np.random.choice(num_arms)"
   ]
  },
  {
   "attachments": {},
   "cell_type": "markdown",
   "metadata": {},
   "source": [
    "### $\\epsilon$-stratgey"
   ]
  },
  {
   "cell_type": "code",
   "execution_count": 8,
   "metadata": {},
   "outputs": [],
   "source": [
    "# Epsilon for epsilon-greedy algorithm\n",
    "eps = 0.1\n",
    "\n",
    "for t in range(num_trials):\n",
    "    # Select arm\n",
    "    if np.random.rand() > eps:  # Exploit\n",
    "        a = np.argmax(rewards / (counts + 1e-5))  # Add a small constant to avoid division by zero\n",
    "    else:  # Explore\n",
    "        a = np.random.choice(num_arms)\n",
    "\n",
    "    # Simulate click-through rate\n",
    "    reward = np.random.normal(mu[a], sigma[a])\n",
    "    \n",
    "    # Update counters\n",
    "    counts[a] += 1\n",
    "    rewards[a] += reward\n",
    "\n",
    "# Estimated click-through rates\n",
    "estimates = rewards / counts"
   ]
  },
  {
   "attachments": {},
   "cell_type": "markdown",
   "metadata": {},
   "source": [
    "### Print estimated click-through rates"
   ]
  },
  {
   "cell_type": "code",
   "execution_count": 9,
   "metadata": {},
   "outputs": [
    {
     "name": "stdout",
     "output_type": "stream",
     "text": [
      "Estimated click-through rates:  [ 6.99670105 10.00601168  6.00450476]\n"
     ]
    }
   ],
   "source": [
    "print(\"Estimated click-through rates: \", estimates)"
   ]
  }
 ],
 "metadata": {
  "kernelspec": {
   "display_name": "pygeometric",
   "language": "python",
   "name": "python3"
  },
  "language_info": {
   "codemirror_mode": {
    "name": "ipython",
    "version": 3
   },
   "file_extension": ".py",
   "mimetype": "text/x-python",
   "name": "python",
   "nbconvert_exporter": "python",
   "pygments_lexer": "ipython3",
   "version": "3.7.12"
  },
  "orig_nbformat": 4
 },
 "nbformat": 4,
 "nbformat_minor": 2
}
