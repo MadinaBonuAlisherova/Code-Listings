{
 "cells": [
  {
   "attachments": {},
   "cell_type": "markdown",
   "metadata": {},
   "source": [
    "# Solving the Coffee Shop Problem\n",
    "\n",
    "A coffee shop offers two sizes of coffee: small and large. The cost of making a small coffee is $1, and the cost of making a large coffee is $1.50. The coffee shop sells small coffees for $2 each and large coffees for $3 each. The coffee shop wants to maximize its profit. However, it also wants to ensure that it sells at least 50 small coffees and 75 large coffees and at most 300 and 450 respectively per day.\n",
    "\n",
    "This problem is formulated as an optimization problem as follows:\n",
    "\n",
    "Maximize $Profit = 2x_1 + 3x_2 - (x_1 + 1.5x_2)$\n",
    "\n",
    "Subject to:\n",
    "\n",
    "$50 \\le x_1 \\le 300$\n",
    "\n",
    "$75 \\le x_2 \\le 450$\n",
    "\n",
    "where \n",
    "\n",
    "$x_1$ is the number of small coffees to make \n",
    "\n",
    "$x_2$ is the number of large coffees to make. \n",
    "\n",
    "$Profit$ is the total profit, where the first term in the equation represents the revenue from selling the coffees, and the second term represents the cost of making the coffees."
   ]
  },
  {
   "cell_type": "code",
   "execution_count": 1,
   "metadata": {},
   "outputs": [
    {
     "name": "stderr",
     "output_type": "stream",
     "text": [
      "2023-04-18 23:34:50,959 - pyswarms.single.global_best - INFO - Optimize for 100 iters with {'c1': 1.5, 'c2': 1.3, 'w': 0.79}\n",
      "pyswarms.single.global_best: 100%|██████████|100/100, best_cost=-939\n",
      "2023-04-18 23:34:51,330 - pyswarms.single.global_best - INFO - Optimization finished | best cost: -939.0885325023177, best pos: [289.21975911 189.43123372]\n"
     ]
    },
    {
     "name": "stdout",
     "output_type": "stream",
     "text": [
      "###############################################\n",
      "Total profit:  939.09 $\n",
      "Optimal number of small coffees to make:  289\n",
      "Optimal number of large coffees to make:  189\n"
     ]
    }
   ],
   "source": [
    "# Import required libraries\n",
    "import numpy as np\n",
    "import pyswarms as ps\n",
    "\n",
    "# Define the fitness function\n",
    "def fitness_function(x):\n",
    "    n_particles = x.shape[0]\n",
    "    profit=0\n",
    "    for i in range(n_particles):\n",
    "        profit=-(2*x[i][0] + 3*x[i][1] - (x[i][0] + 1.5*x[i][1]))\n",
    "    return profit\n",
    "\n",
    "# Set the number of particles and iterations\n",
    "num_particles = 10\n",
    "num_iterations = 100\n",
    "\n",
    "# Set the lower and upper bounds of the variables\n",
    "lb = np.array([50, 75])\n",
    "ub = np.array([300, 450])\n",
    "bounds = (lb, ub)\n",
    "\n",
    "# Set the optimizer options\n",
    "options={'w':0.79, 'c1': 1.5, 'c2': 1.3}\n",
    "\n",
    "# Initialize the optimizer\n",
    "optimizer = ps.single.GlobalBestPSO(n_particles=num_particles, dimensions=2, options=options, bounds=bounds)\n",
    "\n",
    "# Perform the optimization\n",
    "best_cost, best_pos = optimizer.optimize(fitness_function, iters=num_iterations)\n",
    "\n",
    "# Print the results\n",
    "best_pos=np.asarray(best_pos, dtype = 'int')\n",
    "print('###############################################')\n",
    "print('Total profit: ', round(-best_cost, 2), '$')\n",
    "print('Optimal number of small coffees to make: ',best_pos[0])\n",
    "print('Optimal number of large coffees to make: ', best_pos[1])"
   ]
  }
 ],
 "metadata": {
  "kernelspec": {
   "display_name": "ox",
   "language": "python",
   "name": "python3"
  },
  "language_info": {
   "codemirror_mode": {
    "name": "ipython",
    "version": 3
   },
   "file_extension": ".py",
   "mimetype": "text/x-python",
   "name": "python",
   "nbconvert_exporter": "python",
   "pygments_lexer": "ipython3",
   "version": "3.10.6"
  },
  "orig_nbformat": 4
 },
 "nbformat": 4,
 "nbformat_minor": 2
}
