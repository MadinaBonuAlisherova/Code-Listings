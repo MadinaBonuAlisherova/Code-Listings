{
 "cells": [
  {
   "attachments": {},
   "cell_type": "markdown",
   "metadata": {},
   "source": [
    "# Solving trilateration problem using PSO"
   ]
  },
  {
   "cell_type": "code",
   "execution_count": 1,
   "metadata": {},
   "outputs": [],
   "source": [
    "import numpy as np\n",
    "from pyswarms.single import GlobalBestPSO\n",
    "import pyswarms as ps"
   ]
  },
  {
   "attachments": {},
   "cell_type": "markdown",
   "metadata": {},
   "source": [
    "### Define the objective function"
   ]
  },
  {
   "cell_type": "code",
   "execution_count": 2,
   "metadata": {},
   "outputs": [],
   "source": [
    "def objective_function(pos):\n",
    "    r = np.array([6, 6.5, 8])\n",
    "    x0 = np.array([1, 3, 7])\n",
    "    y0 = np.array([5, 1, 7])\n",
    "\n",
    "    x = pos[:, 0]\n",
    "    y = pos[:, 1]\n",
    "    \n",
    "    f = np.sum(r - np.sqrt((x0 - x.reshape(-1, 1)) ** 2 + (y0 - y.reshape(-1, 1)) ** 2), axis=1)\n",
    "    return f"
   ]
  },
  {
   "attachments": {},
   "cell_type": "markdown",
   "metadata": {},
   "source": [
    "### Define the PSO solver"
   ]
  },
  {
   "cell_type": "code",
   "execution_count": 3,
   "metadata": {},
   "outputs": [
    {
     "name": "stderr",
     "output_type": "stream",
     "text": [
      "2023-04-26 19:08:12,985 - pyswarms.single.global_best - INFO - Optimize for 1000 iters with {'c1': 0.5, 'c2': 0.5, 'w': 0.79}\n",
      "pyswarms.single.global_best: 100%|██████████|1000/1000, best_cost=-.072\n",
      "2023-04-26 19:08:16,488 - pyswarms.single.global_best - INFO - Optimization finished | best cost: -0.07202697519875745, best pos: [7.9057631  0.01057959]\n"
     ]
    }
   ],
   "source": [
    "# Set up the PSO algorithm\n",
    "options = {\"c1\": 0.5, \"c2\": 0.5, \"w\": 0.79}\n",
    "bounds = (np.array([0, 0]), np.array([8, 8]))\n",
    "\n",
    "# Initialize GlobalBestPSO and minimize the objective function\n",
    "optimizer = GlobalBestPSO(n_particles=100, dimensions=2, options=options, bounds=bounds)\n",
    "best_cost, best_position = optimizer.optimize(objective_function, iters=1000)"
   ]
  },
  {
   "attachments": {},
   "cell_type": "markdown",
   "metadata": {},
   "source": [
    "### Print the results"
   ]
  },
  {
   "cell_type": "code",
   "execution_count": 4,
   "metadata": {},
   "outputs": [
    {
     "name": "stdout",
     "output_type": "stream",
     "text": [
      "Best position: [7.91 0.01]\n",
      "Best cost: -0.072\n"
     ]
    }
   ],
   "source": [
    "print(\"Best position:\", np.round(best_position,2))\n",
    "\n",
    "print(\"Best cost:\", np.round(best_cost,3))"
   ]
  }
 ],
 "metadata": {
  "kernelspec": {
   "display_name": "ox",
   "language": "python",
   "name": "python3"
  },
  "language_info": {
   "codemirror_mode": {
    "name": "ipython",
    "version": 3
   },
   "file_extension": ".py",
   "mimetype": "text/x-python",
   "name": "python",
   "nbconvert_exporter": "python",
   "pygments_lexer": "ipython3",
   "version": "3.10.6"
  },
  "orig_nbformat": 4
 },
 "nbformat": 4,
 "nbformat_minor": 2
}
