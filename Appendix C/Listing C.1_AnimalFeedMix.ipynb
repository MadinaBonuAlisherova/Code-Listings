{
 "cells": [
  {
   "cell_type": "markdown",
   "id": "271478cf-502d-4d83-9ed4-907d9552c46f",
   "metadata": {},
   "source": [
    "# Solving Linear Programming Problem using PuLP\n",
    "## Animal feed mix problem"
   ]
  },
  {
   "cell_type": "code",
   "execution_count": 1,
   "id": "01663cc3-f7fc-4409-b008-94f083d0663f",
   "metadata": {},
   "outputs": [],
   "source": [
    "import pandas as pd\n",
    "from pulp import *"
   ]
  },
  {
   "cell_type": "markdown",
   "id": "55551c7e-a412-45db-bf34-15797e244527",
   "metadata": {},
   "source": [
    "## Implementation using dictionaries"
   ]
  },
  {
   "cell_type": "code",
   "execution_count": 2,
   "id": "8d9894a7-eb6e-4a47-bccc-7dff5558232e",
   "metadata": {},
   "outputs": [],
   "source": [
    "# Creates a list of the Ingredients\n",
    "Ingredients = [\"Limestone\", \"Corn\", \"Soybean meal\"]\n",
    "\n",
    "# A dictionary of Unit cost (cents/kg)\n",
    "Price = {\n",
    "    \"Limestone\": 10.0,\n",
    "    \"Corn\": 30.5,\n",
    "    \"Soybean meal\": 90.0,\n",
    "}\n",
    "\n",
    "# A dictionary of Calcium (kg/kg)\n",
    "Calcium = {\n",
    "    \"Limestone\": 0.38,\n",
    "    \"Corn\": 0.001,\n",
    "    \"Soybean meal\": 0.002,\n",
    "}\n",
    "\n",
    "# A dictionary of Proteinm (kg/kg)\n",
    "Protein = {\n",
    "    \"Limestone\": 0.0,\n",
    "    \"Corn\": 0.09,\n",
    "    \"Soybean meal\": 0.50,\n",
    "}\n",
    "\n",
    "\n",
    "# A dictionary of Fiber (kg/kg)\n",
    "Fiber = {\n",
    "    \"Limestone\": 0.0,\n",
    "    \"Corn\": 0.02,\n",
    "    \"Soybean meal\": 0.08,\n",
    "}"
   ]
  },
  {
   "cell_type": "code",
   "execution_count": 3,
   "id": "1c87920e-b97b-4df2-aff7-b10426e404b2",
   "metadata": {},
   "outputs": [],
   "source": [
    "# Create the model\n",
    "model = LpProblem(\"Animal_Feed_Mix_Problem\", LpMinimize)"
   ]
  },
  {
   "cell_type": "code",
   "execution_count": 4,
   "id": "3bb54542-37a5-4c17-bac4-ac2c513cda5c",
   "metadata": {},
   "outputs": [],
   "source": [
    "# A dictionary called 'ingredient_vars' is created to contain the referenced Variables\n",
    "ingredient_vars = LpVariable.dicts(\"Ingr\", Ingredients, 0)"
   ]
  },
  {
   "cell_type": "code",
   "execution_count": 5,
   "id": "74aceb20-7567-4122-964e-cbdc9e598695",
   "metadata": {},
   "outputs": [],
   "source": [
    "# The objective function is added to 'prob' first\n",
    "model += (lpSum([Price[i] * ingredient_vars[i] for i in Ingredients]),\"Total Cost of Ingredients per kg\",)"
   ]
  },
  {
   "cell_type": "code",
   "execution_count": 6,
   "id": "7164c802-6e3f-4c09-974d-747b517a4718",
   "metadata": {},
   "outputs": [],
   "source": [
    "# The five constraints are added to 'prob'\n",
    "model += (lpSum([Calcium[i] * ingredient_vars[i] for i in Ingredients]) >= 0.008, \"Minimum calcium\",)\n",
    "model += (lpSum([Calcium[i] * ingredient_vars[i] for i in Ingredients]) <= 0.012, \"Maximum calcium\",)\n",
    "model += (lpSum([Protein[i] * ingredient_vars[i] for i in Ingredients]) >=0.22, \"Minimum protein\",)\n",
    "model += (lpSum([Fiber[i] * ingredient_vars[i] for i in Ingredients]) <=0.05, \"MMaximum fiber\",)\n",
    "model += lpSum([ingredient_vars[i] for i in Ingredients]) == 1, \"Conservation\""
   ]
  },
  {
   "cell_type": "code",
   "execution_count": 7,
   "id": "7700e5dc-cbe5-48de-b109-0fd360c96558",
   "metadata": {},
   "outputs": [
    {
     "data": {
      "text/plain": [
       "1"
      ]
     },
     "execution_count": 7,
     "metadata": {},
     "output_type": "execute_result"
    }
   ],
   "source": [
    "# The problem is solved using PuLP's choice of Solver\n",
    "model.solve()"
   ]
  },
  {
   "cell_type": "code",
   "execution_count": 8,
   "id": "8a37aabd-1c95-4a71-a949-807a4ec61fab",
   "metadata": {},
   "outputs": [
    {
     "name": "stdout",
     "output_type": "stream",
     "text": [
      "Ingr_Corn = 65.0 %\n",
      "Ingr_Limestone = 3.0 %\n",
      "Ingr_Soybean_meal = 32.0 %\n",
      "Total cost of the mixture per kg =  49.16 $\n"
     ]
    }
   ],
   "source": [
    "# Print the results\n",
    "for v in model.variables():\n",
    "    print(v.name, '=', round(v.varValue,2)*100, '%')\n",
    "    \n",
    "# The optimised objective function value is printed to the screen\n",
    "print('Total cost of the mixture per kg = ', round(value(model.objective), 2), '$')   "
   ]
  },
  {
   "cell_type": "markdown",
   "id": "a5e37bdb-4768-4337-81a2-3ab74ce4bb3f",
   "metadata": {},
   "source": [
    "## Reading problem data from csv file"
   ]
  },
  {
   "cell_type": "code",
   "execution_count": 9,
   "id": "01c9c421-8ef1-4e46-b260-e57ccde0196e",
   "metadata": {},
   "outputs": [],
   "source": [
    "# reading csv file \n",
    "df = pd.read_csv('Blending_problem_data.csv')\n",
    "\n",
    "# converting datafarme to dict\n",
    "data = df.to_dict()  "
   ]
  },
  {
   "cell_type": "code",
   "execution_count": 10,
   "id": "299d7835-5332-4f4f-99e9-b9abf9f340a3",
   "metadata": {},
   "outputs": [
    {
     "data": {
      "text/plain": [
       "{'Ingredients': {0: 'Corn', 1: 'Limestone', 2: 'Soybean meal'},\n",
       " 'Calcium': {0: 0.001, 1: 0.38, 2: 0.002},\n",
       " 'Protein': {0: 0.09, 1: 0.0, 2: 0.5},\n",
       " 'Fiber': {0: 0.02, 1: 0.0, 2: 0.08},\n",
       " 'Price': {0: 30.5, 1: 10.0, 2: 90.0}}"
      ]
     },
     "execution_count": 10,
     "metadata": {},
     "output_type": "execute_result"
    }
   ],
   "source": [
    "data"
   ]
  },
  {
   "cell_type": "code",
   "execution_count": 11,
   "id": "4b3fb406-9439-4349-90b4-cf0a3dbdc5bf",
   "metadata": {},
   "outputs": [
    {
     "data": {
      "text/plain": [
       "1"
      ]
     },
     "execution_count": 11,
     "metadata": {},
     "output_type": "execute_result"
    }
   ],
   "source": [
    "# Create the model\n",
    "model = LpProblem(\"Animal_Feed_Mix_Problem\", LpMinimize)\n",
    "\n",
    "# A dictionary called 'ingredient_vars' is created to contain the referenced Variables\n",
    "ingredient_vars = LpVariable.dicts(\"Ingr\", data.get('Ingredients'), 0)\n",
    "\n",
    "# The objective function is added to 'prob' first\n",
    "model += (lpSum([data.get('Price')[i] * ingredient_vars[i] for i in data.get('Ingredients')]),\"Total Cost of Ingredients per kg\",)\n",
    "\n",
    "# The five constraints are added to 'prob'\n",
    "model += lpSum([ingredient_vars[i] for i in data.get('Ingredients')]) == 1, \"Conservation\"\n",
    "model += (lpSum([data.get('Calcium')[i] * ingredient_vars[i] for i in data.get('Ingredients')]) >= 0.008, \"Minimum calcium\",)\n",
    "model += (lpSum([data.get('Calcium')[i] * ingredient_vars[i] for i in data.get('Ingredients')]) <= 0.012, \"Maximum calcium\",)\n",
    "model += (lpSum([data.get('Protein')[i] * ingredient_vars[i] for i in data.get('Ingredients')]) >=0.22, \"Minimum protein\",)\n",
    "model += (lpSum([data.get('Fiber')[i] * ingredient_vars[i] for i in data.get('Ingredients')]) <=0.05, \"MMaximum fiber\",)\n",
    "\n",
    "# The problem is solved using PuLP's choice of Solver\n",
    "model.solve()"
   ]
  },
  {
   "cell_type": "code",
   "execution_count": 12,
   "id": "97cc5045-b0fd-4e4f-9966-d319fd10251c",
   "metadata": {},
   "outputs": [
    {
     "name": "stdout",
     "output_type": "stream",
     "text": [
      "Ingr_0 = 65.0 %\n",
      "Ingr_1 = 3.0 %\n",
      "Ingr_2 = 32.0 %\n",
      "Total cost of the mixture per kg =  49.16 $\n"
     ]
    }
   ],
   "source": [
    "# Print the results\n",
    "for v in model.variables():\n",
    "    print(v.name, '=', round(v.varValue,2)*100, '%')\n",
    "    \n",
    "# The optimised objective function value is printed to the screen\n",
    "print('Total cost of the mixture per kg = ', round(value(model.objective), 2), '$')   "
   ]
  }
 ],
 "metadata": {
  "kernelspec": {
   "display_name": "Python 3 (ipykernel)",
   "language": "python",
   "name": "python3"
  },
  "language_info": {
   "codemirror_mode": {
    "name": "ipython",
    "version": 3
   },
   "file_extension": ".py",
   "mimetype": "text/x-python",
   "name": "python",
   "nbconvert_exporter": "python",
   "pygments_lexer": "ipython3",
   "version": "3.10.6"
  }
 },
 "nbformat": 4,
 "nbformat_minor": 5
}
