{
 "cells": [
  {
   "attachments": {},
   "cell_type": "markdown",
   "metadata": {},
   "source": [
    "# RO High Pressure Pump Power Maximization Problem\n",
    "\n",
    "Reverse Osmosis (RO) is a very effective and important process for desalination and water waste reclamation. Assume that it is required to maximize the RO high pressure pump power. This power depends of a number of parameters according to the following equation:\n",
    "\n",
    "$HP=\\frac{M_d^2+1200 \\times M_d \\times N_v \\times \\Delta \\pi}{3600 \\times N_v \\times RR \\times \\eta \\times \\rho}$\n",
    "\n",
    "where, \n",
    "\n",
    "$HP$ is the RO high pressure pump power in kW\n",
    "\n",
    "$M_d$ is the RO productivity in m3/d and in the range of $41.67< M_d <416.67$ m3/d\n",
    "\n",
    "$N_v$ is number of pressure vessels and ranged as $1< N_v<200$\n",
    "\n",
    "$\\Delta \\pi$ is the net osmotic pressure across the membrane and in the range $1400<\\Delta \\pi<2600$ kPa\n",
    "\n",
    "$RR$ is the recovery ratio and ranged as $1< RR <50%$\n",
    "\n",
    "$\\eta$ the efficiency of the high pressure pump and in the range of $0.70< \\eta <0.85$ and\n",
    "\n",
    "$\\rho$ is density of water"
   ]
  },
  {
   "attachments": {},
   "cell_type": "markdown",
   "metadata": {},
   "source": [
    "### Define the problem"
   ]
  },
  {
   "cell_type": "code",
   "execution_count": 7,
   "metadata": {},
   "outputs": [],
   "source": [
    "import random\n",
    "\n",
    "# Define the range for each decision variable\n",
    "md_range = (41.67, 416.67)\n",
    "nv_range = (1, 200)\n",
    "delta_range = (1400, 2600)\n",
    "rr_range = (1, 50)\n",
    "eta_range = (0.70, 0.85)\n",
    "rho = 1000  # density of water in kg/m^3\n",
    "\n",
    "# Define the objective function\n",
    "def ro_pump_power(X):\n",
    "    md, nv, delta, rr, eta=X\n",
    "    return (md ** 2 + 1200 * md * nv * delta) / (nv * rr * 3600 * eta * rho)"
   ]
  },
  {
   "attachments": {},
   "cell_type": "markdown",
   "metadata": {},
   "source": [
    "## Solving the problem using Ant Colony Optimization (ACO) algorithm"
   ]
  },
  {
   "attachments": {},
   "cell_type": "markdown",
   "metadata": {},
   "source": [
    "### Initialization"
   ]
  },
  {
   "cell_type": "code",
   "execution_count": 8,
   "metadata": {},
   "outputs": [],
   "source": [
    "# Define the ACO parameters\n",
    "num_ants = 100\n",
    "num_iterations = 300\n",
    "evaporation_rate = 0.7\n",
    "pheromone_deposit = 1\n",
    "initial_pheromone = 0.25\n",
    "\n",
    "# Initialize the pheromone matrix\n",
    "pheromone_matrix = [[initial_pheromone] * 5 for _ in range(num_ants)]\n",
    "\n",
    "# Initialize the best solution and its corresponding power\n",
    "best_solution = None\n",
    "best_power = float('-inf')"
   ]
  },
  {
   "attachments": {},
   "cell_type": "markdown",
   "metadata": {},
   "source": [
    "### Start the ACO algorithm"
   ]
  },
  {
   "cell_type": "code",
   "execution_count": 9,
   "metadata": {},
   "outputs": [],
   "source": [
    "for _ in range(num_iterations):\n",
    "    solutions = []\n",
    "    powers = []\n",
    "\n",
    "    # Construct solutions for each ant\n",
    "    for ant in range(num_ants):\n",
    "        # Randomly select decision variables within their respective ranges\n",
    "        md = random.uniform(md_range[0], md_range[1])\n",
    "        nv = random.uniform(nv_range[0], nv_range[1])\n",
    "        delta = random.uniform(delta_range[0], delta_range[1])\n",
    "        rr = random.uniform(rr_range[0], rr_range[1])\n",
    "        eta = random.uniform(eta_range[0], eta_range[1])\n",
    "\n",
    "        # Calculate the power for the current solution\n",
    "        soln=(md, nv, delta, rr, eta)\n",
    "        power = ro_pump_power(soln)\n",
    "\n",
    "        # Store the solution and its power\n",
    "        solutions.append((md, nv, delta, rr, eta))\n",
    "        powers.append(power)\n",
    "\n",
    "        # Update the best solution if necessary\n",
    "        if power > best_power:\n",
    "            best_solution = (md, nv, delta, rr, eta)\n",
    "            best_power = power\n",
    "\n",
    "    # Update pheromone trails based on the power of each solution\n",
    "    for ant in range(num_ants):\n",
    "        for i in range(5):\n",
    "            pheromone_matrix[ant][i] *= evaporation_rate\n",
    "            if solutions[ant][i] == best_solution[i]:\n",
    "                pheromone_matrix[ant][i] += pheromone_deposit / powers[ant]"
   ]
  },
  {
   "attachments": {},
   "cell_type": "markdown",
   "metadata": {},
   "source": [
    "### Print the best solution and its power"
   ]
  },
  {
   "cell_type": "code",
   "execution_count": 10,
   "metadata": {},
   "outputs": [
    {
     "name": "stdout",
     "output_type": "stream",
     "text": [
      "Optimal Solution:\n",
      "Md: 404.10\n",
      "Nv: 7.39\n",
      "Delta: 2536.93\n",
      "RR: 1.05\n",
      "Eta: 0.76\n",
      "Optimal HP: 425.75\n"
     ]
    }
   ],
   "source": [
    "print(\"Optimal Solution:\")\n",
    "print(\"Md:\", format(best_solution[0], '.2f'))\n",
    "print(\"Nv:\", format(best_solution[1], '.2f'))\n",
    "print(\"Delta:\", format(best_solution[2], '.2f'))\n",
    "print(\"RR:\", format(best_solution[3], '.2f'))\n",
    "print(\"Eta:\", format(best_solution[4], '.2f'))\n",
    "print(\"Optimal HP:\", format(best_power, '.2f'))\n"
   ]
  },
  {
   "attachments": {},
   "cell_type": "markdown",
   "metadata": {},
   "source": [
    "## Solving the problem using scipy"
   ]
  },
  {
   "cell_type": "code",
   "execution_count": 11,
   "metadata": {},
   "outputs": [],
   "source": [
    "from scipy.optimize import minimize\n",
    "\n",
    "# Define the objective function with negative sign for minimization as per scipy's requirement\n",
    "def ro_pump_power(X):\n",
    "    md, nv, delta, rr, eta=X\n",
    "    return -(md ** 2 + 1200 * md * nv * delta) / (nv * rr * 3600 * eta * rho) \n",
    "\n",
    "# Set the bounds for the decision variables\n",
    "bounds = [md_range, nv_range, delta_range, rr_range, eta_range]\n",
    "x0=[200, 100, 2000, 25, 0.75]  # initial guess\n",
    "\n",
    "# Solve the optimization problem using Sequential Least Squares Programming (SLSQP)\n",
    "result = minimize(ro_pump_power, x0, bounds=bounds, method='SLSQP')"
   ]
  },
  {
   "attachments": {},
   "cell_type": "markdown",
   "metadata": {},
   "source": [
    "### Print the best solution and its power"
   ]
  },
  {
   "cell_type": "code",
   "execution_count": 12,
   "metadata": {},
   "outputs": [
    {
     "name": "stdout",
     "output_type": "stream",
     "text": [
      "Optimal Solution:\n",
      "Md: 416.67\n",
      "Nv: 99.98\n",
      "Delta: 2600.00\n",
      "RR: 1.00\n",
      "Eta: 0.70\n",
      "Optimal HP: 515.88\n"
     ]
    }
   ],
   "source": [
    "print(\"Optimal Solution:\")\n",
    "print(\"Md:\", format(result.x[0], '.2f'))\n",
    "print(\"Nv:\", format(result.x[1], '.2f'))\n",
    "print(\"Delta:\", format(result.x[2], '.2f'))\n",
    "print(\"RR:\", format(result.x[3], '.2f'))\n",
    "print(\"Eta:\", format(result.x[4], '.2f'))\n",
    "print(\"Optimal HP:\", format(-result.fun, '.2f'))"
   ]
  }
 ],
 "metadata": {
  "kernelspec": {
   "display_name": "ox",
   "language": "python",
   "name": "python3"
  },
  "language_info": {
   "codemirror_mode": {
    "name": "ipython",
    "version": 3
   },
   "file_extension": ".py",
   "mimetype": "text/x-python",
   "name": "python",
   "nbconvert_exporter": "python",
   "pygments_lexer": "ipython3",
   "version": "3.10.6"
  },
  "orig_nbformat": 4
 },
 "nbformat": 4,
 "nbformat_minor": 2
}
