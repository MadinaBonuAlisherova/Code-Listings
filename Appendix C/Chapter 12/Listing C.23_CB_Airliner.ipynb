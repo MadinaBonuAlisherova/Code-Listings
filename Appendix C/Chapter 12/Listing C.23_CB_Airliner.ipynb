{
 "cells": [
  {
   "cell_type": "markdown",
   "metadata": {},
   "source": [
    "#  Contextual bandit for airliner's flight operations\n",
    "\n",
    "<b> Requirements</b>\n",
    "\n",
    "vowpalwabbit==9.8.0\n",
    "<br>torch=1.13.1"
   ]
  },
  {
   "cell_type": "code",
   "execution_count": 1,
   "metadata": {},
   "outputs": [],
   "source": [
    "import vowpalwabbit\n",
    "import torch\n",
    "import matplotlib.pyplot as plt\n",
    "import pandas as pd\n",
    "import random\n",
    "import numpy as np"
   ]
  },
  {
   "cell_type": "markdown",
   "metadata": {},
   "source": [
    "### Define problem parameters"
   ]
  },
  {
   "cell_type": "code",
   "execution_count": 2,
   "metadata": {},
   "outputs": [],
   "source": [
    "# Shared Context\n",
    "flight_types = ['domestic', 'international']\n",
    "passenger_classes = ['business', 'economy', 'mix']\n",
    "\n",
    "# Action Options\n",
    "flight_routes = ['direct', 'fuel_efficient', 'turbulence_avoidance']\n",
    "meal_services = ['full_meal', 'simple_meal', 'snacks_beverages']\n",
    "entertainment_options = ['movies_music', 'in_flight_wifi', 'combo']"
   ]
  },
  {
   "cell_type": "markdown",
   "metadata": {},
   "source": [
    "### Reward function"
   ]
  },
  {
   "cell_type": "code",
   "execution_count": 3,
   "metadata": {},
   "outputs": [],
   "source": [
    "def reward_function(shared_context, flight_route, meal_service, entertainment_option):\n",
    "    # Reward Mapping for Flight Route\n",
    "    if flight_route == 'direct':\n",
    "        route_reward = np.random.normal(loc=0.9, scale=0.05)\n",
    "    elif flight_route == 'fuel_efficient':\n",
    "        route_reward = np.random.normal(loc=0.8, scale=0.05)\n",
    "    else:  # turbulence_avoidance\n",
    "        route_reward = np.random.normal(loc=0.7, scale=0.05)\n",
    "\n",
    "    # Reward Mapping for Meal Service\n",
    "    if meal_service == 'full_meal':\n",
    "        meal_reward = np.random.normal(loc=0.9, scale=0.05)\n",
    "    elif meal_service == 'simple_meal':\n",
    "        meal_reward = np.random.normal(loc=0.8, scale=0.05)\n",
    "    else:  # snacks_beverages\n",
    "        meal_reward = np.random.normal(loc=0.7, scale=0.05)\n",
    "\n",
    "    # Reward Mapping for In-Flight Entertainment\n",
    "    if entertainment_option == 'movies_music':\n",
    "        entertainment_reward = np.random.normal(loc=0.9, scale=0.05)\n",
    "    elif entertainment_option == 'in_flight_wifi':\n",
    "        entertainment_reward = np.random.normal(loc=0.8, scale=0.05)\n",
    "    else:  # combo\n",
    "        entertainment_reward = np.random.normal(loc=0.7, scale=0.05)\n",
    "\n",
    "    # Overall Reward as the average of individual rewards\n",
    "    reward = (route_reward + meal_reward + entertainment_reward) / 3.0\n",
    "\n",
    "    return reward"
   ]
  },
  {
   "cell_type": "markdown",
   "metadata": {},
   "source": [
    "### Generate combinations"
   ]
  },
  {
   "cell_type": "code",
   "execution_count": 4,
   "metadata": {},
   "outputs": [],
   "source": [
    "def generate_combinations(shared_context, flight_routes, meal_services, entertainment_options):\n",
    "    examples = [f\"shared |FlightType {shared_context[0]} PassClass {shared_context[1]}\"]\n",
    "    descriptions = []\n",
    "    for route in flight_routes:\n",
    "        for meal in meal_services:\n",
    "            for entertainment in entertainment_options:\n",
    "                examples.append(f\"|Action route={route} meal={meal} entertainment={entertainment}\")\n",
    "                descriptions.append((route, meal, entertainment))\n",
    "    return examples, descriptions"
   ]
  },
  {
   "cell_type": "markdown",
   "metadata": {},
   "source": [
    "### Sample using a probability mass function (PMF)"
   ]
  },
  {
   "cell_type": "code",
   "execution_count": 5,
   "metadata": {},
   "outputs": [],
   "source": [
    "def sample_truck_pmf(pmf):\n",
    "    pmf_tensor = torch.tensor(pmf)\n",
    "    index = torch.multinomial(pmf_tensor, 1).item()\n",
    "    chosen_prob = pmf[index]\n",
    "    \n",
    "    return index, chosen_prob"
   ]
  },
  {
   "cell_type": "markdown",
   "metadata": {},
   "source": [
    "### Create a contexual bandit\n",
    "\n",
    "Vowpal Wabbit offers five exploration algorithms:\n",
    "\n",
    "Explore-First: --first\n",
    "\n",
    "Epsilon-Greedy: --epsilon\n",
    "\n",
    "Bagging Explorer: --bag\n",
    "\n",
    "Online Cover: --cover\n",
    "\n",
    "Softmax Explorer: --softmax (only supported for --cb_explore_adf)"
   ]
  },
  {
   "cell_type": "code",
   "execution_count": 6,
   "metadata": {},
   "outputs": [],
   "source": [
    "cb_vw = vowpalwabbit.Workspace(\n",
    "    \"--cb_explore_adf --epsilon 0.2 --interactions AA AU AAU -l 0.05 --power_t 0\",\n",
    "    quiet=True,\n",
    ")"
   ]
  },
  {
   "cell_type": "markdown",
   "metadata": {},
   "source": [
    "### Run the CB"
   ]
  },
  {
   "cell_type": "code",
   "execution_count": 7,
   "metadata": {},
   "outputs": [],
   "source": [
    "num_iterations = 2500\n",
    "cb_rewards = []\n",
    "for _ in range(num_iterations):\n",
    "    shared_context = (random.choice(flight_types), random.choice(passenger_classes))\n",
    "    examples, indices = generate_combinations(\n",
    "        shared_context, flight_routes, meal_services, entertainment_options\n",
    "    )\n",
    "    cb_prediction = cb_vw.predict(examples)\n",
    "    chosen_index, prob = sample_truck_pmf(cb_prediction)\n",
    "    route, meal, entertainment = indices[chosen_index]\n",
    "    reward = reward_function(shared_context, route, meal, entertainment)\n",
    "    cb_rewards.append(reward)\n",
    "    examples[chosen_index + 1] = f\"0:{-1*reward}:{prob} {examples[chosen_index + 1]}\"\n",
    "    cb_vw.learn(examples)\n",
    "cb_vw.finish()"
   ]
  },
  {
   "cell_type": "markdown",
   "metadata": {},
   "source": [
    "### Plot the average reward"
   ]
  },
  {
   "cell_type": "code",
   "execution_count": 8,
   "metadata": {},
   "outputs": [
    {
     "data": {
      "image/png": "[encoded data removed]",
      "text/plain": [
       "<Figure size 640x480 with 1 Axes>"
      ]
     },
     "metadata": {},
     "output_type": "display_data"
    }
   ],
   "source": [
    "plt.plot(pd.Series(cb_rewards).expanding().mean())\n",
    "plt.xlabel(\"Iterations\")\n",
    "plt.ylabel(\"Average reward\")\n",
    "plt.show()\n",
    "# plt.savefig(\"CB_Airliner.png\", dpi=300, bbox_inches=\"tight\")"
   ]
  },
  {
   "cell_type": "markdown",
   "metadata": {},
   "source": [
    "### Use trained model to perform predictions on a test set"
   ]
  },
  {
   "cell_type": "code",
   "execution_count": 9,
   "metadata": {},
   "outputs": [
    {
     "name": "stdout",
     "output_type": "stream",
     "text": [
      "Chosen Action: |Action route=direct meal=full_meal entertainment=movies_music\n",
      "Expected Reward: 0.8847576670992647\n"
     ]
    }
   ],
   "source": [
    "def test_model(shared_context, flight_routes, meal_services, entertainment_options):\n",
    "    examples, _ = generate_combinations(shared_context, flight_routes, meal_services, entertainment_options)\n",
    "    cb_prediction = cb_vw.predict(examples)\n",
    "    chosen_index, prob = sample_truck_pmf(cb_prediction)\n",
    "    chosen_action = examples[chosen_index + 1]\n",
    "    route, meal, entertainment = indices[chosen_index]\n",
    "    expected_reward = reward_function(shared_context, route, meal, entertainment)\n",
    "    print(\"Chosen Action:\", chosen_action)\n",
    "    print(\"Expected Reward:\", expected_reward)\n",
    "\n",
    "# Test the model for a given shared context\n",
    "test_shared_context = ('domestic', 'business')\n",
    "test_model(test_shared_context, flight_routes, meal_services, entertainment_options)"
   ]
  }
 ],
 "metadata": {
  "kernelspec": {
   "display_name": "pygeometric",
   "language": "python",
   "name": "python3"
  },
  "language_info": {
   "codemirror_mode": {
    "name": "ipython",
    "version": 3
   },
   "file_extension": ".py",
   "mimetype": "text/x-python",
   "name": "python",
   "nbconvert_exporter": "python",
   "pygments_lexer": "ipython3",
   "version": "3.7.12"
  },
  "orig_nbformat": 4
 },
 "nbformat": 4,
 "nbformat_minor": 2
}
