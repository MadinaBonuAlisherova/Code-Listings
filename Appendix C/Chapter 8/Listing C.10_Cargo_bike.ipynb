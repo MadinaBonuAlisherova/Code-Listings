{
 "cells": [
  {
   "attachments": {},
   "cell_type": "markdown",
   "metadata": {},
   "source": [
    "# Solving Cargo bike problem using GA"
   ]
  },
  {
   "cell_type": "code",
   "execution_count": 7,
   "metadata": {},
   "outputs": [],
   "source": [
    "# Solve using GA in pymoo\n",
    "import numpy as np\n",
    "import pandas as pd\n",
    "import matplotlib.pyplot as plt\n",
    "from pymoo.algorithms.soo.nonconvex.ga import GA\n",
    "from pymoo.operators.crossover.ux import UniformCrossover\n",
    "from pymoo.operators.mutation.pm import PolynomialMutation\n",
    "from pymoo.operators.sampling.rnd import FloatRandomSampling\n",
    "from pymoo.termination.default import DefaultSingleObjectiveTermination\n",
    "from pymoo.core.problem import Problem\n",
    "from pymoo.optimize import minimize"
   ]
  },
  {
   "cell_type": "code",
   "execution_count": 8,
   "metadata": {},
   "outputs": [],
   "source": [
    "# Define the problem\n",
    "class CargoBike(Problem):\n",
    "    def __init__(self, weights, efficiency, capacity):\n",
    "        super().__init__(n_var=len(weights), n_obj=1, n_constr=1, xl=0, xu=1, vtype=bool)\n",
    "        self.weights = weights\n",
    "        self.efficiency = efficiency\n",
    "        self.capacity = capacity\n",
    "\n",
    "    def _evaluate(self, x, out, *args, **kwargs):\n",
    "        x = np.round(x)  # Ensure X is binary\n",
    "        total_weight = np.sum(self.weights * x, axis=1)\n",
    "        total_profit = np.sum(self.efficiency * x, axis=1)\n",
    "        out[\"F\"] = -total_profit[:, None]\n",
    "        out[\"G\"] = np.where(total_weight <= self.capacity, 0, total_weight - self.capacity)[:, None]"
   ]
  },
  {
   "cell_type": "code",
   "execution_count": 9,
   "metadata": {},
   "outputs": [
    {
     "name": "stdout",
     "output_type": "stream",
     "text": [
      "=================================================================================\n",
      "n_gen  |  n_eval  |     cv_min    |     cv_avg    |     f_avg     |     f_min    \n",
      "=================================================================================\n",
      "     1 |      200 |  0.000000E+00 |  0.000000E+00 | -5.681650E+00 | -1.058000E+01\n",
      "     2 |      400 |  0.000000E+00 |  0.000000E+00 | -7.784250E+00 | -1.064000E+01\n",
      "     3 |      600 |  0.000000E+00 |  0.000000E+00 | -8.995750E+00 | -1.064000E+01\n",
      "     4 |      800 |  0.000000E+00 |  0.000000E+00 | -9.671650E+00 | -1.064000E+01\n",
      "     5 |     1000 |  0.000000E+00 |  0.000000E+00 | -1.009180E+01 | -1.064000E+01\n",
      "     6 |     1200 |  0.000000E+00 |  0.000000E+00 | -1.030145E+01 | -1.064000E+01\n",
      "     7 |     1400 |  0.000000E+00 |  0.000000E+00 | -1.058830E+01 | -1.064000E+01\n",
      "     8 |     1600 |  0.000000E+00 |  0.000000E+00 | -1.064000E+01 | -1.064000E+01\n",
      "     9 |     1800 |  0.000000E+00 |  0.000000E+00 | -1.064000E+01 | -1.064000E+01\n",
      "    10 |     2000 |  0.000000E+00 |  0.000000E+00 | -1.064000E+01 | -1.064000E+01\n",
      "    11 |     2200 |  0.000000E+00 |  0.000000E+00 | -1.064000E+01 | -1.064000E+01\n",
      "    12 |     2400 |  0.000000E+00 |  0.000000E+00 | -1.064000E+01 | -1.064000E+01\n",
      "    13 |     2600 |  0.000000E+00 |  0.000000E+00 | -1.064000E+01 | -1.064000E+01\n",
      "    14 |     2800 |  0.000000E+00 |  0.000000E+00 | -1.064000E+01 | -1.064000E+01\n",
      "    15 |     3000 |  0.000000E+00 |  0.000000E+00 | -1.064000E+01 | -1.064000E+01\n",
      "    16 |     3200 |  0.000000E+00 |  0.000000E+00 | -1.064000E+01 | -1.064000E+01\n",
      "    17 |     3400 |  0.000000E+00 |  0.000000E+00 | -1.064000E+01 | -1.064000E+01\n",
      "    18 |     3600 |  0.000000E+00 |  0.000000E+00 | -1.064000E+01 | -1.064000E+01\n",
      "    19 |     3800 |  0.000000E+00 |  0.000000E+00 | -1.064000E+01 | -1.064000E+01\n",
      "    20 |     4000 |  0.000000E+00 |  0.000000E+00 | -1.064000E+01 | -1.064000E+01\n",
      "    21 |     4200 |  0.000000E+00 |  0.000000E+00 | -1.064000E+01 | -1.064000E+01\n",
      "    22 |     4400 |  0.000000E+00 |  0.000000E+00 | -1.064000E+01 | -1.064000E+01\n",
      "    23 |     4600 |  0.000000E+00 |  0.000000E+00 | -1.064000E+01 | -1.064000E+01\n",
      "    24 |     4800 |  0.000000E+00 |  0.000000E+00 | -1.064000E+01 | -1.064000E+01\n",
      "    25 |     5000 |  0.000000E+00 |  0.000000E+00 | -1.064000E+01 | -1.064000E+01\n",
      "    26 |     5200 |  0.000000E+00 |  0.000000E+00 | -1.064000E+01 | -1.064000E+01\n",
      "    27 |     5400 |  0.000000E+00 |  0.000000E+00 | -1.064000E+01 | -1.064000E+01\n",
      "    28 |     5600 |  0.000000E+00 |  0.000000E+00 | -1.064000E+01 | -1.064000E+01\n",
      "    29 |     5800 |  0.000000E+00 |  0.000000E+00 | -1.064000E+01 | -1.064000E+01\n",
      "    30 |     6000 |  0.000000E+00 |  0.000000E+00 | -1.064000E+01 | -1.064000E+01\n",
      "    31 |     6200 |  0.000000E+00 |  0.000000E+00 | -1.064000E+01 | -1.064000E+01\n",
      "    32 |     6400 |  0.000000E+00 |  0.000000E+00 | -1.064000E+01 | -1.064000E+01\n",
      "Best solution found: [0.57473251 0.15067847 0.59061272 0.75060544 0.77736266 0.77698797\n",
      " 0.79274146 0.81454846 0.56879849 0.53261612]\n",
      "Best objective value: 10.64\n"
     ]
    }
   ],
   "source": [
    "# # Read data from CSV file\n",
    "# df = pd.read_csv('Cargo_bike_data.csv')\n",
    "# weights = df['Weight (kg)'].values\n",
    "# profits = df['Profit ($)'].values\n",
    "# efficiency = df['Efficiency ($/Kg)'].values\n",
    "# capacity = df['Capacity'].iloc[0]\n",
    "\n",
    "# Define problem inputs\n",
    "weights = np.array([14.6, 20, 8.5, 10, 13, 9.6, 4.9, 16.5, 8.77, 7.8])\n",
    "profits = np.array([14.54, 15.26, 5.8, 12.12, 8.2, 7.4, 10.3, 13.5, 6.6, 20.9])\n",
    "efficiency = np.array([1.00, 0.76, 0.68, 1.21, 0.63, 0.77, 2.1, 0.82, 0.75, 2.68])\n",
    "capacity = 100\n",
    "df=pd.DataFrame({'Weight (kg)':weights,'Profit ($)':profits,'Efficiency ($/Kg)':efficiency})\n",
    "\n",
    "# Define problem\n",
    "problem = CargoBike(weights, efficiency, capacity)\n",
    "\n",
    "# Define genetic algorithm\n",
    "algorithm = GA(\n",
    "    pop_size=200,\n",
    "    sampling=FloatRandomSampling(),\n",
    "    crossover=UniformCrossover(prob=1.0),\n",
    "    mutation=PolynomialMutation(prob=0.5),\n",
    "    eliminate_duplicates=True\n",
    ")\n",
    "\n",
    "termination = DefaultSingleObjectiveTermination()\n",
    "\n",
    "# Run the optimization\n",
    "res = minimize(problem, algorithm, termination, verbose=True)\n",
    "\n",
    "# Print results\n",
    "print(f\"Best solution found: {res.X}\")\n",
    "print(f\"Best objective value: {-res.F[0]}\")"
   ]
  },
  {
   "cell_type": "code",
   "execution_count": 10,
   "metadata": {},
   "outputs": [
    {
     "data": {
      "image/png": "[encoded data removed]",
      "text/plain": [
       "<Figure size 640x480 with 2 Axes>"
      ]
     },
     "metadata": {},
     "output_type": "display_data"
    }
   ],
   "source": [
    "# Visualize solution\n",
    "# selected_items = df.loc[np.where(res.X >=0.5)[0], :]\n",
    "res_bool=np.round(res.X)\n",
    "selected_items = df.loc[res_bool.astype(bool), :]\n",
    "\n",
    "fig, ax1 = plt.subplots()\n",
    "# Plot bar chart on axis #1\n",
    "ax1.bar(1+selected_items.index, selected_items['Efficiency ($/Kg)']) \n",
    "ax1.set_ylabel('Efficiency ($/Kg)')\n",
    "ax1.set_ylim(0, 5)\n",
    "ax1.legend(['Efficiency ($/Kg)'], loc=\"upper left\")\n",
    "\n",
    "# Set up the 2nd axis\n",
    "ax2 = ax1.twinx()\n",
    "# Plot bar chart on axis #2\n",
    "ax2.bar(1+selected_items.index, selected_items['Weight (kg)'], width=0.5, alpha=0.5, color='orange')\n",
    "ax2.grid(False) # turn off grid #2\n",
    "ax2.set_ylabel('Weight (kg)')\n",
    "ax2.set_ylim(0, 30)\n",
    "ax2.legend(['Weight (kg)'], loc=\"upper right\")\n",
    "plt.show()"
   ]
  },
  {
   "cell_type": "code",
   "execution_count": 12,
   "metadata": {},
   "outputs": [
    {
     "name": "stdout",
     "output_type": "stream",
     "text": [
      "Total weight of selected items: 93.67\n",
      "Total profit of selected items: 10.64\n",
      "The selected items:\n",
      "    Weight (kg)  Profit ($)  Efficiency ($/Kg)\n",
      "0        14.60       14.54               1.00\n",
      "2         8.50        5.80               0.68\n",
      "3        10.00       12.12               1.21\n",
      "4        13.00        8.20               0.63\n",
      "5         9.60        7.40               0.77\n",
      "6         4.90       10.30               2.10\n",
      "7        16.50       13.50               0.82\n",
      "8         8.77        6.60               0.75\n",
      "9         7.80       20.90               2.68\n"
     ]
    }
   ],
   "source": [
    "# Print total weight and value of selected items\n",
    "total_weight = selected_items['Weight (kg)'].sum()\n",
    "total_profit = selected_items['Efficiency ($/Kg)'].sum()\n",
    "print(f\"Total weight of selected items: {round(total_weight,2)}\")\n",
    "print(f\"Total profit of selected items: {round(total_profit,2)}\")\n",
    "print(\"The selected items:\\n\", selected_items)"
   ]
  }
 ],
 "metadata": {
  "kernelspec": {
   "display_name": "ox",
   "language": "python",
   "name": "python3"
  },
  "language_info": {
   "codemirror_mode": {
    "name": "ipython",
    "version": 3
   },
   "file_extension": ".py",
   "mimetype": "text/x-python",
   "name": "python",
   "nbconvert_exporter": "python",
   "pygments_lexer": "ipython3",
   "version": "3.10.6"
  },
  "orig_nbformat": 4,
  "vscode": {
   "interpreter": {
    "hash": "899ff88a75886fc7a7b40f2d92fee8f59f6284588a3bf99939bb8f65c5caf859"
   }
  }
 },
 "nbformat": 4,
 "nbformat_minor": 2
}
