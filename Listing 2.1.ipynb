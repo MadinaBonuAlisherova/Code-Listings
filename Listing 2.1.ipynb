{
 "cells": [
  {
   "cell_type": "code",
   "execution_count": null,
   "metadata": {},
   "outputs": [],
   "source": [
    "import numpy as np\n",
    "import matplotlib.pyplot as plt\n",
    " \n",
    "def objective_unimodal(x, y):    #A\n",
    "    return x**2.0 + y**2.0\n",
    " \n",
    "def objective_multimodal(x, y):    #B\n",
    "    return np.sin(x) * np.cos(y)\n",
    " \n",
    "def objective_deceptive(x, y):    #C  \n",
    "    return (x**2 + y - 11) ** 2 + (x + y**2 - 7) ** 2\n",
    " \n",
    "fig = plt.figure(figsize = (12,10))\n",
    "ax = fig.add_subplot(1,3,1, projection='3d')\n",
    " \n",
    "x = np.arange(-5, 5.1, 0.2)\n",
    "y = np.arange(-5, 5.1, 0.2)\n",
    " \n",
    "X, Y = np.meshgrid(x, y)\n",
    "Z = objective_unimodal(X, Y)\n",
    "surf = ax.plot_surface(X, Y, Z, cmap=plt.cm.cividis)\n",
    "ax.set_title(\"Unimodal/Convex function\")\n",
    " \n",
    "ax = fig.add_subplot(1,3,2, projection='3d')\n",
    "Z = objective_multimodal(X, Y)\n",
    "surf = ax.plot_surface(X, Y, Z, cmap=plt.cm.cividis)\n",
    "ax.set_title(\"Multimodal function\")\n",
    " \n",
    "ax = fig.add_subplot(1,3,3, projection='3d')\n",
    "Z = objective_deceptive(X, Y)\n",
    "surf = ax.plot_surface(X, Y, Z, cmap=plt.cm.cividis)\n",
    "ax.set_title(\"Deceptive function\")\n",
    " \n",
    "plt.show()\n"
   ]
  }
 ],
 "metadata": {
  "language_info": {
   "name": "python"
  },
  "orig_nbformat": 4
 },
 "nbformat": 4,
 "nbformat_minor": 2
}
