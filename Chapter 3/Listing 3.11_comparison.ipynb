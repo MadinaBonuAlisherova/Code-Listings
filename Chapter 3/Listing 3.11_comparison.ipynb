{
 "cells": [
  {
   "cell_type": "code",
   "execution_count": 1,
   "metadata": {},
   "outputs": [],
   "source": [
    "import sys\n",
    "# adding search_optimization_tools to the system path\n",
    "sys.path.insert(0, '../')"
   ]
  },
  {
   "cell_type": "code",
   "execution_count": 2,
   "metadata": {},
   "outputs": [
    {
     "name": "stderr",
     "output_type": "stream",
     "text": [
      "C:\\Users\\Alaa\\.conda\\envs\\ox\\lib\\site-packages\\osmnx\\utils.py:192: UserWarning: The `utils.config` function is deprecated and will be removed in a future release. Instead, use the `settings` module directly to configure a global setting's value. For example, `ox.settings.log_console=True`.\n",
      "  warnings.warn(\n"
     ]
    }
   ],
   "source": [
    "import osmnx\n",
    "from search_optimization_tools.structures import Node\n",
    "from search_optimization_tools.routing import cost, draw_route\n",
    "from search_optimization_tools.algorithms.graph_search import BFS, DFS, Dijkstra, UCS, Bidirectional_Dijkstra\n",
    "\n",
    "osmnx.utils.config(requests_kwargs={'verify':False})\n",
    "reference = (43.661667, -79.395)\n",
    "G = osmnx.graph_from_point(reference, dist=300, clean_periphery=True, simplify=True)\n",
    "\n",
    "# First convert the source and destination nodes to Node\n",
    "origin = Node(graph=G, osmid=55808290)\n",
    "destination = Node(graph=G, osmid=389677909)"
   ]
  },
  {
   "cell_type": "code",
   "execution_count": 3,
   "metadata": {},
   "outputs": [
    {
     "name": "stdout",
     "output_type": "stream",
     "text": [
      "Cost: 955.962 m\n",
      "Process time: 0.015625 s\n",
      "Space required: 1152 bytes\n",
      "Explored nodes: 276\n"
     ]
    },
    {
     "data": {
      "application/vnd.jupyter.widget-view+json": {
       "model_id": "12dc4478ed1c458fbde8877309e83a92",
       "version_major": 2,
       "version_minor": 0
      },
      "text/plain": [
       "Map(center=[43.6639415, -79.3922841], controls=(ZoomControl(options=['position', 'zoom_in_text', 'zoom_in_titl…"
      ]
     },
     "execution_count": 3,
     "metadata": {},
     "output_type": "execute_result"
    }
   ],
   "source": [
    "solution = BFS(origin, destination)\n",
    "route = solution.result\n",
    "print(f\"Cost: {cost(G,route)} m\")\n",
    "print(f\"Process time: {solution.time} s\")\n",
    "print(f\"Space required: {solution.space} bytes\")\n",
    "print(f\"Explored nodes: {solution.explored}\")\n",
    "draw_route(G,route)"
   ]
  },
  {
   "cell_type": "code",
   "execution_count": 4,
   "metadata": {},
   "outputs": [
    {
     "name": "stdout",
     "output_type": "stream",
     "text": [
      "Cost: 3511.375 m\n",
      "Process time: 0.015625 s\n",
      "Space required: 1152 bytes\n",
      "Explored nodes: 154\n"
     ]
    },
    {
     "data": {
      "application/vnd.jupyter.widget-view+json": {
       "model_id": "5f0fe0c0ecd74863910622e992c965b0",
       "version_major": 2,
       "version_minor": 0
      },
      "text/plain": [
       "Map(center=[43.6639415, -79.3922841], controls=(ZoomControl(options=['position', 'zoom_in_text', 'zoom_in_titl…"
      ]
     },
     "execution_count": 4,
     "metadata": {},
     "output_type": "execute_result"
    }
   ],
   "source": [
    "solution = DFS(origin, destination)\n",
    "route = solution.result\n",
    "print(f\"Cost: {cost(G,route)} m\")\n",
    "print(f\"Process time: {solution.time} s\")\n",
    "print(f\"Space required: {solution.space} bytes\")\n",
    "print(f\"Explored nodes: {solution.explored}\")\n",
    "draw_route(G,route)"
   ]
  },
  {
   "cell_type": "code",
   "execution_count": 5,
   "metadata": {},
   "outputs": [
    {
     "name": "stdout",
     "output_type": "stream",
     "text": [
      "Cost: 806.892 m\n",
      "Process time: 0.25 s\n",
      "Space required: 3704 bytes\n",
      "Explored nodes: 391\n"
     ]
    },
    {
     "data": {
      "application/vnd.jupyter.widget-view+json": {
       "model_id": "101a1bffe65846ac8372308dfaaf1824",
       "version_major": 2,
       "version_minor": 0
      },
      "text/plain": [
       "Map(center=[43.6639415, -79.3922841], controls=(ZoomControl(options=['position', 'zoom_in_text', 'zoom_in_titl…"
      ]
     },
     "execution_count": 5,
     "metadata": {},
     "output_type": "execute_result"
    }
   ],
   "source": [
    "unrelaxed_nodes = [Node(G, osmid) for osmid in G.nodes()]\n",
    "solution = Dijkstra(origin, destination, unrelaxed_nodes)\n",
    "route = solution.result\n",
    "print(f\"Cost: {cost(G,route)} m\")\n",
    "print(f\"Process time: {solution.time} s\")\n",
    "print(f\"Space required: {solution.space} bytes\")\n",
    "print(f\"Explored nodes: {solution.explored}\")\n",
    "draw_route(G,route)"
   ]
  },
  {
   "cell_type": "code",
   "execution_count": 6,
   "metadata": {},
   "outputs": [
    {
     "name": "stdout",
     "output_type": "stream",
     "text": [
      "Cost: 806.892 m\n",
      "Process time: 0.09375 s\n",
      "Space required: 568 bytes\n",
      "Explored nodes: 391\n"
     ]
    },
    {
     "data": {
      "application/vnd.jupyter.widget-view+json": {
       "model_id": "55914fc65da74c88b601eb2aadeee243",
       "version_major": 2,
       "version_minor": 0
      },
      "text/plain": [
       "Map(center=[43.6639415, -79.3922841], controls=(ZoomControl(options=['position', 'zoom_in_text', 'zoom_in_titl…"
      ]
     },
     "execution_count": 6,
     "metadata": {},
     "output_type": "execute_result"
    }
   ],
   "source": [
    "solution = UCS(origin, destination)\n",
    "route = solution.result\n",
    "print(f\"Cost: {cost(G,route)} m\")\n",
    "print(f\"Process time: {solution.time} s\")\n",
    "print(f\"Space required: {solution.space} bytes\")\n",
    "print(f\"Explored nodes: {solution.explored}\")\n",
    "draw_route(G,route)"
   ]
  },
  {
   "cell_type": "code",
   "execution_count": 7,
   "metadata": {},
   "outputs": [
    {
     "name": "stdout",
     "output_type": "stream",
     "text": [
      "Cost: 806.892 m\n",
      "Process time: 0.21875 s\n",
      "Space required: 3704 bytes\n",
      "Explored nodes: 284\n"
     ]
    },
    {
     "data": {
      "application/vnd.jupyter.widget-view+json": {
       "model_id": "cddd4c23986c4f269c5bbbcd9cc8a540",
       "version_major": 2,
       "version_minor": 0
      },
      "text/plain": [
       "Map(center=[43.6639415, -79.3922841], controls=(ZoomControl(options=['position', 'zoom_in_text', 'zoom_in_titl…"
      ]
     },
     "execution_count": 7,
     "metadata": {},
     "output_type": "execute_result"
    }
   ],
   "source": [
    "unrelaxed_nodes = [Node(G,osmid) for osmid in G.nodes()]\n",
    "solution = Bidirectional_Dijkstra(origin, destination, unrelaxed_nodes)\n",
    "route = solution.result\n",
    "print(f\"Cost: {cost(G,route)} m\")\n",
    "print(f\"Process time: {solution.time} s\")\n",
    "print(f\"Space required: {solution.space} bytes\")\n",
    "print(f\"Explored nodes: {solution.explored}\")\n",
    "draw_route(G,route)"
   ]
  }
 ],
 "metadata": {
  "interpreter": {
   "hash": "ffbfc792e496a15b6b750fac43e7a9afdc7c26545a7abda9dc172ad3cb978227"
  },
  "kernelspec": {
   "display_name": "Python 3 (ipykernel)",
   "language": "python",
   "name": "python3"
  },
  "language_info": {
   "codemirror_mode": {
    "name": "ipython",
    "version": 3
   },
   "file_extension": ".py",
   "mimetype": "text/x-python",
   "name": "python",
   "nbconvert_exporter": "python",
   "pygments_lexer": "ipython3",
   "version": "3.10.6"
  }
 },
 "nbformat": 4,
 "nbformat_minor": 4
}
