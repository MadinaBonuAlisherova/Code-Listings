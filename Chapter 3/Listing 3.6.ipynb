{
 "cells": [
  {
   "cell_type": "code",
   "execution_count": 1,
   "metadata": {},
   "outputs": [],
   "source": [
    "import osmnx\n",
    "from search_optimization_tools.structures import Node\n",
    "from search_optimization_tools.routing import cost, draw_route\n",
    "from search_optimization_tools.algorithms import BFS, DFS, Dijkstra, UCS\n",
    "import math \n",
    "import heapq\n",
    "\n",
    "osmnx.utils.config(requests_kwargs={'verify':False})\n",
    "reference = (43.661667, -79.395)\n",
    "G = osmnx.graph_from_point(reference, dist=300, clean_periphery=True, simplify=True)\n",
    "\n",
    "# First convert the source and destination nodes to Node\n",
    "origin = Node(graph=G, osmid=55808290)\n",
    "destination = Node(graph=G, osmid=389677909)"
   ]
  },
  {
   "cell_type": "code",
   "execution_count": 2,
   "metadata": {},
   "outputs": [
    {
     "name": "stdout",
     "output_type": "stream",
     "text": [
      "Cost: 805.233 m\n",
      "Process time: 0.0 s\n",
      "Space required: 1152 bytes\n",
      "Explored nodes: 278\n"
     ]
    },
    {
     "data": {
      "application/vnd.jupyter.widget-view+json": {
       "model_id": "1c4a9ad51c8548398eb5aa8dae76955e",
       "version_major": 2,
       "version_minor": 0
      },
      "text/plain": [
       "Map(center=[43.6639415, -79.3922841], controls=(ZoomControl(options=['position', 'zoom_in_text', 'zoom_in_titl…"
      ]
     },
     "metadata": {},
     "output_type": "display_data"
    }
   ],
   "source": [
    "solution = BFS(origin, destination)\n",
    "route = solution.result\n",
    "print(f\"Cost: {cost(G,route)} m\")\n",
    "print(f\"Process time: {solution.time} s\")\n",
    "print(f\"Space required: {solution.space} bytes\")\n",
    "print(f\"Explored nodes: {solution.explored}\")\n",
    "draw_route(G,route)"
   ]
  },
  {
   "cell_type": "code",
   "execution_count": 3,
   "metadata": {},
   "outputs": [
    {
     "name": "stdout",
     "output_type": "stream",
     "text": [
      "Cost: 3196.753 m\n",
      "Process time: 0.015625 s\n",
      "Space required: 1152 bytes\n",
      "Explored nodes: 153\n"
     ]
    },
    {
     "data": {
      "application/vnd.jupyter.widget-view+json": {
       "model_id": "577b3b2ddc1545ca94987bd038cd71e0",
       "version_major": 2,
       "version_minor": 0
      },
      "text/plain": [
       "Map(center=[43.6639415, -79.3922841], controls=(ZoomControl(options=['position', 'zoom_in_text', 'zoom_in_titl…"
      ]
     },
     "metadata": {},
     "output_type": "display_data"
    }
   ],
   "source": [
    "solution = DFS(origin, destination)\n",
    "route = solution.result\n",
    "print(f\"Cost: {cost(G,route)} m\")\n",
    "print(f\"Process time: {solution.time} s\")\n",
    "print(f\"Space required: {solution.space} bytes\")\n",
    "print(f\"Explored nodes: {solution.explored}\")\n",
    "draw_route(G,route)"
   ]
  },
  {
   "cell_type": "code",
   "execution_count": 4,
   "metadata": {},
   "outputs": [
    {
     "name": "stdout",
     "output_type": "stream",
     "text": [
      "Cost: 806.892 m\n",
      "Process time: 0.03125 s\n",
      "Space required: 3752 bytes\n",
      "Explored nodes: 393\n"
     ]
    },
    {
     "data": {
      "application/vnd.jupyter.widget-view+json": {
       "model_id": "f141073ef54b4d90ba7c4d658c698049",
       "version_major": 2,
       "version_minor": 0
      },
      "text/plain": [
       "Map(center=[43.6639415, -79.3922841], controls=(ZoomControl(options=['position', 'zoom_in_text', 'zoom_in_titl…"
      ]
     },
     "metadata": {},
     "output_type": "display_data"
    }
   ],
   "source": [
    "unrelaxed_nodes = [Node(G, osmid) for osmid in G.nodes()]\n",
    "solution = Dijkstra(origin, destination, unrelaxed_nodes)\n",
    "route = solution.result\n",
    "print(f\"Cost: {cost(G,route)} m\")\n",
    "print(f\"Process time: {solution.time} s\")\n",
    "print(f\"Space required: {solution.space} bytes\")\n",
    "print(f\"Explored nodes: {solution.explored}\")\n",
    "draw_route(G,route)"
   ]
  },
  {
   "cell_type": "code",
   "execution_count": 6,
   "metadata": {},
   "outputs": [
    {
     "name": "stdout",
     "output_type": "stream",
     "text": [
      "Cost: 806.892 m\n",
      "Process time: 0.03125 s\n",
      "Space required: 592 bytes\n",
      "Explored nodes: 393\n"
     ]
    },
    {
     "data": {
      "application/vnd.jupyter.widget-view+json": {
       "model_id": "dc64d727328b4499b4ddfe20b36d1826",
       "version_major": 2,
       "version_minor": 0
      },
      "text/plain": [
       "Map(center=[43.6639415, -79.3922841], controls=(ZoomControl(options=['position', 'zoom_in_text', 'zoom_in_titl…"
      ]
     },
     "metadata": {},
     "output_type": "display_data"
    }
   ],
   "source": [
    "solution = UCS(origin, destination)\n",
    "route = solution.result\n",
    "print(f\"Cost: {cost(G,route)} m\")\n",
    "print(f\"Process time: {solution.time} s\")\n",
    "print(f\"Space required: {solution.space} bytes\")\n",
    "print(f\"Explored nodes: {solution.explored}\")\n",
    "draw_route(G,route)"
   ]
  }
 ],
 "metadata": {
  "interpreter": {
   "hash": "ffbfc792e496a15b6b750fac43e7a9afdc7c26545a7abda9dc172ad3cb978227"
  },
  "kernelspec": {
   "display_name": "Python 3.8.8 64-bit",
   "language": "python",
   "name": "python3"
  },
  "language_info": {
   "codemirror_mode": {
    "name": "ipython",
    "version": 3
   },
   "file_extension": ".py",
   "mimetype": "text/x-python",
   "name": "python",
   "nbconvert_exporter": "python",
   "pygments_lexer": "ipython3",
   "version": "3.8.8"
  },
  "orig_nbformat": 4
 },
 "nbformat": 4,
 "nbformat_minor": 2
}
