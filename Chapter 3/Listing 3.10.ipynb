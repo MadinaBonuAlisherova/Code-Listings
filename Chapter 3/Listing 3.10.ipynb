{
 "cells": [
  {
   "cell_type": "code",
   "execution_count": 3,
   "metadata": {},
   "outputs": [],
   "source": [
    "from search_optimization_tools.algorithms.graph_search import DFS\n",
    "from eight_puzzle_problem import State"
   ]
  },
  {
   "cell_type": "code",
   "execution_count": 4,
   "metadata": {},
   "outputs": [
    {
     "name": "stdout",
     "output_type": "stream",
     "text": [
      "Process time: 0.0 s\n",
      "Space required: 624 bytes\n",
      "Explored states: 29\n",
      "Number of steps: 30\n"
     ]
    }
   ],
   "source": [
    "init_state = [[1,4,2],\n",
    "              [3,7,5],\n",
    "              [6,0,8]]\n",
    "\n",
    "goal_state = [[0,1,2],\n",
    "              [3,4,5],\n",
    "              [6,7,8]]\n",
    "\n",
    "\n",
    "init_state = State(init_state)\n",
    "goal_state = State(goal_state)\n",
    "\n",
    "\n",
    "# Check if there's even a solution\n",
    "if not init_state.is_solvable():\n",
    "    print(\"This puzzle is not solvable.\")\n",
    "else:\n",
    "    # The actual solution\n",
    "    solution = DFS(init_state, goal_state)\n",
    "    print(f\"Process time: {solution.time} s\")\n",
    "    print(f\"Space required: {solution.space} bytes\")\n",
    "    print(f\"Explored states: {solution.explored}\")\n",
    "    print(f\"Number of steps: {len(solution.result)}\")\n"
   ]
  }
 ],
 "metadata": {
  "interpreter": {
   "hash": "ffbfc792e496a15b6b750fac43e7a9afdc7c26545a7abda9dc172ad3cb978227"
  },
  "kernelspec": {
   "display_name": "Python 3.8.8 64-bit",
   "language": "python",
   "name": "python3"
  },
  "language_info": {
   "codemirror_mode": {
    "name": "ipython",
    "version": 3
   },
   "file_extension": ".py",
   "mimetype": "text/x-python",
   "name": "python",
   "nbconvert_exporter": "python",
   "pygments_lexer": "ipython3",
   "version": "3.8.8"
  },
  "orig_nbformat": 4
 },
 "nbformat": 4,
 "nbformat_minor": 2
}
