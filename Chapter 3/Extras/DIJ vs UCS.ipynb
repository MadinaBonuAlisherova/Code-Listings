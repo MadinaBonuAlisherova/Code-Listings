{
 "cells": [
  {
   "cell_type": "code",
   "execution_count": 1,
   "metadata": {},
   "outputs": [],
   "source": [
    "import osmnx\n",
    "import math\n",
    "import heapq\n",
    "from optalgotools.structures import Node\n",
    "reference = (43.661667, -79.395)\n",
    "G = osmnx.graph_from_point(reference, dist=300, clean_periphery=True, simplify=True)"
   ]
  },
  {
   "cell_type": "code",
   "execution_count": 2,
   "metadata": {},
   "outputs": [
    {
     "data": {
      "text/plain": [
       "1517"
      ]
     },
     "execution_count": 2,
     "metadata": {},
     "output_type": "execute_result"
    }
   ],
   "source": [
    "len(G.edges)+len(G.nodes)"
   ]
  },
  {
   "cell_type": "code",
   "execution_count": 3,
   "metadata": {},
   "outputs": [],
   "source": [
    "def Dijkstra(G, origin, destination):\n",
    "    # Using a set here avoids the problem with self loops\n",
    "    seen = set()\n",
    "    shortest_dist = {osmid: math.inf for osmid in G.nodes()}\n",
    "    unrelaxed_nodes = [Node(graph=G, osmid=osmid) for osmid in G.nodes()]\n",
    "    shortest_dist[origin.osmid] = 0\n",
    "    found = False\n",
    "    route = None\n",
    "    while len(unrelaxed_nodes) > 0 and not found:\n",
    "        node = min(unrelaxed_nodes, key=lambda node: shortest_dist[node.osmid])\n",
    "        # relaxing the node, so this node's value in shortest_dist is the shortest distance between the origin and destination\n",
    "        unrelaxed_nodes.remove(node)\n",
    "        seen.add(node.osmid)\n",
    "        # if the destination node has been relaxed then that is the route we want\n",
    "        if node == destination:\n",
    "            route = node.path()\n",
    "            found = True\n",
    "            continue\n",
    "        # otherwise, let's relax edges of its neighbours\n",
    "        for child in node.expand():\n",
    "            # skip self-loops\n",
    "            if child.osmid in seen:\n",
    "                continue\n",
    "            child_obj = next(\n",
    "                (node for node in unrelaxed_nodes if node.osmid == child.osmid), None\n",
    "            )\n",
    "            child_obj.distance = child.distance\n",
    "            distance = shortest_dist[node.osmid] + child.distance\n",
    "            if distance < shortest_dist[child_obj.osmid]:\n",
    "                shortest_dist[child_obj.osmid] = distance\n",
    "                child_obj.parent = node\n",
    "    return route"
   ]
  },
  {
   "cell_type": "code",
   "execution_count": 4,
   "metadata": {},
   "outputs": [],
   "source": [
    "def UCS(origin, destination):\n",
    "    entry_count = 1\n",
    "    priority_queue = [(0, 0, origin)]\n",
    "    found = False\n",
    "    visited = []\n",
    "    route = None\n",
    "    while priority_queue and not found:\n",
    "        node = heapq.heappop(priority_queue)\n",
    "        node_cost = node[0]\n",
    "        node = node[2]\n",
    "        if node in visited:\n",
    "            continue\n",
    "        visited.append(node)\n",
    "        # We found the destination\n",
    "        if node == destination:\n",
    "            route = node.path()\n",
    "            found = True\n",
    "            continue\n",
    "        for child in node.expand():\n",
    "            total_cost = child.distance + node_cost\n",
    "            matches = [item for item in priority_queue if item[2] == child]\n",
    "            if matches:\n",
    "                # Update the entry if the new priority is better\n",
    "                if total_cost < matches[0][0]:\n",
    "                    priority_queue[priority_queue.index(matches[0])] = (\n",
    "                        total_cost,\n",
    "                        entry_count,\n",
    "                        child,\n",
    "                    )\n",
    "                    entry_count += 1\n",
    "                    heapq.heapify(priority_queue)\n",
    "            else:\n",
    "                heapq.heappush(priority_queue, (total_cost, entry_count, child))\n",
    "                entry_count += 1\n",
    "    return route"
   ]
  },
  {
   "cell_type": "code",
   "execution_count": 5,
   "metadata": {},
   "outputs": [],
   "source": [
    "from time import process_time\n",
    "\n",
    "s = process_time()\n",
    "for node1 in G.nodes:\n",
    "    for node2 in G.nodes:\n",
    "        Dijkstra(G,Node(G,node1),Node(G,node2))\n",
    "e = process_time()\n",
    "\n",
    "e-s\n"
   ]
  },
  {
   "cell_type": "code",
   "execution_count": null,
   "metadata": {},
   "outputs": [],
   "source": [
    "s = process_time()\n",
    "for node1 in G.nodes:\n",
    "    for node2 in G.nodes:\n",
    "        UCS(Node(G,node1),Node(G,node2))\n",
    "e = process_time()\n",
    "\n",
    "e-s"
   ]
  }
 ],
 "metadata": {
  "kernelspec": {
   "display_name": "ox",
   "language": "python",
   "name": "python3"
  },
  "language_info": {
   "codemirror_mode": {
    "name": "ipython",
    "version": 3
   },
   "file_extension": ".py",
   "mimetype": "text/x-python",
   "name": "python",
   "nbconvert_exporter": "python",
   "pygments_lexer": "ipython3",
   "version": "3.10.6"
  },
  "vscode": {
   "interpreter": {
    "hash": "899ff88a75886fc7a7b40f2d92fee8f59f6284588a3bf99939bb8f65c5caf859"
   }
  }
 },
 "nbformat": 4,
 "nbformat_minor": 4
}
