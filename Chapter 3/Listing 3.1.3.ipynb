{
 "cells": [
  {
   "cell_type": "code",
   "execution_count": null,
   "metadata": {},
   "outputs": [],
   "source": [
    "import networkx as nx\n",
    "import matplotlib.pyplot as plt\n",
    "\n",
    "graph = nx.MultiGraph()\n",
    "nodes = list(range(5))\n",
    "edges = [(0,1),(0,1),(4,3),(1,2), (1,3), (2,3),(3,4),(0,1)]\n",
    "graph.add_nodes_from(nodes)\n",
    "graph.add_edges_from(edges)\n",
    "\n",
    "# Manually define axis and positions for all elements\n",
    "pos = nx.kamada_kawai_layout(graph)\n",
    "ax = plt.gca()\n",
    "\n",
    "# Draw each edges one at a time, modifying curvature by index\n",
    "for e in graph.edges:\n",
    "    ax.annotate(\"\",xy=pos[e[0]], xycoords='data', xytext=pos[e[1]], textcoords='data', arrowprops=dict(arrowstyle=\"-\", connectionstyle=f\"arc3, rad={0.3*e[2]}\"),zorder=1)\n",
    "\n",
    "# Draw nodes and node labels\n",
    "nx.draw_networkx_nodes(graph, pos)\n",
    "nx.draw_networkx_labels(graph,pos, font_color='w')\n",
    "\n",
    "plt.show()\n"
   ]
  }
 ],
 "metadata": {
  "language_info": {
   "name": "python"
  },
  "orig_nbformat": 4
 },
 "nbformat": 4,
 "nbformat_minor": 2
}
