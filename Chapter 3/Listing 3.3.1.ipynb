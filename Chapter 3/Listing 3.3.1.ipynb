{
 "cells": [
  {
   "cell_type": "code",
   "execution_count": 1,
   "metadata": {},
   "outputs": [
    {
     "data": {
      "application/vnd.jupyter.widget-view+json": {
       "model_id": "b43f6568a4ff4e569ea1b7bbfc199200",
       "version_major": 2,
       "version_minor": 0
      },
      "text/plain": [
       "Map(center=[43.662643, -79.395689], controls=(ZoomControl(options=['position', 'zoom_in_text', 'zoom_in_title'…"
      ]
     },
     "metadata": {},
     "output_type": "display_data"
    }
   ],
   "source": [
    "from ipyleaflet import Map, Marker, AwesomeIcon\n",
    "\n",
    "center=(43.662643, -79.395689) # University of Toronto\n",
    "source_point = (43.664527, -79.392442) # Equestrian Statue\n",
    "destination_point = (43.659659, -79.397669) # Bahen Centre\n",
    "\n",
    "m = Map(center=center, zoom=15)\n",
    "m.add_layer(Marker(location=source_point, icon=AwesomeIcon(name='camera', marker_color='red')))\n",
    "m.add_layer(Marker(location=center, icon=AwesomeIcon(name='graduation-cap')))\n",
    "m.add_layer(Marker(location=destination_point, icon=AwesomeIcon(name='university',marker_color='green')))\n",
    "m\n"
   ]
  }
 ],
 "metadata": {
  "interpreter": {
   "hash": "ffbfc792e496a15b6b750fac43e7a9afdc7c26545a7abda9dc172ad3cb978227"
  },
  "kernelspec": {
   "display_name": "Python 3.8.8 64-bit",
   "language": "python",
   "name": "python3"
  },
  "language_info": {
   "codemirror_mode": {
    "name": "ipython",
    "version": 3
   },
   "file_extension": ".py",
   "mimetype": "text/x-python",
   "name": "python",
   "nbconvert_exporter": "python",
   "pygments_lexer": "ipython3",
   "version": "3.8.8"
  },
  "orig_nbformat": 4
 },
 "nbformat": 4,
 "nbformat_minor": 2
}
