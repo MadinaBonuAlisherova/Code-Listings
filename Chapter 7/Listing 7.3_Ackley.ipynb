{
 "cells": [
  {
   "cell_type": "code",
   "execution_count": 11,
   "metadata": {},
   "outputs": [
    {
     "name": "stdout",
     "output_type": "stream",
     "text": [
      "Generation 0: Best fitness = 12.729493263576398\n",
      "Generation 1: Best fitness = 12.15363554274606\n",
      "Generation 2: Best fitness = 11.833592537080513\n",
      "Generation 3: Best fitness = 14.804545894414328\n",
      "Generation 4: Best fitness = 11.36500858714188\n",
      "Generation 5: Best fitness = 12.053505215867952\n",
      "Generation 6: Best fitness = 12.257414870089422\n",
      "Generation 7: Best fitness = 11.605835611103819\n",
      "Generation 8: Best fitness = 14.297185613378414\n",
      "Generation 9: Best fitness = 14.229302653553194\n",
      "Generation 10: Best fitness = 11.365128108941608\n",
      "Generation 11: Best fitness = 12.053505215867952\n",
      "Generation 12: Best fitness = 13.655962561782012\n",
      "Generation 13: Best fitness = 10.200967970883108\n",
      "Generation 14: Best fitness = 11.719176764739766\n",
      "Generation 15: Best fitness = 12.154738505269275\n",
      "Generation 16: Best fitness = 12.44984576552783\n",
      "Generation 17: Best fitness = 12.254636878987016\n",
      "Generation 18: Best fitness = 12.154366064626327\n",
      "Generation 19: Best fitness = 12.050760828938412\n",
      "Generation 20: Best fitness = 13.373493355952109\n",
      "Generation 21: Best fitness = 11.232216830703962\n",
      "Generation 22: Best fitness = 11.940703691917998\n",
      "Generation 23: Best fitness = 14.170169107850665\n",
      "Generation 24: Best fitness = 13.14374345847298\n",
      "Generation 25: Best fitness = 13.53208207410256\n",
      "Generation 26: Best fitness = 14.661997654726017\n",
      "Generation 27: Best fitness = 13.217681575516114\n",
      "Generation 28: Best fitness = 9.251354401929222\n",
      "Generation 29: Best fitness = 12.453401590098476\n",
      "Generation 30: Best fitness = 11.719768133153462\n",
      "Generation 31: Best fitness = 12.053505215867954\n",
      "Generation 32: Best fitness = 12.451664265784217\n",
      "Generation 33: Best fitness = 11.485170498470897\n",
      "Generation 34: Best fitness = 11.237707305989897\n",
      "Generation 35: Best fitness = 12.546130180802495\n",
      "Generation 36: Best fitness = 11.361792040191082\n",
      "Generation 37: Best fitness = 12.725882544840955\n",
      "Generation 38: Best fitness = 12.727269255972384\n",
      "Generation 39: Best fitness = 12.899376221435809\n",
      "Generation 40: Best fitness = 13.864420833625259\n",
      "Generation 41: Best fitness = 12.726515263196875\n",
      "Generation 42: Best fitness = 9.250821428766926\n",
      "Generation 43: Best fitness = 11.486230900273934\n",
      "Generation 44: Best fitness = 12.988922513767525\n",
      "Generation 45: Best fitness = 12.35403402505203\n",
      "Generation 46: Best fitness = 11.72092437665819\n",
      "Generation 47: Best fitness = 12.723641282932979\n",
      "Generation 48: Best fitness = 12.819491723273865\n",
      "Generation 49: Best fitness = 11.485170498470895\n",
      "Generation 50: Best fitness = 11.834674454671196\n",
      "Generation 51: Best fitness = 13.370970339851874\n",
      "Generation 52: Best fitness = 10.523525981991913\n",
      "Generation 53: Best fitness = 12.633858734310147\n",
      "Generation 54: Best fitness = 12.54549800791824\n",
      "Generation 55: Best fitness = 11.360079182534205\n",
      "Generation 56: Best fitness = 12.634228351311465\n",
      "Generation 57: Best fitness = 9.028301025044131\n",
      "Generation 58: Best fitness = 13.386685865149934\n",
      "Generation 59: Best fitness = 12.73247529977291\n",
      "Generation 60: Best fitness = 10.676286043091697\n",
      "Generation 61: Best fitness = 13.451428467663266\n",
      "Generation 62: Best fitness = 12.154366064626327\n",
      "Generation 63: Best fitness = 12.050760828938412\n",
      "Generation 64: Best fitness = 12.355840222507277\n",
      "Generation 65: Best fitness = 11.365128108941608\n",
      "Generation 66: Best fitness = 13.669286155064205\n",
      "Generation 67: Best fitness = 12.25455543433459\n",
      "Generation 68: Best fitness = 10.028803722221237\n",
      "Generation 69: Best fitness = 13.221542563293335\n",
      "Generation 70: Best fitness = 10.825177141852066\n",
      "Generation 71: Best fitness = 12.543294167931373\n",
      "Generation 72: Best fitness = 12.158223616167252\n",
      "Generation 73: Best fitness = 12.812854062203515\n",
      "Generation 74: Best fitness = 9.028628282347167\n",
      "Generation 75: Best fitness = 10.82304345853233\n",
      "Generation 76: Best fitness = 13.142310847874402\n",
      "Generation 77: Best fitness = 11.719176764739766\n",
      "Generation 78: Best fitness = 14.506114471078666\n",
      "Generation 79: Best fitness = 13.227598358459371\n",
      "Generation 80: Best fitness = 13.937827468581034\n",
      "Generation 81: Best fitness = 12.453401590098476\n",
      "Generation 82: Best fitness = 13.992121283906489\n",
      "Generation 83: Best fitness = 14.22773281782387\n",
      "Generation 84: Best fitness = 11.946525729319662\n",
      "Generation 85: Best fitness = 13.593427872963805\n",
      "Generation 86: Best fitness = 12.723641282932979\n",
      "Generation 87: Best fitness = 13.447860401954378\n",
      "Generation 88: Best fitness = 12.049664427072804\n",
      "Generation 89: Best fitness = 11.720560629857555\n",
      "Generation 90: Best fitness = 11.234393806931228\n",
      "Generation 91: Best fitness = 11.943199982355107\n",
      "Generation 92: Best fitness = 14.51294187164452\n",
      "Generation 93: Best fitness = 13.374776258859166\n",
      "Generation 94: Best fitness = 10.963618428014692\n",
      "Generation 95: Best fitness = 12.732475299772908\n",
      "Generation 96: Best fitness = 14.10971143692741\n",
      "Generation 97: Best fitness = 14.04839612089403\n",
      "Generation 98: Best fitness = 8.792537328827294\n",
      "Generation 99: Best fitness = 13.144783689470493\n"
     ]
    }
   ],
   "source": [
    "import random\n",
    "import math\n",
    "\n",
    "# Define constants for the genetic algorithm\n",
    "POPULATION_SIZE = 100\n",
    "GENOME_LENGTH = 30\n",
    "MUTATION_RATE = 0.1\n",
    "CROSSOVER_RATE = 0.8\n",
    "GENERATIONS = 100\n",
    "\n",
    "# Define constants for the Ackley function\n",
    "a = 20\n",
    "b = 0.2\n",
    "c = 2 * math.pi\n",
    "\n",
    "# Define the fitness function (Ackley function)\n",
    "def fitness(genome):\n",
    "    x = decode(genome)\n",
    "    term1 = -a * math.exp(-b * math.sqrt(sum([(xi ** 2) for xi in x]) / len(x)))\n",
    "    term2 = -math.exp(sum([math.cos(c * xi) for xi in x]) / len(x))\n",
    "    return term1 + term2 + a + math.exp(1)\n",
    "\n",
    "# Define the decode function to convert binary genome to real values\n",
    "def decode(genome):\n",
    "    x = []\n",
    "    for i in range(0, GENOME_LENGTH, 5):\n",
    "        binary_string = \"\".join([str(bit) for bit in genome[i:i+5]])\n",
    "        x.append(int(binary_string, 2) / 31 * 32 - 16)\n",
    "    return x\n",
    "\n",
    "# Define the crossover function\n",
    "def crossover(parent1, parent2):\n",
    "    child1 = []\n",
    "    child2 = []\n",
    "    for i in range(GENOME_LENGTH):\n",
    "        if random.random() < CROSSOVER_RATE:\n",
    "            child1.append(parent2[i])\n",
    "            child2.append(parent1[i])\n",
    "        else:\n",
    "            child1.append(parent1[i])\n",
    "            child2.append(parent2[i])\n",
    "    return child1, child2\n",
    "\n",
    "# Define the mutation function\n",
    "def mutate(genome):\n",
    "    for i in range(GENOME_LENGTH):\n",
    "        if random.random() < MUTATION_RATE:\n",
    "            genome[i] = 1 - genome[i]\n",
    "\n",
    "# Create the initial population\n",
    "population = [[random.randint(0, 1) for _ in range(GENOME_LENGTH)] for _ in range(POPULATION_SIZE)]\n",
    "\n",
    "# Run the genetic algorithm\n",
    "for generation in range(GENERATIONS):\n",
    "    # Evaluate the fitness of each genome\n",
    "    fitness_scores = [(genome, fitness(genome)) for genome in population]\n",
    "    fitness_scores.sort(key=lambda x: x[1])\n",
    "    \n",
    "    # Print the best genome and its fitness\n",
    "    print(f\"Generation {generation}: Best fitness = {fitness_scores[0][1]}\")\n",
    "    \n",
    "    # Select the parents for the next generation\n",
    "    parents = [fitness_scores[i][0] for i in range(POPULATION_SIZE // 2)]\n",
    "    \n",
    "    # Create the next generation\n",
    "    next_generation = []\n",
    "    for i in range(POPULATION_SIZE // 2):\n",
    "        parent1 = random.choice(parents)\n",
    "        parent2 = random.choice(parents)\n",
    "        child1, child2 = crossover(parent1, parent2)\n",
    "        mutate(child1)\n",
    "        mutate(child2)\n",
    "        next_generation.append(child1)\n",
    "        next_generation.append(child2)\n",
    "    \n",
    "    # Replace the current population with the next generation\n",
    "    population = next_generation\n",
    "\n"
   ]
  },
  {
   "cell_type": "code",
   "execution_count": 12,
   "metadata": {},
   "outputs": [
    {
     "name": "stdout",
     "output_type": "stream",
     "text": [
      "Generation 100: Best fitness = 13.662278321737654\n"
     ]
    }
   ],
   "source": [
    "# Print the best genome and its fitness\n",
    "fitness_scores = [(genome, fitness(genome)) for genome in population]\n",
    "fitness_scores.sort(key=lambda x: x[1])\n",
    "print(f\"Generation {GENERATIONS}: Best fitness = {fitness_scores[0][1]}\")"
   ]
  },
  {
   "cell_type": "code",
   "execution_count": 13,
   "metadata": {},
   "outputs": [
    {
     "name": "stdout",
     "output_type": "stream",
     "text": [
      "Best genome = [0, 1, 1, 1, 0, 1, 0, 0, 1, 0, 0, 1, 1, 0, 0, 0, 1, 0, 0, 0, 1, 0, 0, 1, 1, 0, 1, 1, 0, 0]\n"
     ]
    }
   ],
   "source": [
    "# print the best genome\n",
    "print(f\"Best genome = {fitness_scores[0][0]}\")"
   ]
  },
  {
   "cell_type": "code",
   "execution_count": 14,
   "metadata": {},
   "outputs": [
    {
     "name": "stdout",
     "output_type": "stream",
     "text": [
      "Best genome decoded = [-1.548387096774194, 2.580645161290324, -3.612903225806452, -7.741935483870968, 3.612903225806452, -3.612903225806452]\n"
     ]
    }
   ],
   "source": [
    "# decode the best genome\n",
    "print(f\"Best genome decoded = {decode(fitness_scores[0][0])}\")"
   ]
  },
  {
   "cell_type": "code",
   "execution_count": 15,
   "metadata": {},
   "outputs": [
    {
     "name": "stdout",
     "output_type": "stream",
     "text": [
      "Decision variables in real values = [-1.548387096774194, 2.580645161290324, -3.612903225806452, -7.741935483870968, 3.612903225806452, -3.612903225806452]\n"
     ]
    }
   ],
   "source": [
    "# print deciion variables in real values\n",
    "print(f\"Decision variables in real values = {decode(fitness_scores[0][0])}\")"
   ]
  }
 ],
 "metadata": {
  "kernelspec": {
   "display_name": "ox",
   "language": "python",
   "name": "python3"
  },
  "language_info": {
   "codemirror_mode": {
    "name": "ipython",
    "version": 3
   },
   "file_extension": ".py",
   "mimetype": "text/x-python",
   "name": "python",
   "nbconvert_exporter": "python",
   "pygments_lexer": "ipython3",
   "version": "3.10.6"
  },
  "orig_nbformat": 4,
  "vscode": {
   "interpreter": {
    "hash": "899ff88a75886fc7a7b40f2d92fee8f59f6284588a3bf99939bb8f65c5caf859"
   }
  }
 },
 "nbformat": 4,
 "nbformat_minor": 2
}
