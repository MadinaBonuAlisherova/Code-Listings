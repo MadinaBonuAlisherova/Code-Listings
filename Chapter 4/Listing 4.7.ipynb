{
 "cells": [
  {
   "cell_type": "code",
   "execution_count": 46,
   "metadata": {},
   "outputs": [],
   "source": [
    "from itertools import islice\n",
    "from sys import getsizeof\n",
    "from time import process_time\n",
    "\n",
    "import matplotlib.pyplot as plt\n",
    "import osmnx\n",
    "from search_optimization_tools.routing import (cost, draw_route, get_child,\n",
    "                                               randomized_search)\n",
    "from search_optimization_tools.structures import Node, Solution\n",
    "\n",
    "osmnx.utils.config(requests_kwargs={\"verify\": False})\n",
    "reference = (43.661667, -79.395)\n",
    "G = osmnx.graph_from_point(reference, dist=300, clean_periphery=True, simplify=True)\n",
    "\n",
    "# First convert the source and destination nodes to Node\n",
    "origin = Node(graph=G, osmid=55808290)\n",
    "destination = Node(graph=G, osmid=389677909)\n"
   ]
  },
  {
   "cell_type": "code",
   "execution_count": 47,
   "metadata": {},
   "outputs": [],
   "source": [
    "def Hill_Climbing(G, origin, destination, k=20):\n",
    "    time_start = process_time()  # Time tracking\n",
    "\n",
    "    # Visualize the costs over time\n",
    "    costs = []\n",
    "\n",
    "    current = randomized_search(G, origin.osmid, destination.osmid)\n",
    "    costs.append(cost(G, current))\n",
    "    print(\"Initial cost:\", costs[0])\n",
    "\n",
    "    neighbours = list(islice(get_child(G, current), k))\n",
    "    space_required = getsizeof(neighbours)\n",
    "    shortest = min(neighbours, key=lambda route: cost(G, route))\n",
    "\n",
    "    print(\"Initial min(children):\", cost(G, shortest))\n",
    "    while cost(G, shortest) < cost(G, current):\n",
    "        current = shortest\n",
    "        neighbours = list(islice(get_child(G, current), k))\n",
    "        shortest = min(neighbours, key=lambda route: cost(G, route))\n",
    "        costs.append(cost(G, current))\n",
    "        print(f\"Current cost:\", costs[-1], \"|\", \"min(children):\", cost(G, shortest))\n",
    "\n",
    "    route = current\n",
    "    time_end = process_time()  # Time tracking\n",
    "    return Solution(route, time_end - time_start, space_required, costs)\n"
   ]
  },
  {
   "cell_type": "code",
   "execution_count": 48,
   "metadata": {},
   "outputs": [
    {
     "name": "stdout",
     "output_type": "stream",
     "text": [
      "Initial cost: 890.843\n",
      "Initial min(children): 860.999\n",
      "Current cost: 860.999 | min(children): 841.835\n",
      "Current cost: 841.835 | min(children): 806.892\n",
      "Current cost: 806.892 | min(children): 813.0\n",
      "Cost: 806.892 m\n",
      "Process time: 21.546875 s\n",
      "Space required: 976 bytes\n"
     ]
    },
    {
     "data": {
      "application/vnd.jupyter.widget-view+json": {
       "model_id": "8332107abaf041dd9b22b009d48d77f7",
       "version_major": 2,
       "version_minor": 0
      },
      "text/plain": [
       "Map(center=[43.6639415, -79.3922841], controls=(ZoomControl(options=['position', 'zoom_in_text', 'zoom_in_titl…"
      ]
     },
     "metadata": {},
     "output_type": "display_data"
    },
    {
     "data": {
      "image/png": "[encoded data removed]",
      "text/plain": [
       "<Figure size 432x288 with 1 Axes>"
      ]
     },
     "metadata": {
      "needs_background": "light"
     },
     "output_type": "display_data"
    }
   ],
   "source": [
    "solution = Hill_Climbing(G, origin, destination, k=100)\n",
    "route = solution.result\n",
    "print(f\"Cost: {cost(G,route)} m\")\n",
    "print(f\"Process time: {solution.time} s\")\n",
    "print(f\"Space required: {solution.space} bytes\")\n",
    "plt.plot(solution.explored)\n",
    "plt.xticks(list(range(len(solution.explored))))\n",
    "plt.ylabel(\"Cost (m)\")\n",
    "plt.xlabel(\"Iteration\")\n",
    "draw_route(G,route)"
   ]
  }
 ],
 "metadata": {
  "kernelspec": {
   "display_name": "Python 3.8.8 64-bit",
   "language": "python",
   "name": "python3"
  },
  "language_info": {
   "codemirror_mode": {
    "name": "ipython",
    "version": 3
   },
   "file_extension": ".py",
   "mimetype": "text/x-python",
   "name": "python",
   "nbconvert_exporter": "python",
   "pygments_lexer": "ipython3",
   "version": "3.8.8"
  },
  "orig_nbformat": 4,
  "vscode": {
   "interpreter": {
    "hash": "ffbfc792e496a15b6b750fac43e7a9afdc7c26545a7abda9dc172ad3cb978227"
   }
  }
 },
 "nbformat": 4,
 "nbformat_minor": 2
}
