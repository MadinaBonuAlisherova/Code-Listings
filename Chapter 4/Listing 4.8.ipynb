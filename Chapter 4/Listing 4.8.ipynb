{
 "cells": [
  {
   "cell_type": "code",
   "execution_count": 26,
   "metadata": {},
   "outputs": [],
   "source": [
    "from itertools import islice\n",
    "from sys import getsizeof\n",
    "from time import process_time\n",
    "import heapq\n",
    "import numpy as np\n",
    "import matplotlib.pyplot as plt\n",
    "import osmnx\n",
    "from search_optimization_tools.routing import (cost, draw_route, get_child,\n",
    "                                               randomized_search)\n",
    "from search_optimization_tools.structures import Node, Solution\n",
    "\n",
    "osmnx.utils.config(requests_kwargs={\"verify\": False})\n",
    "reference = (43.661667, -79.395)\n",
    "G = osmnx.graph_from_point(reference, dist=300, clean_periphery=True, simplify=True)\n",
    "\n",
    "# First convert the source and destination nodes to Node\n",
    "origin = Node(graph=G, osmid=55808290)\n",
    "destination = Node(graph=G, osmid=389677909)\n"
   ]
  },
  {
   "cell_type": "code",
   "execution_count": 27,
   "metadata": {},
   "outputs": [],
   "source": [
    "def get_beam(G, beam, n=20):\n",
    "    new_beam = []\n",
    "    for route in beam:\n",
    "        neighbours = list(islice(get_child(G, route), n))\n",
    "        new_beam.extend(neighbours)\n",
    "    return new_beam"
   ]
  },
  {
   "cell_type": "code",
   "execution_count": 28,
   "metadata": {},
   "outputs": [],
   "source": [
    "def Beam_Search(G, origin, destination, k=10, n=10):\n",
    "    start_time = process_time()\n",
    "    # Initialize\n",
    "    seen = set()\n",
    "    costs = []\n",
    "    # Generate random initial beam\n",
    "    beam = [randomized_search(G, origin.osmid, destination.osmid) for _ in range(k)]\n",
    "\n",
    "    # the seen routes must be converted to a tuple to be hashable to be stored in a set\n",
    "    for route in beam:\n",
    "        seen.add(tuple(route))\n",
    "\n",
    "    pool = []\n",
    "    children = get_beam(G, beam, n)\n",
    "    costs.append([cost(G, r) for r in beam])\n",
    "    for r in children:\n",
    "        if tuple(r) in seen:\n",
    "            continue\n",
    "        else:\n",
    "            pool.append(r)\n",
    "            seen.add(tuple(r))\n",
    "    pool += beam\n",
    "    space_required = getsizeof(pool)\n",
    "    last_beam = None\n",
    "    while beam != last_beam:\n",
    "        last_beam = beam\n",
    "        beam = heapq.nsmallest(k, pool, key=lambda r: cost(G, r))\n",
    "\n",
    "        for route in beam:\n",
    "            seen.add(tuple(route))\n",
    "\n",
    "        pool = []\n",
    "        children = get_beam(G, beam, n)\n",
    "        costs.append([cost(G, r) for r in beam])\n",
    "        for r in children:\n",
    "            if tuple(r) in seen:\n",
    "                continue\n",
    "            else:\n",
    "                pool.append(r)\n",
    "                seen.add(tuple(r))\n",
    "        pool += beam\n",
    "        space_required = (\n",
    "            getsizeof(pool) if getsizeof(pool) > space_required else space_required\n",
    "        )\n",
    "    route = min(beam, key=lambda r: cost(G, r))\n",
    "    end_time = process_time()\n",
    "    return Solution(\n",
    "        route, end_time - start_time, space_required, np.rot90(costs))\n",
    "\n"
   ]
  },
  {
   "cell_type": "code",
   "execution_count": 29,
   "metadata": {},
   "outputs": [],
   "source": [
    "solution = Beam_Search(G, origin, destination, k=10, n=20)"
   ]
  },
  {
   "cell_type": "code",
   "execution_count": 30,
   "metadata": {},
   "outputs": [
    {
     "name": "stdout",
     "output_type": "stream",
     "text": [
      "Cost: 825.929 m\n",
      "Process time: 44.796875 s\n",
      "Space required: 1664 bytes\n"
     ]
    },
    {
     "data": {
      "image/png": "[encoded data removed]",
      "text/plain": [
       "<Figure size 432x288 with 1 Axes>"
      ]
     },
     "metadata": {
      "needs_background": "light"
     },
     "output_type": "display_data"
    },
    {
     "data": {
      "application/vnd.jupyter.widget-view+json": {
       "model_id": "2891a4d2fff34c93acc5496daee2846a",
       "version_major": 2,
       "version_minor": 0
      },
      "text/plain": [
       "Map(center=[43.6639415, -79.3922841], controls=(ZoomControl(options=['position', 'zoom_in_text', 'zoom_in_titl…"
      ]
     },
     "metadata": {},
     "output_type": "display_data"
    }
   ],
   "source": [
    "route = solution.result\n",
    "print(f\"Cost: {cost(G,route)} m\")\n",
    "print(f\"Process time: {solution.time} s\")\n",
    "print(f\"Space required: {solution.space} bytes\")\n",
    "for c in solution.explored:\n",
    "    plt.plot(c)\n",
    "plt.xticks(list(range(len(solution.explored[0]))))\n",
    "plt.ylabel(\"Cost (m)\")\n",
    "plt.xlabel(\"Iteration\")\n",
    "plt.show()\n",
    "draw_route(G,route)"
   ]
  }
 ],
 "metadata": {
  "kernelspec": {
   "display_name": "Python 3.8.8 64-bit",
   "language": "python",
   "name": "python3"
  },
  "language_info": {
   "codemirror_mode": {
    "name": "ipython",
    "version": 3
   },
   "file_extension": ".py",
   "mimetype": "text/x-python",
   "name": "python",
   "nbconvert_exporter": "python",
   "pygments_lexer": "ipython3",
   "version": "3.8.8"
  },
  "orig_nbformat": 4,
  "vscode": {
   "interpreter": {
    "hash": "ffbfc792e496a15b6b750fac43e7a9afdc7c26545a7abda9dc172ad3cb978227"
   }
  }
 },
 "nbformat": 4,
 "nbformat_minor": 2
}
