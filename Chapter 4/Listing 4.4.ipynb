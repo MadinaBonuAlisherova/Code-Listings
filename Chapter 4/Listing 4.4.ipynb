{
 "cells": [
  {
   "cell_type": "code",
   "execution_count": 4,
   "metadata": {},
   "outputs": [],
   "source": [
    "import matplotlib.pyplot as plt\n",
    "import networkx as nx\n",
    "import heapq\n",
    "from search_optimization_tools.structures import Node\n",
    "from search_optimization_tools.routing import cost\n",
    "\n",
    "# Load nodes and edges\n",
    "G = nx.Graph()\n",
    "G.add_nodes_from([\"A\", \"B\", \"C\", \"D\", \"E\", \"F\", \"G\", \"S\"])\n",
    "\n",
    "edges = [\n",
    "    (\"A\", \"B\", {\"weight\": 4}),\n",
    "    (\"A\", \"C\", {\"weight\": 3}),\n",
    "    (\"A\", \"S\", {\"weight\": 2}),\n",
    "    (\"B\", \"D\", {\"weight\": 3}),\n",
    "    (\"B\", \"S\", {\"weight\": 4}),\n",
    "    (\"C\", \"E\", {\"weight\": 4}),\n",
    "    (\"C\", \"D\", {\"weight\": 5}),\n",
    "    (\"D\", \"E\", {\"weight\": 6}),\n",
    "    (\"D\", \"F\", {\"weight\": 5}),\n",
    "    (\"E\", \"F\", {\"weight\": 7}),\n",
    "    (\"E\", \"G\", {\"weight\": 3}),\n",
    "    (\"F\", \"G\", {\"weight\": 3}),\n",
    "]\n",
    "\n",
    "G.add_edges_from(edges)\n"
   ]
  },
  {
   "cell_type": "code",
   "execution_count": 5,
   "metadata": {},
   "outputs": [],
   "source": [
    "def Beam_Search(G, origin, destination, cost_fn, k=2, expand_kwargs=[], cost_kwargs=[]):\n",
    "    seen = set()\n",
    "    seen.add(origin)\n",
    "    last_beam = None\n",
    "    pool = set(origin.expand(**expand_kwargs))\n",
    "    beam = {}\n",
    "    while beam != last_beam:\n",
    "        last_beam = beam\n",
    "        beam = heapq.nsmallest(\n",
    "            k, pool, key=lambda node: cost_fn(G, node.path(), **cost_kwargs)\n",
    "        )\n",
    "        current = beam.pop(0)\n",
    "        seen.add(current)\n",
    "        pool.remove(current)\n",
    "        children = set(current.expand(**expand_kwargs))\n",
    "        for child in children:\n",
    "            if child in seen:\n",
    "                next\n",
    "            else:\n",
    "                if child == destination:\n",
    "                    return child.path()\n",
    "                beam.append(child)\n",
    "        pool.update(beam)\n",
    "    return None\n"
   ]
  },
  {
   "cell_type": "code",
   "execution_count": 6,
   "metadata": {},
   "outputs": [
    {
     "data": {
      "image/png": "[encoded data removed]",
      "text/plain": [
       "<Figure size 432x288 with 1 Axes>"
      ]
     },
     "metadata": {},
     "output_type": "display_data"
    }
   ],
   "source": [
    "result = Beam_Search(\n",
    "    G,\n",
    "    Node(G, \"S\"),\n",
    "    Node(G, \"G\"),\n",
    "    cost,\n",
    "    expand_kwargs={\"attr_name\": \"weight\", \"multigraph\": False},\n",
    "    cost_kwargs={\"attr_name\": \"weight\", \"multigraph\": False},\n",
    ")\n",
    "\n",
    "pos = {\n",
    "    \"S\": (0, 1),\n",
    "    \"A\": (1, 2),\n",
    "    \"B\": (1, 0),\n",
    "    \"C\": (2, 2),\n",
    "    \"D\": (2, 0),\n",
    "    \"E\": (3, 2),\n",
    "    \"F\": (3, 0),\n",
    "    \"G\": (4, 1),\n",
    "}\n",
    "\n",
    "node_colors = [\"r\" if n == \"S\" or n == \"G\" else \"k\" for n in list(G.nodes)]\n",
    "highlight_edges = list((zip(result[:-1], result[1:])))\n",
    "highlight_edges = [tuple(sorted(e)) for e in highlight_edges]\n",
    "edge_colors = [\"r\" if e in highlight_edges else \"k\" for e in list(G.edges)]\n",
    "edge_widths = [4 if e in highlight_edges else 1 for e in list(G.edges)]\n",
    "labels = nx.get_edge_attributes(G, \"weight\")\n",
    "\n",
    "nx.draw_networkx_edge_labels(G, pos, edge_labels=labels)\n",
    "nx.draw_networkx(\n",
    "    G,\n",
    "    pos=pos,\n",
    "    node_color=node_colors,\n",
    "    font_color=\"w\",\n",
    "    edge_color=edge_colors,\n",
    "    width=edge_widths,\n",
    ")\n",
    "plt.show()\n"
   ]
  }
 ],
 "metadata": {
  "kernelspec": {
   "display_name": "Python 3.8.8 64-bit",
   "language": "python",
   "name": "python3"
  },
  "language_info": {
   "codemirror_mode": {
    "name": "ipython",
    "version": 3
   },
   "file_extension": ".py",
   "mimetype": "text/x-python",
   "name": "python",
   "nbconvert_exporter": "python",
   "pygments_lexer": "ipython3",
   "version": "3.8.8"
  },
  "orig_nbformat": 4,
  "vscode": {
   "interpreter": {
    "hash": "ffbfc792e496a15b6b750fac43e7a9afdc7c26545a7abda9dc172ad3cb978227"
   }
  }
 },
 "nbformat": 4,
 "nbformat_minor": 2
}
