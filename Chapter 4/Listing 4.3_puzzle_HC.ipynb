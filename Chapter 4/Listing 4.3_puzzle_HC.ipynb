{
 "cells": [
  {
   "cell_type": "markdown",
   "metadata": {},
   "source": [
    "# Solving 8-Puzzle using Hill Climbing"
   ]
  },
  {
   "cell_type": "markdown",
   "metadata": {},
   "source": [
    "### Puzzle state class"
   ]
  },
  {
   "cell_type": "code",
   "execution_count": 1,
   "metadata": {},
   "outputs": [],
   "source": [
    "import math\n",
    "\n",
    "class State:\n",
    "    OPERATORS = [\"left\", \"up\", \"right\", \"down\"]\n",
    "\n",
    "    # Checks to see if the state is solvable\n",
    "    def is_solvable(self):\n",
    "        inv = 0\n",
    "        lst = self.flatten()\n",
    "        for i in range(self.N * self.N):\n",
    "            for j in range(i + 1, self.N * self.N):\n",
    "                if lst[i] != 0 and lst[j] != 0 and lst[i] > lst[j]:\n",
    "                    inv += 1\n",
    "        return inv % 2 == 0\n",
    "\n",
    "    # Generates an id, which is just a string representation of the grid\n",
    "    def __init__(self, grid, parent=None):\n",
    "        self.N = len(grid)\n",
    "        self.grid = grid\n",
    "        self.parent = parent\n",
    "        self.id = \"\".join([str(i) for i in self.flatten()])\n",
    "        \n",
    "    def __hash__(self):\n",
    "        return hash(self.id)\n",
    "    \n",
    "    def __eq__(self, other):\n",
    "        try:\n",
    "            return self.id == other.id\n",
    "        except:\n",
    "            return self.id == other\n",
    "\n",
    "    def get_distance(self):\n",
    "        return 1\n",
    "\n",
    "    # 2D list to 1D list\n",
    "    def flatten(self):\n",
    "        return [i for k in self.grid for i in k]\n",
    "\n",
    "    # 1D list to 2D list\n",
    "    def to_grid(lst, N):\n",
    "        return [lst[i : i + N] for i in range(0, len(lst), N)]\n",
    "\n",
    "    # check if a state is complete\n",
    "    def is_solved(self):\n",
    "        flat = self.flatten()\n",
    "        return flat == sorted(flat)  \n",
    "\n",
    "    # Trace the parents until the beginning\n",
    "    def path(self):\n",
    "        node = self\n",
    "        path = []\n",
    "        while node:\n",
    "            path.append(node)\n",
    "            node = node.parent\n",
    "        return path[::-1]\n",
    "\n",
    "    # Swap positions of two cells based on direction, if possible\n",
    "    def move(state, direction):\n",
    "        N = state.N\n",
    "        lst_state = state.flatten()\n",
    "        i = lst_state.index(0)\n",
    "        # Move 4 directions\n",
    "        if direction == \"up\" and i - N >= 0:\n",
    "            lst_state[i - N], lst_state[i] = lst_state[i], lst_state[i - N]\n",
    "        elif direction == \"down\" and i + N < N * N:\n",
    "            lst_state[i + N], lst_state[i] = lst_state[i], lst_state[i + N]\n",
    "        elif direction == \"left\" and (i - 1) // N == i // N:\n",
    "            lst_state[i - 1], lst_state[i] = lst_state[i], lst_state[i - 1]\n",
    "        elif direction == \"right\" and (i + 1) // N == i // N:\n",
    "            lst_state[i + 1], lst_state[i] = lst_state[i], lst_state[i + 1]\n",
    "        else:\n",
    "            return None\n",
    "        return State.to_grid(lst_state, N)\n",
    "\n",
    "    def expand(self):\n",
    "        children = [State.move(self, d) for d in State.OPERATORS]\n",
    "        children = list(filter(None, children))\n",
    "        return [State(child, self) for child in children]"
   ]
  },
  {
   "cell_type": "markdown",
   "metadata": {},
   "source": [
    "### Plot the different states"
   ]
  },
  {
   "cell_type": "code",
   "execution_count": 2,
   "metadata": {},
   "outputs": [],
   "source": [
    "import matplotlib.pyplot as plt\n",
    "\n",
    "def visualize(route):\n",
    "    rows = max(2,math.ceil(len(route) / 4))\n",
    "    fig, ax = plt.subplots(rows, 4, figsize=(12, rows*3))\n",
    "\n",
    "    for i in range(rows * 4):\n",
    "        ax[i // 4, i % 4].axis(\"off\")\n",
    "        ax[i // 4, i % 4].axis(\"tight\")\n",
    "        ax[i // 4, i % 4].set_aspect(\"equal\")\n",
    "        if i in range(len(route)):\n",
    "            if i == 0:\n",
    "                ax[i // 4, i % 4].set_title(f\"Initial State\")\n",
    "            elif i == len(route) - 1:\n",
    "                ax[i // 4, i % 4].set_title(\"Goal State\")\n",
    "            else:\n",
    "                ax[i // 4, i % 4].set_title(f\"State #{i}\")\n",
    "            N = len(route[i].grid)\n",
    "            tab = ax[i // 4, i % 4].table(\n",
    "                cellText=route[i].grid,\n",
    "                cellLoc=\"center\",\n",
    "                loc=\"center\",\n",
    "                colWidths=[0.3] * N,\n",
    "            )\n",
    "            tab.set_fontsize(15)\n",
    "\n",
    "            for j in range(N):\n",
    "                for k in range(N):\n",
    "                    cell = tab[j, k]\n",
    "                    cell.set_height(0.3)\n",
    "                    if cell._text.get_text() == \"0\":\n",
    "                        cell._text.set_text(\"\")\n",
    "                        cell.set_facecolor(\"#FFFF8F\")\n",
    "\n",
    "    plt.show()"
   ]
  },
  {
   "cell_type": "markdown",
   "metadata": {},
   "source": [
    "### Hill climbing algorithm"
   ]
  },
  {
   "cell_type": "code",
   "execution_count": 3,
   "metadata": {},
   "outputs": [],
   "source": [
    "def Hill_Climbing(origin, destination, cost_fn):\n",
    "    costs = [cost_fn(origin)]\n",
    "    current = origin\n",
    "    route = [current]\n",
    "    neighbours = current.expand()\n",
    "    shortest = min(neighbours, key=lambda s: cost_fn(s))\n",
    "    costs.append(cost_fn(shortest))\n",
    "    route.append(shortest)\n",
    "\n",
    "    while cost_fn(shortest) < cost_fn(current):\n",
    "        current = shortest\n",
    "        neighbours = current.expand()\n",
    "        shortest = min(neighbours, key=lambda s: cost_fn(s))\n",
    "        costs.append(cost_fn(shortest))\n",
    "        route.append(shortest)\n",
    "        if shortest == destination:\n",
    "            break\n",
    "\n",
    "    return route, costs\n"
   ]
  },
  {
   "cell_type": "markdown",
   "metadata": {},
   "source": [
    "### Counting number of misplaced tiles"
   ]
  },
  {
   "cell_type": "code",
   "execution_count": 4,
   "metadata": {},
   "outputs": [],
   "source": [
    "def misplaced_tiles(state: State):\n",
    "    flat = state.flatten()\n",
    "    goal = range(len(flat))\n",
    "    return sum([0 if goal[i] == flat[i] else 1 for i in range(len(flat))])\n"
   ]
  },
  {
   "cell_type": "markdown",
   "metadata": {},
   "source": [
    "### Solving the puzzle"
   ]
  },
  {
   "cell_type": "code",
   "execution_count": 5,
   "metadata": {},
   "outputs": [
    {
     "data": {
      "image/png": "[encoded data removed]",
      "text/plain": [
       "<Figure size 640x480 with 1 Axes>"
      ]
     },
     "metadata": {},
     "output_type": "display_data"
    },
    {
     "data": {
      "image/png": "[encoded data removed]",
      "text/plain": [
       "<Figure size 1200x600 with 8 Axes>"
      ]
     },
     "metadata": {},
     "output_type": "display_data"
    }
   ],
   "source": [
    "init_state = [[1,4,2],\n",
    "              [3,7,5],\n",
    "              [6,0,8]]\n",
    "\n",
    "goal_state = [[0,1,2],\n",
    "              [3,4,5],\n",
    "              [6,7,8]]\n",
    "\n",
    "\n",
    "init_state = State(init_state)\n",
    "goal_state = State(goal_state)\n",
    "\n",
    "\n",
    "# Check if there's even a solution\n",
    "if not init_state.is_solvable():\n",
    "    print(\"This puzzle is not solvable.\")\n",
    "else:\n",
    "    # The actual solution\n",
    "    solution, costs = Hill_Climbing(init_state, goal_state, misplaced_tiles)\n",
    "    plt.xticks(range(len(costs)))\n",
    "    plt.ylabel(\"Misplaced tiles\")\n",
    "    plt.title(\"Hill climbing: 8 Puzzle\")\n",
    "    plt.plot(costs)\n",
    "    visualize(solution)"
   ]
  }
 ],
 "metadata": {
  "kernelspec": {
   "display_name": "Python 3 (ipykernel)",
   "language": "python",
   "name": "python3"
  },
  "language_info": {
   "codemirror_mode": {
    "name": "ipython",
    "version": 3
   },
   "file_extension": ".py",
   "mimetype": "text/x-python",
   "name": "python",
   "nbconvert_exporter": "python",
   "pygments_lexer": "ipython3",
   "version": "3.10.6"
  },
  "vscode": {
   "interpreter": {
    "hash": "ffbfc792e496a15b6b750fac43e7a9afdc7c26545a7abda9dc172ad3cb978227"
   }
  }
 },
 "nbformat": 4,
 "nbformat_minor": 4
}
