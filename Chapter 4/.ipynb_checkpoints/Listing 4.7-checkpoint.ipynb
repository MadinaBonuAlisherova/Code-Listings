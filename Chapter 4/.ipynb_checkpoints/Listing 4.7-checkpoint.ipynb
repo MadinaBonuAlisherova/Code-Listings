{
 "cells": [
  {
   "cell_type": "code",
   "execution_count": 1,
   "metadata": {},
   "outputs": [],
   "source": [
    "import sys\n",
    "# adding search_optimization_tools to the system path\n",
    "sys.path.insert(0, '../search_optimization_tools')"
   ]
  },
  {
   "cell_type": "code",
   "execution_count": 2,
   "metadata": {},
   "outputs": [
    {
     "name": "stderr",
     "output_type": "stream",
     "text": [
      "C:\\Users\\Alaa\\.conda\\envs\\ox\\lib\\site-packages\\osmnx\\utils.py:192: UserWarning: The `utils.config` function is deprecated and will be removed in a future release. Instead, use the `settings` module directly to configure a global setting's value. For example, `ox.settings.log_console=True`.\n",
      "  warnings.warn(\n",
      "C:\\Users\\Alaa\\.conda\\envs\\ox\\lib\\site-packages\\urllib3\\connectionpool.py:1045: InsecureRequestWarning: Unverified HTTPS request is being made to host 'overpass-api.de'. Adding certificate verification is strongly advised. See: https://urllib3.readthedocs.io/en/1.26.x/advanced-usage.html#ssl-warnings\n",
      "  warnings.warn(\n",
      "C:\\Users\\Alaa\\.conda\\envs\\ox\\lib\\site-packages\\urllib3\\connectionpool.py:1045: InsecureRequestWarning: Unverified HTTPS request is being made to host 'overpass-api.de'. Adding certificate verification is strongly advised. See: https://urllib3.readthedocs.io/en/1.26.x/advanced-usage.html#ssl-warnings\n",
      "  warnings.warn(\n"
     ]
    }
   ],
   "source": [
    "from itertools import islice\n",
    "from sys import getsizeof\n",
    "from time import process_time\n",
    "\n",
    "import matplotlib.pyplot as plt\n",
    "import osmnx\n",
    "from search_optimization_tools.routing import (cost, draw_route, get_child,\n",
    "                                               randomized_search)\n",
    "from search_optimization_tools.structures import Node, Solution\n",
    "\n",
    "osmnx.utils.config(requests_kwargs={\"verify\": False})\n",
    "reference = (43.661667, -79.395)\n",
    "G = osmnx.graph_from_point(reference, dist=300, clean_periphery=True, simplify=True)\n",
    "\n",
    "# First convert the source and destination nodes to Node\n",
    "origin = Node(graph=G, osmid=55808290)\n",
    "destination = Node(graph=G, osmid=389677909)\n"
   ]
  },
  {
   "cell_type": "code",
   "execution_count": 3,
   "metadata": {},
   "outputs": [],
   "source": [
    "def Hill_Climbing(G, origin, destination, n):\n",
    "    time_start = process_time()  # Time tracking\n",
    "\n",
    "    # Visualize the costs over time\n",
    "    costs = []\n",
    "\n",
    "    current = randomized_search(G, origin.osmid, destination.osmid)\n",
    "    costs.append(cost(G, current))\n",
    "    print(\"Initial cost:\", costs[0])\n",
    "\n",
    "    neighbours = list(islice(get_child(G, current), n))\n",
    "    space_required = getsizeof(neighbours)\n",
    "    shortest = min(neighbours, key=lambda route: cost(G, route))\n",
    "\n",
    "    print(\"Initial min(children):\", cost(G, shortest))\n",
    "    while cost(G, shortest) < cost(G, current):\n",
    "        current = shortest\n",
    "        neighbours = list(islice(get_child(G, current), n))\n",
    "        shortest = min(neighbours, key=lambda route: cost(G, route))\n",
    "        costs.append(cost(G, current))\n",
    "        print(f\"Current cost:\", costs[-1], \"|\", \"min(children):\", cost(G, shortest))\n",
    "\n",
    "    route = current\n",
    "    time_end = process_time()  # Time tracking\n",
    "    return Solution(route, time_end - time_start, space_required, costs)\n"
   ]
  },
  {
   "cell_type": "code",
   "execution_count": 4,
   "metadata": {},
   "outputs": [
    {
     "name": "stdout",
     "output_type": "stream",
     "text": [
      "Initial cost: 872.504\n",
      "Initial min(children): 856.106\n",
      "Current cost: 856.106 | min(children): 813.0\n",
      "Current cost: 813.0 | min(children): 806.892\n",
      "Current cost: 806.892 | min(children): 813.0\n",
      "Cost: 806.892 m\n",
      "Process time: 29.984375 s\n",
      "Space required: 920 bytes\n"
     ]
    },
    {
     "data": {
      "application/vnd.jupyter.widget-view+json": {
       "model_id": "41bdd4475f544a4a9560c24976b83b0a",
       "version_major": 2,
       "version_minor": 0
      },
      "text/plain": [
       "Map(center=[43.6639415, -79.3922841], controls=(ZoomControl(options=['position', 'zoom_in_text', 'zoom_in_titl…"
      ]
     },
     "execution_count": 4,
     "metadata": {},
     "output_type": "execute_result"
    },
    {
     "data": {
      "image/png": "[encoded data removed]",
      "text/plain": [
       "<Figure size 640x480 with 1 Axes>"
      ]
     },
     "metadata": {},
     "output_type": "display_data"
    },
    {
     "name": "stderr",
     "output_type": "stream",
     "text": [
      "Task exception was never retrieved\n",
      "future: <Task finished name='Task-4' coro=<Map._fit_bounds() done, defined at C:\\Users\\drala\\Anaconda3\\envs\\myuoft\\lib\\site-packages\\ipyleaflet\\leaflet.py:2610> exception=TypeError(\"'<=' not supported between instances of 'NoneType' and 'int'\")>\n",
      "Traceback (most recent call last):\n",
      "  File \"C:\\Users\\drala\\Anaconda3\\envs\\myuoft\\lib\\site-packages\\ipyleaflet\\leaflet.py\", line 2619, in _fit_bounds\n",
      "    if self.zoom <= 1:\n",
      "TypeError: '<=' not supported between instances of 'NoneType' and 'int'\n"
     ]
    }
   ],
   "source": [
    "solution = Hill_Climbing(G, origin, destination, 100)\n",
    "route = solution.result\n",
    "print(f\"Cost: {cost(G,route)} m\")\n",
    "print(f\"Process time: {solution.time} s\")\n",
    "print(f\"Space required: {solution.space} bytes\")\n",
    "plt.plot(solution.explored)\n",
    "plt.xticks(list(range(len(solution.explored))))\n",
    "plt.ylabel(\"Cost (m)\")\n",
    "plt.xlabel(\"Iteration\")\n",
    "draw_route(G,route)"
   ]
  }
 ],
 "metadata": {
  "kernelspec": {
   "display_name": "Python 3 (ipykernel)",
   "language": "python",
   "name": "python3"
  },
  "language_info": {
   "codemirror_mode": {
    "name": "ipython",
    "version": 3
   },
   "file_extension": ".py",
   "mimetype": "text/x-python",
   "name": "python",
   "nbconvert_exporter": "python",
   "pygments_lexer": "ipython3",
   "version": "3.10.6"
  },
  "vscode": {
   "interpreter": {
    "hash": "ffbfc792e496a15b6b750fac43e7a9afdc7c26545a7abda9dc172ad3cb978227"
   }
  }
 },
 "nbformat": 4,
 "nbformat_minor": 2
}
