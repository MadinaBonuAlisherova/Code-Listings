{
 "cells": [
  {
   "cell_type": "code",
   "execution_count": 1,
   "metadata": {},
   "outputs": [],
   "source": [
    "# Contraction Hierarchy\n",
    "\n",
    "from sys import getsizeof\n",
    "from time import process_time\n",
    "import osmnx\n",
    "import networkx as nx\n",
    "from search_optimization_tools.routing import cost, draw_route\n",
    "from search_optimization_tools.structures import Node, Solution\n",
    "\n",
    "osmnx.utils.config(requests_kwargs={\"verify\": False})\n",
    "reference = (43.661667, -79.395)\n",
    "G = osmnx.graph_from_point(reference, dist=300, clean_periphery=True, simplify=True)\n",
    "\n",
    "origin =55808290\n",
    "destination = 389677909\n"
   ]
  },
  {
   "cell_type": "code",
   "execution_count": 2,
   "metadata": {},
   "outputs": [],
   "source": [
    "# Remove parallel edges, self-loops\n",
    "\n",
    "clean_G = nx.DiGraph()\n",
    "clean_G.clear_edges()\n",
    "orig_G = G.copy()\n",
    "for u in G.nodes:\n",
    "    for v in G[u]:\n",
    "        if u == v: G.remove_edge(u,v); continue\n",
    "        if len(G[u][v]) > 1:\n",
    "            keep = min(G[u][v], key=lambda x:G[u][v][x]['length'])\n",
    "            keep = G[u][v][keep]\n",
    "            clean_G.add_edge(u,v,**keep)\n",
    "            continue\n",
    "        clean_G.add_edge(u,v,**G[u][v][0])\n",
    "\n",
    "G = clean_G\n"
   ]
  },
  {
   "cell_type": "code",
   "execution_count": 3,
   "metadata": {},
   "outputs": [],
   "source": [
    "start_time = process_time()\n",
    "shortcuts = {}\n",
    "shortest_paths = dict(nx.all_pairs_dijkstra_path_length(G, weight=\"length\"))\n",
    "current_G = G.copy()\n",
    "for node in G.nodes:\n",
    "    current_G.remove_node(node)\n",
    "    current_shortest_paths = dict(\n",
    "        nx.all_pairs_dijkstra_path_length(current_G, weight=\"length\")\n",
    "    )\n",
    "    for u in current_shortest_paths:\n",
    "        if u == node:\n",
    "            continue\n",
    "        SP_contracted = current_shortest_paths[u]\n",
    "        SP_original = shortest_paths[u]\n",
    "        for v in SP_contracted:\n",
    "            if u == v or node == v:\n",
    "                continue\n",
    "            if (\n",
    "                SP_contracted[v] != SP_original[v]\n",
    "                and G.has_edge(node, u)\n",
    "                and G.has_edge(node, v)\n",
    "            ):\n",
    "                G.add_edge(u, v, length=SP_original[v], contracted=True)\n",
    "                shortcuts[(u,v)] = node\n",
    "end_time = process_time()\n",
    "preprocess_sln = Solution(len(shortcuts), end_time-start_time, getsizeof(shortest_paths)+getsizeof(current_shortest_paths)+getsizeof(shortcuts),len(G.nodes))\n"
   ]
  },
  {
   "cell_type": "code",
   "execution_count": 4,
   "metadata": {},
   "outputs": [
    {
     "name": "stdout",
     "output_type": "stream",
     "text": [
      "Shortcut edges added: 698\n",
      "Preprocessing time: 19.359375 s\n",
      "Preprocessing Space: 55712 bytes\n",
      "Nodes Explored: 404\n"
     ]
    }
   ],
   "source": [
    "print(f\"Shortcut edges added: {preprocess_sln.result}\")\n",
    "print(f\"Preprocessing time: {preprocess_sln.time} s\")\n",
    "print(f\"Preprocessing Space: {preprocess_sln.space} bytes\")\n",
    "print(f\"Nodes Explored: {preprocess_sln.explored}\")"
   ]
  },
  {
   "cell_type": "code",
   "execution_count": null,
   "metadata": {},
   "outputs": [],
   "source": [
    "def Bidirectional_Dijkstra(origin, destination, unrelaxed_nodes, expand_kwargs = {}):\n",
    "    time_start = process_time()  # Time tracking\n",
    "    frontier = deepcopy(unrelaxed_nodes)\n",
    "\n",
    "    space_required = getsizeof(frontier)\n",
    "\n",
    "    explored_f = set()\n",
    "    explored_b = set()\n",
    "\n",
    "    shortest_dist_f = {node.get_id(): math.inf for node in frontier}\n",
    "    shortest_dist_b = {node.get_id(): math.inf for node in frontier}\n",
    "\n",
    "    shortest_dist_f[origin] = 0\n",
    "    shortest_dist_b[destination] = 0\n",
    "\n",
    "    found = False\n",
    "    route = []\n",
    "\n",
    "    altr_expand = True  # to alternate between front and back\n",
    "\n",
    "    while frontier and not found:\n",
    "        if altr_expand:  # Forward\n",
    "            node = min(frontier, key=lambda node: shortest_dist_f[node.get_id()])\n",
    "            # relaxing the node, so this node's value in shortest_dist is the shortest distance between the origin and destination\n",
    "            frontier.remove(node)\n",
    "            explored_f.add(node)\n",
    "            # if the destination node has been relaxed then that is the route we want\n",
    "            if node == destination:\n",
    "                route = node.path()\n",
    "                found = True\n",
    "                continue\n",
    "\n",
    "            # otherwise, let's relax edges of its neighbours\n",
    "            for child in node.expand(**expand_kwargs):\n",
    "                # skip self-loops\n",
    "                if child.get_id() in explored_f:\n",
    "                    continue\n",
    "\n",
    "                # Check the child is collided\n",
    "                if child in explored_b:\n",
    "                    overlapped = next((node for node in explored_b if node == child))\n",
    "                    # we don't take the overlapped node twice\n",
    "                    route = child.path()[:-1] + overlapped.path()[::-1]\n",
    "                    found = True\n",
    "                    break\n",
    "\n",
    "                child_obj = next(\n",
    "                    (node for node in frontier if node.get_id() == child.get_id()), None\n",
    "                )\n",
    "                child_obj.set_distance(child.get_distance())\n",
    "                distance = shortest_dist_f[node.get_id()] + child.get_distance()\n",
    "                if distance < shortest_dist_f[child_obj.get_id()]:\n",
    "                    shortest_dist_f[child_obj.get_id()] = distance\n",
    "                    child_obj.set_parent(node)\n",
    "            altr_expand = False\n",
    "        if not altr_expand:  # Backward\n",
    "            node = min(frontier, key=lambda node: shortest_dist_b[node.get_id()])\n",
    "            # relaxing the node, so this node's value in shortest_dist is the shortest distance between the origin and destination\n",
    "            frontier.remove(node)\n",
    "            explored_b.add(node)\n",
    "            # if the destination node has been relaxed then that is the route we want\n",
    "            if node == origin:\n",
    "                route = node.path()[::-1]\n",
    "                found = True\n",
    "                continue\n",
    "\n",
    "            # otherwise, let's relax edges of its neighbours\n",
    "            for child in node.expand(backwards=True, **expand_kwargs):\n",
    "                # skip self-loops\n",
    "                if child.get_id() in explored_b:\n",
    "                    continue\n",
    "\n",
    "                # Check the child is collided\n",
    "                if child in explored_f:\n",
    "                    overlapped = next(\n",
    "                        (node for node in explored_f if node == child), None\n",
    "                    )\n",
    "                    route = overlapped.path()[:-1] + child.path()[::-1]\n",
    "                    found = True\n",
    "                    break\n",
    "\n",
    "                child_obj = next(\n",
    "                    (node for node in frontier if node.get_id() == child.get_id()), None\n",
    "                )\n",
    "                child_obj.set_distance(child.get_distance())\n",
    "                distance = shortest_dist_b[node.get_id()] + child.get_distance()\n",
    "                if distance < shortest_dist_b[child_obj.get_id()]:\n",
    "                    shortest_dist_b[child_obj.get_id()] = distance\n",
    "                    child_obj.set_parent(node)\n",
    "            altr_expand = True\n",
    "    time_end = process_time()  # Time tracking\n",
    "    return Solution(\n",
    "        route, time_end - time_start, space_required, len(explored_f) + len(explored_b)\n",
    "    )"
   ]
  },
  {
   "cell_type": "code",
   "execution_count": 16,
   "metadata": {},
   "outputs": [
    {
     "name": "stdout",
     "output_type": "stream",
     "text": [
      "Unpacked 389678139-3707407638 into 389678139-389678138-3707407638\n",
      "Unpacked 3707407638-389678131 into 3707407638-6028562355-389678131\n",
      "Unpacked 854322047-389677909 into 854322047-123347984-389677909\n"
     ]
    }
   ],
   "source": [
    "#from search_optimization_tools.algorithms.graph_search import Bidirectional_Dijkstra\n",
    "unrelaxed_nodes = [Node(G,osmid) for osmid in G.nodes()]\n",
    "result = Bidirectional_Dijkstra(origin, destination, unrelaxed_nodes, expand_kwargs={\"multigraph\": False})\n",
    "uncontracted_route = [result.result[0]]\n",
    "for u,v in zip(result.result[:-1],result.result[1:]):\n",
    "    if (u,v) in shortcuts or (v,u) in shortcuts:\n",
    "        print(f\"Unpacked {u}-{v} into {u}-{shortcuts[(u,v)]}-{v}\")\n",
    "        uncontracted_route.append(shortcuts[(u,v)])\n",
    "    uncontracted_route.append(v)"
   ]
  },
  {
   "cell_type": "code",
   "execution_count": 17,
   "metadata": {},
   "outputs": [
    {
     "name": "stdout",
     "output_type": "stream",
     "text": [
      "[55808290, 304891685, 1721866234, 9270977970, 3179025274, 9270977966, 389678267, 24960090, 389678273, 24959523, 50885177, 389677947, 2143489692, 2480712846, 389678140, 389678139, 389678138, 3707407638, 6028562355, 389678131, 6028562356, 854322047, 123347984, 389677909]\n"
     ]
    }
   ],
   "source": [
    "print(uncontracted_route)"
   ]
  },
  {
   "cell_type": "code",
   "execution_count": null,
   "metadata": {},
   "outputs": [],
   "source": []
  },
  {
   "cell_type": "code",
   "execution_count": 29,
   "metadata": {},
   "outputs": [
    {
     "data": {
      "application/vnd.jupyter.widget-view+json": {
       "model_id": "92e87b28faeb4d6ea94e4714911525af",
       "version_major": 2,
       "version_minor": 0
      },
      "text/plain": [
       "Map(center=[43.6607508, -79.3948913], controls=(ZoomControl(options=['position', 'zoom_in_text', 'zoom_in_titl…"
      ]
     },
     "metadata": {},
     "output_type": "display_data"
    }
   ],
   "source": [
    "draw_route(orig_G, uncontracted_route[19:21])"
   ]
  }
 ],
 "metadata": {
  "kernelspec": {
   "display_name": "Python 3.8.8 64-bit",
   "language": "python",
   "name": "python3"
  },
  "language_info": {
   "codemirror_mode": {
    "name": "ipython",
    "version": 3
   },
   "file_extension": ".py",
   "mimetype": "text/x-python",
   "name": "python",
   "nbconvert_exporter": "python",
   "pygments_lexer": "ipython3",
   "version": "3.8.8"
  },
  "orig_nbformat": 4,
  "vscode": {
   "interpreter": {
    "hash": "ffbfc792e496a15b6b750fac43e7a9afdc7c26545a7abda9dc172ad3cb978227"
   }
  }
 },
 "nbformat": 4,
 "nbformat_minor": 2
}
