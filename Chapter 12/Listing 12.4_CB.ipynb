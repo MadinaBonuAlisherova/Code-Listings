{
 "cells": [
  {
   "cell_type": "markdown",
   "metadata": {},
   "source": [
    "#  Contextual Bandit (CB) \n",
    "\n",
    "In the contextual bandit problem, a learner repeatedly observes a context, chooses an action, and observes a loss/cost/reward exclusively for the action it picked. Contextual bandit algorithms use additional side information (or context) to aid real world decision-making. They work well for choosing actions in dynamic environments where options change rapidly, and the set of available actions is limited.\n",
    "\n",
    "<b> Requirements</b>\n",
    "\n",
    "vowpalwabbit==9.8.0\n",
    "<br>import torch=1.13.1"
   ]
  },
  {
   "cell_type": "code",
   "execution_count": 1,
   "metadata": {},
   "outputs": [],
   "source": [
    "import vowpalwabbit\n",
    "import torch\n",
    "import matplotlib.pyplot as plt\n",
    "import pandas as pd\n",
    "import random\n",
    "import numpy as np\n",
    "from tqdm import tqdm"
   ]
  },
  {
   "cell_type": "markdown",
   "metadata": {},
   "source": [
    "### Define problem parameters"
   ]
  },
  {
   "cell_type": "code",
   "execution_count": 2,
   "metadata": {},
   "outputs": [],
   "source": [
    "shared_contexts = ['city', 'interstate']\n",
    "size_types = ['small', 'medium', 'large']\n",
    "engine_types = ['petrol', 'diesel', 'electric']\n",
    "tire_types = ['all_season', 'snow', 'performance', 'all_terrain']\n",
    "num_iterations = 2500"
   ]
  },
  {
   "cell_type": "markdown",
   "metadata": {},
   "source": [
    "### Reward function"
   ]
  },
  {
   "cell_type": "code",
   "execution_count": 3,
   "metadata": {},
   "outputs": [],
   "source": [
    "def reward_function(shared_context, size_index, engine_index, tire_index):\n",
    "    size_value = [0.8, 1.0, 0.9] # Higher value indicates better fuel efficiency\n",
    "    engine_value = [0.7, 0.9, 1.0] # Higher value indicates better performance\n",
    "    tire_value = [0.9, 0.8, 1.0, 0.95] # Higher value indicates better comfort\n",
    "\n",
    "    reward = (\n",
    "        size_value[size_index]\n",
    "        * engine_value[engine_index]\n",
    "        * tire_value[tire_index]\n",
    "    )\n",
    "\n",
    "    # Add noise to the reward, representing uncertainties in weather, road conditions, and so on. \n",
    "    noise_scale = 0.05\n",
    "    noise_value = np.random.normal(loc=0, scale=noise_scale)\n",
    "    reward += noise_value\n",
    "\n",
    "    return reward"
   ]
  },
  {
   "cell_type": "markdown",
   "metadata": {},
   "source": [
    "### Generate combinations"
   ]
  },
  {
   "cell_type": "code",
   "execution_count": 4,
   "metadata": {},
   "outputs": [],
   "source": [
    "def generate_combinations(shared_context, size_types, engine_types, tire_types):\n",
    "    examples = [f\"shared |User {shared_context}\"]\n",
    "    descriptions = []\n",
    "    for i, size in enumerate(size_types):\n",
    "        for j, engine in enumerate(engine_types):\n",
    "            for k, tire in enumerate(tire_types):\n",
    "                examples.append(f\"|Action truck_size={size} engine={engine} tire={tire}\")\n",
    "                descriptions.append((i, j, k))\n",
    "    return examples, descriptions"
   ]
  },
  {
   "cell_type": "markdown",
   "metadata": {},
   "source": [
    "### Sample delivery trucks using probabilistic matrix factorization (pmf)"
   ]
  },
  {
   "cell_type": "code",
   "execution_count": 5,
   "metadata": {},
   "outputs": [],
   "source": [
    "def sample_truck_pmf(pmf):\n",
    "    pmf_tensor = torch.tensor(pmf)\n",
    "    index = torch.multinomial(pmf_tensor, 1).item()\n",
    "    chosen_prob = pmf[index]\n",
    "    \n",
    "    return index, chosen_prob\n",
    "\n",
    "## This is an alternative implementation of the sample_truck_pmf function without using PyTorch.\n",
    "# def sample_truck_pmf(pmf):\n",
    "#     pmf = np.array(pmf)\n",
    "#     pmf /= np.sum(pmf)\n",
    "#     indices = np.arange(len(pmf))\n",
    "\n",
    "#     chosen_index = np.random.choice(indices, p=pmf)\n",
    "#     chosen_prob = pmf[chosen_index]\n",
    "\n",
    "#     return chosen_index, chosen_prob"
   ]
  },
  {
   "cell_type": "markdown",
   "metadata": {},
   "source": [
    "### Create a contexual bandit\n",
    "\n",
    "Vowpal Wabbit offers five exploration algorithms:\n",
    "\n",
    "Explore-First: --first\n",
    "\n",
    "Epsilon-Greedy: --epsilon\n",
    "\n",
    "Bagging Explorer: --bag\n",
    "\n",
    "Online Cover: --cover\n",
    "\n",
    "Softmax Explorer: --softmax (only supported for --cb_explore_adf)"
   ]
  },
  {
   "cell_type": "code",
   "execution_count": 6,
   "metadata": {},
   "outputs": [],
   "source": [
    "cb_vw = vowpalwabbit.Workspace(\n",
    "    \"--cb_explore_adf --epsilon 0.2 --interactions AA AU AAU -l 0.05 --power_t 0\",\n",
    "    quiet=True,\n",
    ")"
   ]
  },
  {
   "cell_type": "markdown",
   "metadata": {},
   "source": [
    "### Run the CB"
   ]
  },
  {
   "cell_type": "code",
   "execution_count": 7,
   "metadata": {},
   "outputs": [
    {
     "name": "stderr",
     "output_type": "stream",
     "text": [
      "Training: 100%|██████████| 2500/2500 [00:16<00:00, 150.66it/s, Reward=0.989]\n"
     ]
    }
   ],
   "source": [
    "cb_rewards = []\n",
    "with tqdm(total=num_iterations, desc=\"Training\") as pbar:\n",
    "    for _ in range(num_iterations):\n",
    "        shared_context = random.choice(shared_contexts)\n",
    "        examples, indices = generate_combinations(\n",
    "            shared_context, size_types, engine_types, tire_types\n",
    "        )\n",
    "        cb_prediction = cb_vw.predict(examples)\n",
    "        chosen_index, prob = sample_truck_pmf(cb_prediction)\n",
    "        size_index, engine_index, tire_index = indices[chosen_index]\n",
    "        reward = reward_function(shared_context, size_index, engine_index, tire_index)\n",
    "        cb_rewards.append(reward)\n",
    "        examples[chosen_index + 1] = f\"0:{-1*reward}:{prob} {examples[chosen_index + 1]}\"\n",
    "        cb_vw.learn(examples)\n",
    "        pbar.set_postfix({'Reward': reward})\n",
    "        pbar.update(1)\n",
    "cb_vw.finish()"
   ]
  },
  {
   "cell_type": "markdown",
   "metadata": {},
   "source": [
    "### Plot the average reward"
   ]
  },
  {
   "cell_type": "code",
   "execution_count": 8,
   "metadata": {},
   "outputs": [
    {
     "data": {
      "image/png": "[encoded data removed]",
      "text/plain": [
       "<Figure size 640x480 with 1 Axes>"
      ]
     },
     "metadata": {},
     "output_type": "display_data"
    }
   ],
   "source": [
    "plt.plot(pd.Series(cb_rewards).expanding().mean())\n",
    "plt.xlabel(\"Iterations\")\n",
    "plt.ylabel(\"Average reward\")\n",
    "plt.show()"
   ]
  },
  {
   "cell_type": "markdown",
   "metadata": {},
   "source": [
    "### Use trained model to perform predictions on a test set"
   ]
  },
  {
   "cell_type": "code",
   "execution_count": 9,
   "metadata": {},
   "outputs": [
    {
     "name": "stdout",
     "output_type": "stream",
     "text": [
      "Chosen Action: |Action truck_size=medium engine=electric tire=performance\n",
      "Expected Reward: 0.9636216301030888\n"
     ]
    }
   ],
   "source": [
    "def test_model(shared_context, size_types, engine_types, tire_types):\n",
    "    examples, indices = generate_combinations(shared_context, size_types, engine_types, tire_types)\n",
    "    cb_prediction = cb_vw.predict(examples)\n",
    "    chosen_index, prob = sample_truck_pmf(cb_prediction)\n",
    "    chosen_action = examples[chosen_index + 1]\n",
    "    size_index, engine_index, tire_index = indices[chosen_index]\n",
    "    expected_reward = reward_function(shared_context, size_index, engine_index, tire_index)\n",
    "    print(\"Chosen Action:\", chosen_action)\n",
    "    print(\"Expected Reward:\", expected_reward)\n",
    "\n",
    "# Test the model for a given shared context\n",
    "test_shared_context = 'city'\n",
    "test_model(test_shared_context, size_types, engine_types, tire_types)"
   ]
  }
 ],
 "metadata": {
  "kernelspec": {
   "display_name": "pygeometric",
   "language": "python",
   "name": "python3"
  },
  "language_info": {
   "codemirror_mode": {
    "name": "ipython",
    "version": 3
   },
   "file_extension": ".py",
   "mimetype": "text/x-python",
   "name": "python",
   "nbconvert_exporter": "python",
   "pygments_lexer": "ipython3",
   "version": "3.7.12"
  },
  "orig_nbformat": 4
 },
 "nbformat": 4,
 "nbformat_minor": 2
}
