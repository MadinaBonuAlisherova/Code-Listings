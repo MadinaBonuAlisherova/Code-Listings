{
 "cells": [
  {
   "cell_type": "markdown",
   "metadata": {},
   "source": [
    "# CartPole environment \n",
    "\n",
    "<b>Observation Space:</b> The observation space defines the possible states of the environment that an agent can observe. In the CartPole environment, the observation space is continuous and represented by a 4-dimensional vector. For example: Obseveration space takes the form [-4.8000002e+00 -3.4028235e+38 -4.1887903e-01 -3.4028235e+38]. The elements of this vector represent the cart position, cart velocity, pole angle, and pole angular velocity.\n",
    "\n",
    "<b>Action Space:</b> The action space defines the set of actions that an agent can take in the environment. In the CartPole environment, the action space is discrete and consists of two possible actions: move the cart to the left (action 0) or move the cart to the right (action 1)."
   ]
  },
  {
   "cell_type": "code",
   "execution_count": 1,
   "metadata": {},
   "outputs": [
    {
     "name": "stderr",
     "output_type": "stream",
     "text": [
      "\n"
     ]
    },
    {
     "name": "stdout",
     "output_type": "stream",
     "text": [
      "Environment              CartPole-v1\n",
      "-----------------------  --------------------------------------------------------------------------------------------------------------------------------------------\n",
      "Observation Space        Box([-4.8000002e+00 -3.4028235e+38 -4.1887903e-01 -3.4028235e+38], [4.8000002e+00 3.4028235e+38 4.1887903e-01 3.4028235e+38], (4,), float32)\n",
      "Action Space             Discrete(2)\n",
      "Observation Space Shape  (4,)\n",
      "Number of Actions        2\n"
     ]
    },
    {
     "data": {
      "image/png": "[encoded data removed]",
      "text/plain": [
       "<Figure size 640x480 with 1 Axes>"
      ]
     },
     "metadata": {},
     "output_type": "display_data"
    }
   ],
   "source": [
    "import gym\n",
    "from tabulate import tabulate\n",
    "import matplotlib.pyplot as plt\n",
    "\n",
    "# Create the CartPole environment\n",
    "env = gym.make('CartPole-v1')\n",
    "\n",
    "# Reset the environment\n",
    "state = env.reset()\n",
    "\n",
    "# Render the environment\n",
    "image = env.render(mode='rgb_array')\n",
    "\n",
    "# Get the environment's observation and action spaces\n",
    "observation_space = env.observation_space\n",
    "action_space = env.action_space\n",
    "\n",
    "# Create a table to display environment details\n",
    "table = [\n",
    "    [\"Environment\", \"CartPole-v1\"],\n",
    "    [\"Observation Space\", observation_space],\n",
    "    [\"Action Space\", action_space],\n",
    "    [\"Observation Space Shape\", observation_space.shape],\n",
    "    [\"Number of Actions\", action_space.n]\n",
    "]\n",
    "\n",
    "# Print the table\n",
    "print(tabulate(table, headers=\"firstrow\"))\n",
    "\n",
    "# Close the environment\n",
    "env.close()\n",
    "\n",
    "# Plot the image\n",
    "plt.imshow(image)\n",
    "plt.axis('off')\n",
    "plt.show()"
   ]
  }
 ],
 "metadata": {
  "kernelspec": {
   "display_name": "ox",
   "language": "python",
   "name": "python3"
  },
  "language_info": {
   "codemirror_mode": {
    "name": "ipython",
    "version": 3
   },
   "file_extension": ".py",
   "mimetype": "text/x-python",
   "name": "python",
   "nbconvert_exporter": "python",
   "pygments_lexer": "ipython3",
   "version": "3.7.12"
  },
  "orig_nbformat": 4
 },
 "nbformat": 4,
 "nbformat_minor": 2
}
