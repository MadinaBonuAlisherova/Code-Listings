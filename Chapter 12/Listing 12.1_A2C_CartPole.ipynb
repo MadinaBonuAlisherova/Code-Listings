{
 "cells": [
  {
   "cell_type": "markdown",
   "metadata": {},
   "source": [
    "# Advantage Actor Critic (A2C) Method\n",
    "\n",
    "Advantage Actor-Critic (A2C) is a reinforcement learning algorithm that combines elements from policy gradient methods (like REINFORCE) and value-based methods (like Q-learning). The A2C algorithm aims to learn an optimal policy by iteratively improving the actor and critic networks."
   ]
  },
  {
   "cell_type": "markdown",
   "metadata": {},
   "source": [
    "#### Requirements  \n",
    "\n",
    "gym==0.22.0\n",
    "<br> torch==1.13.1\n",
    "<br> seaborn==0.12.2\n",
    "<br> pandas==1.3.5\n",
    "<br> tqdm==4.65.0"
   ]
  },
  {
   "cell_type": "code",
   "execution_count": 1,
   "metadata": {},
   "outputs": [
    {
     "name": "stderr",
     "output_type": "stream",
     "text": [
      "\n"
     ]
    }
   ],
   "source": [
    "import gym\n",
    "import numpy as np\n",
    "import torch\n",
    "import torch.nn as nn\n",
    "import torch.nn.functional as F\n",
    "import torch.optim as optim\n",
    "import matplotlib.pyplot as plt\n",
    "from tqdm import tqdm\n",
    "import pandas as pd\n",
    "import seaborn as sns"
   ]
  },
  {
   "cell_type": "code",
   "execution_count": 2,
   "metadata": {},
   "outputs": [
    {
     "data": {
      "text/plain": [
       "'1.13.1'"
      ]
     },
     "execution_count": 2,
     "metadata": {},
     "output_type": "execute_result"
    }
   ],
   "source": [
    "torch.__version__"
   ]
  },
  {
   "cell_type": "markdown",
   "metadata": {},
   "source": [
    "### Define the Actor network"
   ]
  },
  {
   "cell_type": "code",
   "execution_count": 3,
   "metadata": {},
   "outputs": [],
   "source": [
    "class Actor(nn.Module):\n",
    "\n",
    "    def __init__(self, state_dim,  action_dim):\n",
    "        super(Actor, self).__init__()\n",
    "        self.fc1 = nn.Linear(state_dim, 64)\n",
    "        self.fc2 = nn.Linear(64, 32)\n",
    "        self.fc3 = nn.Linear(32, action_dim)\n",
    "\n",
    "    def forward(self, state):\n",
    "        x1 = F.relu(self.fc1(state))\n",
    "        x2 = F.relu(self.fc2(x1))\n",
    "        action_probs = F.softmax(self.fc3(x2), dim=-1)\n",
    "        return action_probs"
   ]
  },
  {
   "cell_type": "markdown",
   "metadata": {},
   "source": [
    "### Define the Critic network"
   ]
  },
  {
   "cell_type": "code",
   "execution_count": 4,
   "metadata": {},
   "outputs": [],
   "source": [
    "class Critic(nn.Module):\n",
    "\n",
    "    def __init__(self, state_dim):\n",
    "        super(Critic, self).__init__()\n",
    "        self.fc1 = nn.Linear(state_dim, 64)\n",
    "        self.fc2 = nn.Linear(64, 32)\n",
    "        self.fc3 = nn.Linear(32, 1)\n",
    "\n",
    "    def forward(self, state):\n",
    "        x1 = F.relu(self.fc1(state))\n",
    "        x2 = F.relu(self.fc2(x1))\n",
    "        value = self.fc3(x2)\n",
    "        return value"
   ]
  },
  {
   "cell_type": "markdown",
   "metadata": {},
   "source": [
    "### Create the CartPole-v1 environment"
   ]
  },
  {
   "cell_type": "code",
   "execution_count": 5,
   "metadata": {},
   "outputs": [],
   "source": [
    "env = gym.make(\"CartPole-v1\")\n",
    "env.seed(0)\n",
    "\n",
    "state_dim = env.observation_space.shape[0]\n",
    "n_actions = env.action_space.n"
   ]
  },
  {
   "cell_type": "markdown",
   "metadata": {},
   "source": [
    "### Configure A2C"
   ]
  },
  {
   "cell_type": "code",
   "execution_count": 6,
   "metadata": {},
   "outputs": [],
   "source": [
    "actor = Actor(state_dim, n_actions)\n",
    "critic = Critic(state_dim)\n",
    "adam_actor = torch.optim.Adam(actor.parameters(), lr=1e-3)\n",
    "adam_critic = torch.optim.Adam(critic.parameters(), lr=1e-3)\n",
    "gamma = 0.99"
   ]
  },
  {
   "cell_type": "markdown",
   "metadata": {},
   "source": [
    "### Training"
   ]
  },
  {
   "cell_type": "code",
   "execution_count": 7,
   "metadata": {},
   "outputs": [
    {
     "name": "stderr",
     "output_type": "stream",
     "text": [
      "Episode 2:   0%|▏                                                        | 2/500"
     ]
    },
    {
     "name": "stdout",
     "output_type": "stream",
     "text": [
      "Actor loss=  0.6915 Critic loss=  1.0032 Return=  22.0\n",
      "Actor loss=  0.4547 Critic loss=  0.564 Return=  18.0\n"
     ]
    },
    {
     "name": "stderr",
     "output_type": "stream",
     "text": [
      "Episode 5:   1%|▍                                                        | 4/500"
     ]
    },
    {
     "name": "stdout",
     "output_type": "stream",
     "text": [
      "Actor loss=  0.4585 Critic loss=  0.5283 Return=  18.0\n",
      "Actor loss=  0.5869 Critic loss=  0.4629 Return=  14.0\n",
      "Actor loss=  0.5287 Critic loss=  0.4333 Return=  10.0\n"
     ]
    },
    {
     "name": "stderr",
     "output_type": "stream",
     "text": [
      "Episode 7:   1%|▋                                                        | 6/500"
     ]
    },
    {
     "name": "stdout",
     "output_type": "stream",
     "text": [
      "Actor loss=  0.5659 Critic loss=  0.669 Return=  16.0\n",
      "Actor loss=  0.3333 Critic loss=  0.3407 Return=  13.0\n"
     ]
    },
    {
     "name": "stderr",
     "output_type": "stream",
     "text": [
      "Episode 9:   2%|▉                                                        | 8/500"
     ]
    },
    {
     "name": "stdout",
     "output_type": "stream",
     "text": [
      "Actor loss=  0.3514 Critic loss=  0.2789 Return=  25.0\n",
      "Actor loss=  0.4979 Critic loss=  0.4162 Return=  12.0\n"
     ]
    },
    {
     "name": "stderr",
     "output_type": "stream",
     "text": [
      "Episode 11:   2%|█▏                                                     | 11/500"
     ]
    },
    {
     "name": "stdout",
     "output_type": "stream",
     "text": [
      "Actor loss=  0.5982 Critic loss=  0.5476 Return=  16.0\n",
      "Actor loss=  0.3722 Critic loss=  0.2371 Return=  24.0\n"
     ]
    },
    {
     "name": "stderr",
     "output_type": "stream",
     "text": [
      "Episode 13:   3%|█▍                                                     | 13/500"
     ]
    },
    {
     "name": "stdout",
     "output_type": "stream",
     "text": [
      "Actor loss=  0.2232 Critic loss=  0.1162 Return=  43.0\n",
      "Actor loss=  0.1511 Critic loss=  0.0623 Return=  16.0\n"
     ]
    },
    {
     "name": "stderr",
     "output_type": "stream",
     "text": [
      "Episode 15:   3%|█▋                                                     | 15/500"
     ]
    },
    {
     "name": "stdout",
     "output_type": "stream",
     "text": [
      "Actor loss=  0.204 Critic loss=  0.1135 Return=  15.0\n",
      "Actor loss=  0.3148 Critic loss=  0.214 Return=  11.0\n"
     ]
    },
    {
     "name": "stderr",
     "output_type": "stream",
     "text": [
      "Episode 16:   3%|█▊                                                     | 16/500"
     ]
    },
    {
     "name": "stdout",
     "output_type": "stream",
     "text": [
      "Actor loss=  0.1193 Critic loss=  0.0271 Return=  11.0\n"
     ]
    },
    {
     "name": "stderr",
     "output_type": "stream",
     "text": [
      "Episode 18:   4%|█▉                                                     | 18/500"
     ]
    },
    {
     "name": "stdout",
     "output_type": "stream",
     "text": [
      "Actor loss=  0.0414 Critic loss=  0.0031 Return=  29.0\n",
      "Actor loss=  0.1078 Critic loss=  0.0262 Return=  16.0\n"
     ]
    },
    {
     "name": "stderr",
     "output_type": "stream",
     "text": [
      "Episode 20:   4%|██▏                                                    | 20/500"
     ]
    },
    {
     "name": "stdout",
     "output_type": "stream",
     "text": [
      "Actor loss=  0.1415 Critic loss=  0.033 Return=  10.0\n",
      "Actor loss=  0.1937 Critic loss=  0.0879 Return=  10.0\n"
     ]
    },
    {
     "name": "stderr",
     "output_type": "stream",
     "text": [
      "Episode 23:   4%|██▍                                                    | 22/500"
     ]
    },
    {
     "name": "stdout",
     "output_type": "stream",
     "text": [
      "Actor loss=  0.1326 Critic loss=  0.0355 Return=  16.0\n",
      "Actor loss=  0.2064 Critic loss=  0.0903 Return=  9.0\n",
      "Actor loss=  0.4367 Critic loss=  0.3897 Return=  9.0\n"
     ]
    },
    {
     "name": "stderr",
     "output_type": "stream",
     "text": [
      "Episode 24:   5%|██▋                                                    | 24/500"
     ]
    },
    {
     "name": "stdout",
     "output_type": "stream",
     "text": [
      "Actor loss=  0.1761 Critic loss=  0.071 Return=  11.0\n"
     ]
    },
    {
     "name": "stderr",
     "output_type": "stream",
     "text": [
      "Episode 25:   5%|██▊                                                    | 25/500"
     ]
    },
    {
     "name": "stdout",
     "output_type": "stream",
     "text": [
      "Actor loss=  -0.253 Critic loss=  0.1136 Return=  50.0\n"
     ]
    },
    {
     "name": "stderr",
     "output_type": "stream",
     "text": [
      "Episode 27:   5%|██▉                                                    | 27/500"
     ]
    },
    {
     "name": "stdout",
     "output_type": "stream",
     "text": [
      "Actor loss=  0.1799 Critic loss=  0.0691 Return=  29.0\n",
      "Actor loss=  -0.2445 Critic loss=  0.13 Return=  10.0\n"
     ]
    },
    {
     "name": "stderr",
     "output_type": "stream",
     "text": [
      "Episode 28:   6%|███                                                    | 28/500"
     ]
    },
    {
     "name": "stdout",
     "output_type": "stream",
     "text": [
      "Actor loss=  -0.056 Critic loss=  0.007 Return=  20.0\n"
     ]
    },
    {
     "name": "stderr",
     "output_type": "stream",
     "text": [
      "Episode 29:   6%|███▏                                                   | 29/500"
     ]
    },
    {
     "name": "stdout",
     "output_type": "stream",
     "text": [
      "Actor loss=  -0.0383 Critic loss=  0.0028 Return=  26.0\n"
     ]
    },
    {
     "name": "stderr",
     "output_type": "stream",
     "text": [
      "Episode 30:   6%|███▎                                                   | 30/500"
     ]
    },
    {
     "name": "stdout",
     "output_type": "stream",
     "text": [
      "Actor loss=  0.607 Critic loss=  0.7273 Return=  17.0\n"
     ]
    },
    {
     "name": "stderr",
     "output_type": "stream",
     "text": [
      "Episode 31:   6%|███▍                                                   | 31/500"
     ]
    },
    {
     "name": "stdout",
     "output_type": "stream",
     "text": [
      "Actor loss=  0.0519 Critic loss=  0.0051 Return=  46.0\n"
     ]
    },
    {
     "name": "stderr",
     "output_type": "stream",
     "text": [
      "Episode 34:   7%|███▋                                                   | 33/500"
     ]
    },
    {
     "name": "stdout",
     "output_type": "stream",
     "text": [
      "Actor loss=  -0.1988 Critic loss=  0.0874 Return=  30.0\n",
      "Actor loss=  -0.0195 Critic loss=  0.0008 Return=  16.0\n",
      "Actor loss=  -0.39 Critic loss=  0.4725 Return=  10.0\n"
     ]
    },
    {
     "name": "stderr",
     "output_type": "stream",
     "text": [
      "Episode 36:   7%|███▉                                                   | 36/500"
     ]
    },
    {
     "name": "stdout",
     "output_type": "stream",
     "text": [
      "Actor loss=  -0.5371 Critic loss=  0.6921 Return=  18.0\n",
      "Actor loss=  0.0355 Critic loss=  0.0026 Return=  25.0\n"
     ]
    },
    {
     "name": "stderr",
     "output_type": "stream",
     "text": [
      "Episode 38:   8%|████▏                                                  | 38/500"
     ]
    },
    {
     "name": "stdout",
     "output_type": "stream",
     "text": [
      "Actor loss=  0.2294 Critic loss=  0.1178 Return=  14.0\n",
      "Actor loss=  0.492 Critic loss=  0.7475 Return=  10.0\n"
     ]
    },
    {
     "name": "stderr",
     "output_type": "stream",
     "text": [
      "Episode 39:   8%|████▎                                                  | 39/500"
     ]
    },
    {
     "name": "stdout",
     "output_type": "stream",
     "text": [
      "Actor loss=  0.5461 Critic loss=  0.7136 Return=  19.0\n"
     ]
    },
    {
     "name": "stderr",
     "output_type": "stream",
     "text": [
      "Episode 40:   8%|████▍                                                  | 40/500"
     ]
    },
    {
     "name": "stdout",
     "output_type": "stream",
     "text": [
      "Actor loss=  -0.2178 Critic loss=  0.1091 Return=  27.0\n"
     ]
    },
    {
     "name": "stderr",
     "output_type": "stream",
     "text": [
      "Episode 42:   8%|████▌                                                  | 41/500"
     ]
    },
    {
     "name": "stdout",
     "output_type": "stream",
     "text": [
      "Actor loss=  0.0293 Critic loss=  0.0016 Return=  49.0\n",
      "Actor loss=  -1.0247 Critic loss=  1.5952 Return=  18.0\n"
     ]
    },
    {
     "name": "stderr",
     "output_type": "stream",
     "text": [
      "Episode 44:   9%|████▋                                                  | 43/500"
     ]
    },
    {
     "name": "stdout",
     "output_type": "stream",
     "text": [
      "Actor loss=  0.1501 Critic loss=  0.088 Return=  45.0\n",
      "Actor loss=  -0.3276 Critic loss=  0.1427 Return=  13.0\n"
     ]
    },
    {
     "name": "stderr",
     "output_type": "stream",
     "text": [
      "Episode 46:   9%|█████                                                  | 46/500"
     ]
    },
    {
     "name": "stdout",
     "output_type": "stream",
     "text": [
      "Actor loss=  -0.7794 Critic loss=  0.8407 Return=  42.0\n",
      "Actor loss=  -0.2879 Critic loss=  0.3348 Return=  10.0\n"
     ]
    },
    {
     "name": "stderr",
     "output_type": "stream",
     "text": [
      "Episode 48:  10%|█████▎                                                 | 48/500"
     ]
    },
    {
     "name": "stdout",
     "output_type": "stream",
     "text": [
      "Actor loss=  -0.3292 Critic loss=  0.1533 Return=  18.0\n",
      "Actor loss=  -0.0664 Critic loss=  0.0126 Return=  17.0\n"
     ]
    },
    {
     "name": "stderr",
     "output_type": "stream",
     "text": [
      "Episode 50:  10%|█████▍                                                 | 49/500"
     ]
    },
    {
     "name": "stdout",
     "output_type": "stream",
     "text": [
      "Actor loss=  -0.5928 Critic loss=  0.3431 Return=  29.0\n",
      "Actor loss=  0.1789 Critic loss=  0.14 Return=  25.0\n"
     ]
    },
    {
     "name": "stderr",
     "output_type": "stream",
     "text": [
      "Episode 51:  10%|█████▌                                                 | 51/500"
     ]
    },
    {
     "name": "stdout",
     "output_type": "stream",
     "text": [
      "Actor loss=  0.9653 Critic loss=  1.2402 Return=  46.0\n"
     ]
    },
    {
     "name": "stderr",
     "output_type": "stream",
     "text": [
      "Episode 52:  10%|█████▋                                                 | 52/500"
     ]
    },
    {
     "name": "stdout",
     "output_type": "stream",
     "text": [
      "Actor loss=  -0.1767 Critic loss=  0.106 Return=  35.0\n"
     ]
    },
    {
     "name": "stderr",
     "output_type": "stream",
     "text": [
      "Episode 53:  11%|█████▊                                                 | 53/500"
     ]
    },
    {
     "name": "stdout",
     "output_type": "stream",
     "text": [
      "Actor loss=  0.4138 Critic loss=  0.237 Return=  38.0\n"
     ]
    },
    {
     "name": "stderr",
     "output_type": "stream",
     "text": [
      "Episode 54:  11%|█████▉                                                 | 54/500"
     ]
    },
    {
     "name": "stdout",
     "output_type": "stream",
     "text": [
      "Actor loss=  -0.9708 Critic loss=  3.6831 Return=  44.0\n"
     ]
    },
    {
     "name": "stderr",
     "output_type": "stream",
     "text": [
      "Episode 55:  11%|██████                                                 | 55/500"
     ]
    },
    {
     "name": "stdout",
     "output_type": "stream",
     "text": [
      "Actor loss=  -0.1154 Critic loss=  0.0517 Return=  25.0\n"
     ]
    },
    {
     "name": "stderr",
     "output_type": "stream",
     "text": [
      "Episode 56:  11%|██████▏                                                | 56/500"
     ]
    },
    {
     "name": "stdout",
     "output_type": "stream",
     "text": [
      "Actor loss=  -0.0473 Critic loss=  0.011 Return=  31.0\n"
     ]
    },
    {
     "name": "stderr",
     "output_type": "stream",
     "text": [
      "Episode 57:  11%|██████▎                                                | 57/500"
     ]
    },
    {
     "name": "stdout",
     "output_type": "stream",
     "text": [
      "Actor loss=  -0.5642 Critic loss=  2.5106 Return=  39.0\n"
     ]
    },
    {
     "name": "stderr",
     "output_type": "stream",
     "text": [
      "Episode 58:  12%|██████▍                                                | 58/500"
     ]
    },
    {
     "name": "stdout",
     "output_type": "stream",
     "text": [
      "Actor loss=  -2.0189 Critic loss=  2.1617 Return=  94.0\n"
     ]
    },
    {
     "name": "stderr",
     "output_type": "stream",
     "text": [
      "Episode 59:  12%|██████▍                                                | 59/500"
     ]
    },
    {
     "name": "stdout",
     "output_type": "stream",
     "text": [
      "Actor loss=  -0.4487 Critic loss=  1.3489 Return=  39.0\n"
     ]
    },
    {
     "name": "stderr",
     "output_type": "stream",
     "text": [
      "Episode 60:  12%|██████▌                                                | 60/500"
     ]
    },
    {
     "name": "stdout",
     "output_type": "stream",
     "text": [
      "Actor loss=  -0.0724 Critic loss=  0.0786 Return=  88.0\n"
     ]
    },
    {
     "name": "stderr",
     "output_type": "stream",
     "text": [
      "Episode 61:  12%|██████▋                                                | 61/500"
     ]
    },
    {
     "name": "stdout",
     "output_type": "stream",
     "text": [
      "Actor loss=  -0.6373 Critic loss=  1.4581 Return=  31.0\n"
     ]
    },
    {
     "name": "stderr",
     "output_type": "stream",
     "text": [
      "Episode 62:  12%|██████▊                                                | 62/500"
     ]
    },
    {
     "name": "stdout",
     "output_type": "stream",
     "text": [
      "Actor loss=  -1.2079 Critic loss=  1.2733 Return=  22.0\n"
     ]
    },
    {
     "name": "stderr",
     "output_type": "stream",
     "text": [
      "Episode 63:  13%|██████▉                                                | 63/500"
     ]
    },
    {
     "name": "stdout",
     "output_type": "stream",
     "text": [
      "Actor loss=  -0.8902 Critic loss=  0.2991 Return=  30.0\n"
     ]
    },
    {
     "name": "stderr",
     "output_type": "stream",
     "text": [
      "Episode 64:  13%|███████                                                | 64/500"
     ]
    },
    {
     "name": "stdout",
     "output_type": "stream",
     "text": [
      "Actor loss=  0.0297 Critic loss=  0.1659 Return=  55.0\n"
     ]
    },
    {
     "name": "stderr",
     "output_type": "stream",
     "text": [
      "Episode 65:  13%|███████▏                                               | 65/500"
     ]
    },
    {
     "name": "stdout",
     "output_type": "stream",
     "text": [
      "Actor loss=  -0.1106 Critic loss=  0.0101 Return=  69.0\n"
     ]
    },
    {
     "name": "stderr",
     "output_type": "stream",
     "text": [
      "Episode 66:  13%|███████▎                                               | 66/500"
     ]
    },
    {
     "name": "stdout",
     "output_type": "stream",
     "text": [
      "Actor loss=  -0.219 Critic loss=  0.0623 Return=  56.0\n"
     ]
    },
    {
     "name": "stderr",
     "output_type": "stream",
     "text": [
      "Episode 67:  13%|███████▎                                               | 67/500"
     ]
    },
    {
     "name": "stdout",
     "output_type": "stream",
     "text": [
      "Actor loss=  -0.1363 Critic loss=  0.097 Return=  81.0\n"
     ]
    },
    {
     "name": "stderr",
     "output_type": "stream",
     "text": [
      "Episode 68:  14%|███████▍                                               | 68/500"
     ]
    },
    {
     "name": "stdout",
     "output_type": "stream",
     "text": [
      "Actor loss=  0.5324 Critic loss=  0.9157 Return=  61.0\n"
     ]
    },
    {
     "name": "stderr",
     "output_type": "stream",
     "text": [
      "Episode 69:  14%|███████▌                                               | 69/500"
     ]
    },
    {
     "name": "stdout",
     "output_type": "stream",
     "text": [
      "Actor loss=  -0.8778 Critic loss=  0.6839 Return=  45.0\n"
     ]
    },
    {
     "name": "stderr",
     "output_type": "stream",
     "text": [
      "Episode 70:  14%|███████▋                                               | 70/500"
     ]
    },
    {
     "name": "stdout",
     "output_type": "stream",
     "text": [
      "Actor loss=  -0.5377 Critic loss=  1.5424 Return=  27.0\n"
     ]
    },
    {
     "name": "stderr",
     "output_type": "stream",
     "text": [
      "Episode 71:  14%|███████▊                                               | 71/500"
     ]
    },
    {
     "name": "stdout",
     "output_type": "stream",
     "text": [
      "Actor loss=  -0.1925 Critic loss=  0.7064 Return=  34.0\n"
     ]
    },
    {
     "name": "stderr",
     "output_type": "stream",
     "text": [
      "Episode 72:  14%|███████▉                                               | 72/500"
     ]
    },
    {
     "name": "stdout",
     "output_type": "stream",
     "text": [
      "Actor loss=  -0.1384 Critic loss=  0.0429 Return=  29.0\n"
     ]
    },
    {
     "name": "stderr",
     "output_type": "stream",
     "text": [
      "Episode 73:  15%|████████                                               | 73/500"
     ]
    },
    {
     "name": "stdout",
     "output_type": "stream",
     "text": [
      "Actor loss=  -0.0501 Critic loss=  0.0073 Return=  39.0\n"
     ]
    },
    {
     "name": "stderr",
     "output_type": "stream",
     "text": [
      "Episode 75:  15%|████████▏                                              | 74/500"
     ]
    },
    {
     "name": "stdout",
     "output_type": "stream",
     "text": [
      "Actor loss=  -0.0562 Critic loss=  0.5328 Return=  29.0\n",
      "Actor loss=  -0.6184 Critic loss=  0.3238 Return=  22.0\n"
     ]
    },
    {
     "name": "stderr",
     "output_type": "stream",
     "text": [
      "Episode 77:  15%|████████▍                                              | 77/500"
     ]
    },
    {
     "name": "stdout",
     "output_type": "stream",
     "text": [
      "Actor loss=  -0.0982 Critic loss=  0.0048 Return=  26.0\n",
      "Actor loss=  0.0305 Critic loss=  0.0033 Return=  25.0\n"
     ]
    },
    {
     "name": "stderr",
     "output_type": "stream",
     "text": [
      "Episode 78:  16%|████████▌                                              | 78/500"
     ]
    },
    {
     "name": "stdout",
     "output_type": "stream",
     "text": [
      "Actor loss=  0.8559 Critic loss=  1.659 Return=  44.0\n"
     ]
    },
    {
     "name": "stderr",
     "output_type": "stream",
     "text": [
      "Episode 79:  16%|████████▋                                              | 79/500"
     ]
    },
    {
     "name": "stdout",
     "output_type": "stream",
     "text": [
      "Actor loss=  0.1002 Critic loss=  0.0391 Return=  44.0\n"
     ]
    },
    {
     "name": "stderr",
     "output_type": "stream",
     "text": [
      "Episode 80:  16%|████████▊                                              | 80/500"
     ]
    },
    {
     "name": "stdout",
     "output_type": "stream",
     "text": [
      "Actor loss=  0.0089 Critic loss=  0.0033 Return=  39.0\n"
     ]
    },
    {
     "name": "stderr",
     "output_type": "stream",
     "text": [
      "Episode 81:  16%|████████▉                                              | 81/500"
     ]
    },
    {
     "name": "stdout",
     "output_type": "stream",
     "text": [
      "Actor loss=  -0.0357 Critic loss=  0.0102 Return=  46.0\n",
      "Actor loss=  -0.1111 Critic loss=  0.0954 Return=  31.0\n"
     ]
    },
    {
     "name": "stderr",
     "output_type": "stream",
     "text": [
      "Episode 83:  17%|█████████▏                                             | 83/500"
     ]
    },
    {
     "name": "stdout",
     "output_type": "stream",
     "text": [
      "Actor loss=  0.0268 Critic loss=  1.6298 Return=  47.0\n"
     ]
    },
    {
     "name": "stderr",
     "output_type": "stream",
     "text": [
      "Episode 85:  17%|█████████▎                                             | 85/500"
     ]
    },
    {
     "name": "stdout",
     "output_type": "stream",
     "text": [
      "Actor loss=  -0.0387 Critic loss=  1.537 Return=  28.0\n",
      "Actor loss=  -0.0514 Critic loss=  1.7944 Return=  25.0\n"
     ]
    },
    {
     "name": "stderr",
     "output_type": "stream",
     "text": [
      "Episode 86:  17%|█████████▍                                             | 86/500"
     ]
    },
    {
     "name": "stdout",
     "output_type": "stream",
     "text": [
      "Actor loss=  0.0308 Critic loss=  0.1243 Return=  30.0\n"
     ]
    },
    {
     "name": "stderr",
     "output_type": "stream",
     "text": [
      "Episode 87:  17%|█████████▌                                             | 87/500"
     ]
    },
    {
     "name": "stdout",
     "output_type": "stream",
     "text": [
      "Actor loss=  0.1987 Critic loss=  0.297 Return=  33.0\n"
     ]
    },
    {
     "name": "stderr",
     "output_type": "stream",
     "text": [
      "Episode 88:  18%|█████████▋                                             | 88/500"
     ]
    },
    {
     "name": "stdout",
     "output_type": "stream",
     "text": [
      "Actor loss=  0.2529 Critic loss=  4.1396 Return=  44.0\n"
     ]
    },
    {
     "name": "stderr",
     "output_type": "stream",
     "text": [
      "Episode 89:  18%|█████████▊                                             | 89/500"
     ]
    },
    {
     "name": "stdout",
     "output_type": "stream",
     "text": [
      "Actor loss=  -0.169 Critic loss=  0.1323 Return=  36.0\n"
     ]
    },
    {
     "name": "stderr",
     "output_type": "stream",
     "text": [
      "Episode 90:  18%|█████████▉                                             | 90/500"
     ]
    },
    {
     "name": "stdout",
     "output_type": "stream",
     "text": [
      "Actor loss=  0.0048 Critic loss=  0.5124 Return=  49.0\n"
     ]
    },
    {
     "name": "stderr",
     "output_type": "stream",
     "text": [
      "Episode 91:  18%|██████████                                             | 91/500"
     ]
    },
    {
     "name": "stdout",
     "output_type": "stream",
     "text": [
      "Actor loss=  -0.0146 Critic loss=  0.3346 Return=  35.0\n"
     ]
    },
    {
     "name": "stderr",
     "output_type": "stream",
     "text": [
      "Episode 92:  18%|██████████                                             | 92/500"
     ]
    },
    {
     "name": "stdout",
     "output_type": "stream",
     "text": [
      "Actor loss=  0.1507 Critic loss=  0.4241 Return=  53.0\n"
     ]
    },
    {
     "name": "stderr",
     "output_type": "stream",
     "text": [
      "Episode 93:  19%|██████████▏                                            | 93/500"
     ]
    },
    {
     "name": "stdout",
     "output_type": "stream",
     "text": [
      "Actor loss=  0.6674 Critic loss=  0.3882 Return=  47.0\n"
     ]
    },
    {
     "name": "stderr",
     "output_type": "stream",
     "text": [
      "Episode 94:  19%|██████████▎                                            | 94/500"
     ]
    },
    {
     "name": "stdout",
     "output_type": "stream",
     "text": [
      "Actor loss=  0.2284 Critic loss=  0.1714 Return=  47.0\n"
     ]
    },
    {
     "name": "stderr",
     "output_type": "stream",
     "text": [
      "Episode 95:  19%|██████████▍                                            | 95/500"
     ]
    },
    {
     "name": "stdout",
     "output_type": "stream",
     "text": [
      "Actor loss=  -2.1514 Critic loss=  17.3343 Return=  25.0\n"
     ]
    },
    {
     "name": "stderr",
     "output_type": "stream",
     "text": [
      "Episode 97:  19%|██████████▌                                            | 96/500"
     ]
    },
    {
     "name": "stdout",
     "output_type": "stream",
     "text": [
      "Actor loss=  -0.0419 Critic loss=  0.3943 Return=  38.0\n",
      "Actor loss=  -0.0151 Critic loss=  0.6936 Return=  27.0\n"
     ]
    },
    {
     "name": "stderr",
     "output_type": "stream",
     "text": [
      "Episode 99:  20%|██████████▊                                            | 98/500"
     ]
    },
    {
     "name": "stdout",
     "output_type": "stream",
     "text": [
      "Actor loss=  0.3824 Critic loss=  1.5519 Return=  31.0\n",
      "Actor loss=  -0.6794 Critic loss=  0.9224 Return=  27.0\n"
     ]
    },
    {
     "name": "stderr",
     "output_type": "stream",
     "text": [
      "Episode 100:  20%|██████████▌                                          | 100/500"
     ]
    },
    {
     "name": "stdout",
     "output_type": "stream",
     "text": [
      "Actor loss=  1.1914 Critic loss=  5.379 Return=  50.0\n"
     ]
    },
    {
     "name": "stderr",
     "output_type": "stream",
     "text": [
      "Episode 101:  20%|██████████▋                                          | 101/500"
     ]
    },
    {
     "name": "stdout",
     "output_type": "stream",
     "text": [
      "Actor loss=  1.2195 Critic loss=  1.5744 Return=  46.0\n"
     ]
    },
    {
     "name": "stderr",
     "output_type": "stream",
     "text": [
      "Episode 103:  20%|██████████▊                                          | 102/500"
     ]
    },
    {
     "name": "stdout",
     "output_type": "stream",
     "text": [
      "Actor loss=  -1.3952 Critic loss=  6.7141 Return=  29.0\n",
      "Actor loss=  -0.0308 Critic loss=  0.6432 Return=  28.0\n"
     ]
    },
    {
     "name": "stderr",
     "output_type": "stream",
     "text": [
      "Episode 105:  21%|███████████                                          | 104/500"
     ]
    },
    {
     "name": "stdout",
     "output_type": "stream",
     "text": [
      "Actor loss=  0.0171 Critic loss=  1.1565 Return=  38.0\n",
      "Actor loss=  -0.0082 Critic loss=  2.5071 Return=  27.0\n"
     ]
    },
    {
     "name": "stderr",
     "output_type": "stream",
     "text": [
      "Episode 107:  21%|███████████▏                                         | 106/500"
     ]
    },
    {
     "name": "stdout",
     "output_type": "stream",
     "text": [
      "Actor loss=  -0.1324 Critic loss=  1.1791 Return=  24.0\n",
      "Actor loss=  -0.016 Critic loss=  0.6395 Return=  25.0\n"
     ]
    },
    {
     "name": "stderr",
     "output_type": "stream",
     "text": [
      "Episode 109:  22%|███████████▌                                         | 109/500"
     ]
    },
    {
     "name": "stdout",
     "output_type": "stream",
     "text": [
      "Actor loss=  0.0336 Critic loss=  0.0404 Return=  30.0\n",
      "Actor loss=  -0.046 Critic loss=  0.0672 Return=  24.0\n"
     ]
    },
    {
     "name": "stderr",
     "output_type": "stream",
     "text": [
      "Episode 110:  22%|███████████▋                                         | 110/500"
     ]
    },
    {
     "name": "stdout",
     "output_type": "stream",
     "text": [
      "Actor loss=  -0.3823 Critic loss=  0.9908 Return=  22.0\n"
     ]
    },
    {
     "name": "stderr",
     "output_type": "stream",
     "text": [
      "Episode 111:  22%|███████████▊                                         | 111/500"
     ]
    },
    {
     "name": "stdout",
     "output_type": "stream",
     "text": [
      "Actor loss=  0.192 Critic loss=  0.9973 Return=  30.0\n"
     ]
    },
    {
     "name": "stderr",
     "output_type": "stream",
     "text": [
      "Episode 113:  22%|███████████▊                                         | 112/500"
     ]
    },
    {
     "name": "stdout",
     "output_type": "stream",
     "text": [
      "Actor loss=  0.1846 Critic loss=  2.8431 Return=  36.0\n",
      "Actor loss=  -0.0141 Critic loss=  4.9227 Return=  22.0\n"
     ]
    },
    {
     "name": "stderr",
     "output_type": "stream",
     "text": [
      "Episode 115:  23%|████████████▏                                        | 115/500"
     ]
    },
    {
     "name": "stdout",
     "output_type": "stream",
     "text": [
      "Actor loss=  -0.2426 Critic loss=  5.013 Return=  19.0\n",
      "Actor loss=  0.1223 Critic loss=  0.0374 Return=  22.0\n"
     ]
    },
    {
     "name": "stderr",
     "output_type": "stream",
     "text": [
      "Episode 117:  23%|████████████▎                                        | 116/500"
     ]
    },
    {
     "name": "stdout",
     "output_type": "stream",
     "text": [
      "Actor loss=  0.2874 Critic loss=  5.3155 Return=  26.0\n",
      "Actor loss=  0.3371 Critic loss=  3.3285 Return=  28.0\n"
     ]
    },
    {
     "name": "stderr",
     "output_type": "stream",
     "text": [
      "Episode 119:  24%|████████████▌                                        | 118/500"
     ]
    },
    {
     "name": "stdout",
     "output_type": "stream",
     "text": [
      "Actor loss=  0.0498 Critic loss=  0.078 Return=  30.0\n",
      "Actor loss=  0.2404 Critic loss=  0.138 Return=  31.0\n"
     ]
    },
    {
     "name": "stderr",
     "output_type": "stream",
     "text": [
      "Episode 120:  24%|████████████▋                                        | 120/500"
     ]
    },
    {
     "name": "stdout",
     "output_type": "stream",
     "text": [
      "Actor loss=  0.6314 Critic loss=  4.3488 Return=  34.0\n"
     ]
    },
    {
     "name": "stderr",
     "output_type": "stream",
     "text": [
      "Episode 121:  24%|████████████▊                                        | 121/500"
     ]
    },
    {
     "name": "stdout",
     "output_type": "stream",
     "text": [
      "Actor loss=  0.053 Critic loss=  1.2624 Return=  39.0\n"
     ]
    },
    {
     "name": "stderr",
     "output_type": "stream",
     "text": [
      "Episode 122:  24%|████████████▉                                        | 122/500"
     ]
    },
    {
     "name": "stdout",
     "output_type": "stream",
     "text": [
      "Actor loss=  0.0171 Critic loss=  2.3251 Return=  43.0\n"
     ]
    },
    {
     "name": "stderr",
     "output_type": "stream",
     "text": [
      "Episode 123:  25%|█████████████                                        | 123/500"
     ]
    },
    {
     "name": "stdout",
     "output_type": "stream",
     "text": [
      "Actor loss=  -0.1348 Critic loss=  0.0376 Return=  38.0\n"
     ]
    },
    {
     "name": "stderr",
     "output_type": "stream",
     "text": [
      "Episode 124:  25%|█████████████▏                                       | 124/500"
     ]
    },
    {
     "name": "stdout",
     "output_type": "stream",
     "text": [
      "Actor loss=  0.0401 Critic loss=  0.038 Return=  43.0\n"
     ]
    },
    {
     "name": "stderr",
     "output_type": "stream",
     "text": [
      "Episode 125:  25%|█████████████▎                                       | 125/500"
     ]
    },
    {
     "name": "stdout",
     "output_type": "stream",
     "text": [
      "Actor loss=  0.0561 Critic loss=  5.2595 Return=  46.0\n"
     ]
    },
    {
     "name": "stderr",
     "output_type": "stream",
     "text": [
      "Episode 126:  25%|█████████████▎                                       | 126/500"
     ]
    },
    {
     "name": "stdout",
     "output_type": "stream",
     "text": [
      "Actor loss=  -0.3346 Critic loss=  2.03 Return=  36.0\n"
     ]
    },
    {
     "name": "stderr",
     "output_type": "stream",
     "text": [
      "Episode 127:  25%|█████████████▍                                       | 127/500"
     ]
    },
    {
     "name": "stdout",
     "output_type": "stream",
     "text": [
      "Actor loss=  -0.3323 Critic loss=  0.0957 Return=  44.0\n"
     ]
    },
    {
     "name": "stderr",
     "output_type": "stream",
     "text": [
      "Episode 128:  26%|█████████████▌                                       | 128/500"
     ]
    },
    {
     "name": "stdout",
     "output_type": "stream",
     "text": [
      "Actor loss=  0.1473 Critic loss=  2.8294 Return=  54.0\n"
     ]
    },
    {
     "name": "stderr",
     "output_type": "stream",
     "text": [
      "Episode 129:  26%|█████████████▋                                       | 129/500"
     ]
    },
    {
     "name": "stdout",
     "output_type": "stream",
     "text": [
      "Actor loss=  0.5872 Critic loss=  4.6789 Return=  60.0\n"
     ]
    },
    {
     "name": "stderr",
     "output_type": "stream",
     "text": [
      "Episode 130:  26%|█████████████▊                                       | 130/500"
     ]
    },
    {
     "name": "stdout",
     "output_type": "stream",
     "text": [
      "Actor loss=  -1.0022 Critic loss=  11.6393 Return=  39.0\n"
     ]
    },
    {
     "name": "stderr",
     "output_type": "stream",
     "text": [
      "Episode 131:  26%|█████████████▉                                       | 131/500"
     ]
    },
    {
     "name": "stdout",
     "output_type": "stream",
     "text": [
      "Actor loss=  6.3275 Critic loss=  3.0865 Return=  68.0\n"
     ]
    },
    {
     "name": "stderr",
     "output_type": "stream",
     "text": [
      "Episode 132:  26%|█████████████▉                                       | 132/500"
     ]
    },
    {
     "name": "stdout",
     "output_type": "stream",
     "text": [
      "Actor loss=  0.414 Critic loss=  14.3903 Return=  79.0\n"
     ]
    },
    {
     "name": "stderr",
     "output_type": "stream",
     "text": [
      "Episode 133:  27%|██████████████                                       | 133/500"
     ]
    },
    {
     "name": "stdout",
     "output_type": "stream",
     "text": [
      "Actor loss=  -1.5375 Critic loss=  7.5877 Return=  45.0\n"
     ]
    },
    {
     "name": "stderr",
     "output_type": "stream",
     "text": [
      "Episode 134:  27%|██████████████▏                                      | 134/500"
     ]
    },
    {
     "name": "stdout",
     "output_type": "stream",
     "text": [
      "Actor loss=  -0.6855 Critic loss=  3.0504 Return=  50.0\n"
     ]
    },
    {
     "name": "stderr",
     "output_type": "stream",
     "text": [
      "Episode 135:  27%|██████████████▎                                      | 135/500"
     ]
    },
    {
     "name": "stdout",
     "output_type": "stream",
     "text": [
      "Actor loss=  -0.3224 Critic loss=  7.421 Return=  37.0\n"
     ]
    },
    {
     "name": "stderr",
     "output_type": "stream",
     "text": [
      "Episode 136:  27%|██████████████▍                                      | 136/500"
     ]
    },
    {
     "name": "stdout",
     "output_type": "stream",
     "text": [
      "Actor loss=  0.2451 Critic loss=  10.2407 Return=  48.0\n"
     ]
    },
    {
     "name": "stderr",
     "output_type": "stream",
     "text": [
      "Episode 137:  27%|██████████████▌                                      | 137/500"
     ]
    },
    {
     "name": "stdout",
     "output_type": "stream",
     "text": [
      "Actor loss=  2.2444 Critic loss=  12.59 Return=  58.0\n"
     ]
    },
    {
     "name": "stderr",
     "output_type": "stream",
     "text": [
      "Episode 138:  28%|██████████████▋                                      | 138/500"
     ]
    },
    {
     "name": "stdout",
     "output_type": "stream",
     "text": [
      "Actor loss=  -1.311 Critic loss=  4.9641 Return=  52.0\n"
     ]
    },
    {
     "name": "stderr",
     "output_type": "stream",
     "text": [
      "Episode 139:  28%|██████████████▋                                      | 139/500"
     ]
    },
    {
     "name": "stdout",
     "output_type": "stream",
     "text": [
      "Actor loss=  -7.2029 Critic loss=  611.0401 Return=  57.0\n"
     ]
    },
    {
     "name": "stderr",
     "output_type": "stream",
     "text": [
      "Episode 140:  28%|██████████████▊                                      | 140/500"
     ]
    },
    {
     "name": "stdout",
     "output_type": "stream",
     "text": [
      "Actor loss=  2.6215 Critic loss=  6.6641 Return=  88.0\n"
     ]
    },
    {
     "name": "stderr",
     "output_type": "stream",
     "text": [
      "Episode 141:  28%|██████████████▉                                      | 141/500"
     ]
    },
    {
     "name": "stdout",
     "output_type": "stream",
     "text": [
      "Actor loss=  0.3625 Critic loss=  5.2968 Return=  70.0\n"
     ]
    },
    {
     "name": "stderr",
     "output_type": "stream",
     "text": [
      "Episode 142:  28%|███████████████                                      | 142/500"
     ]
    },
    {
     "name": "stdout",
     "output_type": "stream",
     "text": [
      "Actor loss=  0.0666 Critic loss=  0.0189 Return=  43.0\n"
     ]
    },
    {
     "name": "stderr",
     "output_type": "stream",
     "text": [
      "Episode 143:  29%|███████████████▏                                     | 143/500"
     ]
    },
    {
     "name": "stdout",
     "output_type": "stream",
     "text": [
      "Actor loss=  -0.0325 Critic loss=  2.6236 Return=  38.0\n"
     ]
    },
    {
     "name": "stderr",
     "output_type": "stream",
     "text": [
      "Episode 144:  29%|███████████████▎                                     | 144/500"
     ]
    },
    {
     "name": "stdout",
     "output_type": "stream",
     "text": [
      "Actor loss=  0.6439 Critic loss=  0.5029 Return=  44.0\n"
     ]
    },
    {
     "name": "stderr",
     "output_type": "stream",
     "text": [
      "Episode 145:  29%|███████████████▎                                     | 145/500"
     ]
    },
    {
     "name": "stdout",
     "output_type": "stream",
     "text": [
      "Actor loss=  0.3918 Critic loss=  6.373 Return=  56.0\n"
     ]
    },
    {
     "name": "stderr",
     "output_type": "stream",
     "text": [
      "Episode 146:  29%|███████████████▍                                     | 146/500"
     ]
    },
    {
     "name": "stdout",
     "output_type": "stream",
     "text": [
      "Actor loss=  -0.0588 Critic loss=  0.1093 Return=  79.0\n"
     ]
    },
    {
     "name": "stderr",
     "output_type": "stream",
     "text": [
      "Episode 147:  29%|███████████████▌                                     | 147/500"
     ]
    },
    {
     "name": "stdout",
     "output_type": "stream",
     "text": [
      "Actor loss=  -0.0492 Critic loss=  4.2392 Return=  38.0\n"
     ]
    },
    {
     "name": "stderr",
     "output_type": "stream",
     "text": [
      "Episode 148:  30%|███████████████▋                                     | 148/500"
     ]
    },
    {
     "name": "stdout",
     "output_type": "stream",
     "text": [
      "Actor loss=  0.0157 Critic loss=  0.0327 Return=  41.0\n"
     ]
    },
    {
     "name": "stderr",
     "output_type": "stream",
     "text": [
      "Episode 149:  30%|███████████████▊                                     | 149/500"
     ]
    },
    {
     "name": "stdout",
     "output_type": "stream",
     "text": [
      "Actor loss=  0.0385 Critic loss=  1.9155 Return=  43.0\n"
     ]
    },
    {
     "name": "stderr",
     "output_type": "stream",
     "text": [
      "Episode 150:  30%|███████████████▉                                     | 150/500"
     ]
    },
    {
     "name": "stdout",
     "output_type": "stream",
     "text": [
      "Actor loss=  2.4354 Critic loss=  8.8501 Return=  68.0\n"
     ]
    },
    {
     "name": "stderr",
     "output_type": "stream",
     "text": [
      "Episode 151:  30%|████████████████                                     | 151/500"
     ]
    },
    {
     "name": "stdout",
     "output_type": "stream",
     "text": [
      "Actor loss=  -0.128 Critic loss=  0.1966 Return=  44.0\n"
     ]
    },
    {
     "name": "stderr",
     "output_type": "stream",
     "text": [
      "Episode 152:  30%|████████████████                                     | 152/500"
     ]
    },
    {
     "name": "stdout",
     "output_type": "stream",
     "text": [
      "Actor loss=  -2.6385 Critic loss=  315.298 Return=  73.0\n"
     ]
    },
    {
     "name": "stderr",
     "output_type": "stream",
     "text": [
      "Episode 153:  31%|████████████████▏                                    | 153/500"
     ]
    },
    {
     "name": "stdout",
     "output_type": "stream",
     "text": [
      "Actor loss=  -2.5145 Critic loss=  109.3897 Return=  102.0\n"
     ]
    },
    {
     "name": "stderr",
     "output_type": "stream",
     "text": [
      "Episode 154:  31%|████████████████▎                                    | 154/500"
     ]
    },
    {
     "name": "stdout",
     "output_type": "stream",
     "text": [
      "Actor loss=  0.488 Critic loss=  7.2357 Return=  79.0\n"
     ]
    },
    {
     "name": "stderr",
     "output_type": "stream",
     "text": [
      "Episode 155:  31%|████████████████▍                                    | 155/500"
     ]
    },
    {
     "name": "stdout",
     "output_type": "stream",
     "text": [
      "Actor loss=  0.4884 Critic loss=  4.1139 Return=  57.0\n"
     ]
    },
    {
     "name": "stderr",
     "output_type": "stream",
     "text": [
      "Episode 156:  31%|████████████████▌                                    | 156/500"
     ]
    },
    {
     "name": "stdout",
     "output_type": "stream",
     "text": [
      "Actor loss=  0.1563 Critic loss=  3.6668 Return=  65.0\n"
     ]
    },
    {
     "name": "stderr",
     "output_type": "stream",
     "text": [
      "Episode 157:  31%|████████████████▋                                    | 157/500"
     ]
    },
    {
     "name": "stdout",
     "output_type": "stream",
     "text": [
      "Actor loss=  0.3602 Critic loss=  2.3638 Return=  165.0\n"
     ]
    },
    {
     "name": "stderr",
     "output_type": "stream",
     "text": [
      "Episode 158:  32%|████████████████▋                                    | 158/500"
     ]
    },
    {
     "name": "stdout",
     "output_type": "stream",
     "text": [
      "Actor loss=  0.1547 Critic loss=  0.0251 Return=  47.0\n"
     ]
    },
    {
     "name": "stderr",
     "output_type": "stream",
     "text": [
      "Episode 159:  32%|████████████████▊                                    | 159/500"
     ]
    },
    {
     "name": "stdout",
     "output_type": "stream",
     "text": [
      "Actor loss=  0.0133 Critic loss=  0.4369 Return=  52.0\n"
     ]
    },
    {
     "name": "stderr",
     "output_type": "stream",
     "text": [
      "Episode 160:  32%|████████████████▉                                    | 160/500"
     ]
    },
    {
     "name": "stdout",
     "output_type": "stream",
     "text": [
      "Actor loss=  -1.086 Critic loss=  0.4979 Return=  48.0\n"
     ]
    },
    {
     "name": "stderr",
     "output_type": "stream",
     "text": [
      "Episode 161:  32%|█████████████████                                    | 161/500"
     ]
    },
    {
     "name": "stdout",
     "output_type": "stream",
     "text": [
      "Actor loss=  -0.0951 Critic loss=  0.1041 Return=  48.0\n"
     ]
    },
    {
     "name": "stderr",
     "output_type": "stream",
     "text": [
      "Episode 162:  32%|█████████████████▏                                   | 162/500"
     ]
    },
    {
     "name": "stdout",
     "output_type": "stream",
     "text": [
      "Actor loss=  -0.0192 Critic loss=  0.6097 Return=  37.0\n"
     ]
    },
    {
     "name": "stderr",
     "output_type": "stream",
     "text": [
      "Episode 163:  33%|█████████████████▎                                   | 163/500"
     ]
    },
    {
     "name": "stdout",
     "output_type": "stream",
     "text": [
      "Actor loss=  -0.0764 Critic loss=  1.5281 Return=  37.0\n"
     ]
    },
    {
     "name": "stderr",
     "output_type": "stream",
     "text": [
      "Episode 164:  33%|█████████████████▍                                   | 164/500"
     ]
    },
    {
     "name": "stdout",
     "output_type": "stream",
     "text": [
      "Actor loss=  -0.0195 Critic loss=  0.1477 Return=  33.0\n"
     ]
    },
    {
     "name": "stderr",
     "output_type": "stream",
     "text": [
      "Episode 165:  33%|█████████████████▍                                   | 165/500"
     ]
    },
    {
     "name": "stdout",
     "output_type": "stream",
     "text": [
      "Actor loss=  -0.0004 Critic loss=  0.004 Return=  36.0\n"
     ]
    },
    {
     "name": "stderr",
     "output_type": "stream",
     "text": [
      "Episode 166:  33%|█████████████████▌                                   | 166/500"
     ]
    },
    {
     "name": "stdout",
     "output_type": "stream",
     "text": [
      "Actor loss=  0.0559 Critic loss=  0.5859 Return=  57.0\n"
     ]
    },
    {
     "name": "stderr",
     "output_type": "stream",
     "text": [
      "Episode 167:  33%|█████████████████▋                                   | 167/500"
     ]
    },
    {
     "name": "stdout",
     "output_type": "stream",
     "text": [
      "Actor loss=  -0.1125 Critic loss=  0.919 Return=  33.0\n"
     ]
    },
    {
     "name": "stderr",
     "output_type": "stream",
     "text": [
      "Episode 168:  34%|█████████████████▊                                   | 168/500"
     ]
    },
    {
     "name": "stdout",
     "output_type": "stream",
     "text": [
      "Actor loss=  -0.1691 Critic loss=  12.5244 Return=  26.0\n"
     ]
    },
    {
     "name": "stderr",
     "output_type": "stream",
     "text": [
      "Episode 169:  34%|█████████████████▉                                   | 169/500"
     ]
    },
    {
     "name": "stdout",
     "output_type": "stream",
     "text": [
      "Actor loss=  0.0013 Critic loss=  0.472 Return=  33.0\n"
     ]
    },
    {
     "name": "stderr",
     "output_type": "stream",
     "text": [
      "Episode 170:  34%|██████████████████                                   | 170/500"
     ]
    },
    {
     "name": "stdout",
     "output_type": "stream",
     "text": [
      "Actor loss=  -0.1634 Critic loss=  0.1382 Return=  37.0\n"
     ]
    },
    {
     "name": "stderr",
     "output_type": "stream",
     "text": [
      "Episode 171:  34%|██████████████████▏                                  | 171/500"
     ]
    },
    {
     "name": "stdout",
     "output_type": "stream",
     "text": [
      "Actor loss=  0.0802 Critic loss=  0.0525 Return=  27.0\n"
     ]
    },
    {
     "name": "stderr",
     "output_type": "stream",
     "text": [
      "Episode 172:  34%|██████████████████▏                                  | 172/500"
     ]
    },
    {
     "name": "stdout",
     "output_type": "stream",
     "text": [
      "Actor loss=  1.5437 Critic loss=  1.2867 Return=  37.0\n"
     ]
    },
    {
     "name": "stderr",
     "output_type": "stream",
     "text": [
      "Episode 173:  35%|██████████████████▎                                  | 173/500"
     ]
    },
    {
     "name": "stdout",
     "output_type": "stream",
     "text": [
      "Actor loss=  0.0256 Critic loss=  0.4798 Return=  36.0\n"
     ]
    },
    {
     "name": "stderr",
     "output_type": "stream",
     "text": [
      "Episode 174:  35%|██████████████████▍                                  | 174/500"
     ]
    },
    {
     "name": "stdout",
     "output_type": "stream",
     "text": [
      "Actor loss=  -0.1282 Critic loss=  17.1864 Return=  25.0\n"
     ]
    },
    {
     "name": "stderr",
     "output_type": "stream",
     "text": [
      "Episode 175:  35%|██████████████████▌                                  | 175/500"
     ]
    },
    {
     "name": "stdout",
     "output_type": "stream",
     "text": [
      "Actor loss=  0.0619 Critic loss=  1.3902 Return=  30.0\n"
     ]
    },
    {
     "name": "stderr",
     "output_type": "stream",
     "text": [
      "Episode 176:  35%|██████████████████▋                                  | 176/500"
     ]
    },
    {
     "name": "stdout",
     "output_type": "stream",
     "text": [
      "Actor loss=  -0.0408 Critic loss=  4.3124 Return=  29.0\n"
     ]
    },
    {
     "name": "stderr",
     "output_type": "stream",
     "text": [
      "Episode 177:  35%|██████████████████▊                                  | 177/500"
     ]
    },
    {
     "name": "stdout",
     "output_type": "stream",
     "text": [
      "Actor loss=  0.1708 Critic loss=  10.8365 Return=  39.0\n"
     ]
    },
    {
     "name": "stderr",
     "output_type": "stream",
     "text": [
      "Episode 178:  36%|██████████████████▊                                  | 178/500"
     ]
    },
    {
     "name": "stdout",
     "output_type": "stream",
     "text": [
      "Actor loss=  0.249 Critic loss=  0.4019 Return=  33.0\n"
     ]
    },
    {
     "name": "stderr",
     "output_type": "stream",
     "text": [
      "Episode 179:  36%|██████████████████▉                                  | 179/500"
     ]
    },
    {
     "name": "stdout",
     "output_type": "stream",
     "text": [
      "Actor loss=  -1.0184 Critic loss=  2.3529 Return=  31.0\n"
     ]
    },
    {
     "name": "stderr",
     "output_type": "stream",
     "text": [
      "Episode 180:  36%|███████████████████                                  | 180/500"
     ]
    },
    {
     "name": "stdout",
     "output_type": "stream",
     "text": [
      "Actor loss=  0.0503 Critic loss=  6.6691 Return=  42.0\n"
     ]
    },
    {
     "name": "stderr",
     "output_type": "stream",
     "text": [
      "Episode 181:  36%|███████████████████▏                                 | 181/500"
     ]
    },
    {
     "name": "stdout",
     "output_type": "stream",
     "text": [
      "Actor loss=  0.6879 Critic loss=  6.2512 Return=  52.0\n"
     ]
    },
    {
     "name": "stderr",
     "output_type": "stream",
     "text": [
      "Episode 182:  36%|███████████████████▎                                 | 182/500"
     ]
    },
    {
     "name": "stdout",
     "output_type": "stream",
     "text": [
      "Actor loss=  0.7113 Critic loss=  1.8291 Return=  46.0\n"
     ]
    },
    {
     "name": "stderr",
     "output_type": "stream",
     "text": [
      "Episode 183:  37%|███████████████████▍                                 | 183/500"
     ]
    },
    {
     "name": "stdout",
     "output_type": "stream",
     "text": [
      "Actor loss=  0.2256 Critic loss=  3.6656 Return=  52.0\n"
     ]
    },
    {
     "name": "stderr",
     "output_type": "stream",
     "text": [
      "Episode 184:  37%|███████████████████▌                                 | 184/500"
     ]
    },
    {
     "name": "stdout",
     "output_type": "stream",
     "text": [
      "Actor loss=  5.0712 Critic loss=  5.1151 Return=  69.0\n"
     ]
    },
    {
     "name": "stderr",
     "output_type": "stream",
     "text": [
      "Episode 185:  37%|███████████████████▌                                 | 185/500"
     ]
    },
    {
     "name": "stdout",
     "output_type": "stream",
     "text": [
      "Actor loss=  0.1304 Critic loss=  2.3848 Return=  78.0\n"
     ]
    },
    {
     "name": "stderr",
     "output_type": "stream",
     "text": [
      "Episode 186:  37%|███████████████████▋                                 | 186/500"
     ]
    },
    {
     "name": "stdout",
     "output_type": "stream",
     "text": [
      "Actor loss=  3.8678 Critic loss=  9.976 Return=  117.0\n"
     ]
    },
    {
     "name": "stderr",
     "output_type": "stream",
     "text": [
      "Episode 187:  37%|███████████████████▊                                 | 187/500"
     ]
    },
    {
     "name": "stdout",
     "output_type": "stream",
     "text": [
      "Actor loss=  -3.2586 Critic loss=  383.4934 Return=  89.0\n"
     ]
    },
    {
     "name": "stderr",
     "output_type": "stream",
     "text": [
      "Episode 188:  38%|███████████████████▉                                 | 188/500"
     ]
    },
    {
     "name": "stdout",
     "output_type": "stream",
     "text": [
      "Actor loss=  0.6935 Critic loss=  2.6131 Return=  77.0\n"
     ]
    },
    {
     "name": "stderr",
     "output_type": "stream",
     "text": [
      "Episode 189:  38%|████████████████████                                 | 189/500"
     ]
    },
    {
     "name": "stdout",
     "output_type": "stream",
     "text": [
      "Actor loss=  -7.7122 Critic loss=  94.7298 Return=  44.0\n"
     ]
    },
    {
     "name": "stderr",
     "output_type": "stream",
     "text": [
      "Episode 190:  38%|████████████████████▏                                | 190/500"
     ]
    },
    {
     "name": "stdout",
     "output_type": "stream",
     "text": [
      "Actor loss=  -0.7565 Critic loss=  60.7062 Return=  31.0\n"
     ]
    },
    {
     "name": "stderr",
     "output_type": "stream",
     "text": [
      "Episode 191:  38%|████████████████████▏                                | 191/500"
     ]
    },
    {
     "name": "stdout",
     "output_type": "stream",
     "text": [
      "Actor loss=  -2.9723 Critic loss=  48.8367 Return=  24.0\n"
     ]
    },
    {
     "name": "stderr",
     "output_type": "stream",
     "text": [
      "Episode 192:  38%|████████████████████▎                                | 192/500"
     ]
    },
    {
     "name": "stdout",
     "output_type": "stream",
     "text": [
      "Actor loss=  -3.0628 Critic loss=  58.9872 Return=  46.0\n"
     ]
    },
    {
     "name": "stderr",
     "output_type": "stream",
     "text": [
      "Episode 193:  39%|████████████████████▍                                | 193/500"
     ]
    },
    {
     "name": "stdout",
     "output_type": "stream",
     "text": [
      "Actor loss=  -0.8678 Critic loss=  30.8996 Return=  61.0\n"
     ]
    },
    {
     "name": "stderr",
     "output_type": "stream",
     "text": [
      "Episode 194:  39%|████████████████████▌                                | 194/500"
     ]
    },
    {
     "name": "stdout",
     "output_type": "stream",
     "text": [
      "Actor loss=  -7.6101 Critic loss=  164.6046 Return=  148.0\n"
     ]
    },
    {
     "name": "stderr",
     "output_type": "stream",
     "text": [
      "Episode 195:  39%|████████████████████▋                                | 195/500"
     ]
    },
    {
     "name": "stdout",
     "output_type": "stream",
     "text": [
      "Actor loss=  0.4292 Critic loss=  2.0786 Return=  48.0\n"
     ]
    },
    {
     "name": "stderr",
     "output_type": "stream",
     "text": [
      "Episode 196:  39%|████████████████████▊                                | 196/500"
     ]
    },
    {
     "name": "stdout",
     "output_type": "stream",
     "text": [
      "Actor loss=  1.7582 Critic loss=  3.3273 Return=  76.0\n"
     ]
    },
    {
     "name": "stderr",
     "output_type": "stream",
     "text": [
      "Episode 197:  39%|████████████████████▉                                | 197/500"
     ]
    },
    {
     "name": "stdout",
     "output_type": "stream",
     "text": [
      "Actor loss=  -4.6207 Critic loss=  47.0389 Return=  63.0\n"
     ]
    },
    {
     "name": "stderr",
     "output_type": "stream",
     "text": [
      "Episode 198:  40%|████████████████████▉                                | 198/500"
     ]
    },
    {
     "name": "stdout",
     "output_type": "stream",
     "text": [
      "Actor loss=  1.2519 Critic loss=  1.5382 Return=  142.0\n"
     ]
    },
    {
     "name": "stderr",
     "output_type": "stream",
     "text": [
      "Episode 199:  40%|█████████████████████                                | 199/500"
     ]
    },
    {
     "name": "stdout",
     "output_type": "stream",
     "text": [
      "Actor loss=  0.0146 Critic loss=  3.512 Return=  179.0\n"
     ]
    },
    {
     "name": "stderr",
     "output_type": "stream",
     "text": [
      "Episode 200:  40%|█████████████████████▏                               | 200/500"
     ]
    },
    {
     "name": "stdout",
     "output_type": "stream",
     "text": [
      "Actor loss=  -2.1363 Critic loss=  63.1693 Return=  102.0\n"
     ]
    },
    {
     "name": "stderr",
     "output_type": "stream",
     "text": [
      "Episode 201:  40%|█████████████████████▎                               | 201/500"
     ]
    },
    {
     "name": "stdout",
     "output_type": "stream",
     "text": [
      "Actor loss=  -3.981 Critic loss=  18.2313 Return=  85.0\n"
     ]
    },
    {
     "name": "stderr",
     "output_type": "stream",
     "text": [
      "Episode 202:  40%|█████████████████████▍                               | 202/500"
     ]
    },
    {
     "name": "stdout",
     "output_type": "stream",
     "text": [
      "Actor loss=  -0.3614 Critic loss=  18.3685 Return=  84.0\n"
     ]
    },
    {
     "name": "stderr",
     "output_type": "stream",
     "text": [
      "Episode 203:  41%|█████████████████████▌                               | 203/500"
     ]
    },
    {
     "name": "stdout",
     "output_type": "stream",
     "text": [
      "Actor loss=  -0.5181 Critic loss=  5.8124 Return=  64.0\n"
     ]
    },
    {
     "name": "stderr",
     "output_type": "stream",
     "text": [
      "Episode 204:  41%|█████████████████████▌                               | 204/500"
     ]
    },
    {
     "name": "stdout",
     "output_type": "stream",
     "text": [
      "Actor loss=  -1.7563 Critic loss=  0.7945 Return=  158.0\n"
     ]
    },
    {
     "name": "stderr",
     "output_type": "stream",
     "text": [
      "Episode 205:  41%|█████████████████████▋                               | 205/500"
     ]
    },
    {
     "name": "stdout",
     "output_type": "stream",
     "text": [
      "Actor loss=  0.6065 Critic loss=  0.7972 Return=  117.0\n"
     ]
    },
    {
     "name": "stderr",
     "output_type": "stream",
     "text": [
      "Episode 206:  41%|█████████████████████▊                               | 206/500"
     ]
    },
    {
     "name": "stdout",
     "output_type": "stream",
     "text": [
      "Actor loss=  0.9445 Critic loss=  0.9185 Return=  82.0\n"
     ]
    },
    {
     "name": "stderr",
     "output_type": "stream",
     "text": [
      "Episode 207:  41%|█████████████████████▉                               | 207/500"
     ]
    },
    {
     "name": "stdout",
     "output_type": "stream",
     "text": [
      "Actor loss=  0.132 Critic loss=  0.6874 Return=  167.0\n"
     ]
    },
    {
     "name": "stderr",
     "output_type": "stream",
     "text": [
      "Episode 208:  42%|██████████████████████                               | 208/500"
     ]
    },
    {
     "name": "stdout",
     "output_type": "stream",
     "text": [
      "Actor loss=  0.2092 Critic loss=  0.488 Return=  110.0\n"
     ]
    },
    {
     "name": "stderr",
     "output_type": "stream",
     "text": [
      "Episode 209:  42%|██████████████████████▏                              | 209/500"
     ]
    },
    {
     "name": "stdout",
     "output_type": "stream",
     "text": [
      "Actor loss=  0.0533 Critic loss=  1.321 Return=  176.0\n"
     ]
    },
    {
     "name": "stderr",
     "output_type": "stream",
     "text": [
      "Episode 210:  42%|██████████████████████▎                              | 210/500"
     ]
    },
    {
     "name": "stdout",
     "output_type": "stream",
     "text": [
      "Actor loss=  -4.5692 Critic loss=  6.0677 Return=  56.0\n"
     ]
    },
    {
     "name": "stderr",
     "output_type": "stream",
     "text": [
      "Episode 211:  42%|██████████████████████▎                              | 211/500"
     ]
    },
    {
     "name": "stdout",
     "output_type": "stream",
     "text": [
      "Actor loss=  -0.282 Critic loss=  3.6472 Return=  70.0\n"
     ]
    },
    {
     "name": "stderr",
     "output_type": "stream",
     "text": [
      "Episode 212:  42%|██████████████████████▍                              | 212/500"
     ]
    },
    {
     "name": "stdout",
     "output_type": "stream",
     "text": [
      "Actor loss=  -0.0475 Critic loss=  1.1964 Return=  69.0\n"
     ]
    },
    {
     "name": "stderr",
     "output_type": "stream",
     "text": [
      "Episode 213:  43%|██████████████████████▌                              | 213/500"
     ]
    },
    {
     "name": "stdout",
     "output_type": "stream",
     "text": [
      "Actor loss=  -0.0473 Critic loss=  0.25 Return=  64.0\n"
     ]
    },
    {
     "name": "stderr",
     "output_type": "stream",
     "text": [
      "Episode 214:  43%|██████████████████████▋                              | 214/500"
     ]
    },
    {
     "name": "stdout",
     "output_type": "stream",
     "text": [
      "Actor loss=  0.0292 Critic loss=  0.1951 Return=  97.0\n"
     ]
    },
    {
     "name": "stderr",
     "output_type": "stream",
     "text": [
      "Episode 215:  43%|██████████████████████▊                              | 215/500"
     ]
    },
    {
     "name": "stdout",
     "output_type": "stream",
     "text": [
      "Actor loss=  -0.0512 Critic loss=  0.4628 Return=  131.0\n"
     ]
    },
    {
     "name": "stderr",
     "output_type": "stream",
     "text": [
      "Episode 216:  43%|██████████████████████▉                              | 216/500"
     ]
    },
    {
     "name": "stdout",
     "output_type": "stream",
     "text": [
      "Actor loss=  0.2638 Critic loss=  58.3208 Return=  344.0\n"
     ]
    },
    {
     "name": "stderr",
     "output_type": "stream",
     "text": [
      "Episode 217:  43%|███████████████████████                              | 217/500"
     ]
    },
    {
     "name": "stdout",
     "output_type": "stream",
     "text": [
      "Actor loss=  -0.1666 Critic loss=  86.9093 Return=  276.0\n"
     ]
    },
    {
     "name": "stderr",
     "output_type": "stream",
     "text": [
      "Episode 218:  44%|███████████████████████                              | 218/500"
     ]
    },
    {
     "name": "stdout",
     "output_type": "stream",
     "text": [
      "Actor loss=  -0.1043 Critic loss=  2.2155 Return=  278.0\n"
     ]
    },
    {
     "name": "stderr",
     "output_type": "stream",
     "text": [
      "Episode 219:  44%|███████████████████████▏                             | 219/500"
     ]
    },
    {
     "name": "stdout",
     "output_type": "stream",
     "text": [
      "Actor loss=  0.3328 Critic loss=  17.7366 Return=  206.0\n"
     ]
    },
    {
     "name": "stderr",
     "output_type": "stream",
     "text": [
      "Episode 220:  44%|███████████████████████▎                             | 220/500"
     ]
    },
    {
     "name": "stdout",
     "output_type": "stream",
     "text": [
      "Actor loss=  -0.4831 Critic loss=  53.9985 Return=  370.0\n"
     ]
    },
    {
     "name": "stderr",
     "output_type": "stream",
     "text": [
      "Episode 221:  44%|███████████████████████▍                             | 221/500"
     ]
    },
    {
     "name": "stdout",
     "output_type": "stream",
     "text": [
      "Actor loss=  -0.3273 Critic loss=  11.5051 Return=  157.0\n"
     ]
    },
    {
     "name": "stderr",
     "output_type": "stream",
     "text": [
      "Episode 222:  44%|███████████████████████▌                             | 222/500"
     ]
    },
    {
     "name": "stdout",
     "output_type": "stream",
     "text": [
      "Actor loss=  -1.0265 Critic loss=  9.6573 Return=  249.0\n"
     ]
    },
    {
     "name": "stderr",
     "output_type": "stream",
     "text": [
      "Episode 223:  45%|███████████████████████▋                             | 223/500"
     ]
    },
    {
     "name": "stdout",
     "output_type": "stream",
     "text": [
      "Actor loss=  -0.0024 Critic loss=  0.901 Return=  104.0\n"
     ]
    },
    {
     "name": "stderr",
     "output_type": "stream",
     "text": [
      "Episode 224:  45%|███████████████████████▋                             | 224/500"
     ]
    },
    {
     "name": "stdout",
     "output_type": "stream",
     "text": [
      "Actor loss=  -0.5333 Critic loss=  0.8941 Return=  133.0\n"
     ]
    },
    {
     "name": "stderr",
     "output_type": "stream",
     "text": [
      "Episode 225:  45%|███████████████████████▊                             | 225/500"
     ]
    },
    {
     "name": "stdout",
     "output_type": "stream",
     "text": [
      "Actor loss=  0.1431 Critic loss=  5.5379 Return=  101.0\n"
     ]
    },
    {
     "name": "stderr",
     "output_type": "stream",
     "text": [
      "Episode 226:  45%|███████████████████████▉                             | 226/500"
     ]
    },
    {
     "name": "stdout",
     "output_type": "stream",
     "text": [
      "Actor loss=  -0.0192 Critic loss=  9.9358 Return=  77.0\n"
     ]
    },
    {
     "name": "stderr",
     "output_type": "stream",
     "text": [
      "Episode 227:  45%|████████████████████████                             | 227/500"
     ]
    },
    {
     "name": "stdout",
     "output_type": "stream",
     "text": [
      "Actor loss=  -0.0734 Critic loss=  23.418 Return=  39.0\n"
     ]
    },
    {
     "name": "stderr",
     "output_type": "stream",
     "text": [
      "Episode 228:  46%|████████████████████████▏                            | 228/500"
     ]
    },
    {
     "name": "stdout",
     "output_type": "stream",
     "text": [
      "Actor loss=  -0.0206 Critic loss=  0.4616 Return=  52.0\n"
     ]
    },
    {
     "name": "stderr",
     "output_type": "stream",
     "text": [
      "Episode 229:  46%|████████████████████████▎                            | 229/500"
     ]
    },
    {
     "name": "stdout",
     "output_type": "stream",
     "text": [
      "Actor loss=  -0.0105 Critic loss=  1.1118 Return=  41.0\n"
     ]
    },
    {
     "name": "stderr",
     "output_type": "stream",
     "text": [
      "Episode 230:  46%|████████████████████████▍                            | 230/500"
     ]
    },
    {
     "name": "stdout",
     "output_type": "stream",
     "text": [
      "Actor loss=  -0.0077 Critic loss=  0.1729 Return=  39.0\n"
     ]
    },
    {
     "name": "stderr",
     "output_type": "stream",
     "text": [
      "Episode 231:  46%|████████████████████████▍                            | 231/500"
     ]
    },
    {
     "name": "stdout",
     "output_type": "stream",
     "text": [
      "Actor loss=  -0.0016 Critic loss=  0.7233 Return=  36.0\n"
     ]
    },
    {
     "name": "stderr",
     "output_type": "stream",
     "text": [
      "Episode 232:  46%|████████████████████████▌                            | 232/500"
     ]
    },
    {
     "name": "stdout",
     "output_type": "stream",
     "text": [
      "Actor loss=  0.0015 Critic loss=  1.9263 Return=  43.0\n"
     ]
    },
    {
     "name": "stderr",
     "output_type": "stream",
     "text": [
      "Episode 233:  47%|████████████████████████▋                            | 233/500"
     ]
    },
    {
     "name": "stdout",
     "output_type": "stream",
     "text": [
      "Actor loss=  0.0014 Critic loss=  0.1795 Return=  41.0\n"
     ]
    },
    {
     "name": "stderr",
     "output_type": "stream",
     "text": [
      "Episode 234:  47%|████████████████████████▊                            | 234/500"
     ]
    },
    {
     "name": "stdout",
     "output_type": "stream",
     "text": [
      "Actor loss=  0.0011 Critic loss=  0.0233 Return=  41.0\n"
     ]
    },
    {
     "name": "stderr",
     "output_type": "stream",
     "text": [
      "Episode 235:  47%|████████████████████████▉                            | 235/500"
     ]
    },
    {
     "name": "stdout",
     "output_type": "stream",
     "text": [
      "Actor loss=  -0.0151 Critic loss=  0.0933 Return=  39.0\n"
     ]
    },
    {
     "name": "stderr",
     "output_type": "stream",
     "text": [
      "Episode 236:  47%|█████████████████████████                            | 236/500"
     ]
    },
    {
     "name": "stdout",
     "output_type": "stream",
     "text": [
      "Actor loss=  -0.0013 Critic loss=  0.4371 Return=  36.0\n"
     ]
    },
    {
     "name": "stderr",
     "output_type": "stream",
     "text": [
      "Episode 237:  47%|█████████████████████████                            | 237/500"
     ]
    },
    {
     "name": "stdout",
     "output_type": "stream",
     "text": [
      "Actor loss=  -0.0543 Critic loss=  1.8689 Return=  32.0\n"
     ]
    },
    {
     "name": "stderr",
     "output_type": "stream",
     "text": [
      "Episode 238:  48%|█████████████████████████▏                           | 238/500"
     ]
    },
    {
     "name": "stdout",
     "output_type": "stream",
     "text": [
      "Actor loss=  -0.0008 Critic loss=  0.4783 Return=  31.0\n"
     ]
    },
    {
     "name": "stderr",
     "output_type": "stream",
     "text": [
      "Episode 239:  48%|█████████████████████████▎                           | 239/500"
     ]
    },
    {
     "name": "stdout",
     "output_type": "stream",
     "text": [
      "Actor loss=  0.2683 Critic loss=  5.3066 Return=  39.0\n"
     ]
    },
    {
     "name": "stderr",
     "output_type": "stream",
     "text": [
      "Episode 240:  48%|█████████████████████████▍                           | 240/500"
     ]
    },
    {
     "name": "stdout",
     "output_type": "stream",
     "text": [
      "Actor loss=  -0.3013 Critic loss=  2.5131 Return=  32.0\n"
     ]
    },
    {
     "name": "stderr",
     "output_type": "stream",
     "text": [
      "Episode 241:  48%|█████████████████████████▌                           | 241/500"
     ]
    },
    {
     "name": "stdout",
     "output_type": "stream",
     "text": [
      "Actor loss=  1.7807 Critic loss=  6.6443 Return=  44.0\n"
     ]
    },
    {
     "name": "stderr",
     "output_type": "stream",
     "text": [
      "Episode 242:  48%|█████████████████████████▋                           | 242/500"
     ]
    },
    {
     "name": "stdout",
     "output_type": "stream",
     "text": [
      "Actor loss=  -0.0024 Critic loss=  2.9795 Return=  31.0\n"
     ]
    },
    {
     "name": "stderr",
     "output_type": "stream",
     "text": [
      "Episode 243:  49%|█████████████████████████▊                           | 243/500"
     ]
    },
    {
     "name": "stdout",
     "output_type": "stream",
     "text": [
      "Actor loss=  0.0045 Critic loss=  1.7849 Return=  38.0\n"
     ]
    },
    {
     "name": "stderr",
     "output_type": "stream",
     "text": [
      "Episode 244:  49%|█████████████████████████▊                           | 244/500"
     ]
    },
    {
     "name": "stdout",
     "output_type": "stream",
     "text": [
      "Actor loss=  -0.0008 Critic loss=  0.5222 Return=  31.0\n"
     ]
    },
    {
     "name": "stderr",
     "output_type": "stream",
     "text": [
      "Episode 245:  49%|█████████████████████████▉                           | 245/500"
     ]
    },
    {
     "name": "stdout",
     "output_type": "stream",
     "text": [
      "Actor loss=  0.1118 Critic loss=  0.3109 Return=  35.0\n"
     ]
    },
    {
     "name": "stderr",
     "output_type": "stream",
     "text": [
      "Episode 246:  49%|██████████████████████████                           | 246/500"
     ]
    },
    {
     "name": "stdout",
     "output_type": "stream",
     "text": [
      "Actor loss=  -0.0001 Critic loss=  1.3623 Return=  32.0\n"
     ]
    },
    {
     "name": "stderr",
     "output_type": "stream",
     "text": [
      "Episode 247:  49%|██████████████████████████▏                          | 247/500"
     ]
    },
    {
     "name": "stdout",
     "output_type": "stream",
     "text": [
      "Actor loss=  -0.0028 Critic loss=  0.1874 Return=  31.0\n"
     ]
    },
    {
     "name": "stderr",
     "output_type": "stream",
     "text": [
      "Episode 248:  50%|██████████████████████████▎                          | 248/500"
     ]
    },
    {
     "name": "stdout",
     "output_type": "stream",
     "text": [
      "Actor loss=  0.0162 Critic loss=  2.8175 Return=  36.0\n"
     ]
    },
    {
     "name": "stderr",
     "output_type": "stream",
     "text": [
      "Episode 249:  50%|██████████████████████████▍                          | 249/500"
     ]
    },
    {
     "name": "stdout",
     "output_type": "stream",
     "text": [
      "Actor loss=  0.0109 Critic loss=  0.1135 Return=  34.0\n"
     ]
    },
    {
     "name": "stderr",
     "output_type": "stream",
     "text": [
      "Episode 250:  50%|██████████████████████████▌                          | 250/500"
     ]
    },
    {
     "name": "stdout",
     "output_type": "stream",
     "text": [
      "Actor loss=  0.0071 Critic loss=  0.3281 Return=  38.0\n"
     ]
    },
    {
     "name": "stderr",
     "output_type": "stream",
     "text": [
      "Episode 251:  50%|██████████████████████████▌                          | 251/500"
     ]
    },
    {
     "name": "stdout",
     "output_type": "stream",
     "text": [
      "Actor loss=  -0.0267 Critic loss=  0.0296 Return=  33.0\n"
     ]
    },
    {
     "name": "stderr",
     "output_type": "stream",
     "text": [
      "Episode 252:  50%|██████████████████████████▋                          | 252/500"
     ]
    },
    {
     "name": "stdout",
     "output_type": "stream",
     "text": [
      "Actor loss=  -1.2362 Critic loss=  0.7102 Return=  30.0\n"
     ]
    },
    {
     "name": "stderr",
     "output_type": "stream",
     "text": [
      "Episode 253:  51%|██████████████████████████▊                          | 253/500"
     ]
    },
    {
     "name": "stdout",
     "output_type": "stream",
     "text": [
      "Actor loss=  0.0421 Critic loss=  0.3798 Return=  34.0\n"
     ]
    },
    {
     "name": "stderr",
     "output_type": "stream",
     "text": [
      "Episode 254:  51%|██████████████████████████▉                          | 254/500"
     ]
    },
    {
     "name": "stdout",
     "output_type": "stream",
     "text": [
      "Actor loss=  0.8265 Critic loss=  1.26 Return=  35.0\n"
     ]
    },
    {
     "name": "stderr",
     "output_type": "stream",
     "text": [
      "Episode 255:  51%|███████████████████████████                          | 255/500"
     ]
    },
    {
     "name": "stdout",
     "output_type": "stream",
     "text": [
      "Actor loss=  -0.0823 Critic loss=  0.5203 Return=  32.0\n"
     ]
    },
    {
     "name": "stderr",
     "output_type": "stream",
     "text": [
      "Episode 256:  51%|███████████████████████████▏                         | 256/500"
     ]
    },
    {
     "name": "stdout",
     "output_type": "stream",
     "text": [
      "Actor loss=  5.2391 Critic loss=  3.7844 Return=  39.0\n"
     ]
    },
    {
     "name": "stderr",
     "output_type": "stream",
     "text": [
      "Episode 257:  51%|███████████████████████████▏                         | 257/500"
     ]
    },
    {
     "name": "stdout",
     "output_type": "stream",
     "text": [
      "Actor loss=  -0.0721 Critic loss=  7.6196 Return=  29.0\n"
     ]
    },
    {
     "name": "stderr",
     "output_type": "stream",
     "text": [
      "Episode 258:  52%|███████████████████████████▎                         | 258/500"
     ]
    },
    {
     "name": "stdout",
     "output_type": "stream",
     "text": [
      "Actor loss=  -0.0002 Critic loss=  0.0496 Return=  30.0\n"
     ]
    },
    {
     "name": "stderr",
     "output_type": "stream",
     "text": [
      "Episode 260:  52%|███████████████████████████▍                         | 259/500"
     ]
    },
    {
     "name": "stdout",
     "output_type": "stream",
     "text": [
      "Actor loss=  -0.0679 Critic loss=  0.5132 Return=  25.0\n",
      "Actor loss=  -0.0459 Critic loss=  3.9415 Return=  24.0\n"
     ]
    },
    {
     "name": "stderr",
     "output_type": "stream",
     "text": [
      "Episode 262:  52%|███████████████████████████▋                         | 261/500"
     ]
    },
    {
     "name": "stdout",
     "output_type": "stream",
     "text": [
      "Actor loss=  0.1757 Critic loss=  1.8653 Return=  27.0\n",
      "Actor loss=  1.2708 Critic loss=  2.564 Return=  30.0\n"
     ]
    },
    {
     "name": "stderr",
     "output_type": "stream",
     "text": [
      "Episode 263:  53%|███████████████████████████▉                         | 263/500"
     ]
    },
    {
     "name": "stdout",
     "output_type": "stream",
     "text": [
      "Actor loss=  0.0044 Critic loss=  0.6434 Return=  33.0\n"
     ]
    },
    {
     "name": "stderr",
     "output_type": "stream",
     "text": [
      "Episode 264:  53%|███████████████████████████▉                         | 264/500"
     ]
    },
    {
     "name": "stdout",
     "output_type": "stream",
     "text": [
      "Actor loss=  1.3438 Critic loss=  3.0768 Return=  39.0\n"
     ]
    },
    {
     "name": "stderr",
     "output_type": "stream",
     "text": [
      "Episode 265:  53%|████████████████████████████                         | 265/500"
     ]
    },
    {
     "name": "stdout",
     "output_type": "stream",
     "text": [
      "Actor loss=  -6.6985 Critic loss=  5.3862 Return=  29.0\n"
     ]
    },
    {
     "name": "stderr",
     "output_type": "stream",
     "text": [
      "Episode 266:  53%|████████████████████████████▏                        | 266/500"
     ]
    },
    {
     "name": "stdout",
     "output_type": "stream",
     "text": [
      "Actor loss=  0.0015 Critic loss=  1.2071 Return=  33.0\n"
     ]
    },
    {
     "name": "stderr",
     "output_type": "stream",
     "text": [
      "Episode 267:  53%|████████████████████████████▎                        | 267/500"
     ]
    },
    {
     "name": "stdout",
     "output_type": "stream",
     "text": [
      "Actor loss=  0.0028 Critic loss=  4.3143 Return=  42.0\n"
     ]
    },
    {
     "name": "stderr",
     "output_type": "stream",
     "text": [
      "Episode 268:  54%|████████████████████████████▍                        | 268/500"
     ]
    },
    {
     "name": "stdout",
     "output_type": "stream",
     "text": [
      "Actor loss=  0.0952 Critic loss=  0.593 Return=  39.0\n"
     ]
    },
    {
     "name": "stderr",
     "output_type": "stream",
     "text": [
      "Episode 269:  54%|████████████████████████████▌                        | 269/500"
     ]
    },
    {
     "name": "stdout",
     "output_type": "stream",
     "text": [
      "Actor loss=  -0.0537 Critic loss=  0.0175 Return=  37.0\n"
     ]
    },
    {
     "name": "stderr",
     "output_type": "stream",
     "text": [
      "Episode 270:  54%|████████████████████████████▌                        | 270/500"
     ]
    },
    {
     "name": "stdout",
     "output_type": "stream",
     "text": [
      "Actor loss=  0.0006 Critic loss=  0.0841 Return=  42.0\n"
     ]
    },
    {
     "name": "stderr",
     "output_type": "stream",
     "text": [
      "Episode 271:  54%|████████████████████████████▋                        | 271/500"
     ]
    },
    {
     "name": "stdout",
     "output_type": "stream",
     "text": [
      "Actor loss=  -0.0002 Critic loss=  0.0022 Return=  36.0\n"
     ]
    },
    {
     "name": "stderr",
     "output_type": "stream",
     "text": [
      "Episode 272:  54%|████████████████████████████▊                        | 272/500"
     ]
    },
    {
     "name": "stdout",
     "output_type": "stream",
     "text": [
      "Actor loss=  -0.1211 Critic loss=  0.171 Return=  37.0\n"
     ]
    },
    {
     "name": "stderr",
     "output_type": "stream",
     "text": [
      "Episode 273:  55%|████████████████████████████▉                        | 273/500"
     ]
    },
    {
     "name": "stdout",
     "output_type": "stream",
     "text": [
      "Actor loss=  0.0012 Critic loss=  1.1833 Return=  42.0\n"
     ]
    },
    {
     "name": "stderr",
     "output_type": "stream",
     "text": [
      "Episode 274:  55%|█████████████████████████████                        | 274/500"
     ]
    },
    {
     "name": "stdout",
     "output_type": "stream",
     "text": [
      "Actor loss=  -0.007 Critic loss=  0.3369 Return=  36.0\n"
     ]
    },
    {
     "name": "stderr",
     "output_type": "stream",
     "text": [
      "Episode 275:  55%|█████████████████████████████▏                       | 275/500"
     ]
    },
    {
     "name": "stdout",
     "output_type": "stream",
     "text": [
      "Actor loss=  0.0025 Critic loss=  0.1227 Return=  36.0\n"
     ]
    },
    {
     "name": "stderr",
     "output_type": "stream",
     "text": [
      "Episode 276:  55%|█████████████████████████████▎                       | 276/500"
     ]
    },
    {
     "name": "stdout",
     "output_type": "stream",
     "text": [
      "Actor loss=  0.0184 Critic loss=  1.8615 Return=  43.0\n"
     ]
    },
    {
     "name": "stderr",
     "output_type": "stream",
     "text": [
      "Episode 277:  55%|█████████████████████████████▎                       | 277/500"
     ]
    },
    {
     "name": "stdout",
     "output_type": "stream",
     "text": [
      "Actor loss=  -0.0052 Critic loss=  0.8678 Return=  36.0\n"
     ]
    },
    {
     "name": "stderr",
     "output_type": "stream",
     "text": [
      "Episode 278:  56%|█████████████████████████████▍                       | 278/500"
     ]
    },
    {
     "name": "stdout",
     "output_type": "stream",
     "text": [
      "Actor loss=  0.0048 Critic loss=  2.084 Return=  45.0\n"
     ]
    },
    {
     "name": "stderr",
     "output_type": "stream",
     "text": [
      "Episode 279:  56%|█████████████████████████████▌                       | 279/500"
     ]
    },
    {
     "name": "stdout",
     "output_type": "stream",
     "text": [
      "Actor loss=  0.0006 Critic loss=  0.3231 Return=  51.0\n"
     ]
    },
    {
     "name": "stderr",
     "output_type": "stream",
     "text": [
      "Episode 280:  56%|█████████████████████████████▋                       | 280/500"
     ]
    },
    {
     "name": "stdout",
     "output_type": "stream",
     "text": [
      "Actor loss=  0.1454 Critic loss=  2.3605 Return=  55.0\n"
     ]
    },
    {
     "name": "stderr",
     "output_type": "stream",
     "text": [
      "Episode 281:  56%|█████████████████████████████▊                       | 281/500"
     ]
    },
    {
     "name": "stdout",
     "output_type": "stream",
     "text": [
      "Actor loss=  -0.3378 Critic loss=  0.7418 Return=  49.0\n"
     ]
    },
    {
     "name": "stderr",
     "output_type": "stream",
     "text": [
      "Episode 282:  56%|█████████████████████████████▉                       | 282/500"
     ]
    },
    {
     "name": "stdout",
     "output_type": "stream",
     "text": [
      "Actor loss=  3.6243 Critic loss=  4.188 Return=  58.0\n"
     ]
    },
    {
     "name": "stderr",
     "output_type": "stream",
     "text": [
      "Episode 283:  57%|█████████████████████████████▉                       | 283/500"
     ]
    },
    {
     "name": "stdout",
     "output_type": "stream",
     "text": [
      "Actor loss=  -0.0055 Critic loss=  0.2537 Return=  57.0\n"
     ]
    },
    {
     "name": "stderr",
     "output_type": "stream",
     "text": [
      "Episode 284:  57%|██████████████████████████████                       | 284/500"
     ]
    },
    {
     "name": "stdout",
     "output_type": "stream",
     "text": [
      "Actor loss=  -0.4602 Critic loss=  0.9221 Return=  57.0\n"
     ]
    },
    {
     "name": "stderr",
     "output_type": "stream",
     "text": [
      "Episode 285:  57%|██████████████████████████████▏                      | 285/500"
     ]
    },
    {
     "name": "stdout",
     "output_type": "stream",
     "text": [
      "Actor loss=  0.0013 Critic loss=  0.7004 Return=  60.0\n"
     ]
    },
    {
     "name": "stderr",
     "output_type": "stream",
     "text": [
      "Episode 286:  57%|██████████████████████████████▎                      | 286/500"
     ]
    },
    {
     "name": "stdout",
     "output_type": "stream",
     "text": [
      "Actor loss=  0.2851 Critic loss=  1.2956 Return=  58.0\n"
     ]
    },
    {
     "name": "stderr",
     "output_type": "stream",
     "text": [
      "Episode 287:  57%|██████████████████████████████▍                      | 287/500"
     ]
    },
    {
     "name": "stdout",
     "output_type": "stream",
     "text": [
      "Actor loss=  -0.0079 Critic loss=  0.6497 Return=  61.0\n"
     ]
    },
    {
     "name": "stderr",
     "output_type": "stream",
     "text": [
      "Episode 288:  58%|██████████████████████████████▌                      | 288/500"
     ]
    },
    {
     "name": "stdout",
     "output_type": "stream",
     "text": [
      "Actor loss=  -0.0007 Critic loss=  0.1136 Return=  60.0\n"
     ]
    },
    {
     "name": "stderr",
     "output_type": "stream",
     "text": [
      "Episode 289:  58%|██████████████████████████████▋                      | 289/500"
     ]
    },
    {
     "name": "stdout",
     "output_type": "stream",
     "text": [
      "Actor loss=  0.7863 Critic loss=  7.3356 Return=  63.0\n"
     ]
    },
    {
     "name": "stderr",
     "output_type": "stream",
     "text": [
      "Episode 290:  58%|██████████████████████████████▋                      | 290/500"
     ]
    },
    {
     "name": "stdout",
     "output_type": "stream",
     "text": [
      "Actor loss=  0.1108 Critic loss=  0.155 Return=  81.0\n"
     ]
    },
    {
     "name": "stderr",
     "output_type": "stream",
     "text": [
      "Episode 291:  58%|██████████████████████████████▊                      | 291/500"
     ]
    },
    {
     "name": "stdout",
     "output_type": "stream",
     "text": [
      "Actor loss=  0.0319 Critic loss=  13.162 Return=  127.0\n"
     ]
    },
    {
     "name": "stderr",
     "output_type": "stream",
     "text": [
      "Episode 292:  58%|██████████████████████████████▉                      | 292/500"
     ]
    },
    {
     "name": "stdout",
     "output_type": "stream",
     "text": [
      "Actor loss=  -0.3229 Critic loss=  6.9164 Return=  111.0\n"
     ]
    },
    {
     "name": "stderr",
     "output_type": "stream",
     "text": [
      "Episode 293:  59%|███████████████████████████████                      | 293/500"
     ]
    },
    {
     "name": "stdout",
     "output_type": "stream",
     "text": [
      "Actor loss=  -0.0421 Critic loss=  0.8437 Return=  145.0\n"
     ]
    },
    {
     "name": "stderr",
     "output_type": "stream",
     "text": [
      "Episode 294:  59%|███████████████████████████████▏                     | 294/500"
     ]
    },
    {
     "name": "stdout",
     "output_type": "stream",
     "text": [
      "Actor loss=  0.0586 Critic loss=  8.5908 Return=  117.0\n"
     ]
    },
    {
     "name": "stderr",
     "output_type": "stream",
     "text": [
      "Episode 295:  59%|███████████████████████████████▎                     | 295/500"
     ]
    },
    {
     "name": "stdout",
     "output_type": "stream",
     "text": [
      "Actor loss=  -2.6396 Critic loss=  18.822 Return=  94.0\n"
     ]
    },
    {
     "name": "stderr",
     "output_type": "stream",
     "text": [
      "Episode 296:  59%|███████████████████████████████▍                     | 296/500"
     ]
    },
    {
     "name": "stdout",
     "output_type": "stream",
     "text": [
      "Actor loss=  0.0391 Critic loss=  0.1429 Return=  149.0\n"
     ]
    },
    {
     "name": "stderr",
     "output_type": "stream",
     "text": [
      "Episode 297:  59%|███████████████████████████████▍                     | 297/500"
     ]
    },
    {
     "name": "stdout",
     "output_type": "stream",
     "text": [
      "Actor loss=  -1.2462 Critic loss=  16.9154 Return=  133.0\n"
     ]
    },
    {
     "name": "stderr",
     "output_type": "stream",
     "text": [
      "Episode 298:  60%|███████████████████████████████▌                     | 298/500"
     ]
    },
    {
     "name": "stdout",
     "output_type": "stream",
     "text": [
      "Actor loss=  -45.9597 Critic loss=  646.0172 Return=  94.0\n"
     ]
    },
    {
     "name": "stderr",
     "output_type": "stream",
     "text": [
      "Episode 299:  60%|███████████████████████████████▋                     | 299/500"
     ]
    },
    {
     "name": "stdout",
     "output_type": "stream",
     "text": [
      "Actor loss=  5.0328 Critic loss=  8.2134 Return=  256.0\n"
     ]
    },
    {
     "name": "stderr",
     "output_type": "stream",
     "text": [
      "Episode 300:  60%|███████████████████████████████▊                     | 300/500"
     ]
    },
    {
     "name": "stdout",
     "output_type": "stream",
     "text": [
      "Actor loss=  -0.0616 Critic loss=  0.0093 Return=  195.0\n"
     ]
    },
    {
     "name": "stderr",
     "output_type": "stream",
     "text": [
      "Episode 301:  60%|███████████████████████████████▉                     | 301/500"
     ]
    },
    {
     "name": "stdout",
     "output_type": "stream",
     "text": [
      "Actor loss=  0.4346 Critic loss=  12.1131 Return=  113.0\n"
     ]
    },
    {
     "name": "stderr",
     "output_type": "stream",
     "text": [
      "Episode 302:  60%|████████████████████████████████                     | 302/500"
     ]
    },
    {
     "name": "stdout",
     "output_type": "stream",
     "text": [
      "Actor loss=  -2.2338 Critic loss=  7.9225 Return=  128.0\n"
     ]
    },
    {
     "name": "stderr",
     "output_type": "stream",
     "text": [
      "Episode 303:  61%|████████████████████████████████                     | 303/500"
     ]
    },
    {
     "name": "stdout",
     "output_type": "stream",
     "text": [
      "Actor loss=  -0.0455 Critic loss=  4.4828 Return=  81.0\n"
     ]
    },
    {
     "name": "stderr",
     "output_type": "stream",
     "text": [
      "Episode 304:  61%|████████████████████████████████▏                    | 304/500"
     ]
    },
    {
     "name": "stdout",
     "output_type": "stream",
     "text": [
      "Actor loss=  -0.0001 Critic loss=  0.1849 Return=  75.0\n"
     ]
    },
    {
     "name": "stderr",
     "output_type": "stream",
     "text": [
      "Episode 305:  61%|████████████████████████████████▎                    | 305/500"
     ]
    },
    {
     "name": "stdout",
     "output_type": "stream",
     "text": [
      "Actor loss=  -4.0221 Critic loss=  114.9856 Return=  49.0\n"
     ]
    },
    {
     "name": "stderr",
     "output_type": "stream",
     "text": [
      "Episode 306:  61%|████████████████████████████████▍                    | 306/500"
     ]
    },
    {
     "name": "stdout",
     "output_type": "stream",
     "text": [
      "Actor loss=  -0.1041 Critic loss=  34.8156 Return=  45.0\n"
     ]
    },
    {
     "name": "stderr",
     "output_type": "stream",
     "text": [
      "Episode 307:  61%|████████████████████████████████▌                    | 307/500"
     ]
    },
    {
     "name": "stdout",
     "output_type": "stream",
     "text": [
      "Actor loss=  0.0136 Critic loss=  0.1146 Return=  46.0\n"
     ]
    },
    {
     "name": "stderr",
     "output_type": "stream",
     "text": [
      "Episode 308:  62%|████████████████████████████████▋                    | 308/500"
     ]
    },
    {
     "name": "stdout",
     "output_type": "stream",
     "text": [
      "Actor loss=  -0.0682 Critic loss=  43.5852 Return=  38.0\n"
     ]
    },
    {
     "name": "stderr",
     "output_type": "stream",
     "text": [
      "Episode 309:  62%|████████████████████████████████▊                    | 309/500"
     ]
    },
    {
     "name": "stdout",
     "output_type": "stream",
     "text": [
      "Actor loss=  -3.611 Critic loss=  20.0212 Return=  35.0\n"
     ]
    },
    {
     "name": "stderr",
     "output_type": "stream",
     "text": [
      "Episode 310:  62%|████████████████████████████████▊                    | 310/500"
     ]
    },
    {
     "name": "stdout",
     "output_type": "stream",
     "text": [
      "Actor loss=  0.0635 Critic loss=  39.7358 Return=  54.0\n"
     ]
    },
    {
     "name": "stderr",
     "output_type": "stream",
     "text": [
      "Episode 311:  62%|████████████████████████████████▉                    | 311/500"
     ]
    },
    {
     "name": "stdout",
     "output_type": "stream",
     "text": [
      "Actor loss=  0.0384 Critic loss=  34.3751 Return=  61.0\n"
     ]
    },
    {
     "name": "stderr",
     "output_type": "stream",
     "text": [
      "Episode 312:  62%|█████████████████████████████████                    | 312/500"
     ]
    },
    {
     "name": "stdout",
     "output_type": "stream",
     "text": [
      "Actor loss=  0.0132 Critic loss=  15.896 Return=  59.0\n"
     ]
    },
    {
     "name": "stderr",
     "output_type": "stream",
     "text": [
      "Episode 313:  63%|█████████████████████████████████▏                   | 313/500"
     ]
    },
    {
     "name": "stdout",
     "output_type": "stream",
     "text": [
      "Actor loss=  2.1993 Critic loss=  4.7545 Return=  62.0\n"
     ]
    },
    {
     "name": "stderr",
     "output_type": "stream",
     "text": [
      "Episode 314:  63%|█████████████████████████████████▎                   | 314/500"
     ]
    },
    {
     "name": "stdout",
     "output_type": "stream",
     "text": [
      "Actor loss=  -0.0008 Critic loss=  0.5866 Return=  47.0\n"
     ]
    },
    {
     "name": "stderr",
     "output_type": "stream",
     "text": [
      "Episode 315:  63%|█████████████████████████████████▍                   | 315/500"
     ]
    },
    {
     "name": "stdout",
     "output_type": "stream",
     "text": [
      "Actor loss=  0.1073 Critic loss=  0.5092 Return=  57.0\n"
     ]
    },
    {
     "name": "stderr",
     "output_type": "stream",
     "text": [
      "Episode 316:  63%|█████████████████████████████████▍                   | 316/500"
     ]
    },
    {
     "name": "stdout",
     "output_type": "stream",
     "text": [
      "Actor loss=  -0.0411 Critic loss=  1.2879 Return=  56.0\n"
     ]
    },
    {
     "name": "stderr",
     "output_type": "stream",
     "text": [
      "Episode 317:  63%|█████████████████████████████████▌                   | 317/500"
     ]
    },
    {
     "name": "stdout",
     "output_type": "stream",
     "text": [
      "Actor loss=  0.871 Critic loss=  4.5585 Return=  68.0\n"
     ]
    },
    {
     "name": "stderr",
     "output_type": "stream",
     "text": [
      "Episode 318:  64%|█████████████████████████████████▋                   | 318/500"
     ]
    },
    {
     "name": "stdout",
     "output_type": "stream",
     "text": [
      "Actor loss=  0.1094 Critic loss=  2.3781 Return=  66.0\n"
     ]
    },
    {
     "name": "stderr",
     "output_type": "stream",
     "text": [
      "Episode 319:  64%|█████████████████████████████████▊                   | 319/500"
     ]
    },
    {
     "name": "stdout",
     "output_type": "stream",
     "text": [
      "Actor loss=  4.3713 Critic loss=  16.4662 Return=  89.0\n"
     ]
    },
    {
     "name": "stderr",
     "output_type": "stream",
     "text": [
      "Episode 320:  64%|█████████████████████████████████▉                   | 320/500"
     ]
    },
    {
     "name": "stdout",
     "output_type": "stream",
     "text": [
      "Actor loss=  -3.3477 Critic loss=  8.6397 Return=  63.0\n"
     ]
    },
    {
     "name": "stderr",
     "output_type": "stream",
     "text": [
      "Episode 321:  64%|██████████████████████████████████                   | 321/500"
     ]
    },
    {
     "name": "stdout",
     "output_type": "stream",
     "text": [
      "Actor loss=  0.2478 Critic loss=  19.9973 Return=  88.0\n"
     ]
    },
    {
     "name": "stderr",
     "output_type": "stream",
     "text": [
      "Episode 322:  64%|██████████████████████████████████▏                  | 322/500"
     ]
    },
    {
     "name": "stdout",
     "output_type": "stream",
     "text": [
      "Actor loss=  2.8169 Critic loss=  1.8984 Return=  142.0\n"
     ]
    },
    {
     "name": "stderr",
     "output_type": "stream",
     "text": [
      "Episode 323:  65%|██████████████████████████████████▏                  | 323/500"
     ]
    },
    {
     "name": "stdout",
     "output_type": "stream",
     "text": [
      "Actor loss=  -35.8832 Critic loss=  306.7111 Return=  220.0\n"
     ]
    },
    {
     "name": "stderr",
     "output_type": "stream",
     "text": [
      "Episode 324:  65%|██████████████████████████████████▎                  | 324/500"
     ]
    },
    {
     "name": "stdout",
     "output_type": "stream",
     "text": [
      "Actor loss=  -0.1294 Critic loss=  3.0098 Return=  307.0\n"
     ]
    },
    {
     "name": "stderr",
     "output_type": "stream",
     "text": [
      "Episode 325:  65%|██████████████████████████████████▍                  | 325/500"
     ]
    },
    {
     "name": "stdout",
     "output_type": "stream",
     "text": [
      "Actor loss=  0.2252 Critic loss=  3.1489 Return=  153.0\n"
     ]
    },
    {
     "name": "stderr",
     "output_type": "stream",
     "text": [
      "Episode 326:  65%|██████████████████████████████████▌                  | 326/500"
     ]
    },
    {
     "name": "stdout",
     "output_type": "stream",
     "text": [
      "Actor loss=  -0.1393 Critic loss=  0.3406 Return=  124.0\n"
     ]
    },
    {
     "name": "stderr",
     "output_type": "stream",
     "text": [
      "Episode 327:  65%|██████████████████████████████████▋                  | 327/500"
     ]
    },
    {
     "name": "stdout",
     "output_type": "stream",
     "text": [
      "Actor loss=  -0.1867 Critic loss=  0.7039 Return=  151.0\n"
     ]
    },
    {
     "name": "stderr",
     "output_type": "stream",
     "text": [
      "Episode 328:  66%|██████████████████████████████████▊                  | 328/500"
     ]
    },
    {
     "name": "stdout",
     "output_type": "stream",
     "text": [
      "Actor loss=  0.0546 Critic loss=  7.7388 Return=  123.0\n"
     ]
    },
    {
     "name": "stderr",
     "output_type": "stream",
     "text": [
      "Episode 329:  66%|██████████████████████████████████▊                  | 329/500"
     ]
    },
    {
     "name": "stdout",
     "output_type": "stream",
     "text": [
      "Actor loss=  -2.1966 Critic loss=  3.6648 Return=  107.0\n"
     ]
    },
    {
     "name": "stderr",
     "output_type": "stream",
     "text": [
      "Episode 330:  66%|██████████████████████████████████▉                  | 330/500"
     ]
    },
    {
     "name": "stdout",
     "output_type": "stream",
     "text": [
      "Actor loss=  0.0261 Critic loss=  0.14 Return=  146.0\n"
     ]
    },
    {
     "name": "stderr",
     "output_type": "stream",
     "text": [
      "Episode 331:  66%|███████████████████████████████████                  | 331/500"
     ]
    },
    {
     "name": "stdout",
     "output_type": "stream",
     "text": [
      "Actor loss=  -0.2834 Critic loss=  1.431 Return=  110.0\n"
     ]
    },
    {
     "name": "stderr",
     "output_type": "stream",
     "text": [
      "Episode 332:  66%|███████████████████████████████████▏                 | 332/500"
     ]
    },
    {
     "name": "stdout",
     "output_type": "stream",
     "text": [
      "Actor loss=  -0.0159 Critic loss=  48.962 Return=  71.0\n"
     ]
    },
    {
     "name": "stderr",
     "output_type": "stream",
     "text": [
      "Episode 333:  67%|███████████████████████████████████▎                 | 333/500"
     ]
    },
    {
     "name": "stdout",
     "output_type": "stream",
     "text": [
      "Actor loss=  0.153 Critic loss=  11.6677 Return=  84.0\n"
     ]
    },
    {
     "name": "stderr",
     "output_type": "stream",
     "text": [
      "Episode 334:  67%|███████████████████████████████████▍                 | 334/500"
     ]
    },
    {
     "name": "stdout",
     "output_type": "stream",
     "text": [
      "Actor loss=  1.2164 Critic loss=  2.0986 Return=  101.0\n"
     ]
    },
    {
     "name": "stderr",
     "output_type": "stream",
     "text": [
      "Episode 335:  67%|███████████████████████████████████▌                 | 335/500"
     ]
    },
    {
     "name": "stdout",
     "output_type": "stream",
     "text": [
      "Actor loss=  -0.1174 Critic loss=  7.5949 Return=  82.0\n"
     ]
    },
    {
     "name": "stderr",
     "output_type": "stream",
     "text": [
      "Episode 336:  67%|███████████████████████████████████▌                 | 336/500"
     ]
    },
    {
     "name": "stdout",
     "output_type": "stream",
     "text": [
      "Actor loss=  0.242 Critic loss=  0.2735 Return=  79.0\n"
     ]
    },
    {
     "name": "stderr",
     "output_type": "stream",
     "text": [
      "Episode 337:  67%|███████████████████████████████████▋                 | 337/500"
     ]
    },
    {
     "name": "stdout",
     "output_type": "stream",
     "text": [
      "Actor loss=  0.9515 Critic loss=  1.1415 Return=  78.0\n"
     ]
    },
    {
     "name": "stderr",
     "output_type": "stream",
     "text": [
      "Episode 338:  68%|███████████████████████████████████▊                 | 338/500"
     ]
    },
    {
     "name": "stdout",
     "output_type": "stream",
     "text": [
      "Actor loss=  -0.3168 Critic loss=  0.5136 Return=  83.0\n"
     ]
    },
    {
     "name": "stderr",
     "output_type": "stream",
     "text": [
      "Episode 339:  68%|███████████████████████████████████▉                 | 339/500"
     ]
    },
    {
     "name": "stdout",
     "output_type": "stream",
     "text": [
      "Actor loss=  -0.0056 Critic loss=  0.0702 Return=  88.0\n"
     ]
    },
    {
     "name": "stderr",
     "output_type": "stream",
     "text": [
      "Episode 340:  68%|████████████████████████████████████                 | 340/500"
     ]
    },
    {
     "name": "stdout",
     "output_type": "stream",
     "text": [
      "Actor loss=  0.0479 Critic loss=  0.7983 Return=  85.0\n"
     ]
    },
    {
     "name": "stderr",
     "output_type": "stream",
     "text": [
      "Episode 341:  68%|████████████████████████████████████▏                | 341/500"
     ]
    },
    {
     "name": "stdout",
     "output_type": "stream",
     "text": [
      "Actor loss=  0.015 Critic loss=  9.3406 Return=  101.0\n"
     ]
    },
    {
     "name": "stderr",
     "output_type": "stream",
     "text": [
      "Episode 342:  68%|████████████████████████████████████▎                | 342/500"
     ]
    },
    {
     "name": "stdout",
     "output_type": "stream",
     "text": [
      "Actor loss=  0.0522 Critic loss=  7.1932 Return=  133.0\n"
     ]
    },
    {
     "name": "stderr",
     "output_type": "stream",
     "text": [
      "Episode 343:  69%|████████████████████████████████████▎                | 343/500"
     ]
    },
    {
     "name": "stdout",
     "output_type": "stream",
     "text": [
      "Actor loss=  -0.0394 Critic loss=  10.2961 Return=  126.0\n"
     ]
    },
    {
     "name": "stderr",
     "output_type": "stream",
     "text": [
      "Episode 344:  69%|████████████████████████████████████▍                | 344/500"
     ]
    },
    {
     "name": "stdout",
     "output_type": "stream",
     "text": [
      "Actor loss=  0.0042 Critic loss=  0.4547 Return=  125.0\n"
     ]
    },
    {
     "name": "stderr",
     "output_type": "stream",
     "text": [
      "Episode 345:  69%|████████████████████████████████████▌                | 345/500"
     ]
    },
    {
     "name": "stdout",
     "output_type": "stream",
     "text": [
      "Actor loss=  -0.0019 Critic loss=  6.3392 Return=  133.0\n"
     ]
    },
    {
     "name": "stderr",
     "output_type": "stream",
     "text": [
      "Episode 346:  69%|████████████████████████████████████▋                | 346/500"
     ]
    },
    {
     "name": "stdout",
     "output_type": "stream",
     "text": [
      "Actor loss=  -0.1434 Critic loss=  1.0579 Return=  107.0\n"
     ]
    },
    {
     "name": "stderr",
     "output_type": "stream",
     "text": [
      "Episode 347:  69%|████████████████████████████████████▊                | 347/500"
     ]
    },
    {
     "name": "stdout",
     "output_type": "stream",
     "text": [
      "Actor loss=  -0.0394 Critic loss=  2.8579 Return=  84.0\n"
     ]
    },
    {
     "name": "stderr",
     "output_type": "stream",
     "text": [
      "Episode 348:  70%|████████████████████████████████████▉                | 348/500"
     ]
    },
    {
     "name": "stdout",
     "output_type": "stream",
     "text": [
      "Actor loss=  0.7308 Critic loss=  2.8498 Return=  97.0\n"
     ]
    },
    {
     "name": "stderr",
     "output_type": "stream",
     "text": [
      "Episode 349:  70%|████████████████████████████████████▉                | 349/500"
     ]
    },
    {
     "name": "stdout",
     "output_type": "stream",
     "text": [
      "Actor loss=  -0.0005 Critic loss=  0.0483 Return=  94.0\n"
     ]
    },
    {
     "name": "stderr",
     "output_type": "stream",
     "text": [
      "Episode 350:  70%|█████████████████████████████████████                | 350/500"
     ]
    },
    {
     "name": "stdout",
     "output_type": "stream",
     "text": [
      "Actor loss=  0.0007 Critic loss=  3.0638 Return=  97.0\n"
     ]
    },
    {
     "name": "stderr",
     "output_type": "stream",
     "text": [
      "Episode 351:  70%|█████████████████████████████████████▏               | 351/500"
     ]
    },
    {
     "name": "stdout",
     "output_type": "stream",
     "text": [
      "Actor loss=  -1.5722 Critic loss=  1.7441 Return=  139.0\n"
     ]
    },
    {
     "name": "stderr",
     "output_type": "stream",
     "text": [
      "Episode 352:  70%|█████████████████████████████████████▎               | 352/500"
     ]
    },
    {
     "name": "stdout",
     "output_type": "stream",
     "text": [
      "Actor loss=  0.0007 Critic loss=  27.7683 Return=  183.0\n"
     ]
    },
    {
     "name": "stderr",
     "output_type": "stream",
     "text": [
      "Episode 353:  71%|█████████████████████████████████████▍               | 353/500"
     ]
    },
    {
     "name": "stdout",
     "output_type": "stream",
     "text": [
      "Actor loss=  0.0785 Critic loss=  6.5753 Return=  261.0\n"
     ]
    },
    {
     "name": "stderr",
     "output_type": "stream",
     "text": [
      "Episode 354:  71%|█████████████████████████████████████▌               | 354/500"
     ]
    },
    {
     "name": "stdout",
     "output_type": "stream",
     "text": [
      "Actor loss=  -0.3788 Critic loss=  483.0102 Return=  62.0\n"
     ]
    },
    {
     "name": "stderr",
     "output_type": "stream",
     "text": [
      "Episode 355:  71%|█████████████████████████████████████▋               | 355/500"
     ]
    },
    {
     "name": "stdout",
     "output_type": "stream",
     "text": [
      "Actor loss=  0.0104 Critic loss=  2.774 Return=  104.0\n"
     ]
    },
    {
     "name": "stderr",
     "output_type": "stream",
     "text": [
      "Episode 356:  71%|█████████████████████████████████████▋               | 356/500"
     ]
    },
    {
     "name": "stdout",
     "output_type": "stream",
     "text": [
      "Actor loss=  0.0744 Critic loss=  52.0999 Return=  187.0\n"
     ]
    },
    {
     "name": "stderr",
     "output_type": "stream",
     "text": [
      "Episode 357:  71%|█████████████████████████████████████▊               | 357/500"
     ]
    },
    {
     "name": "stdout",
     "output_type": "stream",
     "text": [
      "Actor loss=  -0.0307 Critic loss=  9.3173 Return=  310.0\n"
     ]
    },
    {
     "name": "stderr",
     "output_type": "stream",
     "text": [
      "Episode 358:  72%|█████████████████████████████████████▉               | 358/500"
     ]
    },
    {
     "name": "stdout",
     "output_type": "stream",
     "text": [
      "Actor loss=  0.006 Critic loss=  4.8818 Return=  153.0\n"
     ]
    },
    {
     "name": "stderr",
     "output_type": "stream",
     "text": [
      "Episode 359:  72%|██████████████████████████████████████               | 359/500"
     ]
    },
    {
     "name": "stdout",
     "output_type": "stream",
     "text": [
      "Actor loss=  -3.9102 Critic loss=  26.3997 Return=  192.0\n"
     ]
    },
    {
     "name": "stderr",
     "output_type": "stream",
     "text": [
      "Episode 360:  72%|██████████████████████████████████████▏              | 360/500"
     ]
    },
    {
     "name": "stdout",
     "output_type": "stream",
     "text": [
      "Actor loss=  0.052 Critic loss=  16.0346 Return=  203.0\n"
     ]
    },
    {
     "name": "stderr",
     "output_type": "stream",
     "text": [
      "Episode 361:  72%|██████████████████████████████████████▎              | 361/500"
     ]
    },
    {
     "name": "stdout",
     "output_type": "stream",
     "text": [
      "Actor loss=  -0.0011 Critic loss=  1.4924 Return=  155.0\n"
     ]
    },
    {
     "name": "stderr",
     "output_type": "stream",
     "text": [
      "Episode 362:  72%|██████████████████████████████████████▎              | 362/500"
     ]
    },
    {
     "name": "stdout",
     "output_type": "stream",
     "text": [
      "Actor loss=  -1.4383 Critic loss=  17.0064 Return=  114.0\n"
     ]
    },
    {
     "name": "stderr",
     "output_type": "stream",
     "text": [
      "Episode 363:  73%|██████████████████████████████████████▍              | 363/500"
     ]
    },
    {
     "name": "stdout",
     "output_type": "stream",
     "text": [
      "Actor loss=  -15.2539 Critic loss=  29.6915 Return=  74.0\n"
     ]
    },
    {
     "name": "stderr",
     "output_type": "stream",
     "text": [
      "Episode 364:  73%|██████████████████████████████████████▌              | 364/500"
     ]
    },
    {
     "name": "stdout",
     "output_type": "stream",
     "text": [
      "Actor loss=  0.0231 Critic loss=  55.6406 Return=  136.0\n"
     ]
    },
    {
     "name": "stderr",
     "output_type": "stream",
     "text": [
      "Episode 365:  73%|██████████████████████████████████████▋              | 365/500"
     ]
    },
    {
     "name": "stdout",
     "output_type": "stream",
     "text": [
      "Actor loss=  0.0001 Critic loss=  7.0798 Return=  110.0\n"
     ]
    },
    {
     "name": "stderr",
     "output_type": "stream",
     "text": [
      "Episode 366:  73%|██████████████████████████████████████▊              | 366/500"
     ]
    },
    {
     "name": "stdout",
     "output_type": "stream",
     "text": [
      "Actor loss=  0.0 Critic loss=  0.2635 Return=  112.0\n"
     ]
    },
    {
     "name": "stderr",
     "output_type": "stream",
     "text": [
      "Episode 367:  73%|██████████████████████████████████████▉              | 367/500"
     ]
    },
    {
     "name": "stdout",
     "output_type": "stream",
     "text": [
      "Actor loss=  -0.0001 Critic loss=  0.7208 Return=  125.0\n"
     ]
    },
    {
     "name": "stderr",
     "output_type": "stream",
     "text": [
      "Episode 368:  74%|███████████████████████████████████████              | 368/500"
     ]
    },
    {
     "name": "stdout",
     "output_type": "stream",
     "text": [
      "Actor loss=  -0.0009 Critic loss=  0.3804 Return=  133.0\n"
     ]
    },
    {
     "name": "stderr",
     "output_type": "stream",
     "text": [
      "Episode 369:  74%|███████████████████████████████████████              | 369/500"
     ]
    },
    {
     "name": "stdout",
     "output_type": "stream",
     "text": [
      "Actor loss=  -0.0018 Critic loss=  1.1157 Return=  105.0\n"
     ]
    },
    {
     "name": "stderr",
     "output_type": "stream",
     "text": [
      "Episode 370:  74%|███████████████████████████████████████▏             | 370/500"
     ]
    },
    {
     "name": "stdout",
     "output_type": "stream",
     "text": [
      "Actor loss=  0.0004 Critic loss=  0.0172 Return=  119.0\n"
     ]
    },
    {
     "name": "stderr",
     "output_type": "stream",
     "text": [
      "Episode 371:  74%|███████████████████████████████████████▎             | 371/500"
     ]
    },
    {
     "name": "stdout",
     "output_type": "stream",
     "text": [
      "Actor loss=  -0.0052 Critic loss=  0.0654 Return=  119.0\n"
     ]
    },
    {
     "name": "stderr",
     "output_type": "stream",
     "text": [
      "Episode 372:  74%|███████████████████████████████████████▍             | 372/500"
     ]
    },
    {
     "name": "stdout",
     "output_type": "stream",
     "text": [
      "Actor loss=  -0.0975 Critic loss=  1.1185 Return=  97.0\n"
     ]
    },
    {
     "name": "stderr",
     "output_type": "stream",
     "text": [
      "Episode 373:  75%|███████████████████████████████████████▌             | 373/500"
     ]
    },
    {
     "name": "stdout",
     "output_type": "stream",
     "text": [
      "Actor loss=  -0.0 Critic loss=  4.5656 Return=  87.0\n"
     ]
    },
    {
     "name": "stderr",
     "output_type": "stream",
     "text": [
      "Episode 374:  75%|███████████████████████████████████████▋             | 374/500"
     ]
    },
    {
     "name": "stdout",
     "output_type": "stream",
     "text": [
      "Actor loss=  0.0088 Critic loss=  1.502 Return=  84.0\n"
     ]
    },
    {
     "name": "stderr",
     "output_type": "stream",
     "text": [
      "Episode 375:  75%|███████████████████████████████████████▊             | 375/500"
     ]
    },
    {
     "name": "stdout",
     "output_type": "stream",
     "text": [
      "Actor loss=  0.1914 Critic loss=  4.134 Return=  113.0\n"
     ]
    },
    {
     "name": "stderr",
     "output_type": "stream",
     "text": [
      "Episode 376:  75%|███████████████████████████████████████▊             | 376/500"
     ]
    },
    {
     "name": "stdout",
     "output_type": "stream",
     "text": [
      "Actor loss=  0.0001 Critic loss=  3.6004 Return=  145.0\n"
     ]
    },
    {
     "name": "stderr",
     "output_type": "stream",
     "text": [
      "Episode 377:  75%|███████████████████████████████████████▉             | 377/500"
     ]
    },
    {
     "name": "stdout",
     "output_type": "stream",
     "text": [
      "Actor loss=  -0.0004 Critic loss=  15.3343 Return=  205.0\n"
     ]
    },
    {
     "name": "stderr",
     "output_type": "stream",
     "text": [
      "Episode 378:  76%|████████████████████████████████████████             | 378/500"
     ]
    },
    {
     "name": "stdout",
     "output_type": "stream",
     "text": [
      "Actor loss=  0.0042 Critic loss=  11.7367 Return=  125.0\n"
     ]
    },
    {
     "name": "stderr",
     "output_type": "stream",
     "text": [
      "Episode 379:  76%|████████████████████████████████████████▏            | 379/500"
     ]
    },
    {
     "name": "stdout",
     "output_type": "stream",
     "text": [
      "Actor loss=  -0.1122 Critic loss=  0.8482 Return=  161.0\n"
     ]
    },
    {
     "name": "stderr",
     "output_type": "stream",
     "text": [
      "Episode 380:  76%|████████████████████████████████████████▎            | 380/500"
     ]
    },
    {
     "name": "stdout",
     "output_type": "stream",
     "text": [
      "Actor loss=  -0.9556 Critic loss=  0.8954 Return=  123.0\n"
     ]
    },
    {
     "name": "stderr",
     "output_type": "stream",
     "text": [
      "Episode 381:  76%|████████████████████████████████████████▍            | 381/500"
     ]
    },
    {
     "name": "stdout",
     "output_type": "stream",
     "text": [
      "Actor loss=  0.0 Critic loss=  0.4584 Return=  178.0\n"
     ]
    },
    {
     "name": "stderr",
     "output_type": "stream",
     "text": [
      "Episode 382:  76%|████████████████████████████████████████▍            | 382/500"
     ]
    },
    {
     "name": "stdout",
     "output_type": "stream",
     "text": [
      "Actor loss=  0.0002 Critic loss=  4.3314 Return=  128.0\n"
     ]
    },
    {
     "name": "stderr",
     "output_type": "stream",
     "text": [
      "Episode 383:  77%|████████████████████████████████████████▌            | 383/500"
     ]
    },
    {
     "name": "stdout",
     "output_type": "stream",
     "text": [
      "Actor loss=  -0.0003 Critic loss=  1.7509 Return=  146.0\n"
     ]
    },
    {
     "name": "stderr",
     "output_type": "stream",
     "text": [
      "Episode 384:  77%|████████████████████████████████████████▋            | 384/500"
     ]
    },
    {
     "name": "stdout",
     "output_type": "stream",
     "text": [
      "Actor loss=  0.0 Critic loss=  10.7311 Return=  151.0\n"
     ]
    },
    {
     "name": "stderr",
     "output_type": "stream",
     "text": [
      "Episode 385:  77%|████████████████████████████████████████▊            | 385/500"
     ]
    },
    {
     "name": "stdout",
     "output_type": "stream",
     "text": [
      "Actor loss=  -0.7247 Critic loss=  95.9681 Return=  120.0\n"
     ]
    },
    {
     "name": "stderr",
     "output_type": "stream",
     "text": [
      "Episode 386:  77%|████████████████████████████████████████▉            | 386/500"
     ]
    },
    {
     "name": "stdout",
     "output_type": "stream",
     "text": [
      "Actor loss=  -0.0002 Critic loss=  2.0593 Return=  92.0\n"
     ]
    },
    {
     "name": "stderr",
     "output_type": "stream",
     "text": [
      "Episode 387:  77%|█████████████████████████████████████████            | 387/500"
     ]
    },
    {
     "name": "stdout",
     "output_type": "stream",
     "text": [
      "Actor loss=  0.0335 Critic loss=  2.9175 Return=  89.0\n"
     ]
    },
    {
     "name": "stderr",
     "output_type": "stream",
     "text": [
      "Episode 388:  78%|█████████████████████████████████████████▏           | 388/500"
     ]
    },
    {
     "name": "stdout",
     "output_type": "stream",
     "text": [
      "Actor loss=  -0.0031 Critic loss=  17.4782 Return=  74.0\n"
     ]
    },
    {
     "name": "stderr",
     "output_type": "stream",
     "text": [
      "Episode 389:  78%|█████████████████████████████████████████▏           | 389/500"
     ]
    },
    {
     "name": "stdout",
     "output_type": "stream",
     "text": [
      "Actor loss=  0.0177 Critic loss=  35.5259 Return=  112.0\n"
     ]
    },
    {
     "name": "stderr",
     "output_type": "stream",
     "text": [
      "Episode 390:  78%|█████████████████████████████████████████▎           | 390/500"
     ]
    },
    {
     "name": "stdout",
     "output_type": "stream",
     "text": [
      "Actor loss=  0.1533 Critic loss=  39.3971 Return=  131.0\n"
     ]
    },
    {
     "name": "stderr",
     "output_type": "stream",
     "text": [
      "Episode 391:  78%|█████████████████████████████████████████▍           | 391/500"
     ]
    },
    {
     "name": "stdout",
     "output_type": "stream",
     "text": [
      "Actor loss=  -30.4073 Critic loss=  2092.9578 Return=  235.0\n"
     ]
    },
    {
     "name": "stderr",
     "output_type": "stream",
     "text": [
      "Episode 392:  78%|█████████████████████████████████████████▌           | 392/500"
     ]
    },
    {
     "name": "stdout",
     "output_type": "stream",
     "text": [
      "Actor loss=  -0.0515 Critic loss=  5.7977 Return=  196.0\n"
     ]
    },
    {
     "name": "stderr",
     "output_type": "stream",
     "text": [
      "Episode 393:  79%|█████████████████████████████████████████▋           | 393/500"
     ]
    },
    {
     "name": "stdout",
     "output_type": "stream",
     "text": [
      "Actor loss=  0.0073 Critic loss=  14.634 Return=  175.0\n"
     ]
    },
    {
     "name": "stderr",
     "output_type": "stream",
     "text": [
      "Episode 394:  79%|█████████████████████████████████████████▊           | 394/500"
     ]
    },
    {
     "name": "stdout",
     "output_type": "stream",
     "text": [
      "Actor loss=  -0.0273 Critic loss=  2.0784 Return=  232.0\n"
     ]
    },
    {
     "name": "stderr",
     "output_type": "stream",
     "text": [
      "Episode 395:  79%|█████████████████████████████████████████▊           | 395/500"
     ]
    },
    {
     "name": "stdout",
     "output_type": "stream",
     "text": [
      "Actor loss=  -1.9386 Critic loss=  9.5434 Return=  154.0\n"
     ]
    },
    {
     "name": "stderr",
     "output_type": "stream",
     "text": [
      "Episode 396:  79%|█████████████████████████████████████████▉           | 396/500"
     ]
    },
    {
     "name": "stdout",
     "output_type": "stream",
     "text": [
      "Actor loss=  0.0181 Critic loss=  8.8266 Return=  170.0\n"
     ]
    },
    {
     "name": "stderr",
     "output_type": "stream",
     "text": [
      "Episode 397:  79%|██████████████████████████████████████████           | 397/500"
     ]
    },
    {
     "name": "stdout",
     "output_type": "stream",
     "text": [
      "Actor loss=  -0.0068 Critic loss=  25.6081 Return=  293.0\n"
     ]
    },
    {
     "name": "stderr",
     "output_type": "stream",
     "text": [
      "Episode 398:  80%|██████████████████████████████████████████▏          | 398/500"
     ]
    },
    {
     "name": "stdout",
     "output_type": "stream",
     "text": [
      "Actor loss=  -0.0004 Critic loss=  0.5094 Return=  261.0\n"
     ]
    },
    {
     "name": "stderr",
     "output_type": "stream",
     "text": [
      "Episode 399:  80%|██████████████████████████████████████████▎          | 399/500"
     ]
    },
    {
     "name": "stdout",
     "output_type": "stream",
     "text": [
      "Actor loss=  -2.697 Critic loss=  23.403 Return=  369.0\n"
     ]
    },
    {
     "name": "stderr",
     "output_type": "stream",
     "text": [
      "Episode 400:  80%|██████████████████████████████████████████▍          | 400/500"
     ]
    },
    {
     "name": "stdout",
     "output_type": "stream",
     "text": [
      "Actor loss=  0.0416 Critic loss=  0.3302 Return=  306.0\n"
     ]
    },
    {
     "name": "stderr",
     "output_type": "stream",
     "text": [
      "Episode 401:  80%|██████████████████████████████████████████▌          | 401/500"
     ]
    },
    {
     "name": "stdout",
     "output_type": "stream",
     "text": [
      "Actor loss=  -0.0212 Critic loss=  0.2579 Return=  484.0\n"
     ]
    },
    {
     "name": "stderr",
     "output_type": "stream",
     "text": [
      "Episode 402:  80%|██████████████████████████████████████████▌          | 402/500"
     ]
    },
    {
     "name": "stdout",
     "output_type": "stream",
     "text": [
      "Actor loss=  0.0053 Critic loss=  141.7316 Return=  500.0\n"
     ]
    },
    {
     "name": "stderr",
     "output_type": "stream",
     "text": [
      "Episode 403:  81%|██████████████████████████████████████████▋          | 403/500"
     ]
    },
    {
     "name": "stdout",
     "output_type": "stream",
     "text": [
      "Actor loss=  -0.008 Critic loss=  528.0051 Return=  287.0\n"
     ]
    },
    {
     "name": "stderr",
     "output_type": "stream",
     "text": [
      "Episode 404:  81%|██████████████████████████████████████████▊          | 404/500"
     ]
    },
    {
     "name": "stdout",
     "output_type": "stream",
     "text": [
      "Actor loss=  -0.005 Critic loss=  91.6901 Return=  500.0\n"
     ]
    },
    {
     "name": "stderr",
     "output_type": "stream",
     "text": [
      "Episode 405:  81%|██████████████████████████████████████████▉          | 405/500"
     ]
    },
    {
     "name": "stdout",
     "output_type": "stream",
     "text": [
      "Actor loss=  -10.9274 Critic loss=  445.294 Return=  500.0\n"
     ]
    },
    {
     "name": "stderr",
     "output_type": "stream",
     "text": [
      "Episode 406:  81%|███████████████████████████████████████████          | 406/500"
     ]
    },
    {
     "name": "stdout",
     "output_type": "stream",
     "text": [
      "Actor loss=  0.0347 Critic loss=  305.6849 Return=  145.0\n"
     ]
    },
    {
     "name": "stderr",
     "output_type": "stream",
     "text": [
      "Episode 407:  81%|███████████████████████████████████████████▏         | 407/500"
     ]
    },
    {
     "name": "stdout",
     "output_type": "stream",
     "text": [
      "Actor loss=  0.0211 Critic loss=  13.3696 Return=  175.0\n"
     ]
    },
    {
     "name": "stderr",
     "output_type": "stream",
     "text": [
      "Episode 408:  82%|███████████████████████████████████████████▏         | 408/500"
     ]
    },
    {
     "name": "stdout",
     "output_type": "stream",
     "text": [
      "Actor loss=  -0.1118 Critic loss=  1754.9558 Return=  469.0\n"
     ]
    },
    {
     "name": "stderr",
     "output_type": "stream",
     "text": [
      "Episode 409:  82%|███████████████████████████████████████████▎         | 409/500"
     ]
    },
    {
     "name": "stdout",
     "output_type": "stream",
     "text": [
      "Actor loss=  -0.0015 Critic loss=  127.9277 Return=  374.0\n"
     ]
    },
    {
     "name": "stderr",
     "output_type": "stream",
     "text": [
      "Episode 410:  82%|███████████████████████████████████████████▍         | 410/500"
     ]
    },
    {
     "name": "stdout",
     "output_type": "stream",
     "text": [
      "Actor loss=  -0.0211 Critic loss=  23.2679 Return=  206.0\n"
     ]
    },
    {
     "name": "stderr",
     "output_type": "stream",
     "text": [
      "Episode 411:  82%|███████████████████████████████████████████▌         | 411/500"
     ]
    },
    {
     "name": "stdout",
     "output_type": "stream",
     "text": [
      "Actor loss=  -0.0018 Critic loss=  86.7293 Return=  344.0\n"
     ]
    },
    {
     "name": "stderr",
     "output_type": "stream",
     "text": [
      "Episode 412:  82%|███████████████████████████████████████████▋         | 412/500"
     ]
    },
    {
     "name": "stdout",
     "output_type": "stream",
     "text": [
      "Actor loss=  -0.6214 Critic loss=  845.4255 Return=  500.0\n"
     ]
    },
    {
     "name": "stderr",
     "output_type": "stream",
     "text": [
      "Episode 413:  83%|███████████████████████████████████████████▊         | 413/500"
     ]
    },
    {
     "name": "stdout",
     "output_type": "stream",
     "text": [
      "Actor loss=  -0.0012 Critic loss=  81.7227 Return=  500.0\n"
     ]
    },
    {
     "name": "stderr",
     "output_type": "stream",
     "text": [
      "Episode 414:  83%|███████████████████████████████████████████▉         | 414/500"
     ]
    },
    {
     "name": "stdout",
     "output_type": "stream",
     "text": [
      "Actor loss=  -0.0001 Critic loss=  510.7117 Return=  410.0\n"
     ]
    },
    {
     "name": "stderr",
     "output_type": "stream",
     "text": [
      "Episode 415:  83%|███████████████████████████████████████████▉         | 415/500"
     ]
    },
    {
     "name": "stdout",
     "output_type": "stream",
     "text": [
      "Actor loss=  -0.005 Critic loss=  180.3518 Return=  207.0\n"
     ]
    },
    {
     "name": "stderr",
     "output_type": "stream",
     "text": [
      "Episode 416:  83%|████████████████████████████████████████████         | 416/500"
     ]
    },
    {
     "name": "stdout",
     "output_type": "stream",
     "text": [
      "Actor loss=  -116.9099 Critic loss=  448.5891 Return=  500.0\n"
     ]
    },
    {
     "name": "stderr",
     "output_type": "stream",
     "text": [
      "Episode 417:  83%|████████████████████████████████████████████▏        | 417/500"
     ]
    },
    {
     "name": "stdout",
     "output_type": "stream",
     "text": [
      "Actor loss=  -0.4952 Critic loss=  19.8197 Return=  500.0\n"
     ]
    },
    {
     "name": "stderr",
     "output_type": "stream",
     "text": [
      "Episode 418:  84%|████████████████████████████████████████████▎        | 418/500"
     ]
    },
    {
     "name": "stdout",
     "output_type": "stream",
     "text": [
      "Actor loss=  1.6519 Critic loss=  27.1308 Return=  500.0\n"
     ]
    },
    {
     "name": "stderr",
     "output_type": "stream",
     "text": [
      "Episode 419:  84%|████████████████████████████████████████████▍        | 419/500"
     ]
    },
    {
     "name": "stdout",
     "output_type": "stream",
     "text": [
      "Actor loss=  -0.2692 Critic loss=  494.3121 Return=  500.0\n"
     ]
    },
    {
     "name": "stderr",
     "output_type": "stream",
     "text": [
      "Episode 420:  84%|████████████████████████████████████████████▌        | 420/500"
     ]
    },
    {
     "name": "stdout",
     "output_type": "stream",
     "text": [
      "Actor loss=  -0.0003 Critic loss=  252.5007 Return=  500.0\n"
     ]
    },
    {
     "name": "stderr",
     "output_type": "stream",
     "text": [
      "Episode 421:  84%|████████████████████████████████████████████▋        | 421/500"
     ]
    },
    {
     "name": "stdout",
     "output_type": "stream",
     "text": [
      "Actor loss=  -0.3093 Critic loss=  43.582 Return=  500.0\n"
     ]
    },
    {
     "name": "stderr",
     "output_type": "stream",
     "text": [
      "Episode 422:  84%|████████████████████████████████████████████▋        | 422/500"
     ]
    },
    {
     "name": "stdout",
     "output_type": "stream",
     "text": [
      "Actor loss=  -1.5806 Critic loss=  48.2881 Return=  500.0\n"
     ]
    },
    {
     "name": "stderr",
     "output_type": "stream",
     "text": [
      "Episode 423:  85%|████████████████████████████████████████████▊        | 423/500"
     ]
    },
    {
     "name": "stdout",
     "output_type": "stream",
     "text": [
      "Actor loss=  0.0846 Critic loss=  1.5699 Return=  463.0\n"
     ]
    },
    {
     "name": "stderr",
     "output_type": "stream",
     "text": [
      "Episode 424:  85%|████████████████████████████████████████████▉        | 424/500"
     ]
    },
    {
     "name": "stdout",
     "output_type": "stream",
     "text": [
      "Actor loss=  -1.5742 Critic loss=  183.4856 Return=  500.0\n"
     ]
    },
    {
     "name": "stderr",
     "output_type": "stream",
     "text": [
      "Episode 425:  85%|█████████████████████████████████████████████        | 425/500"
     ]
    },
    {
     "name": "stdout",
     "output_type": "stream",
     "text": [
      "Actor loss=  -0.042 Critic loss=  64.5431 Return=  500.0\n"
     ]
    },
    {
     "name": "stderr",
     "output_type": "stream",
     "text": [
      "Episode 426:  85%|█████████████████████████████████████████████▏       | 426/500"
     ]
    },
    {
     "name": "stdout",
     "output_type": "stream",
     "text": [
      "Actor loss=  -0.0656 Critic loss=  26.2595 Return=  500.0\n"
     ]
    },
    {
     "name": "stderr",
     "output_type": "stream",
     "text": [
      "Episode 427:  85%|█████████████████████████████████████████████▎       | 427/500"
     ]
    },
    {
     "name": "stdout",
     "output_type": "stream",
     "text": [
      "Actor loss=  0.0347 Critic loss=  0.0208 Return=  500.0\n"
     ]
    },
    {
     "name": "stderr",
     "output_type": "stream",
     "text": [
      "Episode 428:  86%|█████████████████████████████████████████████▎       | 428/500"
     ]
    },
    {
     "name": "stdout",
     "output_type": "stream",
     "text": [
      "Actor loss=  -0.1377 Critic loss=  1.2275 Return=  500.0\n"
     ]
    },
    {
     "name": "stderr",
     "output_type": "stream",
     "text": [
      "Episode 429:  86%|█████████████████████████████████████████████▍       | 429/500"
     ]
    },
    {
     "name": "stdout",
     "output_type": "stream",
     "text": [
      "Actor loss=  -31.1399 Critic loss=  40.3716 Return=  500.0\n"
     ]
    },
    {
     "name": "stderr",
     "output_type": "stream",
     "text": [
      "Episode 430:  86%|█████████████████████████████████████████████▌       | 430/500"
     ]
    },
    {
     "name": "stdout",
     "output_type": "stream",
     "text": [
      "Actor loss=  -0.2044 Critic loss=  97.0592 Return=  500.0\n"
     ]
    },
    {
     "name": "stderr",
     "output_type": "stream",
     "text": [
      "Episode 431:  86%|█████████████████████████████████████████████▋       | 431/500"
     ]
    },
    {
     "name": "stdout",
     "output_type": "stream",
     "text": [
      "Actor loss=  -0.0007 Critic loss=  8.0009 Return=  477.0\n"
     ]
    },
    {
     "name": "stderr",
     "output_type": "stream",
     "text": [
      "Episode 432:  86%|█████████████████████████████████████████████▊       | 432/500"
     ]
    },
    {
     "name": "stdout",
     "output_type": "stream",
     "text": [
      "Actor loss=  0.0 Critic loss=  7.5618 Return=  433.0\n"
     ]
    },
    {
     "name": "stderr",
     "output_type": "stream",
     "text": [
      "Episode 433:  87%|█████████████████████████████████████████████▉       | 433/500"
     ]
    },
    {
     "name": "stdout",
     "output_type": "stream",
     "text": [
      "Actor loss=  -0.0 Critic loss=  0.0009 Return=  228.0\n"
     ]
    },
    {
     "name": "stderr",
     "output_type": "stream",
     "text": [
      "Episode 434:  87%|██████████████████████████████████████████████       | 434/500"
     ]
    },
    {
     "name": "stdout",
     "output_type": "stream",
     "text": [
      "Actor loss=  -0.0198 Critic loss=  8.786 Return=  375.0\n"
     ]
    },
    {
     "name": "stderr",
     "output_type": "stream",
     "text": [
      "Episode 435:  87%|██████████████████████████████████████████████       | 435/500"
     ]
    },
    {
     "name": "stdout",
     "output_type": "stream",
     "text": [
      "Actor loss=  -0.0012 Critic loss=  0.8505 Return=  246.0\n"
     ]
    },
    {
     "name": "stderr",
     "output_type": "stream",
     "text": [
      "Episode 436:  87%|██████████████████████████████████████████████▏      | 436/500"
     ]
    },
    {
     "name": "stdout",
     "output_type": "stream",
     "text": [
      "Actor loss=  -0.0005 Critic loss=  26.7798 Return=  331.0\n"
     ]
    },
    {
     "name": "stderr",
     "output_type": "stream",
     "text": [
      "Episode 437:  87%|██████████████████████████████████████████████▎      | 437/500"
     ]
    },
    {
     "name": "stdout",
     "output_type": "stream",
     "text": [
      "Actor loss=  0.036 Critic loss=  12.7514 Return=  450.0\n"
     ]
    },
    {
     "name": "stderr",
     "output_type": "stream",
     "text": [
      "Episode 438:  88%|██████████████████████████████████████████████▍      | 438/500"
     ]
    },
    {
     "name": "stdout",
     "output_type": "stream",
     "text": [
      "Actor loss=  -0.1587 Critic loss=  4.178 Return=  186.0\n"
     ]
    },
    {
     "name": "stderr",
     "output_type": "stream",
     "text": [
      "Episode 439:  88%|██████████████████████████████████████████████▌      | 439/500"
     ]
    },
    {
     "name": "stdout",
     "output_type": "stream",
     "text": [
      "Actor loss=  0.0067 Critic loss=  23.6137 Return=  140.0\n"
     ]
    },
    {
     "name": "stderr",
     "output_type": "stream",
     "text": [
      "Episode 440:  88%|██████████████████████████████████████████████▋      | 440/500"
     ]
    },
    {
     "name": "stdout",
     "output_type": "stream",
     "text": [
      "Actor loss=  -0.0032 Critic loss=  4.3824 Return=  135.0\n"
     ]
    },
    {
     "name": "stderr",
     "output_type": "stream",
     "text": [
      "Episode 441:  88%|██████████████████████████████████████████████▋      | 441/500"
     ]
    },
    {
     "name": "stdout",
     "output_type": "stream",
     "text": [
      "Actor loss=  -0.7271 Critic loss=  6.074 Return=  187.0\n"
     ]
    },
    {
     "name": "stderr",
     "output_type": "stream",
     "text": [
      "Episode 442:  88%|██████████████████████████████████████████████▊      | 442/500"
     ]
    },
    {
     "name": "stdout",
     "output_type": "stream",
     "text": [
      "Actor loss=  0.0014 Critic loss=  0.0948 Return=  206.0\n"
     ]
    },
    {
     "name": "stderr",
     "output_type": "stream",
     "text": [
      "Episode 443:  89%|██████████████████████████████████████████████▉      | 443/500"
     ]
    },
    {
     "name": "stdout",
     "output_type": "stream",
     "text": [
      "Actor loss=  0.0019 Critic loss=  8.6259 Return=  159.0\n"
     ]
    },
    {
     "name": "stderr",
     "output_type": "stream",
     "text": [
      "Episode 444:  89%|███████████████████████████████████████████████      | 444/500"
     ]
    },
    {
     "name": "stdout",
     "output_type": "stream",
     "text": [
      "Actor loss=  -0.6763 Critic loss=  5.7409 Return=  173.0\n"
     ]
    },
    {
     "name": "stderr",
     "output_type": "stream",
     "text": [
      "Episode 445:  89%|███████████████████████████████████████████████▏     | 445/500"
     ]
    },
    {
     "name": "stdout",
     "output_type": "stream",
     "text": [
      "Actor loss=  0.946 Critic loss=  0.5142 Return=  172.0\n"
     ]
    },
    {
     "name": "stderr",
     "output_type": "stream",
     "text": [
      "Episode 446:  89%|███████████████████████████████████████████████▎     | 446/500"
     ]
    },
    {
     "name": "stdout",
     "output_type": "stream",
     "text": [
      "Actor loss=  -0.0022 Critic loss=  0.025 Return=  158.0\n"
     ]
    },
    {
     "name": "stderr",
     "output_type": "stream",
     "text": [
      "Episode 447:  89%|███████████████████████████████████████████████▍     | 447/500"
     ]
    },
    {
     "name": "stdout",
     "output_type": "stream",
     "text": [
      "Actor loss=  -0.0 Critic loss=  1.9435 Return=  159.0\n"
     ]
    },
    {
     "name": "stderr",
     "output_type": "stream",
     "text": [
      "Episode 448:  90%|███████████████████████████████████████████████▍     | 448/500"
     ]
    },
    {
     "name": "stdout",
     "output_type": "stream",
     "text": [
      "Actor loss=  0.0 Critic loss=  0.0008 Return=  164.0\n"
     ]
    },
    {
     "name": "stderr",
     "output_type": "stream",
     "text": [
      "Episode 449:  90%|███████████████████████████████████████████████▌     | 449/500"
     ]
    },
    {
     "name": "stdout",
     "output_type": "stream",
     "text": [
      "Actor loss=  0.0012 Critic loss=  2.1786 Return=  156.0\n"
     ]
    },
    {
     "name": "stderr",
     "output_type": "stream",
     "text": [
      "Episode 450:  90%|███████████████████████████████████████████████▋     | 450/500"
     ]
    },
    {
     "name": "stdout",
     "output_type": "stream",
     "text": [
      "Actor loss=  -0.0009 Critic loss=  39.2091 Return=  133.0\n"
     ]
    },
    {
     "name": "stderr",
     "output_type": "stream",
     "text": [
      "Episode 451:  90%|███████████████████████████████████████████████▊     | 451/500"
     ]
    },
    {
     "name": "stdout",
     "output_type": "stream",
     "text": [
      "Actor loss=  -1.0757 Critic loss=  17.2475 Return=  91.0\n"
     ]
    },
    {
     "name": "stderr",
     "output_type": "stream",
     "text": [
      "Episode 452:  90%|███████████████████████████████████████████████▉     | 452/500"
     ]
    },
    {
     "name": "stdout",
     "output_type": "stream",
     "text": [
      "Actor loss=  -0.0049 Critic loss=  21.2174 Return=  74.0\n"
     ]
    },
    {
     "name": "stderr",
     "output_type": "stream",
     "text": [
      "Episode 453:  91%|████████████████████████████████████████████████     | 453/500"
     ]
    },
    {
     "name": "stdout",
     "output_type": "stream",
     "text": [
      "Actor loss=  -0.0003 Critic loss=  0.8362 Return=  78.0\n"
     ]
    },
    {
     "name": "stderr",
     "output_type": "stream",
     "text": [
      "Episode 454:  91%|████████████████████████████████████████████████     | 454/500"
     ]
    },
    {
     "name": "stdout",
     "output_type": "stream",
     "text": [
      "Actor loss=  0.0008 Critic loss=  1.5088 Return=  87.0\n"
     ]
    },
    {
     "name": "stderr",
     "output_type": "stream",
     "text": [
      "Episode 455:  91%|████████████████████████████████████████████████▏    | 455/500"
     ]
    },
    {
     "name": "stdout",
     "output_type": "stream",
     "text": [
      "Actor loss=  0.0002 Critic loss=  0.1828 Return=  89.0\n"
     ]
    },
    {
     "name": "stderr",
     "output_type": "stream",
     "text": [
      "Episode 456:  91%|████████████████████████████████████████████████▎    | 456/500"
     ]
    },
    {
     "name": "stdout",
     "output_type": "stream",
     "text": [
      "Actor loss=  -0.001 Critic loss=  43.0007 Return=  68.0\n"
     ]
    },
    {
     "name": "stderr",
     "output_type": "stream",
     "text": [
      "Episode 457:  91%|████████████████████████████████████████████████▍    | 457/500"
     ]
    },
    {
     "name": "stdout",
     "output_type": "stream",
     "text": [
      "Actor loss=  -0.0269 Critic loss=  3.8017 Return=  65.0\n"
     ]
    },
    {
     "name": "stderr",
     "output_type": "stream",
     "text": [
      "Episode 458:  92%|████████████████████████████████████████████████▌    | 458/500"
     ]
    },
    {
     "name": "stdout",
     "output_type": "stream",
     "text": [
      "Actor loss=  0.0004 Critic loss=  1.9455 Return=  71.0\n"
     ]
    },
    {
     "name": "stderr",
     "output_type": "stream",
     "text": [
      "Episode 459:  92%|████████████████████████████████████████████████▋    | 459/500"
     ]
    },
    {
     "name": "stdout",
     "output_type": "stream",
     "text": [
      "Actor loss=  -1.0426 Critic loss=  6.981 Return=  65.0\n"
     ]
    },
    {
     "name": "stderr",
     "output_type": "stream",
     "text": [
      "Episode 460:  92%|████████████████████████████████████████████████▊    | 460/500"
     ]
    },
    {
     "name": "stdout",
     "output_type": "stream",
     "text": [
      "Actor loss=  0.0063 Critic loss=  22.8235 Return=  79.0\n"
     ]
    },
    {
     "name": "stderr",
     "output_type": "stream",
     "text": [
      "Episode 461:  92%|████████████████████████████████████████████████▊    | 461/500"
     ]
    },
    {
     "name": "stdout",
     "output_type": "stream",
     "text": [
      "Actor loss=  0.0003 Critic loss=  15.2365 Return=  85.0\n"
     ]
    },
    {
     "name": "stderr",
     "output_type": "stream",
     "text": [
      "Episode 462:  92%|████████████████████████████████████████████████▉    | 462/500"
     ]
    },
    {
     "name": "stdout",
     "output_type": "stream",
     "text": [
      "Actor loss=  0.0003 Critic loss=  0.7809 Return=  79.0\n"
     ]
    },
    {
     "name": "stderr",
     "output_type": "stream",
     "text": [
      "Episode 463:  93%|█████████████████████████████████████████████████    | 463/500"
     ]
    },
    {
     "name": "stdout",
     "output_type": "stream",
     "text": [
      "Actor loss=  0.0003 Critic loss=  10.2079 Return=  92.0\n"
     ]
    },
    {
     "name": "stderr",
     "output_type": "stream",
     "text": [
      "Episode 464:  93%|█████████████████████████████████████████████████▏   | 464/500"
     ]
    },
    {
     "name": "stdout",
     "output_type": "stream",
     "text": [
      "Actor loss=  -0.0012 Critic loss=  42.2129 Return=  73.0\n"
     ]
    },
    {
     "name": "stderr",
     "output_type": "stream",
     "text": [
      "Episode 465:  93%|█████████████████████████████████████████████████▎   | 465/500"
     ]
    },
    {
     "name": "stdout",
     "output_type": "stream",
     "text": [
      "Actor loss=  0.0006 Critic loss=  7.2849 Return=  83.0\n"
     ]
    },
    {
     "name": "stderr",
     "output_type": "stream",
     "text": [
      "Episode 466:  93%|█████████████████████████████████████████████████▍   | 466/500"
     ]
    },
    {
     "name": "stdout",
     "output_type": "stream",
     "text": [
      "Actor loss=  0.0003 Critic loss=  1.8998 Return=  85.0\n"
     ]
    },
    {
     "name": "stderr",
     "output_type": "stream",
     "text": [
      "Episode 467:  93%|█████████████████████████████████████████████████▌   | 467/500"
     ]
    },
    {
     "name": "stdout",
     "output_type": "stream",
     "text": [
      "Actor loss=  0.0016 Critic loss=  20.5655 Return=  108.0\n"
     ]
    },
    {
     "name": "stderr",
     "output_type": "stream",
     "text": [
      "Episode 468:  94%|█████████████████████████████████████████████████▌   | 468/500"
     ]
    },
    {
     "name": "stdout",
     "output_type": "stream",
     "text": [
      "Actor loss=  0.0154 Critic loss=  24.0155 Return=  123.0\n"
     ]
    },
    {
     "name": "stderr",
     "output_type": "stream",
     "text": [
      "Episode 469:  94%|█████████████████████████████████████████████████▋   | 469/500"
     ]
    },
    {
     "name": "stdout",
     "output_type": "stream",
     "text": [
      "Actor loss=  -0.0 Critic loss=  0.0043 Return=  129.0\n"
     ]
    },
    {
     "name": "stderr",
     "output_type": "stream",
     "text": [
      "Episode 470:  94%|█████████████████████████████████████████████████▊   | 470/500"
     ]
    },
    {
     "name": "stdout",
     "output_type": "stream",
     "text": [
      "Actor loss=  -0.0942 Critic loss=  13.6889 Return=  99.0\n"
     ]
    },
    {
     "name": "stderr",
     "output_type": "stream",
     "text": [
      "Episode 471:  94%|█████████████████████████████████████████████████▉   | 471/500"
     ]
    },
    {
     "name": "stdout",
     "output_type": "stream",
     "text": [
      "Actor loss=  -0.0074 Critic loss=  2.74 Return=  92.0\n"
     ]
    },
    {
     "name": "stderr",
     "output_type": "stream",
     "text": [
      "Episode 472:  94%|██████████████████████████████████████████████████   | 472/500"
     ]
    },
    {
     "name": "stdout",
     "output_type": "stream",
     "text": [
      "Actor loss=  -0.0001 Critic loss=  3.8859 Return=  97.0\n"
     ]
    },
    {
     "name": "stderr",
     "output_type": "stream",
     "text": [
      "Episode 473:  95%|██████████████████████████████████████████████████▏  | 473/500"
     ]
    },
    {
     "name": "stdout",
     "output_type": "stream",
     "text": [
      "Actor loss=  1.6543 Critic loss=  0.9349 Return=  105.0\n"
     ]
    },
    {
     "name": "stderr",
     "output_type": "stream",
     "text": [
      "Episode 474:  95%|██████████████████████████████████████████████████▏  | 474/500"
     ]
    },
    {
     "name": "stdout",
     "output_type": "stream",
     "text": [
      "Actor loss=  -0.0 Critic loss=  0.0012 Return=  106.0\n"
     ]
    },
    {
     "name": "stderr",
     "output_type": "stream",
     "text": [
      "Episode 475:  95%|██████████████████████████████████████████████████▎  | 475/500"
     ]
    },
    {
     "name": "stdout",
     "output_type": "stream",
     "text": [
      "Actor loss=  0.0003 Critic loss=  1.3064 Return=  131.0\n"
     ]
    },
    {
     "name": "stderr",
     "output_type": "stream",
     "text": [
      "Episode 476:  95%|██████████████████████████████████████████████████▍  | 476/500"
     ]
    },
    {
     "name": "stdout",
     "output_type": "stream",
     "text": [
      "Actor loss=  0.0004 Critic loss=  2.1394 Return=  158.0\n"
     ]
    },
    {
     "name": "stderr",
     "output_type": "stream",
     "text": [
      "Episode 477:  95%|██████████████████████████████████████████████████▌  | 477/500"
     ]
    },
    {
     "name": "stdout",
     "output_type": "stream",
     "text": [
      "Actor loss=  0.0 Critic loss=  0.2502 Return=  181.0\n"
     ]
    },
    {
     "name": "stderr",
     "output_type": "stream",
     "text": [
      "Episode 478:  96%|██████████████████████████████████████████████████▋  | 478/500"
     ]
    },
    {
     "name": "stdout",
     "output_type": "stream",
     "text": [
      "Actor loss=  -0.0003 Critic loss=  209.3526 Return=  168.0\n"
     ]
    },
    {
     "name": "stderr",
     "output_type": "stream",
     "text": [
      "Episode 479:  96%|██████████████████████████████████████████████████▊  | 479/500"
     ]
    },
    {
     "name": "stdout",
     "output_type": "stream",
     "text": [
      "Actor loss=  0.1044 Critic loss=  52.6742 Return=  235.0\n"
     ]
    },
    {
     "name": "stderr",
     "output_type": "stream",
     "text": [
      "Episode 480:  96%|██████████████████████████████████████████████████▉  | 480/500"
     ]
    },
    {
     "name": "stdout",
     "output_type": "stream",
     "text": [
      "Actor loss=  0.0001 Critic loss=  42.2623 Return=  251.0\n"
     ]
    },
    {
     "name": "stderr",
     "output_type": "stream",
     "text": [
      "Episode 481:  96%|██████████████████████████████████████████████████▉  | 481/500"
     ]
    },
    {
     "name": "stdout",
     "output_type": "stream",
     "text": [
      "Actor loss=  -0.0005 Critic loss=  2765.3088 Return=  500.0\n"
     ]
    },
    {
     "name": "stderr",
     "output_type": "stream",
     "text": [
      "Episode 482:  96%|███████████████████████████████████████████████████  | 482/500"
     ]
    },
    {
     "name": "stdout",
     "output_type": "stream",
     "text": [
      "Actor loss=  12.4633 Critic loss=  69.6619 Return=  268.0\n"
     ]
    },
    {
     "name": "stderr",
     "output_type": "stream",
     "text": [
      "Episode 483:  97%|███████████████████████████████████████████████████▏ | 483/500"
     ]
    },
    {
     "name": "stdout",
     "output_type": "stream",
     "text": [
      "Actor loss=  -0.0 Critic loss=  4947.6885 Return=  500.0\n"
     ]
    },
    {
     "name": "stderr",
     "output_type": "stream",
     "text": [
      "Episode 484:  97%|███████████████████████████████████████████████████▎ | 484/500"
     ]
    },
    {
     "name": "stdout",
     "output_type": "stream",
     "text": [
      "Actor loss=  -0.0202 Critic loss=  630.3251 Return=  500.0\n"
     ]
    },
    {
     "name": "stderr",
     "output_type": "stream",
     "text": [
      "Episode 485:  97%|███████████████████████████████████████████████████▍ | 485/500"
     ]
    },
    {
     "name": "stdout",
     "output_type": "stream",
     "text": [
      "Actor loss=  -0.0069 Critic loss=  77.5867 Return=  200.0\n"
     ]
    },
    {
     "name": "stderr",
     "output_type": "stream",
     "text": [
      "Episode 486:  97%|███████████████████████████████████████████████████▌ | 486/500"
     ]
    },
    {
     "name": "stdout",
     "output_type": "stream",
     "text": [
      "Actor loss=  -3.4785 Critic loss=  22.6124 Return=  117.0\n"
     ]
    },
    {
     "name": "stderr",
     "output_type": "stream",
     "text": [
      "Episode 487:  97%|███████████████████████████████████████████████████▌ | 487/500"
     ]
    },
    {
     "name": "stdout",
     "output_type": "stream",
     "text": [
      "Actor loss=  -0.0001 Critic loss=  0.8483 Return=  113.0\n"
     ]
    },
    {
     "name": "stderr",
     "output_type": "stream",
     "text": [
      "Episode 488:  98%|███████████████████████████████████████████████████▋ | 488/500"
     ]
    },
    {
     "name": "stdout",
     "output_type": "stream",
     "text": [
      "Actor loss=  0.1508 Critic loss=  0.026 Return=  108.0\n"
     ]
    },
    {
     "name": "stderr",
     "output_type": "stream",
     "text": [
      "Episode 489:  98%|███████████████████████████████████████████████████▊ | 489/500"
     ]
    },
    {
     "name": "stdout",
     "output_type": "stream",
     "text": [
      "Actor loss=  0.0 Critic loss=  0.0005 Return=  106.0\n"
     ]
    },
    {
     "name": "stderr",
     "output_type": "stream",
     "text": [
      "Episode 490:  98%|███████████████████████████████████████████████████▉ | 490/500"
     ]
    },
    {
     "name": "stdout",
     "output_type": "stream",
     "text": [
      "Actor loss=  -0.0002 Critic loss=  0.4534 Return=  108.0\n"
     ]
    },
    {
     "name": "stderr",
     "output_type": "stream",
     "text": [
      "Episode 491:  98%|████████████████████████████████████████████████████ | 491/500"
     ]
    },
    {
     "name": "stdout",
     "output_type": "stream",
     "text": [
      "Actor loss=  -0.0 Critic loss=  1.9575 Return=  127.0\n"
     ]
    },
    {
     "name": "stderr",
     "output_type": "stream",
     "text": [
      "Episode 492:  98%|████████████████████████████████████████████████████▏| 492/500"
     ]
    },
    {
     "name": "stdout",
     "output_type": "stream",
     "text": [
      "Actor loss=  -0.0 Critic loss=  0.0893 Return=  128.0\n"
     ]
    },
    {
     "name": "stderr",
     "output_type": "stream",
     "text": [
      "Episode 493:  99%|████████████████████████████████████████████████████▎| 493/500"
     ]
    },
    {
     "name": "stdout",
     "output_type": "stream",
     "text": [
      "Actor loss=  -0.0 Critic loss=  0.2489 Return=  130.0\n"
     ]
    },
    {
     "name": "stderr",
     "output_type": "stream",
     "text": [
      "Episode 494:  99%|████████████████████████████████████████████████████▎| 494/500"
     ]
    },
    {
     "name": "stdout",
     "output_type": "stream",
     "text": [
      "Actor loss=  0.0 Critic loss=  0.2023 Return=  128.0\n"
     ]
    },
    {
     "name": "stderr",
     "output_type": "stream",
     "text": [
      "Episode 495:  99%|████████████████████████████████████████████████████▍| 495/500"
     ]
    },
    {
     "name": "stdout",
     "output_type": "stream",
     "text": [
      "Actor loss=  -0.0 Critic loss=  0.3413 Return=  133.0\n"
     ]
    },
    {
     "name": "stderr",
     "output_type": "stream",
     "text": [
      "Episode 496:  99%|████████████████████████████████████████████████████▌| 496/500"
     ]
    },
    {
     "name": "stdout",
     "output_type": "stream",
     "text": [
      "Actor loss=  -0.0039 Critic loss=  0.3522 Return=  144.0\n"
     ]
    },
    {
     "name": "stderr",
     "output_type": "stream",
     "text": [
      "Episode 497:  99%|████████████████████████████████████████████████████▋| 497/500"
     ]
    },
    {
     "name": "stdout",
     "output_type": "stream",
     "text": [
      "Actor loss=  -0.0003 Critic loss=  0.0006 Return=  146.0\n"
     ]
    },
    {
     "name": "stderr",
     "output_type": "stream",
     "text": [
      "Episode 498: 100%|████████████████████████████████████████████████████▊| 498/500"
     ]
    },
    {
     "name": "stdout",
     "output_type": "stream",
     "text": [
      "Actor loss=  0.0208 Critic loss=  0.3088 Return=  124.0\n"
     ]
    },
    {
     "name": "stderr",
     "output_type": "stream",
     "text": [
      "Episode 499: 100%|████████████████████████████████████████████████████▉| 499/500"
     ]
    },
    {
     "name": "stdout",
     "output_type": "stream",
     "text": [
      "Actor loss=  -0.0 Critic loss=  0.7116 Return=  132.0\n"
     ]
    },
    {
     "name": "stderr",
     "output_type": "stream",
     "text": [
      "Episode 500: 100%|█████████████████████████████████████████████████████| 500/500"
     ]
    },
    {
     "name": "stdout",
     "output_type": "stream",
     "text": [
      "Actor loss=  0.0003 Critic loss=  0.197 Return=  139.0\n"
     ]
    },
    {
     "name": "stderr",
     "output_type": "stream",
     "text": [
      "\n"
     ]
    }
   ],
   "source": [
    "# Set the number of episodes to run the algorithm\n",
    "num_episodes=500\n",
    "\n",
    "# Initialize a list to store the total rewards obtained in each episode\n",
    "episode_rewards = []\n",
    "\n",
    "# Initialize a dictionary to store the losses and the returns\n",
    "stats={'actor loss':[], 'critic loss':[], 'return':[]}\n",
    "\n",
    "# Initialize tqdm progress bar\n",
    "pbar = tqdm(total=num_episodes, ncols=80, bar_format='{l_bar}{bar}| {n_fmt}/{total_fmt}')\n",
    "\n",
    "for episode in range(num_episodes):\n",
    "    done = False\n",
    "    total_reward = 0\n",
    "    state = env.reset()\n",
    "    env.seed(0)\n",
    "\n",
    "    while not done:\n",
    "        \n",
    "        probs = actor(torch.from_numpy(state).float())\n",
    "        dist = torch.distributions.Categorical(probs=probs)\n",
    "        action = dist.sample()\n",
    "        \n",
    "        next_state, reward, done, info = env.step(action.detach().data.numpy())\n",
    "\n",
    "        # Compute the advantage function\n",
    "        advantage = reward + (1-done)*gamma*critic(torch.from_numpy(next_state).float()) - critic(torch.from_numpy(state).float())        \n",
    "\n",
    "        # Update the reward and the state                   \n",
    "        total_reward += reward\n",
    "        state = next_state\n",
    "\n",
    "        # Calculate the critic and the actor losses\n",
    "        critic_loss = advantage.pow(2).mean()\n",
    "        adam_critic.zero_grad()\n",
    "        critic_loss.backward()\n",
    "        adam_critic.step()\n",
    "\n",
    "        actor_loss = -dist.log_prob(action)*advantage.detach()\n",
    "        \n",
    "        adam_actor.zero_grad()\n",
    "        actor_loss.backward()\n",
    "        adam_actor.step()\n",
    "    \n",
    "    # Store the total reward obtained in the episode    \n",
    "    episode_rewards.append(total_reward)\n",
    "\n",
    "    # Store the losses and the returns\n",
    "    stats['actor loss'].append(actor_loss)\n",
    "    stats['critic loss'].append(critic_loss)\n",
    "    stats['return'].append(total_reward)\n",
    "\n",
    "    # Print the losses and the returns\n",
    "    print('Actor loss= ', round(stats['actor loss'][episode].item(), 4), 'Critic loss= ', round(stats['critic loss'][episode].item(), 4), 'Return= ', stats['return'][episode])\n",
    "\n",
    "    # Update tqdm progress bar\n",
    "    pbar.set_description(f\"Episode {episode + 1}\")\n",
    "    pbar.set_postfix({\"Reward\": episode_rewards})\n",
    "    pbar.update(1)\n",
    "\n",
    "# Close tqdm progress bar\n",
    "pbar.close()"
   ]
  },
  {
   "cell_type": "markdown",
   "metadata": {},
   "source": [
    "### Visualize the episode rewards"
   ]
  },
  {
   "cell_type": "code",
   "execution_count": 8,
   "metadata": {},
   "outputs": [
    {
     "data": {
      "image/png": "[encoded data removed]",
      "text/plain": [
       "<Figure size 1200x600 with 1 Axes>"
      ]
     },
     "metadata": {},
     "output_type": "display_data"
    }
   ],
   "source": [
    "# Create a DataFrame for episode rewards\n",
    "data = pd.DataFrame({\"Episode\": range(1, num_episodes + 1), \"Reward\": episode_rewards})\n",
    "\n",
    "plt.figure(figsize=(12,6))\n",
    "# Plot episode rewards as a scatter plot with trend line using seaborn\n",
    "sns.set(style=\"whitegrid\")\n",
    "sns.regplot(data=data, x=\"Episode\", y=\"Reward\", scatter_kws={\"alpha\": 0.5})\n",
    "plt.xlabel(\"Episode\")\n",
    "plt.ylabel(\"Reward\")\n",
    "plt.title(\"Episode Rewards with Trend Line\")\n",
    "plt.show()"
   ]
  },
  {
   "cell_type": "markdown",
   "metadata": {},
   "source": [
    "### Test the trained agent"
   ]
  },
  {
   "cell_type": "code",
   "execution_count": 9,
   "metadata": {},
   "outputs": [
    {
     "name": "stdout",
     "output_type": "stream",
     "text": [
      "Total reward: 146.0\n"
     ]
    }
   ],
   "source": [
    "state= env.reset()\n",
    "done=False\n",
    "total_reward=0\n",
    "\n",
    "while not done:\n",
    "    action = actor(torch.from_numpy(state).float())\n",
    "    dist = torch.distributions.Categorical(probs=action)\n",
    "    action = dist.sample()\n",
    "    next_state, reward, done, info = env.step(action.detach().numpy())\n",
    "    state = next_state          \n",
    "    # env.render()\n",
    "    total_reward+=reward\n",
    "\n",
    "print(f\"Total reward: {total_reward}\")\n",
    "env.close()"
   ]
  },
  {
   "cell_type": "markdown",
   "metadata": {},
   "source": [
    "# A2C using stable_baselines3\n",
    "\n",
    "#### Requirements  \n",
    "\n",
    "stable_baselines3==2.0.0\n",
    "<br> gymnasium=0.28.1\n",
    "\n",
    "#### Available RL models\n",
    "| Model | Description |\n",
    "|---|---|\n",
    "|<a href=\"https://stable-baselines3.readthedocs.io/en/master/modules/a2c.html\">A2C</a>| Advantage Actor Critic (A2C)|\n",
    "|<a href=\"https://stable-baselines3.readthedocs.io/en/master/modules/ddpg.html\">DDPG</a>|Deep Deterministic Policy Gradient (DDPG)|\n",
    "|<a href=\"https://stable-baselines3.readthedocs.io/en/master/modules/dqn.html\">DQN</a>|Deep Q Network (DQN)|\n",
    "|<a href=\"https://stable-baselines3.readthedocs.io/en/master/modules/her.html\">HER</a>|Hindsight Experience Replay (HER)|\n",
    "|<a href=\"https://stable-baselines3.readthedocs.io/en/master/modules/ppo.html\">PPO</a>| Proximal Policy Optimization|\n",
    "|<a href=\"https://stable-baselines3.readthedocs.io/en/master/modules/sac.html\">SAC</a>|Soft Actor Critic (SAC) |\n",
    "|<a href=\"https://stable-baselines3.readthedocs.io/en/master/modules/td3.html\">TD3</a>|Twin Delayed DDPG (TD3) |"
   ]
  },
  {
   "cell_type": "code",
   "execution_count": 2,
   "metadata": {},
   "outputs": [
    {
     "name": "stderr",
     "output_type": "stream",
     "text": [
      "\n"
     ]
    }
   ],
   "source": [
    "import gymnasium as gym\n",
    "from stable_baselines3 import A2C\n",
    "from stable_baselines3.common.evaluation import evaluate_policy"
   ]
  },
  {
   "cell_type": "markdown",
   "metadata": {},
   "source": [
    "### Create environment"
   ]
  },
  {
   "cell_type": "code",
   "execution_count": 3,
   "metadata": {},
   "outputs": [],
   "source": [
    "env = gym.make(\"CartPole-v1\", render_mode=\"rgb_array\")"
   ]
  },
  {
   "cell_type": "markdown",
   "metadata": {},
   "source": [
    "### Instantiate the agent"
   ]
  },
  {
   "cell_type": "code",
   "execution_count": 4,
   "metadata": {},
   "outputs": [
    {
     "name": "stdout",
     "output_type": "stream",
     "text": [
      "Using cpu device\n",
      "Wrapping the env with a `Monitor` wrapper\n",
      "Wrapping the env in a DummyVecEnv.\n"
     ]
    }
   ],
   "source": [
    "model = A2C(\"MlpPolicy\", env, verbose=1)"
   ]
  },
  {
   "cell_type": "markdown",
   "metadata": {},
   "source": [
    "### Train the agent "
   ]
  },
  {
   "cell_type": "code",
   "execution_count": 5,
   "metadata": {},
   "outputs": [
    {
     "data": {
      "application/vnd.jupyter.widget-view+json": {
       "model_id": "67938965067445789986bd4218f3da8a",
       "version_major": 2,
       "version_minor": 0
      },
      "text/plain": [
       "Output()"
      ]
     },
     "metadata": {},
     "output_type": "display_data"
    },
    {
     "name": "stdout",
     "output_type": "stream",
     "text": [
      "------------------------------------\n",
      "| rollout/              |          |\n",
      "|    ep_len_mean        | 36.1     |\n",
      "|    ep_rew_mean        | 36.1     |\n",
      "| time/                 |          |\n",
      "|    fps                | 194      |\n",
      "|    iterations         | 100      |\n",
      "|    time_elapsed       | 2        |\n",
      "|    total_timesteps    | 500      |\n",
      "| train/                |          |\n",
      "|    entropy_loss       | -0.664   |\n",
      "|    explained_variance | -0.0929  |\n",
      "|    learning_rate      | 0.0007   |\n",
      "|    n_updates          | 99       |\n",
      "|    policy_loss        | 1.74     |\n",
      "|    value_loss         | 9.79     |\n",
      "------------------------------------\n"
     ]
    },
    {
     "name": "stdout",
     "output_type": "stream",
     "text": [
      "------------------------------------\n",
      "| rollout/              |          |\n",
      "|    ep_len_mean        | 31.6     |\n",
      "|    ep_rew_mean        | 31.6     |\n",
      "| time/                 |          |\n",
      "|    fps                | 193      |\n",
      "|    iterations         | 200      |\n",
      "|    time_elapsed       | 5        |\n",
      "|    total_timesteps    | 1000     |\n",
      "| train/                |          |\n",
      "|    entropy_loss       | -0.557   |\n",
      "|    explained_variance | -0.244   |\n",
      "|    learning_rate      | 0.0007   |\n",
      "|    n_updates          | 199      |\n",
      "|    policy_loss        | 2.61     |\n",
      "|    value_loss         | 12.9     |\n",
      "------------------------------------\n"
     ]
    },
    {
     "name": "stdout",
     "output_type": "stream",
     "text": [
      "------------------------------------\n",
      "| rollout/              |          |\n",
      "|    ep_len_mean        | 29.2     |\n",
      "|    ep_rew_mean        | 29.2     |\n",
      "| time/                 |          |\n",
      "|    fps                | 203      |\n",
      "|    iterations         | 300      |\n",
      "|    time_elapsed       | 7        |\n",
      "|    total_timesteps    | 1500     |\n",
      "| train/                |          |\n",
      "|    entropy_loss       | -0.642   |\n",
      "|    explained_variance | -0.159   |\n",
      "|    learning_rate      | 0.0007   |\n",
      "|    n_updates          | 299      |\n",
      "|    policy_loss        | 1.37     |\n",
      "|    value_loss         | 7.36     |\n",
      "------------------------------------\n"
     ]
    },
    {
     "name": "stdout",
     "output_type": "stream",
     "text": [
      "------------------------------------\n",
      "| rollout/              |          |\n",
      "|    ep_len_mean        | 28.5     |\n",
      "|    ep_rew_mean        | 28.5     |\n",
      "| time/                 |          |\n",
      "|    fps                | 208      |\n",
      "|    iterations         | 400      |\n",
      "|    time_elapsed       | 9        |\n",
      "|    total_timesteps    | 2000     |\n",
      "| train/                |          |\n",
      "|    entropy_loss       | -0.564   |\n",
      "|    explained_variance | -0.172   |\n",
      "|    learning_rate      | 0.0007   |\n",
      "|    n_updates          | 399      |\n",
      "|    policy_loss        | 1.15     |\n",
      "|    value_loss         | 6.75     |\n",
      "------------------------------------\n"
     ]
    },
    {
     "name": "stdout",
     "output_type": "stream",
     "text": [
      "------------------------------------\n",
      "| rollout/              |          |\n",
      "|    ep_len_mean        | 28.8     |\n",
      "|    ep_rew_mean        | 28.8     |\n",
      "| time/                 |          |\n",
      "|    fps                | 209      |\n",
      "|    iterations         | 500      |\n",
      "|    time_elapsed       | 11       |\n",
      "|    total_timesteps    | 2500     |\n",
      "| train/                |          |\n",
      "|    entropy_loss       | -0.546   |\n",
      "|    explained_variance | -0.00972 |\n",
      "|    learning_rate      | 0.0007   |\n",
      "|    n_updates          | 499      |\n",
      "|    policy_loss        | 0.933    |\n",
      "|    value_loss         | 5.78     |\n",
      "------------------------------------\n"
     ]
    },
    {
     "name": "stdout",
     "output_type": "stream",
     "text": [
      "------------------------------------\n",
      "| rollout/              |          |\n",
      "|    ep_len_mean        | 29.8     |\n",
      "|    ep_rew_mean        | 29.8     |\n",
      "| time/                 |          |\n",
      "|    fps                | 206      |\n",
      "|    iterations         | 600      |\n",
      "|    time_elapsed       | 14       |\n",
      "|    total_timesteps    | 3000     |\n",
      "| train/                |          |\n",
      "|    entropy_loss       | -0.58    |\n",
      "|    explained_variance | -0.0087  |\n",
      "|    learning_rate      | 0.0007   |\n",
      "|    n_updates          | 599      |\n",
      "|    policy_loss        | -13.7    |\n",
      "|    value_loss         | 706      |\n",
      "------------------------------------\n"
     ]
    },
    {
     "name": "stdout",
     "output_type": "stream",
     "text": [
      "------------------------------------\n",
      "| rollout/              |          |\n",
      "|    ep_len_mean        | 29.4     |\n",
      "|    ep_rew_mean        | 29.4     |\n",
      "| time/                 |          |\n",
      "|    fps                | 205      |\n",
      "|    iterations         | 700      |\n",
      "|    time_elapsed       | 17       |\n",
      "|    total_timesteps    | 3500     |\n",
      "| train/                |          |\n",
      "|    entropy_loss       | -0.428   |\n",
      "|    explained_variance | -0.0722  |\n",
      "|    learning_rate      | 0.0007   |\n",
      "|    n_updates          | 699      |\n",
      "|    policy_loss        | 1.6      |\n",
      "|    value_loss         | 5.03     |\n",
      "------------------------------------\n"
     ]
    },
    {
     "name": "stdout",
     "output_type": "stream",
     "text": [
      "------------------------------------\n",
      "| rollout/              |          |\n",
      "|    ep_len_mean        | 31.8     |\n",
      "|    ep_rew_mean        | 31.8     |\n",
      "| time/                 |          |\n",
      "|    fps                | 207      |\n",
      "|    iterations         | 800      |\n",
      "|    time_elapsed       | 19       |\n",
      "|    total_timesteps    | 4000     |\n",
      "| train/                |          |\n",
      "|    entropy_loss       | -0.545   |\n",
      "|    explained_variance | -0.00143 |\n",
      "|    learning_rate      | 0.0007   |\n",
      "|    n_updates          | 799      |\n",
      "|    policy_loss        | 0.76     |\n",
      "|    value_loss         | 4.32     |\n",
      "------------------------------------\n"
     ]
    },
    {
     "name": "stdout",
     "output_type": "stream",
     "text": [
      "------------------------------------\n",
      "| rollout/              |          |\n",
      "|    ep_len_mean        | 35.5     |\n",
      "|    ep_rew_mean        | 35.5     |\n",
      "| time/                 |          |\n",
      "|    fps                | 210      |\n",
      "|    iterations         | 900      |\n",
      "|    time_elapsed       | 21       |\n",
      "|    total_timesteps    | 4500     |\n",
      "| train/                |          |\n",
      "|    entropy_loss       | -0.548   |\n",
      "|    explained_variance | 0.000111 |\n",
      "|    learning_rate      | 0.0007   |\n",
      "|    n_updates          | 899      |\n",
      "|    policy_loss        | 1.03     |\n",
      "|    value_loss         | 3.73     |\n",
      "------------------------------------\n"
     ]
    },
    {
     "name": "stdout",
     "output_type": "stream",
     "text": [
      "-------------------------------------\n",
      "| rollout/              |           |\n",
      "|    ep_len_mean        | 40.2      |\n",
      "|    ep_rew_mean        | 40.2      |\n",
      "| time/                 |           |\n",
      "|    fps                | 212       |\n",
      "|    iterations         | 1000      |\n",
      "|    time_elapsed       | 23        |\n",
      "|    total_timesteps    | 5000      |\n",
      "| train/                |           |\n",
      "|    entropy_loss       | -0.545    |\n",
      "|    explained_variance | -0.000217 |\n",
      "|    learning_rate      | 0.0007    |\n",
      "|    n_updates          | 999       |\n",
      "|    policy_loss        | 0.46      |\n",
      "|    value_loss         | 3.22      |\n",
      "-------------------------------------\n"
     ]
    },
    {
     "name": "stdout",
     "output_type": "stream",
     "text": [
      "-------------------------------------\n",
      "| rollout/              |           |\n",
      "|    ep_len_mean        | 43.6      |\n",
      "|    ep_rew_mean        | 43.6      |\n",
      "| time/                 |           |\n",
      "|    fps                | 214       |\n",
      "|    iterations         | 1100      |\n",
      "|    time_elapsed       | 25        |\n",
      "|    total_timesteps    | 5500      |\n",
      "| train/                |           |\n",
      "|    entropy_loss       | -0.573    |\n",
      "|    explained_variance | -0.000671 |\n",
      "|    learning_rate      | 0.0007    |\n",
      "|    n_updates          | 1099      |\n",
      "|    policy_loss        | 0.586     |\n",
      "|    value_loss         | 2.73      |\n",
      "-------------------------------------\n"
     ]
    },
    {
     "name": "stdout",
     "output_type": "stream",
     "text": [
      "------------------------------------\n",
      "| rollout/              |          |\n",
      "|    ep_len_mean        | 48       |\n",
      "|    ep_rew_mean        | 48       |\n",
      "| time/                 |          |\n",
      "|    fps                | 212      |\n",
      "|    iterations         | 1200     |\n",
      "|    time_elapsed       | 28       |\n",
      "|    total_timesteps    | 6000     |\n",
      "| train/                |          |\n",
      "|    entropy_loss       | -0.497   |\n",
      "|    explained_variance | 0.00115  |\n",
      "|    learning_rate      | 0.0007   |\n",
      "|    n_updates          | 1199     |\n",
      "|    policy_loss        | 0.935    |\n",
      "|    value_loss         | 2.28     |\n",
      "------------------------------------\n"
     ]
    },
    {
     "name": "stdout",
     "output_type": "stream",
     "text": [
      "-------------------------------------\n",
      "| rollout/              |           |\n",
      "|    ep_len_mean        | 51.5      |\n",
      "|    ep_rew_mean        | 51.5      |\n",
      "| time/                 |           |\n",
      "|    fps                | 211       |\n",
      "|    iterations         | 1300      |\n",
      "|    time_elapsed       | 30        |\n",
      "|    total_timesteps    | 6500      |\n",
      "| train/                |           |\n",
      "|    entropy_loss       | -0.502    |\n",
      "|    explained_variance | -8.18e-05 |\n",
      "|    learning_rate      | 0.0007    |\n",
      "|    n_updates          | 1299      |\n",
      "|    policy_loss        | 0.907     |\n",
      "|    value_loss         | 1.88      |\n",
      "-------------------------------------\n"
     ]
    },
    {
     "name": "stdout",
     "output_type": "stream",
     "text": [
      "------------------------------------\n",
      "| rollout/              |          |\n",
      "|    ep_len_mean        | 57.1     |\n",
      "|    ep_rew_mean        | 57.1     |\n",
      "| time/                 |          |\n",
      "|    fps                | 211      |\n",
      "|    iterations         | 1400     |\n",
      "|    time_elapsed       | 33       |\n",
      "|    total_timesteps    | 7000     |\n",
      "| train/                |          |\n",
      "|    entropy_loss       | -0.425   |\n",
      "|    explained_variance | 0.000886 |\n",
      "|    learning_rate      | 0.0007   |\n",
      "|    n_updates          | 1399     |\n",
      "|    policy_loss        | 0.579    |\n",
      "|    value_loss         | 1.51     |\n",
      "------------------------------------\n"
     ]
    },
    {
     "name": "stdout",
     "output_type": "stream",
     "text": [
      "-------------------------------------\n",
      "| rollout/              |           |\n",
      "|    ep_len_mean        | 61.1      |\n",
      "|    ep_rew_mean        | 61.1      |\n",
      "| time/                 |           |\n",
      "|    fps                | 212       |\n",
      "|    iterations         | 1500      |\n",
      "|    time_elapsed       | 35        |\n",
      "|    total_timesteps    | 7500      |\n",
      "| train/                |           |\n",
      "|    entropy_loss       | -0.508    |\n",
      "|    explained_variance | -0.000221 |\n",
      "|    learning_rate      | 0.0007    |\n",
      "|    n_updates          | 1499      |\n",
      "|    policy_loss        | 0.291     |\n",
      "|    value_loss         | 1.19      |\n",
      "-------------------------------------\n"
     ]
    },
    {
     "name": "stdout",
     "output_type": "stream",
     "text": [
      "-------------------------------------\n",
      "| rollout/              |           |\n",
      "|    ep_len_mean        | 65.5      |\n",
      "|    ep_rew_mean        | 65.5      |\n",
      "| time/                 |           |\n",
      "|    fps                | 211       |\n",
      "|    iterations         | 1600      |\n",
      "|    time_elapsed       | 37        |\n",
      "|    total_timesteps    | 8000      |\n",
      "| train/                |           |\n",
      "|    entropy_loss       | -0.406    |\n",
      "|    explained_variance | -0.000614 |\n",
      "|    learning_rate      | 0.0007    |\n",
      "|    n_updates          | 1599      |\n",
      "|    policy_loss        | 0.162     |\n",
      "|    value_loss         | 0.909     |\n",
      "-------------------------------------\n"
     ]
    },
    {
     "name": "stdout",
     "output_type": "stream",
     "text": [
      "------------------------------------\n",
      "| rollout/              |          |\n",
      "|    ep_len_mean        | 69.5     |\n",
      "|    ep_rew_mean        | 69.5     |\n",
      "| time/                 |          |\n",
      "|    fps                | 209      |\n",
      "|    iterations         | 1700     |\n",
      "|    time_elapsed       | 40       |\n",
      "|    total_timesteps    | 8500     |\n",
      "| train/                |          |\n",
      "|    entropy_loss       | -0.217   |\n",
      "|    explained_variance | 0.000251 |\n",
      "|    learning_rate      | 0.0007   |\n",
      "|    n_updates          | 1699     |\n",
      "|    policy_loss        | 0.859    |\n",
      "|    value_loss         | 0.661    |\n",
      "------------------------------------\n"
     ]
    },
    {
     "name": "stdout",
     "output_type": "stream",
     "text": [
      "------------------------------------\n",
      "| rollout/              |          |\n",
      "|    ep_len_mean        | 73.1     |\n",
      "|    ep_rew_mean        | 73.1     |\n",
      "| time/                 |          |\n",
      "|    fps                | 208      |\n",
      "|    iterations         | 1800     |\n",
      "|    time_elapsed       | 43       |\n",
      "|    total_timesteps    | 9000     |\n",
      "| train/                |          |\n",
      "|    entropy_loss       | -0.407   |\n",
      "|    explained_variance | 1.48e-05 |\n",
      "|    learning_rate      | 0.0007   |\n",
      "|    n_updates          | 1799     |\n",
      "|    policy_loss        | 0.402    |\n",
      "|    value_loss         | 0.457    |\n",
      "------------------------------------\n"
     ]
    },
    {
     "name": "stdout",
     "output_type": "stream",
     "text": [
      "-------------------------------------\n",
      "| rollout/              |           |\n",
      "|    ep_len_mean        | 77.8      |\n",
      "|    ep_rew_mean        | 77.8      |\n",
      "| time/                 |           |\n",
      "|    fps                | 209       |\n",
      "|    iterations         | 1900      |\n",
      "|    time_elapsed       | 45        |\n",
      "|    total_timesteps    | 9500      |\n",
      "| train/                |           |\n",
      "|    entropy_loss       | -0.355    |\n",
      "|    explained_variance | -1.78e-05 |\n",
      "|    learning_rate      | 0.0007    |\n",
      "|    n_updates          | 1899      |\n",
      "|    policy_loss        | 0.365     |\n",
      "|    value_loss         | 0.294     |\n",
      "-------------------------------------\n"
     ]
    },
    {
     "name": "stdout",
     "output_type": "stream",
     "text": [
      "------------------------------------\n",
      "| rollout/              |          |\n",
      "|    ep_len_mean        | 80.7     |\n",
      "|    ep_rew_mean        | 80.7     |\n",
      "| time/                 |          |\n",
      "|    fps                | 210      |\n",
      "|    iterations         | 2000     |\n",
      "|    time_elapsed       | 47       |\n",
      "|    total_timesteps    | 10000    |\n",
      "| train/                |          |\n",
      "|    entropy_loss       | -0.566   |\n",
      "|    explained_variance | 6.41e-05 |\n",
      "|    learning_rate      | 0.0007   |\n",
      "|    n_updates          | 1999     |\n",
      "|    policy_loss        | 0.116    |\n",
      "|    value_loss         | 0.162    |\n",
      "------------------------------------\n"
     ]
    },
    {
     "data": {
      "text/html": [
       "<pre style=\"white-space:pre;overflow-x:auto;line-height:normal;font-family:Menlo,'DejaVu Sans Mono',consolas,'Courier New',monospace\"></pre>\n"
      ],
      "text/plain": []
     },
     "metadata": {},
     "output_type": "display_data"
    },
    {
     "data": {
      "text/html": [
       "<pre style=\"white-space:pre;overflow-x:auto;line-height:normal;font-family:Menlo,'DejaVu Sans Mono',consolas,'Courier New',monospace\">\n",
       "</pre>\n"
      ],
      "text/plain": [
       "\n"
      ]
     },
     "metadata": {},
     "output_type": "display_data"
    },
    {
     "data": {
      "text/plain": [
       "<stable_baselines3.a2c.a2c.A2C at 0x2542647f348>"
      ]
     },
     "execution_count": 5,
     "metadata": {},
     "output_type": "execute_result"
    }
   ],
   "source": [
    "model.learn(total_timesteps=10000, progress_bar=True)"
   ]
  },
  {
   "cell_type": "markdown",
   "metadata": {},
   "source": [
    "### Save the agent"
   ]
  },
  {
   "cell_type": "code",
   "execution_count": 6,
   "metadata": {},
   "outputs": [],
   "source": [
    "model.save(\"a2c_cartpole\")\n",
    "del model  # delete trained model to demonstrate loading"
   ]
  },
  {
   "cell_type": "markdown",
   "metadata": {},
   "source": [
    "### Load the trained agent\n",
    "#### NOTE: if you have loading issue, you can pass `print_system_info=True` to compare the system on which the model was trained vs the current one"
   ]
  },
  {
   "cell_type": "code",
   "execution_count": 7,
   "metadata": {},
   "outputs": [
    {
     "name": "stdout",
     "output_type": "stream",
     "text": [
      "Wrapping the env with a `Monitor` wrapper\n",
      "Wrapping the env in a DummyVecEnv.\n"
     ]
    }
   ],
   "source": [
    "model = A2C.load(\"a2c_cartpole\", env=env)"
   ]
  },
  {
   "cell_type": "markdown",
   "metadata": {},
   "source": [
    "### Test the trained agent"
   ]
  },
  {
   "cell_type": "code",
   "execution_count": 8,
   "metadata": {},
   "outputs": [],
   "source": [
    "mean_reward, std_reward = evaluate_policy(model, model.get_env(), n_eval_episodes=10)\n",
    "\n",
    "vec_env = model.get_env()\n",
    "obs = vec_env.reset()\n",
    "for i in range(1000):\n",
    "    action, _states = model.predict(obs, deterministic=True)\n",
    "    obs, rewards, dones, info = vec_env.step(action)\n",
    "    vec_env.render(\"human\")"
   ]
  }
 ],
 "metadata": {
  "kernelspec": {
   "display_name": "ox",
   "language": "python",
   "name": "python3"
  },
  "language_info": {
   "codemirror_mode": {
    "name": "ipython",
    "version": 3
   },
   "file_extension": ".py",
   "mimetype": "text/x-python",
   "name": "python",
   "nbconvert_exporter": "python",
   "pygments_lexer": "ipython3",
   "version": "3.7.12"
  },
  "orig_nbformat": 4
 },
 "nbformat": 4,
 "nbformat_minor": 2
}
