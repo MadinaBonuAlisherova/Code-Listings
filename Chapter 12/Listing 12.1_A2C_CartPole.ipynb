{
 "cells": [
  {
   "cell_type": "markdown",
   "metadata": {},
   "source": [
    "# Advantage Actor Critic (A2C) Method\n",
    "\n",
    "Advantage Actor-Critic (A2C) is a reinforcement learning algorithm that combines elements from policy gradient methods (like REINFORCE) and value-based methods (like Q-learning). The A2C algorithm aims to learn an optimal policy by iteratively improving the actor and critic networks."
   ]
  },
  {
   "cell_type": "markdown",
   "metadata": {},
   "source": [
    "#### Requirements  \n",
    "\n",
    "gym==0.22.0\n",
    "<br> torch==1.13.1\n",
    "<br> seaborn==0.12.2\n",
    "<br> pandas==1.3.5\n",
    "<br> tqdm"
   ]
  },
  {
   "cell_type": "code",
   "execution_count": 1,
   "metadata": {},
   "outputs": [
    {
     "name": "stderr",
     "output_type": "stream",
     "text": [
      "\n"
     ]
    }
   ],
   "source": [
    "import gym\n",
    "import numpy as np\n",
    "import torch\n",
    "import torch.nn as nn\n",
    "import torch.nn.functional as F\n",
    "import torch.optim as optim\n",
    "import matplotlib.pyplot as plt\n",
    "from tqdm import tqdm\n",
    "import pandas as pd\n",
    "import seaborn as sns"
   ]
  },
  {
   "cell_type": "code",
   "execution_count": 2,
   "metadata": {},
   "outputs": [
    {
     "data": {
      "text/plain": [
       "'1.13.1'"
      ]
     },
     "execution_count": 2,
     "metadata": {},
     "output_type": "execute_result"
    }
   ],
   "source": [
    "torch.__version__"
   ]
  },
  {
   "cell_type": "markdown",
   "metadata": {},
   "source": [
    "### Define the Actor network"
   ]
  },
  {
   "cell_type": "code",
   "execution_count": 3,
   "metadata": {},
   "outputs": [],
   "source": [
    "class Actor(nn.Module):\n",
    "\n",
    "    def __init__(self, state_dim,  action_dim):\n",
    "        super(Actor, self).__init__()\n",
    "        self.fc1 = nn.Linear(state_dim, 64)\n",
    "        self.fc2 = nn.Linear(64, 32)\n",
    "        self.fc3 = nn.Linear(32, action_dim)\n",
    "\n",
    "    def forward(self, state):\n",
    "        x1 = F.relu(self.fc1(state))\n",
    "        x2 = F.relu(self.fc2(x1))\n",
    "        action_probs = F.softmax(self.fc3(x2), dim=-1)\n",
    "        return action_probs"
   ]
  },
  {
   "cell_type": "markdown",
   "metadata": {},
   "source": [
    "### Define the Critic network"
   ]
  },
  {
   "cell_type": "code",
   "execution_count": 4,
   "metadata": {},
   "outputs": [],
   "source": [
    "class Critic(nn.Module):\n",
    "\n",
    "    def __init__(self, state_dim):\n",
    "        super(Critic, self).__init__()\n",
    "        self.fc1 = nn.Linear(state_dim, 64)\n",
    "        self.fc2 = nn.Linear(64, 32)\n",
    "        self.fc3 = nn.Linear(32, 1)\n",
    "\n",
    "    def forward(self, state):\n",
    "        x1 = F.relu(self.fc1(state))\n",
    "        x2 = F.relu(self.fc2(x1))\n",
    "        value = self.fc3(x2)\n",
    "        return value"
   ]
  },
  {
   "cell_type": "markdown",
   "metadata": {},
   "source": [
    "### Create the CartPole-v1 environment"
   ]
  },
  {
   "cell_type": "code",
   "execution_count": 5,
   "metadata": {},
   "outputs": [],
   "source": [
    "env = gym.make(\"CartPole-v1\")\n",
    "env.seed(0)\n",
    "\n",
    "state_dim = env.observation_space.shape[0]\n",
    "n_actions = env.action_space.n"
   ]
  },
  {
   "cell_type": "markdown",
   "metadata": {},
   "source": [
    "### Configure A2C"
   ]
  },
  {
   "cell_type": "code",
   "execution_count": 6,
   "metadata": {},
   "outputs": [],
   "source": [
    "actor = Actor(state_dim, n_actions)\n",
    "critic = Critic(state_dim)\n",
    "adam_actor = torch.optim.Adam(actor.parameters(), lr=1e-3)\n",
    "adam_critic = torch.optim.Adam(critic.parameters(), lr=1e-3)\n",
    "gamma = 0.99"
   ]
  },
  {
   "cell_type": "markdown",
   "metadata": {},
   "source": [
    "### Training"
   ]
  },
  {
   "cell_type": "code",
   "execution_count": 7,
   "metadata": {},
   "outputs": [
    {
     "name": "stderr",
     "output_type": "stream",
     "text": [
      "Episode 1:   0%|                                                         | 1/500"
     ]
    },
    {
     "name": "stdout",
     "output_type": "stream",
     "text": [
      "Actor loss=  0.832 Critic loss=  1.0937 Return=  33.0\n"
     ]
    },
    {
     "name": "stderr",
     "output_type": "stream",
     "text": [
      "Episode 2:   0%|▏                                                        | 2/500"
     ]
    },
    {
     "name": "stdout",
     "output_type": "stream",
     "text": [
      "Actor loss=  1.0733 Critic loss=  1.1862 Return=  30.0\n"
     ]
    },
    {
     "name": "stderr",
     "output_type": "stream",
     "text": [
      "Episode 4:   1%|▎                                                        | 3/500"
     ]
    },
    {
     "name": "stdout",
     "output_type": "stream",
     "text": [
      "Actor loss=  0.7468 Critic loss=  1.1296 Return=  27.0\n",
      "Actor loss=  0.9243 Critic loss=  1.0876 Return=  24.0\n"
     ]
    },
    {
     "name": "stderr",
     "output_type": "stream",
     "text": [
      "Episode 6:   1%|▋                                                        | 6/500"
     ]
    },
    {
     "name": "stdout",
     "output_type": "stream",
     "text": [
      "Actor loss=  1.1693 Critic loss=  1.1436 Return=  33.0\n",
      "Actor loss=  0.479 Critic loss=  0.9696 Return=  19.0\n"
     ]
    },
    {
     "name": "stderr",
     "output_type": "stream",
     "text": [
      "Episode 8:   2%|▉                                                        | 8/500"
     ]
    },
    {
     "name": "stdout",
     "output_type": "stream",
     "text": [
      "Actor loss=  0.4647 Critic loss=  0.8976 Return=  30.0\n",
      "Actor loss=  0.4364 Critic loss=  0.8821 Return=  21.0\n"
     ]
    },
    {
     "name": "stderr",
     "output_type": "stream",
     "text": [
      "Episode 9:   2%|█                                                        | 9/500"
     ]
    },
    {
     "name": "stdout",
     "output_type": "stream",
     "text": [
      "Actor loss=  0.3445 Critic loss=  0.8943 Return=  13.0\n"
     ]
    },
    {
     "name": "stderr",
     "output_type": "stream",
     "text": [
      "Episode 10:   2%|█                                                      | 10/500"
     ]
    },
    {
     "name": "stdout",
     "output_type": "stream",
     "text": [
      "Actor loss=  0.2602 Critic loss=  0.8018 Return=  16.0\n"
     ]
    },
    {
     "name": "stderr",
     "output_type": "stream",
     "text": [
      "Episode 11:   2%|█▏                                                     | 11/500"
     ]
    },
    {
     "name": "stdout",
     "output_type": "stream",
     "text": [
      "Actor loss=  0.389 Critic loss=  0.6675 Return=  31.0\n"
     ]
    },
    {
     "name": "stderr",
     "output_type": "stream",
     "text": [
      "Episode 13:   3%|█▍                                                     | 13/500"
     ]
    },
    {
     "name": "stdout",
     "output_type": "stream",
     "text": [
      "Actor loss=  0.3678 Critic loss=  0.6977 Return=  18.0\n",
      "Actor loss=  0.9285 Critic loss=  0.6854 Return=  14.0\n"
     ]
    },
    {
     "name": "stderr",
     "output_type": "stream",
     "text": [
      "Episode 15:   3%|█▌                                                     | 14/500"
     ]
    },
    {
     "name": "stdout",
     "output_type": "stream",
     "text": [
      "Actor loss=  0.3106 Critic loss=  0.6618 Return=  16.0\n",
      "Actor loss=  0.3109 Critic loss=  0.5081 Return=  23.0\n"
     ]
    },
    {
     "name": "stderr",
     "output_type": "stream",
     "text": [
      "Episode 17:   3%|█▊                                                     | 17/500"
     ]
    },
    {
     "name": "stdout",
     "output_type": "stream",
     "text": [
      "Actor loss=  0.6898 Critic loss=  0.5246 Return=  18.0\n",
      "Actor loss=  0.5982 Critic loss=  0.4616 Return=  23.0\n"
     ]
    },
    {
     "name": "stderr",
     "output_type": "stream",
     "text": [
      "Episode 19:   4%|██                                                     | 19/500"
     ]
    },
    {
     "name": "stdout",
     "output_type": "stream",
     "text": [
      "Actor loss=  0.3749 Critic loss=  0.3959 Return=  24.0\n",
      "Actor loss=  0.4105 Critic loss=  0.3957 Return=  18.0\n"
     ]
    },
    {
     "name": "stderr",
     "output_type": "stream",
     "text": [
      "Episode 21:   4%|██▎                                                    | 21/500"
     ]
    },
    {
     "name": "stdout",
     "output_type": "stream",
     "text": [
      "Actor loss=  0.3738 Critic loss=  0.3986 Return=  12.0\n",
      "Actor loss=  0.3031 Critic loss=  0.3338 Return=  13.0\n"
     ]
    },
    {
     "name": "stderr",
     "output_type": "stream",
     "text": [
      "Episode 23:   5%|██▌                                                    | 23/500"
     ]
    },
    {
     "name": "stdout",
     "output_type": "stream",
     "text": [
      "Actor loss=  0.5084 Critic loss=  0.3094 Return=  13.0\n",
      "Actor loss=  0.4122 Critic loss=  0.3382 Return=  17.0\n"
     ]
    },
    {
     "name": "stderr",
     "output_type": "stream",
     "text": [
      "Episode 25:   5%|██▊                                                    | 25/500"
     ]
    },
    {
     "name": "stdout",
     "output_type": "stream",
     "text": [
      "Actor loss=  0.329 Critic loss=  0.2602 Return=  18.0\n",
      "Actor loss=  0.2993 Critic loss=  0.2514 Return=  16.0\n"
     ]
    },
    {
     "name": "stderr",
     "output_type": "stream",
     "text": [
      "Episode 27:   5%|██▉                                                    | 27/500"
     ]
    },
    {
     "name": "stdout",
     "output_type": "stream",
     "text": [
      "Actor loss=  0.4237 Critic loss=  0.3363 Return=  22.0\n",
      "Actor loss=  0.3107 Critic loss=  0.1311 Return=  15.0\n"
     ]
    },
    {
     "name": "stderr",
     "output_type": "stream",
     "text": [
      "Episode 29:   6%|███                                                    | 28/500"
     ]
    },
    {
     "name": "stdout",
     "output_type": "stream",
     "text": [
      "Actor loss=  0.2676 Critic loss=  0.1208 Return=  17.0\n",
      "Actor loss=  0.2803 Critic loss=  0.1396 Return=  18.0\n"
     ]
    },
    {
     "name": "stderr",
     "output_type": "stream",
     "text": [
      "Episode 32:   6%|███▍                                                   | 31/500"
     ]
    },
    {
     "name": "stdout",
     "output_type": "stream",
     "text": [
      "Actor loss=  0.456 Critic loss=  0.2868 Return=  23.0\n",
      "Actor loss=  0.2933 Critic loss=  0.1952 Return=  13.0\n",
      "Actor loss=  0.3309 Critic loss=  0.2069 Return=  11.0\n"
     ]
    },
    {
     "name": "stderr",
     "output_type": "stream",
     "text": [
      "Episode 34:   7%|███▋                                                   | 34/500"
     ]
    },
    {
     "name": "stdout",
     "output_type": "stream",
     "text": [
      "Actor loss=  0.4126 Critic loss=  0.3353 Return=  16.0\n",
      "Actor loss=  0.0283 Critic loss=  0.0031 Return=  13.0\n"
     ]
    },
    {
     "name": "stderr",
     "output_type": "stream",
     "text": [
      "Episode 36:   7%|███▉                                                   | 36/500"
     ]
    },
    {
     "name": "stdout",
     "output_type": "stream",
     "text": [
      "Actor loss=  0.0138 Critic loss=  0.0005 Return=  15.0\n",
      "Actor loss=  -0.0875 Critic loss=  0.0261 Return=  16.0\n"
     ]
    },
    {
     "name": "stderr",
     "output_type": "stream",
     "text": [
      "Episode 37:   7%|████                                                   | 37/500"
     ]
    },
    {
     "name": "stdout",
     "output_type": "stream",
     "text": [
      "Actor loss=  0.0601 Critic loss=  0.005 Return=  21.0\n"
     ]
    },
    {
     "name": "stderr",
     "output_type": "stream",
     "text": [
      "Episode 39:   8%|████▎                                                  | 39/500"
     ]
    },
    {
     "name": "stdout",
     "output_type": "stream",
     "text": [
      "Actor loss=  -0.094 Critic loss=  0.0108 Return=  30.0\n",
      "Actor loss=  0.1206 Critic loss=  0.0752 Return=  19.0\n"
     ]
    },
    {
     "name": "stderr",
     "output_type": "stream",
     "text": [
      "Episode 41:   8%|████▍                                                  | 40/500"
     ]
    },
    {
     "name": "stdout",
     "output_type": "stream",
     "text": [
      "Actor loss=  -0.3839 Critic loss=  0.2605 Return=  15.0\n",
      "Actor loss=  -0.3793 Critic loss=  0.2564 Return=  24.0\n"
     ]
    },
    {
     "name": "stderr",
     "output_type": "stream",
     "text": [
      "Episode 42:   8%|████▌                                                  | 42/500"
     ]
    },
    {
     "name": "stdout",
     "output_type": "stream",
     "text": [
      "Actor loss=  0.0272 Critic loss=  0.0046 Return=  30.0\n"
     ]
    },
    {
     "name": "stderr",
     "output_type": "stream",
     "text": [
      "Episode 43:   9%|████▋                                                  | 43/500"
     ]
    },
    {
     "name": "stdout",
     "output_type": "stream",
     "text": [
      "Actor loss=  -0.307 Critic loss=  0.2657 Return=  46.0\n"
     ]
    },
    {
     "name": "stderr",
     "output_type": "stream",
     "text": [
      "Episode 45:   9%|████▉                                                  | 45/500"
     ]
    },
    {
     "name": "stdout",
     "output_type": "stream",
     "text": [
      "Actor loss=  -0.9368 Critic loss=  3.4461 Return=  35.0\n",
      "Actor loss=  -0.6392 Critic loss=  3.5312 Return=  12.0\n"
     ]
    },
    {
     "name": "stderr",
     "output_type": "stream",
     "text": [
      "Episode 47:   9%|█████▏                                                 | 47/500"
     ]
    },
    {
     "name": "stdout",
     "output_type": "stream",
     "text": [
      "Actor loss=  -0.7267 Critic loss=  0.5002 Return=  31.0\n",
      "Actor loss=  -0.7664 Critic loss=  0.6669 Return=  22.0\n"
     ]
    },
    {
     "name": "stderr",
     "output_type": "stream",
     "text": [
      "Episode 48:   9%|█████▏                                                 | 47/500"
     ]
    },
    {
     "name": "stdout",
     "output_type": "stream",
     "text": [
      "Actor loss=  -0.0934 Critic loss=  0.0527 Return=  9.0\n"
     ]
    },
    {
     "name": "stderr",
     "output_type": "stream",
     "text": [
      "Episode 50:  10%|█████▌                                                 | 50/500"
     ]
    },
    {
     "name": "stdout",
     "output_type": "stream",
     "text": [
      "Actor loss=  -0.551 Critic loss=  0.2427 Return=  55.0\n",
      "Actor loss=  -0.0238 Critic loss=  0.0074 Return=  16.0\n"
     ]
    },
    {
     "name": "stderr",
     "output_type": "stream",
     "text": [
      "Episode 51:  10%|█████▌                                                 | 51/500"
     ]
    },
    {
     "name": "stdout",
     "output_type": "stream",
     "text": [
      "Actor loss=  0.5261 Critic loss=  1.347 Return=  94.0\n"
     ]
    },
    {
     "name": "stderr",
     "output_type": "stream",
     "text": [
      "Episode 52:  10%|█████▋                                                 | 52/500"
     ]
    },
    {
     "name": "stdout",
     "output_type": "stream",
     "text": [
      "Actor loss=  -0.0652 Critic loss=  0.1462 Return=  69.0\n"
     ]
    },
    {
     "name": "stderr",
     "output_type": "stream",
     "text": [
      "Episode 53:  11%|█████▊                                                 | 53/500"
     ]
    },
    {
     "name": "stdout",
     "output_type": "stream",
     "text": [
      "Actor loss=  -0.5409 Critic loss=  1.641 Return=  29.0\n"
     ]
    },
    {
     "name": "stderr",
     "output_type": "stream",
     "text": [
      "Episode 55:  11%|█████▉                                                 | 54/500"
     ]
    },
    {
     "name": "stdout",
     "output_type": "stream",
     "text": [
      "Actor loss=  -0.4203 Critic loss=  1.1501 Return=  22.0\n",
      "Actor loss=  -0.4547 Critic loss=  0.8565 Return=  24.0\n"
     ]
    },
    {
     "name": "stderr",
     "output_type": "stream",
     "text": [
      "Episode 56:  11%|██████▏                                                | 56/500"
     ]
    },
    {
     "name": "stdout",
     "output_type": "stream",
     "text": [
      "Actor loss=  -0.3035 Critic loss=  0.4187 Return=  40.0\n"
     ]
    },
    {
     "name": "stderr",
     "output_type": "stream",
     "text": [
      "Episode 57:  11%|██████▎                                                | 57/500"
     ]
    },
    {
     "name": "stdout",
     "output_type": "stream",
     "text": [
      "Actor loss=  -0.0892 Critic loss=  0.0544 Return=  49.0\n"
     ]
    },
    {
     "name": "stderr",
     "output_type": "stream",
     "text": [
      "Episode 58:  12%|██████▍                                                | 58/500"
     ]
    },
    {
     "name": "stdout",
     "output_type": "stream",
     "text": [
      "Actor loss=  0.2078 Critic loss=  0.4228 Return=  91.0\n"
     ]
    },
    {
     "name": "stderr",
     "output_type": "stream",
     "text": [
      "Episode 59:  12%|██████▍                                                | 59/500"
     ]
    },
    {
     "name": "stdout",
     "output_type": "stream",
     "text": [
      "Actor loss=  0.0491 Critic loss=  0.0121 Return=  63.0\n"
     ]
    },
    {
     "name": "stderr",
     "output_type": "stream",
     "text": [
      "Episode 60:  12%|██████▌                                                | 60/500"
     ]
    },
    {
     "name": "stdout",
     "output_type": "stream",
     "text": [
      "Actor loss=  -0.1457 Critic loss=  0.147 Return=  38.0\n"
     ]
    },
    {
     "name": "stderr",
     "output_type": "stream",
     "text": [
      "Episode 61:  12%|██████▋                                                | 61/500"
     ]
    },
    {
     "name": "stdout",
     "output_type": "stream",
     "text": [
      "Actor loss=  -0.0946 Critic loss=  0.0023 Return=  75.0\n"
     ]
    },
    {
     "name": "stderr",
     "output_type": "stream",
     "text": [
      "Episode 62:  12%|██████▊                                                | 62/500"
     ]
    },
    {
     "name": "stdout",
     "output_type": "stream",
     "text": [
      "Actor loss=  -0.5269 Critic loss=  1.1039 Return=  42.0\n"
     ]
    },
    {
     "name": "stderr",
     "output_type": "stream",
     "text": [
      "Episode 64:  13%|██████▉                                                | 63/500"
     ]
    },
    {
     "name": "stdout",
     "output_type": "stream",
     "text": [
      "Actor loss=  -0.0555 Critic loss=  0.3037 Return=  31.0\n",
      "Actor loss=  -0.2394 Critic loss=  0.725 Return=  23.0\n"
     ]
    },
    {
     "name": "stderr",
     "output_type": "stream",
     "text": [
      "Episode 65:  13%|███████▏                                               | 65/500"
     ]
    },
    {
     "name": "stdout",
     "output_type": "stream",
     "text": [
      "Actor loss=  0.1793 Critic loss=  0.1118 Return=  78.0\n"
     ]
    },
    {
     "name": "stderr",
     "output_type": "stream",
     "text": [
      "Episode 66:  13%|███████▎                                               | 66/500"
     ]
    },
    {
     "name": "stdout",
     "output_type": "stream",
     "text": [
      "Actor loss=  -0.4237 Critic loss=  0.0455 Return=  37.0\n"
     ]
    },
    {
     "name": "stderr",
     "output_type": "stream",
     "text": [
      "Episode 68:  14%|███████▍                                               | 68/500"
     ]
    },
    {
     "name": "stdout",
     "output_type": "stream",
     "text": [
      "Actor loss=  -0.2579 Critic loss=  0.5865 Return=  48.0\n",
      "Actor loss=  -0.3811 Critic loss=  0.3947 Return=  19.0\n"
     ]
    },
    {
     "name": "stderr",
     "output_type": "stream",
     "text": [
      "Episode 69:  14%|███████▌                                               | 69/500"
     ]
    },
    {
     "name": "stdout",
     "output_type": "stream",
     "text": [
      "Actor loss=  -0.3666 Critic loss=  0.2713 Return=  23.0\n"
     ]
    },
    {
     "name": "stderr",
     "output_type": "stream",
     "text": [
      "Episode 70:  14%|███████▋                                               | 70/500"
     ]
    },
    {
     "name": "stdout",
     "output_type": "stream",
     "text": [
      "Actor loss=  -0.4415 Critic loss=  0.1611 Return=  45.0\n"
     ]
    },
    {
     "name": "stderr",
     "output_type": "stream",
     "text": [
      "Episode 71:  14%|███████▊                                               | 71/500"
     ]
    },
    {
     "name": "stdout",
     "output_type": "stream",
     "text": [
      "Actor loss=  0.1542 Critic loss=  0.1844 Return=  55.0\n"
     ]
    },
    {
     "name": "stderr",
     "output_type": "stream",
     "text": [
      "Episode 72:  14%|███████▉                                               | 72/500"
     ]
    },
    {
     "name": "stdout",
     "output_type": "stream",
     "text": [
      "Actor loss=  -0.3066 Critic loss=  0.2912 Return=  91.0\n"
     ]
    },
    {
     "name": "stderr",
     "output_type": "stream",
     "text": [
      "Episode 73:  15%|████████                                               | 73/500"
     ]
    },
    {
     "name": "stdout",
     "output_type": "stream",
     "text": [
      "Actor loss=  -0.0051 Critic loss=  0.0058 Return=  65.0\n"
     ]
    },
    {
     "name": "stderr",
     "output_type": "stream",
     "text": [
      "Episode 74:  15%|████████▏                                              | 74/500"
     ]
    },
    {
     "name": "stdout",
     "output_type": "stream",
     "text": [
      "Actor loss=  -0.029 Critic loss=  0.3526 Return=  42.0\n"
     ]
    },
    {
     "name": "stderr",
     "output_type": "stream",
     "text": [
      "Episode 75:  15%|████████▎                                              | 75/500"
     ]
    },
    {
     "name": "stdout",
     "output_type": "stream",
     "text": [
      "Actor loss=  -0.0674 Critic loss=  0.0319 Return=  38.0\n"
     ]
    },
    {
     "name": "stderr",
     "output_type": "stream",
     "text": [
      "Episode 76:  15%|████████▎                                              | 76/500"
     ]
    },
    {
     "name": "stdout",
     "output_type": "stream",
     "text": [
      "Actor loss=  0.021 Critic loss=  0.6164 Return=  76.0\n"
     ]
    },
    {
     "name": "stderr",
     "output_type": "stream",
     "text": [
      "Episode 77:  15%|████████▍                                              | 77/500"
     ]
    },
    {
     "name": "stdout",
     "output_type": "stream",
     "text": [
      "Actor loss=  -0.4 Critic loss=  1.0152 Return=  48.0\n"
     ]
    },
    {
     "name": "stderr",
     "output_type": "stream",
     "text": [
      "Episode 78:  16%|████████▌                                              | 78/500"
     ]
    },
    {
     "name": "stdout",
     "output_type": "stream",
     "text": [
      "Actor loss=  1.3617 Critic loss=  7.0041 Return=  109.0\n"
     ]
    },
    {
     "name": "stderr",
     "output_type": "stream",
     "text": [
      "Episode 80:  16%|████████▋                                              | 79/500"
     ]
    },
    {
     "name": "stdout",
     "output_type": "stream",
     "text": [
      "Actor loss=  -1.1496 Critic loss=  4.4657 Return=  40.0\n",
      "Actor loss=  -0.4333 Critic loss=  2.119 Return=  24.0\n"
     ]
    },
    {
     "name": "stderr",
     "output_type": "stream",
     "text": [
      "Episode 81:  16%|████████▉                                              | 81/500"
     ]
    },
    {
     "name": "stdout",
     "output_type": "stream",
     "text": [
      "Actor loss=  -0.1928 Critic loss=  0.8894 Return=  44.0\n"
     ]
    },
    {
     "name": "stderr",
     "output_type": "stream",
     "text": [
      "Episode 83:  16%|█████████                                              | 82/500"
     ]
    },
    {
     "name": "stdout",
     "output_type": "stream",
     "text": [
      "Actor loss=  -0.0563 Critic loss=  0.4297 Return=  44.0\n",
      "Actor loss=  -0.0504 Critic loss=  0.18 Return=  28.0\n"
     ]
    },
    {
     "name": "stderr",
     "output_type": "stream",
     "text": [
      "Episode 84:  17%|█████████▏                                             | 84/500"
     ]
    },
    {
     "name": "stdout",
     "output_type": "stream",
     "text": [
      "Actor loss=  -0.0976 Critic loss=  0.2641 Return=  31.0\n"
     ]
    },
    {
     "name": "stderr",
     "output_type": "stream",
     "text": [
      "Episode 85:  17%|█████████▎                                             | 85/500"
     ]
    },
    {
     "name": "stdout",
     "output_type": "stream",
     "text": [
      "Actor loss=  -1.1256 Critic loss=  1.0089 Return=  53.0\n"
     ]
    },
    {
     "name": "stderr",
     "output_type": "stream",
     "text": [
      "Episode 86:  17%|█████████▍                                             | 86/500"
     ]
    },
    {
     "name": "stdout",
     "output_type": "stream",
     "text": [
      "Actor loss=  -0.2116 Critic loss=  0.4757 Return=  60.0\n"
     ]
    },
    {
     "name": "stderr",
     "output_type": "stream",
     "text": [
      "Episode 87:  17%|█████████▌                                             | 87/500"
     ]
    },
    {
     "name": "stdout",
     "output_type": "stream",
     "text": [
      "Actor loss=  2.7277 Critic loss=  2.8849 Return=  173.0\n"
     ]
    },
    {
     "name": "stderr",
     "output_type": "stream",
     "text": [
      "Episode 88:  18%|█████████▋                                             | 88/500"
     ]
    },
    {
     "name": "stdout",
     "output_type": "stream",
     "text": [
      "Actor loss=  -0.168 Critic loss=  1.6743 Return=  59.0\n"
     ]
    },
    {
     "name": "stderr",
     "output_type": "stream",
     "text": [
      "Episode 89:  18%|█████████▊                                             | 89/500"
     ]
    },
    {
     "name": "stdout",
     "output_type": "stream",
     "text": [
      "Actor loss=  -0.0684 Critic loss=  0.2871 Return=  73.0\n"
     ]
    },
    {
     "name": "stderr",
     "output_type": "stream",
     "text": [
      "Episode 90:  18%|█████████▉                                             | 90/500"
     ]
    },
    {
     "name": "stdout",
     "output_type": "stream",
     "text": [
      "Actor loss=  -0.2376 Critic loss=  1.3636 Return=  42.0\n"
     ]
    },
    {
     "name": "stderr",
     "output_type": "stream",
     "text": [
      "Episode 91:  18%|██████████                                             | 91/500"
     ]
    },
    {
     "name": "stdout",
     "output_type": "stream",
     "text": [
      "Actor loss=  -1.7466 Critic loss=  0.8851 Return=  40.0\n"
     ]
    },
    {
     "name": "stderr",
     "output_type": "stream",
     "text": [
      "Episode 92:  18%|██████████                                             | 92/500"
     ]
    },
    {
     "name": "stdout",
     "output_type": "stream",
     "text": [
      "Actor loss=  -0.6823 Critic loss=  0.8544 Return=  48.0\n"
     ]
    },
    {
     "name": "stderr",
     "output_type": "stream",
     "text": [
      "Episode 93:  19%|██████████▏                                            | 93/500"
     ]
    },
    {
     "name": "stdout",
     "output_type": "stream",
     "text": [
      "Actor loss=  0.1192 Critic loss=  1.194 Return=  110.0\n"
     ]
    },
    {
     "name": "stderr",
     "output_type": "stream",
     "text": [
      "Episode 94:  19%|██████████▎                                            | 94/500"
     ]
    },
    {
     "name": "stdout",
     "output_type": "stream",
     "text": [
      "Actor loss=  -0.2015 Critic loss=  1.4749 Return=  64.0\n"
     ]
    },
    {
     "name": "stderr",
     "output_type": "stream",
     "text": [
      "Episode 95:  19%|██████████▍                                            | 95/500"
     ]
    },
    {
     "name": "stdout",
     "output_type": "stream",
     "text": [
      "Actor loss=  -1.5294 Critic loss=  0.7548 Return=  105.0\n"
     ]
    },
    {
     "name": "stderr",
     "output_type": "stream",
     "text": [
      "Episode 96:  19%|██████████▌                                            | 96/500"
     ]
    },
    {
     "name": "stdout",
     "output_type": "stream",
     "text": [
      "Actor loss=  -2.1385 Critic loss=  1.3729 Return=  56.0\n"
     ]
    },
    {
     "name": "stderr",
     "output_type": "stream",
     "text": [
      "Episode 97:  19%|██████████▋                                            | 97/500"
     ]
    },
    {
     "name": "stdout",
     "output_type": "stream",
     "text": [
      "Actor loss=  -0.3098 Critic loss=  3.7789 Return=  94.0\n"
     ]
    },
    {
     "name": "stderr",
     "output_type": "stream",
     "text": [
      "Episode 98:  20%|██████████▊                                            | 98/500"
     ]
    },
    {
     "name": "stdout",
     "output_type": "stream",
     "text": [
      "Actor loss=  -0.0787 Critic loss=  0.2044 Return=  106.0\n"
     ]
    },
    {
     "name": "stderr",
     "output_type": "stream",
     "text": [
      "Episode 99:  20%|██████████▉                                            | 99/500"
     ]
    },
    {
     "name": "stdout",
     "output_type": "stream",
     "text": [
      "Actor loss=  -0.0598 Critic loss=  0.1714 Return=  79.0\n"
     ]
    },
    {
     "name": "stderr",
     "output_type": "stream",
     "text": [
      "Episode 100:  20%|██████████▌                                          | 100/500"
     ]
    },
    {
     "name": "stdout",
     "output_type": "stream",
     "text": [
      "Actor loss=  -0.018 Critic loss=  0.0306 Return=  90.0\n"
     ]
    },
    {
     "name": "stderr",
     "output_type": "stream",
     "text": [
      "Episode 101:  20%|██████████▋                                          | 101/500"
     ]
    },
    {
     "name": "stdout",
     "output_type": "stream",
     "text": [
      "Actor loss=  -1.0389 Critic loss=  51.5805 Return=  177.0\n"
     ]
    },
    {
     "name": "stderr",
     "output_type": "stream",
     "text": [
      "Episode 102:  20%|██████████▊                                          | 102/500"
     ]
    },
    {
     "name": "stdout",
     "output_type": "stream",
     "text": [
      "Actor loss=  -2.881 Critic loss=  20.1109 Return=  28.0\n"
     ]
    },
    {
     "name": "stderr",
     "output_type": "stream",
     "text": [
      "Episode 103:  21%|██████████▉                                          | 103/500"
     ]
    },
    {
     "name": "stdout",
     "output_type": "stream",
     "text": [
      "Actor loss=  -0.7029 Critic loss=  5.9766 Return=  36.0\n"
     ]
    },
    {
     "name": "stderr",
     "output_type": "stream",
     "text": [
      "Episode 104:  21%|███████████                                          | 104/500"
     ]
    },
    {
     "name": "stdout",
     "output_type": "stream",
     "text": [
      "Actor loss=  -0.1496 Critic loss=  2.4358 Return=  35.0\n"
     ]
    },
    {
     "name": "stderr",
     "output_type": "stream",
     "text": [
      "Episode 106:  21%|███████████▏                                         | 106/500"
     ]
    },
    {
     "name": "stdout",
     "output_type": "stream",
     "text": [
      "Actor loss=  0.0505 Critic loss=  0.084 Return=  50.0\n",
      "Actor loss=  -2.0444 Critic loss=  4.6414 Return=  23.0\n"
     ]
    },
    {
     "name": "stderr",
     "output_type": "stream",
     "text": [
      "Episode 107:  21%|███████████▎                                         | 107/500"
     ]
    },
    {
     "name": "stdout",
     "output_type": "stream",
     "text": [
      "Actor loss=  -0.2605 Critic loss=  0.0671 Return=  34.0\n"
     ]
    },
    {
     "name": "stderr",
     "output_type": "stream",
     "text": [
      "Episode 108:  22%|███████████▍                                         | 108/500"
     ]
    },
    {
     "name": "stdout",
     "output_type": "stream",
     "text": [
      "Actor loss=  0.341 Critic loss=  0.3355 Return=  39.0\n"
     ]
    },
    {
     "name": "stderr",
     "output_type": "stream",
     "text": [
      "Episode 109:  22%|███████████▌                                         | 109/500"
     ]
    },
    {
     "name": "stdout",
     "output_type": "stream",
     "text": [
      "Actor loss=  -0.0191 Critic loss=  1.2262 Return=  29.0\n"
     ]
    },
    {
     "name": "stderr",
     "output_type": "stream",
     "text": [
      "Episode 110:  22%|███████████▋                                         | 110/500"
     ]
    },
    {
     "name": "stdout",
     "output_type": "stream",
     "text": [
      "Actor loss=  -0.0038 Critic loss=  0.0071 Return=  32.0\n"
     ]
    },
    {
     "name": "stderr",
     "output_type": "stream",
     "text": [
      "Episode 111:  22%|███████████▊                                         | 111/500"
     ]
    },
    {
     "name": "stdout",
     "output_type": "stream",
     "text": [
      "Actor loss=  2.6951 Critic loss=  3.1791 Return=  40.0\n"
     ]
    },
    {
     "name": "stderr",
     "output_type": "stream",
     "text": [
      "Episode 112:  22%|███████████▊                                         | 112/500"
     ]
    },
    {
     "name": "stdout",
     "output_type": "stream",
     "text": [
      "Actor loss=  1.3484 Critic loss=  40.4018 Return=  85.0\n"
     ]
    },
    {
     "name": "stderr",
     "output_type": "stream",
     "text": [
      "Episode 113:  23%|███████████▉                                         | 113/500"
     ]
    },
    {
     "name": "stdout",
     "output_type": "stream",
     "text": [
      "Actor loss=  0.0381 Critic loss=  0.0199 Return=  64.0\n"
     ]
    },
    {
     "name": "stderr",
     "output_type": "stream",
     "text": [
      "Episode 114:  23%|████████████                                         | 114/500"
     ]
    },
    {
     "name": "stdout",
     "output_type": "stream",
     "text": [
      "Actor loss=  -3.8717 Critic loss=  9.5334 Return=  237.0\n"
     ]
    },
    {
     "name": "stderr",
     "output_type": "stream",
     "text": [
      "Episode 115:  23%|████████████▏                                        | 115/500"
     ]
    },
    {
     "name": "stdout",
     "output_type": "stream",
     "text": [
      "Actor loss=  2.4972 Critic loss=  26.0253 Return=  172.0\n"
     ]
    },
    {
     "name": "stderr",
     "output_type": "stream",
     "text": [
      "Episode 116:  23%|████████████▎                                        | 116/500"
     ]
    },
    {
     "name": "stdout",
     "output_type": "stream",
     "text": [
      "Actor loss=  0.3259 Critic loss=  1.1952 Return=  237.0\n"
     ]
    },
    {
     "name": "stderr",
     "output_type": "stream",
     "text": [
      "Episode 117:  23%|████████████▍                                        | 117/500"
     ]
    },
    {
     "name": "stdout",
     "output_type": "stream",
     "text": [
      "Actor loss=  0.1407 Critic loss=  1.2966 Return=  79.0\n"
     ]
    },
    {
     "name": "stderr",
     "output_type": "stream",
     "text": [
      "Episode 118:  24%|████████████▌                                        | 118/500"
     ]
    },
    {
     "name": "stdout",
     "output_type": "stream",
     "text": [
      "Actor loss=  -5.3055 Critic loss=  56.4854 Return=  219.0\n"
     ]
    },
    {
     "name": "stderr",
     "output_type": "stream",
     "text": [
      "Episode 119:  24%|████████████▌                                        | 119/500"
     ]
    },
    {
     "name": "stdout",
     "output_type": "stream",
     "text": [
      "Actor loss=  0.418 Critic loss=  8.6515 Return=  199.0\n"
     ]
    },
    {
     "name": "stderr",
     "output_type": "stream",
     "text": [
      "Episode 120:  24%|████████████▋                                        | 120/500"
     ]
    },
    {
     "name": "stdout",
     "output_type": "stream",
     "text": [
      "Actor loss=  4.1386 Critic loss=  9.0453 Return=  138.0\n"
     ]
    },
    {
     "name": "stderr",
     "output_type": "stream",
     "text": [
      "Episode 121:  24%|████████████▊                                        | 121/500"
     ]
    },
    {
     "name": "stdout",
     "output_type": "stream",
     "text": [
      "Actor loss=  0.0515 Critic loss=  0.3759 Return=  109.0\n"
     ]
    },
    {
     "name": "stderr",
     "output_type": "stream",
     "text": [
      "Episode 122:  24%|████████████▉                                        | 122/500"
     ]
    },
    {
     "name": "stdout",
     "output_type": "stream",
     "text": [
      "Actor loss=  0.078 Critic loss=  0.035 Return=  119.0\n"
     ]
    },
    {
     "name": "stderr",
     "output_type": "stream",
     "text": [
      "Episode 123:  25%|█████████████                                        | 123/500"
     ]
    },
    {
     "name": "stdout",
     "output_type": "stream",
     "text": [
      "Actor loss=  -0.0134 Critic loss=  0.014 Return=  104.0\n"
     ]
    },
    {
     "name": "stderr",
     "output_type": "stream",
     "text": [
      "Episode 124:  25%|█████████████▏                                       | 124/500"
     ]
    },
    {
     "name": "stdout",
     "output_type": "stream",
     "text": [
      "Actor loss=  -0.0538 Critic loss=  0.5363 Return=  96.0\n"
     ]
    },
    {
     "name": "stderr",
     "output_type": "stream",
     "text": [
      "Episode 125:  25%|█████████████▎                                       | 125/500"
     ]
    },
    {
     "name": "stdout",
     "output_type": "stream",
     "text": [
      "Actor loss=  -0.0491 Critic loss=  0.4308 Return=  75.0\n"
     ]
    },
    {
     "name": "stderr",
     "output_type": "stream",
     "text": [
      "Episode 126:  25%|█████████████▎                                       | 126/500"
     ]
    },
    {
     "name": "stdout",
     "output_type": "stream",
     "text": [
      "Actor loss=  -0.0478 Critic loss=  0.2083 Return=  59.0\n"
     ]
    },
    {
     "name": "stderr",
     "output_type": "stream",
     "text": [
      "Episode 127:  25%|█████████████▍                                       | 127/500"
     ]
    },
    {
     "name": "stdout",
     "output_type": "stream",
     "text": [
      "Actor loss=  -0.0358 Critic loss=  0.0767 Return=  53.0\n"
     ]
    },
    {
     "name": "stderr",
     "output_type": "stream",
     "text": [
      "Episode 128:  26%|█████████████▌                                       | 128/500"
     ]
    },
    {
     "name": "stdout",
     "output_type": "stream",
     "text": [
      "Actor loss=  -0.027 Critic loss=  0.5545 Return=  61.0\n"
     ]
    },
    {
     "name": "stderr",
     "output_type": "stream",
     "text": [
      "Episode 129:  26%|█████████████▋                                       | 129/500"
     ]
    },
    {
     "name": "stdout",
     "output_type": "stream",
     "text": [
      "Actor loss=  0.0127 Critic loss=  0.0523 Return=  254.0\n"
     ]
    },
    {
     "name": "stderr",
     "output_type": "stream",
     "text": [
      "Episode 130:  26%|█████████████▊                                       | 130/500"
     ]
    },
    {
     "name": "stdout",
     "output_type": "stream",
     "text": [
      "Actor loss=  -0.0088 Critic loss=  1.7016 Return=  116.0\n"
     ]
    },
    {
     "name": "stderr",
     "output_type": "stream",
     "text": [
      "Episode 131:  26%|█████████████▉                                       | 131/500"
     ]
    },
    {
     "name": "stdout",
     "output_type": "stream",
     "text": [
      "Actor loss=  -0.3904 Critic loss=  22.5268 Return=  38.0\n"
     ]
    },
    {
     "name": "stderr",
     "output_type": "stream",
     "text": [
      "Episode 132:  26%|█████████████▉                                       | 132/500"
     ]
    },
    {
     "name": "stdout",
     "output_type": "stream",
     "text": [
      "Actor loss=  -0.7631 Critic loss=  8.6939 Return=  36.0\n"
     ]
    },
    {
     "name": "stderr",
     "output_type": "stream",
     "text": [
      "Episode 133:  27%|██████████████                                       | 133/500"
     ]
    },
    {
     "name": "stdout",
     "output_type": "stream",
     "text": [
      "Actor loss=  -0.1421 Critic loss=  3.9999 Return=  31.0\n"
     ]
    },
    {
     "name": "stderr",
     "output_type": "stream",
     "text": [
      "Episode 135:  27%|██████████████▏                                      | 134/500"
     ]
    },
    {
     "name": "stdout",
     "output_type": "stream",
     "text": [
      "Actor loss=  -0.0772 Critic loss=  3.2768 Return=  28.0\n",
      "Actor loss=  -0.0913 Critic loss=  0.4736 Return=  27.0\n"
     ]
    },
    {
     "name": "stderr",
     "output_type": "stream",
     "text": [
      "Episode 137:  27%|██████████████▌                                      | 137/500"
     ]
    },
    {
     "name": "stdout",
     "output_type": "stream",
     "text": [
      "Actor loss=  -0.227 Critic loss=  2.2232 Return=  20.0\n",
      "Actor loss=  -0.4551 Critic loss=  1.5274 Return=  20.0\n"
     ]
    },
    {
     "name": "stderr",
     "output_type": "stream",
     "text": [
      "Episode 139:  28%|██████████████▋                                      | 139/500"
     ]
    },
    {
     "name": "stdout",
     "output_type": "stream",
     "text": [
      "Actor loss=  -0.0454 Critic loss=  0.867 Return=  18.0\n",
      "Actor loss=  -0.2988 Critic loss=  0.855 Return=  15.0\n"
     ]
    },
    {
     "name": "stderr",
     "output_type": "stream",
     "text": [
      "Episode 140:  28%|██████████████▊                                      | 140/500"
     ]
    },
    {
     "name": "stdout",
     "output_type": "stream",
     "text": [
      "Actor loss=  -0.0528 Critic loss=  0.034 Return=  17.0\n"
     ]
    },
    {
     "name": "stderr",
     "output_type": "stream",
     "text": [
      "Episode 142:  28%|██████████████▉                                      | 141/500"
     ]
    },
    {
     "name": "stdout",
     "output_type": "stream",
     "text": [
      "Actor loss=  0.1764 Critic loss=  0.3827 Return=  21.0\n",
      "Actor loss=  0.058 Critic loss=  0.9966 Return=  26.0\n"
     ]
    },
    {
     "name": "stderr",
     "output_type": "stream",
     "text": [
      "Episode 144:  29%|███████████████▎                                     | 144/500"
     ]
    },
    {
     "name": "stdout",
     "output_type": "stream",
     "text": [
      "Actor loss=  -0.0036 Critic loss=  0.011 Return=  21.0\n",
      "Actor loss=  0.0003 Critic loss=  0.0 Return=  21.0\n"
     ]
    },
    {
     "name": "stderr",
     "output_type": "stream",
     "text": [
      "Episode 146:  29%|███████████████▍                                     | 146/500"
     ]
    },
    {
     "name": "stdout",
     "output_type": "stream",
     "text": [
      "Actor loss=  -0.0543 Critic loss=  0.1618 Return=  19.0\n",
      "Actor loss=  -0.0501 Critic loss=  0.2645 Return=  16.0\n"
     ]
    },
    {
     "name": "stderr",
     "output_type": "stream",
     "text": [
      "Episode 148:  30%|███████████████▋                                     | 148/500"
     ]
    },
    {
     "name": "stdout",
     "output_type": "stream",
     "text": [
      "Actor loss=  0.0486 Critic loss=  0.0736 Return=  19.0\n",
      "Actor loss=  0.7012 Critic loss=  0.3664 Return=  20.0\n"
     ]
    },
    {
     "name": "stderr",
     "output_type": "stream",
     "text": [
      "Episode 150:  30%|███████████████▉                                     | 150/500"
     ]
    },
    {
     "name": "stdout",
     "output_type": "stream",
     "text": [
      "Actor loss=  -0.0272 Critic loss=  0.058 Return=  19.0\n",
      "Actor loss=  0.0858 Critic loss=  0.023 Return=  20.0\n"
     ]
    },
    {
     "name": "stderr",
     "output_type": "stream",
     "text": [
      "Episode 151:  30%|████████████████                                     | 151/500"
     ]
    },
    {
     "name": "stdout",
     "output_type": "stream",
     "text": [
      "Actor loss=  -0.0435 Critic loss=  0.3121 Return=  16.0\n"
     ]
    },
    {
     "name": "stderr",
     "output_type": "stream",
     "text": [
      "Episode 153:  30%|████████████████                                     | 152/500"
     ]
    },
    {
     "name": "stdout",
     "output_type": "stream",
     "text": [
      "Actor loss=  0.2986 Critic loss=  0.8198 Return=  22.0\n",
      "Actor loss=  0.0542 Critic loss=  0.021 Return=  20.0\n"
     ]
    },
    {
     "name": "stderr",
     "output_type": "stream",
     "text": [
      "Episode 155:  31%|████████████████▎                                    | 154/500"
     ]
    },
    {
     "name": "stdout",
     "output_type": "stream",
     "text": [
      "Actor loss=  0.084 Critic loss=  0.8065 Return=  24.0\n",
      "Actor loss=  0.7349 Critic loss=  0.5191 Return=  27.0\n"
     ]
    },
    {
     "name": "stderr",
     "output_type": "stream",
     "text": [
      "Episode 157:  31%|████████████████▌                                    | 156/500"
     ]
    },
    {
     "name": "stdout",
     "output_type": "stream",
     "text": [
      "Actor loss=  0.0163 Critic loss=  0.4183 Return=  30.0\n",
      "Actor loss=  -0.8326 Critic loss=  0.1345 Return=  26.0\n"
     ]
    },
    {
     "name": "stderr",
     "output_type": "stream",
     "text": [
      "Episode 159:  32%|████████████████▊                                    | 159/500"
     ]
    },
    {
     "name": "stdout",
     "output_type": "stream",
     "text": [
      "Actor loss=  0.0165 Critic loss=  0.2202 Return=  28.0\n",
      "Actor loss=  -0.2662 Critic loss=  0.6045 Return=  23.0\n"
     ]
    },
    {
     "name": "stderr",
     "output_type": "stream",
     "text": [
      "Episode 160:  32%|████████████████▉                                    | 160/500"
     ]
    },
    {
     "name": "stdout",
     "output_type": "stream",
     "text": [
      "Actor loss=  0.09 Critic loss=  4.4137 Return=  33.0\n"
     ]
    },
    {
     "name": "stderr",
     "output_type": "stream",
     "text": [
      "Episode 161:  32%|█████████████████                                    | 161/500"
     ]
    },
    {
     "name": "stdout",
     "output_type": "stream",
     "text": [
      "Actor loss=  0.015 Critic loss=  2.7022 Return=  39.0\n"
     ]
    },
    {
     "name": "stderr",
     "output_type": "stream",
     "text": [
      "Episode 162:  32%|█████████████████▏                                   | 162/500"
     ]
    },
    {
     "name": "stdout",
     "output_type": "stream",
     "text": [
      "Actor loss=  5.0967 Critic loss=  10.4594 Return=  50.0\n"
     ]
    },
    {
     "name": "stderr",
     "output_type": "stream",
     "text": [
      "Episode 164:  33%|█████████████████▎                                   | 163/500"
     ]
    },
    {
     "name": "stdout",
     "output_type": "stream",
     "text": [
      "Actor loss=  -1.7697 Critic loss=  2.7647 Return=  32.0\n",
      "Actor loss=  -3.143 Critic loss=  4.2329 Return=  27.0\n"
     ]
    },
    {
     "name": "stderr",
     "output_type": "stream",
     "text": [
      "Episode 165:  33%|█████████████████▍                                   | 165/500"
     ]
    },
    {
     "name": "stdout",
     "output_type": "stream",
     "text": [
      "Actor loss=  0.0051 Critic loss=  0.0359 Return=  33.0\n"
     ]
    },
    {
     "name": "stderr",
     "output_type": "stream",
     "text": [
      "Episode 166:  33%|█████████████████▌                                   | 166/500"
     ]
    },
    {
     "name": "stdout",
     "output_type": "stream",
     "text": [
      "Actor loss=  -0.2524 Critic loss=  0.4388 Return=  28.0\n"
     ]
    },
    {
     "name": "stderr",
     "output_type": "stream",
     "text": [
      "Episode 167:  33%|█████████████████▋                                   | 167/500"
     ]
    },
    {
     "name": "stdout",
     "output_type": "stream",
     "text": [
      "Actor loss=  0.1249 Critic loss=  2.8833 Return=  36.0\n"
     ]
    },
    {
     "name": "stderr",
     "output_type": "stream",
     "text": [
      "Episode 168:  34%|█████████████████▊                                   | 168/500"
     ]
    },
    {
     "name": "stdout",
     "output_type": "stream",
     "text": [
      "Actor loss=  0.4635 Critic loss=  10.6658 Return=  54.0\n"
     ]
    },
    {
     "name": "stderr",
     "output_type": "stream",
     "text": [
      "Episode 169:  34%|█████████████████▉                                   | 169/500"
     ]
    },
    {
     "name": "stdout",
     "output_type": "stream",
     "text": [
      "Actor loss=  0.0193 Critic loss=  1.3011 Return=  55.0\n"
     ]
    },
    {
     "name": "stderr",
     "output_type": "stream",
     "text": [
      "Episode 170:  34%|██████████████████                                   | 170/500"
     ]
    },
    {
     "name": "stdout",
     "output_type": "stream",
     "text": [
      "Actor loss=  0.008 Critic loss=  0.7362 Return=  53.0\n"
     ]
    },
    {
     "name": "stderr",
     "output_type": "stream",
     "text": [
      "Episode 171:  34%|██████████████████▏                                  | 171/500"
     ]
    },
    {
     "name": "stdout",
     "output_type": "stream",
     "text": [
      "Actor loss=  2.0245 Critic loss=  0.7368 Return=  52.0\n"
     ]
    },
    {
     "name": "stderr",
     "output_type": "stream",
     "text": [
      "Episode 172:  34%|██████████████████▏                                  | 172/500"
     ]
    },
    {
     "name": "stdout",
     "output_type": "stream",
     "text": [
      "Actor loss=  0.0015 Critic loss=  0.0034 Return=  53.0\n"
     ]
    },
    {
     "name": "stderr",
     "output_type": "stream",
     "text": [
      "Episode 173:  35%|██████████████████▎                                  | 173/500"
     ]
    },
    {
     "name": "stdout",
     "output_type": "stream",
     "text": [
      "Actor loss=  -0.0379 Critic loss=  0.0055 Return=  48.0\n"
     ]
    },
    {
     "name": "stderr",
     "output_type": "stream",
     "text": [
      "Episode 174:  35%|██████████████████▍                                  | 174/500"
     ]
    },
    {
     "name": "stdout",
     "output_type": "stream",
     "text": [
      "Actor loss=  0.0327 Critic loss=  2.2834 Return=  56.0\n"
     ]
    },
    {
     "name": "stderr",
     "output_type": "stream",
     "text": [
      "Episode 175:  35%|██████████████████▌                                  | 175/500"
     ]
    },
    {
     "name": "stdout",
     "output_type": "stream",
     "text": [
      "Actor loss=  0.6231 Critic loss=  4.0406 Return=  68.0\n"
     ]
    },
    {
     "name": "stderr",
     "output_type": "stream",
     "text": [
      "Episode 176:  35%|██████████████████▋                                  | 176/500"
     ]
    },
    {
     "name": "stdout",
     "output_type": "stream",
     "text": [
      "Actor loss=  0.1195 Critic loss=  1.0048 Return=  70.0\n"
     ]
    },
    {
     "name": "stderr",
     "output_type": "stream",
     "text": [
      "Episode 177:  35%|██████████████████▊                                  | 177/500"
     ]
    },
    {
     "name": "stdout",
     "output_type": "stream",
     "text": [
      "Actor loss=  0.0618 Critic loss=  0.0115 Return=  80.0\n"
     ]
    },
    {
     "name": "stderr",
     "output_type": "stream",
     "text": [
      "Episode 178:  36%|██████████████████▊                                  | 178/500"
     ]
    },
    {
     "name": "stdout",
     "output_type": "stream",
     "text": [
      "Actor loss=  -0.001 Critic loss=  1.0457 Return=  69.0\n"
     ]
    },
    {
     "name": "stderr",
     "output_type": "stream",
     "text": [
      "Episode 179:  36%|██████████████████▉                                  | 179/500"
     ]
    },
    {
     "name": "stdout",
     "output_type": "stream",
     "text": [
      "Actor loss=  -0.0041 Critic loss=  0.9148 Return=  55.0\n"
     ]
    },
    {
     "name": "stderr",
     "output_type": "stream",
     "text": [
      "Episode 180:  36%|███████████████████                                  | 180/500"
     ]
    },
    {
     "name": "stdout",
     "output_type": "stream",
     "text": [
      "Actor loss=  -0.9393 Critic loss=  1.5497 Return=  48.0\n"
     ]
    },
    {
     "name": "stderr",
     "output_type": "stream",
     "text": [
      "Episode 181:  36%|███████████████████▏                                 | 181/500"
     ]
    },
    {
     "name": "stdout",
     "output_type": "stream",
     "text": [
      "Actor loss=  0.1346 Critic loss=  1.7908 Return=  54.0\n"
     ]
    },
    {
     "name": "stderr",
     "output_type": "stream",
     "text": [
      "Episode 183:  36%|███████████████████▎                                 | 182/500"
     ]
    },
    {
     "name": "stdout",
     "output_type": "stream",
     "text": [
      "Actor loss=  -0.0148 Critic loss=  12.3982 Return=  37.0\n",
      "Actor loss=  -1.126 Critic loss=  15.3303 Return=  23.0\n"
     ]
    },
    {
     "name": "stderr",
     "output_type": "stream",
     "text": [
      "Episode 185:  37%|███████████████████▌                                 | 185/500"
     ]
    },
    {
     "name": "stdout",
     "output_type": "stream",
     "text": [
      "Actor loss=  -0.4186 Critic loss=  6.7356 Return=  22.0\n",
      "Actor loss=  -0.2167 Critic loss=  1.3097 Return=  22.0\n"
     ]
    },
    {
     "name": "stderr",
     "output_type": "stream",
     "text": [
      "Episode 187:  37%|███████████████████▋                                 | 186/500"
     ]
    },
    {
     "name": "stdout",
     "output_type": "stream",
     "text": [
      "Actor loss=  -0.0282 Critic loss=  3.3697 Return=  17.0\n",
      "Actor loss=  0.0169 Critic loss=  0.0027 Return=  21.0\n"
     ]
    },
    {
     "name": "stderr",
     "output_type": "stream",
     "text": [
      "Episode 189:  38%|███████████████████▉                                 | 188/500"
     ]
    },
    {
     "name": "stdout",
     "output_type": "stream",
     "text": [
      "Actor loss=  0.0934 Critic loss=  2.8947 Return=  26.0\n",
      "Actor loss=  -2.6073 Critic loss=  0.7824 Return=  19.0\n"
     ]
    },
    {
     "name": "stderr",
     "output_type": "stream",
     "text": [
      "Episode 191:  38%|████████████████████▏                                | 190/500"
     ]
    },
    {
     "name": "stdout",
     "output_type": "stream",
     "text": [
      "Actor loss=  0.3756 Critic loss=  0.262 Return=  25.0\n",
      "Actor loss=  0.0319 Critic loss=  0.2365 Return=  24.0\n"
     ]
    },
    {
     "name": "stderr",
     "output_type": "stream",
     "text": [
      "Episode 192:  38%|████████████████████▎                                | 192/500"
     ]
    },
    {
     "name": "stdout",
     "output_type": "stream",
     "text": [
      "Actor loss=  0.0865 Critic loss=  5.9127 Return=  33.0\n"
     ]
    },
    {
     "name": "stderr",
     "output_type": "stream",
     "text": [
      "Episode 193:  39%|████████████████████▍                                | 193/500"
     ]
    },
    {
     "name": "stdout",
     "output_type": "stream",
     "text": [
      "Actor loss=  3.6504 Critic loss=  17.7027 Return=  44.0\n"
     ]
    },
    {
     "name": "stderr",
     "output_type": "stream",
     "text": [
      "Episode 194:  39%|████████████████████▌                                | 194/500"
     ]
    },
    {
     "name": "stdout",
     "output_type": "stream",
     "text": [
      "Actor loss=  1.7204 Critic loss=  38.7534 Return=  61.0\n"
     ]
    },
    {
     "name": "stderr",
     "output_type": "stream",
     "text": [
      "Episode 195:  39%|████████████████████▋                                | 195/500"
     ]
    },
    {
     "name": "stdout",
     "output_type": "stream",
     "text": [
      "Actor loss=  0.5374 Critic loss=  28.8262 Return=  170.0\n"
     ]
    },
    {
     "name": "stderr",
     "output_type": "stream",
     "text": [
      "Episode 196:  39%|████████████████████▊                                | 196/500"
     ]
    },
    {
     "name": "stdout",
     "output_type": "stream",
     "text": [
      "Actor loss=  0.0336 Critic loss=  4.2166 Return=  160.0\n"
     ]
    },
    {
     "name": "stderr",
     "output_type": "stream",
     "text": [
      "Episode 197:  39%|████████████████████▉                                | 197/500"
     ]
    },
    {
     "name": "stdout",
     "output_type": "stream",
     "text": [
      "Actor loss=  -0.0926 Critic loss=  5.3371 Return=  86.0\n"
     ]
    },
    {
     "name": "stderr",
     "output_type": "stream",
     "text": [
      "Episode 198:  40%|████████████████████▉                                | 198/500"
     ]
    },
    {
     "name": "stdout",
     "output_type": "stream",
     "text": [
      "Actor loss=  -0.2205 Critic loss=  19.7077 Return=  42.0\n"
     ]
    },
    {
     "name": "stderr",
     "output_type": "stream",
     "text": [
      "Episode 199:  40%|█████████████████████                                | 199/500"
     ]
    },
    {
     "name": "stdout",
     "output_type": "stream",
     "text": [
      "Actor loss=  -0.0764 Critic loss=  6.5829 Return=  35.0\n"
     ]
    },
    {
     "name": "stderr",
     "output_type": "stream",
     "text": [
      "Episode 200:  40%|█████████████████████▏                               | 200/500"
     ]
    },
    {
     "name": "stdout",
     "output_type": "stream",
     "text": [
      "Actor loss=  0.5884 Critic loss=  0.0773 Return=  44.0\n"
     ]
    },
    {
     "name": "stderr",
     "output_type": "stream",
     "text": [
      "Episode 201:  40%|█████████████████████▎                               | 201/500"
     ]
    },
    {
     "name": "stdout",
     "output_type": "stream",
     "text": [
      "Actor loss=  0.0236 Critic loss=  0.2534 Return=  64.0\n"
     ]
    },
    {
     "name": "stderr",
     "output_type": "stream",
     "text": [
      "Episode 202:  40%|█████████████████████▍                               | 202/500"
     ]
    },
    {
     "name": "stdout",
     "output_type": "stream",
     "text": [
      "Actor loss=  0.1024 Critic loss=  19.7371 Return=  125.0\n"
     ]
    },
    {
     "name": "stderr",
     "output_type": "stream",
     "text": [
      "Episode 203:  41%|█████████████████████▌                               | 203/500"
     ]
    },
    {
     "name": "stdout",
     "output_type": "stream",
     "text": [
      "Actor loss=  0.7516 Critic loss=  11.0574 Return=  154.0\n"
     ]
    },
    {
     "name": "stderr",
     "output_type": "stream",
     "text": [
      "Episode 204:  41%|█████████████████████▌                               | 204/500"
     ]
    },
    {
     "name": "stdout",
     "output_type": "stream",
     "text": [
      "Actor loss=  -7.3464 Critic loss=  200.3187 Return=  313.0\n"
     ]
    },
    {
     "name": "stderr",
     "output_type": "stream",
     "text": [
      "Episode 205:  41%|█████████████████████▋                               | 205/500"
     ]
    },
    {
     "name": "stdout",
     "output_type": "stream",
     "text": [
      "Actor loss=  -0.1158 Critic loss=  73.3092 Return=  160.0\n"
     ]
    },
    {
     "name": "stderr",
     "output_type": "stream",
     "text": [
      "Episode 206:  41%|█████████████████████▊                               | 206/500"
     ]
    },
    {
     "name": "stdout",
     "output_type": "stream",
     "text": [
      "Actor loss=  -1.3518 Critic loss=  86.9715 Return=  500.0\n"
     ]
    },
    {
     "name": "stderr",
     "output_type": "stream",
     "text": [
      "Episode 207:  41%|█████████████████████▉                               | 207/500"
     ]
    },
    {
     "name": "stdout",
     "output_type": "stream",
     "text": [
      "Actor loss=  -0.0512 Critic loss=  70.5574 Return=  127.0\n"
     ]
    },
    {
     "name": "stderr",
     "output_type": "stream",
     "text": [
      "Episode 208:  42%|██████████████████████                               | 208/500"
     ]
    },
    {
     "name": "stdout",
     "output_type": "stream",
     "text": [
      "Actor loss=  0.0358 Critic loss=  0.0052 Return=  445.0\n"
     ]
    },
    {
     "name": "stderr",
     "output_type": "stream",
     "text": [
      "Episode 209:  42%|██████████████████████▏                              | 209/500"
     ]
    },
    {
     "name": "stdout",
     "output_type": "stream",
     "text": [
      "Actor loss=  -0.2781 Critic loss=  20.386 Return=  401.0\n"
     ]
    },
    {
     "name": "stderr",
     "output_type": "stream",
     "text": [
      "Episode 210:  42%|██████████████████████▎                              | 210/500"
     ]
    },
    {
     "name": "stdout",
     "output_type": "stream",
     "text": [
      "Actor loss=  -0.1446 Critic loss=  1.0857 Return=  247.0\n"
     ]
    },
    {
     "name": "stderr",
     "output_type": "stream",
     "text": [
      "Episode 211:  42%|██████████████████████▎                              | 211/500"
     ]
    },
    {
     "name": "stdout",
     "output_type": "stream",
     "text": [
      "Actor loss=  -0.1034 Critic loss=  1.447 Return=  283.0\n"
     ]
    },
    {
     "name": "stderr",
     "output_type": "stream",
     "text": [
      "Episode 212:  42%|██████████████████████▍                              | 212/500"
     ]
    },
    {
     "name": "stdout",
     "output_type": "stream",
     "text": [
      "Actor loss=  -0.0702 Critic loss=  0.0869 Return=  106.0\n"
     ]
    },
    {
     "name": "stderr",
     "output_type": "stream",
     "text": [
      "Episode 213:  43%|██████████████████████▌                              | 213/500"
     ]
    },
    {
     "name": "stdout",
     "output_type": "stream",
     "text": [
      "Actor loss=  11.5085 Critic loss=  29.1034 Return=  268.0\n"
     ]
    },
    {
     "name": "stderr",
     "output_type": "stream",
     "text": [
      "Episode 214:  43%|██████████████████████▋                              | 214/500"
     ]
    },
    {
     "name": "stdout",
     "output_type": "stream",
     "text": [
      "Actor loss=  -11.4709 Critic loss=  160.3095 Return=  500.0\n"
     ]
    },
    {
     "name": "stderr",
     "output_type": "stream",
     "text": [
      "Episode 215:  43%|██████████████████████▊                              | 215/500"
     ]
    },
    {
     "name": "stdout",
     "output_type": "stream",
     "text": [
      "Actor loss=  -0.0272 Critic loss=  14.9829 Return=  147.0\n"
     ]
    },
    {
     "name": "stderr",
     "output_type": "stream",
     "text": [
      "Episode 216:  43%|██████████████████████▉                              | 216/500"
     ]
    },
    {
     "name": "stdout",
     "output_type": "stream",
     "text": [
      "Actor loss=  0.0718 Critic loss=  0.106 Return=  249.0\n"
     ]
    },
    {
     "name": "stderr",
     "output_type": "stream",
     "text": [
      "Episode 217:  43%|███████████████████████                              | 217/500"
     ]
    },
    {
     "name": "stdout",
     "output_type": "stream",
     "text": [
      "Actor loss=  -4.2847 Critic loss=  23.2699 Return=  216.0\n"
     ]
    },
    {
     "name": "stderr",
     "output_type": "stream",
     "text": [
      "Episode 218:  44%|███████████████████████                              | 218/500"
     ]
    },
    {
     "name": "stdout",
     "output_type": "stream",
     "text": [
      "Actor loss=  -0.0207 Critic loss=  4.2932 Return=  500.0\n"
     ]
    },
    {
     "name": "stderr",
     "output_type": "stream",
     "text": [
      "Episode 219:  44%|███████████████████████▏                             | 219/500"
     ]
    },
    {
     "name": "stdout",
     "output_type": "stream",
     "text": [
      "Actor loss=  -0.7702 Critic loss=  13.8968 Return=  500.0\n"
     ]
    },
    {
     "name": "stderr",
     "output_type": "stream",
     "text": [
      "Episode 220:  44%|███████████████████████▎                             | 220/500"
     ]
    },
    {
     "name": "stdout",
     "output_type": "stream",
     "text": [
      "Actor loss=  -8.6831 Critic loss=  21.7018 Return=  500.0\n"
     ]
    },
    {
     "name": "stderr",
     "output_type": "stream",
     "text": [
      "Episode 221:  44%|███████████████████████▍                             | 221/500"
     ]
    },
    {
     "name": "stdout",
     "output_type": "stream",
     "text": [
      "Actor loss=  -0.0007 Critic loss=  0.719 Return=  143.0\n"
     ]
    },
    {
     "name": "stderr",
     "output_type": "stream",
     "text": [
      "Episode 222:  44%|███████████████████████▌                             | 222/500"
     ]
    },
    {
     "name": "stdout",
     "output_type": "stream",
     "text": [
      "Actor loss=  -0.0065 Critic loss=  5.8364 Return=  276.0\n"
     ]
    },
    {
     "name": "stderr",
     "output_type": "stream",
     "text": [
      "Episode 223:  45%|███████████████████████▋                             | 223/500"
     ]
    },
    {
     "name": "stdout",
     "output_type": "stream",
     "text": [
      "Actor loss=  1.2418 Critic loss=  1.5493 Return=  115.0\n"
     ]
    },
    {
     "name": "stderr",
     "output_type": "stream",
     "text": [
      "Episode 224:  45%|███████████████████████▋                             | 224/500"
     ]
    },
    {
     "name": "stdout",
     "output_type": "stream",
     "text": [
      "Actor loss=  -0.4424 Critic loss=  44.1539 Return=  52.0\n"
     ]
    },
    {
     "name": "stderr",
     "output_type": "stream",
     "text": [
      "Episode 225:  45%|███████████████████████▊                             | 225/500"
     ]
    },
    {
     "name": "stdout",
     "output_type": "stream",
     "text": [
      "Actor loss=  -0.5602 Critic loss=  8.1147 Return=  49.0\n"
     ]
    },
    {
     "name": "stderr",
     "output_type": "stream",
     "text": [
      "Episode 226:  45%|███████████████████████▉                             | 226/500"
     ]
    },
    {
     "name": "stdout",
     "output_type": "stream",
     "text": [
      "Actor loss=  -0.0112 Critic loss=  11.9535 Return=  36.0\n"
     ]
    },
    {
     "name": "stderr",
     "output_type": "stream",
     "text": [
      "Episode 227:  45%|████████████████████████                             | 227/500"
     ]
    },
    {
     "name": "stdout",
     "output_type": "stream",
     "text": [
      "Actor loss=  -0.0214 Critic loss=  3.6236 Return=  34.0\n"
     ]
    },
    {
     "name": "stderr",
     "output_type": "stream",
     "text": [
      "Episode 228:  46%|████████████████████████▏                            | 228/500"
     ]
    },
    {
     "name": "stdout",
     "output_type": "stream",
     "text": [
      "Actor loss=  0.0047 Critic loss=  0.0106 Return=  37.0\n"
     ]
    },
    {
     "name": "stderr",
     "output_type": "stream",
     "text": [
      "Episode 229:  46%|████████████████████████▎                            | 229/500"
     ]
    },
    {
     "name": "stdout",
     "output_type": "stream",
     "text": [
      "Actor loss=  -0.2248 Critic loss=  3.3149 Return=  30.0\n"
     ]
    },
    {
     "name": "stderr",
     "output_type": "stream",
     "text": [
      "Episode 230:  46%|████████████████████████▍                            | 230/500"
     ]
    },
    {
     "name": "stdout",
     "output_type": "stream",
     "text": [
      "Actor loss=  0.0107 Critic loss=  6.0061 Return=  43.0\n"
     ]
    },
    {
     "name": "stderr",
     "output_type": "stream",
     "text": [
      "Episode 231:  46%|████████████████████████▍                            | 231/500"
     ]
    },
    {
     "name": "stdout",
     "output_type": "stream",
     "text": [
      "Actor loss=  0.0022 Critic loss=  8.5752 Return=  48.0\n"
     ]
    },
    {
     "name": "stderr",
     "output_type": "stream",
     "text": [
      "Episode 232:  46%|████████████████████████▌                            | 232/500"
     ]
    },
    {
     "name": "stdout",
     "output_type": "stream",
     "text": [
      "Actor loss=  -0.0834 Critic loss=  0.4907 Return=  40.0\n"
     ]
    },
    {
     "name": "stderr",
     "output_type": "stream",
     "text": [
      "Episode 233:  47%|████████████████████████▋                            | 233/500"
     ]
    },
    {
     "name": "stdout",
     "output_type": "stream",
     "text": [
      "Actor loss=  -0.0225 Critic loss=  0.0293 Return=  40.0\n"
     ]
    },
    {
     "name": "stderr",
     "output_type": "stream",
     "text": [
      "Episode 234:  47%|████████████████████████▊                            | 234/500"
     ]
    },
    {
     "name": "stdout",
     "output_type": "stream",
     "text": [
      "Actor loss=  0.0025 Critic loss=  3.1687 Return=  48.0\n"
     ]
    },
    {
     "name": "stderr",
     "output_type": "stream",
     "text": [
      "Episode 235:  47%|████████████████████████▉                            | 235/500"
     ]
    },
    {
     "name": "stdout",
     "output_type": "stream",
     "text": [
      "Actor loss=  0.0008 Critic loss=  0.0273 Return=  46.0\n"
     ]
    },
    {
     "name": "stderr",
     "output_type": "stream",
     "text": [
      "Episode 236:  47%|█████████████████████████                            | 236/500"
     ]
    },
    {
     "name": "stdout",
     "output_type": "stream",
     "text": [
      "Actor loss=  -0.0594 Critic loss=  0.0087 Return=  43.0\n"
     ]
    },
    {
     "name": "stderr",
     "output_type": "stream",
     "text": [
      "Episode 237:  47%|█████████████████████████                            | 237/500"
     ]
    },
    {
     "name": "stdout",
     "output_type": "stream",
     "text": [
      "Actor loss=  -0.0012 Critic loss=  2.7895 Return=  40.0\n"
     ]
    },
    {
     "name": "stderr",
     "output_type": "stream",
     "text": [
      "Episode 238:  48%|█████████████████████████▏                           | 238/500"
     ]
    },
    {
     "name": "stdout",
     "output_type": "stream",
     "text": [
      "Actor loss=  0.0601 Critic loss=  0.101 Return=  40.0\n"
     ]
    },
    {
     "name": "stderr",
     "output_type": "stream",
     "text": [
      "Episode 239:  48%|█████████████████████████▎                           | 239/500"
     ]
    },
    {
     "name": "stdout",
     "output_type": "stream",
     "text": [
      "Actor loss=  0.0012 Critic loss=  0.1004 Return=  43.0\n"
     ]
    },
    {
     "name": "stderr",
     "output_type": "stream",
     "text": [
      "Episode 240:  48%|█████████████████████████▍                           | 240/500"
     ]
    },
    {
     "name": "stdout",
     "output_type": "stream",
     "text": [
      "Actor loss=  -0.035 Critic loss=  10.9171 Return=  27.0\n"
     ]
    },
    {
     "name": "stderr",
     "output_type": "stream",
     "text": [
      "Episode 241:  48%|█████████████████████████▌                           | 241/500"
     ]
    },
    {
     "name": "stdout",
     "output_type": "stream",
     "text": [
      "Actor loss=  -0.1195 Critic loss=  0.8716 Return=  30.0\n"
     ]
    },
    {
     "name": "stderr",
     "output_type": "stream",
     "text": [
      "Episode 243:  48%|█████████████████████████▋                           | 242/500"
     ]
    },
    {
     "name": "stdout",
     "output_type": "stream",
     "text": [
      "Actor loss=  -0.0179 Critic loss=  0.7615 Return=  29.0\n",
      "Actor loss=  -0.0032 Critic loss=  2.2766 Return=  25.0\n"
     ]
    },
    {
     "name": "stderr",
     "output_type": "stream",
     "text": [
      "Episode 244:  49%|█████████████████████████▊                           | 244/500"
     ]
    },
    {
     "name": "stdout",
     "output_type": "stream",
     "text": [
      "Actor loss=  0.1012 Critic loss=  4.1744 Return=  34.0\n"
     ]
    },
    {
     "name": "stderr",
     "output_type": "stream",
     "text": [
      "Episode 245:  49%|█████████████████████████▉                           | 245/500"
     ]
    },
    {
     "name": "stdout",
     "output_type": "stream",
     "text": [
      "Actor loss=  0.0245 Critic loss=  0.8456 Return=  32.0\n"
     ]
    },
    {
     "name": "stderr",
     "output_type": "stream",
     "text": [
      "Episode 246:  49%|██████████████████████████                           | 246/500"
     ]
    },
    {
     "name": "stdout",
     "output_type": "stream",
     "text": [
      "Actor loss=  -0.1165 Critic loss=  3.6031 Return=  25.0\n"
     ]
    },
    {
     "name": "stderr",
     "output_type": "stream",
     "text": [
      "Episode 247:  49%|██████████████████████████▏                          | 247/500"
     ]
    },
    {
     "name": "stdout",
     "output_type": "stream",
     "text": [
      "Actor loss=  -1.2325 Critic loss=  0.1661 Return=  27.0\n"
     ]
    },
    {
     "name": "stderr",
     "output_type": "stream",
     "text": [
      "Episode 248:  50%|██████████████████████████▎                          | 248/500"
     ]
    },
    {
     "name": "stdout",
     "output_type": "stream",
     "text": [
      "Actor loss=  0.2259 Critic loss=  0.1519 Return=  28.0\n"
     ]
    },
    {
     "name": "stderr",
     "output_type": "stream",
     "text": [
      "Episode 249:  50%|██████████████████████████▍                          | 249/500"
     ]
    },
    {
     "name": "stdout",
     "output_type": "stream",
     "text": [
      "Actor loss=  0.0002 Critic loss=  0.0001 Return=  29.0\n"
     ]
    },
    {
     "name": "stderr",
     "output_type": "stream",
     "text": [
      "Episode 251:  50%|██████████████████████████▌                          | 250/500"
     ]
    },
    {
     "name": "stdout",
     "output_type": "stream",
     "text": [
      "Actor loss=  0.0068 Critic loss=  1.1325 Return=  31.0\n",
      "Actor loss=  -0.3701 Critic loss=  3.2565 Return=  23.0\n"
     ]
    },
    {
     "name": "stderr",
     "output_type": "stream",
     "text": [
      "Episode 252:  50%|██████████████████████████▋                          | 252/500"
     ]
    },
    {
     "name": "stdout",
     "output_type": "stream",
     "text": [
      "Actor loss=  0.4855 Critic loss=  0.3475 Return=  28.0\n",
      "Actor loss=  -0.0163 Critic loss=  0.0775 Return=  27.0\n"
     ]
    },
    {
     "name": "stderr",
     "output_type": "stream",
     "text": [
      "Episode 254:  51%|██████████████████████████▉                          | 254/500"
     ]
    },
    {
     "name": "stdout",
     "output_type": "stream",
     "text": [
      "Actor loss=  0.282 Critic loss=  0.999 Return=  30.0\n"
     ]
    },
    {
     "name": "stderr",
     "output_type": "stream",
     "text": [
      "Episode 255:  51%|███████████████████████████                          | 255/500"
     ]
    },
    {
     "name": "stdout",
     "output_type": "stream",
     "text": [
      "Actor loss=  0.063 Critic loss=  14.6214 Return=  39.0\n"
     ]
    },
    {
     "name": "stderr",
     "output_type": "stream",
     "text": [
      "Episode 256:  51%|███████████████████████████▏                         | 256/500"
     ]
    },
    {
     "name": "stdout",
     "output_type": "stream",
     "text": [
      "Actor loss=  -0.006 Critic loss=  0.0042 Return=  37.0\n"
     ]
    },
    {
     "name": "stderr",
     "output_type": "stream",
     "text": [
      "Episode 257:  51%|███████████████████████████▏                         | 257/500"
     ]
    },
    {
     "name": "stdout",
     "output_type": "stream",
     "text": [
      "Actor loss=  -0.4813 Critic loss=  0.1053 Return=  35.0\n"
     ]
    },
    {
     "name": "stderr",
     "output_type": "stream",
     "text": [
      "Episode 258:  52%|███████████████████████████▎                         | 258/500"
     ]
    },
    {
     "name": "stdout",
     "output_type": "stream",
     "text": [
      "Actor loss=  1.4356 Critic loss=  2.7405 Return=  40.0\n"
     ]
    },
    {
     "name": "stderr",
     "output_type": "stream",
     "text": [
      "Episode 259:  52%|███████████████████████████▍                         | 259/500"
     ]
    },
    {
     "name": "stdout",
     "output_type": "stream",
     "text": [
      "Actor loss=  -0.8945 Critic loss=  1.9811 Return=  35.0\n"
     ]
    },
    {
     "name": "stderr",
     "output_type": "stream",
     "text": [
      "Episode 260:  52%|███████████████████████████▌                         | 260/500"
     ]
    },
    {
     "name": "stdout",
     "output_type": "stream",
     "text": [
      "Actor loss=  -0.0025 Critic loss=  0.8652 Return=  31.0\n"
     ]
    },
    {
     "name": "stderr",
     "output_type": "stream",
     "text": [
      "Episode 261:  52%|███████████████████████████▋                         | 261/500"
     ]
    },
    {
     "name": "stdout",
     "output_type": "stream",
     "text": [
      "Actor loss=  -0.0561 Critic loss=  3.4771 Return=  27.0\n"
     ]
    },
    {
     "name": "stderr",
     "output_type": "stream",
     "text": [
      "Episode 262:  52%|███████████████████████████▊                         | 262/500"
     ]
    },
    {
     "name": "stdout",
     "output_type": "stream",
     "text": [
      "Actor loss=  -0.0042 Critic loss=  0.0523 Return=  29.0\n"
     ]
    },
    {
     "name": "stderr",
     "output_type": "stream",
     "text": [
      "Episode 263:  53%|███████████████████████████▉                         | 263/500"
     ]
    },
    {
     "name": "stdout",
     "output_type": "stream",
     "text": [
      "Actor loss=  0.0719 Critic loss=  2.0963 Return=  32.0\n"
     ]
    },
    {
     "name": "stderr",
     "output_type": "stream",
     "text": [
      "Episode 264:  53%|███████████████████████████▉                         | 264/500"
     ]
    },
    {
     "name": "stdout",
     "output_type": "stream",
     "text": [
      "Actor loss=  -0.0346 Critic loss=  1.9098 Return=  27.0\n"
     ]
    },
    {
     "name": "stderr",
     "output_type": "stream",
     "text": [
      "Episode 265:  53%|████████████████████████████                         | 265/500"
     ]
    },
    {
     "name": "stdout",
     "output_type": "stream",
     "text": [
      "Actor loss=  0.1797 Critic loss=  1.6073 Return=  31.0\n"
     ]
    },
    {
     "name": "stderr",
     "output_type": "stream",
     "text": [
      "Episode 266:  53%|████████████████████████████▏                        | 266/500"
     ]
    },
    {
     "name": "stdout",
     "output_type": "stream",
     "text": [
      "Actor loss=  0.0141 Critic loss=  0.9644 Return=  36.0\n"
     ]
    },
    {
     "name": "stderr",
     "output_type": "stream",
     "text": [
      "Episode 267:  53%|████████████████████████████▎                        | 267/500"
     ]
    },
    {
     "name": "stdout",
     "output_type": "stream",
     "text": [
      "Actor loss=  -0.0389 Critic loss=  0.3099 Return=  30.0\n"
     ]
    },
    {
     "name": "stderr",
     "output_type": "stream",
     "text": [
      "Episode 268:  54%|████████████████████████████▍                        | 268/500"
     ]
    },
    {
     "name": "stdout",
     "output_type": "stream",
     "text": [
      "Actor loss=  0.0146 Critic loss=  0.1298 Return=  32.0\n"
     ]
    },
    {
     "name": "stderr",
     "output_type": "stream",
     "text": [
      "Episode 269:  54%|████████████████████████████▌                        | 269/500"
     ]
    },
    {
     "name": "stdout",
     "output_type": "stream",
     "text": [
      "Actor loss=  -1.0334 Critic loss=  1.9405 Return=  28.0\n"
     ]
    },
    {
     "name": "stderr",
     "output_type": "stream",
     "text": [
      "Episode 271:  54%|████████████████████████████▌                        | 270/500"
     ]
    },
    {
     "name": "stdout",
     "output_type": "stream",
     "text": [
      "Actor loss=  -0.5004 Critic loss=  3.3744 Return=  25.0\n",
      "Actor loss=  -0.1049 Critic loss=  3.0039 Return=  20.0\n"
     ]
    },
    {
     "name": "stderr",
     "output_type": "stream",
     "text": [
      "Episode 273:  55%|████████████████████████████▉                        | 273/500"
     ]
    },
    {
     "name": "stdout",
     "output_type": "stream",
     "text": [
      "Actor loss=  0.0084 Critic loss=  0.0436 Return=  22.0\n",
      "Actor loss=  -0.0091 Critic loss=  0.0292 Return=  22.0\n"
     ]
    },
    {
     "name": "stderr",
     "output_type": "stream",
     "text": [
      "Episode 275:  55%|█████████████████████████████                        | 274/500"
     ]
    },
    {
     "name": "stdout",
     "output_type": "stream",
     "text": [
      "Actor loss=  -0.0389 Critic loss=  0.0005 Return=  21.0\n",
      "Actor loss=  0.0195 Critic loss=  0.2704 Return=  22.0\n"
     ]
    },
    {
     "name": "stderr",
     "output_type": "stream",
     "text": [
      "Episode 277:  55%|█████████████████████████████▎                       | 277/500"
     ]
    },
    {
     "name": "stdout",
     "output_type": "stream",
     "text": [
      "Actor loss=  -0.0403 Critic loss=  0.1762 Return=  20.0\n",
      "Actor loss=  -0.0238 Critic loss=  0.0473 Return=  21.0\n"
     ]
    },
    {
     "name": "stderr",
     "output_type": "stream",
     "text": [
      "Episode 279:  56%|█████████████████████████████▍                       | 278/500"
     ]
    },
    {
     "name": "stdout",
     "output_type": "stream",
     "text": [
      "Actor loss=  0.6303 Critic loss=  0.2883 Return=  23.0\n",
      "Actor loss=  1.0343 Critic loss=  0.6211 Return=  25.0\n"
     ]
    },
    {
     "name": "stderr",
     "output_type": "stream",
     "text": [
      "Episode 281:  56%|█████████████████████████████▋                       | 280/500"
     ]
    },
    {
     "name": "stdout",
     "output_type": "stream",
     "text": [
      "Actor loss=  -3.2603 Critic loss=  2.3355 Return=  20.0\n",
      "Actor loss=  0.0063 Critic loss=  3.4127 Return=  26.0\n"
     ]
    },
    {
     "name": "stderr",
     "output_type": "stream",
     "text": [
      "Episode 282:  56%|█████████████████████████████▉                       | 282/500"
     ]
    },
    {
     "name": "stdout",
     "output_type": "stream",
     "text": [
      "Actor loss=  0.2623 Critic loss=  10.205 Return=  32.0\n"
     ]
    },
    {
     "name": "stderr",
     "output_type": "stream",
     "text": [
      "Episode 283:  57%|█████████████████████████████▉                       | 283/500"
     ]
    },
    {
     "name": "stdout",
     "output_type": "stream",
     "text": [
      "Actor loss=  -0.008 Critic loss=  1.0713 Return=  29.0\n"
     ]
    },
    {
     "name": "stderr",
     "output_type": "stream",
     "text": [
      "Episode 284:  57%|██████████████████████████████                       | 284/500"
     ]
    },
    {
     "name": "stdout",
     "output_type": "stream",
     "text": [
      "Actor loss=  1.5677 Critic loss=  6.367 Return=  35.0\n"
     ]
    },
    {
     "name": "stderr",
     "output_type": "stream",
     "text": [
      "Episode 285:  57%|██████████████████████████████▏                      | 285/500"
     ]
    },
    {
     "name": "stdout",
     "output_type": "stream",
     "text": [
      "Actor loss=  -0.0423 Critic loss=  0.3492 Return=  32.0\n"
     ]
    },
    {
     "name": "stderr",
     "output_type": "stream",
     "text": [
      "Episode 286:  57%|██████████████████████████████▎                      | 286/500"
     ]
    },
    {
     "name": "stdout",
     "output_type": "stream",
     "text": [
      "Actor loss=  2.0129 Critic loss=  0.3041 Return=  32.0\n"
     ]
    },
    {
     "name": "stderr",
     "output_type": "stream",
     "text": [
      "Episode 287:  57%|██████████████████████████████▍                      | 287/500"
     ]
    },
    {
     "name": "stdout",
     "output_type": "stream",
     "text": [
      "Actor loss=  -0.0052 Critic loss=  0.0042 Return=  30.0\n"
     ]
    },
    {
     "name": "stderr",
     "output_type": "stream",
     "text": [
      "Episode 288:  58%|██████████████████████████████▌                      | 288/500"
     ]
    },
    {
     "name": "stdout",
     "output_type": "stream",
     "text": [
      "Actor loss=  -0.0005 Critic loss=  0.0436 Return=  31.0\n"
     ]
    },
    {
     "name": "stderr",
     "output_type": "stream",
     "text": [
      "Episode 289:  58%|██████████████████████████████▋                      | 289/500"
     ]
    },
    {
     "name": "stdout",
     "output_type": "stream",
     "text": [
      "Actor loss=  -0.0096 Critic loss=  0.7675 Return=  27.0\n"
     ]
    },
    {
     "name": "stderr",
     "output_type": "stream",
     "text": [
      "Episode 290:  58%|██████████████████████████████▋                      | 290/500"
     ]
    },
    {
     "name": "stdout",
     "output_type": "stream",
     "text": [
      "Actor loss=  2.0085 Critic loss=  6.3736 Return=  35.0\n"
     ]
    },
    {
     "name": "stderr",
     "output_type": "stream",
     "text": [
      "Episode 291:  58%|██████████████████████████████▊                      | 291/500"
     ]
    },
    {
     "name": "stdout",
     "output_type": "stream",
     "text": [
      "Actor loss=  6.3534 Critic loss=  45.6742 Return=  50.0\n"
     ]
    },
    {
     "name": "stderr",
     "output_type": "stream",
     "text": [
      "Episode 292:  58%|██████████████████████████████▉                      | 292/500"
     ]
    },
    {
     "name": "stdout",
     "output_type": "stream",
     "text": [
      "Actor loss=  -0.0114 Critic loss=  24.0681 Return=  31.0\n"
     ]
    },
    {
     "name": "stderr",
     "output_type": "stream",
     "text": [
      "Episode 293:  59%|███████████████████████████████                      | 293/500"
     ]
    },
    {
     "name": "stdout",
     "output_type": "stream",
     "text": [
      "Actor loss=  -0.0032 Critic loss=  3.6985 Return=  31.0\n"
     ]
    },
    {
     "name": "stderr",
     "output_type": "stream",
     "text": [
      "Episode 294:  59%|███████████████████████████████▏                     | 294/500"
     ]
    },
    {
     "name": "stdout",
     "output_type": "stream",
     "text": [
      "Actor loss=  -0.0368 Critic loss=  0.0834 Return=  31.0\n"
     ]
    },
    {
     "name": "stderr",
     "output_type": "stream",
     "text": [
      "Episode 295:  59%|███████████████████████████████▎                     | 295/500"
     ]
    },
    {
     "name": "stdout",
     "output_type": "stream",
     "text": [
      "Actor loss=  4.1839 Critic loss=  8.4505 Return=  40.0\n"
     ]
    },
    {
     "name": "stderr",
     "output_type": "stream",
     "text": [
      "Episode 296:  59%|███████████████████████████████▍                     | 296/500"
     ]
    },
    {
     "name": "stdout",
     "output_type": "stream",
     "text": [
      "Actor loss=  0.0133 Critic loss=  84.8141 Return=  68.0\n"
     ]
    },
    {
     "name": "stderr",
     "output_type": "stream",
     "text": [
      "Episode 297:  59%|███████████████████████████████▍                     | 297/500"
     ]
    },
    {
     "name": "stdout",
     "output_type": "stream",
     "text": [
      "Actor loss=  0.0017 Critic loss=  12.1666 Return=  68.0\n"
     ]
    },
    {
     "name": "stderr",
     "output_type": "stream",
     "text": [
      "Episode 298:  60%|███████████████████████████████▌                     | 298/500"
     ]
    },
    {
     "name": "stdout",
     "output_type": "stream",
     "text": [
      "Actor loss=  0.3542 Critic loss=  5.4121 Return=  109.0\n"
     ]
    },
    {
     "name": "stderr",
     "output_type": "stream",
     "text": [
      "Episode 299:  60%|███████████████████████████████▋                     | 299/500"
     ]
    },
    {
     "name": "stdout",
     "output_type": "stream",
     "text": [
      "Actor loss=  -0.1783 Critic loss=  207.8382 Return=  452.0\n"
     ]
    },
    {
     "name": "stderr",
     "output_type": "stream",
     "text": [
      "Episode 300:  60%|███████████████████████████████▊                     | 300/500"
     ]
    },
    {
     "name": "stdout",
     "output_type": "stream",
     "text": [
      "Actor loss=  -0.3918 Critic loss=  148.5822 Return=  500.0\n"
     ]
    },
    {
     "name": "stderr",
     "output_type": "stream",
     "text": [
      "Episode 301:  60%|███████████████████████████████▉                     | 301/500"
     ]
    },
    {
     "name": "stdout",
     "output_type": "stream",
     "text": [
      "Actor loss=  -0.0082 Critic loss=  13.4918 Return=  155.0\n"
     ]
    },
    {
     "name": "stderr",
     "output_type": "stream",
     "text": [
      "Episode 302:  60%|████████████████████████████████                     | 302/500"
     ]
    },
    {
     "name": "stdout",
     "output_type": "stream",
     "text": [
      "Actor loss=  -0.0613 Critic loss=  123.1167 Return=  388.0\n"
     ]
    },
    {
     "name": "stderr",
     "output_type": "stream",
     "text": [
      "Episode 303:  61%|████████████████████████████████                     | 303/500"
     ]
    },
    {
     "name": "stdout",
     "output_type": "stream",
     "text": [
      "Actor loss=  -0.2674 Critic loss=  48.269 Return=  500.0\n"
     ]
    },
    {
     "name": "stderr",
     "output_type": "stream",
     "text": [
      "Episode 304:  61%|████████████████████████████████▏                    | 304/500"
     ]
    },
    {
     "name": "stdout",
     "output_type": "stream",
     "text": [
      "Actor loss=  -0.0231 Critic loss=  6.9135 Return=  391.0\n"
     ]
    },
    {
     "name": "stderr",
     "output_type": "stream",
     "text": [
      "Episode 305:  61%|████████████████████████████████▎                    | 305/500"
     ]
    },
    {
     "name": "stdout",
     "output_type": "stream",
     "text": [
      "Actor loss=  0.0523 Critic loss=  21.2207 Return=  114.0\n"
     ]
    },
    {
     "name": "stderr",
     "output_type": "stream",
     "text": [
      "Episode 306:  61%|████████████████████████████████▍                    | 306/500"
     ]
    },
    {
     "name": "stdout",
     "output_type": "stream",
     "text": [
      "Actor loss=  -0.8394 Critic loss=  13.7648 Return=  126.0\n"
     ]
    },
    {
     "name": "stderr",
     "output_type": "stream",
     "text": [
      "Episode 307:  61%|████████████████████████████████▌                    | 307/500"
     ]
    },
    {
     "name": "stdout",
     "output_type": "stream",
     "text": [
      "Actor loss=  -0.0133 Critic loss=  0.2893 Return=  287.0\n"
     ]
    },
    {
     "name": "stderr",
     "output_type": "stream",
     "text": [
      "Episode 308:  62%|████████████████████████████████▋                    | 308/500"
     ]
    },
    {
     "name": "stdout",
     "output_type": "stream",
     "text": [
      "Actor loss=  0.1067 Critic loss=  21.7517 Return=  98.0\n"
     ]
    },
    {
     "name": "stderr",
     "output_type": "stream",
     "text": [
      "Episode 309:  62%|████████████████████████████████▊                    | 309/500"
     ]
    },
    {
     "name": "stdout",
     "output_type": "stream",
     "text": [
      "Actor loss=  -0.0046 Critic loss=  22.2242 Return=  100.0\n"
     ]
    },
    {
     "name": "stderr",
     "output_type": "stream",
     "text": [
      "Episode 310:  62%|████████████████████████████████▊                    | 310/500"
     ]
    },
    {
     "name": "stdout",
     "output_type": "stream",
     "text": [
      "Actor loss=  0.0051 Critic loss=  7.5657 Return=  119.0\n"
     ]
    },
    {
     "name": "stderr",
     "output_type": "stream",
     "text": [
      "Episode 311:  62%|████████████████████████████████▉                    | 311/500"
     ]
    },
    {
     "name": "stdout",
     "output_type": "stream",
     "text": [
      "Actor loss=  -0.0414 Critic loss=  61.1206 Return=  44.0\n"
     ]
    },
    {
     "name": "stderr",
     "output_type": "stream",
     "text": [
      "Episode 312:  62%|█████████████████████████████████                    | 312/500"
     ]
    },
    {
     "name": "stdout",
     "output_type": "stream",
     "text": [
      "Actor loss=  -0.2245 Critic loss=  17.9422 Return=  40.0\n"
     ]
    },
    {
     "name": "stderr",
     "output_type": "stream",
     "text": [
      "Episode 313:  63%|█████████████████████████████████▏                   | 313/500"
     ]
    },
    {
     "name": "stdout",
     "output_type": "stream",
     "text": [
      "Actor loss=  -2.166 Critic loss=  8.4017 Return=  38.0\n"
     ]
    },
    {
     "name": "stderr",
     "output_type": "stream",
     "text": [
      "Episode 314:  63%|█████████████████████████████████▎                   | 314/500"
     ]
    },
    {
     "name": "stdout",
     "output_type": "stream",
     "text": [
      "Actor loss=  -0.05 Critic loss=  9.9841 Return=  32.0\n"
     ]
    },
    {
     "name": "stderr",
     "output_type": "stream",
     "text": [
      "Episode 315:  63%|█████████████████████████████████▍                   | 315/500"
     ]
    },
    {
     "name": "stdout",
     "output_type": "stream",
     "text": [
      "Actor loss=  -0.0293 Critic loss=  3.1231 Return=  32.0\n",
      "Actor loss=  -0.1487 Critic loss=  2.3194 Return=  30.0\n"
     ]
    },
    {
     "name": "stderr",
     "output_type": "stream",
     "text": [
      "Episode 317:  63%|█████████████████████████████████▌                   | 317/500"
     ]
    },
    {
     "name": "stdout",
     "output_type": "stream",
     "text": [
      "Actor loss=  0.0009 Critic loss=  0.3216 Return=  36.0\n"
     ]
    },
    {
     "name": "stderr",
     "output_type": "stream",
     "text": [
      "Episode 318:  64%|█████████████████████████████████▋                   | 318/500"
     ]
    },
    {
     "name": "stdout",
     "output_type": "stream",
     "text": [
      "Actor loss=  0.0004 Critic loss=  0.2777 Return=  36.0\n"
     ]
    },
    {
     "name": "stderr",
     "output_type": "stream",
     "text": [
      "Episode 319:  64%|█████████████████████████████████▊                   | 319/500"
     ]
    },
    {
     "name": "stdout",
     "output_type": "stream",
     "text": [
      "Actor loss=  -0.0007 Critic loss=  1.126 Return=  31.0\n"
     ]
    },
    {
     "name": "stderr",
     "output_type": "stream",
     "text": [
      "Episode 320:  64%|█████████████████████████████████▉                   | 320/500"
     ]
    },
    {
     "name": "stdout",
     "output_type": "stream",
     "text": [
      "Actor loss=  0.0038 Critic loss=  3.1922 Return=  39.0\n"
     ]
    },
    {
     "name": "stderr",
     "output_type": "stream",
     "text": [
      "Episode 321:  64%|██████████████████████████████████                   | 321/500"
     ]
    },
    {
     "name": "stdout",
     "output_type": "stream",
     "text": [
      "Actor loss=  0.0013 Critic loss=  0.8543 Return=  39.0\n"
     ]
    },
    {
     "name": "stderr",
     "output_type": "stream",
     "text": [
      "Episode 322:  64%|██████████████████████████████████▏                  | 322/500"
     ]
    },
    {
     "name": "stdout",
     "output_type": "stream",
     "text": [
      "Actor loss=  0.0309 Critic loss=  1.5348 Return=  44.0\n"
     ]
    },
    {
     "name": "stderr",
     "output_type": "stream",
     "text": [
      "Episode 323:  65%|██████████████████████████████████▏                  | 323/500"
     ]
    },
    {
     "name": "stdout",
     "output_type": "stream",
     "text": [
      "Actor loss=  -0.0017 Critic loss=  0.0704 Return=  39.0\n"
     ]
    },
    {
     "name": "stderr",
     "output_type": "stream",
     "text": [
      "Episode 324:  65%|██████████████████████████████████▎                  | 324/500"
     ]
    },
    {
     "name": "stdout",
     "output_type": "stream",
     "text": [
      "Actor loss=  0.0126 Critic loss=  10.6291 Return=  52.0\n"
     ]
    },
    {
     "name": "stderr",
     "output_type": "stream",
     "text": [
      "Episode 325:  65%|██████████████████████████████████▍                  | 325/500"
     ]
    },
    {
     "name": "stdout",
     "output_type": "stream",
     "text": [
      "Actor loss=  0.0004 Critic loss=  36.4992 Return=  90.0\n"
     ]
    },
    {
     "name": "stderr",
     "output_type": "stream",
     "text": [
      "Episode 326:  65%|██████████████████████████████████▌                  | 326/500"
     ]
    },
    {
     "name": "stdout",
     "output_type": "stream",
     "text": [
      "Actor loss=  -0.0883 Critic loss=  12.2694 Return=  44.0\n"
     ]
    },
    {
     "name": "stderr",
     "output_type": "stream",
     "text": [
      "Episode 327:  65%|██████████████████████████████████▋                  | 327/500"
     ]
    },
    {
     "name": "stdout",
     "output_type": "stream",
     "text": [
      "Actor loss=  -0.1818 Critic loss=  4.7219 Return=  42.0\n"
     ]
    },
    {
     "name": "stderr",
     "output_type": "stream",
     "text": [
      "Episode 328:  66%|██████████████████████████████████▊                  | 328/500"
     ]
    },
    {
     "name": "stdout",
     "output_type": "stream",
     "text": [
      "Actor loss=  -0.004 Critic loss=  0.5333 Return=  44.0\n"
     ]
    },
    {
     "name": "stderr",
     "output_type": "stream",
     "text": [
      "Episode 329:  66%|██████████████████████████████████▊                  | 329/500"
     ]
    },
    {
     "name": "stdout",
     "output_type": "stream",
     "text": [
      "Actor loss=  -0.0007 Critic loss=  0.0845 Return=  44.0\n"
     ]
    },
    {
     "name": "stderr",
     "output_type": "stream",
     "text": [
      "Episode 330:  66%|██████████████████████████████████▉                  | 330/500"
     ]
    },
    {
     "name": "stdout",
     "output_type": "stream",
     "text": [
      "Actor loss=  0.0041 Critic loss=  4.2918 Return=  63.0\n"
     ]
    },
    {
     "name": "stderr",
     "output_type": "stream",
     "text": [
      "Episode 331:  66%|███████████████████████████████████                  | 331/500"
     ]
    },
    {
     "name": "stdout",
     "output_type": "stream",
     "text": [
      "Actor loss=  0.0016 Critic loss=  10.0579 Return=  84.0\n"
     ]
    },
    {
     "name": "stderr",
     "output_type": "stream",
     "text": [
      "Episode 332:  66%|███████████████████████████████████▏                 | 332/500"
     ]
    },
    {
     "name": "stdout",
     "output_type": "stream",
     "text": [
      "Actor loss=  -0.0 Critic loss=  1.3857 Return=  64.0\n"
     ]
    },
    {
     "name": "stderr",
     "output_type": "stream",
     "text": [
      "Episode 333:  67%|███████████████████████████████████▎                 | 333/500"
     ]
    },
    {
     "name": "stdout",
     "output_type": "stream",
     "text": [
      "Actor loss=  -0.0009 Critic loss=  1.7062 Return=  53.0\n"
     ]
    },
    {
     "name": "stderr",
     "output_type": "stream",
     "text": [
      "Episode 334:  67%|███████████████████████████████████▍                 | 334/500"
     ]
    },
    {
     "name": "stdout",
     "output_type": "stream",
     "text": [
      "Actor loss=  -0.7613 Critic loss=  1.7981 Return=  47.0\n"
     ]
    },
    {
     "name": "stderr",
     "output_type": "stream",
     "text": [
      "Episode 335:  67%|███████████████████████████████████▌                 | 335/500"
     ]
    },
    {
     "name": "stdout",
     "output_type": "stream",
     "text": [
      "Actor loss=  0.0005 Critic loss=  8.8053 Return=  73.0\n"
     ]
    },
    {
     "name": "stderr",
     "output_type": "stream",
     "text": [
      "Episode 336:  67%|███████████████████████████████████▌                 | 336/500"
     ]
    },
    {
     "name": "stdout",
     "output_type": "stream",
     "text": [
      "Actor loss=  0.0049 Critic loss=  4.4713 Return=  85.0\n"
     ]
    },
    {
     "name": "stderr",
     "output_type": "stream",
     "text": [
      "Episode 337:  67%|███████████████████████████████████▋                 | 337/500"
     ]
    },
    {
     "name": "stdout",
     "output_type": "stream",
     "text": [
      "Actor loss=  -0.0005 Critic loss=  7.556 Return=  55.0\n"
     ]
    },
    {
     "name": "stderr",
     "output_type": "stream",
     "text": [
      "Episode 338:  68%|███████████████████████████████████▊                 | 338/500"
     ]
    },
    {
     "name": "stdout",
     "output_type": "stream",
     "text": [
      "Actor loss=  -0.0001 Critic loss=  4.5291 Return=  45.0\n"
     ]
    },
    {
     "name": "stderr",
     "output_type": "stream",
     "text": [
      "Episode 339:  68%|███████████████████████████████████▉                 | 339/500"
     ]
    },
    {
     "name": "stdout",
     "output_type": "stream",
     "text": [
      "Actor loss=  -0.0032 Critic loss=  0.0582 Return=  49.0\n"
     ]
    },
    {
     "name": "stderr",
     "output_type": "stream",
     "text": [
      "Episode 340:  68%|████████████████████████████████████                 | 340/500"
     ]
    },
    {
     "name": "stdout",
     "output_type": "stream",
     "text": [
      "Actor loss=  -0.0004 Critic loss=  1.6311 Return=  41.0\n"
     ]
    },
    {
     "name": "stderr",
     "output_type": "stream",
     "text": [
      "Episode 341:  68%|████████████████████████████████████▏                | 341/500"
     ]
    },
    {
     "name": "stdout",
     "output_type": "stream",
     "text": [
      "Actor loss=  -0.0 Critic loss=  0.1597 Return=  43.0\n"
     ]
    },
    {
     "name": "stderr",
     "output_type": "stream",
     "text": [
      "Episode 342:  68%|████████████████████████████████████▎                | 342/500"
     ]
    },
    {
     "name": "stdout",
     "output_type": "stream",
     "text": [
      "Actor loss=  -0.0365 Critic loss=  2.5758 Return=  37.0\n"
     ]
    },
    {
     "name": "stderr",
     "output_type": "stream",
     "text": [
      "Episode 343:  69%|████████████████████████████████████▎                | 343/500"
     ]
    },
    {
     "name": "stdout",
     "output_type": "stream",
     "text": [
      "Actor loss=  0.0582 Critic loss=  0.4878 Return=  42.0\n"
     ]
    },
    {
     "name": "stderr",
     "output_type": "stream",
     "text": [
      "Episode 344:  69%|████████████████████████████████████▍                | 344/500"
     ]
    },
    {
     "name": "stdout",
     "output_type": "stream",
     "text": [
      "Actor loss=  0.0345 Critic loss=  0.0922 Return=  42.0\n"
     ]
    },
    {
     "name": "stderr",
     "output_type": "stream",
     "text": [
      "Episode 345:  69%|████████████████████████████████████▌                | 345/500"
     ]
    },
    {
     "name": "stdout",
     "output_type": "stream",
     "text": [
      "Actor loss=  0.0 Critic loss=  0.1384 Return=  45.0\n"
     ]
    },
    {
     "name": "stderr",
     "output_type": "stream",
     "text": [
      "Episode 346:  69%|████████████████████████████████████▋                | 346/500"
     ]
    },
    {
     "name": "stdout",
     "output_type": "stream",
     "text": [
      "Actor loss=  -0.0002 Critic loss=  0.0288 Return=  39.0\n"
     ]
    },
    {
     "name": "stderr",
     "output_type": "stream",
     "text": [
      "Episode 347:  69%|████████████████████████████████████▊                | 347/500"
     ]
    },
    {
     "name": "stdout",
     "output_type": "stream",
     "text": [
      "Actor loss=  0.0001 Critic loss=  0.1307 Return=  43.0\n"
     ]
    },
    {
     "name": "stderr",
     "output_type": "stream",
     "text": [
      "Episode 348:  70%|████████████████████████████████████▉                | 348/500"
     ]
    },
    {
     "name": "stdout",
     "output_type": "stream",
     "text": [
      "Actor loss=  -0.0 Critic loss=  0.3803 Return=  42.0\n"
     ]
    },
    {
     "name": "stderr",
     "output_type": "stream",
     "text": [
      "Episode 349:  70%|████████████████████████████████████▉                | 349/500"
     ]
    },
    {
     "name": "stdout",
     "output_type": "stream",
     "text": [
      "Actor loss=  -0.0031 Critic loss=  3.4992 Return=  34.0\n"
     ]
    },
    {
     "name": "stderr",
     "output_type": "stream",
     "text": [
      "Episode 350:  70%|█████████████████████████████████████                | 350/500"
     ]
    },
    {
     "name": "stdout",
     "output_type": "stream",
     "text": [
      "Actor loss=  0.008 Critic loss=  5.2024 Return=  46.0\n"
     ]
    },
    {
     "name": "stderr",
     "output_type": "stream",
     "text": [
      "Episode 351:  70%|█████████████████████████████████████▏               | 351/500"
     ]
    },
    {
     "name": "stdout",
     "output_type": "stream",
     "text": [
      "Actor loss=  0.635 Critic loss=  8.1953 Return=  57.0\n"
     ]
    },
    {
     "name": "stderr",
     "output_type": "stream",
     "text": [
      "Episode 352:  70%|█████████████████████████████████████▎               | 352/500"
     ]
    },
    {
     "name": "stdout",
     "output_type": "stream",
     "text": [
      "Actor loss=  2.945 Critic loss=  29.5065 Return=  112.0\n"
     ]
    },
    {
     "name": "stderr",
     "output_type": "stream",
     "text": [
      "Episode 353:  71%|█████████████████████████████████████▍               | 353/500"
     ]
    },
    {
     "name": "stdout",
     "output_type": "stream",
     "text": [
      "Actor loss=  -0.0011 Critic loss=  17.9926 Return=  121.0\n"
     ]
    },
    {
     "name": "stderr",
     "output_type": "stream",
     "text": [
      "Episode 354:  71%|█████████████████████████████████████▌               | 354/500"
     ]
    },
    {
     "name": "stdout",
     "output_type": "stream",
     "text": [
      "Actor loss=  -1.0162 Critic loss=  0.164 Return=  248.0\n"
     ]
    },
    {
     "name": "stderr",
     "output_type": "stream",
     "text": [
      "Episode 355:  71%|█████████████████████████████████████▋               | 355/500"
     ]
    },
    {
     "name": "stdout",
     "output_type": "stream",
     "text": [
      "Actor loss=  -0.0009 Critic loss=  0.4204 Return=  143.0\n"
     ]
    },
    {
     "name": "stderr",
     "output_type": "stream",
     "text": [
      "Episode 356:  71%|█████████████████████████████████████▋               | 356/500"
     ]
    },
    {
     "name": "stdout",
     "output_type": "stream",
     "text": [
      "Actor loss=  -0.0015 Critic loss=  0.5828 Return=  183.0\n"
     ]
    },
    {
     "name": "stderr",
     "output_type": "stream",
     "text": [
      "Episode 357:  71%|█████████████████████████████████████▊               | 357/500"
     ]
    },
    {
     "name": "stdout",
     "output_type": "stream",
     "text": [
      "Actor loss=  -0.0019 Critic loss=  0.1628 Return=  162.0\n"
     ]
    },
    {
     "name": "stderr",
     "output_type": "stream",
     "text": [
      "Episode 358:  72%|█████████████████████████████████████▉               | 358/500"
     ]
    },
    {
     "name": "stdout",
     "output_type": "stream",
     "text": [
      "Actor loss=  -0.0004 Critic loss=  2.1284 Return=  239.0\n"
     ]
    },
    {
     "name": "stderr",
     "output_type": "stream",
     "text": [
      "Episode 359:  72%|██████████████████████████████████████               | 359/500"
     ]
    },
    {
     "name": "stdout",
     "output_type": "stream",
     "text": [
      "Actor loss=  0.0006 Critic loss=  1.2452 Return=  159.0\n"
     ]
    },
    {
     "name": "stderr",
     "output_type": "stream",
     "text": [
      "Episode 360:  72%|██████████████████████████████████████▏              | 360/500"
     ]
    },
    {
     "name": "stdout",
     "output_type": "stream",
     "text": [
      "Actor loss=  -0.0368 Critic loss=  0.3652 Return=  115.0\n"
     ]
    },
    {
     "name": "stderr",
     "output_type": "stream",
     "text": [
      "Episode 361:  72%|██████████████████████████████████████▎              | 361/500"
     ]
    },
    {
     "name": "stdout",
     "output_type": "stream",
     "text": [
      "Actor loss=  0.034 Critic loss=  19.4666 Return=  98.0\n"
     ]
    },
    {
     "name": "stderr",
     "output_type": "stream",
     "text": [
      "Episode 362:  72%|██████████████████████████████████████▎              | 362/500"
     ]
    },
    {
     "name": "stdout",
     "output_type": "stream",
     "text": [
      "Actor loss=  -1.035 Critic loss=  31.7687 Return=  107.0\n"
     ]
    },
    {
     "name": "stderr",
     "output_type": "stream",
     "text": [
      "Episode 363:  73%|██████████████████████████████████████▍              | 363/500"
     ]
    },
    {
     "name": "stdout",
     "output_type": "stream",
     "text": [
      "Actor loss=  -0.0004 Critic loss=  10.3239 Return=  67.0\n"
     ]
    },
    {
     "name": "stderr",
     "output_type": "stream",
     "text": [
      "Episode 364:  73%|██████████████████████████████████████▌              | 364/500"
     ]
    },
    {
     "name": "stdout",
     "output_type": "stream",
     "text": [
      "Actor loss=  -1.4763 Critic loss=  2.6812 Return=  59.0\n"
     ]
    },
    {
     "name": "stderr",
     "output_type": "stream",
     "text": [
      "Episode 365:  73%|██████████████████████████████████████▋              | 365/500"
     ]
    },
    {
     "name": "stdout",
     "output_type": "stream",
     "text": [
      "Actor loss=  0.0198 Critic loss=  14.4711 Return=  76.0\n"
     ]
    },
    {
     "name": "stderr",
     "output_type": "stream",
     "text": [
      "Episode 366:  73%|██████████████████████████████████████▊              | 366/500"
     ]
    },
    {
     "name": "stdout",
     "output_type": "stream",
     "text": [
      "Actor loss=  -0.0028 Critic loss=  2.2688 Return=  66.0\n"
     ]
    },
    {
     "name": "stderr",
     "output_type": "stream",
     "text": [
      "Episode 367:  73%|██████████████████████████████████████▉              | 367/500"
     ]
    },
    {
     "name": "stdout",
     "output_type": "stream",
     "text": [
      "Actor loss=  -2.1676 Critic loss=  0.6672 Return=  60.0\n"
     ]
    },
    {
     "name": "stderr",
     "output_type": "stream",
     "text": [
      "Episode 368:  74%|███████████████████████████████████████              | 368/500"
     ]
    },
    {
     "name": "stdout",
     "output_type": "stream",
     "text": [
      "Actor loss=  0.0004 Critic loss=  2.628 Return=  71.0\n"
     ]
    },
    {
     "name": "stderr",
     "output_type": "stream",
     "text": [
      "Episode 369:  74%|███████████████████████████████████████              | 369/500"
     ]
    },
    {
     "name": "stdout",
     "output_type": "stream",
     "text": [
      "Actor loss=  1.8068 Critic loss=  42.7723 Return=  99.0\n"
     ]
    },
    {
     "name": "stderr",
     "output_type": "stream",
     "text": [
      "Episode 370:  74%|███████████████████████████████████████▏             | 370/500"
     ]
    },
    {
     "name": "stdout",
     "output_type": "stream",
     "text": [
      "Actor loss=  -0.0223 Critic loss=  12.712 Return=  91.0\n"
     ]
    },
    {
     "name": "stderr",
     "output_type": "stream",
     "text": [
      "Episode 371:  74%|███████████████████████████████████████▎             | 371/500"
     ]
    },
    {
     "name": "stdout",
     "output_type": "stream",
     "text": [
      "Actor loss=  0.4017 Critic loss=  2.7112 Return=  104.0\n"
     ]
    },
    {
     "name": "stderr",
     "output_type": "stream",
     "text": [
      "Episode 372:  74%|███████████████████████████████████████▍             | 372/500"
     ]
    },
    {
     "name": "stdout",
     "output_type": "stream",
     "text": [
      "Actor loss=  -0.0485 Critic loss=  0.2768 Return=  109.0\n"
     ]
    },
    {
     "name": "stderr",
     "output_type": "stream",
     "text": [
      "Episode 373:  75%|███████████████████████████████████████▌             | 373/500"
     ]
    },
    {
     "name": "stdout",
     "output_type": "stream",
     "text": [
      "Actor loss=  -0.007 Critic loss=  1.4309 Return=  98.0\n"
     ]
    },
    {
     "name": "stderr",
     "output_type": "stream",
     "text": [
      "Episode 374:  75%|███████████████████████████████████████▋             | 374/500"
     ]
    },
    {
     "name": "stdout",
     "output_type": "stream",
     "text": [
      "Actor loss=  0.0112 Critic loss=  0.9954 Return=  110.0\n"
     ]
    },
    {
     "name": "stderr",
     "output_type": "stream",
     "text": [
      "Episode 375:  75%|███████████████████████████████████████▊             | 375/500"
     ]
    },
    {
     "name": "stdout",
     "output_type": "stream",
     "text": [
      "Actor loss=  -0.0016 Critic loss=  0.0651 Return=  108.0\n"
     ]
    },
    {
     "name": "stderr",
     "output_type": "stream",
     "text": [
      "Episode 376:  75%|███████████████████████████████████████▊             | 376/500"
     ]
    },
    {
     "name": "stdout",
     "output_type": "stream",
     "text": [
      "Actor loss=  -0.0001 Critic loss=  20.7823 Return=  94.0\n"
     ]
    },
    {
     "name": "stderr",
     "output_type": "stream",
     "text": [
      "Episode 377:  75%|███████████████████████████████████████▉             | 377/500"
     ]
    },
    {
     "name": "stdout",
     "output_type": "stream",
     "text": [
      "Actor loss=  0.0065 Critic loss=  7.8003 Return=  94.0\n"
     ]
    },
    {
     "name": "stderr",
     "output_type": "stream",
     "text": [
      "Episode 378:  76%|████████████████████████████████████████             | 378/500"
     ]
    },
    {
     "name": "stdout",
     "output_type": "stream",
     "text": [
      "Actor loss=  0.0009 Critic loss=  10.3782 Return=  108.0\n"
     ]
    },
    {
     "name": "stderr",
     "output_type": "stream",
     "text": [
      "Episode 379:  76%|████████████████████████████████████████▏            | 379/500"
     ]
    },
    {
     "name": "stdout",
     "output_type": "stream",
     "text": [
      "Actor loss=  -0.0029 Critic loss=  1.0057 Return=  129.0\n"
     ]
    },
    {
     "name": "stderr",
     "output_type": "stream",
     "text": [
      "Episode 380:  76%|████████████████████████████████████████▎            | 380/500"
     ]
    },
    {
     "name": "stdout",
     "output_type": "stream",
     "text": [
      "Actor loss=  -0.0858 Critic loss=  0.0597 Return=  128.0\n"
     ]
    },
    {
     "name": "stderr",
     "output_type": "stream",
     "text": [
      "Episode 381:  76%|████████████████████████████████████████▍            | 381/500"
     ]
    },
    {
     "name": "stdout",
     "output_type": "stream",
     "text": [
      "Actor loss=  0.0015 Critic loss=  0.2594 Return=  125.0\n"
     ]
    },
    {
     "name": "stderr",
     "output_type": "stream",
     "text": [
      "Episode 382:  76%|████████████████████████████████████████▍            | 382/500"
     ]
    },
    {
     "name": "stdout",
     "output_type": "stream",
     "text": [
      "Actor loss=  -0.1809 Critic loss=  0.4067 Return=  111.0\n"
     ]
    },
    {
     "name": "stderr",
     "output_type": "stream",
     "text": [
      "Episode 383:  77%|████████████████████████████████████████▌            | 383/500"
     ]
    },
    {
     "name": "stdout",
     "output_type": "stream",
     "text": [
      "Actor loss=  -0.0001 Critic loss=  0.9557 Return=  119.0\n"
     ]
    },
    {
     "name": "stderr",
     "output_type": "stream",
     "text": [
      "Episode 384:  77%|████████████████████████████████████████▋            | 384/500"
     ]
    },
    {
     "name": "stdout",
     "output_type": "stream",
     "text": [
      "Actor loss=  7.1292 Critic loss=  8.6931 Return=  118.0\n"
     ]
    },
    {
     "name": "stderr",
     "output_type": "stream",
     "text": [
      "Episode 385:  77%|████████████████████████████████████████▊            | 385/500"
     ]
    },
    {
     "name": "stdout",
     "output_type": "stream",
     "text": [
      "Actor loss=  -0.0681 Critic loss=  362.8433 Return=  74.0\n"
     ]
    },
    {
     "name": "stderr",
     "output_type": "stream",
     "text": [
      "Episode 386:  77%|████████████████████████████████████████▉            | 386/500"
     ]
    },
    {
     "name": "stdout",
     "output_type": "stream",
     "text": [
      "Actor loss=  -0.0016 Critic loss=  24.8192 Return=  73.0\n"
     ]
    },
    {
     "name": "stderr",
     "output_type": "stream",
     "text": [
      "Episode 387:  77%|█████████████████████████████████████████            | 387/500"
     ]
    },
    {
     "name": "stdout",
     "output_type": "stream",
     "text": [
      "Actor loss=  0.0026 Critic loss=  47.8728 Return=  90.0\n"
     ]
    },
    {
     "name": "stderr",
     "output_type": "stream",
     "text": [
      "Episode 388:  78%|█████████████████████████████████████████▏           | 388/500"
     ]
    },
    {
     "name": "stdout",
     "output_type": "stream",
     "text": [
      "Actor loss=  0.0798 Critic loss=  24.8465 Return=  111.0\n"
     ]
    },
    {
     "name": "stderr",
     "output_type": "stream",
     "text": [
      "Episode 389:  78%|█████████████████████████████████████████▏           | 389/500"
     ]
    },
    {
     "name": "stdout",
     "output_type": "stream",
     "text": [
      "Actor loss=  0.5797 Critic loss=  8.6113 Return=  126.0\n"
     ]
    },
    {
     "name": "stderr",
     "output_type": "stream",
     "text": [
      "Episode 390:  78%|█████████████████████████████████████████▎           | 390/500"
     ]
    },
    {
     "name": "stdout",
     "output_type": "stream",
     "text": [
      "Actor loss=  0.0 Critic loss=  0.054 Return=  137.0\n"
     ]
    },
    {
     "name": "stderr",
     "output_type": "stream",
     "text": [
      "Episode 391:  78%|█████████████████████████████████████████▍           | 391/500"
     ]
    },
    {
     "name": "stdout",
     "output_type": "stream",
     "text": [
      "Actor loss=  -0.15 Critic loss=  28.5072 Return=  232.0\n"
     ]
    },
    {
     "name": "stderr",
     "output_type": "stream",
     "text": [
      "Episode 392:  78%|█████████████████████████████████████████▌           | 392/500"
     ]
    },
    {
     "name": "stdout",
     "output_type": "stream",
     "text": [
      "Actor loss=  -0.4785 Critic loss=  3328.1345 Return=  320.0\n"
     ]
    },
    {
     "name": "stderr",
     "output_type": "stream",
     "text": [
      "Episode 393:  79%|█████████████████████████████████████████▋           | 393/500"
     ]
    },
    {
     "name": "stdout",
     "output_type": "stream",
     "text": [
      "Actor loss=  -9.7325 Critic loss=  1254.3842 Return=  476.0\n"
     ]
    },
    {
     "name": "stderr",
     "output_type": "stream",
     "text": [
      "Episode 394:  79%|█████████████████████████████████████████▊           | 394/500"
     ]
    },
    {
     "name": "stdout",
     "output_type": "stream",
     "text": [
      "Actor loss=  -0.0009 Critic loss=  3.0606 Return=  500.0\n"
     ]
    },
    {
     "name": "stderr",
     "output_type": "stream",
     "text": [
      "Episode 395:  79%|█████████████████████████████████████████▊           | 395/500"
     ]
    },
    {
     "name": "stdout",
     "output_type": "stream",
     "text": [
      "Actor loss=  0.0005 Critic loss=  3.1692 Return=  298.0\n"
     ]
    },
    {
     "name": "stderr",
     "output_type": "stream",
     "text": [
      "Episode 396:  79%|█████████████████████████████████████████▉           | 396/500"
     ]
    },
    {
     "name": "stdout",
     "output_type": "stream",
     "text": [
      "Actor loss=  0.0195 Critic loss=  3.7365 Return=  165.0\n"
     ]
    },
    {
     "name": "stderr",
     "output_type": "stream",
     "text": [
      "Episode 397:  79%|██████████████████████████████████████████           | 397/500"
     ]
    },
    {
     "name": "stdout",
     "output_type": "stream",
     "text": [
      "Actor loss=  0.0053 Critic loss=  0.3731 Return=  134.0\n"
     ]
    },
    {
     "name": "stderr",
     "output_type": "stream",
     "text": [
      "Episode 398:  80%|██████████████████████████████████████████▏          | 398/500"
     ]
    },
    {
     "name": "stdout",
     "output_type": "stream",
     "text": [
      "Actor loss=  -0.0022 Critic loss=  2.3765 Return=  148.0\n"
     ]
    },
    {
     "name": "stderr",
     "output_type": "stream",
     "text": [
      "Episode 399:  80%|██████████████████████████████████████████▎          | 399/500"
     ]
    },
    {
     "name": "stdout",
     "output_type": "stream",
     "text": [
      "Actor loss=  0.0001 Critic loss=  0.7752 Return=  152.0\n"
     ]
    },
    {
     "name": "stderr",
     "output_type": "stream",
     "text": [
      "Episode 400:  80%|██████████████████████████████████████████▍          | 400/500"
     ]
    },
    {
     "name": "stdout",
     "output_type": "stream",
     "text": [
      "Actor loss=  -0.0008 Critic loss=  0.0437 Return=  128.0\n"
     ]
    },
    {
     "name": "stderr",
     "output_type": "stream",
     "text": [
      "Episode 401:  80%|██████████████████████████████████████████▌          | 401/500"
     ]
    },
    {
     "name": "stdout",
     "output_type": "stream",
     "text": [
      "Actor loss=  0.0054 Critic loss=  4.7337 Return=  119.0\n"
     ]
    },
    {
     "name": "stderr",
     "output_type": "stream",
     "text": [
      "Episode 402:  80%|██████████████████████████████████████████▌          | 402/500"
     ]
    },
    {
     "name": "stdout",
     "output_type": "stream",
     "text": [
      "Actor loss=  -0.4545 Critic loss=  14.1534 Return=  142.0\n"
     ]
    },
    {
     "name": "stderr",
     "output_type": "stream",
     "text": [
      "Episode 403:  81%|██████████████████████████████████████████▋          | 403/500"
     ]
    },
    {
     "name": "stdout",
     "output_type": "stream",
     "text": [
      "Actor loss=  1.772 Critic loss=  8.5626 Return=  132.0\n"
     ]
    },
    {
     "name": "stderr",
     "output_type": "stream",
     "text": [
      "Episode 404:  81%|██████████████████████████████████████████▊          | 404/500"
     ]
    },
    {
     "name": "stdout",
     "output_type": "stream",
     "text": [
      "Actor loss=  -0.0205 Critic loss=  26.7209 Return=  91.0\n"
     ]
    },
    {
     "name": "stderr",
     "output_type": "stream",
     "text": [
      "Episode 405:  81%|██████████████████████████████████████████▉          | 405/500"
     ]
    },
    {
     "name": "stdout",
     "output_type": "stream",
     "text": [
      "Actor loss=  0.0013 Critic loss=  3.845 Return=  113.0\n"
     ]
    },
    {
     "name": "stderr",
     "output_type": "stream",
     "text": [
      "Episode 406:  81%|███████████████████████████████████████████          | 406/500"
     ]
    },
    {
     "name": "stdout",
     "output_type": "stream",
     "text": [
      "Actor loss=  -0.0 Critic loss=  0.0019 Return=  95.0\n"
     ]
    },
    {
     "name": "stderr",
     "output_type": "stream",
     "text": [
      "Episode 407:  81%|███████████████████████████████████████████▏         | 407/500"
     ]
    },
    {
     "name": "stdout",
     "output_type": "stream",
     "text": [
      "Actor loss=  -0.0134 Critic loss=  0.0151 Return=  98.0\n"
     ]
    },
    {
     "name": "stderr",
     "output_type": "stream",
     "text": [
      "Episode 408:  82%|███████████████████████████████████████████▏         | 408/500"
     ]
    },
    {
     "name": "stdout",
     "output_type": "stream",
     "text": [
      "Actor loss=  0.0032 Critic loss=  1.5047 Return=  104.0\n"
     ]
    },
    {
     "name": "stderr",
     "output_type": "stream",
     "text": [
      "Episode 409:  82%|███████████████████████████████████████████▎         | 409/500"
     ]
    },
    {
     "name": "stdout",
     "output_type": "stream",
     "text": [
      "Actor loss=  -0.0034 Critic loss=  1.0395 Return=  107.0\n"
     ]
    },
    {
     "name": "stderr",
     "output_type": "stream",
     "text": [
      "Episode 410:  82%|███████████████████████████████████████████▍         | 410/500"
     ]
    },
    {
     "name": "stdout",
     "output_type": "stream",
     "text": [
      "Actor loss=  -0.0001 Critic loss=  0.0673 Return=  91.0\n"
     ]
    },
    {
     "name": "stderr",
     "output_type": "stream",
     "text": [
      "Episode 411:  82%|███████████████████████████████████████████▌         | 411/500"
     ]
    },
    {
     "name": "stdout",
     "output_type": "stream",
     "text": [
      "Actor loss=  -0.001 Critic loss=  0.1029 Return=  91.0\n"
     ]
    },
    {
     "name": "stderr",
     "output_type": "stream",
     "text": [
      "Episode 412:  82%|███████████████████████████████████████████▋         | 412/500"
     ]
    },
    {
     "name": "stdout",
     "output_type": "stream",
     "text": [
      "Actor loss=  -10.1698 Critic loss=  10.4167 Return=  86.0\n"
     ]
    },
    {
     "name": "stderr",
     "output_type": "stream",
     "text": [
      "Episode 413:  83%|███████████████████████████████████████████▊         | 413/500"
     ]
    },
    {
     "name": "stdout",
     "output_type": "stream",
     "text": [
      "Actor loss=  0.0874 Critic loss=  64.0741 Return=  148.0\n"
     ]
    },
    {
     "name": "stderr",
     "output_type": "stream",
     "text": [
      "Episode 414:  83%|███████████████████████████████████████████▉         | 414/500"
     ]
    },
    {
     "name": "stdout",
     "output_type": "stream",
     "text": [
      "Actor loss=  -0.0008 Critic loss=  1.449 Return=  158.0\n"
     ]
    },
    {
     "name": "stderr",
     "output_type": "stream",
     "text": [
      "Episode 415:  83%|███████████████████████████████████████████▉         | 415/500"
     ]
    },
    {
     "name": "stdout",
     "output_type": "stream",
     "text": [
      "Actor loss=  -0.0017 Critic loss=  2.6923 Return=  156.0\n"
     ]
    },
    {
     "name": "stderr",
     "output_type": "stream",
     "text": [
      "Episode 416:  83%|████████████████████████████████████████████         | 416/500"
     ]
    },
    {
     "name": "stdout",
     "output_type": "stream",
     "text": [
      "Actor loss=  0.0 Critic loss=  0.4539 Return=  121.0\n"
     ]
    },
    {
     "name": "stderr",
     "output_type": "stream",
     "text": [
      "Episode 417:  83%|████████████████████████████████████████████▏        | 417/500"
     ]
    },
    {
     "name": "stdout",
     "output_type": "stream",
     "text": [
      "Actor loss=  -0.101 Critic loss=  2.2921 Return=  121.0\n"
     ]
    },
    {
     "name": "stderr",
     "output_type": "stream",
     "text": [
      "Episode 418:  84%|████████████████████████████████████████████▎        | 418/500"
     ]
    },
    {
     "name": "stdout",
     "output_type": "stream",
     "text": [
      "Actor loss=  0.0349 Critic loss=  0.7285 Return=  110.0\n"
     ]
    },
    {
     "name": "stderr",
     "output_type": "stream",
     "text": [
      "Episode 419:  84%|████████████████████████████████████████████▍        | 419/500"
     ]
    },
    {
     "name": "stdout",
     "output_type": "stream",
     "text": [
      "Actor loss=  0.0225 Critic loss=  0.1583 Return=  134.0\n"
     ]
    },
    {
     "name": "stderr",
     "output_type": "stream",
     "text": [
      "Episode 420:  84%|████████████████████████████████████████████▌        | 420/500"
     ]
    },
    {
     "name": "stdout",
     "output_type": "stream",
     "text": [
      "Actor loss=  -0.0 Critic loss=  0.1759 Return=  115.0\n"
     ]
    },
    {
     "name": "stderr",
     "output_type": "stream",
     "text": [
      "Episode 421:  84%|████████████████████████████████████████████▋        | 421/500"
     ]
    },
    {
     "name": "stdout",
     "output_type": "stream",
     "text": [
      "Actor loss=  -0.0079 Critic loss=  0.3677 Return=  121.0\n"
     ]
    },
    {
     "name": "stderr",
     "output_type": "stream",
     "text": [
      "Episode 422:  84%|████████████████████████████████████████████▋        | 422/500"
     ]
    },
    {
     "name": "stdout",
     "output_type": "stream",
     "text": [
      "Actor loss=  0.0004 Critic loss=  0.2194 Return=  107.0\n"
     ]
    },
    {
     "name": "stderr",
     "output_type": "stream",
     "text": [
      "Episode 423:  85%|████████████████████████████████████████████▊        | 423/500"
     ]
    },
    {
     "name": "stdout",
     "output_type": "stream",
     "text": [
      "Actor loss=  -0.037 Critic loss=  1.5239 Return=  93.0\n"
     ]
    },
    {
     "name": "stderr",
     "output_type": "stream",
     "text": [
      "Episode 424:  85%|████████████████████████████████████████████▉        | 424/500"
     ]
    },
    {
     "name": "stdout",
     "output_type": "stream",
     "text": [
      "Actor loss=  0.0 Critic loss=  0.4546 Return=  88.0\n"
     ]
    },
    {
     "name": "stderr",
     "output_type": "stream",
     "text": [
      "Episode 425:  85%|█████████████████████████████████████████████        | 425/500"
     ]
    },
    {
     "name": "stdout",
     "output_type": "stream",
     "text": [
      "Actor loss=  -0.2727 Critic loss=  12.5491 Return=  88.0\n"
     ]
    },
    {
     "name": "stderr",
     "output_type": "stream",
     "text": [
      "Episode 426:  85%|█████████████████████████████████████████████▏       | 426/500"
     ]
    },
    {
     "name": "stdout",
     "output_type": "stream",
     "text": [
      "Actor loss=  0.6446 Critic loss=  3.3379 Return=  74.0\n"
     ]
    },
    {
     "name": "stderr",
     "output_type": "stream",
     "text": [
      "Episode 427:  85%|█████████████████████████████████████████████▎       | 427/500"
     ]
    },
    {
     "name": "stdout",
     "output_type": "stream",
     "text": [
      "Actor loss=  -0.0002 Critic loss=  27.6175 Return=  64.0\n"
     ]
    },
    {
     "name": "stderr",
     "output_type": "stream",
     "text": [
      "Episode 428:  86%|█████████████████████████████████████████████▎       | 428/500"
     ]
    },
    {
     "name": "stdout",
     "output_type": "stream",
     "text": [
      "Actor loss=  0.0851 Critic loss=  18.4398 Return=  77.0\n"
     ]
    },
    {
     "name": "stderr",
     "output_type": "stream",
     "text": [
      "Episode 429:  86%|█████████████████████████████████████████████▍       | 429/500"
     ]
    },
    {
     "name": "stdout",
     "output_type": "stream",
     "text": [
      "Actor loss=  0.0001 Critic loss=  5.583 Return=  83.0\n"
     ]
    },
    {
     "name": "stderr",
     "output_type": "stream",
     "text": [
      "Episode 430:  86%|█████████████████████████████████████████████▌       | 430/500"
     ]
    },
    {
     "name": "stdout",
     "output_type": "stream",
     "text": [
      "Actor loss=  0.0 Critic loss=  0.0946 Return=  77.0\n"
     ]
    },
    {
     "name": "stderr",
     "output_type": "stream",
     "text": [
      "Episode 431:  86%|█████████████████████████████████████████████▋       | 431/500"
     ]
    },
    {
     "name": "stdout",
     "output_type": "stream",
     "text": [
      "Actor loss=  -0.0001 Critic loss=  0.9402 Return=  73.0\n"
     ]
    },
    {
     "name": "stderr",
     "output_type": "stream",
     "text": [
      "Episode 432:  86%|█████████████████████████████████████████████▊       | 432/500"
     ]
    },
    {
     "name": "stdout",
     "output_type": "stream",
     "text": [
      "Actor loss=  0.0001 Critic loss=  14.5998 Return=  110.0\n"
     ]
    },
    {
     "name": "stderr",
     "output_type": "stream",
     "text": [
      "Episode 433:  87%|█████████████████████████████████████████████▉       | 433/500"
     ]
    },
    {
     "name": "stdout",
     "output_type": "stream",
     "text": [
      "Actor loss=  -0.1231 Critic loss=  2.7211 Return=  110.0\n"
     ]
    },
    {
     "name": "stderr",
     "output_type": "stream",
     "text": [
      "Episode 434:  87%|██████████████████████████████████████████████       | 434/500"
     ]
    },
    {
     "name": "stdout",
     "output_type": "stream",
     "text": [
      "Actor loss=  0.0 Critic loss=  0.0961 Return=  92.0\n"
     ]
    },
    {
     "name": "stderr",
     "output_type": "stream",
     "text": [
      "Episode 435:  87%|██████████████████████████████████████████████       | 435/500"
     ]
    },
    {
     "name": "stdout",
     "output_type": "stream",
     "text": [
      "Actor loss=  0.0164 Critic loss=  0.0264 Return=  89.0\n"
     ]
    },
    {
     "name": "stderr",
     "output_type": "stream",
     "text": [
      "Episode 436:  87%|██████████████████████████████████████████████▏      | 436/500"
     ]
    },
    {
     "name": "stdout",
     "output_type": "stream",
     "text": [
      "Actor loss=  -0.0 Critic loss=  0.2144 Return=  105.0\n"
     ]
    },
    {
     "name": "stderr",
     "output_type": "stream",
     "text": [
      "Episode 437:  87%|██████████████████████████████████████████████▎      | 437/500"
     ]
    },
    {
     "name": "stdout",
     "output_type": "stream",
     "text": [
      "Actor loss=  -0.0 Critic loss=  0.2911 Return=  111.0\n"
     ]
    },
    {
     "name": "stderr",
     "output_type": "stream",
     "text": [
      "Episode 438:  88%|██████████████████████████████████████████████▍      | 438/500"
     ]
    },
    {
     "name": "stdout",
     "output_type": "stream",
     "text": [
      "Actor loss=  0.0003 Critic loss=  3.6363 Return=  122.0\n"
     ]
    },
    {
     "name": "stderr",
     "output_type": "stream",
     "text": [
      "Episode 439:  88%|██████████████████████████████████████████████▌      | 439/500"
     ]
    },
    {
     "name": "stdout",
     "output_type": "stream",
     "text": [
      "Actor loss=  -0.0062 Critic loss=  0.0205 Return=  204.0\n"
     ]
    },
    {
     "name": "stderr",
     "output_type": "stream",
     "text": [
      "Episode 440:  88%|██████████████████████████████████████████████▋      | 440/500"
     ]
    },
    {
     "name": "stdout",
     "output_type": "stream",
     "text": [
      "Actor loss=  -0.0 Critic loss=  2.3501 Return=  203.0\n"
     ]
    },
    {
     "name": "stderr",
     "output_type": "stream",
     "text": [
      "Episode 441:  88%|██████████████████████████████████████████████▋      | 441/500"
     ]
    },
    {
     "name": "stdout",
     "output_type": "stream",
     "text": [
      "Actor loss=  0.0 Critic loss=  0.4073 Return=  203.0\n"
     ]
    },
    {
     "name": "stderr",
     "output_type": "stream",
     "text": [
      "Episode 442:  88%|██████████████████████████████████████████████▊      | 442/500"
     ]
    },
    {
     "name": "stdout",
     "output_type": "stream",
     "text": [
      "Actor loss=  -0.0 Critic loss=  4.2442 Return=  198.0\n"
     ]
    },
    {
     "name": "stderr",
     "output_type": "stream",
     "text": [
      "Episode 443:  89%|██████████████████████████████████████████████▉      | 443/500"
     ]
    },
    {
     "name": "stdout",
     "output_type": "stream",
     "text": [
      "Actor loss=  -0.0 Critic loss=  0.3121 Return=  206.0\n"
     ]
    },
    {
     "name": "stderr",
     "output_type": "stream",
     "text": [
      "Episode 444:  89%|███████████████████████████████████████████████      | 444/500"
     ]
    },
    {
     "name": "stdout",
     "output_type": "stream",
     "text": [
      "Actor loss=  0.0 Critic loss=  6.0861 Return=  135.0\n"
     ]
    },
    {
     "name": "stderr",
     "output_type": "stream",
     "text": [
      "Episode 445:  89%|███████████████████████████████████████████████▏     | 445/500"
     ]
    },
    {
     "name": "stdout",
     "output_type": "stream",
     "text": [
      "Actor loss=  -0.0 Critic loss=  6.6001 Return=  200.0\n"
     ]
    },
    {
     "name": "stderr",
     "output_type": "stream",
     "text": [
      "Episode 446:  89%|███████████████████████████████████████████████▎     | 446/500"
     ]
    },
    {
     "name": "stdout",
     "output_type": "stream",
     "text": [
      "Actor loss=  0.0023 Critic loss=  45.9506 Return=  315.0\n"
     ]
    },
    {
     "name": "stderr",
     "output_type": "stream",
     "text": [
      "Episode 447:  89%|███████████████████████████████████████████████▍     | 447/500"
     ]
    },
    {
     "name": "stdout",
     "output_type": "stream",
     "text": [
      "Actor loss=  -4.3066 Critic loss=  1316.1356 Return=  256.0\n"
     ]
    },
    {
     "name": "stderr",
     "output_type": "stream",
     "text": [
      "Episode 448:  90%|███████████████████████████████████████████████▍     | 448/500"
     ]
    },
    {
     "name": "stdout",
     "output_type": "stream",
     "text": [
      "Actor loss=  -0.2147 Critic loss=  307.2173 Return=  279.0\n"
     ]
    },
    {
     "name": "stderr",
     "output_type": "stream",
     "text": [
      "Episode 449:  90%|███████████████████████████████████████████████▌     | 449/500"
     ]
    },
    {
     "name": "stdout",
     "output_type": "stream",
     "text": [
      "Actor loss=  -0.0021 Critic loss=  10.5673 Return=  304.0\n"
     ]
    },
    {
     "name": "stderr",
     "output_type": "stream",
     "text": [
      "Episode 450:  90%|███████████████████████████████████████████████▋     | 450/500"
     ]
    },
    {
     "name": "stdout",
     "output_type": "stream",
     "text": [
      "Actor loss=  0.231 Critic loss=  22.0234 Return=  276.0\n"
     ]
    },
    {
     "name": "stderr",
     "output_type": "stream",
     "text": [
      "Episode 451:  90%|███████████████████████████████████████████████▊     | 451/500"
     ]
    },
    {
     "name": "stdout",
     "output_type": "stream",
     "text": [
      "Actor loss=  -0.0 Critic loss=  255.7655 Return=  248.0\n"
     ]
    },
    {
     "name": "stderr",
     "output_type": "stream",
     "text": [
      "Episode 452:  90%|███████████████████████████████████████████████▉     | 452/500"
     ]
    },
    {
     "name": "stdout",
     "output_type": "stream",
     "text": [
      "Actor loss=  0.0 Critic loss=  3.4891 Return=  254.0\n"
     ]
    },
    {
     "name": "stderr",
     "output_type": "stream",
     "text": [
      "Episode 453:  91%|████████████████████████████████████████████████     | 453/500"
     ]
    },
    {
     "name": "stdout",
     "output_type": "stream",
     "text": [
      "Actor loss=  0.0006 Critic loss=  0.7384 Return=  199.0\n"
     ]
    },
    {
     "name": "stderr",
     "output_type": "stream",
     "text": [
      "Episode 454:  91%|████████████████████████████████████████████████     | 454/500"
     ]
    },
    {
     "name": "stdout",
     "output_type": "stream",
     "text": [
      "Actor loss=  -0.2306 Critic loss=  38.126 Return=  122.0\n"
     ]
    },
    {
     "name": "stderr",
     "output_type": "stream",
     "text": [
      "Episode 455:  91%|████████████████████████████████████████████████▏    | 455/500"
     ]
    },
    {
     "name": "stdout",
     "output_type": "stream",
     "text": [
      "Actor loss=  -0.1435 Critic loss=  22.2913 Return=  118.0\n"
     ]
    },
    {
     "name": "stderr",
     "output_type": "stream",
     "text": [
      "Episode 456:  91%|████████████████████████████████████████████████▎    | 456/500"
     ]
    },
    {
     "name": "stdout",
     "output_type": "stream",
     "text": [
      "Actor loss=  -0.0083 Critic loss=  90.3616 Return=  102.0\n"
     ]
    },
    {
     "name": "stderr",
     "output_type": "stream",
     "text": [
      "Episode 457:  91%|████████████████████████████████████████████████▍    | 457/500"
     ]
    },
    {
     "name": "stdout",
     "output_type": "stream",
     "text": [
      "Actor loss=  0.5283 Critic loss=  346.6431 Return=  123.0\n"
     ]
    },
    {
     "name": "stderr",
     "output_type": "stream",
     "text": [
      "Episode 458:  92%|████████████████████████████████████████████████▌    | 458/500"
     ]
    },
    {
     "name": "stdout",
     "output_type": "stream",
     "text": [
      "Actor loss=  1.4804 Critic loss=  162.0972 Return=  157.0\n"
     ]
    },
    {
     "name": "stderr",
     "output_type": "stream",
     "text": [
      "Episode 459:  92%|████████████████████████████████████████████████▋    | 459/500"
     ]
    },
    {
     "name": "stdout",
     "output_type": "stream",
     "text": [
      "Actor loss=  0.0165 Critic loss=  6.966 Return=  146.0\n"
     ]
    },
    {
     "name": "stderr",
     "output_type": "stream",
     "text": [
      "Episode 460:  92%|████████████████████████████████████████████████▊    | 460/500"
     ]
    },
    {
     "name": "stdout",
     "output_type": "stream",
     "text": [
      "Actor loss=  -0.0193 Critic loss=  14.3283 Return=  145.0\n"
     ]
    },
    {
     "name": "stderr",
     "output_type": "stream",
     "text": [
      "Episode 461:  92%|████████████████████████████████████████████████▊    | 461/500"
     ]
    },
    {
     "name": "stdout",
     "output_type": "stream",
     "text": [
      "Actor loss=  0.0172 Critic loss=  0.4973 Return=  147.0\n"
     ]
    },
    {
     "name": "stderr",
     "output_type": "stream",
     "text": [
      "Episode 462:  92%|████████████████████████████████████████████████▉    | 462/500"
     ]
    },
    {
     "name": "stdout",
     "output_type": "stream",
     "text": [
      "Actor loss=  0.004 Critic loss=  2.0978 Return=  157.0\n"
     ]
    },
    {
     "name": "stderr",
     "output_type": "stream",
     "text": [
      "Episode 463:  93%|█████████████████████████████████████████████████    | 463/500"
     ]
    },
    {
     "name": "stdout",
     "output_type": "stream",
     "text": [
      "Actor loss=  -0.0586 Critic loss=  60.3524 Return=  124.0\n"
     ]
    },
    {
     "name": "stderr",
     "output_type": "stream",
     "text": [
      "Episode 464:  93%|█████████████████████████████████████████████████▏   | 464/500"
     ]
    },
    {
     "name": "stdout",
     "output_type": "stream",
     "text": [
      "Actor loss=  0.0618 Critic loss=  3.0776 Return=  116.0\n"
     ]
    },
    {
     "name": "stderr",
     "output_type": "stream",
     "text": [
      "Episode 465:  93%|█████████████████████████████████████████████████▎   | 465/500"
     ]
    },
    {
     "name": "stdout",
     "output_type": "stream",
     "text": [
      "Actor loss=  0.1038 Critic loss=  162.2254 Return=  147.0\n"
     ]
    },
    {
     "name": "stderr",
     "output_type": "stream",
     "text": [
      "Episode 466:  93%|█████████████████████████████████████████████████▍   | 466/500"
     ]
    },
    {
     "name": "stdout",
     "output_type": "stream",
     "text": [
      "Actor loss=  -0.5673 Critic loss=  95.778 Return=  165.0\n"
     ]
    },
    {
     "name": "stderr",
     "output_type": "stream",
     "text": [
      "Episode 467:  93%|█████████████████████████████████████████████████▌   | 467/500"
     ]
    },
    {
     "name": "stdout",
     "output_type": "stream",
     "text": [
      "Actor loss=  -0.0188 Critic loss=  36.4628 Return=  129.0\n"
     ]
    },
    {
     "name": "stderr",
     "output_type": "stream",
     "text": [
      "Episode 468:  94%|█████████████████████████████████████████████████▌   | 468/500"
     ]
    },
    {
     "name": "stdout",
     "output_type": "stream",
     "text": [
      "Actor loss=  0.4388 Critic loss=  0.5356 Return=  140.0\n"
     ]
    },
    {
     "name": "stderr",
     "output_type": "stream",
     "text": [
      "Episode 469:  94%|█████████████████████████████████████████████████▋   | 469/500"
     ]
    },
    {
     "name": "stdout",
     "output_type": "stream",
     "text": [
      "Actor loss=  4.4213 Critic loss=  16.2889 Return=  184.0\n"
     ]
    },
    {
     "name": "stderr",
     "output_type": "stream",
     "text": [
      "Episode 470:  94%|█████████████████████████████████████████████████▊   | 470/500"
     ]
    },
    {
     "name": "stdout",
     "output_type": "stream",
     "text": [
      "Actor loss=  -0.0638 Critic loss=  0.812 Return=  263.0\n"
     ]
    },
    {
     "name": "stderr",
     "output_type": "stream",
     "text": [
      "Episode 471:  94%|█████████████████████████████████████████████████▉   | 471/500"
     ]
    },
    {
     "name": "stdout",
     "output_type": "stream",
     "text": [
      "Actor loss=  -0.0 Critic loss=  0.0163 Return=  240.0\n"
     ]
    },
    {
     "name": "stderr",
     "output_type": "stream",
     "text": [
      "Episode 472:  94%|██████████████████████████████████████████████████   | 472/500"
     ]
    },
    {
     "name": "stdout",
     "output_type": "stream",
     "text": [
      "Actor loss=  0.002 Critic loss=  1.2044 Return=  146.0\n"
     ]
    },
    {
     "name": "stderr",
     "output_type": "stream",
     "text": [
      "Episode 473:  95%|██████████████████████████████████████████████████▏  | 473/500"
     ]
    },
    {
     "name": "stdout",
     "output_type": "stream",
     "text": [
      "Actor loss=  -0.0 Critic loss=  24.0316 Return=  125.0\n"
     ]
    },
    {
     "name": "stderr",
     "output_type": "stream",
     "text": [
      "Episode 474:  95%|██████████████████████████████████████████████████▏  | 474/500"
     ]
    },
    {
     "name": "stdout",
     "output_type": "stream",
     "text": [
      "Actor loss=  0.0 Critic loss=  40.5794 Return=  140.0\n"
     ]
    },
    {
     "name": "stderr",
     "output_type": "stream",
     "text": [
      "Episode 475:  95%|██████████████████████████████████████████████████▎  | 475/500"
     ]
    },
    {
     "name": "stdout",
     "output_type": "stream",
     "text": [
      "Actor loss=  -0.0 Critic loss=  2.3112 Return=  215.0\n"
     ]
    },
    {
     "name": "stderr",
     "output_type": "stream",
     "text": [
      "Episode 476:  95%|██████████████████████████████████████████████████▍  | 476/500"
     ]
    },
    {
     "name": "stdout",
     "output_type": "stream",
     "text": [
      "Actor loss=  0.0 Critic loss=  0.4165 Return=  377.0\n"
     ]
    },
    {
     "name": "stderr",
     "output_type": "stream",
     "text": [
      "Episode 477:  95%|██████████████████████████████████████████████████▌  | 477/500"
     ]
    },
    {
     "name": "stdout",
     "output_type": "stream",
     "text": [
      "Actor loss=  -3.5319 Critic loss=  207.5851 Return=  466.0\n"
     ]
    },
    {
     "name": "stderr",
     "output_type": "stream",
     "text": [
      "Episode 478:  96%|██████████████████████████████████████████████████▋  | 478/500"
     ]
    },
    {
     "name": "stdout",
     "output_type": "stream",
     "text": [
      "Actor loss=  0.0 Critic loss=  1.3653 Return=  190.0\n"
     ]
    },
    {
     "name": "stderr",
     "output_type": "stream",
     "text": [
      "Episode 479:  96%|██████████████████████████████████████████████████▊  | 479/500"
     ]
    },
    {
     "name": "stdout",
     "output_type": "stream",
     "text": [
      "Actor loss=  -0.0 Critic loss=  78.9064 Return=  149.0\n"
     ]
    },
    {
     "name": "stderr",
     "output_type": "stream",
     "text": [
      "Episode 480:  96%|██████████████████████████████████████████████████▉  | 480/500"
     ]
    },
    {
     "name": "stdout",
     "output_type": "stream",
     "text": [
      "Actor loss=  0.0 Critic loss=  36.5463 Return=  136.0\n"
     ]
    },
    {
     "name": "stderr",
     "output_type": "stream",
     "text": [
      "Episode 481:  96%|██████████████████████████████████████████████████▉  | 481/500"
     ]
    },
    {
     "name": "stdout",
     "output_type": "stream",
     "text": [
      "Actor loss=  0.0 Critic loss=  6.6721 Return=  139.0\n"
     ]
    },
    {
     "name": "stderr",
     "output_type": "stream",
     "text": [
      "Episode 482:  96%|███████████████████████████████████████████████████  | 482/500"
     ]
    },
    {
     "name": "stdout",
     "output_type": "stream",
     "text": [
      "Actor loss=  -0.0 Critic loss=  9.2629 Return=  167.0\n"
     ]
    },
    {
     "name": "stderr",
     "output_type": "stream",
     "text": [
      "Episode 483:  97%|███████████████████████████████████████████████████▏ | 483/500"
     ]
    },
    {
     "name": "stdout",
     "output_type": "stream",
     "text": [
      "Actor loss=  0.0 Critic loss=  1.385 Return=  132.0\n"
     ]
    },
    {
     "name": "stderr",
     "output_type": "stream",
     "text": [
      "Episode 484:  97%|███████████████████████████████████████████████████▎ | 484/500"
     ]
    },
    {
     "name": "stdout",
     "output_type": "stream",
     "text": [
      "Actor loss=  0.0 Critic loss=  3.8902 Return=  149.0\n"
     ]
    },
    {
     "name": "stderr",
     "output_type": "stream",
     "text": [
      "Episode 485:  97%|███████████████████████████████████████████████████▍ | 485/500"
     ]
    },
    {
     "name": "stdout",
     "output_type": "stream",
     "text": [
      "Actor loss=  -0.0 Critic loss=  0.1192 Return=  200.0\n"
     ]
    },
    {
     "name": "stderr",
     "output_type": "stream",
     "text": [
      "Episode 486:  97%|███████████████████████████████████████████████████▌ | 486/500"
     ]
    },
    {
     "name": "stdout",
     "output_type": "stream",
     "text": [
      "Actor loss=  0.0532 Critic loss=  0.7845 Return=  160.0\n"
     ]
    },
    {
     "name": "stderr",
     "output_type": "stream",
     "text": [
      "Episode 487:  97%|███████████████████████████████████████████████████▌ | 487/500"
     ]
    },
    {
     "name": "stdout",
     "output_type": "stream",
     "text": [
      "Actor loss=  -0.0086 Critic loss=  9.0833 Return=  203.0\n"
     ]
    },
    {
     "name": "stderr",
     "output_type": "stream",
     "text": [
      "Episode 488:  98%|███████████████████████████████████████████████████▋ | 488/500"
     ]
    },
    {
     "name": "stdout",
     "output_type": "stream",
     "text": [
      "Actor loss=  -3.3712 Critic loss=  1424.196 Return=  500.0\n"
     ]
    },
    {
     "name": "stderr",
     "output_type": "stream",
     "text": [
      "Episode 489:  98%|███████████████████████████████████████████████████▊ | 489/500"
     ]
    },
    {
     "name": "stdout",
     "output_type": "stream",
     "text": [
      "Actor loss=  0.0 Critic loss=  20.3339 Return=  497.0\n"
     ]
    },
    {
     "name": "stderr",
     "output_type": "stream",
     "text": [
      "Episode 490:  98%|███████████████████████████████████████████████████▉ | 490/500"
     ]
    },
    {
     "name": "stdout",
     "output_type": "stream",
     "text": [
      "Actor loss=  1.6011 Critic loss=  905.092 Return=  371.0\n"
     ]
    },
    {
     "name": "stderr",
     "output_type": "stream",
     "text": [
      "Episode 491:  98%|████████████████████████████████████████████████████ | 491/500"
     ]
    },
    {
     "name": "stdout",
     "output_type": "stream",
     "text": [
      "Actor loss=  2.6203 Critic loss=  98.0421 Return=  224.0\n"
     ]
    },
    {
     "name": "stderr",
     "output_type": "stream",
     "text": [
      "Episode 492:  98%|████████████████████████████████████████████████████▏| 492/500"
     ]
    },
    {
     "name": "stdout",
     "output_type": "stream",
     "text": [
      "Actor loss=  2.4523 Critic loss=  5.4607 Return=  167.0\n"
     ]
    },
    {
     "name": "stderr",
     "output_type": "stream",
     "text": [
      "Episode 493:  99%|████████████████████████████████████████████████████▎| 493/500"
     ]
    },
    {
     "name": "stdout",
     "output_type": "stream",
     "text": [
      "Actor loss=  -0.8075 Critic loss=  78.8013 Return=  111.0\n"
     ]
    },
    {
     "name": "stderr",
     "output_type": "stream",
     "text": [
      "Episode 494:  99%|████████████████████████████████████████████████████▎| 494/500"
     ]
    },
    {
     "name": "stdout",
     "output_type": "stream",
     "text": [
      "Actor loss=  -0.076 Critic loss=  4.9938 Return=  103.0\n"
     ]
    },
    {
     "name": "stderr",
     "output_type": "stream",
     "text": [
      "Episode 495:  99%|████████████████████████████████████████████████████▍| 495/500"
     ]
    },
    {
     "name": "stdout",
     "output_type": "stream",
     "text": [
      "Actor loss=  -0.0004 Critic loss=  0.4057 Return=  114.0\n"
     ]
    },
    {
     "name": "stderr",
     "output_type": "stream",
     "text": [
      "Episode 496:  99%|████████████████████████████████████████████████████▌| 496/500"
     ]
    },
    {
     "name": "stdout",
     "output_type": "stream",
     "text": [
      "Actor loss=  0.0074 Critic loss=  7.724 Return=  125.0\n"
     ]
    },
    {
     "name": "stderr",
     "output_type": "stream",
     "text": [
      "Episode 497:  99%|████████████████████████████████████████████████████▋| 497/500"
     ]
    },
    {
     "name": "stdout",
     "output_type": "stream",
     "text": [
      "Actor loss=  0.0087 Critic loss=  59.5559 Return=  178.0\n"
     ]
    },
    {
     "name": "stderr",
     "output_type": "stream",
     "text": [
      "Episode 498: 100%|████████████████████████████████████████████████████▊| 498/500"
     ]
    },
    {
     "name": "stdout",
     "output_type": "stream",
     "text": [
      "Actor loss=  -0.0108 Critic loss=  0.9559 Return=  178.0\n"
     ]
    },
    {
     "name": "stderr",
     "output_type": "stream",
     "text": [
      "Episode 499: 100%|████████████████████████████████████████████████████▉| 499/500"
     ]
    },
    {
     "name": "stdout",
     "output_type": "stream",
     "text": [
      "Actor loss=  -3.3495 Critic loss=  4.6077 Return=  174.0\n"
     ]
    },
    {
     "name": "stderr",
     "output_type": "stream",
     "text": [
      "Episode 500: 100%|█████████████████████████████████████████████████████| 500/500"
     ]
    },
    {
     "name": "stdout",
     "output_type": "stream",
     "text": [
      "Actor loss=  0.0274 Critic loss=  18.6311 Return=  151.0\n"
     ]
    },
    {
     "name": "stderr",
     "output_type": "stream",
     "text": [
      "\n"
     ]
    }
   ],
   "source": [
    "episode_rewards = []\n",
    "num_episodes=500\n",
    "\n",
    "stats={'actor loss':[], 'critic loss':[], 'return':[]}\n",
    "\n",
    "# Initialize tqdm progress bar\n",
    "pbar = tqdm(total=num_episodes, ncols=80, bar_format='{l_bar}{bar}| {n_fmt}/{total_fmt}')\n",
    "\n",
    "for episode in range(num_episodes):\n",
    "    done = False\n",
    "    total_reward = 0\n",
    "    state = env.reset()\n",
    "    env.seed(0)\n",
    "\n",
    "    while not done:\n",
    "        \n",
    "        probs = actor(torch.from_numpy(state).float())\n",
    "        dist = torch.distributions.Categorical(probs=probs)\n",
    "        action = dist.sample()\n",
    "        \n",
    "        next_state, reward, done, info = env.step(action.detach().data.numpy())\n",
    "\n",
    "        # Compute the advantage function\n",
    "        advantage = reward + (1-done)*gamma*critic(torch.from_numpy(next_state).float()) - critic(torch.from_numpy(state).float())        \n",
    "\n",
    "        # Update the reward and the state                   \n",
    "        total_reward += reward\n",
    "        state = next_state\n",
    "\n",
    "        # Calculate the critic and the actor losses\n",
    "        critic_loss = advantage.pow(2).mean()\n",
    "        adam_critic.zero_grad()\n",
    "        critic_loss.backward()\n",
    "        adam_critic.step()\n",
    "\n",
    "        actor_loss = -dist.log_prob(action)*advantage.detach()\n",
    "        \n",
    "        adam_actor.zero_grad()\n",
    "        actor_loss.backward()\n",
    "        adam_actor.step()\n",
    "        \n",
    "    stats['actor loss'].append(actor_loss)\n",
    "    stats['critic loss'].append(critic_loss)\n",
    "    stats['return'].append(total_reward)\n",
    "    print('Actor loss= ', round(stats['actor loss'][episode].item(), 4), 'Critic loss= ', round(stats['critic loss'][episode].item(), 4), 'Return= ', stats['return'][episode])\n",
    "\n",
    "    # Update tqdm progress bar\n",
    "    pbar.set_description(f\"Episode {episode + 1}\")\n",
    "    pbar.set_postfix({\"Reward\": episode_rewards})\n",
    "    pbar.update(1)\n",
    "            \n",
    "    episode_rewards.append(total_reward)\n",
    "\n",
    "# Close tqdm progress bar\n",
    "pbar.close()"
   ]
  },
  {
   "cell_type": "markdown",
   "metadata": {},
   "source": [
    "### Visualize the episode rewards"
   ]
  },
  {
   "cell_type": "code",
   "execution_count": 8,
   "metadata": {},
   "outputs": [
    {
     "data": {
      "image/png": "[encoded data removed]",
      "text/plain": [
       "<Figure size 1200x600 with 1 Axes>"
      ]
     },
     "metadata": {},
     "output_type": "display_data"
    }
   ],
   "source": [
    "# Create a DataFrame for episode rewards\n",
    "data = pd.DataFrame({\"Episode\": range(1, num_episodes + 1), \"Reward\": episode_rewards})\n",
    "\n",
    "plt.figure(figsize=(12,6))\n",
    "# Plot episode rewards as a scatter plot with trend line using seaborn\n",
    "sns.set(style=\"darkgrid\")\n",
    "sns.regplot(data=data, x=\"Episode\", y=\"Reward\", scatter_kws={\"alpha\": 0.5})\n",
    "plt.xlabel(\"Episode\")\n",
    "plt.ylabel(\"Reward\")\n",
    "plt.title(\"Episode Rewards with Trend Line\")\n",
    "plt.show()"
   ]
  },
  {
   "cell_type": "markdown",
   "metadata": {},
   "source": [
    "### Test the trained agent"
   ]
  },
  {
   "cell_type": "code",
   "execution_count": 9,
   "metadata": {},
   "outputs": [
    {
     "name": "stdout",
     "output_type": "stream",
     "text": [
      "Total reward: 152.0\n"
     ]
    }
   ],
   "source": [
    "state= env.reset()\n",
    "done=False\n",
    "total_reward=0\n",
    "\n",
    "while not done:\n",
    "    action = actor(torch.from_numpy(state).float())\n",
    "    dist = torch.distributions.Categorical(probs=action)\n",
    "    action = dist.sample()\n",
    "    next_state, reward, done, info = env.step(action.detach().numpy())\n",
    "    state = next_state          \n",
    "    # env.render()\n",
    "    total_reward+=reward\n",
    "\n",
    "print(f\"Total reward: {total_reward}\")\n",
    "env.close()"
   ]
  }
 ],
 "metadata": {
  "kernelspec": {
   "display_name": "ox",
   "language": "python",
   "name": "python3"
  },
  "language_info": {
   "codemirror_mode": {
    "name": "ipython",
    "version": 3
   },
   "file_extension": ".py",
   "mimetype": "text/x-python",
   "name": "python",
   "nbconvert_exporter": "python",
   "pygments_lexer": "ipython3",
   "version": "3.7.12"
  },
  "orig_nbformat": 4
 },
 "nbformat": 4,
 "nbformat_minor": 2
}
